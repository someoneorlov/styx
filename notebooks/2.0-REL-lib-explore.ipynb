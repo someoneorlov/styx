{
 "cells": [
  {
   "cell_type": "code",
   "execution_count": 2,
   "id": "f67281fb-7124-4973-9ff0-8f042f7930fb",
   "metadata": {
    "tags": []
   },
   "outputs": [],
   "source": [
    "import requests\n",
    "import os\n",
    "import time\n",
    "\n",
    "import numpy as np\n",
    "import pandas as pd\n",
    "import matplotlib.pyplot as plt\n",
    "# import seaborn as sns\n",
    "\n",
    "from tqdm.notebook import tqdm\n",
    "\n",
    "# import REL \n",
    "\n",
    "# from http.server import HTTPServer\n",
    "\n",
    "from REL.entity_disambiguation import EntityDisambiguation\n",
    "from REL.mention_detection import MentionDetection \n",
    "from REL.ner import Cmns, load_flair_ner\n",
    "from REL.utils import process_results\n",
    "# from REL.server import make_handler\n",
    "\n",
    "pd.set_option('display.max_columns', None)\n",
    "pd.set_option('display.max_rows', 50)"
   ]
  },
  {
   "cell_type": "code",
   "execution_count": 3,
   "id": "35abc5b5-2f53-4195-8664-f94a6cddb099",
   "metadata": {
    "tags": []
   },
   "outputs": [],
   "source": [
    "def preprocessing(row: pd.Series) -> dict:\n",
    "    processed = {\n",
    "        'title': [row['title'], []], \n",
    "        'article': [row['article'], []]\n",
    "        }\n",
    "    return processed\n",
    "\n",
    "def find_mentions(text, mention_detection, tagger_ner):\n",
    "    mentions_dataset, n_mentions = mention_detection.find_mentions(text, tagger_ner)\n",
    "    return mentions_dataset\n",
    "\n",
    "def disambiguate_entities(mentions_dataset, entity_disambiguation):\n",
    "    predictions, timing = entity_disambiguation.predict(mentions_dataset)\n",
    "    return predictions\n",
    "\n",
    "def main(dataset, base_url, wiki_version, model_alias, tagger, df_name):\n",
    "\n",
    "    plug = [{\n",
    "        'mention': 'None',\n",
    "        'context': ('None'),\n",
    "        'candidates': [['', 0.0]],\n",
    "        'gold': [''],\n",
    "        'pos': 0,\n",
    "        'sent_idx': 0,\n",
    "        'ngram': '',\n",
    "        'end_pos': 0,\n",
    "        'sentence': '',\n",
    "        'conf_md': 0.0,\n",
    "        'tag': '',\n",
    "        'sent': ''\n",
    "        }]\n",
    "\n",
    "    mention_detection = MentionDetection(base_url, wiki_version)\n",
    "    tagger = tagger\n",
    "    \n",
    "    config = {\n",
    "        \"mode\": \"eval\",\n",
    "        \"model_path\": model_alias,\n",
    "    }\n",
    "    entity_disambiguation = EntityDisambiguation(base_url, wiki_version, config)\n",
    "\n",
    "    annotated_articles = []\n",
    "    \n",
    "    for index, row in tqdm(dataset.iterrows()):\n",
    "\n",
    "        processed_row = preprocessing(row)\n",
    "\n",
    "        # Perform mention detection on headline and body text\n",
    "        mentions_dataset = find_mentions(processed_row, mention_detection, tagger)\n",
    "        \n",
    "        # Insert plug if title or article mentions are empty\n",
    "        if not mentions_dataset['title']:\n",
    "            mentions_dataset['title'] = plug\n",
    "        if not mentions_dataset['article']:\n",
    "            mentions_dataset['article'] = plug\n",
    "\n",
    "        # Disambiguate detected mentions\n",
    "        mentions_disambiguated = disambiguate_entities(mentions_dataset, entity_disambiguation)\n",
    "        result = process_results(mentions_dataset, mentions_disambiguated, processed_row)\n",
    "\n",
    "        # Filter mentions with the ORG tag\n",
    "        headline_mentions = [mention for mention in result['title'] if mention[-1] == 'ORG']\n",
    "        body_text_mentions = [mention for mention in result['article'] if mention[-1] == 'ORG']\n",
    "\n",
    "        # Check if any named entities were found in the headline\n",
    "        if not headline_mentions or not mentions_disambiguated['title']:\n",
    "            continue\n",
    "\n",
    "        # Mark salient entities\n",
    "        salient_entities = []\n",
    "        for body_entity in body_text_mentions:\n",
    "            if body_entity[3] in [headline_entity[3] for headline_entity in headline_mentions]:\n",
    "                salient_entities.append(body_entity)\n",
    "\n",
    "        # Check if any named entities were found in the body text\n",
    "        if not body_text_mentions or not mentions_disambiguated['article']:\n",
    "            continue\n",
    "        \n",
    "        salient_entities_list = list(set([entity[3] for entity in salient_entities]))\n",
    "        # Save the annotated article\n",
    "        annotated_articles.append({\n",
    "            'headline': processed_row['title'][0],\n",
    "            'body_text': processed_row['article'][0],\n",
    "            'headline_mentions': headline_mentions,\n",
    "            'body_text_mentions': body_text_mentions,\n",
    "            'salient_entities': salient_entities,\n",
    "            'salient_entities_list': salient_entities_list,\n",
    "            \n",
    "        })\n",
    "\n",
    "        # Create a new DataFrame from the annotated_articles list\n",
    "        annotated_articles_df = pd.DataFrame(annotated_articles)\n",
    "    \n",
    "    return annotated_articles_df\n",
    "\n",
    "    # Save the annotated articles as a CSV file\n",
    "    annotated_articles_df.to_csv(df_name, index=False)"
   ]
  },
  {
   "cell_type": "code",
   "execution_count": 4,
   "id": "0b24c1b3-a895-44ca-a63b-1ddd7ec3cf79",
   "metadata": {
    "tags": []
   },
   "outputs": [],
   "source": [
    "base_url = '/home/ec2-user/environments/styx_env/styx/data/REL/'\n",
    "wiki_version = 'wiki_2019'\n",
    "model_alias = 'ed-wiki-2019'"
   ]
  },
  {
   "cell_type": "code",
   "execution_count": 7,
   "id": "5c60fc9e-d8e3-4ac0-9c62-f660680b6303",
   "metadata": {
    "tags": []
   },
   "outputs": [],
   "source": [
    "df = pd.read_csv('../data/external/concatenated/train_news_raw.csv')"
   ]
  },
  {
   "cell_type": "code",
   "execution_count": 8,
   "id": "8f204943-22cb-4bcf-833f-63145d95d1ed",
   "metadata": {
    "tags": []
   },
   "outputs": [
    {
     "data": {
      "text/html": [
       "<div>\n",
       "<style scoped>\n",
       "    .dataframe tbody tr th:only-of-type {\n",
       "        vertical-align: middle;\n",
       "    }\n",
       "\n",
       "    .dataframe tbody tr th {\n",
       "        vertical-align: top;\n",
       "    }\n",
       "\n",
       "    .dataframe thead th {\n",
       "        text-align: right;\n",
       "    }\n",
       "</style>\n",
       "<table border=\"1\" class=\"dataframe\">\n",
       "  <thead>\n",
       "    <tr style=\"text-align: right;\">\n",
       "      <th></th>\n",
       "      <th>title</th>\n",
       "      <th>article</th>\n",
       "    </tr>\n",
       "  </thead>\n",
       "  <tbody>\n",
       "    <tr>\n",
       "      <th>0</th>\n",
       "      <td>House Intelligence Committee Democratic memo d...</td>\n",
       "      <td>February 24, 2018 / 9:39 PM / Updated 10 minut...</td>\n",
       "    </tr>\n",
       "    <tr>\n",
       "      <th>1</th>\n",
       "      <td>BRIEF-Solon Eiendom: UFI To Hold 4.8 Pct In Co</td>\n",
       "      <td>April 9 (Reuters) - SOLON EIENDOM ASA:\\n* UFI ...</td>\n",
       "    </tr>\n",
       "    <tr>\n",
       "      <th>2</th>\n",
       "      <td>Olympics-Speedskating-Women's team pursuit 6 l...</td>\n",
       "      <td>Feb 21 (Gracenote) - Olympic speedskating wome...</td>\n",
       "    </tr>\n",
       "    <tr>\n",
       "      <th>3</th>\n",
       "      <td>Paulson says backs strong U.S. dollar</td>\n",
       "      <td>WASHINGTON  (Reuters) - U.S. Treasury Secretar...</td>\n",
       "    </tr>\n",
       "    <tr>\n",
       "      <th>4</th>\n",
       "      <td>Hope Hicks, Trump’s Communications Director, t...</td>\n",
       "      <td>WASHINGTON—Hope Hicks, White House communicati...</td>\n",
       "    </tr>\n",
       "  </tbody>\n",
       "</table>\n",
       "</div>"
      ],
      "text/plain": [
       "                                               title   \n",
       "0  House Intelligence Committee Democratic memo d...  \\\n",
       "1     BRIEF-Solon Eiendom: UFI To Hold 4.8 Pct In Co   \n",
       "2  Olympics-Speedskating-Women's team pursuit 6 l...   \n",
       "3              Paulson says backs strong U.S. dollar   \n",
       "4  Hope Hicks, Trump’s Communications Director, t...   \n",
       "\n",
       "                                             article  \n",
       "0  February 24, 2018 / 9:39 PM / Updated 10 minut...  \n",
       "1  April 9 (Reuters) - SOLON EIENDOM ASA:\\n* UFI ...  \n",
       "2  Feb 21 (Gracenote) - Olympic speedskating wome...  \n",
       "3  WASHINGTON  (Reuters) - U.S. Treasury Secretar...  \n",
       "4  WASHINGTON—Hope Hicks, White House communicati...  "
      ]
     },
     "execution_count": 8,
     "metadata": {},
     "output_type": "execute_result"
    }
   ],
   "source": [
    "df = df.sample(frac=1, random_state=42).reset_index(drop=True).head(100)\n",
    "df.head()"
   ]
  },
  {
   "cell_type": "code",
   "execution_count": 9,
   "id": "f9ab2aeb-c447-4c08-b70e-9d07b6f4b913",
   "metadata": {
    "tags": []
   },
   "outputs": [
    {
     "data": {
      "text/html": [
       "<div>\n",
       "<style scoped>\n",
       "    .dataframe tbody tr th:only-of-type {\n",
       "        vertical-align: middle;\n",
       "    }\n",
       "\n",
       "    .dataframe tbody tr th {\n",
       "        vertical-align: top;\n",
       "    }\n",
       "\n",
       "    .dataframe thead th {\n",
       "        text-align: right;\n",
       "    }\n",
       "</style>\n",
       "<table border=\"1\" class=\"dataframe\">\n",
       "  <thead>\n",
       "    <tr style=\"text-align: right;\">\n",
       "      <th></th>\n",
       "      <th>title</th>\n",
       "      <th>article</th>\n",
       "    </tr>\n",
       "  </thead>\n",
       "  <tbody>\n",
       "  </tbody>\n",
       "</table>\n",
       "</div>"
      ],
      "text/plain": [
       "Empty DataFrame\n",
       "Columns: [title, article]\n",
       "Index: []"
      ]
     },
     "execution_count": 9,
     "metadata": {},
     "output_type": "execute_result"
    }
   ],
   "source": [
    "df[df['title'].isna()]"
   ]
  },
  {
   "cell_type": "code",
   "execution_count": 10,
   "id": "51e42738-66b0-4202-a481-f04b55f674f7",
   "metadata": {
    "tags": []
   },
   "outputs": [
    {
     "data": {
      "text/html": [
       "<div>\n",
       "<style scoped>\n",
       "    .dataframe tbody tr th:only-of-type {\n",
       "        vertical-align: middle;\n",
       "    }\n",
       "\n",
       "    .dataframe tbody tr th {\n",
       "        vertical-align: top;\n",
       "    }\n",
       "\n",
       "    .dataframe thead th {\n",
       "        text-align: right;\n",
       "    }\n",
       "</style>\n",
       "<table border=\"1\" class=\"dataframe\">\n",
       "  <thead>\n",
       "    <tr style=\"text-align: right;\">\n",
       "      <th></th>\n",
       "      <th>title</th>\n",
       "      <th>article</th>\n",
       "    </tr>\n",
       "  </thead>\n",
       "  <tbody>\n",
       "  </tbody>\n",
       "</table>\n",
       "</div>"
      ],
      "text/plain": [
       "Empty DataFrame\n",
       "Columns: [title, article]\n",
       "Index: []"
      ]
     },
     "execution_count": 10,
     "metadata": {},
     "output_type": "execute_result"
    }
   ],
   "source": [
    "df[df['article'].isna()]"
   ]
  },
  {
   "cell_type": "code",
   "execution_count": 11,
   "id": "ae21e33d-8cd7-4781-81f6-c4ca97ed943e",
   "metadata": {
    "tags": []
   },
   "outputs": [
    {
     "name": "stdout",
     "output_type": "stream",
     "text": [
      "2023-04-20 07:32:42,111 SequenceTagger predicts: Dictionary with 20 tags: <unk>, O, S-ORG, S-MISC, B-PER, E-PER, S-LOC, B-ORG, E-ORG, I-PER, S-PER, B-MISC, I-MISC, E-MISC, I-ORG, B-LOC, E-LOC, I-LOC, <START>, <STOP>\n"
     ]
    }
   ],
   "source": [
    "tagger_ner = load_flair_ner(\"ner-fast\")\n",
    "tagger_ngram = Cmns(base_url, wiki_version, n=5)"
   ]
  },
  {
   "cell_type": "code",
   "execution_count": 12,
   "id": "bbc49508-c30a-4872-8e74-e99d0519d52a",
   "metadata": {
    "tags": []
   },
   "outputs": [
    {
     "name": "stdout",
     "output_type": "stream",
     "text": [
      "Loading model from given path: /home/ec2-user/.rel_cache/ed-wiki-2019/model\n"
     ]
    },
    {
     "name": "stderr",
     "output_type": "stream",
     "text": [
      "/home/ec2-user/environments/styx_env/lib/python3.10/site-packages/sklearn/base.py:318: UserWarning: Trying to unpickle estimator LogisticRegression from version 0.23.1 when using version 1.2.2. This might lead to breaking code or invalid results. Use at your own risk. For more info please refer to:\n",
      "https://scikit-learn.org/stable/model_persistence.html#security-maintainability-limitations\n",
      "  warnings.warn(\n"
     ]
    },
    {
     "data": {
      "application/vnd.jupyter.widget-view+json": {
       "model_id": "753c15a8e5934c32b9cc2be9fc71fe3e",
       "version_major": 2,
       "version_minor": 0
      },
      "text/plain": [
       "0it [00:00, ?it/s]"
      ]
     },
     "metadata": {},
     "output_type": "display_data"
    },
    {
     "name": "stdout",
     "output_type": "stream",
     "text": [
      "CPU times: user 7min 30s, sys: 37.3 s, total: 8min 7s\n",
      "Wall time: 1min 39s\n"
     ]
    }
   ],
   "source": [
    "%%time\n",
    "\n",
    "t = main(df, base_url, wiki_version, model_alias, tagger_ner, '../data/interim/annotated_articles.csv')"
   ]
  },
  {
   "cell_type": "code",
   "execution_count": 13,
   "id": "09db6055-c358-4f6b-820a-7008ca1fe2cb",
   "metadata": {
    "tags": []
   },
   "outputs": [
    {
     "data": {
      "text/html": [
       "<div>\n",
       "<style scoped>\n",
       "    .dataframe tbody tr th:only-of-type {\n",
       "        vertical-align: middle;\n",
       "    }\n",
       "\n",
       "    .dataframe tbody tr th {\n",
       "        vertical-align: top;\n",
       "    }\n",
       "\n",
       "    .dataframe thead th {\n",
       "        text-align: right;\n",
       "    }\n",
       "</style>\n",
       "<table border=\"1\" class=\"dataframe\">\n",
       "  <thead>\n",
       "    <tr style=\"text-align: right;\">\n",
       "      <th></th>\n",
       "      <th>headline</th>\n",
       "      <th>body_text</th>\n",
       "      <th>headline_mentions</th>\n",
       "      <th>body_text_mentions</th>\n",
       "      <th>salient_entities</th>\n",
       "      <th>salient_entities_list</th>\n",
       "    </tr>\n",
       "  </thead>\n",
       "  <tbody>\n",
       "    <tr>\n",
       "      <th>0</th>\n",
       "      <td>House Intelligence Committee Democratic memo d...</td>\n",
       "      <td>February 24, 2018 / 9:39 PM / Updated 10 minut...</td>\n",
       "      <td>[(0, 28, House Intelligence Committee, United_...</td>\n",
       "      <td>[(53, 28, House Intelligence Committee, United...</td>\n",
       "      <td>[(53, 28, House Intelligence Committee, United...</td>\n",
       "      <td>[United_States_House_Permanent_Select_Committe...</td>\n",
       "    </tr>\n",
       "    <tr>\n",
       "      <th>1</th>\n",
       "      <td>BRIEF-Solon Eiendom: UFI To Hold 4.8 Pct In Co</td>\n",
       "      <td>April 9 (Reuters) - SOLON EIENDOM ASA:\\n* UFI ...</td>\n",
       "      <td>[(21, 3, UFI, Unión_del_Fútbol_del_Interior, 0...</td>\n",
       "      <td>[(41, 3, UFI, Unión_del_Fútbol_del_Interior, 0...</td>\n",
       "      <td>[(41, 3, UFI, Unión_del_Fútbol_del_Interior, 0...</td>\n",
       "      <td>[Unión_del_Fútbol_del_Interior]</td>\n",
       "    </tr>\n",
       "    <tr>\n",
       "      <th>2</th>\n",
       "      <td>Exclusive: ECB eyes seeking capital hike -c.ba...</td>\n",
       "      <td>FRANKFURT  (Reuters) - The European Central Ba...</td>\n",
       "      <td>[(11, 3, ECB, European_Central_Bank, 0.4868450...</td>\n",
       "      <td>[(27, 21, European Central Bank, European_Cent...</td>\n",
       "      <td>[(27, 21, European Central Bank, European_Cent...</td>\n",
       "      <td>[European_Central_Bank]</td>\n",
       "    </tr>\n",
       "    <tr>\n",
       "      <th>3</th>\n",
       "      <td>Honeywell sees 2011 sales up about 5 percent</td>\n",
       "      <td>BOSTON  (Reuters) - Honeywell International In...</td>\n",
       "      <td>[(0, 9, Honeywell, Honeywell, 0.68687716108419...</td>\n",
       "      <td>[(20, 27, Honeywell International Inc, Honeywe...</td>\n",
       "      <td>[(20, 27, Honeywell International Inc, Honeywe...</td>\n",
       "      <td>[Honeywell]</td>\n",
       "    </tr>\n",
       "    <tr>\n",
       "      <th>4</th>\n",
       "      <td>SES Appoints John-Paul Hemingway as CEO of SES...</td>\n",
       "      <td>LUXEMBOURG--(BUSINESS WIRE)-- SES announced to...</td>\n",
       "      <td>[(0, 3, SES, SES_S.A., 0.5685978373761983, 0.5...</td>\n",
       "      <td>[(30, 3, SES, Amazon_Web_Services, 0.473384511...</td>\n",
       "      <td>[(1113, 3, SES, SES_S.A., 0.5744543030627711, ...</td>\n",
       "      <td>[SES_S.A.]</td>\n",
       "    </tr>\n",
       "  </tbody>\n",
       "</table>\n",
       "</div>"
      ],
      "text/plain": [
       "                                            headline   \n",
       "0  House Intelligence Committee Democratic memo d...  \\\n",
       "1     BRIEF-Solon Eiendom: UFI To Hold 4.8 Pct In Co   \n",
       "2  Exclusive: ECB eyes seeking capital hike -c.ba...   \n",
       "3       Honeywell sees 2011 sales up about 5 percent   \n",
       "4  SES Appoints John-Paul Hemingway as CEO of SES...   \n",
       "\n",
       "                                           body_text   \n",
       "0  February 24, 2018 / 9:39 PM / Updated 10 minut...  \\\n",
       "1  April 9 (Reuters) - SOLON EIENDOM ASA:\\n* UFI ...   \n",
       "2  FRANKFURT  (Reuters) - The European Central Ba...   \n",
       "3  BOSTON  (Reuters) - Honeywell International In...   \n",
       "4  LUXEMBOURG--(BUSINESS WIRE)-- SES announced to...   \n",
       "\n",
       "                                   headline_mentions   \n",
       "0  [(0, 28, House Intelligence Committee, United_...  \\\n",
       "1  [(21, 3, UFI, Unión_del_Fútbol_del_Interior, 0...   \n",
       "2  [(11, 3, ECB, European_Central_Bank, 0.4868450...   \n",
       "3  [(0, 9, Honeywell, Honeywell, 0.68687716108419...   \n",
       "4  [(0, 3, SES, SES_S.A., 0.5685978373761983, 0.5...   \n",
       "\n",
       "                                  body_text_mentions   \n",
       "0  [(53, 28, House Intelligence Committee, United...  \\\n",
       "1  [(41, 3, UFI, Unión_del_Fútbol_del_Interior, 0...   \n",
       "2  [(27, 21, European Central Bank, European_Cent...   \n",
       "3  [(20, 27, Honeywell International Inc, Honeywe...   \n",
       "4  [(30, 3, SES, Amazon_Web_Services, 0.473384511...   \n",
       "\n",
       "                                    salient_entities   \n",
       "0  [(53, 28, House Intelligence Committee, United...  \\\n",
       "1  [(41, 3, UFI, Unión_del_Fútbol_del_Interior, 0...   \n",
       "2  [(27, 21, European Central Bank, European_Cent...   \n",
       "3  [(20, 27, Honeywell International Inc, Honeywe...   \n",
       "4  [(1113, 3, SES, SES_S.A., 0.5744543030627711, ...   \n",
       "\n",
       "                               salient_entities_list  \n",
       "0  [United_States_House_Permanent_Select_Committe...  \n",
       "1                    [Unión_del_Fútbol_del_Interior]  \n",
       "2                            [European_Central_Bank]  \n",
       "3                                        [Honeywell]  \n",
       "4                                         [SES_S.A.]  "
      ]
     },
     "execution_count": 13,
     "metadata": {},
     "output_type": "execute_result"
    }
   ],
   "source": [
    "t.head()"
   ]
  },
  {
   "cell_type": "code",
   "execution_count": 14,
   "id": "4a803c47-eeb2-4bdf-b686-5fd67e4b92a2",
   "metadata": {
    "tags": []
   },
   "outputs": [
    {
     "data": {
      "text/html": [
       "<div>\n",
       "<style scoped>\n",
       "    .dataframe tbody tr th:only-of-type {\n",
       "        vertical-align: middle;\n",
       "    }\n",
       "\n",
       "    .dataframe tbody tr th {\n",
       "        vertical-align: top;\n",
       "    }\n",
       "\n",
       "    .dataframe thead th {\n",
       "        text-align: right;\n",
       "    }\n",
       "</style>\n",
       "<table border=\"1\" class=\"dataframe\">\n",
       "  <thead>\n",
       "    <tr style=\"text-align: right;\">\n",
       "      <th></th>\n",
       "      <th>headline</th>\n",
       "      <th>body_text</th>\n",
       "      <th>headline_mentions</th>\n",
       "      <th>body_text_mentions</th>\n",
       "      <th>salient_entities</th>\n",
       "      <th>salient_entities_list</th>\n",
       "    </tr>\n",
       "  </thead>\n",
       "  <tbody>\n",
       "    <tr>\n",
       "      <th>9</th>\n",
       "      <td>Zale CEO, others quit amid losses; shares slide</td>\n",
       "      <td>NEW YORK  (Reuters) - Struggling jewelry chain...</td>\n",
       "      <td>[(0, 4, Zale, Žale, 0.8435079338451078, 0.8575...</td>\n",
       "      <td>[(47, 9, Zale Corp, Zale_Corporation, 0.387277...</td>\n",
       "      <td>[]</td>\n",
       "      <td>[]</td>\n",
       "    </tr>\n",
       "    <tr>\n",
       "      <th>11</th>\n",
       "      <td>Russian lawmaker says Russia should halt space...</td>\n",
       "      <td>MOSCOW (Reuters) - A Russian senator, Viktor B...</td>\n",
       "      <td>[(70, 3, RIA, Bulgaria, 0.341671487824356, 0.9...</td>\n",
       "      <td>[(164, 3, RIA, RIA_Novosti, 0.3399204431765785...</td>\n",
       "      <td>[]</td>\n",
       "      <td>[]</td>\n",
       "    </tr>\n",
       "    <tr>\n",
       "      <th>15</th>\n",
       "      <td>Inside Trump's new VA office, moves to help wh...</td>\n",
       "      <td>Dan Martin is chief engineer for Veterans Affa...</td>\n",
       "      <td>[(19, 2, VA, Lau_Cheok_Vá, 0.27553461929906237...</td>\n",
       "      <td>[(33, 16, Veterans Affairs, United_States_Depa...</td>\n",
       "      <td>[]</td>\n",
       "      <td>[]</td>\n",
       "    </tr>\n",
       "    <tr>\n",
       "      <th>20</th>\n",
       "      <td>French and Benelux stocks-Factors to watch on ...</td>\n",
       "      <td>Feb 15 (Reuters) - Below are company-related n...</td>\n",
       "      <td>[(11, 7, Benelux, Benelux, 0.38009321921795963...</td>\n",
       "      <td>[(172, 3, CAC, CAC_40, 0.33621852879410874, 0....</td>\n",
       "      <td>[]</td>\n",
       "      <td>[]</td>\n",
       "    </tr>\n",
       "    <tr>\n",
       "      <th>24</th>\n",
       "      <td>Japan Noda warns on debt pile in budget battle</td>\n",
       "      <td>TOKYO  (Reuters) - Japan's government cannot c...</td>\n",
       "      <td>[(6, 4, Noda, Noda,_Azerbaijan, 0.730722266701...</td>\n",
       "      <td>[(163, 16, Democratic Party, Democratic_Party_...</td>\n",
       "      <td>[]</td>\n",
       "      <td>[]</td>\n",
       "    </tr>\n",
       "    <tr>\n",
       "      <th>26</th>\n",
       "      <td>Legg Mason unit eyes distressed sales: report</td>\n",
       "      <td>(Reuters) - Permal Investment Management, the ...</td>\n",
       "      <td>[(0, 10, Legg Mason, Legg_Mason, 0.38727776780...</td>\n",
       "      <td>[(116, 4, LM.N, ISO_4217, 0.3631330181905939, ...</td>\n",
       "      <td>[]</td>\n",
       "      <td>[]</td>\n",
       "    </tr>\n",
       "  </tbody>\n",
       "</table>\n",
       "</div>"
      ],
      "text/plain": [
       "                                             headline   \n",
       "9     Zale CEO, others quit amid losses; shares slide  \\\n",
       "11  Russian lawmaker says Russia should halt space...   \n",
       "15  Inside Trump's new VA office, moves to help wh...   \n",
       "20  French and Benelux stocks-Factors to watch on ...   \n",
       "24     Japan Noda warns on debt pile in budget battle   \n",
       "26      Legg Mason unit eyes distressed sales: report   \n",
       "\n",
       "                                            body_text   \n",
       "9   NEW YORK  (Reuters) - Struggling jewelry chain...  \\\n",
       "11  MOSCOW (Reuters) - A Russian senator, Viktor B...   \n",
       "15  Dan Martin is chief engineer for Veterans Affa...   \n",
       "20  Feb 15 (Reuters) - Below are company-related n...   \n",
       "24  TOKYO  (Reuters) - Japan's government cannot c...   \n",
       "26  (Reuters) - Permal Investment Management, the ...   \n",
       "\n",
       "                                    headline_mentions   \n",
       "9   [(0, 4, Zale, Žale, 0.8435079338451078, 0.8575...  \\\n",
       "11  [(70, 3, RIA, Bulgaria, 0.341671487824356, 0.9...   \n",
       "15  [(19, 2, VA, Lau_Cheok_Vá, 0.27553461929906237...   \n",
       "20  [(11, 7, Benelux, Benelux, 0.38009321921795963...   \n",
       "24  [(6, 4, Noda, Noda,_Azerbaijan, 0.730722266701...   \n",
       "26  [(0, 10, Legg Mason, Legg_Mason, 0.38727776780...   \n",
       "\n",
       "                                   body_text_mentions salient_entities   \n",
       "9   [(47, 9, Zale Corp, Zale_Corporation, 0.387277...               []  \\\n",
       "11  [(164, 3, RIA, RIA_Novosti, 0.3399204431765785...               []   \n",
       "15  [(33, 16, Veterans Affairs, United_States_Depa...               []   \n",
       "20  [(172, 3, CAC, CAC_40, 0.33621852879410874, 0....               []   \n",
       "24  [(163, 16, Democratic Party, Democratic_Party_...               []   \n",
       "26  [(116, 4, LM.N, ISO_4217, 0.3631330181905939, ...               []   \n",
       "\n",
       "   salient_entities_list  \n",
       "9                     []  \n",
       "11                    []  \n",
       "15                    []  \n",
       "20                    []  \n",
       "24                    []  \n",
       "26                    []  "
      ]
     },
     "execution_count": 14,
     "metadata": {},
     "output_type": "execute_result"
    }
   ],
   "source": [
    "t[~t['salient_entities_list'].astype(bool)]"
   ]
  },
  {
   "cell_type": "code",
   "execution_count": 15,
   "id": "4644d0da-f830-4055-ba5d-6f9cdcaae3f3",
   "metadata": {
    "tags": []
   },
   "outputs": [
    {
     "data": {
      "text/plain": [
       "'Russian lawmaker says Russia should halt space cooperation with U.S.: RIA'"
      ]
     },
     "execution_count": 15,
     "metadata": {},
     "output_type": "execute_result"
    }
   ],
   "source": [
    "t[~t['salient_entities_list'].astype(bool)].iloc[1, 0]"
   ]
  },
  {
   "cell_type": "code",
   "execution_count": 16,
   "id": "4072d08a-3276-4d90-8e98-694c8cd93f3d",
   "metadata": {
    "tags": []
   },
   "outputs": [
    {
     "data": {
      "text/plain": [
       "'MOSCOW (Reuters) - A Russian senator, Viktor Bondarev, said that for the sake of national security Russia should halt its space cooperation with the United States, RIA news agency reported on Friday.\\nEarlier on Friday, lawmakers proposed a ban on U.S. imports in response to a new set of U.S. sanctions imposed on Russia.\\nThe lower house of parliament is expected to consider draft legislation on the matter next week.\\nReporting by Gabrielle Tétrault-Farber; Writing by Maria Tsvetkova; Editing by Hugh Lawson\\n '"
      ]
     },
     "execution_count": 16,
     "metadata": {},
     "output_type": "execute_result"
    }
   ],
   "source": [
    "t[~t['salient_entities_list'].astype(bool)].iloc[1, 1]"
   ]
  },
  {
   "cell_type": "code",
   "execution_count": 17,
   "id": "5da143c7-fe6c-4c2e-8d4d-be6c7864eb52",
   "metadata": {
    "tags": []
   },
   "outputs": [
    {
     "data": {
      "text/plain": [
       "[(70, 3, 'RIA', 'Bulgaria', 0.341671487824356, 0.9108534455299377, 'ORG')]"
      ]
     },
     "execution_count": 17,
     "metadata": {},
     "output_type": "execute_result"
    }
   ],
   "source": [
    "t[~t['salient_entities_list'].astype(bool)].iloc[1, 2]"
   ]
  },
  {
   "cell_type": "code",
   "execution_count": 18,
   "id": "daba80ff-cba8-467c-a28b-2380cd594ea3",
   "metadata": {
    "tags": []
   },
   "outputs": [
    {
     "data": {
      "text/plain": [
       "[(164,\n",
       "  3,\n",
       "  'RIA',\n",
       "  'RIA_Novosti',\n",
       "  0.33992044317657855,\n",
       "  0.9998592138290405,\n",
       "  'ORG')]"
      ]
     },
     "execution_count": 18,
     "metadata": {},
     "output_type": "execute_result"
    }
   ],
   "source": [
    "t[~t['salient_entities_list'].astype(bool)].iloc[1, 3]"
   ]
  },
  {
   "cell_type": "code",
   "execution_count": 19,
   "id": "901919b9-f082-47cf-8e88-bf6c52c4a8da",
   "metadata": {
    "tags": []
   },
   "outputs": [
    {
     "data": {
      "text/plain": [
       "[]"
      ]
     },
     "execution_count": 19,
     "metadata": {},
     "output_type": "execute_result"
    }
   ],
   "source": [
    "t[~t['salient_entities_list'].astype(bool)].iloc[1, 4]"
   ]
  },
  {
   "cell_type": "code",
   "execution_count": null,
   "id": "715fc68a-8c20-48f0-8500-8b765533c281",
   "metadata": {
    "tags": []
   },
   "outputs": [],
   "source": [
    "mention_detection = MentionDetection(base_url, wiki_version)"
   ]
  },
  {
   "cell_type": "code",
   "execution_count": null,
   "id": "954fd4f4-14b7-4d62-9213-0faf5ac2a304",
   "metadata": {
    "tags": []
   },
   "outputs": [],
   "source": [
    "mentions_dataset, n_mentions = mention_detection.find_mentions(input_text, tagger_ner)"
   ]
  },
  {
   "cell_type": "code",
   "execution_count": null,
   "id": "d60f5ad8-68d1-41c1-b55f-78a756d99d85",
   "metadata": {
    "tags": []
   },
   "outputs": [
    {
     "data": {
      "text/plain": [
       "{'mention': 'Salesforce',\n",
       " 'context': ('',\n",
       "  'CEO Marc Benioff told CNBC s Jim Cramer that face masks can stop the coronavirus crisis in the U S in just three weeks The two are sponsoring a mask design challenge'),\n",
       " 'candidates': [['Salesforce.com', 1.0],\n",
       "  ['Salesforce_Tower', 0.0007209805335255948],\n",
       "  ['Salesforce_Marketing_Cloud', 0.0007209805335255948]],\n",
       " 'gold': ['NONE'],\n",
       " 'pos': 0,\n",
       " 'sent_idx': 0,\n",
       " 'ngram': 'Salesforce',\n",
       " 'end_pos': 10,\n",
       " 'sentence': 'Salesforce CEO Marc Benioff told CNBC\\'s Jim Cramer that face masks can stop the coronavirus crisis in the U.S. in \"just three weeks.\"',\n",
       " 'conf_md': 0.9921179413795471,\n",
       " 'tag': 'ORG'}"
      ]
     },
     "execution_count": 54,
     "metadata": {},
     "output_type": "execute_result"
    }
   ],
   "source": [
    "mentions_dataset['article'][0]"
   ]
  },
  {
   "cell_type": "code",
   "execution_count": 55,
   "id": "75d1ea3a-edd1-47f5-a134-c7c7e5afe1a2",
   "metadata": {
    "tags": []
   },
   "outputs": [
    {
     "data": {
      "text/plain": [
       "{'title': [{'mention': 'Salesforce',\n",
       "   'context': ('',\n",
       "    's Marc Benioff Face masks can end the U S coronavirus crisis within weeks'),\n",
       "   'candidates': [['Salesforce.com', 1.0],\n",
       "    ['Salesforce_Tower', 0.0007209805335255948],\n",
       "    ['Salesforce_Marketing_Cloud', 0.0007209805335255948]],\n",
       "   'gold': ['NONE'],\n",
       "   'pos': 0,\n",
       "   'sent_idx': 0,\n",
       "   'ngram': 'Salesforce',\n",
       "   'end_pos': 10,\n",
       "   'sentence': \"Salesforce's Marc Benioff: Face masks can end the U.S. coronavirus crisis within weeks\",\n",
       "   'conf_md': 0.9846004843711853,\n",
       "   'tag': 'ORG'},\n",
       "  {'mention': 'Marc Benioff',\n",
       "   'context': ('Salesforce s',\n",
       "    'Face masks can end the U S coronavirus crisis within weeks'),\n",
       "   'candidates': [['Marc_Benioff', 1.0]],\n",
       "   'gold': ['NONE'],\n",
       "   'pos': 13,\n",
       "   'sent_idx': 0,\n",
       "   'ngram': 'Marc Benioff',\n",
       "   'end_pos': 25,\n",
       "   'sentence': \"Salesforce's Marc Benioff: Face masks can end the U.S. coronavirus crisis within weeks\",\n",
       "   'conf_md': 0.9935024380683899,\n",
       "   'tag': 'PER'},\n",
       "  {'mention': 'U.S.',\n",
       "   'context': ('Salesforce s Marc Benioff Face masks can end the',\n",
       "    'coronavirus crisis within weeks'),\n",
       "   'candidates': [['United_States', 0.862],\n",
       "    ['United_States_Reports', 0.086],\n",
       "    ['Billboard_Hot_100', 0.037],\n",
       "    ['Billboard_200', 0.031],\n",
       "    ['American_English', 0.023],\n",
       "    ['United_States_customary_units', 0.019],\n",
       "    ['U.S._state', 0.019],\n",
       "    ['Adult_Contemporary_(chart)', 0.018],\n",
       "    ['Sports_in_the_United_States', 0.018],\n",
       "    ['Recording_Industry_Association_of_America', 0.017],\n",
       "    ['United_States_Navy', 0.017],\n",
       "    ['United_States_dollar', 0.017],\n",
       "    [\"United_States_men's_national_soccer_team\", 0.017],\n",
       "    ['United_States_Army', 0.017],\n",
       "    ['United_States_Air_Force', 0.016],\n",
       "    ['United_States_House_of_Representatives', 0.016],\n",
       "    [\"United_States_women's_national_soccer_team\", 0.016],\n",
       "    ['United_Kingdom', 0.016],\n",
       "    ['President_of_the_United_States', 0.016],\n",
       "    ['U.S._Open_Badminton_Championships', 0.016],\n",
       "    ['Basketball_at_the_1984_Summer_Olympics', 0.016],\n",
       "    ['Basketball_at_the_1992_Summer_Olympics', 0.016],\n",
       "    ['United_States_Davis_Cup_team', 0.016],\n",
       "    ['Dance_Club_Songs', 0.016],\n",
       "    ['United_States_Postal_Service', 0.016],\n",
       "    [\"United_States_men's_national_ice_hockey_team\", 0.016],\n",
       "    ['United_States_Department_of_State', 0.016],\n",
       "    ['Pop_100', 0.016],\n",
       "    ['North_America', 0.016],\n",
       "    ['Sault_Ste._Marie,_Michigan', 0.016],\n",
       "    ['United_States_Ski_Team', 0.016],\n",
       "    ['The_Star-Spangled_Banner', 0.016],\n",
       "    ['Flag_of_the_United_States', 0.016],\n",
       "    ['1991_United_States_Grand_Prix', 0.016],\n",
       "    ['Alternative_Songs', 0.016],\n",
       "    ['American_Broadcasting_Company', 0.016],\n",
       "    ['Billboard_Top_Latin_Albums', 0.016],\n",
       "    ['Billboard_(magazine)', 0.016],\n",
       "    ['Billboard_charts', 0.016],\n",
       "    ['Bubbling_Under_Hot_100', 0.016],\n",
       "    ['Cashbox_(magazine)', 0.016],\n",
       "    ['List_of_number-one_Billboard_Christian_Albums', 0.016],\n",
       "    ['Culture_of_the_United_States', 0.016],\n",
       "    ['Adult_Top_40', 0.016],\n",
       "    ['Dance/Electronic_Singles_Sales', 0.016],\n",
       "    ['Digital_Songs', 0.016],\n",
       "    ['Hot_Latin_Songs', 0.016],\n",
       "    ['Mainstream_Rock_(chart)', 0.016],\n",
       "    ['LGM-30_Minuteman', 0.016],\n",
       "    ['Tropical_Songs', 0.016],\n",
       "    ['Rhythmic_(chart)', 0.016],\n",
       "    ['List_of_number-one_Billboard_Rock_Songs', 0.016],\n",
       "    ['Top_40_Tracks', 0.016],\n",
       "    ['Top_Heatseekers', 0.016],\n",
       "    ['Rap_Albums', 0.016],\n",
       "    ['U.S._National_Badminton_Championships', 0.016],\n",
       "    ['U.S._Route_1_in_Massachusetts', 0.016],\n",
       "    ['United_States_Army_officer_rank_insignia', 0.016],\n",
       "    ['Triple_Crown_of_Thoroughbred_Racing_(United_States)', 0.016],\n",
       "    ['United_States_at_the_1988_Summer_Olympics', 0.016],\n",
       "    ['United_States_at_the_2000_Summer_Olympics', 0.016],\n",
       "    ['United_States_at_the_2008_Summer_Olympics', 0.016],\n",
       "    ['United_States_military_casualties_in_the_War_in_Afghanistan',\n",
       "     0.0038372904289731284],\n",
       "    ['Federal_government_of_the_United_States', 0.003773864140890928],\n",
       "    ['United_States_Armed_Forces', 0.0026639040994524197],\n",
       "    ['Nuclear_power_in_the_United_States', 0.0026216199073976192],\n",
       "    ['Survivor_(American_TV_series)', 0.0019662149305482144],\n",
       "    ['United_States_Virgin_Islands', 0.00134252309773991],\n",
       "    ['United_States_Numbered_Highway_System', 0.0012685257616440093],\n",
       "    ['Economy_of_the_United_States', 0.0005708365927398042],\n",
       "    ['Baku–Tbilisi–Ceyhan_pipeline', 0.0005285524006850039],\n",
       "    ['California-class_cruiser', 0.0004439840165754033],\n",
       "    ['Regional_accents_of_English', 0.000401699824520603],\n",
       "    ['Omar_Khadr', 0.0003277024884247024],\n",
       "    ['Law_of_the_United_States', 0.00030656039239730225],\n",
       "    ['Nonprofit_organization', 0.000274847248356202],\n",
       "    ['Patient_Protection_and_Affordable_Care_Act', 0.00026427620034250195],\n",
       "    ['501(c)_organization', 0.0002537051523288019],\n",
       "    ['United_States_Census_Bureau', 0.0002537051523288019],\n",
       "    ['Cinema_of_the_United_States', 0.0002431341043151018],\n",
       "    ['Political_divisions_of_the_United_States', 0.00022199200828770165],\n",
       "    ['DARPA', 0.00021142096027400157],\n",
       "    ['Charitable_organization', 0.00021142096027400157],\n",
       "    ['Rock_&amp;_Rule', 0.0002008499122603015],\n",
       "    ['Nullification_Crisis', 0.00019027886424660142],\n",
       "    ['Billboard', 0.00017970781623290134],\n",
       "    ['Jurisdiction', 0.00017970781623290134],\n",
       "    ['National_Oceanic_and_Atmospheric_Administration',\n",
       "     0.00017970781623290134],\n",
       "    ['Zoophilia_and_the_law', 0.00015856572020550116],\n",
       "    [\"America's_Got_Talent\", 0.0001479946721918011],\n",
       "    ['Militia_(United_States)', 0.0001479946721918011],\n",
       "    ['Presidency_of_George_W._Bush', 0.0001479946721918011],\n",
       "    ['Communications_in_the_United_States', 0.000137423624178101],\n",
       "    ['Hot_R&amp;B/Hip-Hop_Songs', 0.000137423624178101],\n",
       "    ['Constitution_of_the_United_States', 0.00012685257616440094],\n",
       "    ['Dollar_cost_averaging', 0.00012685257616440094],\n",
       "    ['United_States_Fish_and_Wildlife_Service', 0.00012685257616440094],\n",
       "    ['United_States_housing_bubble', 0.00012685257616440094],\n",
       "    ['Zoning', 0.00011628152815070086],\n",
       "    ['Human_Poverty_Index', 0.00010571048013700078]],\n",
       "   'gold': ['NONE'],\n",
       "   'pos': 50,\n",
       "   'sent_idx': 0,\n",
       "   'ngram': 'U.S.',\n",
       "   'end_pos': 54,\n",
       "   'sentence': \"Salesforce's Marc Benioff: Face masks can end the U.S. coronavirus crisis within weeks\",\n",
       "   'conf_md': 0.9989217519760132,\n",
       "   'tag': 'LOC'}],\n",
       " 'article': [{'mention': 'Salesforce',\n",
       "   'context': ('',\n",
       "    'CEO Marc Benioff told CNBC s Jim Cramer that face masks can stop the coronavirus crisis in the U S in just three weeks The two are sponsoring a mask design challenge'),\n",
       "   'candidates': [['Salesforce.com', 1.0],\n",
       "    ['Salesforce_Tower', 0.0007209805335255948],\n",
       "    ['Salesforce_Marketing_Cloud', 0.0007209805335255948]],\n",
       "   'gold': ['NONE'],\n",
       "   'pos': 0,\n",
       "   'sent_idx': 0,\n",
       "   'ngram': 'Salesforce',\n",
       "   'end_pos': 10,\n",
       "   'sentence': 'Salesforce CEO Marc Benioff told CNBC\\'s Jim Cramer that face masks can stop the coronavirus crisis in the U.S. in \"just three weeks.\"',\n",
       "   'conf_md': 0.9921179413795471,\n",
       "   'tag': 'ORG'},\n",
       "  {'mention': 'Marc Benioff',\n",
       "   'context': ('Salesforce CEO',\n",
       "    'told CNBC s Jim Cramer that face masks can stop the coronavirus crisis in the U S in just three weeks The two are sponsoring a mask design challenge'),\n",
       "   'candidates': [['Marc_Benioff', 1.0]],\n",
       "   'gold': ['NONE'],\n",
       "   'pos': 15,\n",
       "   'sent_idx': 0,\n",
       "   'ngram': 'Marc Benioff',\n",
       "   'end_pos': 27,\n",
       "   'sentence': 'Salesforce CEO Marc Benioff told CNBC\\'s Jim Cramer that face masks can stop the coronavirus crisis in the U.S. in \"just three weeks.\"',\n",
       "   'conf_md': 0.9999217987060547,\n",
       "   'tag': 'PER'},\n",
       "  {'mention': 'CNBC',\n",
       "   'context': ('Salesforce CEO Marc Benioff told',\n",
       "    's Jim Cramer that face masks can stop the coronavirus crisis in the U S in just three weeks The two are sponsoring a mask design challenge'),\n",
       "   'candidates': [['CNBC', 1.0],\n",
       "    ['CNBC_Asia', 0.216],\n",
       "    ['CNBC_Europe', 0.204],\n",
       "    ['CNBC_Awaaz', 0.2],\n",
       "    ['Canadian_Neutron_Beam_Centre', 0.2],\n",
       "    ['Commercial_Neutral_Broadcasting_Company', 0.0021996822681168275],\n",
       "    ['CNBC_Africa', 0.0003666137113528046],\n",
       "    ['GNN_(news_channel)', 0.00012220457045093486],\n",
       "    ['NBC', 0.00012220457045093486]],\n",
       "   'gold': ['NONE'],\n",
       "   'pos': 33,\n",
       "   'sent_idx': 0,\n",
       "   'ngram': 'CNBC',\n",
       "   'end_pos': 37,\n",
       "   'sentence': 'Salesforce CEO Marc Benioff told CNBC\\'s Jim Cramer that face masks can stop the coronavirus crisis in the U.S. in \"just three weeks.\"',\n",
       "   'conf_md': 0.9974728226661682,\n",
       "   'tag': 'ORG'},\n",
       "  {'mention': 'Jim Cramer',\n",
       "   'context': ('Salesforce CEO Marc Benioff told CNBC s',\n",
       "    'that face masks can stop the coronavirus crisis in the U S in just three weeks The two are sponsoring a mask design challenge'),\n",
       "   'candidates': [['Jim_Cramer', 1.0],\n",
       "    ['Mad_Money', 0.0390741662518666],\n",
       "    ['Joker_(character)', 0.0037332005973120955]],\n",
       "   'gold': ['NONE'],\n",
       "   'pos': 40,\n",
       "   'sent_idx': 0,\n",
       "   'ngram': 'Jim Cramer',\n",
       "   'end_pos': 50,\n",
       "   'sentence': 'Salesforce CEO Marc Benioff told CNBC\\'s Jim Cramer that face masks can stop the coronavirus crisis in the U.S. in \"just three weeks.\"',\n",
       "   'conf_md': 0.9962376952171326,\n",
       "   'tag': 'PER'},\n",
       "  {'mention': 'U.S.',\n",
       "   'context': ('Salesforce CEO Marc Benioff told CNBC s Jim Cramer that face masks can stop the coronavirus crisis in the',\n",
       "    'in just three weeks The two are sponsoring a mask design challenge'),\n",
       "   'candidates': [['United_States', 0.862],\n",
       "    ['United_States_Reports', 0.086],\n",
       "    ['Billboard_Hot_100', 0.037],\n",
       "    ['Billboard_200', 0.031],\n",
       "    ['American_English', 0.023],\n",
       "    ['United_States_customary_units', 0.019],\n",
       "    ['U.S._state', 0.019],\n",
       "    ['Adult_Contemporary_(chart)', 0.018],\n",
       "    ['Sports_in_the_United_States', 0.018],\n",
       "    ['Recording_Industry_Association_of_America', 0.017],\n",
       "    ['United_States_Navy', 0.017],\n",
       "    ['United_States_dollar', 0.017],\n",
       "    [\"United_States_men's_national_soccer_team\", 0.017],\n",
       "    ['United_States_Army', 0.017],\n",
       "    ['United_States_Air_Force', 0.016],\n",
       "    ['United_States_House_of_Representatives', 0.016],\n",
       "    [\"United_States_women's_national_soccer_team\", 0.016],\n",
       "    ['United_Kingdom', 0.016],\n",
       "    ['President_of_the_United_States', 0.016],\n",
       "    ['U.S._Open_Badminton_Championships', 0.016],\n",
       "    ['Basketball_at_the_1984_Summer_Olympics', 0.016],\n",
       "    ['Basketball_at_the_1992_Summer_Olympics', 0.016],\n",
       "    ['United_States_Davis_Cup_team', 0.016],\n",
       "    ['Dance_Club_Songs', 0.016],\n",
       "    ['United_States_Postal_Service', 0.016],\n",
       "    [\"United_States_men's_national_ice_hockey_team\", 0.016],\n",
       "    ['United_States_Department_of_State', 0.016],\n",
       "    ['Pop_100', 0.016],\n",
       "    ['North_America', 0.016],\n",
       "    ['Sault_Ste._Marie,_Michigan', 0.016],\n",
       "    ['United_States_Ski_Team', 0.016],\n",
       "    ['The_Star-Spangled_Banner', 0.016],\n",
       "    ['Flag_of_the_United_States', 0.016],\n",
       "    ['1991_United_States_Grand_Prix', 0.016],\n",
       "    ['Alternative_Songs', 0.016],\n",
       "    ['American_Broadcasting_Company', 0.016],\n",
       "    ['Billboard_Top_Latin_Albums', 0.016],\n",
       "    ['Billboard_(magazine)', 0.016],\n",
       "    ['Billboard_charts', 0.016],\n",
       "    ['Bubbling_Under_Hot_100', 0.016],\n",
       "    ['Cashbox_(magazine)', 0.016],\n",
       "    ['List_of_number-one_Billboard_Christian_Albums', 0.016],\n",
       "    ['Culture_of_the_United_States', 0.016],\n",
       "    ['Adult_Top_40', 0.016],\n",
       "    ['Dance/Electronic_Singles_Sales', 0.016],\n",
       "    ['Digital_Songs', 0.016],\n",
       "    ['Hot_Latin_Songs', 0.016],\n",
       "    ['Mainstream_Rock_(chart)', 0.016],\n",
       "    ['LGM-30_Minuteman', 0.016],\n",
       "    ['Tropical_Songs', 0.016],\n",
       "    ['Rhythmic_(chart)', 0.016],\n",
       "    ['List_of_number-one_Billboard_Rock_Songs', 0.016],\n",
       "    ['Top_40_Tracks', 0.016],\n",
       "    ['Top_Heatseekers', 0.016],\n",
       "    ['Rap_Albums', 0.016],\n",
       "    ['U.S._National_Badminton_Championships', 0.016],\n",
       "    ['U.S._Route_1_in_Massachusetts', 0.016],\n",
       "    ['United_States_Army_officer_rank_insignia', 0.016],\n",
       "    ['Triple_Crown_of_Thoroughbred_Racing_(United_States)', 0.016],\n",
       "    ['United_States_at_the_1988_Summer_Olympics', 0.016],\n",
       "    ['United_States_at_the_2000_Summer_Olympics', 0.016],\n",
       "    ['United_States_at_the_2008_Summer_Olympics', 0.016],\n",
       "    ['United_States_military_casualties_in_the_War_in_Afghanistan',\n",
       "     0.0038372904289731284],\n",
       "    ['Federal_government_of_the_United_States', 0.003773864140890928],\n",
       "    ['United_States_Armed_Forces', 0.0026639040994524197],\n",
       "    ['Nuclear_power_in_the_United_States', 0.0026216199073976192],\n",
       "    ['Survivor_(American_TV_series)', 0.0019662149305482144],\n",
       "    ['United_States_Virgin_Islands', 0.00134252309773991],\n",
       "    ['United_States_Numbered_Highway_System', 0.0012685257616440093],\n",
       "    ['Economy_of_the_United_States', 0.0005708365927398042],\n",
       "    ['Baku–Tbilisi–Ceyhan_pipeline', 0.0005285524006850039],\n",
       "    ['California-class_cruiser', 0.0004439840165754033],\n",
       "    ['Regional_accents_of_English', 0.000401699824520603],\n",
       "    ['Omar_Khadr', 0.0003277024884247024],\n",
       "    ['Law_of_the_United_States', 0.00030656039239730225],\n",
       "    ['Nonprofit_organization', 0.000274847248356202],\n",
       "    ['Patient_Protection_and_Affordable_Care_Act', 0.00026427620034250195],\n",
       "    ['501(c)_organization', 0.0002537051523288019],\n",
       "    ['United_States_Census_Bureau', 0.0002537051523288019],\n",
       "    ['Cinema_of_the_United_States', 0.0002431341043151018],\n",
       "    ['Political_divisions_of_the_United_States', 0.00022199200828770165],\n",
       "    ['DARPA', 0.00021142096027400157],\n",
       "    ['Charitable_organization', 0.00021142096027400157],\n",
       "    ['Rock_&amp;_Rule', 0.0002008499122603015],\n",
       "    ['Nullification_Crisis', 0.00019027886424660142],\n",
       "    ['Billboard', 0.00017970781623290134],\n",
       "    ['Jurisdiction', 0.00017970781623290134],\n",
       "    ['National_Oceanic_and_Atmospheric_Administration',\n",
       "     0.00017970781623290134],\n",
       "    ['Zoophilia_and_the_law', 0.00015856572020550116],\n",
       "    [\"America's_Got_Talent\", 0.0001479946721918011],\n",
       "    ['Militia_(United_States)', 0.0001479946721918011],\n",
       "    ['Presidency_of_George_W._Bush', 0.0001479946721918011],\n",
       "    ['Communications_in_the_United_States', 0.000137423624178101],\n",
       "    ['Hot_R&amp;B/Hip-Hop_Songs', 0.000137423624178101],\n",
       "    ['Constitution_of_the_United_States', 0.00012685257616440094],\n",
       "    ['Dollar_cost_averaging', 0.00012685257616440094],\n",
       "    ['United_States_Fish_and_Wildlife_Service', 0.00012685257616440094],\n",
       "    ['United_States_housing_bubble', 0.00012685257616440094],\n",
       "    ['Zoning', 0.00011628152815070086],\n",
       "    ['Human_Poverty_Index', 0.00010571048013700078]],\n",
       "   'gold': ['NONE'],\n",
       "   'pos': 106,\n",
       "   'sent_idx': 0,\n",
       "   'ngram': 'U.S.',\n",
       "   'end_pos': 110,\n",
       "   'sentence': 'Salesforce CEO Marc Benioff told CNBC\\'s Jim Cramer that face masks can stop the coronavirus crisis in the U.S. in \"just three weeks.\"',\n",
       "   'conf_md': 0.9995806813240051,\n",
       "   'tag': 'LOC'}]}"
      ]
     },
     "execution_count": 55,
     "metadata": {},
     "output_type": "execute_result"
    }
   ],
   "source": [
    "mentions_dataset"
   ]
  },
  {
   "cell_type": "code",
   "execution_count": 172,
   "id": "88e6b15c-dfe9-4f88-8281-4b0435edcae7",
   "metadata": {
    "tags": []
   },
   "outputs": [
    {
     "data": {
      "text/plain": [
       "[{'mention': 'None',\n",
       "  'context': 'None',\n",
       "  'candidates': [['', 0.0]],\n",
       "  'gold': [''],\n",
       "  'pos': 0,\n",
       "  'sent_idx': 0,\n",
       "  'ngram': '',\n",
       "  'end_pos': 0,\n",
       "  'sentence': '',\n",
       "  'conf_md': 0.0,\n",
       "  'tag': '',\n",
       "  'sent': ''}]"
      ]
     },
     "execution_count": 172,
     "metadata": {},
     "output_type": "execute_result"
    }
   ],
   "source": [
    "mentions_dataset['title']"
   ]
  },
  {
   "cell_type": "code",
   "execution_count": 173,
   "id": "dc20e402-ba3e-4dc9-9923-57d4c27ccb36",
   "metadata": {
    "tags": []
   },
   "outputs": [
    {
     "name": "stdout",
     "output_type": "stream",
     "text": [
      "None  ['', 0.0]\n"
     ]
    }
   ],
   "source": [
    "for mention in mentions_dataset['title']:\n",
    "    print(mention['mention'], mention['tag'], mention['candidates'][0])"
   ]
  },
  {
   "cell_type": "code",
   "execution_count": 56,
   "id": "1b19a068-b26f-46b1-85e7-70638f8071c5",
   "metadata": {
    "tags": []
   },
   "outputs": [
    {
     "name": "stdout",
     "output_type": "stream",
     "text": [
      "Loading model from given path: /home/ec2-user/.rel_cache/ed-wiki-2019/model\n"
     ]
    },
    {
     "name": "stderr",
     "output_type": "stream",
     "text": [
      "/home/ec2-user/environments/styx_env/lib/python3.10/site-packages/sklearn/base.py:318: UserWarning: Trying to unpickle estimator LogisticRegression from version 0.23.1 when using version 1.2.2. This might lead to breaking code or invalid results. Use at your own risk. For more info please refer to:\n",
      "https://scikit-learn.org/stable/model_persistence.html#security-maintainability-limitations\n",
      "  warnings.warn(\n"
     ]
    }
   ],
   "source": [
    "config = {\n",
    "    \"mode\": \"eval\",\n",
    "    \"model_path\": model_alias,\n",
    "}\n",
    "\n",
    "model = EntityDisambiguation(base_url, wiki_version, config)\n",
    "predictions, timing = model.predict(mentions_dataset)"
   ]
  },
  {
   "cell_type": "code",
   "execution_count": 57,
   "id": "fb36eceb-60e4-4c66-a63f-57ebcbcf8750",
   "metadata": {
    "tags": []
   },
   "outputs": [
    {
     "data": {
      "text/plain": [
       "{'title': [{'mention': 'Salesforce',\n",
       "   'prediction': 'Salesforce.com',\n",
       "   'candidates': ['Salesforce.com',\n",
       "    'Salesforce_Tower',\n",
       "    'Salesforce_Marketing_Cloud',\n",
       "    '#UNK#',\n",
       "    '#UNK#',\n",
       "    '#UNK#',\n",
       "    '#UNK#'],\n",
       "   'conf_ed': 0.4634936624090754,\n",
       "   'scores': ['0.4274973',\n",
       "    '0.3273192',\n",
       "    '0.32570845',\n",
       "    '-0.22848086',\n",
       "    '-0.22848086',\n",
       "    '-0.22848086',\n",
       "    '-0.22848086']},\n",
       "  {'mention': 'Marc Benioff',\n",
       "   'prediction': 'Marc_Benioff',\n",
       "   'candidates': ['Marc_Benioff',\n",
       "    '#UNK#',\n",
       "    '#UNK#',\n",
       "    '#UNK#',\n",
       "    '#UNK#',\n",
       "    '#UNK#',\n",
       "    '#UNK#'],\n",
       "   'conf_ed': 0.3872777678067984,\n",
       "   'scores': ['0.42387587',\n",
       "    '-0.22848086',\n",
       "    '-0.22848086',\n",
       "    '-0.22848086',\n",
       "    '-0.22848086',\n",
       "    '-0.22848086',\n",
       "    '-0.22848086']},\n",
       "  {'mention': 'U.S.',\n",
       "   'prediction': 'United_States',\n",
       "   'candidates': ['United_States',\n",
       "    'United_States_Reports',\n",
       "    'Billboard_Hot_100',\n",
       "    'Billboard_200',\n",
       "    'American_English',\n",
       "    'United_States_customary_units',\n",
       "    'Dance_Club_Songs'],\n",
       "   'conf_ed': 0.8679714152362863,\n",
       "   'scores': ['0.45101666',\n",
       "    '0.3982926',\n",
       "    '0.39989495',\n",
       "    '0.40841097',\n",
       "    '0.38723984',\n",
       "    '0.38799334',\n",
       "    '0.39403284']}],\n",
       " 'article': [{'mention': 'Salesforce',\n",
       "   'prediction': 'Salesforce.com',\n",
       "   'candidates': ['Salesforce.com',\n",
       "    'Salesforce_Tower',\n",
       "    'Salesforce_Marketing_Cloud',\n",
       "    '#UNK#',\n",
       "    '#UNK#',\n",
       "    '#UNK#',\n",
       "    '#UNK#'],\n",
       "   'conf_ed': 0.500828798480795,\n",
       "   'scores': ['0.42923105',\n",
       "    '0.3278538',\n",
       "    '0.32639337',\n",
       "    '-0.22848086',\n",
       "    '-0.22848086',\n",
       "    '-0.22848086',\n",
       "    '-0.22848086']},\n",
       "  {'mention': 'Marc Benioff',\n",
       "   'prediction': 'Marc_Benioff',\n",
       "   'candidates': ['Marc_Benioff',\n",
       "    '#UNK#',\n",
       "    '#UNK#',\n",
       "    '#UNK#',\n",
       "    '#UNK#',\n",
       "    '#UNK#',\n",
       "    '#UNK#'],\n",
       "   'conf_ed': 0.3872777678067984,\n",
       "   'scores': ['0.42387587',\n",
       "    '-0.22848086',\n",
       "    '-0.22848086',\n",
       "    '-0.22848086',\n",
       "    '-0.22848086',\n",
       "    '-0.22848086',\n",
       "    '-0.22848086']},\n",
       "  {'mention': 'CNBC',\n",
       "   'prediction': 'CNBC',\n",
       "   'candidates': ['CNBC',\n",
       "    'CNBC_Asia',\n",
       "    'CNBC_Europe',\n",
       "    'CNBC_Awaaz',\n",
       "    'Canadian_Neutron_Beam_Centre',\n",
       "    'Commercial_Neutral_Broadcasting_Company',\n",
       "    'NBC'],\n",
       "   'conf_ed': 0.9082992079324934,\n",
       "   'scores': ['0.4557671',\n",
       "    '0.40662354',\n",
       "    '0.4148022',\n",
       "    '0.40294904',\n",
       "    '0.40170294',\n",
       "    '0.36000752',\n",
       "    '0.3484891']},\n",
       "  {'mention': 'Jim Cramer',\n",
       "   'prediction': 'Jim_Cramer',\n",
       "   'candidates': ['Jim_Cramer',\n",
       "    'Mad_Money',\n",
       "    'Joker_(character)',\n",
       "    '#UNK#',\n",
       "    '#UNK#',\n",
       "    '#UNK#',\n",
       "    '#UNK#'],\n",
       "   'conf_ed': 0.9170912127870412,\n",
       "   'scores': ['0.4570468',\n",
       "    '0.41111493',\n",
       "    '0.38217688',\n",
       "    '-0.22848086',\n",
       "    '-0.22848086',\n",
       "    '-0.22848086',\n",
       "    '-0.22848086']},\n",
       "  {'mention': 'U.S.',\n",
       "   'prediction': 'United_States',\n",
       "   'candidates': ['United_States',\n",
       "    'United_States_Reports',\n",
       "    'Billboard_Hot_100',\n",
       "    'Billboard_200',\n",
       "    'Sports_in_the_United_States',\n",
       "    'Recording_Industry_Association_of_America',\n",
       "    'Dance_Club_Songs'],\n",
       "   'conf_ed': 0.7973194450820735,\n",
       "   'scores': ['0.44506544',\n",
       "    '0.39829004',\n",
       "    '0.3921805',\n",
       "    '0.39733896',\n",
       "    '0.3895254',\n",
       "    '0.3887471',\n",
       "    '0.39071918']}]}"
      ]
     },
     "execution_count": 57,
     "metadata": {},
     "output_type": "execute_result"
    }
   ],
   "source": [
    "predictions"
   ]
  },
  {
   "cell_type": "code",
   "execution_count": 154,
   "id": "c78abc4e-fa70-4916-be66-ce92307d230c",
   "metadata": {
    "tags": []
   },
   "outputs": [
    {
     "name": "stdout",
     "output_type": "stream",
     "text": [
      "None \n"
     ]
    }
   ],
   "source": [
    "for mention in predictions['title']:\n",
    "    print(mention['mention'], mention['prediction'])"
   ]
  },
  {
   "cell_type": "code",
   "execution_count": 116,
   "id": "4890fa02-595b-4de9-abaa-50ab4ab6518e",
   "metadata": {
    "tags": []
   },
   "outputs": [
    {
     "data": {
      "text/plain": [
       "{'mention': 'IQ',\n",
       " 'prediction': 'Intelligence_quotient',\n",
       " 'candidates': ['Intelligence_quotient',\n",
       "  'IQ_(band)',\n",
       "  'IQ_and_the_Wealth_of_Nations',\n",
       "  'Social_intelligence',\n",
       "  'Mensa_International',\n",
       "  'Race_and_intelligence',\n",
       "  'The_Bell_Curve'],\n",
       " 'conf_ed': 0.49680434174401916,\n",
       " 'scores': ['0.42904449',\n",
       "  '0.39379632',\n",
       "  '0.38732094',\n",
       "  '0.38664663',\n",
       "  '0.39317554',\n",
       "  '0.3453135',\n",
       "  '0.33733743']}"
      ]
     },
     "execution_count": 116,
     "metadata": {},
     "output_type": "execute_result"
    }
   ],
   "source": [
    "predictions['title'][0]"
   ]
  },
  {
   "cell_type": "code",
   "execution_count": 58,
   "id": "bf78778a-a712-4419-9a77-6bd31b8d4f96",
   "metadata": {
    "tags": []
   },
   "outputs": [],
   "source": [
    "from REL.utils import process_results"
   ]
  },
  {
   "cell_type": "code",
   "execution_count": 59,
   "id": "80d91b51-e4bd-452e-80c7-c789fefe3b43",
   "metadata": {
    "tags": []
   },
   "outputs": [],
   "source": [
    "result = process_results(mentions_dataset, predictions, input_text)"
   ]
  },
  {
   "cell_type": "code",
   "execution_count": 60,
   "id": "7cbf3dc8-e547-4e87-8a29-df43440ed565",
   "metadata": {
    "tags": []
   },
   "outputs": [
    {
     "data": {
      "text/plain": [
       "[(0,\n",
       "  10,\n",
       "  'Salesforce',\n",
       "  'Salesforce.com',\n",
       "  0.4634936624090754,\n",
       "  0.9846004843711853,\n",
       "  'ORG'),\n",
       " (13,\n",
       "  12,\n",
       "  'Marc Benioff',\n",
       "  'Marc_Benioff',\n",
       "  0.3872777678067984,\n",
       "  0.9935024380683899,\n",
       "  'PER'),\n",
       " (50,\n",
       "  4,\n",
       "  'U.S.',\n",
       "  'United_States',\n",
       "  0.8679714152362863,\n",
       "  0.9989217519760132,\n",
       "  'LOC')]"
      ]
     },
     "execution_count": 60,
     "metadata": {},
     "output_type": "execute_result"
    }
   ],
   "source": [
    "result['title']"
   ]
  },
  {
   "cell_type": "code",
   "execution_count": 35,
   "id": "5a0aa9d0-7fe8-4c8a-b3c1-b298916f9592",
   "metadata": {
    "tags": []
   },
   "outputs": [
    {
     "data": {
      "text/plain": [
       "[(1,\n",
       "  9,\n",
       "  'Mad Money',\n",
       "  'Mad_Money',\n",
       "  0.9396388478212766,\n",
       "  0.6864858865737915,\n",
       "  'MISC'),\n",
       " (17,\n",
       "  10,\n",
       "  'Jim Cramer',\n",
       "  'Jim_Cramer',\n",
       "  0.9106089897957748,\n",
       "  0.9995617270469666,\n",
       "  'PER')]"
      ]
     },
     "execution_count": 35,
     "metadata": {},
     "output_type": "execute_result"
    }
   ],
   "source": [
    "result['test_doc2']"
   ]
  },
  {
   "cell_type": "code",
   "execution_count": null,
   "id": "56e7c934-c43c-4b87-a498-f958c926f643",
   "metadata": {},
   "outputs": [],
   "source": []
  },
  {
   "cell_type": "code",
   "execution_count": null,
   "id": "96a4f323-155e-468f-b273-ab685cc20754",
   "metadata": {},
   "outputs": [],
   "source": [
    "def example_preprocessing(row: pd.Series) -> dict:\n",
    "    processed = {\n",
    "        'test_doc1': [row['title'], []], \n",
    "        'test_doc2': [row['article'], []]\n",
    "        }\n",
    "    return processed"
   ]
  },
  {
   "cell_type": "code",
   "execution_count": 44,
   "id": "25db3b33-44e0-48a0-bf98-28f41b4ad54a",
   "metadata": {
    "tags": []
   },
   "outputs": [
    {
     "name": "stdout",
     "output_type": "stream",
     "text": [
      "['Jim Cramer: A better way to invest in the Covid-19 vaccine gold rush'\n",
      " \"Cramer's lightning round: I would own Teradyne\"\n",
      " \"Cramer's week ahead: Big week for earnings, even bigger week for vaccines\"\n",
      " 'IQ Capital CEO Keith Bliss says tech and healthcare will rally'\n",
      " \"Wall Street delivered the 'kind of pullback I've been waiting for,' Jim Cramer says\"]\n",
      "[\"Cramer's lightning round: I would just stay long Wex\"\n",
      " \"Acorns CEO: Parents can turn $5 into five figures for their kids through 'power of compounding'\"\n",
      " 'Dividend cuts may mean rethinking your retirement income strategy'\n",
      " 'StockX has authenticated 1 million Jordan sneakers this year, CEO says'\n",
      " 'Biohaven Pharmaceuticals lands Khloe Kardashian as influencer of new migraine drug']\n",
      "[\"Cramer's lightning round: I like Beyond Meat\"\n",
      " 'Cramer: We desperately need another round of federal stimulus, despite vaccine progress'\n",
      " \"Cramer's lightning round: Buy more VMware\"\n",
      " \"Wall Street did something 'highly unusual' in Tuesday's session, Jim Cramer says\"\n",
      " 'Charts suggest the S&P 500 climb will stall out at the end of July, Jim Cramer warns']\n",
      "[\"Salesforce's Marc Benioff: Face masks can end the U.S. coronavirus crisis within weeks\"\n",
      " \"Crown Castle's 'good story can get even better' on activist fight, Jim Cramer says\"\n",
      " \"Ellevest's Sallie Krawcheck says the economic crisis has caused a 'she-cession'\"\n",
      " \"Cramer's lightning round: Zoom's pullback is a buying opportunity\"\n",
      " \"Cramer's earnings watch: 'If the banks get hammered, things could get ugly'\"]\n",
      "['Stay invested in US markets for the next two years: Strategist'\n",
      " \"DBS sees signs of a 'healthy' US market rally\"\n",
      " 'Aggressive policy bolstering markets: Hirtle Callaghan'\n",
      " \"Cramer's week ahead: Big business is bouncing back, and bouncing back with a vengeance\"\n",
      " \"Cramer's lightning round: I don't like Archer-Daniels-Midland Co\"]\n",
      "['Sustainable produce supplier Apeel lands deal with Wakefern grocery stores'\n",
      " 'Jim Cramer deciphers the speculative and blue-chip stocks driving the market'\n",
      " \"Cramer's lightning round: BlackRock is a buy\"\n",
      " \"The S&P 500 'could get ugly' in the near future, Jim Cramer warns\"\n",
      " \"Conagra CEO on revamping Mrs. Butterworth's brand: 'Perception is reality'\"]\n",
      "[\"Cramer's lightning round: Nokia has 'good things coming'\"\n",
      " 'Jim Cramer breaks down his favorite stocks from a record second quarter'\n",
      " \"Jim Cramer: We saw a lot of 'encouraging signs' in Monday's session\"\n",
      " \"Cramer's lightning round: James Taiclet will make Lockheed Martin some money\"\n",
      " \"Restaurant Brands CEO: Popeyes' chicken sandwich has had an unprecedented impact on business\"]\n",
      "['Cramer adds new stocks, recommends buying 12 laggards in his Covid-19 index'\n",
      " \"Marc Benioff says 35 states are now using Salesforce's contact tracing technology for coronavirus\"\n",
      " \"Cramer's lightning round: Stay in Yeti\"\n",
      " 'The stay-at-home stocks surged as Texas paused reopening, Jim Cramer says'\n",
      " 'The Awaken America trade has taken a turn for the worse, Jim Cramer warns']\n",
      "[\"Cramer's lightning round: Buy Ulta Beauty\"\n",
      " 'Rhode Island governor mulls restrictions on travelers from coronavirus hotspot states']\n"
     ]
    }
   ],
   "source": [
    "n = 5\n",
    "test = df.head(42).copy()\n",
    "\n",
    "for g, data in test.groupby(np.arange(len(test)) // n):\n",
    "    processed = \n",
    "    print(data['title'].values)"
   ]
  },
  {
   "cell_type": "code",
   "execution_count": null,
   "id": "a2d0f3c1-ed76-4bf4-a191-a08d91442cd3",
   "metadata": {},
   "outputs": [],
   "source": [
    "n = 400\n",
    "for g, df in test.groupby(np.arange(len(test)) // n):\n",
    "    print(df.shape)"
   ]
  },
  {
   "cell_type": "markdown",
   "id": "3170974f-dd1f-41f4-8fdb-d39d1adb18ae",
   "metadata": {},
   "source": [
    "@Kimchi You can get it from the groupby object (test.groupby(np.arange(len(test)) // n)). If you assign that to a variable, you can then call .groups() to get a dictionary of {group id:[dataframe index ids]}. You can then use the group ids to retrieve each dataframe by calling .get_group(group_id) on the groupby object"
   ]
  },
  {
   "cell_type": "code",
   "execution_count": null,
   "id": "fa27bf35-c15b-4e26-b4dd-44847a59696c",
   "metadata": {},
   "outputs": [],
   "source": []
  },
  {
   "cell_type": "code",
   "execution_count": null,
   "id": "fd8a82c9-68b8-42ff-aa11-ceaceb74d95e",
   "metadata": {},
   "outputs": [],
   "source": []
  },
  {
   "cell_type": "code",
   "execution_count": null,
   "id": "f6fbfa3d-65dc-4cd1-950a-68e74daef311",
   "metadata": {},
   "outputs": [],
   "source": []
  },
  {
   "cell_type": "code",
   "execution_count": null,
   "id": "a47b91e7-0870-40eb-af92-1925acde1966",
   "metadata": {},
   "outputs": [],
   "source": []
  },
  {
   "cell_type": "code",
   "execution_count": 4,
   "id": "79eef401-cc04-4df0-b428-19ce27b7dbd9",
   "metadata": {
    "tags": []
   },
   "outputs": [
    {
     "name": "stdout",
     "output_type": "stream",
     "text": [
      "Loading model from given path: /home/ec2-user/.rel_cache/ed-wiki-2019/model\n"
     ]
    },
    {
     "name": "stderr",
     "output_type": "stream",
     "text": [
      "/home/ec2-user/environments/styx_env/lib/python3.10/site-packages/sklearn/base.py:318: UserWarning: Trying to unpickle estimator LogisticRegression from version 0.23.1 when using version 1.2.2. This might lead to breaking code or invalid results. Use at your own risk. For more info please refer to:\n",
      "https://scikit-learn.org/stable/model_persistence.html#security-maintainability-limitations\n",
      "  warnings.warn(\n"
     ]
    }
   ],
   "source": [
    "config = {\n",
    "    \"mode\": \"eval\",\n",
    "    \"model_path\": \"ed-wiki-2019\",  # or alias, see also tutorial 7: custom models\n",
    "}\n",
    "\n",
    "model = EntityDisambiguation(\n",
    "    base_url, \n",
    "    wiki_version, \n",
    "    config)"
   ]
  },
  {
   "cell_type": "code",
   "execution_count": 5,
   "id": "8ebaee61-685b-4aaf-b127-06baf8cd15bb",
   "metadata": {
    "tags": []
   },
   "outputs": [
    {
     "name": "stdout",
     "output_type": "stream",
     "text": [
      "2023-04-05 07:53:10,329 SequenceTagger predicts: Dictionary with 20 tags: <unk>, O, S-ORG, S-MISC, B-PER, E-PER, S-LOC, B-ORG, E-ORG, I-PER, S-PER, B-MISC, I-MISC, E-MISC, I-ORG, B-LOC, E-LOC, I-LOC, <START>, <STOP>\n"
     ]
    }
   ],
   "source": [
    "# Using Flair:\n",
    "tagger_ner = load_flair_ner(\"ner-fast\")\n",
    "\n",
    "# Alternatively, using n-grams:\n",
    "tagger_ngram = Cmns(base_url, wiki_version, n=5)"
   ]
  },
  {
   "cell_type": "code",
   "execution_count": 7,
   "id": "1728446b-0c2a-489f-8f89-7414ecafd838",
   "metadata": {
    "tags": []
   },
   "outputs": [
    {
     "name": "stdout",
     "output_type": "stream",
     "text": [
      "Ready for listening.\n"
     ]
    }
   ],
   "source": [
    "server_address = (\"127.0.0.1\", 1235)\n",
    "server = HTTPServer(\n",
    "    server_address,\n",
    "    make_handler(\n",
    "        base_url, wiki_version, model, tagger_ner\n",
    "    ),\n",
    ")\n",
    "\n",
    "try:\n",
    "    print(\"Ready for listening.\")\n",
    "    server.serve_forever()\n",
    "except KeyboardInterrupt:\n",
    "    exit(0)"
   ]
  },
  {
   "cell_type": "code",
   "execution_count": null,
   "id": "68022b5e-5bcb-42a4-8407-47425fd638cc",
   "metadata": {
    "tags": []
   },
   "outputs": [],
   "source": [
    "import requests\n",
    "\n",
    "IP_ADDRESS = \"http://localhost\"\n",
    "PORT = \"1235\"\n",
    "text_doc = \"If you're going to try, go all the way - Charles Bukowski\"\n",
    "\n",
    "document = {\n",
    "    \"text\": text_doc,\n",
    "    \"spans\": [],  # in case of ED only, this can also be left out when using the API\n",
    "}\n",
    "\n",
    "API_result = requests.post(\"{}:{}\".format(IP_ADDRESS, PORT), json=document).json()\n"
   ]
  },
  {
   "cell_type": "code",
   "execution_count": 5,
   "id": "ba29f63b-4da9-4c97-96ef-c5b3d3a5b067",
   "metadata": {
    "tags": []
   },
   "outputs": [],
   "source": [
    "from REL.utils import process_results "
   ]
  },
  {
   "cell_type": "code",
   "execution_count": 6,
   "id": "847e3fb3-eaa2-430d-97e9-931b124c87f8",
   "metadata": {
    "tags": []
   },
   "outputs": [],
   "source": [
    "def example_preprocessing():\n",
    "    # user does some stuff, which results in the format below.\n",
    "    text = \"Obama will visit Germany. And have a meeting with Merkel tomorrow.\"\n",
    "    processed = {\"test_doc1\": [text, []], \"test_doc2\": [text, []]}\n",
    "    return processed\n",
    "\n",
    "input_text = example_preprocessing()"
   ]
  },
  {
   "cell_type": "code",
   "execution_count": 7,
   "id": "a651a946-f8fd-4cb2-aa35-dea612ac00b1",
   "metadata": {
    "tags": []
   },
   "outputs": [
    {
     "data": {
      "text/plain": [
       "{'test_doc1': ['Obama will visit Germany. And have a meeting with Merkel tomorrow.',\n",
       "  []],\n",
       " 'test_doc2': ['Obama will visit Germany. And have a meeting with Merkel tomorrow.',\n",
       "  []]}"
      ]
     },
     "execution_count": 7,
     "metadata": {},
     "output_type": "execute_result"
    }
   ],
   "source": [
    "input_text"
   ]
  },
  {
   "cell_type": "code",
   "execution_count": 17,
   "id": "fb17db56-6204-4c60-b31c-f3ef5ccdec90",
   "metadata": {
    "tags": []
   },
   "outputs": [
    {
     "name": "stdout",
     "output_type": "stream",
     "text": [
      "2023-04-05 08:23:35,067 SequenceTagger predicts: Dictionary with 20 tags: <unk>, O, S-ORG, S-MISC, B-PER, E-PER, S-LOC, B-ORG, E-ORG, I-PER, S-PER, B-MISC, I-MISC, E-MISC, I-ORG, B-LOC, E-LOC, I-LOC, <START>, <STOP>\n"
     ]
    }
   ],
   "source": [
    "mention_detection = MentionDetection(base_url, wiki_version)\n",
    "tagger_ner = load_flair_ner(\"ner-fast\")\n",
    "tagger_ngram = Cmns(base_url, wiki_version, n=5)"
   ]
  },
  {
   "cell_type": "code",
   "execution_count": 18,
   "id": "c7816b27-9ff9-4dff-aca7-eec9cc6f568b",
   "metadata": {
    "tags": []
   },
   "outputs": [],
   "source": [
    "mentions_dataset, n_mentions = mention_detection.find_mentions(input_text, tagger_ner)"
   ]
  },
  {
   "cell_type": "code",
   "execution_count": 20,
   "id": "57d5bc87-0109-4978-b0fd-2263534a03a3",
   "metadata": {
    "tags": []
   },
   "outputs": [
    {
     "data": {
      "text/plain": [
       "[{'mention': 'Obama',\n",
       "  'context': ('',\n",
       "   'will visit Germany And have a meeting with Merkel tomorrow'),\n",
       "  'candidates': [['Barack_Obama', 0.951],\n",
       "   ['Obama,_Fukui', 0.119],\n",
       "   ['Obama,_Nagasaki', 0.097],\n",
       "   ['Obama_Station', 0.093],\n",
       "   ['Presidency_of_Barack_Obama', 0.092],\n",
       "   ['Michelle_Obama', 0.092],\n",
       "   ['Obama_Domain', 0.092],\n",
       "   ['Barack_Obama_Sr.', 0.091],\n",
       "   ['Higashi-Obama_Station', 0.091],\n",
       "   ['Obama_Castle_(Wakasa_Province)', 0.091],\n",
       "   ['Obama_(surname)', 0.091],\n",
       "   ['Newspaper_endorsements_in_the_2008_United_States_presidential_primaries',\n",
       "    0.01701746529332736],\n",
       "   ['Sonia_Sotomayor', 0.01141961486789073],\n",
       "   ['Political_positions_of_Barack_Obama', 0.009255112703388566],\n",
       "   ['Obama_Doctrine', 0.007389162561576354],\n",
       "   ['Barack_Obama_judicial_appointment_controversies', 0.00664278250485147],\n",
       "   ['Barack_Obama_Supreme_Court_candidates', 0.004030452306314375],\n",
       "   ['Social_policy_of_the_Barack_Obama_administration', 0.00380653828929691],\n",
       "   ['Foreign_policy_of_the_Barack_Obama_administration',\n",
       "    0.0037319002836244215],\n",
       "   ['Barack_Obama_2008_presidential_campaign', 0.0034333482609344677],\n",
       "   ['Obama_Line', 0.003284072249589491],\n",
       "   ['Space_policy_of_the_Barack_Obama_administration', 0.0024630541871921183],\n",
       "   ['Family_of_Barack_Obama', 0.0023137781758471414],\n",
       "   ['2011_State_of_the_Union_Address', 0.0020152261531571876],\n",
       "   ['Energy_policy_of_the_Barack_Obama_administration', 0.0017913121361397223],\n",
       "   ['Barack_Obama_citizenship_conspiracy_theories', 0.0016420361247947454],\n",
       "   ['Community_organizing', 0.0016420361247947454],\n",
       "   ['2008_United_States_presidential_election', 0.0014927601134497686],\n",
       "   ['United_States_presidential_approval_rating', 0.0012688460964323032],\n",
       "   ['2010_State_of_the_Union_Address', 0.0011942080907598148],\n",
       "   ['Shepard_Fairey', 0.0011195700850873264],\n",
       "   ['The_Event_(2003_film)', 0.0010449320794148381],\n",
       "   ['Barack_Obama_Academy_of_International_Studies_6-12',\n",
       "    0.0009702940737423496],\n",
       "   ['Barack_Obama_Tucson_memorial_speech', 0.0009702940737423496],\n",
       "   ['Box-office_bomb', 0.0008210180623973727],\n",
       "   ['Osama_bin_Laden', 0.0007463800567248843],\n",
       "   ['Barack_Obama_&quot;Hope&quot;_poster', 0.0007463800567248843],\n",
       "   ['David_Palmer_(24_character)', 0.0007463800567248843],\n",
       "   ['In_God_We_Trust', 0.0007463800567248843],\n",
       "   ['Austan_Goolsbee', 0.0006717420510523958],\n",
       "   ['Constantine_the_Great_and_Christianity', 0.0005971040453799074],\n",
       "   ['American_Recovery_and_Reinvestment_Act_of_2009', 0.0005224660397074191],\n",
       "   ['Congressional_endorsements_for_the_United_States_presidential_election,_2008',\n",
       "    0.0005224660397074191],\n",
       "   ['Obambo', 0.0005224660397074191],\n",
       "   ['Bohemian_Grove', 0.0004478280340349306],\n",
       "   ['Frankenstein', 0.0004478280340349306],\n",
       "   ['Idiot', 0.0004478280340349306],\n",
       "   ['Barack_Obama_2008_presidential_election_victory_speech',\n",
       "    0.00037319002836244214],\n",
       "   ['Body_odor', 0.00037319002836244214],\n",
       "   ['Defense_of_Marriage_Act', 0.00037319002836244214],\n",
       "   ['Evita_(musical)', 0.00037319002836244214],\n",
       "   ['Frank_Marshall_Davis', 0.00037319002836244214],\n",
       "   ['Franklin_D._Roosevelt', 0.00037319002836244214],\n",
       "   ['Obama_logo', 0.00037319002836244214],\n",
       "   ['Perceptions_of_religious_imagery_in_natural_phenomena',\n",
       "    0.00037319002836244214],\n",
       "   ['Obama_(genus)', 0.0002239140170174653],\n",
       "   [\"Confirmations_of_Barack_Obama's_Cabinet\", 7.463800567248842e-05]],\n",
       "  'gold': ['NONE'],\n",
       "  'pos': 0,\n",
       "  'sent_idx': 0,\n",
       "  'ngram': 'Obama',\n",
       "  'end_pos': 5,\n",
       "  'sentence': 'Obama will visit Germany.',\n",
       "  'conf_md': 0.9997332692146301,\n",
       "  'tag': 'PER'},\n",
       " {'mention': 'Germany',\n",
       "  'context': ('Obama will visit', 'And have a meeting with Merkel tomorrow'),\n",
       "  'candidates': [['Germany', 0.852],\n",
       "   ['Germany_national_football_team', 0.036],\n",
       "   ['Nazi_Germany', 0.024],\n",
       "   ['German_Empire', 0.016],\n",
       "   [\"Germany_women's_national_football_team\", 0.008],\n",
       "   ['Weimar_Republic', 0.008],\n",
       "   ['Germany_national_basketball_team', 0.007],\n",
       "   ['German_Football_Association', 0.007],\n",
       "   ['Bundeswehr', 0.007],\n",
       "   [\"Germany_men's_national_ice_hockey_team\", 0.007],\n",
       "   ['Germany_in_the_Eurovision_Song_Contest', 0.007],\n",
       "   ['Germany_national_rugby_union_team', 0.007],\n",
       "   ['Germany_Davis_Cup_team', 0.006],\n",
       "   ['German_Papiermark', 0.006],\n",
       "   ['GfK_Entertainment_charts', 0.006],\n",
       "   ['Germany_national_cricket_team', 0.006],\n",
       "   ['Germany_national_youth_football_team', 0.006],\n",
       "   ['Germany_national_under-21_football_team', 0.006],\n",
       "   ['Bundesliga', 0.006],\n",
       "   ['Same-sex_marriage_in_Germany', 0.006],\n",
       "   ['Rock_music_in_Germany', 0.006],\n",
       "   ['Germany_at_the_2008_Summer_Olympics', 0.006],\n",
       "   ['German_euro_coins', 0.006],\n",
       "   ['Germany_at_the_2010_Winter_Olympics', 0.006],\n",
       "   ['Basketball_Bundesliga', 0.006],\n",
       "   ['A1_Team_Germany', 0.006],\n",
       "   ['Germany_national_handball_team', 0.006],\n",
       "   ['Germany_at_the_1992_Summer_Olympics', 0.006],\n",
       "   ['Germany_at_the_2004_Summer_Olympics', 0.006],\n",
       "   ['Germania', 0.006],\n",
       "   ['Germany_at_the_2006_Winter_Olympics', 0.006],\n",
       "   ['Germany_(European_Parliament_constituency)', 0.006],\n",
       "   ['Bundesverband_Musikindustrie', 0.006],\n",
       "   ['Germany_national_rugby_league_team', 0.006],\n",
       "   ['Germany_in_the_Eurovision_Song_Contest_2010', 0.006],\n",
       "   ['Germany_at_the_2000_Summer_Olympics', 0.006],\n",
       "   ['Germany–United_States_relations', 0.006],\n",
       "   ['List_of_ambassadors_of_the_United_States_to_Germany', 0.006],\n",
       "   ['Holy_Roman_Empire', 0.006],\n",
       "   ['West_Germany', 0.005],\n",
       "   [\"Germany_women's_national_handball_team\", 0.005],\n",
       "   [\"Germany_men's_national_volleyball_team\", 0.005],\n",
       "   ['Languages_of_Germany', 0.005],\n",
       "   ['United_Team_of_Germany_at_the_1960_Summer_Olympics', 0.005],\n",
       "   ['Germany_at_the_2008_Summer_Paralympics', 0.005],\n",
       "   [\"Germany_women's_national_field_hockey_team\", 0.005],\n",
       "   ['Miss_Germany', 0.005],\n",
       "   ['Germany_Fed_Cup_team', 0.005],\n",
       "   ['Germany_Pavilion_at_Epcot', 0.005],\n",
       "   ['1964_German_Grand_Prix', 0.005],\n",
       "   ['1969_German_Grand_Prix', 0.005],\n",
       "   ['1971_German_Grand_Prix', 0.005],\n",
       "   ['1975_German_Grand_Prix', 0.005],\n",
       "   ['1976_German_Grand_Prix', 0.005],\n",
       "   ['1980_German_Grand_Prix', 0.005],\n",
       "   ['1981_German_Grand_Prix', 0.005],\n",
       "   ['1982_German_Grand_Prix', 0.005],\n",
       "   ['1985_German_Grand_Prix', 0.005],\n",
       "   ['1991_German_Grand_Prix', 0.005],\n",
       "   ['1995_German_Grand_Prix', 0.005],\n",
       "   ['1996_German_Grand_Prix', 0.005],\n",
       "   ['1997_German_Grand_Prix', 0.005],\n",
       "   ['1998_FIBA_World_Championship_for_Women', 0.005],\n",
       "   ['1998_German_Grand_Prix', 0.005],\n",
       "   ['1999_German_Grand_Prix', 0.005],\n",
       "   ['2001_German_Grand_Prix', 0.005],\n",
       "   ['2003_German_Grand_Prix', 0.005],\n",
       "   ['2004_German_Grand_Prix', 0.005],\n",
       "   ['2005_German_Grand_Prix', 0.005],\n",
       "   ['2006_FIFA_World_Cup', 0.005],\n",
       "   ['2006_German_Grand_Prix', 0.005],\n",
       "   ['2008_German_Grand_Prix', 0.005],\n",
       "   ['2009–10_Bundesliga', 0.005],\n",
       "   ['2009_German_Grand_Prix', 0.005],\n",
       "   ['2010_German_Grand_Prix', 0.005],\n",
       "   ['German_occupation_of_Albania', 0.005],\n",
       "   ['Albanians_in_Germany', 0.005],\n",
       "   ['Allied-occupied_Germany', 0.005],\n",
       "   ['Altona,_Hamburg', 0.005],\n",
       "   ['Apostolic_Nunciature_to_Germany', 0.005],\n",
       "   ['Armenians_in_Germany', 0.005],\n",
       "   ['Battle_of_the_Atlantic', 0.005],\n",
       "   ['Berlin', 0.005],\n",
       "   ['Berlin-class_replenishment_ship', 0.005],\n",
       "   ['Bohemia', 0.005],\n",
       "   ['Bremen-Verden', 0.005],\n",
       "   ['British_Forces_Germany', 0.005],\n",
       "   ['Claude_Germany', 0.005],\n",
       "   ['Coat_of_arms_of_Germany', 0.005],\n",
       "   ['Comedy_Central_(German_TV_channel)', 0.005],\n",
       "   ['Condor_Legion', 0.005],\n",
       "   ['Confederation_of_the_Rhine', 0.005],\n",
       "   ['Deutsche_Eishockey_Liga', 0.005],\n",
       "   ['German_Hockey_Federation', 0.005],\n",
       "   ['Deutschland_sucht_den_Superstar', 0.005],\n",
       "   ['East_Francia', 0.005],\n",
       "   ['East_Germany', 0.005],\n",
       "   ['Elections_in_Germany', 0.005],\n",
       "   ['Elterngeld', 0.005],\n",
       "   ['1999_European_Parliament_election_in_Germany', 0.005]],\n",
       "  'gold': ['NONE'],\n",
       "  'pos': 17,\n",
       "  'sent_idx': 0,\n",
       "  'ngram': 'Germany',\n",
       "  'end_pos': 24,\n",
       "  'sentence': 'Obama will visit Germany.',\n",
       "  'conf_md': 0.9999529123306274,\n",
       "  'tag': 'LOC'},\n",
       " {'mention': 'Merkel',\n",
       "  'context': ('Obama will visit Germany And have a meeting with', 'tomorrow'),\n",
       "  'candidates': [['Angela_Merkel', 0.572],\n",
       "   ['Max_Merkel', 0.292],\n",
       "   ['Merkel,_Texas', 0.258],\n",
       "   ['Oliver_Merkel', 0.067],\n",
       "   ['Merkel_nerve_ending', 0.06],\n",
       "   ['Earl_Merkel', 0.056],\n",
       "   ['Fred_Merkel', 0.056],\n",
       "   ['Friedrich_Sigmund_Merkel', 0.056],\n",
       "   ['Garlieb_Merkel', 0.056],\n",
       "   ['Gustav_Merkel', 0.056],\n",
       "   ['Harry_Merkel', 0.056],\n",
       "   ['Jim_Merkel', 0.056],\n",
       "   ['Manfred_Merkel', 0.056],\n",
       "   ['Merkel_cell', 0.056],\n",
       "   ['Officer_Merkel', 0.056],\n",
       "   ['Reiner_Merkel', 0.056],\n",
       "   ['Therese_Merkel', 0.056],\n",
       "   ['Una_Merkel', 0.056],\n",
       "   ['Alexander_Merkel', 0.025367156208277702],\n",
       "   ['Merkel_(firearms_manufacturer)', 0.0013351134846461949],\n",
       "   ['Germany', 0.0006675567423230974],\n",
       "   ['Ron_Merkel', 0.0006675567423230974],\n",
       "   ['Merkel_(surname)', 0.0006675567423230974]],\n",
       "  'gold': ['NONE'],\n",
       "  'pos': 50,\n",
       "  'sent_idx': 1,\n",
       "  'ngram': 'Merkel',\n",
       "  'end_pos': 56,\n",
       "  'sentence': 'And have a meeting with Merkel tomorrow.',\n",
       "  'conf_md': 0.9999891519546509,\n",
       "  'tag': 'PER'}]"
      ]
     },
     "execution_count": 20,
     "metadata": {},
     "output_type": "execute_result"
    }
   ],
   "source": [
    "mentions_dataset['test_doc1']"
   ]
  },
  {
   "cell_type": "code",
   "execution_count": 10,
   "id": "9e859432-87e6-40f6-81b9-02991a93e4c6",
   "metadata": {
    "tags": []
   },
   "outputs": [
    {
     "name": "stderr",
     "output_type": "stream",
     "text": [
      "/home/ec2-user/environments/styx_env/lib/python3.10/site-packages/sklearn/base.py:318: UserWarning: Trying to unpickle estimator LogisticRegression from version 0.23.1 when using version 1.2.2. This might lead to breaking code or invalid results. Use at your own risk. For more info please refer to:\n",
      "https://scikit-learn.org/stable/model_persistence.html#security-maintainability-limitations\n",
      "  warnings.warn(\n"
     ]
    },
    {
     "name": "stdout",
     "output_type": "stream",
     "text": [
      "Loading model from given path: /home/ec2-user/.rel_cache/ed-wiki-2019/model\n"
     ]
    }
   ],
   "source": [
    "config = {\n",
    "    \"mode\": \"eval\",\n",
    "    \"model_path\": \"ed-wiki-2019\",\n",
    "}\n",
    "\n",
    "model = EntityDisambiguation(base_url, wiki_version, config)\n",
    "predictions, timing = model.predict(mentions_dataset)"
   ]
  },
  {
   "cell_type": "code",
   "execution_count": 11,
   "id": "6e35da26-6552-4204-bced-1d9956abf2f0",
   "metadata": {
    "tags": []
   },
   "outputs": [
    {
     "data": {
      "text/plain": [
       "{'test_doc1': [{'mention': 'Obama',\n",
       "   'prediction': 'Barack_Obama',\n",
       "   'candidates': ['Barack_Obama',\n",
       "    'Obama,_Fukui',\n",
       "    'Obama,_Nagasaki',\n",
       "    'Obama_Station',\n",
       "    'Michelle_Obama',\n",
       "    'Family_of_Barack_Obama',\n",
       "    '2008_United_States_presidential_election'],\n",
       "   'conf_ed': 0.9312528153257645,\n",
       "   'scores': ['0.4593951',\n",
       "    '0.40141732',\n",
       "    '0.3995159',\n",
       "    '0.3990866',\n",
       "    '0.4182779',\n",
       "    '0.37923098',\n",
       "    '0.34583557']},\n",
       "  {'mention': 'Germany',\n",
       "   'prediction': 'Germany',\n",
       "   'candidates': ['Germany',\n",
       "    'Germany_national_football_team',\n",
       "    'Nazi_Germany',\n",
       "    'German_Empire',\n",
       "    \"Germany_women's_national_football_team\",\n",
       "    'Weimar_Republic',\n",
       "    'Same-sex_marriage_in_Germany'],\n",
       "   'conf_ed': 0.5245728296743994,\n",
       "   'scores': ['0.43033266',\n",
       "    '0.39006326',\n",
       "    '0.38722378',\n",
       "    '0.38899815',\n",
       "    '0.3888815',\n",
       "    '0.38889253',\n",
       "    '0.38826782']},\n",
       "  {'mention': 'Merkel',\n",
       "   'prediction': 'Angela_Merkel',\n",
       "   'candidates': ['Angela_Merkel',\n",
       "    'Max_Merkel',\n",
       "    'Merkel,_Texas',\n",
       "    'Oliver_Merkel',\n",
       "    'Merkel_nerve_ending',\n",
       "    'Officer_Merkel',\n",
       "    'Una_Merkel'],\n",
       "   'conf_ed': 0.4919704442533669,\n",
       "   'scores': ['0.42882037',\n",
       "    '0.4053421',\n",
       "    '0.4045393',\n",
       "    '0.39606345',\n",
       "    '0.39491022',\n",
       "    '0.39451498',\n",
       "    '0.39419645']}],\n",
       " 'test_doc2': [{'mention': 'Obama',\n",
       "   'prediction': 'Barack_Obama',\n",
       "   'candidates': ['Barack_Obama',\n",
       "    'Obama,_Fukui',\n",
       "    'Obama,_Nagasaki',\n",
       "    'Obama_Station',\n",
       "    'Michelle_Obama',\n",
       "    'Family_of_Barack_Obama',\n",
       "    '2008_United_States_presidential_election'],\n",
       "   'conf_ed': 0.9312528153257645,\n",
       "   'scores': ['0.4593951',\n",
       "    '0.40141732',\n",
       "    '0.3995159',\n",
       "    '0.3990866',\n",
       "    '0.4182779',\n",
       "    '0.37923098',\n",
       "    '0.34583557']},\n",
       "  {'mention': 'Germany',\n",
       "   'prediction': 'Germany',\n",
       "   'candidates': ['Germany',\n",
       "    'Germany_national_football_team',\n",
       "    'Nazi_Germany',\n",
       "    'German_Empire',\n",
       "    \"Germany_women's_national_football_team\",\n",
       "    'Weimar_Republic',\n",
       "    'Same-sex_marriage_in_Germany'],\n",
       "   'conf_ed': 0.5245728296743994,\n",
       "   'scores': ['0.43033266',\n",
       "    '0.39006326',\n",
       "    '0.38722378',\n",
       "    '0.38899815',\n",
       "    '0.3888815',\n",
       "    '0.38889253',\n",
       "    '0.38826782']},\n",
       "  {'mention': 'Merkel',\n",
       "   'prediction': 'Angela_Merkel',\n",
       "   'candidates': ['Angela_Merkel',\n",
       "    'Max_Merkel',\n",
       "    'Merkel,_Texas',\n",
       "    'Oliver_Merkel',\n",
       "    'Merkel_nerve_ending',\n",
       "    'Officer_Merkel',\n",
       "    'Una_Merkel'],\n",
       "   'conf_ed': 0.4919704442533669,\n",
       "   'scores': ['0.42882037',\n",
       "    '0.4053421',\n",
       "    '0.4045393',\n",
       "    '0.39606345',\n",
       "    '0.39491022',\n",
       "    '0.39451498',\n",
       "    '0.39419645']}]}"
      ]
     },
     "execution_count": 11,
     "metadata": {},
     "output_type": "execute_result"
    }
   ],
   "source": [
    "predictions"
   ]
  },
  {
   "cell_type": "code",
   "execution_count": null,
   "id": "9fcb68a6-7d8c-46e5-81a6-092e02fccec2",
   "metadata": {},
   "outputs": [],
   "source": []
  },
  {
   "cell_type": "code",
   "execution_count": null,
   "id": "03993142-3ce3-4bc0-9aad-12f7dace73f4",
   "metadata": {},
   "outputs": [],
   "source": []
  },
  {
   "cell_type": "code",
   "execution_count": null,
   "id": "3630cd3e-f732-46a3-903a-6e6ecf543261",
   "metadata": {},
   "outputs": [],
   "source": []
  },
  {
   "cell_type": "code",
   "execution_count": null,
   "id": "63265375-8a18-4b8c-b7a6-b92cfd81e472",
   "metadata": {},
   "outputs": [],
   "source": []
  },
  {
   "cell_type": "code",
   "execution_count": null,
   "id": "12782480-158e-4bc8-9d7b-23ee0e544191",
   "metadata": {},
   "outputs": [],
   "source": []
  },
  {
   "cell_type": "code",
   "execution_count": null,
   "id": "cd87b854-fcbe-469f-a95f-5658518a5ddf",
   "metadata": {},
   "outputs": [],
   "source": []
  },
  {
   "cell_type": "code",
   "execution_count": 6,
   "id": "d56589e3-9fbf-4b0a-a5bf-799081f33d81",
   "metadata": {
    "tags": []
   },
   "outputs": [
    {
     "data": {
      "text/plain": [
       "'/home/ec2-user/environments/styx_env/styx/data/REL/wiki_2019/generated'"
      ]
     },
     "execution_count": 6,
     "metadata": {},
     "output_type": "execute_result"
    }
   ],
   "source": [
    "os.path.join(base_url, wiki_version, \"generated\")"
   ]
  },
  {
   "cell_type": "code",
   "execution_count": null,
   "id": "af6b29e4-81e0-42fb-94c0-7743a26f942c",
   "metadata": {},
   "outputs": [],
   "source": [
    "config = {\n",
    "    \"mode\": \"train\",\n",
    "    \"model_path\": \"{}/{}/generated/model\".format(\n",
    "        base_url, wiki_version\n",
    "    ),\n",
    "}\n",
    "model = EntityDisambiguation(base_url, wiki_version, config)"
   ]
  },
  {
   "cell_type": "code",
   "execution_count": null,
   "id": "88353290-b266-4f3f-8776-7a0bc34c4f76",
   "metadata": {},
   "outputs": [],
   "source": []
  },
  {
   "cell_type": "code",
   "execution_count": 37,
   "id": "0397a0e9-176b-4dea-b22d-6d396b87861e",
   "metadata": {
    "tags": []
   },
   "outputs": [],
   "source": [
    "API_URL = \"https://rel.cs.ru.nl/api\""
   ]
  },
  {
   "cell_type": "code",
   "execution_count": 59,
   "id": "c37507b0-36b4-4110-b131-077f159c7fe5",
   "metadata": {
    "tags": []
   },
   "outputs": [],
   "source": [
    "text_doc = \"If you're going to try, go all the way - Charles Bukowski\"\n",
    "\n",
    "# Example EL.\n",
    "el_result = requests.post(API_URL, json={\n",
    "    \"text\": text_doc,\n",
    "    \"spans\": []\n",
    "}).json()\n",
    "\n",
    "# Example ED.\n",
    "ed_result = requests.post(API_URL, json={\n",
    "    \"text\": text_doc,\n",
    "    \"spans\": [(40, 16)]\n",
    "}).json()"
   ]
  },
  {
   "cell_type": "code",
   "execution_count": 60,
   "id": "a5594601-628a-4907-8a84-d78fc52ac765",
   "metadata": {
    "tags": []
   },
   "outputs": [
    {
     "data": {
      "text/plain": [
       "[[41,\n",
       "  16,\n",
       "  'Charles Bukowski',\n",
       "  'Charles_Bukowski',\n",
       "  0.9535556493571484,\n",
       "  0.988037109375,\n",
       "  'PER']]"
      ]
     },
     "execution_count": 60,
     "metadata": {},
     "output_type": "execute_result"
    }
   ],
   "source": [
    "el_result"
   ]
  },
  {
   "cell_type": "code",
   "execution_count": 61,
   "id": "9bdbd7e3-12f2-4385-935f-0fa838fd8542",
   "metadata": {
    "tags": []
   },
   "outputs": [
    {
     "data": {
      "text/plain": [
       "[[40,\n",
       "  16,\n",
       "  ' Charles Bukowsk',\n",
       "  'Charles_Bukowski',\n",
       "  0.38727825954758405,\n",
       "  0.0,\n",
       "  'NULL']]"
      ]
     },
     "execution_count": 61,
     "metadata": {},
     "output_type": "execute_result"
    }
   ],
   "source": [
    "ed_result"
   ]
  },
  {
   "cell_type": "code",
   "execution_count": 7,
   "id": "c19e6a06-0a51-40d3-a8dc-189cdbc5e8ac",
   "metadata": {
    "tags": []
   },
   "outputs": [
    {
     "data": {
      "text/plain": [
       "(448306, 2)"
      ]
     },
     "execution_count": 7,
     "metadata": {},
     "output_type": "execute_result"
    }
   ],
   "source": [
    "df.shape"
   ]
  },
  {
   "cell_type": "code",
   "execution_count": 8,
   "id": "b8744e52-c46a-4f63-bda2-6c649bdf15e0",
   "metadata": {
    "tags": []
   },
   "outputs": [
    {
     "data": {
      "text/plain": [
       "'Jim Cramer: A better way to invest in the Covid-19 vaccine gold rush'"
      ]
     },
     "execution_count": 8,
     "metadata": {},
     "output_type": "execute_result"
    }
   ],
   "source": [
    "df.loc[0, 'title']"
   ]
  },
  {
   "cell_type": "code",
   "execution_count": 9,
   "id": "cd015471-3baf-4fad-bcad-69927f58a6a7",
   "metadata": {
    "tags": []
   },
   "outputs": [
    {
     "name": "stdout",
     "output_type": "stream",
     "text": [
      "CPU times: user 87.9 ms, sys: 0 ns, total: 87.9 ms\n",
      "Wall time: 4.97 s\n"
     ]
    },
    {
     "data": {
      "text/plain": [
       "[[0,\n",
       "  10,\n",
       "  'Jim Cramer',\n",
       "  'Jim_Cramer',\n",
       "  0.6775981905919447,\n",
       "  0.95093634724617,\n",
       "  'PER']]"
      ]
     },
     "execution_count": 9,
     "metadata": {},
     "output_type": "execute_result"
    }
   ],
   "source": [
    "%%time\n",
    "requests.post(API_URL, json={\n",
    "    \"text\": df.loc[0, 'title'],\n",
    "    \"spans\": []\n",
    "}).json()"
   ]
  },
  {
   "cell_type": "code",
   "execution_count": null,
   "id": "8d9e4b27-7dc3-44e1-9482-ed3782f43103",
   "metadata": {},
   "outputs": [],
   "source": []
  },
  {
   "cell_type": "code",
   "execution_count": null,
   "id": "42a7a162-dcf4-46ba-b8ec-c50fb0f39383",
   "metadata": {},
   "outputs": [],
   "source": []
  },
  {
   "cell_type": "code",
   "execution_count": 2,
   "id": "995e9042-1dc4-4d6e-a3b9-dd62854adcc4",
   "metadata": {},
   "outputs": [
    {
     "data": {
      "text/plain": [
       "[[41,\n",
       "  16,\n",
       "  'Charles Bukowski',\n",
       "  'Charles_Bukowski',\n",
       "  0.9535556493571484,\n",
       "  0.988037109375,\n",
       "  'PER']]"
      ]
     },
     "execution_count": 2,
     "metadata": {},
     "output_type": "execute_result"
    }
   ],
   "source": [
    "el_result"
   ]
  },
  {
   "cell_type": "code",
   "execution_count": 3,
   "id": "27f59240-7538-4b76-982a-5a5e8c9756bc",
   "metadata": {},
   "outputs": [
    {
     "data": {
      "text/plain": [
       "[[41,\n",
       "  16,\n",
       "  'Charles Bukowski',\n",
       "  'Charles_Bukowski',\n",
       "  0.9535556493571484,\n",
       "  0.0,\n",
       "  'NULL']]"
      ]
     },
     "execution_count": 3,
     "metadata": {},
     "output_type": "execute_result"
    }
   ],
   "source": [
    "ed_result"
   ]
  },
  {
   "cell_type": "code",
   "execution_count": null,
   "id": "8d340ca9-76c7-47a4-a160-2b201b0086ac",
   "metadata": {},
   "outputs": [],
   "source": []
  }
 ],
 "metadata": {
  "kernelspec": {
   "display_name": "Python 3 (ipykernel)",
   "language": "python",
   "name": "python3"
  },
  "language_info": {
   "codemirror_mode": {
    "name": "ipython",
    "version": 3
   },
   "file_extension": ".py",
   "mimetype": "text/x-python",
   "name": "python",
   "nbconvert_exporter": "python",
   "pygments_lexer": "ipython3",
   "version": "3.11.7"
  }
 },
 "nbformat": 4,
 "nbformat_minor": 5
}
