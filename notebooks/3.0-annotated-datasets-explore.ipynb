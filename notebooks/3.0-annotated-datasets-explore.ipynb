{
 "cells": [
  {
   "cell_type": "code",
   "execution_count": 17,
   "id": "d364dc6f-e3fa-487a-9fe4-7dcfda9b7170",
   "metadata": {
    "tags": []
   },
   "outputs": [],
   "source": [
    "import numpy as np\n",
    "import pandas as pd\n",
    "\n",
    "from ast import literal_eval"
   ]
  },
  {
   "cell_type": "code",
   "execution_count": 19,
   "id": "44d8ffba-262d-437b-b08e-80c8db2e0d9e",
   "metadata": {
    "tags": []
   },
   "outputs": [
    {
     "name": "stdout",
     "output_type": "stream",
     "text": [
      "152226\n"
     ]
    }
   ],
   "source": [
    "df = pd.read_csv(\n",
    "    '../data/interim/train/annotated_articles.csv', \n",
    "    converters={\n",
    "        'headline_mentions': literal_eval,\n",
    "        'body_text_mentions': literal_eval,\n",
    "        'salient_entities': literal_eval,\n",
    "        'salient_entities_list': literal_eval\n",
    "        }\n",
    "    )\n",
    "\n",
    "print(df.shape[0])"
   ]
  },
  {
   "cell_type": "code",
   "execution_count": 20,
   "id": "cf0c80e4-9da9-4054-a788-605985f0df56",
   "metadata": {
    "tags": []
   },
   "outputs": [
    {
     "name": "stdout",
     "output_type": "stream",
     "text": [
      "<class 'list'>\n"
     ]
    }
   ],
   "source": [
    "print(type(df.loc[0, 'headline_mentions']))"
   ]
  },
  {
   "cell_type": "code",
   "execution_count": 21,
   "id": "0ee5f516-dc6d-4311-b787-6e5de22f069f",
   "metadata": {
    "tags": []
   },
   "outputs": [
    {
     "data": {
      "text/html": [
       "<div>\n",
       "<style scoped>\n",
       "    .dataframe tbody tr th:only-of-type {\n",
       "        vertical-align: middle;\n",
       "    }\n",
       "\n",
       "    .dataframe tbody tr th {\n",
       "        vertical-align: top;\n",
       "    }\n",
       "\n",
       "    .dataframe thead th {\n",
       "        text-align: right;\n",
       "    }\n",
       "</style>\n",
       "<table border=\"1\" class=\"dataframe\">\n",
       "  <thead>\n",
       "    <tr style=\"text-align: right;\">\n",
       "      <th></th>\n",
       "      <th>headline</th>\n",
       "      <th>body_text</th>\n",
       "      <th>headline_mentions</th>\n",
       "      <th>body_text_mentions</th>\n",
       "      <th>salient_entities</th>\n",
       "      <th>salient_entities_list</th>\n",
       "    </tr>\n",
       "  </thead>\n",
       "  <tbody>\n",
       "    <tr>\n",
       "      <th>0</th>\n",
       "      <td>Salesforce's Marc Benioff: Face masks can end ...</td>\n",
       "      <td>Salesforce CEO Marc Benioff told CNBC's Jim Cr...</td>\n",
       "      <td>[(0, 10, Salesforce, Salesforce.com, 0.4634936...</td>\n",
       "      <td>[(0, 10, Salesforce, Salesforce.com, 0.5008287...</td>\n",
       "      <td>[(0, 10, Salesforce, Salesforce.com, 0.5008287...</td>\n",
       "      <td>[Salesforce.com]</td>\n",
       "    </tr>\n",
       "    <tr>\n",
       "      <th>1</th>\n",
       "      <td>Sustainable produce supplier Apeel lands deal ...</td>\n",
       "      <td>Apeel will bring limes to Wakefern Food grocer...</td>\n",
       "      <td>[(51, 8, Wakefern, Wakefern_Food_Corporation, ...</td>\n",
       "      <td>[(26, 13, Wakefern Food, Wakefern_Food_Corpora...</td>\n",
       "      <td>[(26, 13, Wakefern Food, Wakefern_Food_Corpora...</td>\n",
       "      <td>[Wakefern_Food_Corporation]</td>\n",
       "    </tr>\n",
       "    <tr>\n",
       "      <th>2</th>\n",
       "      <td>Conagra CEO on revamping Mrs. Butterworth's br...</td>\n",
       "      <td>\"Mrs. Butterworth's was really architected to ...</td>\n",
       "      <td>[(0, 7, Conagra, Conagra_Brands, 0.38727776780...</td>\n",
       "      <td>[(164, 7, Conagra, Conagra_Brands, 0.387277767...</td>\n",
       "      <td>[(164, 7, Conagra, Conagra_Brands, 0.387277767...</td>\n",
       "      <td>[Conagra_Brands]</td>\n",
       "    </tr>\n",
       "    <tr>\n",
       "      <th>3</th>\n",
       "      <td>Marc Benioff says 35 states are now using Sale...</td>\n",
       "      <td>\"This is a time where every company needs to r...</td>\n",
       "      <td>[(42, 10, Salesforce, Salesforce.com, 0.406313...</td>\n",
       "      <td>[(114, 10, Salesforce, Salesforce.com, 0.54815...</td>\n",
       "      <td>[(114, 10, Salesforce, Salesforce.com, 0.54815...</td>\n",
       "      <td>[Salesforce.com]</td>\n",
       "    </tr>\n",
       "    <tr>\n",
       "      <th>4</th>\n",
       "      <td>The U.S. recovery might not be V-shaped, but '...</td>\n",
       "      <td>Byron Wien, vice chairman at Private Wealth So...</td>\n",
       "      <td>[(77, 10, Blackstone, The_Blackstone_Group, 0....</td>\n",
       "      <td>[(63, 10, Blackstone, The_Blackstone_Group, 0....</td>\n",
       "      <td>[(63, 10, Blackstone, The_Blackstone_Group, 0....</td>\n",
       "      <td>[The_Blackstone_Group]</td>\n",
       "    </tr>\n",
       "  </tbody>\n",
       "</table>\n",
       "</div>"
      ],
      "text/plain": [
       "                                            headline   \n",
       "0  Salesforce's Marc Benioff: Face masks can end ...  \\\n",
       "1  Sustainable produce supplier Apeel lands deal ...   \n",
       "2  Conagra CEO on revamping Mrs. Butterworth's br...   \n",
       "3  Marc Benioff says 35 states are now using Sale...   \n",
       "4  The U.S. recovery might not be V-shaped, but '...   \n",
       "\n",
       "                                           body_text   \n",
       "0  Salesforce CEO Marc Benioff told CNBC's Jim Cr...  \\\n",
       "1  Apeel will bring limes to Wakefern Food grocer...   \n",
       "2  \"Mrs. Butterworth's was really architected to ...   \n",
       "3  \"This is a time where every company needs to r...   \n",
       "4  Byron Wien, vice chairman at Private Wealth So...   \n",
       "\n",
       "                                   headline_mentions   \n",
       "0  [(0, 10, Salesforce, Salesforce.com, 0.4634936...  \\\n",
       "1  [(51, 8, Wakefern, Wakefern_Food_Corporation, ...   \n",
       "2  [(0, 7, Conagra, Conagra_Brands, 0.38727776780...   \n",
       "3  [(42, 10, Salesforce, Salesforce.com, 0.406313...   \n",
       "4  [(77, 10, Blackstone, The_Blackstone_Group, 0....   \n",
       "\n",
       "                                  body_text_mentions   \n",
       "0  [(0, 10, Salesforce, Salesforce.com, 0.5008287...  \\\n",
       "1  [(26, 13, Wakefern Food, Wakefern_Food_Corpora...   \n",
       "2  [(164, 7, Conagra, Conagra_Brands, 0.387277767...   \n",
       "3  [(114, 10, Salesforce, Salesforce.com, 0.54815...   \n",
       "4  [(63, 10, Blackstone, The_Blackstone_Group, 0....   \n",
       "\n",
       "                                    salient_entities   \n",
       "0  [(0, 10, Salesforce, Salesforce.com, 0.5008287...  \\\n",
       "1  [(26, 13, Wakefern Food, Wakefern_Food_Corpora...   \n",
       "2  [(164, 7, Conagra, Conagra_Brands, 0.387277767...   \n",
       "3  [(114, 10, Salesforce, Salesforce.com, 0.54815...   \n",
       "4  [(63, 10, Blackstone, The_Blackstone_Group, 0....   \n",
       "\n",
       "         salient_entities_list  \n",
       "0             [Salesforce.com]  \n",
       "1  [Wakefern_Food_Corporation]  \n",
       "2             [Conagra_Brands]  \n",
       "3             [Salesforce.com]  \n",
       "4       [The_Blackstone_Group]  "
      ]
     },
     "execution_count": 21,
     "metadata": {},
     "output_type": "execute_result"
    }
   ],
   "source": [
    "df.head()"
   ]
  },
  {
   "cell_type": "code",
   "execution_count": 4,
   "id": "a092ed9b-0837-4f66-a51c-48276a7cc2f3",
   "metadata": {
    "tags": []
   },
   "outputs": [
    {
     "name": "stdout",
     "output_type": "stream",
     "text": [
      "442457\n",
      "442457\n"
     ]
    }
   ],
   "source": [
    "initial = pd.read_csv('../data/external/concatenated/train_news_raw.csv')\n",
    "\n",
    "print(initial.shape[0])\n",
    "print(initial.drop_duplicates().shape[0])"
   ]
  },
  {
   "cell_type": "code",
   "execution_count": 5,
   "id": "8d1ac6a8-38fb-430f-9fe0-b58be3b0e9e8",
   "metadata": {
    "tags": []
   },
   "outputs": [
    {
     "data": {
      "text/html": [
       "<div>\n",
       "<style scoped>\n",
       "    .dataframe tbody tr th:only-of-type {\n",
       "        vertical-align: middle;\n",
       "    }\n",
       "\n",
       "    .dataframe tbody tr th {\n",
       "        vertical-align: top;\n",
       "    }\n",
       "\n",
       "    .dataframe thead th {\n",
       "        text-align: right;\n",
       "    }\n",
       "</style>\n",
       "<table border=\"1\" class=\"dataframe\">\n",
       "  <thead>\n",
       "    <tr style=\"text-align: right;\">\n",
       "      <th></th>\n",
       "      <th>title</th>\n",
       "      <th>article</th>\n",
       "    </tr>\n",
       "  </thead>\n",
       "  <tbody>\n",
       "    <tr>\n",
       "      <th>0</th>\n",
       "      <td>Jim Cramer: A better way to invest in the Covi...</td>\n",
       "      <td>\"Mad Money\" host Jim Cramer recommended buying...</td>\n",
       "    </tr>\n",
       "    <tr>\n",
       "      <th>1</th>\n",
       "      <td>Cramer's lightning round: I would own Teradyne</td>\n",
       "      <td>\"Mad Money\" host Jim Cramer rings the lightnin...</td>\n",
       "    </tr>\n",
       "    <tr>\n",
       "      <th>2</th>\n",
       "      <td>Cramer's week ahead: Big week for earnings, ev...</td>\n",
       "      <td>\"We'll pay more for the earnings of the non-Co...</td>\n",
       "    </tr>\n",
       "    <tr>\n",
       "      <th>3</th>\n",
       "      <td>IQ Capital CEO Keith Bliss says tech and healt...</td>\n",
       "      <td>Keith Bliss, IQ Capital CEO, joins \"Closing Be...</td>\n",
       "    </tr>\n",
       "    <tr>\n",
       "      <th>4</th>\n",
       "      <td>Wall Street delivered the 'kind of pullback I'...</td>\n",
       "      <td>\"Look for the stocks of high-quality companies...</td>\n",
       "    </tr>\n",
       "    <tr>\n",
       "      <th>5</th>\n",
       "      <td>Cramer's lightning round: I would just stay lo...</td>\n",
       "      <td>\"Mad Money\" host Jim Cramer rings the lightnin...</td>\n",
       "    </tr>\n",
       "    <tr>\n",
       "      <th>6</th>\n",
       "      <td>Acorns CEO: Parents can turn $5 into five figu...</td>\n",
       "      <td>Investing $5 per day can compound to $70,000 b...</td>\n",
       "    </tr>\n",
       "    <tr>\n",
       "      <th>7</th>\n",
       "      <td>Dividend cuts may mean rethinking your retirem...</td>\n",
       "      <td>Hundreds of companies have cut or suspended th...</td>\n",
       "    </tr>\n",
       "    <tr>\n",
       "      <th>8</th>\n",
       "      <td>StockX has authenticated 1 million Jordan snea...</td>\n",
       "      <td>\"We've been able to capture these cultural mom...</td>\n",
       "    </tr>\n",
       "    <tr>\n",
       "      <th>9</th>\n",
       "      <td>Biohaven Pharmaceuticals lands Khloe Kardashia...</td>\n",
       "      <td>Biohaven CEO Vlad Coric said the company broug...</td>\n",
       "    </tr>\n",
       "  </tbody>\n",
       "</table>\n",
       "</div>"
      ],
      "text/plain": [
       "                                               title   \n",
       "0  Jim Cramer: A better way to invest in the Covi...  \\\n",
       "1     Cramer's lightning round: I would own Teradyne   \n",
       "2  Cramer's week ahead: Big week for earnings, ev...   \n",
       "3  IQ Capital CEO Keith Bliss says tech and healt...   \n",
       "4  Wall Street delivered the 'kind of pullback I'...   \n",
       "5  Cramer's lightning round: I would just stay lo...   \n",
       "6  Acorns CEO: Parents can turn $5 into five figu...   \n",
       "7  Dividend cuts may mean rethinking your retirem...   \n",
       "8  StockX has authenticated 1 million Jordan snea...   \n",
       "9  Biohaven Pharmaceuticals lands Khloe Kardashia...   \n",
       "\n",
       "                                             article  \n",
       "0  \"Mad Money\" host Jim Cramer recommended buying...  \n",
       "1  \"Mad Money\" host Jim Cramer rings the lightnin...  \n",
       "2  \"We'll pay more for the earnings of the non-Co...  \n",
       "3  Keith Bliss, IQ Capital CEO, joins \"Closing Be...  \n",
       "4  \"Look for the stocks of high-quality companies...  \n",
       "5  \"Mad Money\" host Jim Cramer rings the lightnin...  \n",
       "6  Investing $5 per day can compound to $70,000 b...  \n",
       "7  Hundreds of companies have cut or suspended th...  \n",
       "8  \"We've been able to capture these cultural mom...  \n",
       "9  Biohaven CEO Vlad Coric said the company broug...  "
      ]
     },
     "execution_count": 5,
     "metadata": {},
     "output_type": "execute_result"
    }
   ],
   "source": [
    "initial.head(10)"
   ]
  },
  {
   "cell_type": "code",
   "execution_count": 33,
   "id": "3ede1214-fa5c-4213-b4ca-b34145278593",
   "metadata": {
    "tags": []
   },
   "outputs": [
    {
     "data": {
      "text/plain": [
       "count    442457.000000\n",
       "mean        392.359825\n",
       "std         638.499160\n",
       "min           0.000000\n",
       "0%            0.000000\n",
       "             ...      \n",
       "96%        1118.000000\n",
       "97%        1281.000000\n",
       "98%        1774.880000\n",
       "99%        3267.000000\n",
       "max       35218.000000\n",
       "Name: article, Length: 105, dtype: float64"
      ]
     },
     "execution_count": 33,
     "metadata": {},
     "output_type": "execute_result"
    }
   ],
   "source": [
    "initial['article'].str.split().map(len).describe(percentiles=np.arange(0, 100, 1) / 100)"
   ]
  },
  {
   "cell_type": "code",
   "execution_count": 13,
   "id": "d024008a-87dd-4310-8bc4-8b3854251bd2",
   "metadata": {
    "tags": []
   },
   "outputs": [
    {
     "data": {
      "text/plain": [
       "14129"
      ]
     },
     "execution_count": 13,
     "metadata": {},
     "output_type": "execute_result"
    }
   ],
   "source": [
    "len(initial.iloc[299663, 1].split())"
   ]
  },
  {
   "cell_type": "code",
   "execution_count": 14,
   "id": "fc148f69-aa0a-4252-9a66-86345cf2ab0f",
   "metadata": {
    "scrolled": true,
    "tags": []
   },
   "outputs": [
    {
     "data": {
      "text/plain": [
       "\"CNH Industrial: periodic report on the buy-back program\\nLondon, March 23, 2018\\nCNH Industrial N.V. (NYSE: CNHI / MI: CNHI) announces that, under the common share buy-back program announced on June 5, 2017, the Company has completed on the Italian Stock Exchange (M.T.A.) the transactions reported in aggregate as follows:\\nDate Number of common shares purchased Average price\\nper share\\nincluding fees Consideration\\nincluding fees Consideration (*)\\nincluding fees (€) (€) ($) March 14, 2018 168,836 10.8755 1,836,169.44 2,271,157.99 March 20, 2018 625,000 10.6295 6,643,429.93 8,155,474.58 March 21, 2018 759,650 10.5898 8,044,523.32 9,883,501.35 March 22, 2018 323,728 10.1113 3,273,321.44 4,031,422.69 Total 1,877,214 - 19,797,444.13 24,341,556.61 Details of such transactions are provided in attachment.\\nAfter the purchases announced today and considering those previously executed under the program, the total invested amount is approximately €105.83 million ($127.90 million (*) ) for a total amount of 10,106,072 common shares purchased.\\nAs of March 22, 2018 the Company held 6,877,689 common shares, net of the common shares already delivered to fulfill its obligations arising from equity incentive plans.\\nA comprehensive overview of the transactions carried out under the share buy-back program is available on the Company's corporate website ( www.cnhindustrial.com ).\\n(*) translated at the exchange rate reported by the European Central Bank on the date of each purchase\\nCNH Industrial N.V. (NYSE: CNHI / MI: CNHI) is a global leader in the capital goods sector with established industrial experience, a wide range of products and a worldwide presence. Each of the individual brands belonging to the Company is a major international force in its specific industrial sector: Case IH, New Holland Agriculture and Steyr for tractors and agricultural machinery; Case and New Holland Construction for earth moving equipment; Iveco for commercial vehicles; Iveco Bus and Heuliez Bus for buses and coaches; Iveco Astra for quarry and construction vehicles; Magirus for firefighting vehicles; Iveco Defence Vehicles for defence and civil protection; and FPT Industrial for engines and transmissions. More information can be found on the corporate website: www.cnhindustrial.com\\nContacts:\\nInvestor Relations Corporate Communications\\nCNH Industrial CNH Industrial\\ninvestor.relations@cnhind.com mediarelations@cnhind.com\\nIssuer name ISIN Transaction\\nDate Transaction Time\\n(UTC) Volume Price Currency Platform Code CNH INDUSTRIAL NV NL0010545661 14/03/2018 08:04:28 361 10,83 EUR MTAA CNH INDUSTRIAL NV NL0010545661 14/03/2018 08:06:06 500 10,79 EUR MTAA CNH INDUSTRIAL NV NL0010545661 14/03/2018 08:06:06 1.320 10,79 EUR MTAA CNH INDUSTRIAL NV NL0010545661 14/03/2018 08:06:06 1.163 10,79 EUR MTAA CNH INDUSTRIAL NV NL0010545661 14/03/2018 08:06:12 962 10,78 EUR MTAA CNH INDUSTRIAL NV NL0010545661 14/03/2018 08:06:16 431 10,78 EUR MTAA CNH INDUSTRIAL NV NL0010545661 14/03/2018 08:06:16 607 10,78 EUR MTAA CNH INDUSTRIAL NV NL0010545661 14/03/2018 08:07:58 2.505 10,80 EUR MTAA CNH INDUSTRIAL NV NL0010545661 14/03/2018 08:09:16 850 10,80 EUR MTAA CNH INDUSTRIAL NV NL0010545661 14/03/2018 08:09:59 1.000 10,80 EUR MTAA CNH INDUSTRIAL NV NL0010545661 14/03/2018 08:09:59 574 10,80 EUR MTAA CNH INDUSTRIAL NV NL0010545661 14/03/2018 08:09:59 96 10,80 EUR MTAA CNH INDUSTRIAL NV NL0010545661 14/03/2018 08:13:54 366 10,86 EUR MTAA CNH INDUSTRIAL NV NL0010545661 14/03/2018 08:14:59 1.000 10,85 EUR MTAA CNH INDUSTRIAL NV NL0010545661 14/03/2018 08:16:34 357 10,87 EUR MTAA CNH INDUSTRIAL NV NL0010545661 14/03/2018 08:17:16 2.072 10,88 EUR MTAA CNH INDUSTRIAL NV NL0010545661 14/03/2018 08:18:04 1.509 10,88 EUR MTAA CNH INDUSTRIAL NV NL0010545661 14/03/2018 08:18:27 358 10,89 EUR MTAA CNH INDUSTRIAL NV NL0010545661 14/03/2018 08:18:58 436 10,89 EUR MTAA CNH INDUSTRIAL NV NL0010545661 14/03/2018 08:18:58 609 10,89 EUR MTAA CNH INDUSTRIAL NV NL0010545661 14/03/2018 08:18:58 188 10,89 EUR MTAA CNH INDUSTRIAL NV NL0010545661 14/03/2018 08:19:33 1.904 10,88 EUR MTAA CNH INDUSTRIAL NV NL0010545661 14/03/2018 08:19:33 131 10,88 EUR MTAA CNH INDUSTRIAL NV NL0010545661 14/03/2018 08:20:20 415 10,90 EUR MTAA CNH INDUSTRIAL NV NL0010545661 14/03/2018 08:20:20 352 10,90 EUR MTAA CNH INDUSTRIAL NV NL0010545661 14/03/2018 08:20:20 495 10,90 EUR MTAA CNH INDUSTRIAL NV NL0010545661 14/03/2018 08:20:20 759 10,90 EUR MTAA CNH INDUSTRIAL NV NL0010545661 14/03/2018 08:20:58 1.217 10,90 EUR MTAA CNH INDUSTRIAL NV NL0010545661 14/03/2018 08:21:58 1.386 10,89 EUR MTAA CNH INDUSTRIAL NV NL0010545661 14/03/2018 08:21:58 1.168 10,89 EUR MTAA CNH INDUSTRIAL NV NL0010545661 14/03/2018 08:22:47 868 10,88 EUR MTAA CNH INDUSTRIAL NV NL0010545661 14/03/2018 08:22:47 1.179 10,88 EUR MTAA CNH INDUSTRIAL NV NL0010545661 14/03/2018 08:23:44 1.665 10,89 EUR MTAA CNH INDUSTRIAL NV NL0010545661 14/03/2018 08:23:44 546 10,89 EUR MTAA CNH INDUSTRIAL NV NL0010545661 14/03/2018 08:25:11 392 10,89 EUR MTAA CNH INDUSTRIAL NV NL0010545661 14/03/2018 08:25:16 1.000 10,89 EUR MTAA CNH INDUSTRIAL NV NL0010545661 14/03/2018 08:25:16 300 10,89 EUR MTAA CNH INDUSTRIAL NV NL0010545661 14/03/2018 08:25:17 804 10,89 EUR MTAA CNH INDUSTRIAL NV NL0010545661 14/03/2018 08:25:17 501 10,89 EUR MTAA CNH INDUSTRIAL NV NL0010545661 14/03/2018 08:25:58 748 10,89 EUR MTAA CNH INDUSTRIAL NV NL0010545661 14/03/2018 08:26:38 2.489 10,89 EUR MTAA CNH INDUSTRIAL NV NL0010545661 14/03/2018 08:26:38 12 10,89 EUR MTAA CNH INDUSTRIAL NV NL0010545661 14/03/2018 08:27:36 2.321 10,89 EUR MTAA CNH INDUSTRIAL NV NL0010545661 14/03/2018 08:28:41 298 10,90 EUR MTAA CNH INDUSTRIAL NV NL0010545661 14/03/2018 08:28:41 100 10,90 EUR MTAA CNH INDUSTRIAL NV NL0010545661 14/03/2018 08:28:41 1.000 10,90 EUR MTAA CNH INDUSTRIAL NV NL0010545661 14/03/2018 08:28:41 432 10,90 EUR MTAA CNH INDUSTRIAL NV NL0010545661 14/03/2018 08:28:58 1.200 10,90 EUR MTAA CNH INDUSTRIAL NV NL0010545661 14/03/2018 08:28:58 22 10,90 EUR MTAA CNH INDUSTRIAL NV NL0010545661 14/03/2018 08:29:09 398 10,90 EUR MTAA CNH INDUSTRIAL NV NL0010545661 14/03/2018 08:29:20 416 10,90 EUR MTAA CNH INDUSTRIAL NV NL0010545661 14/03/2018 08:29:28 186 10,90 EUR MTAA CNH INDUSTRIAL NV NL0010545661 14/03/2018 08:29:28 32 10,90 EUR MTAA CNH INDUSTRIAL NV NL0010545661 14/03/2018 08:37:00 375 10,90 EUR MTAA CNH INDUSTRIAL NV NL0010545661 14/03/2018 08:37:17 749 10,90 EUR MTAA CNH INDUSTRIAL NV NL0010545661 14/03/2018 08:38:23 12 10,90 EUR MTAA CNH INDUSTRIAL NV NL0010545661 14/03/2018 08:38:23 1.000 10,90 EUR MTAA CNH INDUSTRIAL NV NL0010545661 14/03/2018 08:38:23 996 10,90 EUR MTAA CNH INDUSTRIAL NV NL0010545661 14/03/2018 08:39:19 1.000 10,90 EUR MTAA CNH INDUSTRIAL NV NL0010545661 14/03/2018 08:39:19 850 10,90 EUR MTAA CNH INDUSTRIAL NV NL0010545661 14/03/2018 08:39:48 1.688 10,90 EUR MTAA CNH INDUSTRIAL NV NL0010545661 14/03/2018 08:39:48 639 10,90 EUR MTAA CNH INDUSTRIAL NV NL0010545661 14/03/2018 08:41:14 1.100 10,89 EUR MTAA CNH INDUSTRIAL NV NL0010545661 14/03/2018 08:41:14 1.000 10,89 EUR MTAA CNH INDUSTRIAL NV NL0010545661 14/03/2018 08:41:15 558 10,89 EUR MTAA CNH INDUSTRIAL NV NL0010545661 14/03/2018 08:41:15 205 10,89 EUR MTAA CNH INDUSTRIAL NV NL0010545661 14/03/2018 08:42:39 890 10,89 EUR MTAA CNH INDUSTRIAL NV NL0010545661 14/03/2018 08:43:03 1.100 10,89 EUR MTAA CNH INDUSTRIAL NV NL0010545661 14/03/2018 08:43:03 330 10,89 EUR MTAA CNH INDUSTRIAL NV NL0010545661 14/03/2018 08:43:03 152 10,89 EUR MTAA CNH INDUSTRIAL NV NL0010545661 14/03/2018 08:43:36 1.200 10,89 EUR MTAA CNH INDUSTRIAL NV NL0010545661 14/03/2018 08:43:36 781 10,89 EUR MTAA CNH INDUSTRIAL NV NL0010545661 14/03/2018 08:44:34 1.000 10,89 EUR MTAA CNH INDUSTRIAL NV NL0010545661 14/03/2018 08:44:34 807 10,89 EUR MTAA CNH INDUSTRIAL NV NL0010545661 14/03/2018 08:45:37 1.100 10,88 EUR MTAA CNH INDUSTRIAL NV NL0010545661 14/03/2018 08:45:37 947 10,88 EUR MTAA CNH INDUSTRIAL NV NL0010545661 14/03/2018 08:50:49 33 10,87 EUR MTAA CNH INDUSTRIAL NV NL0010545661 14/03/2018 08:50:49 1.090 10,87 EUR MTAA CNH INDUSTRIAL NV NL0010545661 14/03/2018 08:52:13 1.245 10,87 EUR MTAA CNH INDUSTRIAL NV NL0010545661 14/03/2018 08:52:13 1.145 10,87 EUR MTAA CNH INDUSTRIAL NV NL0010545661 14/03/2018 08:52:13 587 10,87 EUR MTAA CNH INDUSTRIAL NV NL0010545661 14/03/2018 08:52:17 2.200 10,87 EUR MTAA CNH INDUSTRIAL NV NL0010545661 14/03/2018 08:52:17 2.027 10,87 EUR MTAA CNH INDUSTRIAL NV NL0010545661 14/03/2018 08:52:17 2.013 10,87 EUR MTAA CNH INDUSTRIAL NV NL0010545661 14/03/2018 08:52:17 1.938 10,87 EUR MTAA CNH INDUSTRIAL NV NL0010545661 14/03/2018 09:02:57 1.175 10,87 EUR MTAA CNH INDUSTRIAL NV NL0010545661 14/03/2018 09:05:51 1.363 10,87 EUR MTAA CNH INDUSTRIAL NV NL0010545661 14/03/2018 09:06:27 379 10,86 EUR MTAA CNH INDUSTRIAL NV NL0010545661 14/03/2018 09:06:33 403 10,86 EUR MTAA CNH INDUSTRIAL NV NL0010545661 14/03/2018 09:06:39 396 10,86 EUR MTAA CNH INDUSTRIAL NV NL0010545661 14/03/2018 09:06:45 229 10,86 EUR MTAA CNH INDUSTRIAL NV NL0010545661 14/03/2018 09:08:35 1.996 10,87 EUR MTAA CNH INDUSTRIAL NV NL0010545661 14/03/2018 09:08:35 2.199 10,87 EUR MTAA CNH INDUSTRIAL NV NL0010545661 14/03/2018 09:08:35 1.586 10,87 EUR MTAA CNH INDUSTRIAL NV NL0010545661 14/03/2018 09:10:25 402 10,87 EUR MTAA CNH INDUSTRIAL NV NL0010545661 14/03/2018 09:10:25 1.000 10,87 EUR MTAA CNH INDUSTRIAL NV NL0010545661 14/03/2018 09:10:25 653 10,87 EUR MTAA CNH INDUSTRIAL NV NL0010545661 14/03/2018 09:36:58 904 10,88 EUR MTAA CNH INDUSTRIAL NV NL0010545661 14/03/2018 09:40:56 400 10,88 EUR MTAA CNH INDUSTRIAL NV NL0010545661 14/03/2018 09:41:45 872 10,87 EUR MTAA CNH INDUSTRIAL NV NL0010545661 14/03/2018 09:41:45 180 10,87 EUR MTAA CNH INDUSTRIAL NV NL0010545661 14/03/2018 09:42:02 1.118 10,87 EUR MTAA CNH INDUSTRIAL NV NL0010545661 14/03/2018 09:42:02 284 10,87 EUR MTAA CNH INDUSTRIAL NV NL0010545661 14/03/2018 09:43:59 336 10,87 EUR MTAA CNH INDUSTRIAL NV NL0010545661 14/03/2018 09:49:21 354 10,90 EUR MTAA CNH INDUSTRIAL NV NL0010545661 14/03/2018 09:49:40 36 10,90 EUR MTAA CNH INDUSTRIAL NV NL0010545661 14/03/2018 09:49:40 3.287 10,90 EUR MTAA CNH INDUSTRIAL NV NL0010545661 14/03/2018 09:49:57 367 10,90 EUR MTAA CNH INDUSTRIAL NV NL0010545661 14/03/2018 09:51:22 100 10,90 EUR MTAA CNH INDUSTRIAL NV NL0010545661 14/03/2018 09:52:19 2.352 10,90 EUR MTAA CNH INDUSTRIAL NV NL0010545661 14/03/2018 09:54:54 1.474 10,90 EUR MTAA CNH INDUSTRIAL NV NL0010545661 14/03/2018 09:55:44 186 10,90 EUR MTAA CNH INDUSTRIAL NV NL0010545661 14/03/2018 09:55:44 99 10,90 EUR MTAA CNH INDUSTRIAL NV NL0010545661 14/03/2018 09:55:44 1.000 10,90 EUR MTAA CNH INDUSTRIAL NV NL0010545661 14/03/2018 09:55:44 542 10,90 EUR MTAA CNH INDUSTRIAL NV NL0010545661 14/03/2018 09:55:44 1.000 10,90 EUR MTAA CNH INDUSTRIAL NV NL0010545661 14/03/2018 09:59:02 1.343 10,90 EUR MTAA CNH INDUSTRIAL NV NL0010545661 14/03/2018 10:00:38 1.288 10,90 EUR MTAA CNH INDUSTRIAL NV NL0010545661 14/03/2018 10:00:38 1.000 10,90 EUR MTAA CNH INDUSTRIAL NV NL0010545661 14/03/2018 10:00:38 574 10,90 EUR MTAA CNH INDUSTRIAL NV NL0010545661 14/03/2018 10:00:38 756 10,90 EUR MTAA CNH INDUSTRIAL NV NL0010545661 14/03/2018 10:00:38 3.586 10,90 EUR MTAA CNH INDUSTRIAL NV NL0010545661 14/03/2018 10:02:52 83 10,90 EUR MTAA CNH INDUSTRIAL NV NL0010545661 14/03/2018 10:02:52 1.000 10,90 EUR MTAA CNH INDUSTRIAL NV NL0010545661 14/03/2018 10:02:52 1.572 10,90 EUR MTAA CNH INDUSTRIAL NV NL0010545661 14/03/2018 10:02:52 475 10,90 EUR MTAA CNH INDUSTRIAL NV NL0010545661 14/03/2018 10:02:52 1.000 10,90 EUR MTAA CNH INDUSTRIAL NV NL0010545661 14/03/2018 10:02:52 2.200 10,90 EUR MTAA CNH INDUSTRIAL NV NL0010545661 14/03/2018 10:02:52 2.852 10,90 EUR MTAA CNH INDUSTRIAL NV NL0010545661 14/03/2018 10:02:52 653 10,90 EUR MTAA CNH INDUSTRIAL NV NL0010545661 14/03/2018 10:13:25 1.117 10,88 EUR MTAA CNH INDUSTRIAL NV NL0010545661 14/03/2018 10:14:43 540 10,88 EUR MTAA CNH INDUSTRIAL NV NL0010545661 14/03/2018 10:14:43 717 10,88 EUR MTAA CNH INDUSTRIAL NV NL0010545661 14/03/2018 10:14:43 695 10,88 EUR MTAA CNH INDUSTRIAL NV NL0010545661 14/03/2018 10:14:43 920 10,88 EUR MTAA CNH INDUSTRIAL NV NL0010545661 14/03/2018 10:16:14 663 10,87 EUR MTAA CNH INDUSTRIAL NV NL0010545661 14/03/2018 10:16:14 1.000 10,87 EUR MTAA CNH INDUSTRIAL NV NL0010545661 14/03/2018 10:16:51 392 10,87 EUR MTAA CNH INDUSTRIAL NV NL0010545661 14/03/2018 10:19:00 1.116 10,88 EUR MTAA CNH INDUSTRIAL NV NL0010545661 14/03/2018 10:20:01 63 10,88 EUR MTAA CNH INDUSTRIAL NV NL0010545661 14/03/2018 10:20:01 1.012 10,88 EUR MTAA CNH INDUSTRIAL NV NL0010545661 14/03/2018 10:20:02 319 10,88 EUR MTAA CNH INDUSTRIAL NV NL0010545661 14/03/2018 10:20:02 62 10,88 EUR MTAA CNH INDUSTRIAL NV NL0010545661 14/03/2018 10:20:31 62 10,88 EUR MTAA CNH INDUSTRIAL NV NL0010545661 14/03/2018 10:20:48 1.433 10,87 EUR MTAA CNH INDUSTRIAL NV NL0010545661 14/03/2018 10:21:23 62 10,87 EUR MTAA CNH INDUSTRIAL NV NL0010545661 14/03/2018 10:21:26 62 10,87 EUR MTAA CNH INDUSTRIAL NV NL0010545661 14/03/2018 10:21:29 64 10,87 EUR MTAA CNH INDUSTRIAL NV NL0010545661 14/03/2018 10:21:32 68 10,87 EUR MTAA CNH INDUSTRIAL NV NL0010545661 14/03/2018 10:21:38 1.090 10,87 EUR MTAA CNH INDUSTRIAL NV NL0010545661 14/03/2018 10:21:58 2.500 10,86 EUR MTAA CNH INDUSTRIAL NV NL0010545661 14/03/2018 10:22:04 112 10,86 EUR MTAA CNH INDUSTRIAL NV NL0010545661 14/03/2018 10:22:04 1.000 10,86 EUR MTAA CNH INDUSTRIAL NV NL0010545661 14/03/2018 10:22:04 459 10,86 EUR MTAA CNH INDUSTRIAL NV NL0010545661 14/03/2018 10:22:05 638 10,86 EUR MTAA CNH INDUSTRIAL NV NL0010545661 14/03/2018 10:23:20 3.105 10,87 EUR MTAA CNH INDUSTRIAL NV NL0010545661 14/03/2018 10:25:27 1.244 10,87 EUR MTAA CNH INDUSTRIAL NV NL0010545661 14/03/2018 10:25:27 467 10,87 EUR MTAA CNH INDUSTRIAL NV NL0010545661 14/03/2018 10:25:27 323 10,87 EUR MTAA CNH INDUSTRIAL NV NL0010545661 14/03/2018 10:25:30 38 10,87 EUR MTAA CNH INDUSTRIAL NV NL0010545661 14/03/2018 10:25:30 1.000 10,87 EUR MTAA CNH INDUSTRIAL NV NL0010545661 14/03/2018 10:27:44 396 10,86 EUR MTAA CNH INDUSTRIAL NV NL0010545661 14/03/2018 10:27:44 1.073 10,86 EUR MTAA CNH INDUSTRIAL NV NL0010545661 14/03/2018 10:28:56 1.490 10,86 EUR MTAA CNH INDUSTRIAL NV NL0010545661 14/03/2018 10:28:59 413 10,86 EUR MTAA CNH INDUSTRIAL NV NL0010545661 14/03/2018 10:28:59 212 10,86 EUR MTAA CNH INDUSTRIAL NV NL0010545661 14/03/2018 10:31:26 1.181 10,86 EUR MTAA CNH INDUSTRIAL NV NL0010545661 14/03/2018 10:51:54 874 10,86 EUR MTAA CNH INDUSTRIAL NV NL0010545661 14/03/2018 10:51:54 128 10,86 EUR MTAA CNH INDUSTRIAL NV NL0010545661 14/03/2018 10:52:17 1.032 10,86 EUR MTAA CNH INDUSTRIAL NV NL0010545661 14/03/2018 10:52:17 1.059 10,86 EUR MTAA CNH INDUSTRIAL NV NL0010545661 14/03/2018 10:52:17 265 10,86 EUR MTAA CNH INDUSTRIAL NV NL0010545661 14/03/2018 10:52:31 77 10,85 EUR MTAA CNH INDUSTRIAL NV NL0010545661 14/03/2018 10:52:31 2.423 10,85 EUR MTAA CNH INDUSTRIAL NV NL0010545661 14/03/2018 10:52:31 969 10,85 EUR MTAA CNH INDUSTRIAL NV NL0010545661 14/03/2018 10:52:36 460 10,85 EUR MTAA CNH INDUSTRIAL NV NL0010545661 14/03/2018 10:52:36 334 10,85 EUR MTAA CNH INDUSTRIAL NV NL0010545661 14/03/2018 10:52:36 632 10,85 EUR MTAA CNH INDUSTRIAL NV NL0010545661 14/03/2018 10:52:36 1.200 10,85 EUR MTAA CNH INDUSTRIAL NV NL0010545661 14/03/2018 10:52:36 558 10,85 EUR MTAA CNH INDUSTRIAL NV NL0010545661 14/03/2018 10:52:36 1.100 10,85 EUR MTAA CNH INDUSTRIAL NV NL0010545661 14/03/2018 10:52:36 1.138 10,85 EUR MTAA CNH INDUSTRIAL NV NL0010545661 14/03/2018 10:53:47 1.072 10,86 EUR MTAA CNH INDUSTRIAL NV NL0010545661 14/03/2018 10:55:05 1.077 10,85 EUR MTAA CNH INDUSTRIAL NV NL0010545661 14/03/2018 10:55:05 12 10,85 EUR MTAA CNH INDUSTRIAL NV NL0010545661 14/03/2018 10:55:05 776 10,85 EUR MTAA CNH INDUSTRIAL NV NL0010545661 14/03/2018 10:55:05 610 10,85 EUR MTAA CNH INDUSTRIAL NV NL0010545661 14/03/2018 10:55:10 718 10,85 EUR MTAA CNH INDUSTRIAL NV NL0010545661 14/03/2018 10:55:45 52 10,85 EUR MTAA CNH INDUSTRIAL NV NL0010545661 14/03/2018 10:55:45 156 10,85 EUR MTAA CNH INDUSTRIAL NV NL0010545661 14/03/2018 10:57:25 445 10,85 EUR MTAA CNH INDUSTRIAL NV NL0010545661 14/03/2018 10:57:32 1.744 10,85 EUR MTAA CNH INDUSTRIAL NV NL0010545661 14/03/2018 10:59:24 825 10,84 EUR MTAA CNH INDUSTRIAL NV NL0010545661 14/03/2018 11:02:15 349 10,85 EUR MTAA CNH INDUSTRIAL NV NL0010545661 14/03/2018 11:02:15 963 10,85 EUR MTAA CNH INDUSTRIAL NV NL0010545661 14/03/2018 11:02:15 260 10,85 EUR MTAA CNH INDUSTRIAL NV NL0010545661 14/03/2018 11:04:00 183 10,86 EUR MTAA CNH INDUSTRIAL NV NL0010545661 14/03/2018 11:07:53 2.331 10,86 EUR MTAA CNH INDUSTRIAL NV NL0010545661 14/03/2018 11:07:53 95 10,86 EUR MTAA CNH INDUSTRIAL NV NL0010545661 20/03/2018 10:30:46 158 10,56 EUR MTAA CNH INDUSTRIAL NV NL0010545661 20/03/2018 10:30:46 224 10,56 EUR MTAA CNH INDUSTRIAL NV NL0010545661 20/03/2018 10:32:27 933 10,56 EUR MTAA CNH INDUSTRIAL NV NL0010545661 20/03/2018 10:32:27 814 10,56 EUR MTAA CNH INDUSTRIAL NV NL0010545661 20/03/2018 10:32:27 796 10,56 EUR MTAA CNH INDUSTRIAL NV NL0010545661 20/03/2018 10:33:38 923 10,58 EUR MTAA CNH INDUSTRIAL NV NL0010545661 20/03/2018 10:33:38 550 10,58 EUR MTAA CNH INDUSTRIAL NV NL0010545661 20/03/2018 10:33:38 98 10,58 EUR MTAA CNH INDUSTRIAL NV NL0010545661 20/03/2018 10:33:38 1.457 10,58 EUR MTAA CNH INDUSTRIAL NV NL0010545661 20/03/2018 10:33:54 374 10,58 EUR MTAA CNH INDUSTRIAL NV NL0010545661 20/03/2018 10:37:58 571 10,58 EUR MTAA CNH INDUSTRIAL NV NL0010545661 20/03/2018 10:37:58 2.748 10,58 EUR MTAA CNH INDUSTRIAL NV NL0010545661 20/03/2018 10:37:58 1.705 10,58 EUR MTAA CNH INDUSTRIAL NV NL0010545661 20/03/2018 10:38:12 98 10,57 EUR MTAA CNH INDUSTRIAL NV NL0010545661 20/03/2018 10:38:12 1.000 10,57 EUR MTAA CNH INDUSTRIAL NV NL0010545661 20/03/2018 10:40:15 1.930 10,59 EUR MTAA CNH INDUSTRIAL NV NL0010545661 20/03/2018 10:40:15 293 10,59 EUR MTAA CNH INDUSTRIAL NV NL0010545661 20/03/2018 10:40:15 644 10,59 EUR MTAA CNH INDUSTRIAL NV NL0010545661 20/03/2018 10:40:15 1.000 10,59 EUR MTAA CNH INDUSTRIAL NV NL0010545661 20/03/2018 10:40:15 430 10,59 EUR MTAA CNH INDUSTRIAL NV NL0010545661 20/03/2018 10:43:12 1.409 10,58 EUR MTAA CNH INDUSTRIAL NV NL0010545661 20/03/2018 10:43:14 738 10,58 EUR MTAA CNH INDUSTRIAL NV NL0010545661 20/03/2018 10:43:14 545 10,58 EUR MTAA CNH INDUSTRIAL NV NL0010545661 20/03/2018 10:43:14 2.100 10,58 EUR MTAA CNH INDUSTRIAL NV NL0010545661 20/03/2018 10:44:34 1.000 10,58 EUR MTAA CNH INDUSTRIAL NV NL0010545661 20/03/2018 10:44:34 1.000 10,58 EUR MTAA CNH INDUSTRIAL NV NL0010545661 20/03/2018 10:44:34 655 10,58 EUR MTAA CNH INDUSTRIAL NV NL0010545661 20/03/2018 10:47:55 614 10,60 EUR MTAA CNH INDUSTRIAL NV NL0010545661 20/03/2018 10:47:55 2.200 10,60 EUR MTAA CNH INDUSTRIAL NV NL0010545661 20/03/2018 10:47:55 1.099 10,60 EUR MTAA CNH INDUSTRIAL NV NL0010545661 20/03/2018 10:47:55 720 10,60 EUR MTAA CNH INDUSTRIAL NV NL0010545661 20/03/2018 10:47:55 178 10,60 EUR MTAA CNH INDUSTRIAL NV NL0010545661 20/03/2018 10:49:34 678 10,60 EUR MTAA CNH INDUSTRIAL NV NL0010545661 20/03/2018 10:49:34 824 10,60 EUR MTAA CNH INDUSTRIAL NV NL0010545661 20/03/2018 10:49:34 458 10,60 EUR MTAA CNH INDUSTRIAL NV NL0010545661 20/03/2018 10:52:09 789 10,60 EUR MTAA CNH INDUSTRIAL NV NL0010545661 20/03/2018 10:52:09 1.069 10,60 EUR MTAA CNH INDUSTRIAL NV NL0010545661 20/03/2018 10:52:09 1.772 10,60 EUR MTAA CNH INDUSTRIAL NV NL0010545661 20/03/2018 10:52:09 1.642 10,60 EUR MTAA CNH INDUSTRIAL NV NL0010545661 20/03/2018 10:56:51 6.145 10,60 EUR MTAA CNH INDUSTRIAL NV NL0010545661 20/03/2018 11:05:09 377 10,62 EUR MTAA CNH INDUSTRIAL NV NL0010545661 20/03/2018 11:06:28 581 10,62 EUR MTAA CNH INDUSTRIAL NV NL0010545661 20/03/2018 11:08:26 61 10,64 EUR MTAA CNH INDUSTRIAL NV NL0010545661 20/03/2018 11:08:26 3.430 10,64 EUR MTAA CNH INDUSTRIAL NV NL0010545661 20/03/2018 11:09:22 625 10,63 EUR MTAA CNH INDUSTRIAL NV NL0010545661 20/03/2018 11:09:22 1.000 10,63 EUR MTAA CNH INDUSTRIAL NV NL0010545661 20/03/2018 11:09:22 1.691 10,63 EUR MTAA CNH INDUSTRIAL NV NL0010545661 20/03/2018 11:11:38 540 10,63 EUR MTAA CNH INDUSTRIAL NV NL0010545661 20/03/2018 11:11:38 2.487 10,63 EUR MTAA CNH INDUSTRIAL NV NL0010545661 20/03/2018 11:11:38 213 10,63 EUR MTAA CNH INDUSTRIAL NV NL0010545661 20/03/2018 11:13:08 1.028 10,62 EUR MTAA CNH INDUSTRIAL NV NL0010545661 20/03/2018 11:13:08 1.004 10,62 EUR MTAA CNH INDUSTRIAL NV NL0010545661 20/03/2018 11:13:08 746 10,62 EUR MTAA CNH INDUSTRIAL NV NL0010545661 20/03/2018 11:15:02 398 10,63 EUR MTAA CNH INDUSTRIAL NV NL0010545661 20/03/2018 11:15:02 529 10,63 EUR MTAA CNH INDUSTRIAL NV NL0010545661 20/03/2018 11:15:02 1.045 10,63 EUR MTAA CNH INDUSTRIAL NV NL0010545661 20/03/2018 11:15:02 411 10,63 EUR MTAA CNH INDUSTRIAL NV NL0010545661 20/03/2018 11:16:29 630 10,63 EUR MTAA CNH INDUSTRIAL NV NL0010545661 20/03/2018 11:16:29 165 10,63 EUR MTAA CNH INDUSTRIAL NV NL0010545661 20/03/2018 11:16:29 1.052 10,63 EUR MTAA CNH INDUSTRIAL NV NL0010545661 20/03/2018 11:16:29 293 10,63 EUR MTAA CNH INDUSTRIAL NV NL0010545661 20/03/2018 11:16:29 496 10,63 EUR MTAA CNH INDUSTRIAL NV NL0010545661 20/03/2018 11:17:50 208 10,62 EUR MTAA CNH INDUSTRIAL NV NL0010545661 20/03/2018 11:17:50 1.153 10,62 EUR MTAA CNH INDUSTRIAL NV NL0010545661 20/03/2018 11:17:50 644 10,62 EUR MTAA CNH INDUSTRIAL NV NL0010545661 20/03/2018 11:22:30 1.147 10,63 EUR MTAA CNH INDUSTRIAL NV NL0010545661 20/03/2018 11:22:30 956 10,63 EUR MTAA CNH INDUSTRIAL NV NL0010545661 20/03/2018 11:22:36 1.935 10,63 EUR MTAA CNH INDUSTRIAL NV NL0010545661 20/03/2018 11:22:36 1.000 10,63 EUR MTAA CNH INDUSTRIAL NV NL0010545661 20/03/2018 11:22:36 889 10,63 EUR MTAA CNH INDUSTRIAL NV NL0010545661 20/03/2018 11:23:15 1.200 10,63 EUR MTAA CNH INDUSTRIAL NV NL0010545661 20/03/2018 11:23:15 572 10,63 EUR MTAA CNH INDUSTRIAL NV NL0010545661 20/03/2018 11:23:15 620 10,63 EUR MTAA CNH INDUSTRIAL NV NL0010545661 20/03/2018 11:24:37 1.177 10,63 EUR MTAA CNH INDUSTRIAL NV NL0010545661 20/03/2018 11:24:37 550 10,63 EUR MTAA CNH INDUSTRIAL NV NL0010545661 20/03/2018 11:24:37 283 10,63 EUR MTAA CNH INDUSTRIAL NV NL0010545661 20/03/2018 11:26:51 2.241 10,63 EUR MTAA CNH INDUSTRIAL NV NL0010545661 20/03/2018 11:27:19 1.089 10,63 EUR MTAA CNH INDUSTRIAL NV NL0010545661 20/03/2018 11:27:19 830 10,63 EUR MTAA CNH INDUSTRIAL NV NL0010545661 20/03/2018 11:28:26 367 10,64 EUR MTAA CNH INDUSTRIAL NV NL0010545661 20/03/2018 11:29:44 1.509 10,65 EUR MTAA CNH INDUSTRIAL NV NL0010545661 20/03/2018 11:30:25 378 10,65 EUR MTAA CNH INDUSTRIAL NV NL0010545661 20/03/2018 11:30:25 904 10,65 EUR MTAA CNH INDUSTRIAL NV NL0010545661 20/03/2018 11:31:51 280 10,65 EUR MTAA CNH INDUSTRIAL NV NL0010545661 20/03/2018 11:31:51 2.454 10,65 EUR MTAA CNH INDUSTRIAL NV NL0010545661 20/03/2018 11:33:40 489 10,65 EUR MTAA CNH INDUSTRIAL NV NL0010545661 20/03/2018 11:33:44 1.382 10,65 EUR MTAA CNH INDUSTRIAL NV NL0010545661 20/03/2018 11:34:46 549 10,65 EUR MTAA CNH INDUSTRIAL NV NL0010545661 20/03/2018 11:35:10 874 10,65 EUR MTAA CNH INDUSTRIAL NV NL0010545661 20/03/2018 11:35:10 1.031 10,65 EUR MTAA CNH INDUSTRIAL NV NL0010545661 20/03/2018 11:36:35 2.441 10,65 EUR MTAA CNH INDUSTRIAL NV NL0010545661 20/03/2018 11:38:46 335 10,65 EUR MTAA CNH INDUSTRIAL NV NL0010545661 20/03/2018 11:38:46 3.121 10,65 EUR MTAA CNH INDUSTRIAL NV NL0010545661 20/03/2018 11:41:55 1.609 10,65 EUR MTAA CNH INDUSTRIAL NV NL0010545661 20/03/2018 11:41:55 489 10,65 EUR MTAA CNH INDUSTRIAL NV NL0010545661 20/03/2018 11:41:55 804 10,65 EUR MTAA CNH INDUSTRIAL NV NL0010545661 20/03/2018 11:41:55 302 10,65 EUR MTAA CNH INDUSTRIAL NV NL0010545661 20/03/2018 11:41:55 129 10,65 EUR MTAA CNH INDUSTRIAL NV NL0010545661 20/03/2018 11:41:55 117 10,65 EUR MTAA CNH INDUSTRIAL NV NL0010545661 20/03/2018 11:41:55 37 10,65 EUR MTAA CNH INDUSTRIAL NV NL0010545661 20/03/2018 11:42:37 950 10,65 EUR MTAA CNH INDUSTRIAL NV NL0010545661 20/03/2018 11:42:37 1.304 10,65 EUR MTAA CNH INDUSTRIAL NV NL0010545661 20/03/2018 11:42:37 131 10,65 EUR MTAA CNH INDUSTRIAL NV NL0010545661 20/03/2018 11:44:40 17 10,64 EUR MTAA CNH INDUSTRIAL NV NL0010545661 20/03/2018 11:45:24 810 10,65 EUR MTAA CNH INDUSTRIAL NV NL0010545661 20/03/2018 11:45:24 1.275 10,65 EUR MTAA CNH INDUSTRIAL NV NL0010545661 20/03/2018 11:45:24 577 10,65 EUR MTAA CNH INDUSTRIAL NV NL0010545661 20/03/2018 11:45:24 452 10,65 EUR MTAA CNH INDUSTRIAL NV NL0010545661 20/03/2018 11:46:38 1.068 10,65 EUR MTAA CNH INDUSTRIAL NV NL0010545661 20/03/2018 11:46:38 1.000 10,65 EUR MTAA CNH INDUSTRIAL NV NL0010545661 20/03/2018 11:46:38 91 10,65 EUR MTAA CNH INDUSTRIAL NV NL0010545661 20/03/2018 11:46:38 522 10,65 EUR MTAA CNH INDUSTRIAL NV NL0010545661 20/03/2018 11:48:20 371 10,65 EUR MTAA CNH INDUSTRIAL NV NL0010545661 20/03/2018 11:49:29 665 10,65 EUR MTAA CNH INDUSTRIAL NV NL0010545661 20/03/2018 11:49:29 436 10,65 EUR MTAA CNH INDUSTRIAL NV NL0010545661 20/03/2018 11:49:29 1.491 10,65 EUR MTAA CNH INDUSTRIAL NV NL0010545661 20/03/2018 11:50:51 403 10,65 EUR MTAA CNH INDUSTRIAL NV NL0010545661 20/03/2018 11:50:51 674 10,65 EUR MTAA CNH INDUSTRIAL NV NL0010545661 20/03/2018 11:50:51 889 10,65 EUR MTAA CNH INDUSTRIAL NV NL0010545661 20/03/2018 11:52:11 1.468 10,64 EUR MTAA CNH INDUSTRIAL NV NL0010545661 20/03/2018 11:52:11 689 10,64 EUR MTAA CNH INDUSTRIAL NV NL0010545661 20/03/2018 11:54:05 2.200 10,65 EUR MTAA CNH INDUSTRIAL NV NL0010545661 20/03/2018 11:54:05 166 10,65 EUR MTAA CNH INDUSTRIAL NV NL0010545661 20/03/2018 11:56:35 7 10,65 EUR MTAA CNH INDUSTRIAL NV NL0010545661 20/03/2018 11:56:35 2.119 10,65 EUR MTAA CNH INDUSTRIAL NV NL0010545661 20/03/2018 11:56:35 874 10,65 EUR MTAA CNH INDUSTRIAL NV NL0010545661 20/03/2018 11:57:12 995 10,65 EUR MTAA CNH INDUSTRIAL NV NL0010545661 20/03/2018 11:58:15 588 10,65 EUR MTAA CNH INDUSTRIAL NV NL0010545661 20/03/2018 11:58:23 185 10,65 EUR MTAA CNH INDUSTRIAL NV NL0010545661 20/03/2018 11:58:40 513 10,65 EUR MTAA CNH INDUSTRIAL NV NL0010545661 20/03/2018 12:00:57 1.416 10,65 EUR MTAA CNH INDUSTRIAL NV NL0010545661 20/03/2018 12:00:57 358 10,65 EUR MTAA CNH INDUSTRIAL NV NL0010545661 20/03/2018 12:04:24 1.000 10,64 EUR MTAA CNH INDUSTRIAL NV NL0010545661 20/03/2018 12:04:24 943 10,64 EUR MTAA CNH INDUSTRIAL NV NL0010545661 20/03/2018 12:04:24 1.071 10,64 EUR MTAA CNH INDUSTRIAL NV NL0010545661 20/03/2018 12:04:24 67 10,64 EUR MTAA CNH INDUSTRIAL NV NL0010545661 20/03/2018 12:06:22 797 10,64 EUR MTAA CNH INDUSTRIAL NV NL0010545661 20/03/2018 12:06:22 1.053 10,64 EUR MTAA CNH INDUSTRIAL NV NL0010545661 20/03/2018 12:06:22 968 10,64 EUR MTAA CNH INDUSTRIAL NV NL0010545661 20/03/2018 12:07:43 547 10,64 EUR MTAA CNH INDUSTRIAL NV NL0010545661 20/03/2018 12:07:43 405 10,64 EUR MTAA CNH INDUSTRIAL NV NL0010545661 20/03/2018 12:07:43 1.000 10,64 EUR MTAA CNH INDUSTRIAL NV NL0010545661 20/03/2018 12:07:43 127 10,64 EUR MTAA CNH INDUSTRIAL NV NL0010545661 20/03/2018 12:10:46 923 10,64 EUR MTAA CNH INDUSTRIAL NV NL0010545661 20/03/2018 12:10:46 1.000 10,64 EUR MTAA CNH INDUSTRIAL NV NL0010545661 20/03/2018 12:10:46 368 10,64 EUR MTAA CNH INDUSTRIAL NV NL0010545661 20/03/2018 12:12:03 1.135 10,63 EUR MTAA CNH INDUSTRIAL NV NL0010545661 20/03/2018 12:14:27 1.024 10,63 EUR MTAA CNH INDUSTRIAL NV NL0010545661 20/03/2018 12:14:27 1.000 10,63 EUR MTAA CNH INDUSTRIAL NV NL0010545661 20/03/2018 12:14:27 561 10,63 EUR MTAA CNH INDUSTRIAL NV NL0010545661 20/03/2018 12:17:27 425 10,62 EUR MTAA CNH INDUSTRIAL NV NL0010545661 20/03/2018 12:17:27 704 10,62 EUR MTAA CNH INDUSTRIAL NV NL0010545661 20/03/2018 12:17:27 1.496 10,62 EUR MTAA CNH INDUSTRIAL NV NL0010545661 20/03/2018 12:17:33 683 10,62 EUR MTAA CNH INDUSTRIAL NV NL0010545661 20/03/2018 12:17:36 177 10,62 EUR MTAA CNH INDUSTRIAL NV NL0010545661 20/03/2018 12:27:30 2.200 10,62 EUR MTAA CNH INDUSTRIAL NV NL0010545661 20/03/2018 12:27:30 977 10,62 EUR MTAA CNH INDUSTRIAL NV NL0010545661 20/03/2018 12:28:07 622 10,62 EUR MTAA CNH INDUSTRIAL NV NL0010545661 20/03/2018 12:28:26 975 10,62 EUR MTAA CNH INDUSTRIAL NV NL0010545661 20/03/2018 12:28:26 1.208 10,62 EUR MTAA CNH INDUSTRIAL NV NL0010545661 20/03/2018 12:28:26 198 10,62 EUR MTAA CNH INDUSTRIAL NV NL0010545661 20/03/2018 12:33:06 5.230 10,61 EUR MTAA CNH INDUSTRIAL NV NL0010545661 20/03/2018 12:33:06 2.381 10,61 EUR MTAA CNH INDUSTRIAL NV NL0010545661 20/03/2018 12:35:36 1.501 10,60 EUR MTAA CNH INDUSTRIAL NV NL0010545661 20/03/2018 12:35:36 1.027 10,60 EUR MTAA CNH INDUSTRIAL NV NL0010545661 20/03/2018 12:35:36 315 10,60 EUR MTAA CNH INDUSTRIAL NV NL0010545661 20/03/2018 12:35:36 959 10,60 EUR MTAA CNH INDUSTRIAL NV NL0010545661 20/03/2018 12:35:36 1.000 10,60 EUR MTAA CNH INDUSTRIAL NV NL0010545661 20/03/2018 12:35:36 474 10,60 EUR MTAA CNH INDUSTRIAL NV NL0010545661 20/03/2018 12:35:36 304 10,60 EUR MTAA CNH INDUSTRIAL NV NL0010545661 20/03/2018 12:37:39 10 10,60 EUR MTAA CNH INDUSTRIAL NV NL0010545661 20/03/2018 12:37:44 1.260 10,60 EUR MTAA CNH INDUSTRIAL NV NL0010545661 20/03/2018 12:37:44 1.324 10,60 EUR MTAA CNH INDUSTRIAL NV NL0010545661 20/03/2018 12:39:02 504 10,59 EUR MTAA CNH INDUSTRIAL NV NL0010545661 20/03/2018 12:39:02 1.000 10,59 EUR MTAA CNH INDUSTRIAL NV NL0010545661 20/03/2018 12:39:02 594 10,59 EUR MTAA CNH INDUSTRIAL NV NL0010545661 20/03/2018 12:39:02 700 10,59 EUR MTAA CNH INDUSTRIAL NV NL0010545661 20/03/2018 12:39:02 402 10,59 EUR MTAA CNH INDUSTRIAL NV NL0010545661 20/03/2018 12:39:02 1.566 10,59 EUR MTAA CNH INDUSTRIAL NV NL0010545661 20/03/2018 12:39:02 179 10,59 EUR MTAA CNH INDUSTRIAL NV NL0010545661 20/03/2018 12:42:10 1.191 10,60 EUR MTAA CNH INDUSTRIAL NV NL0010545661 20/03/2018 12:42:10 2.145 10,60 EUR MTAA CNH INDUSTRIAL NV NL0010545661 20/03/2018 12:43:10 538 10,59 EUR MTAA CNH INDUSTRIAL NV NL0010545661 20/03/2018 12:44:21 718 10,59 EUR MTAA CNH INDUSTRIAL NV NL0010545661 20/03/2018 12:44:39 1.086 10,59 EUR MTAA CNH INDUSTRIAL NV NL0010545661 20/03/2018 12:44:39 1.437 10,59 EUR MTAA CNH INDUSTRIAL NV NL0010545661 20/03/2018 12:44:39 1.063 10,59 EUR MTAA CNH INDUSTRIAL NV NL0010545661 20/03/2018 12:46:37 396 10,59 EUR MTAA CNH INDUSTRIAL NV NL0010545661 20/03/2018 12:46:37 2.419 10,59 EUR MTAA CNH INDUSTRIAL NV NL0010545661 20/03/2018 12:46:37 305 10,59 EUR MTAA CNH INDUSTRIAL NV NL0010545661 20/03/2018 12:51:26 989 10,58 EUR MTAA CNH INDUSTRIAL NV NL0010545661 20/03/2018 12:51:26 1.000 10,58 EUR MTAA CNH INDUSTRIAL NV NL0010545661 20/03/2018 12:51:26 870 10,58 EUR MTAA CNH INDUSTRIAL NV NL0010545661 20/03/2018 12:53:05 625 10,59 EUR MTAA CNH INDUSTRIAL NV NL0010545661 20/03/2018 12:53:05 1.000 10,59 EUR MTAA CNH INDUSTRIAL NV NL0010545661 20/03/2018 12:53:05 2.200 10,59 EUR MTAA CNH INDUSTRIAL NV NL0010545661 20/03/2018 12:53:05 1.459 10,59 EUR MTAA CNH INDUSTRIAL NV NL0010545661 20/03/2018 12:53:05 359 10,59 EUR MTAA CNH INDUSTRIAL NV NL0010545661 20/03/2018 12:58:44 1.023 10,59 EUR MTAA CNH INDUSTRIAL NV NL0010545661 20/03/2018 12:58:44 3.102 10,59 EUR MTAA CNH INDUSTRIAL NV NL0010545661 20/03/2018 13:01:54 554 10,58 EUR MTAA CNH INDUSTRIAL NV NL0010545661 20/03/2018 13:01:54 946 10,58 EUR MTAA CNH INDUSTRIAL NV NL0010545661 20/03/2018 13:01:54 1.950 10,58 EUR MTAA CNH INDUSTRIAL NV NL0010545661 20/03/2018 13:01:54 256 10,58 EUR MTAA CNH INDUSTRIAL NV NL0010545661 20/03/2018 13:04:41 4.626 10,58 EUR MTAA CNH INDUSTRIAL NV NL0010545661 20/03/2018 13:07:21 900 10,57 EUR MTAA CNH INDUSTRIAL NV NL0010545661 20/03/2018 13:07:21 1.059 10,57 EUR MTAA CNH INDUSTRIAL NV NL0010545661 20/03/2018 13:07:21 1.011 10,57 EUR MTAA CNH INDUSTRIAL NV NL0010545661 20/03/2018 13:09:09 131 10,57 EUR MTAA CNH INDUSTRIAL NV NL0010545661 20/03/2018 13:09:09 2.419 10,57 EUR MTAA CNH INDUSTRIAL NV NL0010545661 20/03/2018 13:09:09 656 10,57 EUR MTAA CNH INDUSTRIAL NV NL0010545661 20/03/2018 13:09:09 229 10,57 EUR MTAA CNH INDUSTRIAL NV NL0010545661 20/03/2018 13:09:09 675 10,57 EUR MTAA CNH INDUSTRIAL NV NL0010545661 20/03/2018 13:09:09 424 10,57 EUR MTAA CNH INDUSTRIAL NV NL0010545661 20/03/2018 13:14:23 1.000 10,58 EUR MTAA CNH INDUSTRIAL NV NL0010545661 20/03/2018 13:14:23 935 10,58 EUR MTAA CNH INDUSTRIAL NV NL0010545661 20/03/2018 13:14:23 1.168 10,58 EUR MTAA CNH INDUSTRIAL NV NL0010545661 20/03/2018 13:14:23 1.080 10,58 EUR MTAA CNH INDUSTRIAL NV NL0010545661 20/03/2018 13:14:23 2 10,58 EUR MTAA CNH INDUSTRIAL NV NL0010545661 20/03/2018 13:14:23 208 10,58 EUR MTAA CNH INDUSTRIAL NV NL0010545661 20/03/2018 13:14:23 1.000 10,58 EUR MTAA CNH INDUSTRIAL NV NL0010545661 20/03/2018 13:14:23 1.000 10,58 EUR MTAA CNH INDUSTRIAL NV NL0010545661 20/03/2018 13:14:23 2.200 10,58 EUR MTAA CNH INDUSTRIAL NV NL0010545661 20/03/2018 13:14:23 662 10,58 EUR MTAA CNH INDUSTRIAL NV NL0010545661 20/03/2018 13:14:28 1.075 10,58 EUR MTAA CNH INDUSTRIAL NV NL0010545661 20/03/2018 13:14:31 613 10,58 EUR MTAA CNH INDUSTRIAL NV NL0010545661 20/03/2018 13:14:34 159 10,58 EUR MTAA CNH INDUSTRIAL NV NL0010545661 20/03/2018 13:18:09 1.200 10,57 EUR MTAA CNH INDUSTRIAL NV NL0010545661 20/03/2018 13:18:09 2.263 10,57 EUR MTAA CNH INDUSTRIAL NV NL0010545661 20/03/2018 13:18:09 641 10,57 EUR MTAA CNH INDUSTRIAL NV NL0010545661 20/03/2018 13:18:09 1.060 10,57 EUR MTAA CNH INDUSTRIAL NV NL0010545661 20/03/2018 13:20:21 1.497 10,56 EUR MTAA CNH INDUSTRIAL NV NL0010545661 20/03/2018 13:20:21 249 10,56 EUR MTAA CNH INDUSTRIAL NV NL0010545661 20/03/2018 13:20:21 4.174 10,56 EUR MTAA CNH INDUSTRIAL NV NL0010545661 20/03/2018 13:20:21 822 10,56 EUR MTAA CNH INDUSTRIAL NV NL0010545661 20/03/2018 13:21:34 964 10,55 EUR MTAA CNH INDUSTRIAL NV NL0010545661 20/03/2018 13:21:43 1.550 10,55 EUR MTAA CNH INDUSTRIAL NV NL0010545661 20/03/2018 13:21:58 2.486 10,55 EUR MTAA CNH INDUSTRIAL NV NL0010545661 20/03/2018 13:23:11 1.571 10,54 EUR MTAA CNH INDUSTRIAL NV NL0010545661 20/03/2018 13:24:01 186 10,55 EUR MTAA CNH INDUSTRIAL NV NL0010545661 20/03/2018 13:24:01 1.117 10,55 EUR MTAA CNH INDUSTRIAL NV NL0010545661 20/03/2018 13:24:01 1.000 10,55 EUR MTAA CNH INDUSTRIAL NV NL0010545661 20/03/2018 13:24:01 1.787 10,55 EUR MTAA CNH INDUSTRIAL NV NL0010545661 20/03/2018 13:24:01 1.547 10,55 EUR MTAA CNH INDUSTRIAL NV NL0010545661 20/03/2018 13:27:54 6.749 10,56 EUR MTAA CNH INDUSTRIAL NV NL0010545661 20/03/2018 13:29:22 546 10,57 EUR MTAA CNH INDUSTRIAL NV NL0010545661 20/03/2018 13:29:23 1.001 10,57 EUR MTAA CNH INDUSTRIAL NV NL0010545661 20/03/2018 13:29:23 2.552 10,57 EUR MTAA CNH INDUSTRIAL NV NL0010545661 20/03/2018 13:29:23 1.390 10,57 EUR MTAA CNH INDUSTRIAL NV NL0010545661 20/03/2018 13:29:23 882 10,57 EUR MTAA CNH INDUSTRIAL NV NL0010545661 20/03/2018 13:29:52 535 10,56 EUR MTAA CNH INDUSTRIAL NV NL0010545661 20/03/2018 13:29:52 2 10,56 EUR MTAA CNH INDUSTRIAL NV NL0010545661 20/03/2018 13:38:45 373 10,55 EUR MTAA CNH INDUSTRIAL NV NL0010545661 20/03/2018 13:39:30 777 10,55 EUR MTAA CNH INDUSTRIAL NV NL0010545661 20/03/2018 13:40:01 314 10,55 EUR MTAA CNH INDUSTRIAL NV NL0010545661 20/03/2018 13:40:02 863 10,56 EUR MTAA CNH INDUSTRIAL NV NL0010545661 20/03/2018 13:40:02 1.233 10,56 EUR MTAA CNH INDUSTRIAL NV NL0010545661 20/03/2018 13:40:02 246 10,56 EUR MTAA CNH INDUSTRIAL NV NL0010545661 20/03/2018 13:40:03 9 10,56 EUR MTAA CNH INDUSTRIAL NV NL0010545661 20/03/2018 13:40:08 49 10,56 EUR MTAA CNH INDUSTRIAL NV NL0010545661 20/03/2018 13:40:41 427 10,56 EUR MTAA CNH INDUSTRIAL NV NL0010545661 20/03/2018 13:41:00 391 10,56 EUR MTAA CNH INDUSTRIAL NV NL0010545661 20/03/2018 13:42:03 1.186 10,57 EUR MTAA CNH INDUSTRIAL NV NL0010545661 20/03/2018 13:42:03 1.154 10,57 EUR MTAA CNH INDUSTRIAL NV NL0010545661 20/03/2018 13:42:03 1.332 10,57 EUR MTAA CNH INDUSTRIAL NV NL0010545661 20/03/2018 13:43:16 1.545 10,57 EUR MTAA CNH INDUSTRIAL NV NL0010545661 20/03/2018 13:43:57 3.382 10,56 EUR MTAA CNH INDUSTRIAL NV NL0010545661 20/03/2018 13:45:12 3.523 10,55 EUR MTAA CNH INDUSTRIAL NV NL0010545661 20/03/2018 13:46:17 2.522 10,55 EUR MTAA CNH INDUSTRIAL NV NL0010545661 20/03/2018 13:47:21 484 10,56 EUR MTAA CNH INDUSTRIAL NV NL0010545661 20/03/2018 13:47:21 1.000 10,56 EUR MTAA CNH INDUSTRIAL NV NL0010545661 20/03/2018 13:47:21 1.126 10,56 EUR MTAA CNH INDUSTRIAL NV NL0010545661 20/03/2018 13:47:21 600 10,56 EUR MTAA CNH INDUSTRIAL NV NL0010545661 20/03/2018 13:47:28 382 10,56 EUR MTAA CNH INDUSTRIAL NV NL0010545661 20/03/2018 13:48:14 2.200 10,55 EUR MTAA CNH INDUSTRIAL NV NL0010545661 20/03/2018 13:48:14 657 10,55 EUR MTAA CNH INDUSTRIAL NV NL0010545661 20/03/2018 13:48:41 1.138 10,54 EUR MTAA CNH INDUSTRIAL NV NL0010545661 20/03/2018 13:48:41 5.562 10,54 EUR MTAA CNH INDUSTRIAL NV NL0010545661 20/03/2018 13:48:41 3.300 10,54 EUR MTAA CNH INDUSTRIAL NV NL0010545661 20/03/2018 13:49:16 608 10,54 EUR MTAA CNH INDUSTRIAL NV NL0010545661 20/03/2018 13:49:39 1.439 10,54 EUR MTAA CNH INDUSTRIAL NV NL0010545661 20/03/2018 13:49:39 739 10,54 EUR MTAA CNH INDUSTRIAL NV NL0010545661 20/03/2018 13:50:24 1.458 10,54 EUR MTAA CNH INDUSTRIAL NV NL0010545661 20/03/2018 13:50:27 1.403 10,54 EUR MTAA CNH INDUSTRIAL NV NL0010545661 20/03/2018 13:51:25 235 10,55 EUR MTAA CNH INDUSTRIAL NV NL0010545661 20/03/2018 13:51:25 534 10,55 EUR MTAA CNH INDUSTRIAL NV NL0010545661 20/03/2018 13:51:26 2.131 10,55 EUR MTAA CNH INDUSTRIAL NV NL0010545661 20/03/2018 13:52:11 359 10,58 EUR MTAA CNH INDUSTRIAL NV NL0010545661 20/03/2018 13:52:11 2.200 10,58 EUR MTAA CNH INDUSTRIAL NV NL0010545661 20/03/2018 13:52:11 269 10,58 EUR MTAA CNH INDUSTRIAL NV NL0010545661 20/03/2018 13:53:03 1.040 10,59 EUR MTAA CNH INDUSTRIAL NV NL0010545661 20/03/2018 13:53:49 1.838 10,59 EUR MTAA CNH INDUSTRIAL NV NL0010545661 20/03/2018 13:55:20 935 10,59 EUR MTAA CNH INDUSTRIAL NV NL0010545661 20/03/2018 13:55:20 1.000 10,59 EUR MTAA CNH INDUSTRIAL NV NL0010545661 20/03/2018 13:55:20 1.855 10,59 EUR MTAA CNH INDUSTRIAL NV NL0010545661 20/03/2018 13:56:50 688 10,59 EUR MTAA CNH INDUSTRIAL NV NL0010545661 20/03/2018 13:56:50 1.000 10,59 EUR MTAA CNH INDUSTRIAL NV NL0010545661 20/03/2018 13:56:50 917 10,59 EUR MTAA CNH INDUSTRIAL NV NL0010545661 20/03/2018 13:56:50 853 10,59 EUR MTAA CNH INDUSTRIAL NV NL0010545661 20/03/2018 13:56:50 1.000 10,59 EUR MTAA CNH INDUSTRIAL NV NL0010545661 20/03/2018 13:56:50 1.300 10,59 EUR MTAA CNH INDUSTRIAL NV NL0010545661 20/03/2018 13:56:50 26 10,59 EUR MTAA CNH INDUSTRIAL NV NL0010545661 20/03/2018 13:58:33 1.000 10,56 EUR MTAA CNH INDUSTRIAL NV NL0010545661 20/03/2018 13:58:33 679 10,56 EUR MTAA CNH INDUSTRIAL NV NL0010545661 20/03/2018 13:59:05 1.000 10,56 EUR MTAA CNH INDUSTRIAL NV NL0010545661 20/03/2018 13:59:05 1.138 10,56 EUR MTAA CNH INDUSTRIAL NV NL0010545661 20/03/2018 13:59:05 964 10,56 EUR MTAA CNH INDUSTRIAL NV NL0010545661 20/03/2018 13:59:05 967 10,56 EUR MTAA CNH INDUSTRIAL NV NL0010545661 20/03/2018 13:59:05 720 10,56 EUR MTAA CNH INDUSTRIAL NV NL0010545661 20/03/2018 14:00:40 1.066 10,55 EUR MTAA CNH INDUSTRIAL NV NL0010545661 20/03/2018 14:00:40 1.800 10,55 EUR MTAA CNH INDUSTRIAL NV NL0010545661 20/03/2018 14:00:40 1.121 10,55 EUR MTAA CNH INDUSTRIAL NV NL0010545661 20/03/2018 14:01:47 598 10,56 EUR MTAA CNH INDUSTRIAL NV NL0010545661 20/03/2018 14:01:47 2.784 10,56 EUR MTAA CNH INDUSTRIAL NV NL0010545661 20/03/2018 14:02:52 1.000 10,56 EUR MTAA CNH INDUSTRIAL NV NL0010545661 20/03/2018 14:02:53 1.285 10,56 EUR MTAA CNH INDUSTRIAL NV NL0010545661 20/03/2018 14:02:53 368 10,56 EUR MTAA CNH INDUSTRIAL NV NL0010545661 20/03/2018 14:03:57 2.200 10,57 EUR MTAA CNH INDUSTRIAL NV NL0010545661 20/03/2018 14:03:57 884 10,57 EUR MTAA CNH INDUSTRIAL NV NL0010545661 20/03/2018 14:04:41 1.278 10,55 EUR MTAA CNH INDUSTRIAL NV NL0010545661 20/03/2018 14:05:25 12 10,56 EUR MTAA CNH INDUSTRIAL NV NL0010545661 20/03/2018 14:05:25 547 10,56 EUR MTAA CNH INDUSTRIAL NV NL0010545661 20/03/2018 14:05:25 1.043 10,56 EUR MTAA CNH INDUSTRIAL NV NL0010545661 20/03/2018 14:05:25 372 10,56 EUR MTAA CNH INDUSTRIAL NV NL0010545661 20/03/2018 14:05:44 1.020 10,55 EUR MTAA CNH INDUSTRIAL NV NL0010545661 20/03/2018 14:06:35 1.915 10,55 EUR MTAA CNH INDUSTRIAL NV NL0010545661 20/03/2018 14:06:35 976 10,55 EUR MTAA CNH INDUSTRIAL NV NL0010545661 20/03/2018 14:07:28 994 10,55 EUR MTAA CNH INDUSTRIAL NV NL0010545661 20/03/2018 14:07:54 978 10,55 EUR MTAA CNH INDUSTRIAL NV NL0010545661 20/03/2018 14:07:54 1.000 10,55 EUR MTAA CNH INDUSTRIAL NV NL0010545661 20/03/2018 14:07:54 633 10,55 EUR MTAA CNH INDUSTRIAL NV NL0010545661 20/03/2018 14:09:03 929 10,54 EUR MTAA CNH INDUSTRIAL NV NL0010545661 20/03/2018 14:09:05 263 10,54 EUR MTAA CNH INDUSTRIAL NV NL0010545661 20/03/2018 14:09:05 1.504 10,54 EUR MTAA CNH INDUSTRIAL NV NL0010545661 20/03/2018 14:10:27 1.495 10,54 EUR MTAA CNH INDUSTRIAL NV NL0010545661 20/03/2018 14:10:27 650 10,54 EUR MTAA CNH INDUSTRIAL NV NL0010545661 20/03/2018 14:10:27 1.128 10,54 EUR MTAA CNH INDUSTRIAL NV NL0010545661 20/03/2018 14:11:08 156 10,54 EUR MTAA CNH INDUSTRIAL NV NL0010545661 20/03/2018 14:11:08 949 10,54 EUR MTAA CNH INDUSTRIAL NV NL0010545661 20/03/2018 14:11:08 996 10,54 EUR MTAA CNH INDUSTRIAL NV NL0010545661 20/03/2018 14:11:11 669 10,54 EUR MTAA CNH INDUSTRIAL NV NL0010545661 20/03/2018 14:12:12 1.020 10,54 EUR MTAA CNH INDUSTRIAL NV NL0010545661 20/03/2018 14:12:12 598 10,54 EUR MTAA CNH INDUSTRIAL NV NL0010545661 20/03/2018 14:12:12 1.147 10,54 EUR MTAA CNH INDUSTRIAL NV NL0010545661 20/03/2018 14:12:12 233 10,54 EUR MTAA CNH INDUSTRIAL NV NL0010545661 20/03/2018 14:13:15 932 10,53 EUR MTAA CNH INDUSTRIAL NV NL0010545661 20/03/2018 14:13:15 1.000 10,53 EUR MTAA CNH INDUSTRIAL NV NL0010545661 20/03/2018 14:13:15 1.084 10,53 EUR MTAA CNH INDUSTRIAL NV NL0010545661 20/03/2018 14:14:24 506 10,53 EUR MTAA CNH INDUSTRIAL NV NL0010545661 20/03/2018 14:14:24 2.296 10,53 EUR MTAA CNH INDUSTRIAL NV NL0010545661 20/03/2018 14:14:24 387 10,53 EUR MTAA CNH INDUSTRIAL NV NL0010545661 20/03/2018 14:16:03 2.200 10,53 EUR MTAA CNH INDUSTRIAL NV NL0010545661 20/03/2018 14:16:03 614 10,53 EUR MTAA CNH INDUSTRIAL NV NL0010545661 20/03/2018 14:16:03 2.882 10,52 EUR MTAA CNH INDUSTRIAL NV NL0010545661 20/03/2018 14:16:23 1.087 10,52 EUR MTAA CNH INDUSTRIAL NV NL0010545661 20/03/2018 14:16:23 1.031 10,52 EUR MTAA CNH INDUSTRIAL NV NL0010545661 20/03/2018 14:16:24 1.495 10,52 EUR MTAA CNH INDUSTRIAL NV NL0010545661 20/03/2018 14:17:58 1.344 10,55 EUR MTAA CNH INDUSTRIAL NV NL0010545661 20/03/2018 14:17:58 4.368 10,55 EUR MTAA CNH INDUSTRIAL NV NL0010545661 20/03/2018 14:19:02 2.222 10,55 EUR MTAA CNH INDUSTRIAL NV NL0010545661 20/03/2018 14:20:09 3.018 10,56 EUR MTAA CNH INDUSTRIAL NV NL0010545661 20/03/2018 14:20:54 400 10,58 EUR MTAA CNH INDUSTRIAL NV NL0010545661 20/03/2018 14:25:48 2.022 10,59 EUR MTAA CNH INDUSTRIAL NV NL0010545661 20/03/2018 14:26:12 1.062 10,59 EUR MTAA CNH INDUSTRIAL NV NL0010545661 20/03/2018 14:26:12 1.000 10,59 EUR MTAA CNH INDUSTRIAL NV NL0010545661 20/03/2018 14:40:02 380 10,74 EUR MTAA CNH INDUSTRIAL NV NL0010545661 20/03/2018 14:40:02 1.020 10,74 EUR MTAA CNH INDUSTRIAL NV NL0010545661 20/03/2018 14:40:02 586 10,74 EUR MTAA CNH INDUSTRIAL NV NL0010545661 20/03/2018 14:40:14 1.000 10,74 EUR MTAA CNH INDUSTRIAL NV NL0010545661 20/03/2018 14:40:39 1.300 10,74 EUR MTAA CNH INDUSTRIAL NV NL0010545661 20/03/2018 14:40:39 2.200 10,74 EUR MTAA CNH INDUSTRIAL NV NL0010545661 20/03/2018 14:40:39 993 10,74 EUR MTAA CNH INDUSTRIAL NV NL0010545661 20/03/2018 14:40:39 152 10,74 EUR MTAA CNH INDUSTRIAL NV NL0010545661 20/03/2018 14:41:34 1.249 10,73 EUR MTAA CNH INDUSTRIAL NV NL0010545661 20/03/2018 14:41:34 937 10,73 EUR MTAA CNH INDUSTRIAL NV NL0010545661 20/03/2018 14:41:34 700 10,73 EUR MTAA CNH INDUSTRIAL NV NL0010545661 20/03/2018 14:41:34 800 10,73 EUR MTAA CNH INDUSTRIAL NV NL0010545661 20/03/2018 14:42:32 307 10,73 EUR MTAA CNH INDUSTRIAL NV NL0010545661 20/03/2018 14:42:32 1.249 10,73 EUR MTAA CNH INDUSTRIAL NV NL0010545661 20/03/2018 14:42:32 1.500 10,73 EUR MTAA CNH INDUSTRIAL NV NL0010545661 20/03/2018 14:42:32 1.001 10,73 EUR MTAA CNH INDUSTRIAL NV NL0010545661 20/03/2018 14:43:20 1.612 10,72 EUR MTAA CNH INDUSTRIAL NV NL0010545661 20/03/2018 14:43:53 3.500 10,72 EUR MTAA CNH INDUSTRIAL NV NL0010545661 20/03/2018 14:43:53 889 10,72 EUR MTAA CNH INDUSTRIAL NV NL0010545661 20/03/2018 14:44:40 1.734 10,73 EUR MTAA CNH INDUSTRIAL NV NL0010545661 20/03/2018 14:44:40 249 10,73 EUR MTAA CNH INDUSTRIAL NV NL0010545661 20/03/2018 14:45:19 898 10,73 EUR MTAA CNH INDUSTRIAL NV NL0010545661 20/03/2018 14:45:19 3.420 10,73 EUR MTAA CNH INDUSTRIAL NV NL0010545661 20/03/2018 14:46:07 1.949 10,75 EUR MTAA CNH INDUSTRIAL NV NL0010545661 20/03/2018 14:50:00 1.715 10,75 EUR MTAA CNH INDUSTRIAL NV NL0010545661 20/03/2018 14:51:18 1.644 10,75 EUR MTAA CNH INDUSTRIAL NV NL0010545661 20/03/2018 14:51:39 1.017 10,74 EUR MTAA CNH INDUSTRIAL NV NL0010545661 20/03/2018 14:51:39 1.000 10,74 EUR MTAA CNH INDUSTRIAL NV NL0010545661 20/03/2018 14:51:39 700 10,74 EUR MTAA CNH INDUSTRIAL NV NL0010545661 20/03/2018 14:51:39 1.000 10,75 EUR MTAA CNH INDUSTRIAL NV NL0010545661 20/03/2018 14:51:39 965 10,75 EUR MTAA CNH INDUSTRIAL NV NL0010545661 20/03/2018 14:51:39 1.139 10,75 EUR MTAA CNH INDUSTRIAL NV NL0010545661 20/03/2018 14:51:39 1.661 10,75 EUR MTAA CNH INDUSTRIAL NV NL0010545661 20/03/2018 14:51:39 742 10,75 EUR MTAA CNH INDUSTRIAL NV NL0010545661 20/03/2018 14:52:57 403 10,74 EUR MTAA CNH INDUSTRIAL NV NL0010545661 20/03/2018 14:53:55 6.246 10,75 EUR MTAA CNH INDUSTRIAL NV NL0010545661 20/03/2018 14:54:22 3.482 10,75 EUR MTAA CNH INDUSTRIAL NV NL0010545661 20/03/2018 14:54:22 1.135 10,75 EUR MTAA CNH INDUSTRIAL NV NL0010545661 20/03/2018 14:55:56 927 10,74 EUR MTAA CNH INDUSTRIAL NV NL0010545661 20/03/2018 14:55:56 505 10,74 EUR MTAA CNH INDUSTRIAL NV NL0010545661 20/03/2018 14:55:59 254 10,74 EUR MTAA CNH INDUSTRIAL NV NL0010545661 20/03/2018 14:56:03 2.415 10,74 EUR MTAA CNH INDUSTRIAL NV NL0010545661 20/03/2018 14:58:34 587 10,74 EUR MTAA CNH INDUSTRIAL NV NL0010545661 20/03/2018 14:58:34 1.484 10,74 EUR MTAA CNH INDUSTRIAL NV NL0010545661 20/03/2018 14:58:34 811 10,74 EUR MTAA CNH INDUSTRIAL NV NL0010545661 20/03/2018 14:59:23 1.614 10,73 EUR MTAA CNH INDUSTRIAL NV NL0010545661 20/03/2018 15:00:25 1.320 10,74 EUR MTAA CNH INDUSTRIAL NV NL0010545661 20/03/2018 15:00:25 2.729 10,74 EUR MTAA CNH INDUSTRIAL NV NL0010545661 20/03/2018 15:00:25 2.352 10,74 EUR MTAA CNH INDUSTRIAL NV NL0010545661 20/03/2018 15:00:30 1.419 10,74 EUR MTAA CNH INDUSTRIAL NV NL0010545661 20/03/2018 15:00:30 1.000 10,74 EUR MTAA CNH INDUSTRIAL NV NL0010545661 20/03/2018 15:00:30 628 10,74 EUR MTAA CNH INDUSTRIAL NV NL0010545661 20/03/2018 15:01:59 1.170 10,73 EUR MTAA CNH INDUSTRIAL NV NL0010545661 20/03/2018 15:01:59 1.484 10,73 EUR MTAA CNH INDUSTRIAL NV NL0010545661 20/03/2018 15:01:59 1.239 10,73 EUR MTAA CNH INDUSTRIAL NV NL0010545661 20/03/2018 15:04:53 539 10,72 EUR MTAA CNH INDUSTRIAL NV NL0010545661 20/03/2018 15:04:53 1.000 10,72 EUR MTAA CNH INDUSTRIAL NV NL0010545661 20/03/2018 15:04:53 1.000 10,72 EUR MTAA CNH INDUSTRIAL NV NL0010545661 20/03/2018 15:04:53 1.726 10,72 EUR MTAA CNH INDUSTRIAL NV NL0010545661 20/03/2018 15:04:53 1.000 10,72 EUR MTAA CNH INDUSTRIAL NV NL0010545661 20/03/2018 15:05:20 1.016 10,70 EUR MTAA CNH INDUSTRIAL NV NL0010545661 20/03/2018 15:06:10 376 10,71 EUR MTAA CNH INDUSTRIAL NV NL0010545661 20/03/2018 15:06:57 970 10,71 EUR MTAA CNH INDUSTRIAL NV NL0010545661 20/03/2018 15:06:57 299 10,71 EUR MTAA CNH INDUSTRIAL NV NL0010545661 20/03/2018 15:07:58 101 10,70 EUR MTAA CNH INDUSTRIAL NV NL0010545661 20/03/2018 15:07:58 16 10,70 EUR MTAA CNH INDUSTRIAL NV NL0010545661 20/03/2018 15:08:01 1.632 10,70 EUR MTAA CNH INDUSTRIAL NV NL0010545661 20/03/2018 15:10:22 678 10,69 EUR MTAA CNH INDUSTRIAL NV NL0010545661 20/03/2018 15:10:22 1.700 10,69 EUR MTAA CNH INDUSTRIAL NV NL0010545661 20/03/2018 15:10:22 412 10,69 EUR MTAA CNH INDUSTRIAL NV NL0010545661 20/03/2018 15:10:22 169 10,69 EUR MTAA CNH INDUSTRIAL NV NL0010545661 20/03/2018 15:11:13 1.805 10,70 EUR MTAA CNH INDUSTRIAL NV NL0010545661 20/03/2018 15:11:13 1.086 10,70 EUR MTAA CNH INDUSTRIAL NV NL0010545661 20/03/2018 15:12:00 1.000 10,70 EUR MTAA CNH INDUSTRIAL NV NL0010545661 20/03/2018 15:12:00 17 10,70 EUR MTAA CNH INDUSTRIAL NV NL0010545661 20/03/2018 15:13:50 987 10,69 EUR MTAA CNH INDUSTRIAL NV NL0010545661 20/03/2018 15:13:53 26 10,69 EUR MTAA CNH INDUSTRIAL NV NL0010545661 20/03/2018 15:13:53 171 10,69 EUR MTAA CNH INDUSTRIAL NV NL0010545661 20/03/2018 15:15:23 124 10,69 EUR MTAA CNH INDUSTRIAL NV NL0010545661 20/03/2018 15:15:59 2.981 10,70 EUR MTAA CNH INDUSTRIAL NV NL0010545661 20/03/2018 15:17:39 941 10,69 EUR MTAA CNH INDUSTRIAL NV NL0010545661 20/03/2018 15:17:39 107 10,69 EUR MTAA CNH INDUSTRIAL NV NL0010545661 20/03/2018 15:21:01 1.477 10,70 EUR MTAA CNH INDUSTRIAL NV NL0010545661 20/03/2018 15:21:01 1.011 10,70 EUR MTAA CNH INDUSTRIAL NV NL0010545661 20/03/2018 15:21:31 3.865 10,71 EUR MTAA CNH INDUSTRIAL NV NL0010545661 20/03/2018 15:22:31 1.000 10,71 EUR MTAA CNH INDUSTRIAL NV NL0010545661 20/03/2018 15:22:31 100 10,71 EUR MTAA CNH INDUSTRIAL NV NL0010545661 20/03/2018 15:22:31 795 10,71 EUR MTAA CNH INDUSTRIAL NV NL0010545661 20/03/2018 15:23:24 652 10,70 EUR MTAA CNH INDUSTRIAL NV NL0010545661 20/03/2018 15:23:24 623 10,70 EUR MTAA CNH INDUSTRIAL NV NL0010545661 20/03/2018 15:23:24 465 10,70 EUR MTAA CNH INDUSTRIAL NV NL0010545661 20/03/2018 15:25:50 1.438 10,71 EUR MTAA CNH INDUSTRIAL NV NL0010545661 20/03/2018 15:26:17 1.100 10,72 EUR MTAA CNH INDUSTRIAL NV NL0010545661 20/03/2018 15:26:17 1.000 10,72 EUR MTAA CNH INDUSTRIAL NV NL0010545661 20/03/2018 15:26:17 101 10,72 EUR MTAA CNH INDUSTRIAL NV NL0010545661 20/03/2018 15:26:17 334 10,72 EUR MTAA CNH INDUSTRIAL NV NL0010545661 20/03/2018 15:26:20 841 10,72 EUR MTAA CNH INDUSTRIAL NV NL0010545661 20/03/2018 15:26:20 200 10,72 EUR MTAA CNH INDUSTRIAL NV NL0010545661 20/03/2018 15:26:49 714 10,72 EUR MTAA CNH INDUSTRIAL NV NL0010545661 20/03/2018 15:27:36 620 10,72 EUR MTAA CNH INDUSTRIAL NV NL0010545661 20/03/2018 15:27:46 112 10,72 EUR MTAA CNH INDUSTRIAL NV NL0010545661 20/03/2018 15:28:08 1.370 10,72 EUR MTAA CNH INDUSTRIAL NV NL0010545661 20/03/2018 15:28:08 368 10,72 EUR MTAA CNH INDUSTRIAL NV NL0010545661 20/03/2018 15:28:08 66 10,72 EUR MTAA CNH INDUSTRIAL NV NL0010545661 20/03/2018 15:28:57 686 10,74 EUR MTAA CNH INDUSTRIAL NV NL0010545661 20/03/2018 15:28:57 1.225 10,74 EUR MTAA CNH INDUSTRIAL NV NL0010545661 20/03/2018 15:28:57 4.582 10,74 EUR MTAA CNH INDUSTRIAL NV NL0010545661 20/03/2018 15:29:31 2.171 10,73 EUR MTAA CNH INDUSTRIAL NV NL0010545661 20/03/2018 15:30:36 525 10,72 EUR MTAA CNH INDUSTRIAL NV NL0010545661 20/03/2018 15:30:36 1.222 10,72 EUR MTAA CNH INDUSTRIAL NV NL0010545661 20/03/2018 15:30:36 512 10,72 EUR MTAA CNH INDUSTRIAL NV NL0010545661 20/03/2018 15:33:08 252 10,72 EUR MTAA CNH INDUSTRIAL NV NL0010545661 20/03/2018 15:33:08 1.328 10,72 EUR MTAA CNH INDUSTRIAL NV NL0010545661 20/03/2018 15:33:08 1.113 10,72 EUR MTAA CNH INDUSTRIAL NV NL0010545661 20/03/2018 15:35:17 551 10,71 EUR MTAA CNH INDUSTRIAL NV NL0010545661 20/03/2018 15:35:17 908 10,71 EUR MTAA CNH INDUSTRIAL NV NL0010545661 20/03/2018 15:35:17 907 10,71 EUR MTAA CNH INDUSTRIAL NV NL0010545661 20/03/2018 15:35:17 402 10,71 EUR MTAA CNH INDUSTRIAL NV NL0010545661 20/03/2018 15:36:37 986 10,71 EUR MTAA CNH INDUSTRIAL NV NL0010545661 20/03/2018 15:36:37 1.000 10,71 EUR MTAA CNH INDUSTRIAL NV NL0010545661 20/03/2018 15:36:37 715 10,71 EUR MTAA CNH INDUSTRIAL NV NL0010545661 20/03/2018 15:36:37 17 10,71 EUR MTAA CNH INDUSTRIAL NV NL0010545661 20/03/2018 15:38:31 1.964 10,70 EUR MTAA CNH INDUSTRIAL NV NL0010545661 20/03/2018 15:38:31 155 10,70 EUR MTAA CNH INDUSTRIAL NV NL0010545661 20/03/2018 15:38:31 200 10,70 EUR MTAA CNH INDUSTRIAL NV NL0010545661 20/03/2018 15:38:31 1.038 10,70 EUR MTAA CNH INDUSTRIAL NV NL0010545661 20/03/2018 15:38:31 148 10,70 EUR MTAA CNH INDUSTRIAL NV NL0010545661 20/03/2018 15:38:36 148 10,70 EUR MTAA CNH INDUSTRIAL NV NL0010545661 20/03/2018 15:38:36 588 10,70 EUR MTAA CNH INDUSTRIAL NV NL0010545661 20/03/2018 15:38:39 155 10,70 EUR MTAA CNH INDUSTRIAL NV NL0010545661 20/03/2018 15:39:59 309 10,69 EUR MTAA CNH INDUSTRIAL NV NL0010545661 20/03/2018 15:39:59 290 10,69 EUR MTAA CNH INDUSTRIAL NV NL0010545661 20/03/2018 15:39:59 1.000 10,69 EUR MTAA CNH INDUSTRIAL NV NL0010545661 20/03/2018 15:41:19 2.200 10,68 EUR MTAA CNH INDUSTRIAL NV NL0010545661 20/03/2018 15:41:19 2.287 10,68 EUR MTAA CNH INDUSTRIAL NV NL0010545661 20/03/2018 15:44:29 586 10,67 EUR MTAA CNH INDUSTRIAL NV NL0010545661 20/03/2018 15:44:29 631 10,67 EUR MTAA CNH INDUSTRIAL NV NL0010545661 20/03/2018 15:44:29 1.800 10,67 EUR MTAA CNH INDUSTRIAL NV NL0010545661 20/03/2018 15:44:29 274 10,67 EUR MTAA CNH INDUSTRIAL NV NL0010545661 20/03/2018 15:47:15 987 10,66 EUR MTAA CNH INDUSTRIAL NV NL0010545661 20/03/2018 15:47:15 820 10,66 EUR MTAA CNH INDUSTRIAL NV NL0010545661 20/03/2018 15:48:39 3.478 10,65 EUR MTAA CNH INDUSTRIAL NV NL0010545661 20/03/2018 15:51:22 178 10,64 EUR MTAA CNH INDUSTRIAL NV NL0010545661 20/03/2018 15:51:22 958 10,64 EUR MTAA CNH INDUSTRIAL NV NL0010545661 20/03/2018 15:51:22 681 10,64 EUR MTAA CNH INDUSTRIAL NV NL0010545661 20/03/2018 15:51:22 285 10,64 EUR MTAA CNH INDUSTRIAL NV NL0010545661 20/03/2018 15:51:22 1.223 10,64 EUR MTAA CNH INDUSTRIAL NV NL0010545661 20/03/2018 15:52:42 1.027 10,64 EUR MTAA CNH INDUSTRIAL NV NL0010545661 20/03/2018 15:54:29 2.200 10,64 EUR MTAA CNH INDUSTRIAL NV NL0010545661 20/03/2018 15:54:29 1.666 10,64 EUR MTAA CNH INDUSTRIAL NV NL0010545661 20/03/2018 15:58:48 937 10,64 EUR MTAA CNH INDUSTRIAL NV NL0010545661 20/03/2018 15:58:48 1.000 10,64 EUR MTAA CNH INDUSTRIAL NV NL0010545661 20/03/2018 15:58:51 1.200 10,64 EUR MTAA CNH INDUSTRIAL NV NL0010545661 20/03/2018 15:58:51 4.249 10,64 EUR MTAA CNH INDUSTRIAL NV NL0010545661 20/03/2018 16:01:22 850 10,65 EUR MTAA CNH INDUSTRIAL NV NL0010545661 20/03/2018 16:01:22 1.000 10,65 EUR MTAA CNH INDUSTRIAL NV NL0010545661 20/03/2018 16:01:22 935 10,65 EUR MTAA CNH INDUSTRIAL NV NL0010545661 20/03/2018 16:01:22 1.000 10,65 EUR MTAA CNH INDUSTRIAL NV NL0010545661 20/03/2018 16:01:22 1.060 10,65 EUR MTAA CNH INDUSTRIAL NV NL0010545661 20/03/2018 16:04:18 307 10,67 EUR MTAA CNH INDUSTRIAL NV NL0010545661 20/03/2018 16:04:31 7.468 10,67 EUR MTAA CNH INDUSTRIAL NV NL0010545661 20/03/2018 16:06:03 200 10,65 EUR MTAA CNH INDUSTRIAL NV NL0010545661 20/03/2018 16:06:03 1.000 10,65 EUR MTAA CNH INDUSTRIAL NV NL0010545661 20/03/2018 16:06:03 631 10,65 EUR MTAA CNH INDUSTRIAL NV NL0010545661 20/03/2018 16:06:03 938 10,65 EUR MTAA CNH INDUSTRIAL NV NL0010545661 20/03/2018 16:06:03 1.136 10,65 EUR MTAA CNH INDUSTRIAL NV NL0010545661 20/03/2018 16:06:03 929 10,65 EUR MTAA CNH INDUSTRIAL NV NL0010545661 20/03/2018 16:06:43 1.913 10,65 EUR MTAA CNH INDUSTRIAL NV NL0010545661 20/03/2018 16:06:43 858 10,65 EUR MTAA CNH INDUSTRIAL NV NL0010545661 20/03/2018 16:06:43 631 10,65 EUR MTAA CNH INDUSTRIAL NV NL0010545661 20/03/2018 16:06:43 663 10,65 EUR MTAA CNH INDUSTRIAL NV NL0010545661 20/03/2018 16:06:43 980 10,65 EUR MTAA CNH INDUSTRIAL NV NL0010545661 20/03/2018 16:06:43 1.505 10,65 EUR MTAA CNH INDUSTRIAL NV NL0010545661 20/03/2018 16:06:43 612 10,65 EUR MTAA CNH INDUSTRIAL NV NL0010545661 20/03/2018 16:08:40 368 10,64 EUR MTAA CNH INDUSTRIAL NV NL0010545661 20/03/2018 16:09:36 1.656 10,64 EUR MTAA CNH INDUSTRIAL NV NL0010545661 20/03/2018 16:09:49 1.000 10,65 EUR MTAA CNH INDUSTRIAL NV NL0010545661 20/03/2018 16:09:49 858 10,65 EUR MTAA CNH INDUSTRIAL NV NL0010545661 20/03/2018 16:09:49 392 10,65 EUR MTAA CNH INDUSTRIAL NV NL0010545661 20/03/2018 16:11:11 767 10,65 EUR MTAA CNH INDUSTRIAL NV NL0010545661 20/03/2018 16:11:11 1.029 10,65 EUR MTAA CNH INDUSTRIAL NV NL0010545661 20/03/2018 16:12:26 90 10,65 EUR MTAA CNH INDUSTRIAL NV NL0010545661 20/03/2018 16:12:36 1.876 10,65 EUR MTAA CNH INDUSTRIAL NV NL0010545661 20/03/2018 16:13:26 2.724 10,67 EUR MTAA CNH INDUSTRIAL NV NL0010545661 20/03/2018 16:14:26 965 10,67 EUR MTAA CNH INDUSTRIAL NV NL0010545661 20/03/2018 16:14:26 335 10,67 EUR MTAA CNH INDUSTRIAL NV NL0010545661 20/03/2018 16:14:37 1.000 10,67 EUR MTAA CNH INDUSTRIAL NV NL0010545661 20/03/2018 16:14:37 79 10,67 EUR MTAA CNH INDUSTRIAL NV NL0010545661 20/03/2018 16:15:36 930 10,66 EUR MTAA CNH INDUSTRIAL NV NL0010545661 20/03/2018 16:15:36 458 10,66 EUR MTAA CNH INDUSTRIAL NV NL0010545661 20/03/2018 16:16:09 368 10,66 EUR MTAA CNH INDUSTRIAL NV NL0010545661 20/03/2018 16:16:09 485 10,66 EUR MTAA CNH INDUSTRIAL NV NL0010545661 20/03/2018 16:16:32 1.658 10,67 EUR MTAA CNH INDUSTRIAL NV NL0010545661 20/03/2018 16:17:16 1.290 10,67 EUR MTAA CNH INDUSTRIAL NV NL0010545661 20/03/2018 16:18:41 74 10,67 EUR MTAA CNH INDUSTRIAL NV NL0010545661 20/03/2018 16:18:41 1.000 10,67 EUR MTAA CNH INDUSTRIAL NV NL0010545661 20/03/2018 16:18:41 833 10,67 EUR MTAA CNH INDUSTRIAL NV NL0010545661 20/03/2018 16:18:41 599 10,67 EUR MTAA CNH INDUSTRIAL NV NL0010545661 20/03/2018 16:18:41 1.000 10,67 EUR MTAA CNH INDUSTRIAL NV NL0010545661 20/03/2018 16:18:44 1.000 10,67 EUR MTAA CNH INDUSTRIAL NV NL0010545661 20/03/2018 16:18:44 833 10,67 EUR MTAA CNH INDUSTRIAL NV NL0010545661 20/03/2018 16:18:50 944 10,67 EUR MTAA CNH INDUSTRIAL NV NL0010545661 20/03/2018 16:18:50 1.000 10,67 EUR MTAA CNH INDUSTRIAL NV NL0010545661 20/03/2018 16:18:50 2.316 10,67 EUR MTAA CNH INDUSTRIAL NV NL0010545661 20/03/2018 16:18:50 4 10,67 EUR MTAA CNH INDUSTRIAL NV NL0010545661 20/03/2018 16:19:19 1.741 10,66 EUR MTAA CNH INDUSTRIAL NV NL0010545661 20/03/2018 16:20:59 166 10,67 EUR MTAA CNH INDUSTRIAL NV NL0010545661 20/03/2018 16:20:59 194 10,67 EUR MTAA CNH INDUSTRIAL NV NL0010545661 20/03/2018 16:20:59 500 10,67 EUR MTAA CNH INDUSTRIAL NV NL0010545661 20/03/2018 16:21:11 1.558 10,67 EUR MTAA CNH INDUSTRIAL NV NL0010545661 20/03/2018 16:21:11 426 10,67 EUR MTAA CNH INDUSTRIAL NV NL0010545661 20/03/2018 16:22:32 1.077 10,65 EUR MTAA CNH INDUSTRIAL NV NL0010545661 20/03/2018 16:22:32 1.000 10,65 EUR MTAA CNH INDUSTRIAL NV NL0010545661 20/03/2018 16:22:32 631 10,65 EUR MTAA CNH INDUSTRIAL NV NL0010545661 20/03/2018 16:22:32 577 10,65 EUR MTAA CNH INDUSTRIAL NV NL0010545661 20/03/2018 16:23:49 90 10,65 EUR MTAA CNH INDUSTRIAL NV NL0010545661 20/03/2018 16:23:52 77 10,65 EUR MTAA CNH INDUSTRIAL NV NL0010545661 20/03/2018 16:24:05 1.958 10,65 EUR MTAA CNH INDUSTRIAL NV NL0010545661 20/03/2018 16:24:34 732 10,64 EUR MTAA CNH INDUSTRIAL NV NL0010545661 20/03/2018 16:24:50 2.008 10,64 EUR MTAA CNH INDUSTRIAL NV NL0010545661 20/03/2018 16:25:40 456 10,67 EUR MTAA CNH INDUSTRIAL NV NL0010545661 20/03/2018 16:25:49 2.895 10,66 EUR MTAA CNH INDUSTRIAL NV NL0010545661 20/03/2018 16:29:45 429 10,67 EUR MTAA CNH INDUSTRIAL NV NL0010545661 21/03/2018 08:05:04 765 10,68 EUR MTAA CNH INDUSTRIAL NV NL0010545661 21/03/2018 08:05:04 1.300 10,68 EUR MTAA CNH INDUSTRIAL NV NL0010545661 21/03/2018 08:05:04 1.300 10,68 EUR MTAA CNH INDUSTRIAL NV NL0010545661 21/03/2018 08:05:04 37 10,68 EUR MTAA CNH INDUSTRIAL NV NL0010545661 21/03/2018 08:05:04 1.598 10,68 EUR MTAA CNH INDUSTRIAL NV NL0010545661 21/03/2018 08:06:46 110 10,68 EUR MTAA CNH INDUSTRIAL NV NL0010545661 21/03/2018 08:07:20 144 10,66 EUR MTAA CNH INDUSTRIAL NV NL0010545661 21/03/2018 08:07:20 4.856 10,66 EUR MTAA CNH INDUSTRIAL NV NL0010545661 21/03/2018 08:08:28 1.377 10,66 EUR MTAA CNH INDUSTRIAL NV NL0010545661 21/03/2018 08:08:31 2.200 10,66 EUR MTAA CNH INDUSTRIAL NV NL0010545661 21/03/2018 08:08:31 1.760 10,66 EUR MTAA CNH INDUSTRIAL NV NL0010545661 21/03/2018 08:08:31 37 10,66 EUR MTAA CNH INDUSTRIAL NV NL0010545661 21/03/2018 08:09:47 1.000 10,65 EUR MTAA CNH INDUSTRIAL NV NL0010545661 21/03/2018 08:09:47 1.804 10,65 EUR MTAA CNH INDUSTRIAL NV NL0010545661 21/03/2018 08:09:52 760 10,65 EUR MTAA CNH INDUSTRIAL NV NL0010545661 21/03/2018 08:10:59 588 10,64 EUR MTAA CNH INDUSTRIAL NV NL0010545661 21/03/2018 08:11:02 891 10,64 EUR MTAA CNH INDUSTRIAL NV NL0010545661 21/03/2018 08:11:21 2.018 10,62 EUR MTAA CNH INDUSTRIAL NV NL0010545661 21/03/2018 08:11:21 2.982 10,62 EUR MTAA CNH INDUSTRIAL NV NL0010545661 21/03/2018 08:11:21 1.659 10,62 EUR MTAA CNH INDUSTRIAL NV NL0010545661 21/03/2018 08:12:13 1.144 10,63 EUR MTAA CNH INDUSTRIAL NV NL0010545661 21/03/2018 08:12:40 413 10,63 EUR MTAA CNH INDUSTRIAL NV NL0010545661 21/03/2018 08:13:06 344 10,63 EUR MTAA CNH INDUSTRIAL NV NL0010545661 21/03/2018 08:13:06 1.320 10,63 EUR MTAA CNH INDUSTRIAL NV NL0010545661 21/03/2018 08:13:06 1.320 10,63 EUR MTAA CNH INDUSTRIAL NV NL0010545661 21/03/2018 08:13:06 149 10,63 EUR MTAA CNH INDUSTRIAL NV NL0010545661 21/03/2018 08:14:32 3.160 10,63 EUR MTAA CNH INDUSTRIAL NV NL0010545661 21/03/2018 08:15:57 362 10,62 EUR MTAA CNH INDUSTRIAL NV NL0010545661 21/03/2018 08:16:08 157 10,62 EUR MTAA CNH INDUSTRIAL NV NL0010545661 21/03/2018 08:18:52 977 10,64 EUR MTAA CNH INDUSTRIAL NV NL0010545661 21/03/2018 08:18:52 1.036 10,64 EUR MTAA CNH INDUSTRIAL NV NL0010545661 21/03/2018 08:18:52 1.000 10,64 EUR MTAA CNH INDUSTRIAL NV NL0010545661 21/03/2018 08:18:52 3.594 10,64 EUR MTAA CNH INDUSTRIAL NV NL0010545661 21/03/2018 08:19:16 1.232 10,62 EUR MTAA CNH INDUSTRIAL NV NL0010545661 21/03/2018 08:19:16 1.137 10,62 EUR MTAA CNH INDUSTRIAL NV NL0010545661 21/03/2018 08:23:19 5.490 10,63 EUR MTAA CNH INDUSTRIAL NV NL0010545661 21/03/2018 08:23:20 171 10,62 EUR MTAA CNH INDUSTRIAL NV NL0010545661 21/03/2018 08:23:20 1.394 10,62 EUR MTAA CNH INDUSTRIAL NV NL0010545661 21/03/2018 08:23:29 972 10,62 EUR MTAA CNH INDUSTRIAL NV NL0010545661 21/03/2018 08:24:03 820 10,63 EUR MTAA CNH INDUSTRIAL NV NL0010545661 21/03/2018 08:24:03 949 10,63 EUR MTAA CNH INDUSTRIAL NV NL0010545661 21/03/2018 08:24:05 1.633 10,63 EUR MTAA CNH INDUSTRIAL NV NL0010545661 21/03/2018 08:24:06 179 10,62 EUR MTAA CNH INDUSTRIAL NV NL0010545661 21/03/2018 08:24:06 474 10,62 EUR MTAA CNH INDUSTRIAL NV NL0010545661 21/03/2018 08:24:36 163 10,62 EUR MTAA CNH INDUSTRIAL NV NL0010545661 21/03/2018 08:24:52 590 10,62 EUR MTAA CNH INDUSTRIAL NV NL0010545661 21/03/2018 08:24:57 1.057 10,62 EUR MTAA CNH INDUSTRIAL NV NL0010545661 21/03/2018 08:25:15 1.300 10,63 EUR MTAA CNH INDUSTRIAL NV NL0010545661 21/03/2018 08:25:15 1.155 10,63 EUR MTAA CNH INDUSTRIAL NV NL0010545661 21/03/2018 08:25:15 494 10,63 EUR MTAA CNH INDUSTRIAL NV NL0010545661 21/03/2018 08:26:01 985 10,60 EUR MTAA CNH INDUSTRIAL NV NL0010545661 21/03/2018 08:26:01 1.069 10,60 EUR MTAA CNH INDUSTRIAL NV NL0010545661 21/03/2018 08:26:01 1.186 10,60 EUR MTAA CNH INDUSTRIAL NV NL0010545661 21/03/2018 08:26:01 1.720 10,60 EUR MTAA CNH INDUSTRIAL NV NL0010545661 21/03/2018 08:26:01 40 10,60 EUR MTAA CNH INDUSTRIAL NV NL0010545661 21/03/2018 08:26:43 2.572 10,60 EUR MTAA CNH INDUSTRIAL NV NL0010545661 21/03/2018 08:27:49 796 10,60 EUR MTAA CNH INDUSTRIAL NV NL0010545661 21/03/2018 08:27:49 682 10,60 EUR MTAA CNH INDUSTRIAL NV NL0010545661 21/03/2018 08:27:49 514 10,60 EUR MTAA CNH INDUSTRIAL NV NL0010545661 21/03/2018 08:30:00 249 10,61 EUR MTAA CNH INDUSTRIAL NV NL0010545661 21/03/2018 08:30:00 786 10,61 EUR MTAA CNH INDUSTRIAL NV NL0010545661 21/03/2018 08:30:01 2.378 10,61 EUR MTAA CNH INDUSTRIAL NV NL0010545661 21/03/2018 08:31:11 534 10,61 EUR MTAA CNH INDUSTRIAL NV NL0010545661 21/03/2018 08:31:12 176 10,61 EUR MTAA CNH INDUSTRIAL NV NL0010545661 21/03/2018 08:31:12 1.737 10,61 EUR MTAA CNH INDUSTRIAL NV NL0010545661 21/03/2018 08:32:02 326 10,60 EUR MTAA CNH INDUSTRIAL NV NL0010545661 21/03/2018 08:32:02 980 10,60 EUR MTAA CNH INDUSTRIAL NV NL0010545661 21/03/2018 08:33:04 496 10,59 EUR MTAA CNH INDUSTRIAL NV NL0010545661 21/03/2018 08:33:04 632 10,59 EUR MTAA CNH INDUSTRIAL NV NL0010545661 21/03/2018 08:35:00 461 10,60 EUR MTAA CNH INDUSTRIAL NV NL0010545661 21/03/2018 08:35:03 720 10,60 EUR MTAA CNH INDUSTRIAL NV NL0010545661 21/03/2018 08:35:31 4.052 10,60 EUR MTAA CNH INDUSTRIAL NV NL0010545661 21/03/2018 08:35:31 23 10,60 EUR MTAA CNH INDUSTRIAL NV NL0010545661 21/03/2018 08:36:34 1.497 10,58 EUR MTAA CNH INDUSTRIAL NV NL0010545661 21/03/2018 08:36:39 1.126 10,58 EUR MTAA CNH INDUSTRIAL NV NL0010545661 21/03/2018 08:37:57 425 10,59 EUR MTAA CNH INDUSTRIAL NV NL0010545661 21/03/2018 08:37:57 392 10,59 EUR MTAA CNH INDUSTRIAL NV NL0010545661 21/03/2018 08:38:04 1.727 10,59 EUR MTAA CNH INDUSTRIAL NV NL0010545661 21/03/2018 08:38:55 585 10,57 EUR MTAA CNH INDUSTRIAL NV NL0010545661 21/03/2018 08:39:03 342 10,57 EUR MTAA CNH INDUSTRIAL NV NL0010545661 21/03/2018 08:39:05 128 10,57 EUR MTAA CNH INDUSTRIAL NV NL0010545661 21/03/2018 08:40:00 582 10,57 EUR MTAA CNH INDUSTRIAL NV NL0010545661 21/03/2018 08:40:04 248 10,57 EUR MTAA CNH INDUSTRIAL NV NL0010545661 21/03/2018 08:40:06 2.049 10,57 EUR MTAA CNH INDUSTRIAL NV NL0010545661 21/03/2018 08:41:05 1.376 10,56 EUR MTAA CNH INDUSTRIAL NV NL0010545661 21/03/2018 08:41:17 302 10,55 EUR MTAA CNH INDUSTRIAL NV NL0010545661 21/03/2018 08:41:17 79 10,55 EUR MTAA CNH INDUSTRIAL NV NL0010545661 21/03/2018 08:41:24 400 10,55 EUR MTAA CNH INDUSTRIAL NV NL0010545661 21/03/2018 08:43:00 84 10,56 EUR MTAA CNH INDUSTRIAL NV NL0010545661 21/03/2018 08:43:08 147 10,56 EUR MTAA CNH INDUSTRIAL NV NL0010545661 21/03/2018 08:43:21 1.200 10,56 EUR MTAA CNH INDUSTRIAL NV NL0010545661 21/03/2018 08:43:27 2.311 10,58 EUR MTAA CNH INDUSTRIAL NV NL0010545661 21/03/2018 08:44:39 640 10,58 EUR MTAA CNH INDUSTRIAL NV NL0010545661 21/03/2018 08:44:39 1.759 10,58 EUR MTAA CNH INDUSTRIAL NV NL0010545661 21/03/2018 08:44:39 62 10,58 EUR MTAA CNH INDUSTRIAL NV NL0010545661 21/03/2018 08:45:55 1.032 10,57 EUR MTAA CNH INDUSTRIAL NV NL0010545661 21/03/2018 08:47:06 992 10,58 EUR MTAA CNH INDUSTRIAL NV NL0010545661 21/03/2018 08:47:06 1.733 10,58 EUR MTAA CNH INDUSTRIAL NV NL0010545661 21/03/2018 08:47:06 66 10,58 EUR MTAA CNH INDUSTRIAL NV NL0010545661 21/03/2018 08:48:19 483 10,58 EUR MTAA CNH INDUSTRIAL NV NL0010545661 21/03/2018 08:48:19 639 10,58 EUR MTAA CNH INDUSTRIAL NV NL0010545661 21/03/2018 08:49:13 980 10,58 EUR MTAA CNH INDUSTRIAL NV NL0010545661 21/03/2018 08:49:13 1.000 10,58 EUR MTAA CNH INDUSTRIAL NV NL0010545661 21/03/2018 08:49:13 227 10,58 EUR MTAA CNH INDUSTRIAL NV NL0010545661 21/03/2018 08:51:11 1.623 10,59 EUR MTAA CNH INDUSTRIAL NV NL0010545661 21/03/2018 08:51:11 319 10,59 EUR MTAA CNH INDUSTRIAL NV NL0010545661 21/03/2018 08:51:11 1.270 10,59 EUR MTAA CNH INDUSTRIAL NV NL0010545661 21/03/2018 08:54:01 122 10,59 EUR MTAA CNH INDUSTRIAL NV NL0010545661 21/03/2018 08:54:01 4.530 10,59 EUR MTAA CNH INDUSTRIAL NV NL0010545661 21/03/2018 08:55:11 1.062 10,58 EUR MTAA CNH INDUSTRIAL NV NL0010545661 21/03/2018 08:56:12 77 10,58 EUR MTAA CNH INDUSTRIAL NV NL0010545661 21/03/2018 08:56:17 453 10,58 EUR MTAA CNH INDUSTRIAL NV NL0010545661 21/03/2018 08:56:23 509 10,60 EUR MTAA CNH INDUSTRIAL NV NL0010545661 21/03/2018 08:56:23 1.672 10,60 EUR MTAA CNH INDUSTRIAL NV NL0010545661 21/03/2018 08:56:23 656 10,60 EUR MTAA CNH INDUSTRIAL NV NL0010545661 21/03/2018 08:57:38 1.067 10,60 EUR MTAA CNH INDUSTRIAL NV NL0010545661 21/03/2018 08:58:07 383 10,60 EUR MTAA CNH INDUSTRIAL NV NL0010545661 21/03/2018 09:00:23 590 10,61 EUR MTAA CNH INDUSTRIAL NV NL0010545661 21/03/2018 09:00:25 644 10,61 EUR MTAA CNH INDUSTRIAL NV NL0010545661 21/03/2018 09:00:26 513 10,61 EUR MTAA CNH INDUSTRIAL NV NL0010545661 21/03/2018 09:00:39 1.159 10,61 EUR MTAA CNH INDUSTRIAL NV NL0010545661 21/03/2018 09:00:39 1.372 10,61 EUR MTAA CNH INDUSTRIAL NV NL0010545661 21/03/2018 09:01:59 1.851 10,61 EUR MTAA CNH INDUSTRIAL NV NL0010545661 21/03/2018 09:03:38 2.303 10,60 EUR MTAA CNH INDUSTRIAL NV NL0010545661 21/03/2018 09:03:38 994 10,60 EUR MTAA CNH INDUSTRIAL NV NL0010545661 21/03/2018 09:05:05 699 10,60 EUR MTAA CNH INDUSTRIAL NV NL0010545661 21/03/2018 09:05:05 524 10,60 EUR MTAA CNH INDUSTRIAL NV NL0010545661 21/03/2018 09:05:55 880 10,60 EUR MTAA CNH INDUSTRIAL NV NL0010545661 21/03/2018 09:05:55 1.124 10,60 EUR MTAA CNH INDUSTRIAL NV NL0010545661 21/03/2018 09:07:44 2.608 10,58 EUR MTAA CNH INDUSTRIAL NV NL0010545661 21/03/2018 09:09:01 2.362 10,58 EUR MTAA CNH INDUSTRIAL NV NL0010545661 21/03/2018 09:10:17 1.533 10,57 EUR MTAA CNH INDUSTRIAL NV NL0010545661 21/03/2018 09:11:25 363 10,56 EUR MTAA CNH INDUSTRIAL NV NL0010545661 21/03/2018 09:11:47 160 10,56 EUR MTAA CNH INDUSTRIAL NV NL0010545661 21/03/2018 09:12:49 1.341 10,56 EUR MTAA CNH INDUSTRIAL NV NL0010545661 21/03/2018 09:13:06 1.438 10,56 EUR MTAA CNH INDUSTRIAL NV NL0010545661 21/03/2018 09:13:06 1.000 10,56 EUR MTAA CNH INDUSTRIAL NV NL0010545661 21/03/2018 09:13:06 378 10,56 EUR MTAA CNH INDUSTRIAL NV NL0010545661 21/03/2018 09:13:17 980 10,55 EUR MTAA CNH INDUSTRIAL NV NL0010545661 21/03/2018 09:14:09 984 10,55 EUR MTAA CNH INDUSTRIAL NV NL0010545661 21/03/2018 09:14:09 879 10,55 EUR MTAA CNH INDUSTRIAL NV NL0010545661 21/03/2018 09:14:09 1.376 10,55 EUR MTAA CNH INDUSTRIAL NV NL0010545661 21/03/2018 09:15:07 880 10,55 EUR MTAA CNH INDUSTRIAL NV NL0010545661 21/03/2018 09:15:07 1.000 10,55 EUR MTAA CNH INDUSTRIAL NV NL0010545661 21/03/2018 09:15:07 459 10,55 EUR MTAA CNH INDUSTRIAL NV NL0010545661 21/03/2018 09:16:16 1.042 10,54 EUR MTAA CNH INDUSTRIAL NV NL0010545661 21/03/2018 09:16:17 1.194 10,54 EUR MTAA CNH INDUSTRIAL NV NL0010545661 21/03/2018 09:17:42 310 10,54 EUR MTAA CNH INDUSTRIAL NV NL0010545661 21/03/2018 09:17:42 880 10,54 EUR MTAA CNH INDUSTRIAL NV NL0010545661 21/03/2018 09:17:42 656 10,54 EUR MTAA CNH INDUSTRIAL NV NL0010545661 21/03/2018 09:20:01 2.849 10,54 EUR MTAA CNH INDUSTRIAL NV NL0010545661 21/03/2018 09:20:44 67 10,54 EUR MTAA CNH INDUSTRIAL NV NL0010545661 21/03/2018 09:20:44 394 10,54 EUR MTAA CNH INDUSTRIAL NV NL0010545661 21/03/2018 09:20:44 96 10,54 EUR MTAA CNH INDUSTRIAL NV NL0010545661 21/03/2018 09:22:18 502 10,55 EUR MTAA CNH INDUSTRIAL NV NL0010545661 21/03/2018 09:22:18 879 10,55 EUR MTAA CNH INDUSTRIAL NV NL0010545661 21/03/2018 09:22:18 854 10,55 EUR MTAA CNH INDUSTRIAL NV NL0010545661 21/03/2018 09:22:18 880 10,55 EUR MTAA CNH INDUSTRIAL NV NL0010545661 21/03/2018 09:22:18 152 10,55 EUR MTAA CNH INDUSTRIAL NV NL0010545661 21/03/2018 09:25:08 540 10,58 EUR MTAA CNH INDUSTRIAL NV NL0010545661 21/03/2018 09:25:08 1.826 10,58 EUR MTAA CNH INDUSTRIAL NV NL0010545661 21/03/2018 09:25:13 275 10,57 EUR MTAA CNH INDUSTRIAL NV NL0010545661 21/03/2018 09:25:50 601 10,57 EUR MTAA CNH INDUSTRIAL NV NL0010545661 21/03/2018 09:25:50 883 10,57 EUR MTAA CNH INDUSTRIAL NV NL0010545661 21/03/2018 09:25:50 1.354 10,57 EUR MTAA CNH INDUSTRIAL NV NL0010545661 21/03/2018 09:25:50 145 10,57 EUR MTAA CNH INDUSTRIAL NV NL0010545661 21/03/2018 09:28:33 3.000 10,57 EUR MTAA CNH INDUSTRIAL NV NL0010545661 21/03/2018 09:30:03 979 10,57 EUR MTAA CNH INDUSTRIAL NV NL0010545661 21/03/2018 09:31:28 1.256 10,58 EUR MTAA CNH INDUSTRIAL NV NL0010545661 21/03/2018 09:31:28 1.638 10,58 EUR MTAA CNH INDUSTRIAL NV NL0010545661 21/03/2018 09:33:52 803 10,57 EUR MTAA CNH INDUSTRIAL NV NL0010545661 21/03/2018 09:33:52 1.000 10,57 EUR MTAA CNH INDUSTRIAL NV NL0010545661 21/03/2018 09:33:52 760 10,57 EUR MTAA CNH INDUSTRIAL NV NL0010545661 21/03/2018 09:33:52 244 10,57 EUR MTAA CNH INDUSTRIAL NV NL0010545661 21/03/2018 09:35:25 1.459 10,55 EUR MTAA CNH INDUSTRIAL NV NL0010545661 21/03/2018 09:37:07 2.024 10,55 EUR MTAA CNH INDUSTRIAL NV NL0010545661 21/03/2018 09:37:07 898 10,55 EUR MTAA CNH INDUSTRIAL NV NL0010545661 21/03/2018 09:39:41 716 10,57 EUR MTAA CNH INDUSTRIAL NV NL0010545661 21/03/2018 09:39:41 1.000 10,57 EUR MTAA CNH INDUSTRIAL NV NL0010545661 21/03/2018 09:39:41 1.596 10,57 EUR MTAA CNH INDUSTRIAL NV NL0010545661 21/03/2018 09:42:01 1.363 10,58 EUR MTAA CNH INDUSTRIAL NV NL0010545661 21/03/2018 09:42:01 1.000 10,58 EUR MTAA CNH INDUSTRIAL NV NL0010545661 21/03/2018 09:42:04 280 10,58 EUR MTAA CNH INDUSTRIAL NV NL0010545661 21/03/2018 09:43:43 1.159 10,58 EUR MTAA CNH INDUSTRIAL NV NL0010545661 21/03/2018 09:43:59 876 10,58 EUR MTAA CNH INDUSTRIAL NV NL0010545661 21/03/2018 09:45:50 1.222 10,57 EUR MTAA CNH INDUSTRIAL NV NL0010545661 21/03/2018 09:45:50 937 10,57 EUR MTAA CNH INDUSTRIAL NV NL0010545661 21/03/2018 09:47:17 577 10,57 EUR MTAA CNH INDUSTRIAL NV NL0010545661 21/03/2018 09:47:17 1.296 10,57 EUR MTAA CNH INDUSTRIAL NV NL0010545661 21/03/2018 09:47:43 471 10,57 EUR MTAA CNH INDUSTRIAL NV NL0010545661 21/03/2018 09:47:43 140 10,57 EUR MTAA CNH INDUSTRIAL NV NL0010545661 21/03/2018 09:48:50 958 10,56 EUR MTAA CNH INDUSTRIAL NV NL0010545661 21/03/2018 09:50:13 900 10,57 EUR MTAA CNH INDUSTRIAL NV NL0010545661 21/03/2018 09:50:13 1.831 10,57 EUR MTAA CNH INDUSTRIAL NV NL0010545661 21/03/2018 09:52:09 221 10,57 EUR MTAA CNH INDUSTRIAL NV NL0010545661 21/03/2018 09:52:40 144 10,58 EUR MTAA CNH INDUSTRIAL NV NL0010545661 21/03/2018 09:52:40 607 10,59 EUR MTAA CNH INDUSTRIAL NV NL0010545661 21/03/2018 09:52:40 44 10,59 EUR MTAA CNH INDUSTRIAL NV NL0010545661 21/03/2018 09:52:40 1.000 10,59 EUR MTAA CNH INDUSTRIAL NV NL0010545661 21/03/2018 09:52:40 1.237 10,59 EUR MTAA CNH INDUSTRIAL NV NL0010545661 21/03/2018 09:53:44 982 10,58 EUR MTAA CNH INDUSTRIAL NV NL0010545661 21/03/2018 09:55:57 109 10,58 EUR MTAA CNH INDUSTRIAL NV NL0010545661 21/03/2018 09:55:57 880 10,58 EUR MTAA CNH INDUSTRIAL NV NL0010545661 21/03/2018 09:55:57 535 10,58 EUR MTAA CNH INDUSTRIAL NV NL0010545661 21/03/2018 09:56:17 500 10,58 EUR MTAA CNH INDUSTRIAL NV NL0010545661 21/03/2018 09:56:21 633 10,58 EUR MTAA CNH INDUSTRIAL NV NL0010545661 21/03/2018 09:57:14 986 10,57 EUR MTAA CNH INDUSTRIAL NV NL0010545661 21/03/2018 09:59:37 573 10,57 EUR MTAA CNH INDUSTRIAL NV NL0010545661 21/03/2018 09:59:37 1.720 10,57 EUR MTAA CNH INDUSTRIAL NV NL0010545661 21/03/2018 09:59:37 403 10,57 EUR MTAA CNH INDUSTRIAL NV NL0010545661 21/03/2018 10:01:42 882 10,57 EUR MTAA CNH INDUSTRIAL NV NL0010545661 21/03/2018 10:02:30 1.000 10,57 EUR MTAA CNH INDUSTRIAL NV NL0010545661 21/03/2018 10:02:30 478 10,57 EUR MTAA CNH INDUSTRIAL NV NL0010545661 21/03/2018 10:02:30 528 10,57 EUR MTAA CNH INDUSTRIAL NV NL0010545661 21/03/2018 10:03:54 777 10,57 EUR MTAA CNH INDUSTRIAL NV NL0010545661 21/03/2018 10:04:57 572 10,57 EUR MTAA CNH INDUSTRIAL NV NL0010545661 21/03/2018 10:05:01 2.200 10,57 EUR MTAA CNH INDUSTRIAL NV NL0010545661 21/03/2018 10:05:01 411 10,57 EUR MTAA CNH INDUSTRIAL NV NL0010545661 21/03/2018 10:05:58 1.060 10,56 EUR MTAA CNH INDUSTRIAL NV NL0010545661 21/03/2018 10:08:20 1.083 10,55 EUR MTAA CNH INDUSTRIAL NV NL0010545661 21/03/2018 10:09:08 491 10,55 EUR MTAA CNH INDUSTRIAL NV NL0010545661 21/03/2018 10:11:44 5 10,56 EUR MTAA CNH INDUSTRIAL NV NL0010545661 21/03/2018 10:12:47 2.479 10,56 EUR MTAA CNH INDUSTRIAL NV NL0010545661 21/03/2018 10:12:52 589 10,56 EUR MTAA CNH INDUSTRIAL NV NL0010545661 21/03/2018 10:12:52 1.000 10,56 EUR MTAA CNH INDUSTRIAL NV NL0010545661 21/03/2018 10:12:52 1.100 10,56 EUR MTAA CNH INDUSTRIAL NV NL0010545661 21/03/2018 10:12:52 759 10,56 EUR MTAA CNH INDUSTRIAL NV NL0010545661 21/03/2018 10:13:51 568 10,56 EUR MTAA CNH INDUSTRIAL NV NL0010545661 21/03/2018 10:13:51 1.000 10,56 EUR MTAA CNH INDUSTRIAL NV NL0010545661 21/03/2018 10:13:51 387 10,56 EUR MTAA CNH INDUSTRIAL NV NL0010545661 21/03/2018 10:15:31 35 10,55 EUR MTAA CNH INDUSTRIAL NV NL0010545661 21/03/2018 10:15:32 2.124 10,55 EUR MTAA CNH INDUSTRIAL NV NL0010545661 21/03/2018 10:17:09 1.089 10,55 EUR MTAA CNH INDUSTRIAL NV NL0010545661 21/03/2018 10:18:03 1.003 10,54 EUR MTAA CNH INDUSTRIAL NV NL0010545661 21/03/2018 10:19:40 594 10,54 EUR MTAA CNH INDUSTRIAL NV NL0010545661 21/03/2018 10:19:40 882 10,54 EUR MTAA CNH INDUSTRIAL NV NL0010545661 21/03/2018 10:19:40 345 10,54 EUR MTAA CNH INDUSTRIAL NV NL0010545661 21/03/2018 10:19:43 658 10,53 EUR MTAA CNH INDUSTRIAL NV NL0010545661 21/03/2018 10:19:43 230 10,53 EUR MTAA CNH INDUSTRIAL NV NL0010545661 21/03/2018 10:22:38 1.350 10,55 EUR MTAA CNH INDUSTRIAL NV NL0010545661 21/03/2018 10:22:38 1.118 10,55 EUR MTAA CNH INDUSTRIAL NV NL0010545661 21/03/2018 10:22:38 342 10,55 EUR MTAA CNH INDUSTRIAL NV NL0010545661 21/03/2018 10:24:22 2.056 10,56 EUR MTAA CNH INDUSTRIAL NV NL0010545661 21/03/2018 10:25:29 2.127 10,56 EUR MTAA CNH INDUSTRIAL NV NL0010545661 21/03/2018 10:29:11 3.426 10,58 EUR MTAA CNH INDUSTRIAL NV NL0010545661 21/03/2018 10:30:37 1.652 10,59 EUR MTAA CNH INDUSTRIAL NV NL0010545661 21/03/2018 10:30:37 796 10,59 EUR MTAA CNH INDUSTRIAL NV NL0010545661 21/03/2018 10:30:37 416 10,59 EUR MTAA CNH INDUSTRIAL NV NL0010545661 21/03/2018 10:31:40 376 10,59 EUR MTAA CNH INDUSTRIAL NV NL0010545661 21/03/2018 10:34:01 2.513 10,60 EUR MTAA CNH INDUSTRIAL NV NL0010545661 21/03/2018 10:34:31 2.675 10,60 EUR MTAA CNH INDUSTRIAL NV NL0010545661 21/03/2018 10:36:04 130 10,60 EUR MTAA CNH INDUSTRIAL NV NL0010545661 21/03/2018 10:36:06 814 10,60 EUR MTAA CNH INDUSTRIAL NV NL0010545661 21/03/2018 10:36:49 1.000 10,60 EUR MTAA CNH INDUSTRIAL NV NL0010545661 21/03/2018 10:37:15 566 10,60 EUR MTAA CNH INDUSTRIAL NV NL0010545661 21/03/2018 10:37:59 1.357 10,60 EUR MTAA CNH INDUSTRIAL NV NL0010545661 21/03/2018 10:37:59 1.231 10,60 EUR MTAA CNH INDUSTRIAL NV NL0010545661 21/03/2018 11:06:22 397 10,63 EUR MTAA CNH INDUSTRIAL NV NL0010545661 21/03/2018 11:06:58 377 10,63 EUR MTAA CNH INDUSTRIAL NV NL0010545661 21/03/2018 11:08:19 996 10,63 EUR MTAA CNH INDUSTRIAL NV NL0010545661 21/03/2018 11:08:19 66 10,63 EUR MTAA CNH INDUSTRIAL NV NL0010545661 21/03/2018 11:08:19 2.558 10,63 EUR MTAA CNH INDUSTRIAL NV NL0010545661 21/03/2018 11:09:30 884 10,64 EUR MTAA CNH INDUSTRIAL NV NL0010545661 21/03/2018 11:09:30 593 10,64 EUR MTAA CNH INDUSTRIAL NV NL0010545661 21/03/2018 11:09:34 1.461 10,64 EUR MTAA CNH INDUSTRIAL NV NL0010545661 21/03/2018 11:10:36 1.590 10,63 EUR MTAA CNH INDUSTRIAL NV NL0010545661 21/03/2018 11:10:36 565 10,63 EUR MTAA CNH INDUSTRIAL NV NL0010545661 21/03/2018 11:11:43 562 10,62 EUR MTAA CNH INDUSTRIAL NV NL0010545661 21/03/2018 11:11:43 1.000 10,62 EUR MTAA CNH INDUSTRIAL NV NL0010545661 21/03/2018 11:11:43 1.106 10,62 EUR MTAA CNH INDUSTRIAL NV NL0010545661 21/03/2018 11:13:36 3.028 10,62 EUR MTAA CNH INDUSTRIAL NV NL0010545661 21/03/2018 11:17:21 1.193 10,62 EUR MTAA CNH INDUSTRIAL NV NL0010545661 21/03/2018 11:17:21 554 10,62 EUR MTAA CNH INDUSTRIAL NV NL0010545661 21/03/2018 11:17:21 721 10,62 EUR MTAA CNH INDUSTRIAL NV NL0010545661 21/03/2018 11:17:21 731 10,62 EUR MTAA CNH INDUSTRIAL NV NL0010545661 21/03/2018 11:22:09 1.628 10,61 EUR MTAA CNH INDUSTRIAL NV NL0010545661 21/03/2018 11:22:09 3.991 10,61 EUR MTAA CNH INDUSTRIAL NV NL0010545661 21/03/2018 11:22:14 1.670 10,61 EUR MTAA CNH INDUSTRIAL NV NL0010545661 21/03/2018 11:22:14 880 10,61 EUR MTAA CNH INDUSTRIAL NV NL0010545661 21/03/2018 11:22:14 558 10,61 EUR MTAA CNH INDUSTRIAL NV NL0010545661 21/03/2018 11:22:14 726 10,61 EUR MTAA CNH INDUSTRIAL NV NL0010545661 21/03/2018 11:23:41 882 10,62 EUR MTAA CNH INDUSTRIAL NV NL0010545661 21/03/2018 11:24:50 850 10,62 EUR MTAA CNH INDUSTRIAL NV NL0010545661 21/03/2018 11:24:50 1.000 10,62 EUR MTAA CNH INDUSTRIAL NV NL0010545661 21/03/2018 11:25:12 776 10,62 EUR MTAA CNH INDUSTRIAL NV NL0010545661 21/03/2018 11:25:12 1.759 10,62 EUR MTAA CNH INDUSTRIAL NV NL0010545661 21/03/2018 11:27:35 2.078 10,63 EUR MTAA CNH INDUSTRIAL NV NL0010545661 21/03/2018 11:27:35 283 10,63 EUR MTAA CNH INDUSTRIAL NV NL0010545661 21/03/2018 11:27:35 488 10,63 EUR MTAA CNH INDUSTRIAL NV NL0010545661 21/03/2018 11:27:50 820 10,63 EUR MTAA CNH INDUSTRIAL NV NL0010545661 21/03/2018 11:27:50 895 10,63 EUR MTAA CNH INDUSTRIAL NV NL0010545661 21/03/2018 11:27:50 234 10,63 EUR MTAA CNH INDUSTRIAL NV NL0010545661 21/03/2018 11:27:50 237 10,63 EUR MTAA CNH INDUSTRIAL NV NL0010545661 21/03/2018 11:32:16 1.000 10,65 EUR MTAA CNH INDUSTRIAL NV NL0010545661 21/03/2018 11:32:16 1.000 10,65 EUR MTAA CNH INDUSTRIAL NV NL0010545661 21/03/2018 11:33:13 925 10,65 EUR MTAA CNH INDUSTRIAL NV NL0010545661 21/03/2018 11:33:13 1.759 10,65 EUR MTAA CNH INDUSTRIAL NV NL0010545661 21/03/2018 11:33:13 1.183 10,65 EUR MTAA CNH INDUSTRIAL NV NL0010545661 21/03/2018 11:33:18 562 10,65 EUR MTAA CNH INDUSTRIAL NV NL0010545661 21/03/2018 11:33:18 1.000 10,65 EUR MTAA CNH INDUSTRIAL NV NL0010545661 21/03/2018 11:33:18 687 10,65 EUR MTAA CNH INDUSTRIAL NV NL0010545661 21/03/2018 11:34:20 842 10,65 EUR MTAA CNH INDUSTRIAL NV NL0010545661 21/03/2018 11:34:20 562 10,65 EUR MTAA CNH INDUSTRIAL NV NL0010545661 21/03/2018 11:34:20 917 10,65 EUR MTAA CNH INDUSTRIAL NV NL0010545661 21/03/2018 11:34:43 349 10,65 EUR MTAA CNH INDUSTRIAL NV NL0010545661 21/03/2018 11:35:03 24 10,65 EUR MTAA CNH INDUSTRIAL NV NL0010545661 21/03/2018 11:37:03 1.096 10,66 EUR MTAA CNH INDUSTRIAL NV NL0010545661 21/03/2018 11:37:03 1.499 10,66 EUR MTAA CNH INDUSTRIAL NV NL0010545661 21/03/2018 11:37:46 787 10,65 EUR MTAA CNH INDUSTRIAL NV NL0010545661 21/03/2018 11:38:03 879 10,65 EUR MTAA CNH INDUSTRIAL NV NL0010545661 21/03/2018 11:38:03 880 10,65 EUR MTAA CNH INDUSTRIAL NV NL0010545661 21/03/2018 11:38:03 433 10,65 EUR MTAA CNH INDUSTRIAL NV NL0010545661 21/03/2018 11:39:35 892 10,65 EUR MTAA CNH INDUSTRIAL NV NL0010545661 21/03/2018 11:39:35 883 10,65 EUR MTAA CNH INDUSTRIAL NV NL0010545661 21/03/2018 11:39:35 346 10,65 EUR MTAA CNH INDUSTRIAL NV NL0010545661 21/03/2018 11:39:35 837 10,65 EUR MTAA CNH INDUSTRIAL NV NL0010545661 21/03/2018 11:41:31 469 10,65 EUR MTAA CNH INDUSTRIAL NV NL0010545661 21/03/2018 11:41:31 1.000 10,65 EUR MTAA CNH INDUSTRIAL NV NL0010545661 21/03/2018 11:41:31 880 10,65 EUR MTAA CNH INDUSTRIAL NV NL0010545661 21/03/2018 11:41:31 568 10,65 EUR MTAA CNH INDUSTRIAL NV NL0010545661 21/03/2018 11:41:31 105 10,65 EUR MTAA CNH INDUSTRIAL NV NL0010545661 21/03/2018 11:41:31 66 10,65 EUR MTAA CNH INDUSTRIAL NV NL0010545661 21/03/2018 11:43:01 1.823 10,65 EUR MTAA CNH INDUSTRIAL NV NL0010545661 21/03/2018 11:45:20 393 10,63 EUR MTAA CNH INDUSTRIAL NV NL0010545661 21/03/2018 11:45:41 269 10,63 EUR MTAA CNH INDUSTRIAL NV NL0010545661 21/03/2018 11:45:41 310 10,63 EUR MTAA CNH INDUSTRIAL NV NL0010545661 21/03/2018 11:45:41 1.000 10,63 EUR MTAA CNH INDUSTRIAL NV NL0010545661 21/03/2018 11:45:41 470 10,63 EUR MTAA CNH INDUSTRIAL NV NL0010545661 21/03/2018 11:45:41 1.781 10,63 EUR MTAA CNH INDUSTRIAL NV NL0010545661 21/03/2018 11:47:09 1.150 10,62 EUR MTAA CNH INDUSTRIAL NV NL0010545661 21/03/2018 11:47:09 317 10,62 EUR MTAA CNH INDUSTRIAL NV NL0010545661 21/03/2018 11:48:12 810 10,64 EUR MTAA CNH INDUSTRIAL NV NL0010545661 21/03/2018 11:48:12 1.957 10,64 EUR MTAA CNH INDUSTRIAL NV NL0010545661 21/03/2018 11:50:05 3.030 10,63 EUR MTAA CNH INDUSTRIAL NV NL0010545661 21/03/2018 11:53:00 850 10,64 EUR MTAA CNH INDUSTRIAL NV NL0010545661 21/03/2018 11:53:00 850 10,64 EUR MTAA CNH INDUSTRIAL NV NL0010545661 21/03/2018 11:53:09 2.200 10,64 EUR MTAA CNH INDUSTRIAL NV NL0010545661 21/03/2018 11:53:09 853 10,64 EUR MTAA CNH INDUSTRIAL NV NL0010545661 21/03/2018 11:55:21 606 10,63 EUR MTAA CNH INDUSTRIAL NV NL0010545661 21/03/2018 11:55:21 500 10,63 EUR MTAA CNH INDUSTRIAL NV NL0010545661 21/03/2018 11:55:21 867 10,63 EUR MTAA CNH INDUSTRIAL NV NL0010545661 21/03/2018 11:55:21 559 10,63 EUR MTAA CNH INDUSTRIAL NV NL0010545661 21/03/2018 11:56:57 879 10,63 EUR MTAA CNH INDUSTRIAL NV NL0010545661 21/03/2018 11:56:57 880 10,63 EUR MTAA CNH INDUSTRIAL NV NL0010545661 21/03/2018 11:56:57 413 10,63 EUR MTAA CNH INDUSTRIAL NV NL0010545661 21/03/2018 11:58:13 200 10,63 EUR MTAA CNH INDUSTRIAL NV NL0010545661 21/03/2018 11:58:28 211 10,63 EUR MTAA CNH INDUSTRIAL NV NL0010545661 21/03/2018 11:59:10 556 10,63 EUR MTAA CNH INDUSTRIAL NV NL0010545661 21/03/2018 11:59:10 1.963 10,63 EUR MTAA CNH INDUSTRIAL NV NL0010545661 21/03/2018 11:59:17 154 10,63 EUR MTAA CNH INDUSTRIAL NV NL0010545661 21/03/2018 11:59:39 1.208 10,61 EUR MTAA CNH INDUSTRIAL NV NL0010545661 21/03/2018 12:00:12 1.287 10,60 EUR MTAA CNH INDUSTRIAL NV NL0010545661 21/03/2018 12:01:22 2.630 10,59 EUR MTAA CNH INDUSTRIAL NV NL0010545661 21/03/2018 12:05:32 1.853 10,61 EUR MTAA CNH INDUSTRIAL NV NL0010545661 21/03/2018 12:05:32 1.320 10,61 EUR MTAA CNH INDUSTRIAL NV NL0010545661 21/03/2018 12:05:32 1.291 10,61 EUR MTAA CNH INDUSTRIAL NV NL0010545661 21/03/2018 12:05:42 274 10,61 EUR MTAA CNH INDUSTRIAL NV NL0010545661 21/03/2018 12:05:42 1.000 10,61 EUR MTAA CNH INDUSTRIAL NV NL0010545661 21/03/2018 12:07:09 625 10,62 EUR MTAA CNH INDUSTRIAL NV NL0010545661 21/03/2018 12:07:24 528 10,62 EUR MTAA CNH INDUSTRIAL NV NL0010545661 21/03/2018 12:07:24 626 10,62 EUR MTAA CNH INDUSTRIAL NV NL0010545661 21/03/2018 12:07:24 707 10,62 EUR MTAA CNH INDUSTRIAL NV NL0010545661 21/03/2018 12:10:22 93 10,62 EUR MTAA CNH INDUSTRIAL NV NL0010545661 21/03/2018 12:10:22 1.974 10,62 EUR MTAA CNH INDUSTRIAL NV NL0010545661 21/03/2018 12:10:22 854 10,62 EUR MTAA CNH INDUSTRIAL NV NL0010545661 21/03/2018 12:11:12 1.000 10,62 EUR MTAA CNH INDUSTRIAL NV NL0010545661 21/03/2018 12:11:12 173 10,62 EUR MTAA CNH INDUSTRIAL NV NL0010545661 21/03/2018 12:11:35 850 10,63 EUR MTAA CNH INDUSTRIAL NV NL0010545661 21/03/2018 12:11:35 1.704 10,63 EUR MTAA CNH INDUSTRIAL NV NL0010545661 21/03/2018 12:16:15 1.453 10,62 EUR MTAA CNH INDUSTRIAL NV NL0010545661 21/03/2018 12:16:15 3.738 10,62 EUR MTAA CNH INDUSTRIAL NV NL0010545661 21/03/2018 12:18:03 1.998 10,60 EUR MTAA CNH INDUSTRIAL NV NL0010545661 21/03/2018 12:18:03 746 10,60 EUR MTAA CNH INDUSTRIAL NV NL0010545661 21/03/2018 12:19:23 307 10,60 EUR MTAA CNH INDUSTRIAL NV NL0010545661 21/03/2018 12:19:23 1.320 10,60 EUR MTAA CNH INDUSTRIAL NV NL0010545661 21/03/2018 12:19:23 731 10,60 EUR MTAA CNH INDUSTRIAL NV NL0010545661 21/03/2018 12:20:59 96 10,59 EUR MTAA CNH INDUSTRIAL NV NL0010545661 21/03/2018 12:20:59 1.000 10,59 EUR MTAA CNH INDUSTRIAL NV NL0010545661 21/03/2018 12:20:59 369 10,59 EUR MTAA CNH INDUSTRIAL NV NL0010545661 21/03/2018 12:20:59 959 10,59 EUR MTAA CNH INDUSTRIAL NV NL0010545661 21/03/2018 12:20:59 299 10,59 EUR MTAA CNH INDUSTRIAL NV NL0010545661 21/03/2018 12:23:02 717 10,57 EUR MTAA CNH INDUSTRIAL NV NL0010545661 21/03/2018 12:23:04 388 10,57 EUR MTAA CNH INDUSTRIAL NV NL0010545661 21/03/2018 12:23:09 816 10,57 EUR MTAA CNH INDUSTRIAL NV NL0010545661 21/03/2018 12:23:09 703 10,57 EUR MTAA CNH INDUSTRIAL NV NL0010545661 21/03/2018 12:24:31 438 10,54 EUR MTAA CNH INDUSTRIAL NV NL0010545661 21/03/2018 12:24:31 693 10,54 EUR MTAA CNH INDUSTRIAL NV NL0010545661 21/03/2018 12:25:26 618 10,55 EUR MTAA CNH INDUSTRIAL NV NL0010545661 21/03/2018 12:25:26 831 10,55 EUR MTAA CNH INDUSTRIAL NV NL0010545661 21/03/2018 12:25:26 1.267 10,55 EUR MTAA CNH INDUSTRIAL NV NL0010545661 21/03/2018 12:27:58 1.722 10,54 EUR MTAA CNH INDUSTRIAL NV NL0010545661 21/03/2018 12:27:58 574 10,54 EUR MTAA CNH INDUSTRIAL NV NL0010545661 21/03/2018 12:27:58 360 10,54 EUR MTAA CNH INDUSTRIAL NV NL0010545661 21/03/2018 12:29:01 1.067 10,53 EUR MTAA CNH INDUSTRIAL NV NL0010545661 21/03/2018 12:30:00 2.200 10,53 EUR MTAA CNH INDUSTRIAL NV NL0010545661 21/03/2018 12:30:00 228 10,53 EUR MTAA CNH INDUSTRIAL NV NL0010545661 21/03/2018 12:31:47 144 10,53 EUR MTAA CNH INDUSTRIAL NV NL0010545661 21/03/2018 12:31:47 981 10,53 EUR MTAA CNH INDUSTRIAL NV NL0010545661 21/03/2018 12:32:51 887 10,54 EUR MTAA CNH INDUSTRIAL NV NL0010545661 21/03/2018 12:32:52 491 10,54 EUR MTAA CNH INDUSTRIAL NV NL0010545661 21/03/2018 12:33:13 840 10,54 EUR MTAA CNH INDUSTRIAL NV NL0010545661 21/03/2018 12:33:49 611 10,54 EUR MTAA CNH INDUSTRIAL NV NL0010545661 21/03/2018 12:35:39 3.106 10,55 EUR MTAA CNH INDUSTRIAL NV NL0010545661 21/03/2018 12:35:39 407 10,55 EUR MTAA CNH INDUSTRIAL NV NL0010545661 21/03/2018 12:36:26 1.002 10,55 EUR MTAA CNH INDUSTRIAL NV NL0010545661 21/03/2018 12:36:26 133 10,55 EUR MTAA CNH INDUSTRIAL NV NL0010545661 21/03/2018 12:38:04 334 10,55 EUR MTAA CNH INDUSTRIAL NV NL0010545661 21/03/2018 12:38:04 880 10,55 EUR MTAA CNH INDUSTRIAL NV NL0010545661 21/03/2018 12:38:04 1.291 10,55 EUR MTAA CNH INDUSTRIAL NV NL0010545661 21/03/2018 12:38:04 424 10,55 EUR MTAA CNH INDUSTRIAL NV NL0010545661 21/03/2018 12:39:57 2.317 10,54 EUR MTAA CNH INDUSTRIAL NV NL0010545661 21/03/2018 12:41:41 1.385 10,53 EUR MTAA CNH INDUSTRIAL NV NL0010545661 21/03/2018 12:44:38 2.200 10,54 EUR MTAA CNH INDUSTRIAL NV NL0010545661 21/03/2018 12:44:38 2.621 10,54 EUR MTAA CNH INDUSTRIAL NV NL0010545661 21/03/2018 12:48:19 3.418 10,56 EUR MTAA CNH INDUSTRIAL NV NL0010545661 21/03/2018 12:48:19 306 10,56 EUR MTAA CNH INDUSTRIAL NV NL0010545661 21/03/2018 12:48:39 489 10,56 EUR MTAA CNH INDUSTRIAL NV NL0010545661 21/03/2018 12:48:39 1.278 10,56 EUR MTAA CNH INDUSTRIAL NV NL0010545661 21/03/2018 12:48:39 314 10,56 EUR MTAA CNH INDUSTRIAL NV NL0010545661 21/03/2018 12:49:31 495 10,56 EUR MTAA CNH INDUSTRIAL NV NL0010545661 21/03/2018 12:50:28 554 10,56 EUR MTAA CNH INDUSTRIAL NV NL0010545661 21/03/2018 12:50:28 348 10,56 EUR MTAA CNH INDUSTRIAL NV NL0010545661 21/03/2018 12:50:28 1.325 10,56 EUR MTAA CNH INDUSTRIAL NV NL0010545661 21/03/2018 12:50:28 85 10,56 EUR MTAA CNH INDUSTRIAL NV NL0010545661 21/03/2018 12:52:01 535 10,54 EUR MTAA CNH INDUSTRIAL NV NL0010545661 21/03/2018 12:52:01 2.098 10,54 EUR MTAA CNH INDUSTRIAL NV NL0010545661 21/03/2018 12:55:35 653 10,54 EUR MTAA CNH INDUSTRIAL NV NL0010545661 21/03/2018 12:55:47 2.200 10,54 EUR MTAA CNH INDUSTRIAL NV NL0010545661 21/03/2018 12:55:47 1.650 10,54 EUR MTAA CNH INDUSTRIAL NV NL0010545661 21/03/2018 12:55:48 1.206 10,54 EUR MTAA CNH INDUSTRIAL NV NL0010545661 21/03/2018 12:57:11 253 10,53 EUR MTAA CNH INDUSTRIAL NV NL0010545661 21/03/2018 12:57:11 2.345 10,53 EUR MTAA CNH INDUSTRIAL NV NL0010545661 21/03/2018 12:59:01 1.509 10,53 EUR MTAA CNH INDUSTRIAL NV NL0010545661 21/03/2018 12:59:01 464 10,53 EUR MTAA CNH INDUSTRIAL NV NL0010545661 21/03/2018 12:59:02 795 10,53 EUR MTAA CNH INDUSTRIAL NV NL0010545661 21/03/2018 13:01:52 742 10,53 EUR MTAA CNH INDUSTRIAL NV NL0010545661 21/03/2018 13:01:52 1.320 10,53 EUR MTAA CNH INDUSTRIAL NV NL0010545661 21/03/2018 13:01:52 506 10,53 EUR MTAA CNH INDUSTRIAL NV NL0010545661 21/03/2018 13:03:54 2.192 10,53 EUR MTAA CNH INDUSTRIAL NV NL0010545661 21/03/2018 13:03:54 569 10,53 EUR MTAA CNH INDUSTRIAL NV NL0010545661 21/03/2018 13:04:43 2.862 10,53 EUR MTAA CNH INDUSTRIAL NV NL0010545661 21/03/2018 13:07:10 2.946 10,53 EUR MTAA CNH INDUSTRIAL NV NL0010545661 21/03/2018 13:11:10 5.484 10,55 EUR MTAA CNH INDUSTRIAL NV NL0010545661 21/03/2018 13:11:35 881 10,55 EUR MTAA CNH INDUSTRIAL NV NL0010545661 21/03/2018 13:11:35 230 10,55 EUR MTAA CNH INDUSTRIAL NV NL0010545661 21/03/2018 13:11:35 772 10,55 EUR MTAA CNH INDUSTRIAL NV NL0010545661 21/03/2018 13:11:35 261 10,55 EUR MTAA CNH INDUSTRIAL NV NL0010545661 21/03/2018 13:12:33 583 10,55 EUR MTAA CNH INDUSTRIAL NV NL0010545661 21/03/2018 13:12:33 725 10,55 EUR MTAA CNH INDUSTRIAL NV NL0010545661 21/03/2018 13:15:13 405 10,54 EUR MTAA CNH INDUSTRIAL NV NL0010545661 21/03/2018 13:16:11 391 10,53 EUR MTAA CNH INDUSTRIAL NV NL0010545661 21/03/2018 13:17:27 703 10,52 EUR MTAA CNH INDUSTRIAL NV NL0010545661 21/03/2018 13:17:27 714 10,52 EUR MTAA CNH INDUSTRIAL NV NL0010545661 21/03/2018 13:18:28 630 10,52 EUR MTAA CNH INDUSTRIAL NV NL0010545661 21/03/2018 13:19:14 2.828 10,53 EUR MTAA CNH INDUSTRIAL NV NL0010545661 21/03/2018 13:21:26 762 10,53 EUR MTAA CNH INDUSTRIAL NV NL0010545661 21/03/2018 13:21:26 1.858 10,53 EUR MTAA CNH INDUSTRIAL NV NL0010545661 21/03/2018 13:25:23 2.890 10,56 EUR MTAA CNH INDUSTRIAL NV NL0010545661 21/03/2018 13:25:23 1.546 10,56 EUR MTAA CNH INDUSTRIAL NV NL0010545661 21/03/2018 13:25:53 422 10,56 EUR MTAA CNH INDUSTRIAL NV NL0010545661 21/03/2018 13:25:53 1.853 10,56 EUR MTAA CNH INDUSTRIAL NV NL0010545661 21/03/2018 13:27:25 208 10,56 EUR MTAA CNH INDUSTRIAL NV NL0010545661 21/03/2018 13:29:35 296 10,58 EUR MTAA CNH INDUSTRIAL NV NL0010545661 21/03/2018 13:29:35 4.098 10,58 EUR MTAA CNH INDUSTRIAL NV NL0010545661 21/03/2018 13:32:29 1.707 10,58 EUR MTAA CNH INDUSTRIAL NV NL0010545661 21/03/2018 13:38:28 1.459 10,58 EUR MTAA CNH INDUSTRIAL NV NL0010545661 21/03/2018 13:40:39 1.574 10,58 EUR MTAA CNH INDUSTRIAL NV NL0010545661 21/03/2018 13:43:39 255 10,58 EUR MTAA CNH INDUSTRIAL NV NL0010545661 21/03/2018 13:43:39 255 10,58 EUR MTAA CNH INDUSTRIAL NV NL0010545661 21/03/2018 13:43:39 1.310 10,58 EUR MTAA CNH INDUSTRIAL NV NL0010545661 21/03/2018 13:50:04 190 10,58 EUR MTAA CNH INDUSTRIAL NV NL0010545661 21/03/2018 13:56:15 930 10,59 EUR MTAA CNH INDUSTRIAL NV NL0010545661 21/03/2018 13:56:15 277 10,59 EUR MTAA CNH INDUSTRIAL NV NL0010545661 21/03/2018 13:56:49 1.620 10,59 EUR MTAA CNH INDUSTRIAL NV NL0010545661 21/03/2018 13:57:43 1.412 10,59 EUR MTAA CNH INDUSTRIAL NV NL0010545661 21/03/2018 13:57:43 204 10,59 EUR MTAA CNH INDUSTRIAL NV NL0010545661 21/03/2018 13:59:01 117 10,59 EUR MTAA CNH INDUSTRIAL NV NL0010545661 21/03/2018 13:59:03 2.200 10,59 EUR MTAA CNH INDUSTRIAL NV NL0010545661 21/03/2018 13:59:03 458 10,59 EUR MTAA CNH INDUSTRIAL NV NL0010545661 21/03/2018 13:59:03 64 10,59 EUR MTAA CNH INDUSTRIAL NV NL0010545661 21/03/2018 13:59:03 213 10,59 EUR MTAA CNH INDUSTRIAL NV NL0010545661 21/03/2018 14:00:57 2.199 10,59 EUR MTAA CNH INDUSTRIAL NV NL0010545661 21/03/2018 14:00:57 977 10,59 EUR MTAA CNH INDUSTRIAL NV NL0010545661 21/03/2018 14:01:03 206 10,58 EUR MTAA CNH INDUSTRIAL NV NL0010545661 21/03/2018 14:02:15 145 10,59 EUR MTAA CNH INDUSTRIAL NV NL0010545661 21/03/2018 14:03:14 3.000 10,59 EUR MTAA CNH INDUSTRIAL NV NL0010545661 21/03/2018 14:03:14 3.000 10,59 EUR MTAA CNH INDUSTRIAL NV NL0010545661 21/03/2018 14:03:14 2.023 10,59 EUR MTAA CNH INDUSTRIAL NV NL0010545661 21/03/2018 14:03:14 1.977 10,59 EUR MTAA CNH INDUSTRIAL NV NL0010545661 21/03/2018 14:03:14 2.200 10,59 EUR MTAA CNH INDUSTRIAL NV NL0010545661 21/03/2018 14:03:14 510 10,59 EUR MTAA CNH INDUSTRIAL NV NL0010545661 21/03/2018 14:03:16 1.730 10,58 EUR MTAA CNH INDUSTRIAL NV NL0010545661 21/03/2018 14:03:37 870 10,58 EUR MTAA CNH INDUSTRIAL NV NL0010545661 21/03/2018 14:03:37 291 10,58 EUR MTAA CNH INDUSTRIAL NV NL0010545661 21/03/2018 14:03:37 1.152 10,58 EUR MTAA CNH INDUSTRIAL NV NL0010545661 21/03/2018 14:05:12 996 10,58 EUR MTAA CNH INDUSTRIAL NV NL0010545661 21/03/2018 14:05:14 800 10,58 EUR MTAA CNH INDUSTRIAL NV NL0010545661 21/03/2018 14:05:14 1.500 10,58 EUR MTAA CNH INDUSTRIAL NV NL0010545661 21/03/2018 14:05:14 86 10,58 EUR MTAA CNH INDUSTRIAL NV NL0010545661 21/03/2018 14:06:35 642 10,57 EUR MTAA CNH INDUSTRIAL NV NL0010545661 21/03/2018 14:06:35 1.000 10,57 EUR MTAA CNH INDUSTRIAL NV NL0010545661 21/03/2018 14:06:35 1.286 10,57 EUR MTAA CNH INDUSTRIAL NV NL0010545661 21/03/2018 14:06:35 707 10,57 EUR MTAA CNH INDUSTRIAL NV NL0010545661 21/03/2018 14:08:08 103 10,56 EUR MTAA CNH INDUSTRIAL NV NL0010545661 21/03/2018 14:08:08 1.700 10,56 EUR MTAA CNH INDUSTRIAL NV NL0010545661 21/03/2018 14:08:08 141 10,56 EUR MTAA CNH INDUSTRIAL NV NL0010545661 21/03/2018 14:08:08 1.421 10,56 EUR MTAA CNH INDUSTRIAL NV NL0010545661 21/03/2018 14:08:08 63 10,56 EUR MTAA CNH INDUSTRIAL NV NL0010545661 21/03/2018 14:09:39 2.015 10,57 EUR MTAA CNH INDUSTRIAL NV NL0010545661 21/03/2018 14:09:39 618 10,57 EUR MTAA CNH INDUSTRIAL NV NL0010545661 21/03/2018 14:11:15 881 10,59 EUR MTAA CNH INDUSTRIAL NV NL0010545661 21/03/2018 14:11:15 601 10,59 EUR MTAA CNH INDUSTRIAL NV NL0010545661 21/03/2018 14:11:15 1.000 10,59 EUR MTAA CNH INDUSTRIAL NV NL0010545661 21/03/2018 14:11:15 262 10,59 EUR MTAA CNH INDUSTRIAL NV NL0010545661 21/03/2018 14:12:39 1.505 10,58 EUR MTAA CNH INDUSTRIAL NV NL0010545661 21/03/2018 14:12:44 1.202 10,58 EUR MTAA CNH INDUSTRIAL NV NL0010545661 21/03/2018 14:14:09 681 10,58 EUR MTAA CNH INDUSTRIAL NV NL0010545661 21/03/2018 14:14:09 881 10,58 EUR MTAA CNH INDUSTRIAL NV NL0010545661 21/03/2018 14:14:09 522 10,58 EUR MTAA CNH INDUSTRIAL NV NL0010545661 21/03/2018 14:14:09 549 10,58 EUR MTAA CNH INDUSTRIAL NV NL0010545661 21/03/2018 14:14:09 115 10,58 EUR MTAA CNH INDUSTRIAL NV NL0010545661 21/03/2018 14:15:39 1.000 10,58 EUR MTAA CNH INDUSTRIAL NV NL0010545661 21/03/2018 14:15:39 624 10,58 EUR MTAA CNH INDUSTRIAL NV NL0010545661 21/03/2018 14:15:39 191 10,58 EUR MTAA CNH INDUSTRIAL NV NL0010545661 21/03/2018 14:15:39 884 10,58 EUR MTAA CNH INDUSTRIAL NV NL0010545661 21/03/2018 14:17:26 453 10,58 EUR MTAA CNH INDUSTRIAL NV NL0010545661 21/03/2018 14:17:26 770 10,58 EUR MTAA CNH INDUSTRIAL NV NL0010545661 21/03/2018 14:17:26 99 10,58 EUR MTAA CNH INDUSTRIAL NV NL0010545661 21/03/2018 14:17:31 1.464 10,58 EUR MTAA CNH INDUSTRIAL NV NL0010545661 21/03/2018 14:17:50 427 10,57 EUR MTAA CNH INDUSTRIAL NV NL0010545661 21/03/2018 14:17:50 8.787 10,57 EUR MTAA CNH INDUSTRIAL NV NL0010545661 21/03/2018 14:17:50 667 10,57 EUR MTAA CNH INDUSTRIAL NV NL0010545661 21/03/2018 14:17:50 119 10,57 EUR MTAA CNH INDUSTRIAL NV NL0010545661 21/03/2018 14:18:39 1.000 10,58 EUR MTAA CNH INDUSTRIAL NV NL0010545661 21/03/2018 14:18:39 1.173 10,58 EUR MTAA CNH INDUSTRIAL NV NL0010545661 21/03/2018 14:19:42 1.192 10,57 EUR MTAA CNH INDUSTRIAL NV NL0010545661 21/03/2018 14:21:14 2.721 10,57 EUR MTAA CNH INDUSTRIAL NV NL0010545661 21/03/2018 14:22:07 1.780 10,56 EUR MTAA CNH INDUSTRIAL NV NL0010545661 21/03/2018 14:22:38 759 10,57 EUR MTAA CNH INDUSTRIAL NV NL0010545661 21/03/2018 14:22:38 223 10,57 EUR MTAA CNH INDUSTRIAL NV NL0010545661 21/03/2018 14:23:52 367 10,57 EUR MTAA CNH INDUSTRIAL NV NL0010545661 21/03/2018 14:23:52 100 10,57 EUR MTAA CNH INDUSTRIAL NV NL0010545661 21/03/2018 14:23:52 2.203 10,57 EUR MTAA CNH INDUSTRIAL NV NL0010545661 21/03/2018 14:26:44 110 10,57 EUR MTAA CNH INDUSTRIAL NV NL0010545661 21/03/2018 14:27:01 2.774 10,57 EUR MTAA CNH INDUSTRIAL NV NL0010545661 21/03/2018 14:27:01 950 10,57 EUR MTAA CNH INDUSTRIAL NV NL0010545661 21/03/2018 14:27:01 969 10,57 EUR MTAA CNH INDUSTRIAL NV NL0010545661 21/03/2018 14:27:01 115 10,57 EUR MTAA CNH INDUSTRIAL NV NL0010545661 21/03/2018 14:29:09 716 10,58 EUR MTAA CNH INDUSTRIAL NV NL0010545661 21/03/2018 14:29:09 4.198 10,58 EUR MTAA CNH INDUSTRIAL NV NL0010545661 21/03/2018 14:30:32 2.200 10,58 EUR MTAA CNH INDUSTRIAL NV NL0010545661 21/03/2018 14:30:32 205 10,58 EUR MTAA CNH INDUSTRIAL NV NL0010545661 21/03/2018 14:31:34 1.152 10,59 EUR MTAA CNH INDUSTRIAL NV NL0010545661 21/03/2018 14:31:34 1.754 10,59 EUR MTAA CNH INDUSTRIAL NV NL0010545661 21/03/2018 14:54:22 850 10,59 EUR MTAA CNH INDUSTRIAL NV NL0010545661 21/03/2018 14:54:22 142 10,59 EUR MTAA CNH INDUSTRIAL NV NL0010545661 21/03/2018 14:54:22 1.100 10,59 EUR MTAA CNH INDUSTRIAL NV NL0010545661 21/03/2018 14:54:22 576 10,59 EUR MTAA CNH INDUSTRIAL NV NL0010545661 21/03/2018 14:56:43 98 10,59 EUR MTAA CNH INDUSTRIAL NV NL0010545661 21/03/2018 14:58:02 1.400 10,59 EUR MTAA CNH INDUSTRIAL NV NL0010545661 21/03/2018 14:58:02 1.000 10,59 EUR MTAA CNH INDUSTRIAL NV NL0010545661 21/03/2018 14:58:02 896 10,59 EUR MTAA CNH INDUSTRIAL NV NL0010545661 21/03/2018 14:58:05 403 10,58 EUR MTAA CNH INDUSTRIAL NV NL0010545661 21/03/2018 14:58:06 2.234 10,58 EUR MTAA CNH INDUSTRIAL NV NL0010545661 21/03/2018 14:58:06 1.038 10,58 EUR MTAA CNH INDUSTRIAL NV NL0010545661 21/03/2018 14:58:06 2.325 10,58 EUR MTAA CNH INDUSTRIAL NV NL0010545661 21/03/2018 14:58:06 2.050 10,58 EUR MTAA CNH INDUSTRIAL NV NL0010545661 21/03/2018 14:58:32 379 10,58 EUR MTAA CNH INDUSTRIAL NV NL0010545661 21/03/2018 14:59:29 582 10,58 EUR MTAA CNH INDUSTRIAL NV NL0010545661 21/03/2018 14:59:29 834 10,58 EUR MTAA CNH INDUSTRIAL NV NL0010545661 21/03/2018 14:59:29 1.311 10,58 EUR MTAA CNH INDUSTRIAL NV NL0010545661 21/03/2018 14:59:29 355 10,58 EUR MTAA CNH INDUSTRIAL NV NL0010545661 21/03/2018 14:59:30 633 10,58 EUR MTAA CNH INDUSTRIAL NV NL0010545661 21/03/2018 14:59:57 10.000 10,57 EUR MTAA CNH INDUSTRIAL NV NL0010545661 21/03/2018 15:00:11 370 10,57 EUR MTAA CNH INDUSTRIAL NV NL0010545661 21/03/2018 15:00:56 707 10,57 EUR MTAA CNH INDUSTRIAL NV NL0010545661 21/03/2018 15:00:56 1.450 10,57 EUR MTAA CNH INDUSTRIAL NV NL0010545661 21/03/2018 15:00:56 1.301 10,57 EUR MTAA CNH INDUSTRIAL NV NL0010545661 21/03/2018 15:01:57 1.012 10,57 EUR MTAA CNH INDUSTRIAL NV NL0010545661 21/03/2018 15:02:01 100 10,57 EUR MTAA CNH INDUSTRIAL NV NL0010545661 21/03/2018 15:02:13 1.802 10,57 EUR MTAA CNH INDUSTRIAL NV NL0010545661 21/03/2018 15:03:09 888 10,57 EUR MTAA CNH INDUSTRIAL NV NL0010545661 21/03/2018 15:03:10 2.214 10,57 EUR MTAA CNH INDUSTRIAL NV NL0010545661 21/03/2018 15:04:11 156 10,57 EUR MTAA CNH INDUSTRIAL NV NL0010545661 21/03/2018 15:05:00 147 10,57 EUR MTAA CNH INDUSTRIAL NV NL0010545661 21/03/2018 15:05:01 177 10,57 EUR MTAA CNH INDUSTRIAL NV NL0010545661 21/03/2018 15:05:01 44 10,57 EUR MTAA CNH INDUSTRIAL NV NL0010545661 21/03/2018 15:05:02 433 10,57 EUR MTAA CNH INDUSTRIAL NV NL0010545661 21/03/2018 15:05:03 2.247 10,57 EUR MTAA CNH INDUSTRIAL NV NL0010545661 21/03/2018 15:05:08 1.106 10,57 EUR MTAA CN\""
      ]
     },
     "execution_count": 14,
     "metadata": {},
     "output_type": "execute_result"
    }
   ],
   "source": [
    "initial.iloc[299663, 1]"
   ]
  },
  {
   "cell_type": "code",
   "execution_count": 16,
   "id": "a7f1973c-c8a4-4b9e-bf15-1f455fb5c17e",
   "metadata": {
    "tags": []
   },
   "outputs": [
    {
     "data": {
      "text/plain": [
       "count    152226.000000\n",
       "mean          9.484418\n",
       "std           2.719022\n",
       "min           1.000000\n",
       "0%            1.000000\n",
       "             ...      \n",
       "96%          14.000000\n",
       "97%          15.000000\n",
       "98%          16.000000\n",
       "99%          18.000000\n",
       "max          43.000000\n",
       "Name: headline, Length: 105, dtype: float64"
      ]
     },
     "execution_count": 16,
     "metadata": {},
     "output_type": "execute_result"
    }
   ],
   "source": [
    "df['headline'].str.split().map(len).describe(percentiles=np.arange(0, 100, 1) / 100)"
   ]
  },
  {
   "cell_type": "code",
   "execution_count": 17,
   "id": "8b71223c-f302-438b-b03b-ef6796a31b9f",
   "metadata": {
    "tags": []
   },
   "outputs": [
    {
     "data": {
      "text/plain": [
       "count    152226.000000\n",
       "mean        387.761762\n",
       "std         498.781576\n",
       "min           6.000000\n",
       "0%            6.000000\n",
       "             ...      \n",
       "96%         994.000000\n",
       "97%        1088.000000\n",
       "98%        1248.000000\n",
       "99%        1917.750000\n",
       "max       35218.000000\n",
       "Name: body_text, Length: 105, dtype: float64"
      ]
     },
     "execution_count": 17,
     "metadata": {},
     "output_type": "execute_result"
    }
   ],
   "source": [
    "df['body_text'].str.split().map(len).describe(percentiles=np.arange(0, 100, 1) / 100)"
   ]
  },
  {
   "cell_type": "code",
   "execution_count": 6,
   "id": "bbac5a93-13c3-4ebb-acba-be0c6b1438d5",
   "metadata": {
    "tags": []
   },
   "outputs": [],
   "source": [
    "df['len'] = df['body_text'].str.split().map(len)"
   ]
  },
  {
   "cell_type": "code",
   "execution_count": 7,
   "id": "9b395bb5-1e40-4888-a1fd-e7e92ab8f39a",
   "metadata": {
    "tags": []
   },
   "outputs": [
    {
     "data": {
      "text/html": [
       "<div>\n",
       "<style scoped>\n",
       "    .dataframe tbody tr th:only-of-type {\n",
       "        vertical-align: middle;\n",
       "    }\n",
       "\n",
       "    .dataframe tbody tr th {\n",
       "        vertical-align: top;\n",
       "    }\n",
       "\n",
       "    .dataframe thead th {\n",
       "        text-align: right;\n",
       "    }\n",
       "</style>\n",
       "<table border=\"1\" class=\"dataframe\">\n",
       "  <thead>\n",
       "    <tr style=\"text-align: right;\">\n",
       "      <th></th>\n",
       "      <th>headline</th>\n",
       "      <th>body_text</th>\n",
       "      <th>headline_mentions</th>\n",
       "      <th>body_text_mentions</th>\n",
       "      <th>salient_entities</th>\n",
       "      <th>salient_entities_list</th>\n",
       "      <th>len</th>\n",
       "    </tr>\n",
       "  </thead>\n",
       "  <tbody>\n",
       "    <tr>\n",
       "      <th>103956</th>\n",
       "      <td>Agnico Eagle Reports Fourth Quarter and Full Y...</td>\n",
       "      <td>Stock Symbol: AEM (NYSE and TSX)\\n(All amounts...</td>\n",
       "      <td>[(0, 12, 'Agnico Eagle', 'Agnico_Eagle_Mines_L...</td>\n",
       "      <td>[(14, 3, 'AEM', 'Association_of_Equipment_Manu...</td>\n",
       "      <td>[(149, 26, 'Agnico Eagle Mines Limited', 'Agni...</td>\n",
       "      <td>['Agnico_Eagle_Mines_Limited']</td>\n",
       "      <td>35218</td>\n",
       "    </tr>\n",
       "    <tr>\n",
       "      <th>92065</th>\n",
       "      <td>Nutrien Provides 2018 Guidance and Announces A...</td>\n",
       "      <td>NYSE, TSX: NTR\\nSASKATOON, Feb. 5, 2018 /PRNew...</td>\n",
       "      <td>[(45, 6, 'Agrium', 'Agrium', 0.387277767806798...</td>\n",
       "      <td>[(0, 4, 'NYSE', 'New_York_Stock_Exchange', 0.9...</td>\n",
       "      <td>[(125, 10, 'Agrium Inc', 'Agrium', 0.387277767...</td>\n",
       "      <td>['Agrium', 'PotashCorp']</td>\n",
       "      <td>17828</td>\n",
       "    </tr>\n",
       "    <tr>\n",
       "      <th>88055</th>\n",
       "      <td>Celestica Announces Fourth Quarter and Full Ye...</td>\n",
       "      <td>TORONTO, Jan. 24, 2018 (GLOBE NEWSWIRE) -- Cel...</td>\n",
       "      <td>[(0, 9, 'Celestica', 'Celestica', 0.9084977829...</td>\n",
       "      <td>[(59, 3, 'TSX', 'Toronto_Stock_Exchange', 0.38...</td>\n",
       "      <td>[(63, 3, 'CLS', 'Celestica', 0.350735603218110...</td>\n",
       "      <td>['Celestica']</td>\n",
       "      <td>17372</td>\n",
       "    </tr>\n",
       "    <tr>\n",
       "      <th>103417</th>\n",
       "      <td>Newmont Announces Full Year and Fourth Quarter...</td>\n",
       "      <td>DENVER--(BUSINESS WIRE)-- Newmont Mining Corpo...</td>\n",
       "      <td>[(0, 7, 'Newmont', 'Newmont_Goldcorp', 0.38727...</td>\n",
       "      <td>[(26, 26, 'Newmont Mining Corporation', 'Newmo...</td>\n",
       "      <td>[(26, 26, 'Newmont Mining Corporation', 'Newmo...</td>\n",
       "      <td>['Newmont_Goldcorp']</td>\n",
       "      <td>15411</td>\n",
       "    </tr>\n",
       "    <tr>\n",
       "      <th>88405</th>\n",
       "      <td>Rogers Communications Reports Fourth Quarter a...</td>\n",
       "      <td>Excellent financial and subscriber performance...</td>\n",
       "      <td>[(0, 21, 'Rogers Communications', 'Rogers_Comm...</td>\n",
       "      <td>[(962, 25, 'Rogers Communications Inc', 'Roger...</td>\n",
       "      <td>[(962, 25, 'Rogers Communications Inc', 'Roger...</td>\n",
       "      <td>['Rogers_Communications']</td>\n",
       "      <td>13780</td>\n",
       "    </tr>\n",
       "    <tr>\n",
       "      <th>...</th>\n",
       "      <td>...</td>\n",
       "      <td>...</td>\n",
       "      <td>...</td>\n",
       "      <td>...</td>\n",
       "      <td>...</td>\n",
       "      <td>...</td>\n",
       "      <td>...</td>\n",
       "    </tr>\n",
       "    <tr>\n",
       "      <th>104333</th>\n",
       "      <td>AutoNation Reports All-Time Record Quarterly EPS</td>\n",
       "      <td>FORT LAUDERDALE, Fla., Feb. 1, 2018 /PRNewswir...</td>\n",
       "      <td>[(0, 10, 'AutoNation', 'AutoNation', 0.3872777...</td>\n",
       "      <td>[(52, 15, 'AutoNation, Inc', 'AutoNation', 0.3...</td>\n",
       "      <td>[(52, 15, 'AutoNation, Inc', 'AutoNation', 0.3...</td>\n",
       "      <td>['AutoNation']</td>\n",
       "      <td>3318</td>\n",
       "    </tr>\n",
       "    <tr>\n",
       "      <th>76205</th>\n",
       "      <td>CNBC Interview with Börje Ekholm, Ericsson Gro...</td>\n",
       "      <td>Following are excerpts from a CNBC interview w...</td>\n",
       "      <td>[(34, 14, 'Ericsson Group', 'Ericsson', 0.3872...</td>\n",
       "      <td>[(30, 4, 'CNBC', 'CNBC', 0.9093471702609949, 0...</td>\n",
       "      <td>[(85, 14, 'Ericsson Group', 'Ericsson', 0.3872...</td>\n",
       "      <td>['Ericsson']</td>\n",
       "      <td>3316</td>\n",
       "    </tr>\n",
       "    <tr>\n",
       "      <th>97393</th>\n",
       "      <td>SCANA Reports Financial Results for Fourth Qua...</td>\n",
       "      <td>CAYCE, S.C., Feb. 22, 2018 /PRNewswire/ -- SCA...</td>\n",
       "      <td>[(0, 5, 'SCANA', 'SCANA', 0.3872777678067984, ...</td>\n",
       "      <td>[(43, 17, 'SCANA Corporation', 'SCANA', 0.3872...</td>\n",
       "      <td>[(43, 17, 'SCANA Corporation', 'SCANA', 0.3872...</td>\n",
       "      <td>['SCANA']</td>\n",
       "      <td>3311</td>\n",
       "    </tr>\n",
       "    <tr>\n",
       "      <th>95946</th>\n",
       "      <td>Pegasystems Announces Financial Results for th...</td>\n",
       "      <td>CAMBRIDGE, Mass., Feb. 26, 2018 /PRNewswire/ -...</td>\n",
       "      <td>[(0, 11, 'Pegasystems', 'Pegasystems', 0.38727...</td>\n",
       "      <td>[(66, 6, 'NASDAQ', 'NASDAQ', 0.910169270077847...</td>\n",
       "      <td>[(348, 11, 'Pegasystems', 'Pegasystems', 0.387...</td>\n",
       "      <td>['Pegasystems']</td>\n",
       "      <td>3311</td>\n",
       "    </tr>\n",
       "    <tr>\n",
       "      <th>85063</th>\n",
       "      <td>Potlatch Corporation Reports Fourth Quarter an...</td>\n",
       "      <td>SPOKANE, Wash., Jan. 29, 2018 (GLOBE NEWSWIRE)...</td>\n",
       "      <td>[(0, 20, 'Potlatch Corporation', 'PotlatchDelt...</td>\n",
       "      <td>[(50, 20, 'Potlatch Corporation', 'PotlatchDel...</td>\n",
       "      <td>[(50, 20, 'Potlatch Corporation', 'PotlatchDel...</td>\n",
       "      <td>['PotlatchDeltic']</td>\n",
       "      <td>3308</td>\n",
       "    </tr>\n",
       "  </tbody>\n",
       "</table>\n",
       "<p>640 rows × 7 columns</p>\n",
       "</div>"
      ],
      "text/plain": [
       "                                                 headline   \n",
       "103956  Agnico Eagle Reports Fourth Quarter and Full Y...  \\\n",
       "92065   Nutrien Provides 2018 Guidance and Announces A...   \n",
       "88055   Celestica Announces Fourth Quarter and Full Ye...   \n",
       "103417  Newmont Announces Full Year and Fourth Quarter...   \n",
       "88405   Rogers Communications Reports Fourth Quarter a...   \n",
       "...                                                   ...   \n",
       "104333   AutoNation Reports All-Time Record Quarterly EPS   \n",
       "76205   CNBC Interview with Börje Ekholm, Ericsson Gro...   \n",
       "97393   SCANA Reports Financial Results for Fourth Qua...   \n",
       "95946   Pegasystems Announces Financial Results for th...   \n",
       "85063   Potlatch Corporation Reports Fourth Quarter an...   \n",
       "\n",
       "                                                body_text   \n",
       "103956  Stock Symbol: AEM (NYSE and TSX)\\n(All amounts...  \\\n",
       "92065   NYSE, TSX: NTR\\nSASKATOON, Feb. 5, 2018 /PRNew...   \n",
       "88055   TORONTO, Jan. 24, 2018 (GLOBE NEWSWIRE) -- Cel...   \n",
       "103417  DENVER--(BUSINESS WIRE)-- Newmont Mining Corpo...   \n",
       "88405   Excellent financial and subscriber performance...   \n",
       "...                                                   ...   \n",
       "104333  FORT LAUDERDALE, Fla., Feb. 1, 2018 /PRNewswir...   \n",
       "76205   Following are excerpts from a CNBC interview w...   \n",
       "97393   CAYCE, S.C., Feb. 22, 2018 /PRNewswire/ -- SCA...   \n",
       "95946   CAMBRIDGE, Mass., Feb. 26, 2018 /PRNewswire/ -...   \n",
       "85063   SPOKANE, Wash., Jan. 29, 2018 (GLOBE NEWSWIRE)...   \n",
       "\n",
       "                                        headline_mentions   \n",
       "103956  [(0, 12, 'Agnico Eagle', 'Agnico_Eagle_Mines_L...  \\\n",
       "92065   [(45, 6, 'Agrium', 'Agrium', 0.387277767806798...   \n",
       "88055   [(0, 9, 'Celestica', 'Celestica', 0.9084977829...   \n",
       "103417  [(0, 7, 'Newmont', 'Newmont_Goldcorp', 0.38727...   \n",
       "88405   [(0, 21, 'Rogers Communications', 'Rogers_Comm...   \n",
       "...                                                   ...   \n",
       "104333  [(0, 10, 'AutoNation', 'AutoNation', 0.3872777...   \n",
       "76205   [(34, 14, 'Ericsson Group', 'Ericsson', 0.3872...   \n",
       "97393   [(0, 5, 'SCANA', 'SCANA', 0.3872777678067984, ...   \n",
       "95946   [(0, 11, 'Pegasystems', 'Pegasystems', 0.38727...   \n",
       "85063   [(0, 20, 'Potlatch Corporation', 'PotlatchDelt...   \n",
       "\n",
       "                                       body_text_mentions   \n",
       "103956  [(14, 3, 'AEM', 'Association_of_Equipment_Manu...  \\\n",
       "92065   [(0, 4, 'NYSE', 'New_York_Stock_Exchange', 0.9...   \n",
       "88055   [(59, 3, 'TSX', 'Toronto_Stock_Exchange', 0.38...   \n",
       "103417  [(26, 26, 'Newmont Mining Corporation', 'Newmo...   \n",
       "88405   [(962, 25, 'Rogers Communications Inc', 'Roger...   \n",
       "...                                                   ...   \n",
       "104333  [(52, 15, 'AutoNation, Inc', 'AutoNation', 0.3...   \n",
       "76205   [(30, 4, 'CNBC', 'CNBC', 0.9093471702609949, 0...   \n",
       "97393   [(43, 17, 'SCANA Corporation', 'SCANA', 0.3872...   \n",
       "95946   [(66, 6, 'NASDAQ', 'NASDAQ', 0.910169270077847...   \n",
       "85063   [(50, 20, 'Potlatch Corporation', 'PotlatchDel...   \n",
       "\n",
       "                                         salient_entities   \n",
       "103956  [(149, 26, 'Agnico Eagle Mines Limited', 'Agni...  \\\n",
       "92065   [(125, 10, 'Agrium Inc', 'Agrium', 0.387277767...   \n",
       "88055   [(63, 3, 'CLS', 'Celestica', 0.350735603218110...   \n",
       "103417  [(26, 26, 'Newmont Mining Corporation', 'Newmo...   \n",
       "88405   [(962, 25, 'Rogers Communications Inc', 'Roger...   \n",
       "...                                                   ...   \n",
       "104333  [(52, 15, 'AutoNation, Inc', 'AutoNation', 0.3...   \n",
       "76205   [(85, 14, 'Ericsson Group', 'Ericsson', 0.3872...   \n",
       "97393   [(43, 17, 'SCANA Corporation', 'SCANA', 0.3872...   \n",
       "95946   [(348, 11, 'Pegasystems', 'Pegasystems', 0.387...   \n",
       "85063   [(50, 20, 'Potlatch Corporation', 'PotlatchDel...   \n",
       "\n",
       "                 salient_entities_list    len  \n",
       "103956  ['Agnico_Eagle_Mines_Limited']  35218  \n",
       "92065         ['Agrium', 'PotashCorp']  17828  \n",
       "88055                    ['Celestica']  17372  \n",
       "103417            ['Newmont_Goldcorp']  15411  \n",
       "88405        ['Rogers_Communications']  13780  \n",
       "...                                ...    ...  \n",
       "104333                  ['AutoNation']   3318  \n",
       "76205                     ['Ericsson']   3316  \n",
       "97393                        ['SCANA']   3311  \n",
       "95946                  ['Pegasystems']   3311  \n",
       "85063               ['PotlatchDeltic']   3308  \n",
       "\n",
       "[640 rows x 7 columns]"
      ]
     },
     "execution_count": 7,
     "metadata": {},
     "output_type": "execute_result"
    }
   ],
   "source": [
    "df[df['len'] > 3300].sort_values('len', ascending=False)"
   ]
  },
  {
   "cell_type": "code",
   "execution_count": null,
   "id": "c6a85028-24ff-49a5-a959-ed36b89f06a4",
   "metadata": {
    "scrolled": true,
    "tags": []
   },
   "outputs": [
    {
     "data": {
      "text/plain": [
       "\"Following are excerpts from a CNBC interview with Börje Ekholm, President and CEO of Ericsson Group and CNBC's Steve Sedgwick and Geoff Cutmore from the World Economic Forum 2018.\\nSS: Right. I'm delighted to say, Börje Ekholm is with us, the President and CEO of Ericsson Group. And you've been in that position a year now, Börje-,\\nBE: Yeah-,\\nSS: So, what change are you managing to inaugurate and get through over Ericsson, and what needs to be done still?\\nBE: Yeah, no, I came in, about a year ago, almost to the day, to be honest. We have done-, what we have done is launched a focus strategy, with clear priorities, where we're focusing on our networks business, that's the traditional radio, digital services, which is the core of the telecom networks, and managed services, where we run, basically, telecom services. So, we're continuing on that focus, making sure that we provide cost-efficient solutions to our customers.\\nSS: The threat, as we've seen from Mr. Trump, and what he's doing with washing machines and solar, is coming from China, again, as well. How vicious is that competition, at the moment?\\nBE: No, I would say China is a very important market for us. We have a large part of the Chinese infrastructure market, for telecom infrastructure and mobile infrastructure. So, for us, it's a lot of innovation going on in China, at the same time, so-, so, what we're seeing is, in a way, China developing on the back of a very strong digital infrastructure, becoming much more innovative, and we have to capture that part.\\nGC: The-, the recent story of the company, let's face it, has been one of write-downs and losses. How far away do you think you are from arresting the decline and the-, and the challenges that this business faces?\\nBE: Now, what you see is, we've had a headwind from, call it the general market. We've seen declines in the infrastructure spending, and that, of course, has impacted Ericsson. What we see, though, is a lot of promise coming in 5G. We're starting to-, to see the excitement here. Going back a year, 5G was a-, I would label it a buzzword. It didn't really have any real meaning. But today, we're seeing operators around the world starting, actually, to prepare networks and launching trials.\\nGC: And yet, Sigve Brekke, who was in that very seat, from Telenor, just minutes ago, really-,\\nBE: Mm.\\nGC: Said the regulators still need educating around 5G, and there are some issues about the way that the bandwidth is going to be made available. What would you suggest?\\nBE: No, there are, and this is, a little bit, a European problem, where we still have a little bit of regulatory uncertainty, what bands will be available, when will they be available, etc. And here, I think there is a need to start clarifying that, by the European politicians. That-, I think that is slowing down investments in Europe a bit today. We see, on the other hand, China, Korea, Japan, powering ahead, frequency situation more established. North America, also powering ahead, very high frequency bands, but-, but still powering ahead in to 5G.\\nSS: Are you being hamstrung not only by the European broader pace, but also by your own shareholders, as well? 7-, and correct me if I'm wrong, I think it's around about 7.3%, they want faster capital executing pace, and cost cutting, reduction ambitions, a well. They want you to cut costs, where, to develop 5G, you've got to spend money, as well. Are your shareholders just too short-termist?\\nBE: Ah. You know, your-, a company has the shareholders we have. What we're doing is focusing on executing-,\\nSS: Is Cevian too short-termist?\\nBE: No, I wouldn't say so. If you look how long they actually owned Volvo, for example, I wouldn't argue they're short-term. But-, but they have a point in that we need to correct our profitability, we need to, you know, get back to profitability. In reality, unless we are profitable, we will have no money to spend.\\nGC: Sure, and I think there's a very strong message from you, though, that if Europe wants to be at the table and compete, they need to be faster, and they need to be committed, and that's what you're seeing in Asia with the Chinese.\\nBE: Mm.\\nGC: Do I read you wrong?\\nBE: No. I think that what is happening now is that China is motoring along very rapidly, building a very strong digital infrastructure in the country, which will benefit, you know, the whole innovation there. But, you see North America doing the same thing. Europe also should do the same thing.\\nSS: Börje-, lovely to see you, you're our final guest of our first show, and that's great, the way it should be. Börje Ekholm, CEO and President of Ericsson, thank you very much indeed.\\nBE: Thank you.\\nENDS\\nFollowing are excerpts from a CNBC interview with Börje Ekholm, President and CEO of Ericsson Group and CNBC's Steve Sedgwick and Geoff Cutmore from the World Economic Forum 2018.\\nSS: Right. I'm delighted to say, Börje Ekholm is with us, the President and CEO of Ericsson Group. And you've been in that position a year now, Börje-,\\nBE: Yeah-,\\nSS: So, what change are you managing to inaugurate and get through over Ericsson, and what needs to be done still?\\nBE: Yeah, no, I came in, about a year ago, almost to the day, to be honest. We have done-, what we have done is launched a focus strategy, with clear priorities, where we're focusing on our networks business, that's the traditional radio, digital services, which is the core of the telecom networks, and managed services, where we run, basically, telecom services. So, we're continuing on that focus, making sure that we provide cost-efficient solutions to our customers.\\nSS: The threat, as we've seen from Mr. Trump, and what he's doing with washing machines and solar, is coming from China, again, as well. How vicious is that competition, at the moment?\\nBE: No, I would say China is a very important market for us. We have a large part of the Chinese infrastructure market, for telecom infrastructure and mobile infrastructure. So, for us, it's a lot of innovation going on in China, at the same time, so-, so, what we're seeing is, in a way, China developing on the back of a very strong digital infrastructure, becoming much more innovative, and we have to capture that part.\\nGC: The-, the recent story of the company, let's face it, has been one of write-downs and losses. How far away do you think you are from arresting the decline and the-, and the challenges that this business faces?\\nBE: Now, what you see is, we've had a headwind from, call it the general market. We've seen declines in the infrastructure spending, and that, of course, has impacted Ericsson. What we see, though, is a lot of promise coming in 5G. We're starting to-, to see the excitement here. Going back a year, 5G was a-, I would label it a buzzword. It didn't really have any real meaning. But today, we're seeing operators around the world starting, actually, to prepare networks and launching trials.\\nGC: And yet, Sigve Brekke, who was in that very seat, from Telenor, just minutes ago, really-,\\nBE: Mm.\\nGC: Said the regulators still need educating around 5G, and there are some issues about the way that the bandwidth is going to be made available. What would you suggest?\\nBE: No, there are, and this is, a little bit, a European problem, where we still have a little bit of regulatory uncertainty, what bands will be available, when will they be available, etc. And here, I think there is a need to start clarifying that, by the European politicians. That-, I think that is slowing down investments in Europe a bit today. We see, on the other hand, China, Korea, Japan, powering ahead, frequency situation more established. North America, also powering ahead, very high frequency bands, but-, but still powering ahead in to 5G.\\nSS: Are you being hamstrung not only by the European broader pace, but also by your own shareholders, as well? 7-, and correct me if I'm wrong, I think it's around about 7.3%, they want faster capital executing pace, and cost cutting, reduction ambitions, a well. They want you to cut costs, where, to develop 5G, you've got to spend money, as well. Are your shareholders just too short-termist?\\nBE: Ah. You know, your-, a company has the shareholders we have. What we're doing is focusing on executing-,\\nSS: Is Cevian too short-termist?\\nBE: No, I wouldn't say so. If you look how long they actually owned Volvo, for example, I wouldn't argue they're short-term. But-, but they have a point in that we need to correct our profitability, we need to, you know, get back to profitability. In reality, unless we are profitable, we will have no money to spend.\\nGC: Sure, and I think there's a very strong message from you, though, that if Europe wants to be at the table and compete, they need to be faster, and they need to be committed, and that's what you're seeing in Asia with the Chinese.\\nBE: Mm.\\nGC: Do I read you wrong?\\nBE: No. I think that what is happening now is that China is motoring along very rapidly, building a very strong digital infrastructure in the country, which will benefit, you know, the whole innovation there. But, you see North America doing the same thing. Europe also should do the same thing.\\nSS: Börje-, lovely to see you, you're our final guest of our first show, and that's great, the way it should be. Börje Ekholm, CEO and President of Ericsson, thank you very much indeed.\\nBE: Thank you.\\nENDS\\nFollowing are excerpts from a CNBC interview with Börje Ekholm, President and CEO of Ericsson Group and CNBC's Steve Sedgwick and Geoff Cutmore from the World Economic Forum 2018.\\nSS: Right. I'm delighted to say, Börje Ekholm is with us, the President and CEO of Ericsson Group. And you've been in that position a year now, Börje-,\\nBE: Yeah-,\\nSS: So, what change are you managing to inaugurate and get through over Ericsson, and what needs to be done still?\\nBE: Yeah, no, I came in, about a year ago, almost to the day, to be honest. We have done-, what we have done is launched a focus strategy, with clear priorities, where we're focusing on our networks business, that's the traditional radio, digital services, which is the core of the telecom networks, and managed services, where we run, basically, telecom services. So, we're continuing on that focus, making sure that we provide cost-efficient solutions to our customers.\\nSS: The threat, as we've seen from Mr. Trump, and what he's doing with washing machines and solar, is coming from China, again, as well. How vicious is that competition, at the moment?\\nBE: No, I would say China is a very important market for us. We have a large part of the Chinese infrastructure market, for telecom infrastructure and mobile infrastructure. So, for us, it's a lot of innovation going on in China, at the same time, so-, so, what we're seeing is, in a way, China developing on the back of a very strong digital infrastructure, becoming much more innovative, and we have to capture that part.\\nGC: The-, the recent story of the company, let's face it, has been one of write-downs and losses. How far away do you think you are from arresting the decline and the-, and the challenges that this business faces?\\nBE: Now, what you see is, we've had a headwind from, call it the general market. We've seen declines in the infrastructure spending, and that, of course, has impacted Ericsson. What we see, though, is a lot of promise coming in 5G. We're starting to-, to see the excitement here. Going back a year, 5G was a-, I would label it a buzzword. It didn't really have any real meaning. But today, we're seeing operators around the world starting, actually, to prepare networks and launching trials.\\nGC: And yet, Sigve Brekke, who was in that very seat, from Telenor, just minutes ago, really-,\\nBE: Mm.\\nGC: Said the regulators still need educating around 5G, and there are some issues about the way that the bandwidth is going to be made available. What would you suggest?\\nBE: No, there are, and this is, a little bit, a European problem, where we still have a little bit of regulatory uncertainty, what bands will be available, when will they be available, etc. And here, I think there is a need to start clarifying that, by the European politicians. That-, I think that is slowing down investments in Europe a bit today. We see, on the other hand, China, Korea, Japan, powering ahead, frequency situation more established. North America, also powering ahead, very high frequency bands, but-, but still powering ahead in to 5G.\\nSS: Are you being hamstrung not only by the European broader pace, but also by your own shareholders, as well? 7-, and correct me if I'm wrong, I think it's around about 7.3%, they want faster capital executing pace, and cost cutting, reduction ambitions, a well. They want you to cut costs, where, to develop 5G, you've got to spend money, as well. Are your shareholders just too short-termist?\\nBE: Ah. You know, your-, a company has the shareholders we have. What we're doing is focusing on executing-,\\nSS: Is Cevian too short-termist?\\nBE: No, I wouldn't say so. If you look how long they actually owned Volvo, for example, I wouldn't argue they're short-term. But-, but they have a point in that we need to correct our profitability, we need to, you know, get back to profitability. In reality, unless we are profitable, we will have no money to spend.\\nGC: Sure, and I think there's a very strong message from you, though, that if Europe wants to be at the table and compete, they need to be faster, and they need to be committed, and that's what you're seeing in Asia with the Chinese.\\nBE: Mm.\\nGC: Do I read you wrong?\\nBE: No. I think that what is happening now is that China is motoring along very rapidly, building a very strong digital infrastructure in the country, which will benefit, you know, the whole innovation there. But, you see North America doing the same thing. Europe also should do the same thing.\\nSS: Börje-, lovely to see you, you're our final guest of our first show, and that's great, the way it should be. Börje Ekholm, CEO and President of Ericsson, thank you very much indeed.\\nBE: Thank you.\\nENDS\\nFollowing are excerpts from a CNBC interview with Börje Ekholm, President and CEO of Ericsson Group and CNBC's Steve Sedgwick and Geoff Cutmore from the World Economic Forum 2018.\\nSS: Right. I'm delighted to say, Börje Ekholm is with us, the President and CEO of Ericsson Group. And you've been in that position a year now, Börje-,\\nBE: Yeah-,\\nSS: So, what change are you managing to inaugurate and get through over Ericsson, and what needs to be done still?\\nBE: Yeah, no, I came in, about a year ago, almost to the day, to be honest. We have done-, what we have done is launched a focus strategy, with clear priorities, where we're focusing on our networks business, that's the traditional radio, digital services, which is the core of the telecom networks, and managed services, where we run, basically, telecom services. So, we're continuing on that focus, making sure that we provide cost-efficient solutions to our customers.\\nSS: The threat, as we've seen from Mr. Trump, and what he's doing with washing machines and solar, is coming from China, again, as well. How vicious is that competition, at the moment?\\nBE: No, I would say China is a very important market for us. We have a large part of the Chinese infrastructure market, for telecom infrastructure and mobile infrastructure. So, for us, it's a lot of innovation going on in China, at the same time, so-, so, what we're seeing is, in a way, China developing on the back of a very strong digital infrastructure, becoming much more innovative, and we have to capture that part.\\nGC: The-, the recent story of the company, let's face it, has been one of write-downs and losses. How far away do you think you are from arresting the decline and the-, and the challenges that this business faces?\\nBE: Now, what you see is, we've had a headwind from, call it the general market. We've seen declines in the infrastructure spending, and that, of course, has impacted Ericsson. What we see, though, is a lot of promise coming in 5G. We're starting to-, to see the excitement here. Going back a year, 5G was a-, I would label it a buzzword. It didn't really have any real meaning. But today, we're seeing operators around the world starting, actually, to prepare networks and launching trials.\\nGC: And yet, Sigve Brekke, who was in that very seat, from Telenor, just minutes ago, really-,\\nBE: Mm.\\nGC: Said the regulators still need educating around 5G, and there are some issues about the way that the bandwidth is going to be made available. What would you suggest?\\nBE: No, there are, and this is, a little bit, a European problem, where we still have a little bit of regulatory uncertainty, what bands will be available, when will they be available, etc. And here, I think there is a need to start clarifying that, by the European politicians. That-, I think that is slowing down investments in Europe a bit today. We see, on the other hand, China, Korea, Japan, powering ahead, frequency situation more established. North America, also powering ahead, very high frequency bands, but-, but still powering ahead in to 5G.\\nSS: Are you being hamstrung not only by the European broader pace, but also by your own shareholders, as well? 7-, and correct me if I'm wrong, I think it's around about 7.3%, they want faster capital executing pace, and cost cutting, reduction ambitions, a well. They want you to cut costs, where, to develop 5G, you've got to spend money, as well. Are your shareholders just too short-termist?\\nBE: Ah. You know, your-, a company has the shareholders we have. What we're doing is focusing on executing-,\\nSS: Is Cevian too short-termist?\\nBE: No, I wouldn't say so. If you look how long they actually owned Volvo, for example, I wouldn't argue they're short-term. But-, but they have a point in that we need to correct our profitability, we need to, you know, get back to profitability. In reality, unless we are profitable, we will have no money to spend.\\nGC: Sure, and I think there's a very strong message from you, though, that if Europe wants to be at the table and compete, they need to be faster, and they need to be committed, and that's what you're seeing in Asia with the Chinese.\\nBE: Mm.\\nGC: Do I read you wrong?\\nBE: No. I think that what is happening now is that China is motoring along very rapidly, building a very strong digital infrastructure in the country, which will benefit, you know, the whole innovation there. But, you see North America doing the same thing. Europe also should do the same thing.\\nSS: Börje-, lovely to see you, you're our final guest of our first show, and that's great, the way it should be. Börje Ekholm, CEO and President of Ericsson, thank you very much indeed.\\nBE: Thank you.\\nENDS\""
      ]
     },
     "execution_count": 10,
     "metadata": {},
     "output_type": "execute_result"
    }
   ],
   "source": [
    "df.iloc[76205, 1]"
   ]
  },
  {
   "cell_type": "code",
   "execution_count": 22,
   "id": "9ff12b09-f7df-4a41-9f5a-0826f9b124c5",
   "metadata": {
    "tags": []
   },
   "outputs": [
    {
     "data": {
      "text/plain": [
       "count    152226.000000\n",
       "mean          1.204715\n",
       "std           0.458130\n",
       "min           1.000000\n",
       "0%            1.000000\n",
       "             ...      \n",
       "96%           2.000000\n",
       "97%           2.000000\n",
       "98%           2.000000\n",
       "99%           3.000000\n",
       "max          10.000000\n",
       "Name: salient_entities_list, Length: 105, dtype: float64"
      ]
     },
     "execution_count": 22,
     "metadata": {},
     "output_type": "execute_result"
    }
   ],
   "source": [
    "df['salient_entities_list'].map(len).describe(percentiles=np.arange(0, 100, 1) / 100)"
   ]
  },
  {
   "cell_type": "code",
   "execution_count": null,
   "id": "80c7db93-495a-4618-9a97-10b965a3fbed",
   "metadata": {},
   "outputs": [],
   "source": []
  },
  {
   "cell_type": "code",
   "execution_count": null,
   "id": "8d1d125b-b330-4d1f-9d23-fbd3e970211c",
   "metadata": {},
   "outputs": [],
   "source": []
  },
  {
   "cell_type": "code",
   "execution_count": null,
   "id": "c2ada1d1-a1d4-418e-962f-65c08f42ea86",
   "metadata": {},
   "outputs": [],
   "source": []
  },
  {
   "cell_type": "code",
   "execution_count": null,
   "id": "d90362fb-9ad1-4430-9928-64f31db61b5c",
   "metadata": {},
   "outputs": [],
   "source": []
  },
  {
   "cell_type": "code",
   "execution_count": null,
   "id": "a017d25d-17a0-4d31-8237-1eb264854019",
   "metadata": {},
   "outputs": [],
   "source": []
  },
  {
   "cell_type": "code",
   "execution_count": null,
   "id": "1f213029-0da6-4396-bcd8-a405acc526a6",
   "metadata": {},
   "outputs": [],
   "source": []
  },
  {
   "cell_type": "code",
   "execution_count": null,
   "id": "a3442430-db41-4635-876d-30b21ab3d63a",
   "metadata": {},
   "outputs": [],
   "source": []
  }
 ],
 "metadata": {
  "kernelspec": {
   "display_name": "Python 3 (ipykernel)",
   "language": "python",
   "name": "python3"
  },
  "language_info": {
   "codemirror_mode": {
    "name": "ipython",
    "version": 3
   },
   "file_extension": ".py",
   "mimetype": "text/x-python",
   "name": "python",
   "nbconvert_exporter": "python",
   "pygments_lexer": "ipython3",
   "version": "3.10.6"
  }
 },
 "nbformat": 4,
 "nbformat_minor": 5
}
