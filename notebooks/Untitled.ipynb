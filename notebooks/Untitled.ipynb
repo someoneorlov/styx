{
 "cells": [
  {
   "cell_type": "code",
   "execution_count": 1,
   "id": "c89f57c3-7f56-41e4-a22d-aaaeffd33c04",
   "metadata": {},
   "outputs": [],
   "source": [
    "import os\n",
    "\n",
    "import ast\n",
    "from ast import literal_eval\n",
    "import requests\n",
    "import sqlalchemy\n",
    "import psycopg2\n",
    "from sqlalchemy import create_engine\n",
    "\n",
    "import pandas as pd\n",
    "from tqdm import tqdm\n",
    "\n",
    "\n",
    "pd.set_option('display.max_columns', None)\n",
    "pd.set_option('display.max_rows', 50)"
   ]
  },
  {
   "cell_type": "code",
   "execution_count": null,
   "id": "d33eeb87-c31a-410f-86e6-4f07e977f2d7",
   "metadata": {},
   "outputs": [],
   "source": []
  },
  {
   "cell_type": "code",
   "execution_count": 2,
   "id": "cab3da60-36bb-4d47-b64c-3c0ec8d5d0f5",
   "metadata": {},
   "outputs": [],
   "source": [
    "API_URL = \"http://rel:5555/api\""
   ]
  },
  {
   "cell_type": "code",
   "execution_count": 27,
   "id": "4f4d6862-c6bc-4154-a70a-2a29225cb8d3",
   "metadata": {},
   "outputs": [],
   "source": [
    "API_URL = \"https://rel.cs.ru.nl/api\"\n",
    "text_doc = \"If you're going to try, go all the way - Charles Bukowski\"\n",
    "\n",
    "# Example EL.\n",
    "el_result = requests.post(API_URL, json={\n",
    "    \"text\": \"tesla\",\n",
    "    \"spans\": []\n",
    "}).json()\n",
    "\n",
    "# Example ED.\n",
    "ed_result = requests.post(API_URL, json={\n",
    "    \"text\": text_doc,\n",
    "    \"spans\": [(41, 16)]\n",
    "}).json()"
   ]
  },
  {
   "cell_type": "code",
   "execution_count": 28,
   "id": "e2535cd4-72ab-4eaf-9c4f-ff04693f9b08",
   "metadata": {},
   "outputs": [],
   "source": [
    "# requests.post(API_URL, json={\n",
    "#             \"text\": \"VW\",\n",
    "#             \"spans\": []\n",
    "#         }).json()"
   ]
  },
  {
   "cell_type": "code",
   "execution_count": 29,
   "id": "03ebbb4c-7cc1-405b-bfce-e466dae21a13",
   "metadata": {},
   "outputs": [
    {
     "data": {
      "text/plain": [
       "[[0,\n",
       "  4,\n",
       "  'tsla',\n",
       "  'Tesla,_Inc.',\n",
       "  0.38727825954758405,\n",
       "  0.44483524560928345,\n",
       "  'ORG']]"
      ]
     },
     "execution_count": 29,
     "metadata": {},
     "output_type": "execute_result"
    }
   ],
   "source": [
    "el_result"
   ]
  },
  {
   "cell_type": "code",
   "execution_count": null,
   "id": "ec03b348-7cdc-478d-b00c-a01d7579927f",
   "metadata": {},
   "outputs": [],
   "source": []
  },
  {
   "cell_type": "code",
   "execution_count": 6,
   "id": "904905fc-b92d-4aba-ac6b-1c534ed14643",
   "metadata": {},
   "outputs": [],
   "source": [
    "user_query = \"tsla\"\n",
    "\n",
    "# Example normalization and lookup\n",
    "normalized_query = user_query.lower().replace(\"_\", \"\").replace(\"-\", \"\")\n",
    "entity_lookup = {\n",
    "    \"tesla\": \"Tesla_Inc\",\n",
    "    \"apple\": \"Apple_Inc\",\n",
    "    # Add more mappings as needed\n",
    "}\n",
    "\n",
    "# Attempt to find a direct match in the lookup table\n",
    "standardized_entity_name = entity_lookup.get(normalized_query, None)\n",
    "\n",
    "if standardized_entity_name:\n",
    "    # Proceed to query the database using the standardized name\n",
    "    pass\n",
    "else:\n",
    "    # Fallback to a more flexible search in the database, perhaps using fuzzy matching\n",
    "    pass\n"
   ]
  },
  {
   "cell_type": "code",
   "execution_count": 8,
   "id": "3545048d-b26f-4927-86be-f237696afc1e",
   "metadata": {},
   "outputs": [
    {
     "data": {
      "text/plain": [
       "'tsla'"
      ]
     },
     "execution_count": 8,
     "metadata": {},
     "output_type": "execute_result"
    }
   ],
   "source": [
    "normalized_query"
   ]
  },
  {
   "cell_type": "code",
   "execution_count": null,
   "id": "23330c61-5bb1-490c-a00d-b6a7116a9418",
   "metadata": {},
   "outputs": [],
   "source": []
  }
 ],
 "metadata": {
  "kernelspec": {
   "display_name": "Python 3 (ipykernel)",
   "language": "python",
   "name": "python3"
  },
  "language_info": {
   "codemirror_mode": {
    "name": "ipython",
    "version": 3
   },
   "file_extension": ".py",
   "mimetype": "text/x-python",
   "name": "python",
   "nbconvert_exporter": "python",
   "pygments_lexer": "ipython3",
   "version": "3.11.7"
  }
 },
 "nbformat": 4,
 "nbformat_minor": 5
}
