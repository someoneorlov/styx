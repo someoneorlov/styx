{
 "cells": [
  {
   "cell_type": "code",
   "execution_count": 1,
   "id": "b9060cd8-fa4b-496c-a9de-79046848d218",
   "metadata": {
    "tags": []
   },
   "outputs": [],
   "source": [
    "import sys\n",
    "\n",
    "import feedparser\n",
    "import newspaper"
   ]
  },
  {
   "cell_type": "code",
   "execution_count": 2,
   "id": "afa9111e-b277-4d84-8699-72ae164d185f",
   "metadata": {},
   "outputs": [],
   "source": [
    "feed_url = 'https://news.google.com/rss/topics/CAAqJggKIiBDQkFTRWdvSUwyMHZNRGx6TVdZU0FtVnVHZ0pWVXlnQVAB?hl=en-US&gl=US&ceid=US%3Aen'"
   ]
  },
  {
   "cell_type": "code",
   "execution_count": 21,
   "id": "939dd322-1f87-4c06-a736-4b05a04c1312",
   "metadata": {
    "tags": []
   },
   "outputs": [
    {
     "name": "stdout",
     "output_type": "stream",
     "text": [
      "0\n",
      "1\n",
      "2\n",
      "3\n",
      "4\n",
      "5\n",
      "6\n",
      "7\n",
      "8\n",
      "9\n",
      "10\n",
      "11\n",
      "12\n",
      "13\n",
      "14\n",
      "15\n",
      "16\n",
      "17\n",
      "18\n",
      "19\n",
      "20\n"
     ]
    }
   ],
   "source": [
    "import newspaper\n",
    "import feedparser\n",
    "\n",
    "limit = 20\n",
    "\n",
    "def scrape_news_from_feed(feed_url):\n",
    "    articles = []\n",
    "    failed_parses = []\n",
    "    feed = feedparser.parse(feed_url)\n",
    "    for i, entry in enumerate(feed.entries):\n",
    "        print(i)\n",
    "        if i == limit:\n",
    "            break\n",
    "        # create a newspaper article object\n",
    "        article = newspaper.Article(entry.link)\n",
    "        # download and parse the article\n",
    "        article.download()\n",
    "        try:\n",
    "            article.parse()\n",
    "            articles.append({\n",
    "                'title': article.title,\n",
    "                'text': article.text, \n",
    "                'publish_date': article.publish_date,\n",
    "                'authors': article.authors,\n",
    "                'canonical_link': article.canonical_link, \n",
    "                'feed_link': feed.entries[i].link, \n",
    "                'media_link': feed.entries[i]['source']['href'], \n",
    "                'media_title': feed.entries[i]['source']['title']\n",
    "                })\n",
    "        except newspaper.article.ArticleException:\n",
    "            err = sys.exc_info()\n",
    "            failed_parses.append({\n",
    "                'title': feed.entries[i].title,\n",
    "                'text': None, \n",
    "                'publish_date': feed.entries[1]['published_parsed'],\n",
    "                'authors': None,\n",
    "                'canonical_link': article.download_exception_msg, # after first two :: regex 403 Client Error: Forbidden for url:\n",
    "                'feed_link': feed.entries[i].link, \n",
    "                'media_link': feed.entries[i]['source']['href'], \n",
    "                'media_title': feed.entries[i]['source']['title'],\n",
    "                'exceprion_class': None, # exception class newspaper.article.ArticleException or err\n",
    "                'exceprion_text': article.download_exception_msg # first two :: regex 403 Client Error: Forbidden for url:\n",
    "                })\n",
    "        except Exception as err:\n",
    "            # catch any other exceprion\n",
    "            pass\n",
    "    return articles, failed_parses\n",
    "\n",
    "\n",
    "feed_url = feed_url\n",
    "articles, failed_parses = scrape_news_from_feed(feed_url)\n",
    "\n",
    "# print the extracted articles\n",
    "# for article in articles:\n",
    "#     print('Title:', article['title'])\n",
    "#     print('Author:', article['author'])\n",
    "#     print('Publish Date:', article['publish_date'])\n",
    "#     print('Content:', article['content'])\n",
    "#     print()\n"
   ]
  },
  {
   "cell_type": "code",
   "execution_count": 22,
   "id": "a35a5c3a-289e-4f8b-a747-04077d1d8c61",
   "metadata": {
    "tags": []
   },
   "outputs": [
    {
     "data": {
      "text/html": [
       "<div>\n",
       "<style scoped>\n",
       "    .dataframe tbody tr th:only-of-type {\n",
       "        vertical-align: middle;\n",
       "    }\n",
       "\n",
       "    .dataframe tbody tr th {\n",
       "        vertical-align: top;\n",
       "    }\n",
       "\n",
       "    .dataframe thead th {\n",
       "        text-align: right;\n",
       "    }\n",
       "</style>\n",
       "<table border=\"1\" class=\"dataframe\">\n",
       "  <thead>\n",
       "    <tr style=\"text-align: right;\">\n",
       "      <th></th>\n",
       "      <th>title</th>\n",
       "      <th>text</th>\n",
       "      <th>publish_date</th>\n",
       "      <th>authors</th>\n",
       "      <th>canonical_link</th>\n",
       "      <th>feed_link</th>\n",
       "      <th>media_link</th>\n",
       "      <th>media_title</th>\n",
       "    </tr>\n",
       "  </thead>\n",
       "  <tbody>\n",
       "    <tr>\n",
       "      <th>0</th>\n",
       "      <td>Pence echoes Trump, links UAW strikes to Biden...</td>\n",
       "      <td>Former Vice President Mike Pence argued Tuesda...</td>\n",
       "      <td>2023-09-19 13:45:22+00:00</td>\n",
       "      <td>[Kevin Breuninger]</td>\n",
       "      <td>https://www.cnbc.com/2023/09/19/pence-echoes-t...</td>\n",
       "      <td>https://news.google.com/rss/articles/CBMiXWh0d...</td>\n",
       "      <td>https://www.cnbc.com</td>\n",
       "      <td>CNBC</td>\n",
       "    </tr>\n",
       "    <tr>\n",
       "      <th>1</th>\n",
       "      <td>Instacart prices IPO at $30 a share, valuing g...</td>\n",
       "      <td>Instacart, the grocery-delivery company that s...</td>\n",
       "      <td>2023-09-18 22:13:35+00:00</td>\n",
       "      <td>[Ari Levy]</td>\n",
       "      <td>https://www.cnbc.com/2023/09/18/instacart-pric...</td>\n",
       "      <td>https://news.google.com/rss/articles/CBMiR2h0d...</td>\n",
       "      <td>https://www.cnbc.com</td>\n",
       "      <td>CNBC</td>\n",
       "    </tr>\n",
       "    <tr>\n",
       "      <th>2</th>\n",
       "      <td>FTX sues Sam Bankman-Fried’s parents, claiming...</td>\n",
       "      <td>FTX is suing the parents of Sam Bankman-Fried,...</td>\n",
       "      <td>2023-09-19 15:44:28+00:00</td>\n",
       "      <td>[Lauren Aratani]</td>\n",
       "      <td>https://www.theguardian.com/business/2023/sep/...</td>\n",
       "      <td>https://news.google.com/rss/articles/CBMiU2h0d...</td>\n",
       "      <td>https://www.theguardian.com</td>\n",
       "      <td>The Guardian</td>\n",
       "    </tr>\n",
       "    <tr>\n",
       "      <th>3</th>\n",
       "      <td>Dow slides 200 points with investors on edge b...</td>\n",
       "      <td>Traders work on the floor of the New York Stoc...</td>\n",
       "      <td>2023-09-18 22:02:04+00:00</td>\n",
       "      <td>[Alex Harring Samantha Subin, Alex Harring, Sa...</td>\n",
       "      <td>https://www.cnbc.com/2023/09/18/stock-futures-...</td>\n",
       "      <td>https://news.google.com/rss/articles/CBMiRWh0d...</td>\n",
       "      <td>https://www.cnbc.com</td>\n",
       "      <td>CNBC</td>\n",
       "    </tr>\n",
       "    <tr>\n",
       "      <th>4</th>\n",
       "      <td>Canadian inflation jumps; October rate hike be...</td>\n",
       "      <td>OTTAWA, Sept 19 (Reuters) - Canada's annual in...</td>\n",
       "      <td>2023-09-19 15:06:23+00:00</td>\n",
       "      <td>[David Ljunggren Steve Scherer, David Ljunggre...</td>\n",
       "      <td>https://www.reuters.com/business/retail-consum...</td>\n",
       "      <td>https://news.google.com/rss/articles/CBMicWh0d...</td>\n",
       "      <td>https://www.reuters.com</td>\n",
       "      <td>Reuters</td>\n",
       "    </tr>\n",
       "    <tr>\n",
       "      <th>5</th>\n",
       "      <td>US Housing Starts Drop to Lowest Since 2020 Wh...</td>\n",
       "      <td>Bloomberg Crypto\\n\\n“Bloomberg Crypto” covers ...</td>\n",
       "      <td>2023-09-19 12:33:13.557000+00:00</td>\n",
       "      <td>[Reade Pickert, Updated On]</td>\n",
       "      <td>https://www.bloomberg.com/news/articles/2023-0...</td>\n",
       "      <td>https://news.google.com/rss/articles/CBMicWh0d...</td>\n",
       "      <td>https://www.bloomberg.com</td>\n",
       "      <td>Bloomberg</td>\n",
       "    </tr>\n",
       "    <tr>\n",
       "      <th>6</th>\n",
       "      <td>After a year of chaos, CNN bets on new CEO Tho...</td>\n",
       "      <td>In this article WBD Follow your favorite stock...</td>\n",
       "      <td>2023-09-19 14:16:18+00:00</td>\n",
       "      <td>[Alex Sherman]</td>\n",
       "      <td>https://www.cnbc.com/2023/09/19/new-cnn-ceo-ma...</td>\n",
       "      <td>https://news.google.com/rss/articles/CBMiaGh0d...</td>\n",
       "      <td>https://www.cnbc.com</td>\n",
       "      <td>CNBC</td>\n",
       "    </tr>\n",
       "    <tr>\n",
       "      <th>7</th>\n",
       "      <td>Chick-fil-A plans UK expansion after previousl...</td>\n",
       "      <td>Chick-fil-A announced last week its plans to l...</td>\n",
       "      <td>NaT</td>\n",
       "      <td>[]</td>\n",
       "      <td>https://www.usatoday.com/story/money/food/2023...</td>\n",
       "      <td>https://news.google.com/rss/articles/CBMiXGh0d...</td>\n",
       "      <td>https://www.usatoday.com</td>\n",
       "      <td>USA TODAY</td>\n",
       "    </tr>\n",
       "    <tr>\n",
       "      <th>8</th>\n",
       "      <td>X / Twitter to charge all users monthly subscr...</td>\n",
       "      <td>Get your credit card ready because it soon wil...</td>\n",
       "      <td>2023-09-19 12:30:58.825000+00:00</td>\n",
       "      <td>[Zach Mentz, Zmentz Cleveland.Com]</td>\n",
       "      <td>https://www.cleveland.com/news/2023/09/x-twitt...</td>\n",
       "      <td>https://news.google.com/rss/articles/CBMicWh0d...</td>\n",
       "      <td>https://www.cleveland.com</td>\n",
       "      <td>cleveland.com</td>\n",
       "    </tr>\n",
       "    <tr>\n",
       "      <th>9</th>\n",
       "      <td>What to expect from this week’s Fed meeting</td>\n",
       "      <td>Washington, DC CNN —\\n\\nThe Federal Reserve is...</td>\n",
       "      <td>2023-09-19 15:18:39+00:00</td>\n",
       "      <td>[Bryan Mena]</td>\n",
       "      <td>https://www.cnn.com/2023/09/19/economy/fed-mee...</td>\n",
       "      <td>https://news.google.com/rss/articles/CBMiT2h0d...</td>\n",
       "      <td>https://www.cnn.com</td>\n",
       "      <td>CNN</td>\n",
       "    </tr>\n",
       "    <tr>\n",
       "      <th>10</th>\n",
       "      <td>Meet Airbnb’s official party pooper, who reduc...</td>\n",
       "      <td>In this article ABNB Follow your favorite stoc...</td>\n",
       "      <td>2023-09-19 17:08:35+00:00</td>\n",
       "      <td>[Hayden Field]</td>\n",
       "      <td>https://www.cnbc.com/2023/09/19/airbnb-party-p...</td>\n",
       "      <td>https://news.google.com/rss/articles/CBMicGh0d...</td>\n",
       "      <td>https://www.cnbc.com</td>\n",
       "      <td>CNBC</td>\n",
       "    </tr>\n",
       "    <tr>\n",
       "      <th>11</th>\n",
       "      <td>Crude oil tops $95 a barrel raising fears of r...</td>\n",
       "      <td>The price of crude oil has topped $95 a barrel...</td>\n",
       "      <td>2023-09-19 12:07:15+00:00</td>\n",
       "      <td>[Julia Kollewe]</td>\n",
       "      <td>https://www.theguardian.com/business/2023/sep/...</td>\n",
       "      <td>https://news.google.com/rss/articles/CBMiZ2h0d...</td>\n",
       "      <td>https://www.theguardian.com</td>\n",
       "      <td>The Guardian</td>\n",
       "    </tr>\n",
       "    <tr>\n",
       "      <th>12</th>\n",
       "      <td>Family claims attendant on flight taped phone ...</td>\n",
       "      <td></td>\n",
       "      <td>NaT</td>\n",
       "      <td>[]</td>\n",
       "      <td>https://www.youtube.com/watch?v=t2iY00Y9Qeg</td>\n",
       "      <td>https://news.google.com/rss/articles/CCAiC3Qya...</td>\n",
       "      <td>https://www.youtube.com</td>\n",
       "      <td>KHOU 11</td>\n",
       "    </tr>\n",
       "    <tr>\n",
       "      <th>13</th>\n",
       "      <td>Amazon adding 250,000 workers for the holidays...</td>\n",
       "      <td>A worker sorts out parcels in the outbound doc...</td>\n",
       "      <td>2023-09-19 16:07:35+00:00</td>\n",
       "      <td>[Annie Palmer, In Annierpalmer]</td>\n",
       "      <td>https://www.cnbc.com/2023/09/19/amazon-adding-...</td>\n",
       "      <td>https://news.google.com/rss/articles/CBMiamh0d...</td>\n",
       "      <td>https://www.cnbc.com</td>\n",
       "      <td>CNBC</td>\n",
       "    </tr>\n",
       "    <tr>\n",
       "      <th>14</th>\n",
       "      <td>Rocket Lab suffers anomaly during launch, Eart...</td>\n",
       "      <td>Rocket Lab suffered an anomaly during the laun...</td>\n",
       "      <td>2023-09-19 07:36:59+00:00</td>\n",
       "      <td>[Mike Wall, Senior Space Writer, Social Links ...</td>\n",
       "      <td>https://www.space.com/rocket-lab-electron-laun...</td>\n",
       "      <td>https://news.google.com/rss/articles/CBMiR2h0d...</td>\n",
       "      <td>https://www.space.com</td>\n",
       "      <td>Space.com</td>\n",
       "    </tr>\n",
       "    <tr>\n",
       "      <th>15</th>\n",
       "      <td>Burner Laptops and Smaller Profits: Firms Port...</td>\n",
       "      <td>American companies doing business in China are...</td>\n",
       "      <td>2023-09-19 13:06:31+00:00</td>\n",
       "      <td>[Keith Bradsher, Alexandra Stevenson, More Abo...</td>\n",
       "      <td>https://www.nytimes.com/2023/09/19/business/am...</td>\n",
       "      <td>https://news.google.com/rss/articles/CBMiWWh0d...</td>\n",
       "      <td>https://www.nytimes.com</td>\n",
       "      <td>The New York Times</td>\n",
       "    </tr>\n",
       "    <tr>\n",
       "      <th>16</th>\n",
       "      <td>When is the next Powerball drawing? Jackpot ap...</td>\n",
       "      <td>The Powerball jackpot continues to climb after...</td>\n",
       "      <td>NaT</td>\n",
       "      <td>[]</td>\n",
       "      <td>https://www.usatoday.com/story/money/2023/09/1...</td>\n",
       "      <td>https://news.google.com/rss/articles/CBMiU2h0d...</td>\n",
       "      <td>https://www.usatoday.com</td>\n",
       "      <td>USA TODAY</td>\n",
       "    </tr>\n",
       "    <tr>\n",
       "      <th>17</th>\n",
       "      <td>Current Mortgage Rates for Sept. 19, 2023: Rat...</td>\n",
       "      <td>A few important mortgage rates moved downward ...</td>\n",
       "      <td>NaT</td>\n",
       "      <td>[Katherine Watt, See Full Bio, Katherine Watt ...</td>\n",
       "      <td>https://www.cnet.com/personal-finance/mortgage...</td>\n",
       "      <td>https://news.google.com/rss/articles/CBMiZmh0d...</td>\n",
       "      <td>https://www.cnet.com</td>\n",
       "      <td>CNET</td>\n",
       "    </tr>\n",
       "    <tr>\n",
       "      <th>18</th>\n",
       "      <td>Recession-hit Germany is facing a flurry of gl...</td>\n",
       "      <td>The victory column and TV tower are pictured i...</td>\n",
       "      <td>2023-09-19 11:19:24+00:00</td>\n",
       "      <td>[Hannah Ward-Glenton]</td>\n",
       "      <td>https://www.cnbc.com/2023/09/19/recession-hit-...</td>\n",
       "      <td>https://news.google.com/rss/articles/CBMib2h0d...</td>\n",
       "      <td>https://www.cnbc.com</td>\n",
       "      <td>CNBC</td>\n",
       "    </tr>\n",
       "  </tbody>\n",
       "</table>\n",
       "</div>"
      ],
      "text/plain": [
       "                                                title   \n",
       "0   Pence echoes Trump, links UAW strikes to Biden...  \\\n",
       "1   Instacart prices IPO at $30 a share, valuing g...   \n",
       "2   FTX sues Sam Bankman-Fried’s parents, claiming...   \n",
       "3   Dow slides 200 points with investors on edge b...   \n",
       "4   Canadian inflation jumps; October rate hike be...   \n",
       "5   US Housing Starts Drop to Lowest Since 2020 Wh...   \n",
       "6   After a year of chaos, CNN bets on new CEO Tho...   \n",
       "7   Chick-fil-A plans UK expansion after previousl...   \n",
       "8   X / Twitter to charge all users monthly subscr...   \n",
       "9         What to expect from this week’s Fed meeting   \n",
       "10  Meet Airbnb’s official party pooper, who reduc...   \n",
       "11  Crude oil tops $95 a barrel raising fears of r...   \n",
       "12  Family claims attendant on flight taped phone ...   \n",
       "13  Amazon adding 250,000 workers for the holidays...   \n",
       "14  Rocket Lab suffers anomaly during launch, Eart...   \n",
       "15  Burner Laptops and Smaller Profits: Firms Port...   \n",
       "16  When is the next Powerball drawing? Jackpot ap...   \n",
       "17  Current Mortgage Rates for Sept. 19, 2023: Rat...   \n",
       "18  Recession-hit Germany is facing a flurry of gl...   \n",
       "\n",
       "                                                 text   \n",
       "0   Former Vice President Mike Pence argued Tuesda...  \\\n",
       "1   Instacart, the grocery-delivery company that s...   \n",
       "2   FTX is suing the parents of Sam Bankman-Fried,...   \n",
       "3   Traders work on the floor of the New York Stoc...   \n",
       "4   OTTAWA, Sept 19 (Reuters) - Canada's annual in...   \n",
       "5   Bloomberg Crypto\\n\\n“Bloomberg Crypto” covers ...   \n",
       "6   In this article WBD Follow your favorite stock...   \n",
       "7   Chick-fil-A announced last week its plans to l...   \n",
       "8   Get your credit card ready because it soon wil...   \n",
       "9   Washington, DC CNN —\\n\\nThe Federal Reserve is...   \n",
       "10  In this article ABNB Follow your favorite stoc...   \n",
       "11  The price of crude oil has topped $95 a barrel...   \n",
       "12                                                      \n",
       "13  A worker sorts out parcels in the outbound doc...   \n",
       "14  Rocket Lab suffered an anomaly during the laun...   \n",
       "15  American companies doing business in China are...   \n",
       "16  The Powerball jackpot continues to climb after...   \n",
       "17  A few important mortgage rates moved downward ...   \n",
       "18  The victory column and TV tower are pictured i...   \n",
       "\n",
       "                       publish_date   \n",
       "0         2023-09-19 13:45:22+00:00  \\\n",
       "1         2023-09-18 22:13:35+00:00   \n",
       "2         2023-09-19 15:44:28+00:00   \n",
       "3         2023-09-18 22:02:04+00:00   \n",
       "4         2023-09-19 15:06:23+00:00   \n",
       "5  2023-09-19 12:33:13.557000+00:00   \n",
       "6         2023-09-19 14:16:18+00:00   \n",
       "7                               NaT   \n",
       "8  2023-09-19 12:30:58.825000+00:00   \n",
       "9         2023-09-19 15:18:39+00:00   \n",
       "10        2023-09-19 17:08:35+00:00   \n",
       "11        2023-09-19 12:07:15+00:00   \n",
       "12                              NaT   \n",
       "13        2023-09-19 16:07:35+00:00   \n",
       "14        2023-09-19 07:36:59+00:00   \n",
       "15        2023-09-19 13:06:31+00:00   \n",
       "16                              NaT   \n",
       "17                              NaT   \n",
       "18        2023-09-19 11:19:24+00:00   \n",
       "\n",
       "                                              authors   \n",
       "0                                  [Kevin Breuninger]  \\\n",
       "1                                          [Ari Levy]   \n",
       "2                                    [Lauren Aratani]   \n",
       "3   [Alex Harring Samantha Subin, Alex Harring, Sa...   \n",
       "4   [David Ljunggren Steve Scherer, David Ljunggre...   \n",
       "5                         [Reade Pickert, Updated On]   \n",
       "6                                      [Alex Sherman]   \n",
       "7                                                  []   \n",
       "8                  [Zach Mentz, Zmentz Cleveland.Com]   \n",
       "9                                        [Bryan Mena]   \n",
       "10                                     [Hayden Field]   \n",
       "11                                    [Julia Kollewe]   \n",
       "12                                                 []   \n",
       "13                    [Annie Palmer, In Annierpalmer]   \n",
       "14  [Mike Wall, Senior Space Writer, Social Links ...   \n",
       "15  [Keith Bradsher, Alexandra Stevenson, More Abo...   \n",
       "16                                                 []   \n",
       "17  [Katherine Watt, See Full Bio, Katherine Watt ...   \n",
       "18                              [Hannah Ward-Glenton]   \n",
       "\n",
       "                                       canonical_link   \n",
       "0   https://www.cnbc.com/2023/09/19/pence-echoes-t...  \\\n",
       "1   https://www.cnbc.com/2023/09/18/instacart-pric...   \n",
       "2   https://www.theguardian.com/business/2023/sep/...   \n",
       "3   https://www.cnbc.com/2023/09/18/stock-futures-...   \n",
       "4   https://www.reuters.com/business/retail-consum...   \n",
       "5   https://www.bloomberg.com/news/articles/2023-0...   \n",
       "6   https://www.cnbc.com/2023/09/19/new-cnn-ceo-ma...   \n",
       "7   https://www.usatoday.com/story/money/food/2023...   \n",
       "8   https://www.cleveland.com/news/2023/09/x-twitt...   \n",
       "9   https://www.cnn.com/2023/09/19/economy/fed-mee...   \n",
       "10  https://www.cnbc.com/2023/09/19/airbnb-party-p...   \n",
       "11  https://www.theguardian.com/business/2023/sep/...   \n",
       "12        https://www.youtube.com/watch?v=t2iY00Y9Qeg   \n",
       "13  https://www.cnbc.com/2023/09/19/amazon-adding-...   \n",
       "14  https://www.space.com/rocket-lab-electron-laun...   \n",
       "15  https://www.nytimes.com/2023/09/19/business/am...   \n",
       "16  https://www.usatoday.com/story/money/2023/09/1...   \n",
       "17  https://www.cnet.com/personal-finance/mortgage...   \n",
       "18  https://www.cnbc.com/2023/09/19/recession-hit-...   \n",
       "\n",
       "                                            feed_link   \n",
       "0   https://news.google.com/rss/articles/CBMiXWh0d...  \\\n",
       "1   https://news.google.com/rss/articles/CBMiR2h0d...   \n",
       "2   https://news.google.com/rss/articles/CBMiU2h0d...   \n",
       "3   https://news.google.com/rss/articles/CBMiRWh0d...   \n",
       "4   https://news.google.com/rss/articles/CBMicWh0d...   \n",
       "5   https://news.google.com/rss/articles/CBMicWh0d...   \n",
       "6   https://news.google.com/rss/articles/CBMiaGh0d...   \n",
       "7   https://news.google.com/rss/articles/CBMiXGh0d...   \n",
       "8   https://news.google.com/rss/articles/CBMicWh0d...   \n",
       "9   https://news.google.com/rss/articles/CBMiT2h0d...   \n",
       "10  https://news.google.com/rss/articles/CBMicGh0d...   \n",
       "11  https://news.google.com/rss/articles/CBMiZ2h0d...   \n",
       "12  https://news.google.com/rss/articles/CCAiC3Qya...   \n",
       "13  https://news.google.com/rss/articles/CBMiamh0d...   \n",
       "14  https://news.google.com/rss/articles/CBMiR2h0d...   \n",
       "15  https://news.google.com/rss/articles/CBMiWWh0d...   \n",
       "16  https://news.google.com/rss/articles/CBMiU2h0d...   \n",
       "17  https://news.google.com/rss/articles/CBMiZmh0d...   \n",
       "18  https://news.google.com/rss/articles/CBMib2h0d...   \n",
       "\n",
       "                     media_link         media_title  \n",
       "0          https://www.cnbc.com                CNBC  \n",
       "1          https://www.cnbc.com                CNBC  \n",
       "2   https://www.theguardian.com        The Guardian  \n",
       "3          https://www.cnbc.com                CNBC  \n",
       "4       https://www.reuters.com             Reuters  \n",
       "5     https://www.bloomberg.com           Bloomberg  \n",
       "6          https://www.cnbc.com                CNBC  \n",
       "7      https://www.usatoday.com           USA TODAY  \n",
       "8     https://www.cleveland.com       cleveland.com  \n",
       "9           https://www.cnn.com                 CNN  \n",
       "10         https://www.cnbc.com                CNBC  \n",
       "11  https://www.theguardian.com        The Guardian  \n",
       "12      https://www.youtube.com             KHOU 11  \n",
       "13         https://www.cnbc.com                CNBC  \n",
       "14        https://www.space.com           Space.com  \n",
       "15      https://www.nytimes.com  The New York Times  \n",
       "16     https://www.usatoday.com           USA TODAY  \n",
       "17         https://www.cnet.com                CNET  \n",
       "18         https://www.cnbc.com                CNBC  "
      ]
     },
     "execution_count": 22,
     "metadata": {},
     "output_type": "execute_result"
    }
   ],
   "source": [
    "import pandas as pd\n",
    "pd.DataFrame(articles)"
   ]
  },
  {
   "cell_type": "code",
   "execution_count": null,
   "id": "55f674a9-687a-4613-ba8f-097dbc6bdaad",
   "metadata": {},
   "outputs": [],
   "source": []
  },
  {
   "cell_type": "code",
   "execution_count": 23,
   "id": "d8f1bf17-9f1c-416c-aeb7-d4e157db09c3",
   "metadata": {
    "tags": []
   },
   "outputs": [
    {
     "data": {
      "text/html": [
       "<div>\n",
       "<style scoped>\n",
       "    .dataframe tbody tr th:only-of-type {\n",
       "        vertical-align: middle;\n",
       "    }\n",
       "\n",
       "    .dataframe tbody tr th {\n",
       "        vertical-align: top;\n",
       "    }\n",
       "\n",
       "    .dataframe thead th {\n",
       "        text-align: right;\n",
       "    }\n",
       "</style>\n",
       "<table border=\"1\" class=\"dataframe\">\n",
       "  <thead>\n",
       "    <tr style=\"text-align: right;\">\n",
       "      <th></th>\n",
       "      <th>title</th>\n",
       "      <th>text</th>\n",
       "      <th>publish_date</th>\n",
       "      <th>authors</th>\n",
       "      <th>canonical_link</th>\n",
       "      <th>feed_link</th>\n",
       "      <th>media_link</th>\n",
       "      <th>media_title</th>\n",
       "      <th>exceprion_class</th>\n",
       "      <th>exceprion_text</th>\n",
       "    </tr>\n",
       "  </thead>\n",
       "  <tbody>\n",
       "    <tr>\n",
       "      <th>0</th>\n",
       "      <td>Disney to Invest $60 Billion in Theme Parks, C...</td>\n",
       "      <td>None</td>\n",
       "      <td>(2023, 9, 18, 22, 13, 35, 0, 261, 0)</td>\n",
       "      <td>None</td>\n",
       "      <td>403 Client Error: Forbidden for url: https://w...</td>\n",
       "      <td>https://news.google.com/rss/articles/CBMib2h0d...</td>\n",
       "      <td>https://www.wsj.com</td>\n",
       "      <td>The Wall Street Journal</td>\n",
       "      <td>None</td>\n",
       "      <td>403 Client Error: Forbidden for url: https://w...</td>\n",
       "    </tr>\n",
       "  </tbody>\n",
       "</table>\n",
       "</div>"
      ],
      "text/plain": [
       "                                               title  text   \n",
       "0  Disney to Invest $60 Billion in Theme Parks, C...  None  \\\n",
       "\n",
       "                           publish_date authors   \n",
       "0  (2023, 9, 18, 22, 13, 35, 0, 261, 0)    None  \\\n",
       "\n",
       "                                      canonical_link   \n",
       "0  403 Client Error: Forbidden for url: https://w...  \\\n",
       "\n",
       "                                           feed_link           media_link   \n",
       "0  https://news.google.com/rss/articles/CBMib2h0d...  https://www.wsj.com  \\\n",
       "\n",
       "               media_title exceprion_class   \n",
       "0  The Wall Street Journal            None  \\\n",
       "\n",
       "                                      exceprion_text  \n",
       "0  403 Client Error: Forbidden for url: https://w...  "
      ]
     },
     "execution_count": 23,
     "metadata": {},
     "output_type": "execute_result"
    }
   ],
   "source": [
    "pd.DataFrame(failed_parses)"
   ]
  },
  {
   "cell_type": "code",
   "execution_count": null,
   "id": "da6ba64e-20e7-4eb8-a487-65c77e1c231a",
   "metadata": {},
   "outputs": [],
   "source": []
  },
  {
   "cell_type": "code",
   "execution_count": null,
   "id": "1a2672e3-6bfc-4602-83d5-fc9224433a15",
   "metadata": {},
   "outputs": [],
   "source": []
  },
  {
   "cell_type": "code",
   "execution_count": null,
   "id": "7988b7a9-ebe1-4f1c-82d5-a64ba80e33c5",
   "metadata": {},
   "outputs": [],
   "source": [
    "articles.append({\n",
    "    'title': article.title,\n",
    "    'text': article.text, \n",
    "    'publish_date': article.publish_date,\n",
    "    'authors': article.authors,\n",
    "    'canonical_link': article.canonical_link, \n",
    "    'feed_link': feed.entries[i].link, \n",
    "    'media_link': feed.entries[i]['source']['href'], \n",
    "    'media_title': feed.entries[i]['source']['title']\n",
    "    })"
   ]
  },
  {
   "cell_type": "code",
   "execution_count": null,
   "id": "f73b61ca-6dbc-47b8-be5e-56956698abde",
   "metadata": {},
   "outputs": [],
   "source": [
    "article.title, \n",
    "article.text, \n",
    "article.publish_date,\n",
    "article.authors, \n",
    "article.canonical_link, \n",
    "feed.entries[0].link, \n",
    "feed.entries[1]['source']['href'], \n",
    "feed.entries[1]['source']['title']\n",
    "article.is_parsed"
   ]
  },
  {
   "cell_type": "code",
   "execution_count": null,
   "id": "3ca02336-a79d-4104-8388-4603966f6279",
   "metadata": {},
   "outputs": [],
   "source": [
    "feed.entries[1].title, \n",
    "None, \n",
    "feed.entries[1]['published_parsed']\n",
    "None, \n",
    "None, \n",
    "feed.entries[0].link, \n",
    "feed.entries[1]['source']['href'], \n",
    "feed.entries[1]['source']['title']\n",
    "article.is_parsed\n",
    "# exception class newspaper.article.ArticleException or err\n",
    "article.download_exception_msg # first two :: regex 403 Client Error: Forbidden for url:\n"
   ]
  },
  {
   "cell_type": "code",
   "execution_count": null,
   "id": "72822b33-defc-4ecd-9721-9b689fb41900",
   "metadata": {},
   "outputs": [],
   "source": [
    "feed.entries[1].is"
   ]
  },
  {
   "cell_type": "code",
   "execution_count": null,
   "id": "0f599ab2-1450-4407-89ed-61439693c7f7",
   "metadata": {},
   "outputs": [],
   "source": []
  },
  {
   "cell_type": "code",
   "execution_count": 8,
   "id": "68529c79-affc-4640-b8c5-e380f4b41901",
   "metadata": {
    "tags": []
   },
   "outputs": [
    {
     "data": {
      "text/plain": [
       "{'title': \"Pence echoes Trump, links UAW strikes to Biden EV push: 'Good for Beijing, bad for Detroit'\",\n",
       " 'author': ['Kevin Breuninger'],\n",
       " 'publish_date': datetime.datetime(2023, 9, 19, 13, 45, 22, tzinfo=tzutc()),\n",
       " 'content': 'Former Vice President Mike Pence argued Tuesday that the Biden administration\\'s push toward electric vehicles was to blame for the historic United Auto Workers strikes underway at the Big Three Detroit carmakers\\' plants.\\n\\n\"I guarantee you that one of the things that\\'s driving that strike is that Bidenomics and their green energy, electric vehicle agenda is good for Beijing and bad for Detroit, and American autoworkers know it,\" Pence said on CNBC\\'s \"Squawk Box.\"\\n\\nThe strikes are a \"reflection of the failed economic policies of the Biden administration,\" said Pence, whose campaign to win the 2024 Republican presidential has struggled to gain traction in the polls.\\n\\n\"This drive toward electric vehicles, driving people away from gasoline-powered vehicles, any auto worker that\\'s paying attention would know that\\'s not in their long-term interest,\" he said.\\n\\nPence\\'s stance on the strikes echoed the one pushed by his former boss, ex-President Donald Trump, the current front-runner in the GOP nomination contest.'}"
      ]
     },
     "execution_count": 8,
     "metadata": {},
     "output_type": "execute_result"
    }
   ],
   "source": [
    "articles[0]"
   ]
  },
  {
   "cell_type": "code",
   "execution_count": 9,
   "id": "1882937d-3f3e-4ae3-91a5-d2ad03896d98",
   "metadata": {
    "tags": []
   },
   "outputs": [
    {
     "data": {
      "text/plain": [
       "{'title': '', 'author': [], 'publish_date': '', 'content': ''}"
      ]
     },
     "execution_count": 9,
     "metadata": {},
     "output_type": "execute_result"
    }
   ],
   "source": [
    "articles[1]"
   ]
  },
  {
   "cell_type": "code",
   "execution_count": 3,
   "id": "840f550b-7543-468c-afb1-1eed061707fe",
   "metadata": {
    "tags": []
   },
   "outputs": [],
   "source": [
    "feed = feedparser.parse(feed_url)"
   ]
  },
  {
   "cell_type": "code",
   "execution_count": 6,
   "id": "ff31c409-1142-48fc-aea8-28da586d7871",
   "metadata": {
    "tags": []
   },
   "outputs": [
    {
     "name": "stdout",
     "output_type": "stream",
     "text": [
      "title\n",
      "Disney to Invest $60 Billion in Theme Parks, Cruises Over Next Decade - The Wall Street Journal\n",
      "==========\n",
      "title_detail\n",
      "{'type': 'text/plain', 'language': None, 'base': 'https://news.google.com/rss/topics/CAAqJggKIiBDQkFTRWdvSUwyMHZNRGx6TVdZU0FtVnVHZ0pWVXlnQVAB?hl=en-US&gl=US&ceid=US%3Aen', 'value': 'Disney to Invest $60 Billion in Theme Parks, Cruises Over Next Decade - The Wall Street Journal'}\n",
      "==========\n",
      "links\n",
      "[{'rel': 'alternate', 'type': 'text/html', 'href': 'https://news.google.com/rss/articles/CBMib2h0dHBzOi8vd3d3Lndzai5jb20vYnVzaW5lc3MvbWVkaWEvZGlzbmV5LXRvLWludmVzdC02MC1iaWxsaW9uLWluLXRoZW1lLXBhcmtzLWNydWlzZXMtb3Zlci1uZXh0LWRlY2FkZS02ZmM4NzQyNtIBAA?oc=5'}]\n",
      "==========\n",
      "link\n",
      "https://news.google.com/rss/articles/CBMib2h0dHBzOi8vd3d3Lndzai5jb20vYnVzaW5lc3MvbWVkaWEvZGlzbmV5LXRvLWludmVzdC02MC1iaWxsaW9uLWluLXRoZW1lLXBhcmtzLWNydWlzZXMtb3Zlci1uZXh0LWRlY2FkZS02ZmM4NzQyNtIBAA?oc=5\n",
      "==========\n",
      "id\n",
      "2447222822\n",
      "==========\n",
      "guidislink\n",
      "False\n",
      "==========\n",
      "published\n",
      "Tue, 19 Sep 2023 13:49:00 GMT\n",
      "==========\n",
      "published_parsed\n",
      "time.struct_time(tm_year=2023, tm_mon=9, tm_mday=19, tm_hour=13, tm_min=49, tm_sec=0, tm_wday=1, tm_yday=262, tm_isdst=0)\n",
      "==========\n",
      "summary\n",
      "<ol><li><a href=\"https://news.google.com/rss/articles/CBMib2h0dHBzOi8vd3d3Lndzai5jb20vYnVzaW5lc3MvbWVkaWEvZGlzbmV5LXRvLWludmVzdC02MC1iaWxsaW9uLWluLXRoZW1lLXBhcmtzLWNydWlzZXMtb3Zlci1uZXh0LWRlY2FkZS02ZmM4NzQyNtIBAA?oc=5\" target=\"_blank\">Disney to Invest $60 Billion in Theme Parks, Cruises Over Next Decade</a>&nbsp;&nbsp;<font color=\"#6f6f6f\">The Wall Street Journal</font></li><li><a href=\"https://news.google.com/rss/articles/CBMicWh0dHBzOi8vd3d3LmNuYmMuY29tLzIwMjMvMDkvMTkvZGlzbmV5LXBsYW5zLXRvLXNwZWVkLXVwLWFuZC1leHBhbmQtaW52ZXN0bWVudC1pbi1wYXJrcy1hbmQtY3J1aXNlcy1idXNpbmVzcy5odG1s0gF1aHR0cHM6Ly93d3cuY25iYy5jb20vYW1wLzIwMjMvMDkvMTkvZGlzbmV5LXBsYW5zLXRvLXNwZWVkLXVwLWFuZC1leHBhbmQtaW52ZXN0bWVudC1pbi1wYXJrcy1hbmQtY3J1aXNlcy1idXNpbmVzcy5odG1s?oc=5\" target=\"_blank\">Disney plans to nearly double its investment in parks and cruises business</a>&nbsp;&nbsp;<font color=\"#6f6f6f\">CNBC</font></li><li><a href=\"https://news.google.com/rss/articles/CBMif2h0dHBzOi8vd3d3LmhvbGx5d29vZHJlcG9ydGVyLmNvbS9idXNpbmVzcy9idXNpbmVzcy1uZXdzL2Rpc25leS1wbGFucy1leHBhbnNpb24tZGlzbmV5LXdvcmxkLWRpc25leWxhbmQtY3J1aXNlLWxpbmUtMTIzNTU5MzY2OS_SAYMBaHR0cHM6Ly93d3cuaG9sbHl3b29kcmVwb3J0ZXIuY29tL2J1c2luZXNzL2J1c2luZXNzLW5ld3MvZGlzbmV5LXBsYW5zLWV4cGFuc2lvbi1kaXNuZXktd29ybGQtZGlzbmV5bGFuZC1jcnVpc2UtbGluZS0xMjM1NTkzNjY5L2FtcC8?oc=5\" target=\"_blank\">Disney Plans $60B Expansion of Theme Parks Business</a>&nbsp;&nbsp;<font color=\"#6f6f6f\">Hollywood Reporter</font></li><li><a href=\"https://news.google.com/rss/articles/CBMibWh0dHBzOi8vZGVhZGxpbmUuY29tLzIwMjMvMDkvZGlzbmV5LXN0b2NrLXNsaXBzLXBsYW4tdG8tZG91YmxlLXNwZW5kaW5nLW9uLXRoZW1lLXBhcmtzLWRpc25leWxhbmQtMTIzNTU1MDMyNy_SAXFodHRwczovL2RlYWRsaW5lLmNvbS8yMDIzLzA5L2Rpc25leS1zdG9jay1zbGlwcy1wbGFuLXRvLWRvdWJsZS1zcGVuZGluZy1vbi10aGVtZS1wYXJrcy1kaXNuZXlsYW5kLTEyMzU1NTAzMjcvYW1wLw?oc=5\" target=\"_blank\">Disney Stock Slips After Media Giant Unveils Plan To Double Spending On Theme Parks To $60B Over Next 10 Years</a>&nbsp;&nbsp;<font color=\"#6f6f6f\">Deadline</font></li><li><strong><a href=\"https://news.google.com/stories/CAAqNggKIjBDQklTSGpvSmMzUnZjbmt0TXpZd1NoRUtEd2ltMFBhT0NSR1IyNmhJUzBRek9DZ0FQAQ?hl=en-US&amp;gl=US&amp;ceid=US:en&amp;oc=5\" target=\"_blank\">View Full Coverage on Google News</a></strong></li></ol>\n",
      "==========\n",
      "summary_detail\n",
      "{'type': 'text/html', 'language': None, 'base': 'https://news.google.com/rss/topics/CAAqJggKIiBDQkFTRWdvSUwyMHZNRGx6TVdZU0FtVnVHZ0pWVXlnQVAB?hl=en-US&gl=US&ceid=US%3Aen', 'value': '<ol><li><a href=\"https://news.google.com/rss/articles/CBMib2h0dHBzOi8vd3d3Lndzai5jb20vYnVzaW5lc3MvbWVkaWEvZGlzbmV5LXRvLWludmVzdC02MC1iaWxsaW9uLWluLXRoZW1lLXBhcmtzLWNydWlzZXMtb3Zlci1uZXh0LWRlY2FkZS02ZmM4NzQyNtIBAA?oc=5\" target=\"_blank\">Disney to Invest $60 Billion in Theme Parks, Cruises Over Next Decade</a>&nbsp;&nbsp;<font color=\"#6f6f6f\">The Wall Street Journal</font></li><li><a href=\"https://news.google.com/rss/articles/CBMicWh0dHBzOi8vd3d3LmNuYmMuY29tLzIwMjMvMDkvMTkvZGlzbmV5LXBsYW5zLXRvLXNwZWVkLXVwLWFuZC1leHBhbmQtaW52ZXN0bWVudC1pbi1wYXJrcy1hbmQtY3J1aXNlcy1idXNpbmVzcy5odG1s0gF1aHR0cHM6Ly93d3cuY25iYy5jb20vYW1wLzIwMjMvMDkvMTkvZGlzbmV5LXBsYW5zLXRvLXNwZWVkLXVwLWFuZC1leHBhbmQtaW52ZXN0bWVudC1pbi1wYXJrcy1hbmQtY3J1aXNlcy1idXNpbmVzcy5odG1s?oc=5\" target=\"_blank\">Disney plans to nearly double its investment in parks and cruises business</a>&nbsp;&nbsp;<font color=\"#6f6f6f\">CNBC</font></li><li><a href=\"https://news.google.com/rss/articles/CBMif2h0dHBzOi8vd3d3LmhvbGx5d29vZHJlcG9ydGVyLmNvbS9idXNpbmVzcy9idXNpbmVzcy1uZXdzL2Rpc25leS1wbGFucy1leHBhbnNpb24tZGlzbmV5LXdvcmxkLWRpc25leWxhbmQtY3J1aXNlLWxpbmUtMTIzNTU5MzY2OS_SAYMBaHR0cHM6Ly93d3cuaG9sbHl3b29kcmVwb3J0ZXIuY29tL2J1c2luZXNzL2J1c2luZXNzLW5ld3MvZGlzbmV5LXBsYW5zLWV4cGFuc2lvbi1kaXNuZXktd29ybGQtZGlzbmV5bGFuZC1jcnVpc2UtbGluZS0xMjM1NTkzNjY5L2FtcC8?oc=5\" target=\"_blank\">Disney Plans $60B Expansion of Theme Parks Business</a>&nbsp;&nbsp;<font color=\"#6f6f6f\">Hollywood Reporter</font></li><li><a href=\"https://news.google.com/rss/articles/CBMibWh0dHBzOi8vZGVhZGxpbmUuY29tLzIwMjMvMDkvZGlzbmV5LXN0b2NrLXNsaXBzLXBsYW4tdG8tZG91YmxlLXNwZW5kaW5nLW9uLXRoZW1lLXBhcmtzLWRpc25leWxhbmQtMTIzNTU1MDMyNy_SAXFodHRwczovL2RlYWRsaW5lLmNvbS8yMDIzLzA5L2Rpc25leS1zdG9jay1zbGlwcy1wbGFuLXRvLWRvdWJsZS1zcGVuZGluZy1vbi10aGVtZS1wYXJrcy1kaXNuZXlsYW5kLTEyMzU1NTAzMjcvYW1wLw?oc=5\" target=\"_blank\">Disney Stock Slips After Media Giant Unveils Plan To Double Spending On Theme Parks To $60B Over Next 10 Years</a>&nbsp;&nbsp;<font color=\"#6f6f6f\">Deadline</font></li><li><strong><a href=\"https://news.google.com/stories/CAAqNggKIjBDQklTSGpvSmMzUnZjbmt0TXpZd1NoRUtEd2ltMFBhT0NSR1IyNmhJUzBRek9DZ0FQAQ?hl=en-US&amp;gl=US&amp;ceid=US:en&amp;oc=5\" target=\"_blank\">View Full Coverage on Google News</a></strong></li></ol>'}\n",
      "==========\n",
      "source\n",
      "{'href': 'https://www.wsj.com', 'title': 'The Wall Street Journal'}\n",
      "==========\n"
     ]
    }
   ],
   "source": [
    "for key, value in feed.entries[3].items():\n",
    "    print(key)\n",
    "    print(value)\n",
    "    print('=' * 10)"
   ]
  },
  {
   "cell_type": "code",
   "execution_count": 6,
   "id": "8e372013-6bad-426b-b3ab-85853e221ab7",
   "metadata": {
    "tags": []
   },
   "outputs": [
    {
     "data": {
      "text/plain": [
       "'Disney to Invest $60 Billion in Theme Parks, Cruises Over Next Decade - The Wall Street Journal'"
      ]
     },
     "execution_count": 6,
     "metadata": {},
     "output_type": "execute_result"
    }
   ],
   "source": [
    "feed.entries[2]['title']"
   ]
  },
  {
   "cell_type": "code",
   "execution_count": 7,
   "id": "d58929fb-d596-49bf-af1e-934de057cba8",
   "metadata": {
    "tags": []
   },
   "outputs": [
    {
     "data": {
      "text/plain": [
       "time.struct_time(tm_year=2023, tm_mon=9, tm_mday=19, tm_hour=13, tm_min=49, tm_sec=0, tm_wday=1, tm_yday=262, tm_isdst=0)"
      ]
     },
     "execution_count": 7,
     "metadata": {},
     "output_type": "execute_result"
    }
   ],
   "source": [
    "feed.entries[2]['published_parsed']"
   ]
  },
  {
   "cell_type": "code",
   "execution_count": 14,
   "id": "9aabdd4d-5e38-4cf5-81e2-a0e4031ee810",
   "metadata": {
    "tags": []
   },
   "outputs": [
    {
     "data": {
      "text/plain": [
       "datetime.datetime(2023, 9, 19, 13, 49)"
      ]
     },
     "execution_count": 14,
     "metadata": {},
     "output_type": "execute_result"
    }
   ],
   "source": [
    "from datetime import datetime\n",
    "from time import mktime\n",
    "\n",
    "datetime.fromtimestamp(mktime(feed.entries[2]['published_parsed']))"
   ]
  },
  {
   "cell_type": "code",
   "execution_count": 8,
   "id": "ebd1fbea-8783-45b8-99ca-8a0bd67cfbde",
   "metadata": {
    "tags": []
   },
   "outputs": [
    {
     "data": {
      "text/plain": [
       "'https://www.wsj.com'"
      ]
     },
     "execution_count": 8,
     "metadata": {},
     "output_type": "execute_result"
    }
   ],
   "source": [
    "feed.entries[2]['source']['href']"
   ]
  },
  {
   "cell_type": "code",
   "execution_count": 9,
   "id": "08c6d56e-f651-4594-96e3-9878c93aef98",
   "metadata": {
    "tags": []
   },
   "outputs": [
    {
     "data": {
      "text/plain": [
       "'https://news.google.com/rss/articles/CBMiU2h0dHBzOi8vd3d3LnRoZWd1YXJkaWFuLmNvbS9idXNpbmVzcy8yMDIzL3NlcC8xOS9mdHgtc3Vlcy1zYW0tYmFua21hbi1mcmllZC1wYXJlbnRz0gFTaHR0cHM6Ly9hbXAudGhlZ3VhcmRpYW4uY29tL2J1c2luZXNzLzIwMjMvc2VwLzE5L2Z0eC1zdWVzLXNhbS1iYW5rbWFuLWZyaWVkLXBhcmVudHM?oc=5'"
      ]
     },
     "execution_count": 9,
     "metadata": {},
     "output_type": "execute_result"
    }
   ],
   "source": [
    "feed.entries[1].link"
   ]
  },
  {
   "cell_type": "code",
   "execution_count": 10,
   "id": "227fb57b-9e08-45d1-815a-2a91f5668cdf",
   "metadata": {
    "tags": []
   },
   "outputs": [
    {
     "name": "stdout",
     "output_type": "stream",
     "text": [
      "Article `download()` failed with 403 Client Error: Forbidden for url: https://www.wsj.com/business/media/disney-to-invest-60-billion-in-theme-parks-cruises-over-next-decade-6fc87426 on URL https://news.google.com/rss/articles/CBMib2h0dHBzOi8vd3d3Lndzai5jb20vYnVzaW5lc3MvbWVkaWEvZGlzbmV5LXRvLWludmVzdC02MC1iaWxsaW9uLWluLXRoZW1lLXBhcmtzLWNydWlzZXMtb3Zlci1uZXh0LWRlY2FkZS02ZmM4NzQyNtIBAA?oc=5\n",
      "403 Client Error: Forbidden for url: https://www.wsj.com/business/media/disney-to-invest-60-billion-in-theme-parks-cruises-over-next-decade-6fc87426\n"
     ]
    }
   ],
   "source": [
    "article = newspaper.Article(feed.entries[3].link)\n",
    "# download and parse the article\n",
    "article.download()\n",
    "try:\n",
    "    article.parse()\n",
    "except newspaper.article.ArticleException:\n",
    "    err = sys.exc_info()\n",
    "    print(err[1])\n",
    "    print(article.download_exception_msg)"
   ]
  },
  {
   "cell_type": "code",
   "execution_count": 15,
   "id": "26334357-decf-4e3f-8403-22b2fbbb4458",
   "metadata": {
    "tags": []
   },
   "outputs": [
    {
     "data": {
      "text/plain": [
       "'https://news.google.com'"
      ]
     },
     "execution_count": 15,
     "metadata": {},
     "output_type": "execute_result"
    }
   ],
   "source": [
    "article.source_url"
   ]
  },
  {
   "cell_type": "code",
   "execution_count": null,
   "id": "f85cef78-8c65-466f-a634-b404ecf043f6",
   "metadata": {},
   "outputs": [],
   "source": []
  },
  {
   "cell_type": "code",
   "execution_count": null,
   "id": "474998d1-ac21-40d0-ba0f-bdc4cc11e0fc",
   "metadata": {},
   "outputs": [],
   "source": []
  },
  {
   "cell_type": "code",
   "execution_count": null,
   "id": "d5fa3002-4b60-4f19-8f7f-52237bc8ef50",
   "metadata": {},
   "outputs": [],
   "source": []
  },
  {
   "cell_type": "code",
   "execution_count": 9,
   "id": "9cd9b220-71cb-46df-9272-26740aa78461",
   "metadata": {
    "tags": []
   },
   "outputs": [
    {
     "data": {
      "text/plain": [
       "'https://news.google.com/rss/articles/CBMib2h0dHBzOi8vd3d3Lndzai5jb20vYnVzaW5lc3MvbWVkaWEvZGlzbmV5LXRvLWludmVzdC02MC1iaWxsaW9uLWluLXRoZW1lLXBhcmtzLWNydWlzZXMtb3Zlci1uZXh0LWRlY2FkZS02ZmM4NzQyNtIBAA?oc=5'"
      ]
     },
     "execution_count": 9,
     "metadata": {},
     "output_type": "execute_result"
    }
   ],
   "source": [
    "article.url"
   ]
  },
  {
   "cell_type": "code",
   "execution_count": 17,
   "id": "4f8d9f58-670c-485d-acbd-21abab3b109a",
   "metadata": {
    "tags": []
   },
   "outputs": [
    {
     "data": {
      "text/plain": [
       "{}"
      ]
     },
     "execution_count": 17,
     "metadata": {},
     "output_type": "execute_result"
    }
   ],
   "source": [
    "article.additional_data"
   ]
  },
  {
   "cell_type": "code",
   "execution_count": 18,
   "id": "09e435a5-aa18-41f5-9dd8-76d785157396",
   "metadata": {
    "tags": []
   },
   "outputs": [
    {
     "data": {
      "text/plain": [
       "''"
      ]
     },
     "execution_count": 18,
     "metadata": {},
     "output_type": "execute_result"
    }
   ],
   "source": [
    "article.article_html"
   ]
  },
  {
   "cell_type": "code",
   "execution_count": 19,
   "id": "8f076f80-5c92-4cba-b3c2-ee5c323fd1ad",
   "metadata": {
    "tags": []
   },
   "outputs": [
    {
     "data": {
      "text/plain": [
       "['Kevin Breuninger']"
      ]
     },
     "execution_count": 19,
     "metadata": {},
     "output_type": "execute_result"
    }
   ],
   "source": [
    "article.authors"
   ]
  },
  {
   "cell_type": "code",
   "execution_count": 8,
   "id": "34f9d898-8987-4261-b898-146ee4213a94",
   "metadata": {
    "tags": []
   },
   "outputs": [
    {
     "data": {
      "text/plain": [
       "''"
      ]
     },
     "execution_count": 8,
     "metadata": {},
     "output_type": "execute_result"
    }
   ],
   "source": [
    "article.canonical_link"
   ]
  },
  {
   "cell_type": "code",
   "execution_count": 21,
   "id": "2937e1d0-58d8-4cbf-92eb-200a6a869802",
   "metadata": {
    "tags": []
   },
   "outputs": [
    {
     "data": {
      "text/plain": [
       "<Element html at 0x7fb37af0bce0>"
      ]
     },
     "execution_count": 21,
     "metadata": {},
     "output_type": "execute_result"
    }
   ],
   "source": [
    "article.clean_doc"
   ]
  },
  {
   "cell_type": "code",
   "execution_count": 22,
   "id": "481dc4c5-faab-4c76-b8b2-0b9d2c96062c",
   "metadata": {
    "tags": []
   },
   "outputs": [
    {
     "data": {
      "text/plain": [
       "<newspaper.configuration.Configuration at 0x7fb37bbfda80>"
      ]
     },
     "execution_count": 22,
     "metadata": {},
     "output_type": "execute_result"
    }
   ],
   "source": [
    "article.config"
   ]
  },
  {
   "cell_type": "code",
   "execution_count": 23,
   "id": "67e16d54-458c-47df-a4e8-0f45f173fbb6",
   "metadata": {
    "tags": []
   },
   "outputs": [],
   "source": [
    "article.download_exception_msg"
   ]
  },
  {
   "cell_type": "code",
   "execution_count": 24,
   "id": "927e200d-22e1-4a67-92bb-0adde4c73e41",
   "metadata": {
    "tags": []
   },
   "outputs": [
    {
     "data": {
      "text/plain": [
       "True"
      ]
     },
     "execution_count": 24,
     "metadata": {},
     "output_type": "execute_result"
    }
   ],
   "source": [
    "article.is_parsed"
   ]
  },
  {
   "cell_type": "code",
   "execution_count": 25,
   "id": "c631b702-39e5-4db3-9af6-f8bb6d843b21",
   "metadata": {
    "tags": []
   },
   "outputs": [
    {
     "data": {
      "text/plain": [
       "[]"
      ]
     },
     "execution_count": 25,
     "metadata": {},
     "output_type": "execute_result"
    }
   ],
   "source": [
    "article.keywords"
   ]
  },
  {
   "cell_type": "code",
   "execution_count": 26,
   "id": "63bb20f0-4787-4c00-ad81-976900541ac9",
   "metadata": {
    "tags": []
   },
   "outputs": [
    {
     "data": {
      "text/plain": [
       "datetime.datetime(2023, 9, 19, 13, 45, 22, tzinfo=tzutc())"
      ]
     },
     "execution_count": 26,
     "metadata": {},
     "output_type": "execute_result"
    }
   ],
   "source": [
    "article.publish_date"
   ]
  },
  {
   "cell_type": "code",
   "execution_count": 27,
   "id": "e5f04393-d680-4a2b-81b9-366c9a5c92b7",
   "metadata": {
    "tags": []
   },
   "outputs": [
    {
     "data": {
      "text/plain": [
       "'https://news.google.com'"
      ]
     },
     "execution_count": 27,
     "metadata": {},
     "output_type": "execute_result"
    }
   ],
   "source": [
    "article.source_url"
   ]
  },
  {
   "cell_type": "code",
   "execution_count": 28,
   "id": "78623977-e881-4008-9264-bd87621f18f8",
   "metadata": {
    "tags": []
   },
   "outputs": [
    {
     "data": {
      "text/plain": [
       "''"
      ]
     },
     "execution_count": 28,
     "metadata": {},
     "output_type": "execute_result"
    }
   ],
   "source": [
    "article.summary"
   ]
  },
  {
   "cell_type": "code",
   "execution_count": 29,
   "id": "d7c2a9f8-40eb-40d3-a4ed-126d3d604a55",
   "metadata": {
    "tags": []
   },
   "outputs": [
    {
     "data": {
      "text/plain": [
       "set()"
      ]
     },
     "execution_count": 29,
     "metadata": {},
     "output_type": "execute_result"
    }
   ],
   "source": [
    "article.tags"
   ]
  },
  {
   "cell_type": "code",
   "execution_count": 30,
   "id": "ca12ddab-b078-45e6-9da3-70cc3b7a3f06",
   "metadata": {
    "tags": []
   },
   "outputs": [
    {
     "data": {
      "text/plain": [
       "'Former Vice President Mike Pence argued Tuesday that the Biden administration\\'s push toward electric vehicles was to blame for the historic United Auto Workers strikes underway at the Big Three Detroit carmakers\\' plants.\\n\\n\"I guarantee you that one of the things that\\'s driving that strike is that Bidenomics and their green energy, electric vehicle agenda is good for Beijing and bad for Detroit, and American autoworkers know it,\" Pence said on CNBC\\'s \"Squawk Box.\"\\n\\nThe strikes are a \"reflection of the failed economic policies of the Biden administration,\" said Pence, whose campaign to win the 2024 Republican presidential has struggled to gain traction in the polls.\\n\\n\"This drive toward electric vehicles, driving people away from gasoline-powered vehicles, any auto worker that\\'s paying attention would know that\\'s not in their long-term interest,\" he said.\\n\\nPence\\'s stance on the strikes echoed the one pushed by his former boss, ex-President Donald Trump, the current front-runner in the GOP nomination contest.'"
      ]
     },
     "execution_count": 30,
     "metadata": {},
     "output_type": "execute_result"
    }
   ],
   "source": [
    "article.text"
   ]
  },
  {
   "cell_type": "code",
   "execution_count": 31,
   "id": "b309f6dc-7f3b-4319-9e35-f72c066be366",
   "metadata": {},
   "outputs": [
    {
     "data": {
      "text/plain": [
       "\"Pence echoes Trump, links UAW strikes to Biden EV push: 'Good for Beijing, bad for Detroit'\""
      ]
     },
     "execution_count": 31,
     "metadata": {},
     "output_type": "execute_result"
    }
   ],
   "source": [
    "article.title"
   ]
  },
  {
   "cell_type": "code",
   "execution_count": 32,
   "id": "f2a21416-64ff-422f-8b83-fc4b6de15c21",
   "metadata": {},
   "outputs": [
    {
     "data": {
      "text/plain": [
       "'https://news.google.com/rss/articles/CBMiXWh0dHBzOi8vd3d3LmNuYmMuY29tLzIwMjMvMDkvMTkvcGVuY2UtZWNob2VzLXRydW1wLW9uLXVhdy1zdHJpa2VzLXRvLWJpZGVuLWV2LXB1c2gtY2hpbmEuaHRtbNIBYWh0dHBzOi8vd3d3LmNuYmMuY29tL2FtcC8yMDIzLzA5LzE5L3BlbmNlLWVjaG9lcy10cnVtcC1vbi11YXctc3RyaWtlcy10by1iaWRlbi1ldi1wdXNoLWNoaW5hLmh0bWw?oc=5'"
      ]
     },
     "execution_count": 32,
     "metadata": {},
     "output_type": "execute_result"
    }
   ],
   "source": [
    "article.url"
   ]
  },
  {
   "cell_type": "code",
   "execution_count": 34,
   "id": "2d655ab5-61ab-4a1a-8351-8199dfb3457b",
   "metadata": {
    "tags": []
   },
   "outputs": [
    {
     "data": {
      "text/plain": [
       "'https://news.google.com/rss/articles/CBMiXWh0dHBzOi8vd3d3LmNuYmMuY29tLzIwMjMvMDkvMTkvcGVuY2UtZWNob2VzLXRydW1wLW9uLXVhdy1zdHJpa2VzLXRvLWJpZGVuLWV2LXB1c2gtY2hpbmEuaHRtbNIBYWh0dHBzOi8vd3d3LmNuYmMuY29tL2FtcC8yMDIzLzA5LzE5L3BlbmNlLWVjaG9lcy10cnVtcC1vbi11YXctc3RyaWtlcy10by1iaWRlbi1ldi1wdXNoLWNoaW5hLmh0bWw?oc=5'"
      ]
     },
     "execution_count": 34,
     "metadata": {},
     "output_type": "execute_result"
    }
   ],
   "source": [
    "feed.entries[0].link"
   ]
  },
  {
   "cell_type": "code",
   "execution_count": null,
   "id": "6daff257-66b5-4df0-a25f-a975158eca8c",
   "metadata": {},
   "outputs": [],
   "source": []
  },
  {
   "cell_type": "code",
   "execution_count": null,
   "id": "620b52e9-f3ab-4928-83d9-0e351a1bc956",
   "metadata": {},
   "outputs": [],
   "source": [
    "article.title, \n",
    "article.text, \n",
    "article.publish_date,\n",
    "article.authors, \n",
    "article.canonical_link, \n",
    "feed.entries[0].link, \n",
    "feed.entries[1]['source']['href'], \n",
    "feed.entries[1]['source']['title']"
   ]
  },
  {
   "cell_type": "code",
   "execution_count": null,
   "id": "7012d5e5-6c9e-4eb7-b85f-6899940abd10",
   "metadata": {},
   "outputs": [],
   "source": [
    "feed.entries[1].title, \n",
    "None, \n",
    "feed.entries[1]['published_parsed']\n",
    "None, \n",
    "None, \n",
    "feed.entries[0].link, \n",
    "feed.entries[1]['source']['href'], \n",
    "feed.entries[1]['source']['title']"
   ]
  },
  {
   "cell_type": "code",
   "execution_count": null,
   "id": "20eb0d1e-e4c6-4708-9a97-6294128e996a",
   "metadata": {},
   "outputs": [],
   "source": []
  },
  {
   "cell_type": "code",
   "execution_count": null,
   "id": "e6aaf998-4c07-434b-b6df-3e96ba9a1996",
   "metadata": {},
   "outputs": [],
   "source": []
  },
  {
   "cell_type": "code",
   "execution_count": 10,
   "id": "9dbe0be3-036a-484a-b902-003114dbc8e8",
   "metadata": {},
   "outputs": [],
   "source": [
    "article = newspaper.Article(feed.entries[2].link)\n",
    "# download and parse the article\n",
    "article.download()"
   ]
  },
  {
   "cell_type": "code",
   "execution_count": 13,
   "id": "1bd6cd72-ad77-433c-82b1-1e05c086db04",
   "metadata": {
    "tags": []
   },
   "outputs": [
    {
     "ename": "ArticleException",
     "evalue": "Article `download()` failed with 403 Client Error: Forbidden for url: https://www.wsj.com/business/media/disney-to-invest-60-billion-in-theme-parks-cruises-over-next-decade-6fc87426 on URL https://news.google.com/rss/articles/CBMib2h0dHBzOi8vd3d3Lndzai5jb20vYnVzaW5lc3MvbWVkaWEvZGlzbmV5LXRvLWludmVzdC02MC1iaWxsaW9uLWluLXRoZW1lLXBhcmtzLWNydWlzZXMtb3Zlci1uZXh0LWRlY2FkZS02ZmM4NzQyNtIBAA?oc=5",
     "output_type": "error",
     "traceback": [
      "\u001b[0;31m---------------------------------------------------------------------------\u001b[0m",
      "\u001b[0;31mArticleException\u001b[0m                          Traceback (most recent call last)",
      "Cell \u001b[0;32mIn[13], line 1\u001b[0m\n\u001b[0;32m----> 1\u001b[0m \u001b[43marticle\u001b[49m\u001b[38;5;241;43m.\u001b[39;49m\u001b[43mparse\u001b[49m\u001b[43m(\u001b[49m\u001b[43m)\u001b[49m\n",
      "File \u001b[0;32m~/environments/styx_env/lib/python3.10/site-packages/newspaper/article.py:191\u001b[0m, in \u001b[0;36mArticle.parse\u001b[0;34m(self)\u001b[0m\n\u001b[1;32m    190\u001b[0m \u001b[38;5;28;01mdef\u001b[39;00m \u001b[38;5;21mparse\u001b[39m(\u001b[38;5;28mself\u001b[39m):\n\u001b[0;32m--> 191\u001b[0m     \u001b[38;5;28;43mself\u001b[39;49m\u001b[38;5;241;43m.\u001b[39;49m\u001b[43mthrow_if_not_downloaded_verbose\u001b[49m\u001b[43m(\u001b[49m\u001b[43m)\u001b[49m\n\u001b[1;32m    193\u001b[0m     \u001b[38;5;28mself\u001b[39m\u001b[38;5;241m.\u001b[39mdoc \u001b[38;5;241m=\u001b[39m \u001b[38;5;28mself\u001b[39m\u001b[38;5;241m.\u001b[39mconfig\u001b[38;5;241m.\u001b[39mget_parser()\u001b[38;5;241m.\u001b[39mfromstring(\u001b[38;5;28mself\u001b[39m\u001b[38;5;241m.\u001b[39mhtml)\n\u001b[1;32m    194\u001b[0m     \u001b[38;5;28mself\u001b[39m\u001b[38;5;241m.\u001b[39mclean_doc \u001b[38;5;241m=\u001b[39m copy\u001b[38;5;241m.\u001b[39mdeepcopy(\u001b[38;5;28mself\u001b[39m\u001b[38;5;241m.\u001b[39mdoc)\n",
      "File \u001b[0;32m~/environments/styx_env/lib/python3.10/site-packages/newspaper/article.py:531\u001b[0m, in \u001b[0;36mArticle.throw_if_not_downloaded_verbose\u001b[0;34m(self)\u001b[0m\n\u001b[1;32m    529\u001b[0m     \u001b[38;5;28;01mraise\u001b[39;00m ArticleException(\u001b[38;5;124m'\u001b[39m\u001b[38;5;124mYou must `download()` an article first!\u001b[39m\u001b[38;5;124m'\u001b[39m)\n\u001b[1;32m    530\u001b[0m \u001b[38;5;28;01melif\u001b[39;00m \u001b[38;5;28mself\u001b[39m\u001b[38;5;241m.\u001b[39mdownload_state \u001b[38;5;241m==\u001b[39m ArticleDownloadState\u001b[38;5;241m.\u001b[39mFAILED_RESPONSE:\n\u001b[0;32m--> 531\u001b[0m     \u001b[38;5;28;01mraise\u001b[39;00m ArticleException(\u001b[38;5;124m'\u001b[39m\u001b[38;5;124mArticle `download()` failed with \u001b[39m\u001b[38;5;132;01m%s\u001b[39;00m\u001b[38;5;124m on URL \u001b[39m\u001b[38;5;132;01m%s\u001b[39;00m\u001b[38;5;124m'\u001b[39m \u001b[38;5;241m%\u001b[39m\n\u001b[1;32m    532\u001b[0m           (\u001b[38;5;28mself\u001b[39m\u001b[38;5;241m.\u001b[39mdownload_exception_msg, \u001b[38;5;28mself\u001b[39m\u001b[38;5;241m.\u001b[39murl))\n",
      "\u001b[0;31mArticleException\u001b[0m: Article `download()` failed with 403 Client Error: Forbidden for url: https://www.wsj.com/business/media/disney-to-invest-60-billion-in-theme-parks-cruises-over-next-decade-6fc87426 on URL https://news.google.com/rss/articles/CBMib2h0dHBzOi8vd3d3Lndzai5jb20vYnVzaW5lc3MvbWVkaWEvZGlzbmV5LXRvLWludmVzdC02MC1iaWxsaW9uLWluLXRoZW1lLXBhcmtzLWNydWlzZXMtb3Zlci1uZXh0LWRlY2FkZS02ZmM4NzQyNtIBAA?oc=5"
     ]
    }
   ],
   "source": [
    "article.parse()"
   ]
  },
  {
   "cell_type": "code",
   "execution_count": 15,
   "id": "b172b33e-23cd-40bf-9de3-7f8ba2d984b2",
   "metadata": {
    "tags": []
   },
   "outputs": [
    {
     "data": {
      "text/plain": [
       "''"
      ]
     },
     "execution_count": 15,
     "metadata": {},
     "output_type": "execute_result"
    }
   ],
   "source": [
    "article.title"
   ]
  },
  {
   "cell_type": "code",
   "execution_count": null,
   "id": "0d3cfd64-ee6d-444b-b17b-ccb56814705a",
   "metadata": {},
   "outputs": [],
   "source": []
  }
 ],
 "metadata": {
  "kernelspec": {
   "display_name": "Python 3 (ipykernel)",
   "language": "python",
   "name": "python3"
  },
  "language_info": {
   "codemirror_mode": {
    "name": "ipython",
    "version": 3
   },
   "file_extension": ".py",
   "mimetype": "text/x-python",
   "name": "python",
   "nbconvert_exporter": "python",
   "pygments_lexer": "ipython3",
   "version": "3.10.6"
  }
 },
 "nbformat": 4,
 "nbformat_minor": 5
}
