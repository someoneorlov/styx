{
 "cells": [
  {
   "cell_type": "code",
   "execution_count": 1,
   "id": "321a2127-3f81-496d-adeb-70b0ae0bcabb",
   "metadata": {},
   "outputs": [],
   "source": [
    "import mlflow\n",
    "import nltk\n",
    "import string\n",
    "import re\n",
    "import unicodedata\n",
    "import spacy \n",
    "\n",
    "import numpy as np\n",
    "import pandas as pd\n",
    "from functools import partial\n",
    "from itertools import product\n",
    "\n",
    "import matplotlib.pyplot as plt\n",
    "import seaborn as sns\n",
    "\n",
    "from sklearn.metrics import confusion_matrix\n",
    "from sklearn.metrics import roc_auc_score\n",
    "\n",
    "from catboost import Pool, CatBoostClassifier\n",
    "\n",
    "from datasets import load_dataset\n",
    "\n",
    "from nltk.corpus import stopwords\n",
    "from nltk.tokenize import word_tokenize, sent_tokenize\n",
    "from nltk.stem import WordNetLemmatizer\n",
    "from nltk.stem.porter import PorterStemmer\n",
    "from nltk.stem.snowball import SnowballStemmer\n",
    "\n",
    "from hyperopt import fmin, hp, tpe, Trials, space_eval, STATUS_OK"
   ]
  },
  {
   "cell_type": "code",
   "execution_count": 2,
   "id": "b6443fa4-33d5-4e49-99c7-ca809cd79116",
   "metadata": {},
   "outputs": [
    {
     "name": "stderr",
     "output_type": "stream",
     "text": [
      "[nltk_data] Downloading package punkt to /home/jovyan/nltk_data...\n",
      "[nltk_data]   Package punkt is already up-to-date!\n",
      "[nltk_data] Downloading package stopwords to /home/jovyan/nltk_data...\n",
      "[nltk_data]   Package stopwords is already up-to-date!\n",
      "[nltk_data] Downloading package wordnet to /home/jovyan/nltk_data...\n",
      "[nltk_data]   Package wordnet is already up-to-date!\n"
     ]
    },
    {
     "data": {
      "text/plain": [
       "True"
      ]
     },
     "execution_count": 2,
     "metadata": {},
     "output_type": "execute_result"
    }
   ],
   "source": [
    "nltk.download('punkt')\n",
    "nltk.download('stopwords')\n",
    "nltk.download('wordnet') "
   ]
  },
  {
   "cell_type": "code",
   "execution_count": 3,
   "id": "9846d094-e8b3-4a3c-8601-294e3cc38531",
   "metadata": {},
   "outputs": [
    {
     "name": "stdout",
     "output_type": "stream",
     "text": [
      "cool\n",
      "Frankly my dear I dont give a damn\n"
     ]
    }
   ],
   "source": [
    "# Remove puncuation from word\n",
    "def rm_punc_from_word(word):\n",
    "    clean_alphabet_list = [\n",
    "        alphabet for alphabet in word if alphabet not in string.punctuation\n",
    "    ]\n",
    "    return ''.join(clean_alphabet_list)\n",
    "\n",
    "print(rm_punc_from_word(\"#cool!\"))\n",
    "\n",
    "\n",
    "# Remove puncuation from text\n",
    "def rm_punc_from_text(text):\n",
    "    clean_word_list = [rm_punc_from_word(word) for word in text]\n",
    "    return ''.join(clean_word_list)\n",
    "\n",
    "print(rm_punc_from_text(\"Frankly, my dear, I don't give a damn\"))"
   ]
  },
  {
   "cell_type": "code",
   "execution_count": 4,
   "id": "067269db-3687-4f79-9715-45f349049ad8",
   "metadata": {},
   "outputs": [
    {
     "name": "stdout",
     "output_type": "stream",
     "text": [
      "You are times more sexier than me\n",
      "If you taught yes then you are times more delusional than me\n"
     ]
    }
   ],
   "source": [
    "# Remove numbers from text\n",
    "def rm_number_from_text(text):\n",
    "    text = re.sub('[0-9]+', '', text)\n",
    "    return ' '.join(text.split())  # to rm `extra` white space\n",
    "\n",
    "print(rm_number_from_text('You are 100times more sexier than me'))\n",
    "print(rm_number_from_text('If you taught yes then you are 10 times more delusional than me'))"
   ]
  },
  {
   "cell_type": "code",
   "execution_count": 5,
   "id": "08ae16b8-354f-4609-b37e-6a144df91cb8",
   "metadata": {},
   "outputs": [
    {
     "data": {
      "text/plain": [
       "'Love means never say sorry'"
      ]
     },
     "execution_count": 5,
     "metadata": {},
     "output_type": "execute_result"
    }
   ],
   "source": [
    "# Remove stopwords from text\n",
    "def rm_stopwords_from_text(text):\n",
    "    _stopwords = stopwords.words('english')\n",
    "    text = text.split()\n",
    "    word_list = [word for word in text if word not in _stopwords]\n",
    "    return ' '.join(word_list)\n",
    "\n",
    "rm_stopwords_from_text(\"Love means never having to say you're sorry\")"
   ]
  },
  {
   "cell_type": "code",
   "execution_count": 6,
   "id": "7dcc9672-236c-449f-a008-5159c3143491",
   "metadata": {},
   "outputs": [
    {
     "data": {
      "text/plain": [
       "'mrs robinson youre trying to seduce me arent you'"
      ]
     },
     "execution_count": 6,
     "metadata": {},
     "output_type": "execute_result"
    }
   ],
   "source": [
    "# Cleaning text\n",
    "def clean_text(text):\n",
    "    text = text.lower()\n",
    "    text = rm_punc_from_text(text)\n",
    "    text = rm_number_from_text(text)\n",
    "    # text = rm_stopwords_from_text(text)\n",
    "\n",
    "    # there are hyphen(–) in many titles, so replacing it with empty str\n",
    "    # this hyphen(–) is different from normal hyphen(-)\n",
    "    text = re.sub('–', '', text)\n",
    "    text = ' '.join(text.split())  # removing `extra` white spaces\n",
    "\n",
    "    # Removing unnecessary characters from text\n",
    "    text = re.sub(\"(\\\\t)\", ' ', str(text)).lower()\n",
    "    text = re.sub(\"(\\\\r)\", ' ', str(text)).lower()\n",
    "    text = re.sub(\"(\\\\n)\", ' ', str(text)).lower()\n",
    "\n",
    "    # remove accented chars ('Sómě Áccěntěd těxt' => 'Some Accented text')\n",
    "    text = unicodedata.normalize('NFKD', text).encode('ascii', 'ignore').decode(\n",
    "        'utf-8', 'ignore'\n",
    "    )\n",
    "\n",
    "    text = re.sub(\"(__+)\", ' ', str(text)).lower()\n",
    "    text = re.sub(\"(--+)\", ' ', str(text)).lower()\n",
    "    text = re.sub(\"(~~+)\", ' ', str(text)).lower()\n",
    "    text = re.sub(\"(\\+\\++)\", ' ', str(text)).lower()\n",
    "    text = re.sub(\"(\\.\\.+)\", ' ', str(text)).lower()\n",
    "\n",
    "    text = re.sub(r\"[<>()|&©ø\\[\\]\\'\\\",;?~*!]\", ' ', str(text)).lower()\n",
    "\n",
    "    text = re.sub(\"(mailto:)\", ' ', str(text)).lower()\n",
    "    text = re.sub(r\"(\\\\x9\\d)\", ' ', str(text)).lower()\n",
    "    text = re.sub(\"([iI][nN][cC]\\d+)\", 'INC_NUM', str(text)).lower()\n",
    "    text = re.sub(\"([cC][mM]\\d+)|([cC][hH][gG]\\d+)\", 'CM_NUM',\n",
    "                  str(text)).lower()\n",
    "\n",
    "    text = re.sub(\"(\\.\\s+)\", ' ', str(text)).lower()\n",
    "    text = re.sub(\"(\\-\\s+)\", ' ', str(text)).lower()\n",
    "    text = re.sub(\"(\\:\\s+)\", ' ', str(text)).lower()\n",
    "    text = re.sub(\"(\\s+.\\s+)\", ' ', str(text)).lower()\n",
    "\n",
    "    try:\n",
    "        url = re.search(r'((https*:\\/*)([^\\/\\s]+))(.[^\\s]+)', str(text))\n",
    "        repl_url = url.group(3)\n",
    "        text = re.sub(r'((https*:\\/*)([^\\/\\s]+))(.[^\\s]+)', repl_url, str(text))\n",
    "    except Exception as e:\n",
    "        pass\n",
    "\n",
    "    text = re.sub(\"(\\s+)\", ' ', str(text)).lower()\n",
    "    text = re.sub(\"(\\s+.\\s+)\", ' ', str(text)).lower()\n",
    "\n",
    "    return text\n",
    "\n",
    "clean_text(\"Mrs. Robinson, you're trying to seduce me, aren't you?\")"
   ]
  },
  {
   "cell_type": "code",
   "execution_count": 7,
   "id": "756fab3d-c4a0-4c36-9c83-f0da8b1123eb",
   "metadata": {},
   "outputs": [],
   "source": [
    "df = load_dataset(\"MoritzLaurer/sentiment_economy_news\")"
   ]
  },
  {
   "cell_type": "code",
   "execution_count": 8,
   "id": "78541263-4937-473f-88d7-cc3d090b9586",
   "metadata": {},
   "outputs": [
    {
     "data": {
      "text/plain": [
       "DatasetDict({\n",
       "    train: Dataset({\n",
       "        features: ['text', 'labels', 'articleid', 'relevance', 'positivity', 'split', 'positivity_rounded', 'idx'],\n",
       "        num_rows: 3000\n",
       "    })\n",
       "    test: Dataset({\n",
       "        features: ['text', 'labels', 'articleid', 'relevance', 'positivity', 'split', 'positivity_rounded', 'idx'],\n",
       "        num_rows: 382\n",
       "    })\n",
       "    train_sample: Dataset({\n",
       "        features: ['text', 'labels', 'articleid', 'relevance', 'positivity', 'split', 'positivity_rounded', 'idx'],\n",
       "        num_rows: 1000\n",
       "    })\n",
       "    train_sample_numeric: Dataset({\n",
       "        features: ['text', 'labels', 'articleid', 'relevance', 'positivity', 'split', 'positivity_rounded', 'idx'],\n",
       "        num_rows: 1000\n",
       "    })\n",
       "})"
      ]
     },
     "execution_count": 8,
     "metadata": {},
     "output_type": "execute_result"
    }
   ],
   "source": [
    "df"
   ]
  },
  {
   "cell_type": "code",
   "execution_count": 9,
   "id": "1be46bbf-dee8-48de-aee5-40a37b09e5fe",
   "metadata": {},
   "outputs": [
    {
     "name": "stdout",
     "output_type": "stream",
     "text": [
      ">>>>>>>>>>>>>>>>>>>>>>>>>>>>>>>>>>>>>>>> info <<<<<<<<<<<<<<<<<<<<<<<<<<<<<<<<<<<<<<<<\n",
      "split: train | idx: 2342 | articleid: 123268813\n",
      "labels: positive | positivity: 6.0 | positivity_rounded: 6.0 | relevance: yes'\n",
      ">>>>>>>>>>>>>>>>>>>>>>>>>>>>>>>>>>>>>>>> text <<<<<<<<<<<<<<<<<<<<<<<<<<<<<<<<<<<<<<<<\n",
      "'THE ECONOMIC SCENE: The Recovery Still Lives. Little wonder the stock market has been bounding up and down like a yoryo lately. There are so many anomalies in the economic picture these days and so much uncertainty over what lies aheadr-for domestic business, inflation. Government Policies; ehersv ahd taxation as well as over the whole international pic* ture—that no one seems to have much reliance on aiiy forecasts, whatever they predict.</br></br>One week, or even a single day, produces reasons for cheer, but the very next period uncovers contrary data or assessments to chase the euphoria. Investors, like businessmen, don't know what to expect next.</br></br>Although the economy seldom moves in an unbroken trend in any direction, the gyrations this year seem to have been unusually pronounced. And so have the policy actions in .Washington. Even so, over time, the economy has managed to trace a steady and strongly upward course throughout the 33 months .of the current expansionary phase of the business cycle in this country. Moreover, the conseasus is that the continuing recovery still has considerable life left in it</br></br>Despite that fact, the stock market has been unwilling to look beyond the valley to the next crest. And businessmen have not been inclined to discount the question marks of the moment to gaze toward a better tomorrow. And yet, when all the pluses and minuses are tabulated, the favorable side of the ledger is definitely longer, and the bottom line shows ai positive balance.</br></br>The last few weeks provide a good example of the economy’s erratic fluctuations and the nervous state of current thinking in so many quarters.lt should have been a consoling period for analysts of the American business scene—with many more constructive.devel-opments than negative ones—but the sense of malaise continued to linger.'\n",
      "==========================================================================================\n",
      "\n",
      ">>>>>>>>>>>>>>>>>>>>>>>>>>>>>>>>>>>>>>>> info <<<<<<<<<<<<<<<<<<<<<<<<<<<<<<<<<<<<<<<<\n",
      "split: train | idx: 554 | articleid: 120107420\n",
      "labels: negative | positivity: 3.3333333333333335 | positivity_rounded: 3.0 | relevance: yes'\n",
      ">>>>>>>>>>>>>>>>>>>>>>>>>>>>>>>>>>>>>>>> text <<<<<<<<<<<<<<<<<<<<<<<<<<<<<<<<<<<<<<<<\n",
      "'Inventory of Unsold Homes Grows. A new factor is adding to (lie cost of buying a newly built home in this period of inflation, high interest rates cjnd a scarcity of mortgage money—the builder's delay in selling completed homes.</br></br>were 441,000 new homes without buyers in various stages of planning or construction, according to the Census Bureau. Of the total, first half of 1974, construction of new one-family homes fell 24 per cent from the comparable 1973 period.</br></br>“It looks as if the year’s total will fall below the million mark, the first time since 1970,” said a Census Bureau official. The million mark has been exceeded only four times in the nation’s history—in 1963, 1971, 1972 and 1973.</br></br>penses. In one form or another these are eventually passed on to the buyer. The expenses include maintain-ance, security, sales operation, taxes and carrying charges on the construction loan. “The builder may cut back his profit on a project, but someplace along the line those extra costs are going to be tacked on somewhere, maybe at another development,” said a spokesman for one major builder.</br></br>including gas. The Butman construction Corporation was the contractor and Ginsbern & Associates was the architect. James Felt-Huberth & Huberth are the managing and renting agents for the $3.4-million project. Thomas Eddy was i trustee of the bank in the early 19th Century and a philanthropist.'\n",
      "==========================================================================================\n",
      "\n",
      ">>>>>>>>>>>>>>>>>>>>>>>>>>>>>>>>>>>>>>>> info <<<<<<<<<<<<<<<<<<<<<<<<<<<<<<<<<<<<<<<<\n",
      "split: train | idx: 1243 | articleid: 93159564\n",
      "labels: negative | positivity: 3.0 | positivity_rounded: 3.0 | relevance: yes'\n",
      ">>>>>>>>>>>>>>>>>>>>>>>>>>>>>>>>>>>>>>>> text <<<<<<<<<<<<<<<<<<<<<<<<<<<<<<<<<<<<<<<<\n",
      "'Are Large Caps Back in Style?. ®M1D rising interest rates anti U market volatility, many In-vestment strategists say it is time to refocus on those core investments: large-capitalisation domestic stock funds, \"We feel very strongly that the tide has gone out with respect to more-risky asset classes,” said Nick Bolm-sack, investment strategist at the ISI Group in New York. \"Investors should look toward higher-quality asset classes, and in our view the most attractive is U.S. large caps.\"</br></br>Despite their usually prominent position in investor portfolios, large-capitalization domestic stocks and stock funds, which include Standard \"Despite the lackluster performance Of large-cap slocks, their earnings \"and price-to-earnings ratios have ' become more attractive.</br></br>& Poor’s 500-stock index funds, have been out of favor with investors in recent years, and no wonder. Domestic small-cap stock funds and emerging-market funds outperformed domestic large caps for the three years through April 2006, posting gains of better than 20 percent a year. The</br></br>Investors actually pulled a net $10.2 billion out of large-cap blend funds in 2005 and early 2006, according to the Financial Research Corporation. That was the first time investors took money out of this group of core stock funds since 1994, when the company began tracking fund categories. Large-cap blend funds meld growth and value characteristics in a single portfolio.</br></br>“Market history is highly cyclical: winners become losers and vice versa,” said Francis M. Kinniry Jr., a principal in the investment counseling and research group at Vanguard. “Investors would do themselves a huge service by going back to core funds,” he said.'\n",
      "==========================================================================================\n",
      "\n"
     ]
    }
   ],
   "source": [
    "def show_samples(dataset, num_samples=3, seed=42):\n",
    "    sample = dataset[\"train\"].shuffle(seed=seed).select(range(num_samples))\n",
    "    for example in sample:\n",
    "        print(f\"{'>>' * 20} info {'<<' * 20}\")\n",
    "        print(f\"split: {example['split']} | idx: {example['idx']} | articleid: {example['articleid']}\")\n",
    "        print(f\"labels: {example['labels']} | positivity: {example['positivity']} | \"\n",
    "              f\"positivity_rounded: {example['positivity_rounded']} | relevance: {example['relevance']}'\")\n",
    "        print(f\"{'>>' * 20} text {'<<' * 20}\")\n",
    "        print(f\"'{example['text']}'\")\n",
    "        print('=' * 90)\n",
    "        print()\n",
    "\n",
    "\n",
    "show_samples(df)"
   ]
  },
  {
   "cell_type": "code",
   "execution_count": 10,
   "id": "e778f24a-6b91-431e-8ea5-2b2d24fb9817",
   "metadata": {},
   "outputs": [],
   "source": [
    "df.set_format(\"pandas\")"
   ]
  },
  {
   "cell_type": "code",
   "execution_count": 11,
   "id": "78eb1599-7360-482f-b036-b5045aa074a0",
   "metadata": {},
   "outputs": [],
   "source": [
    "df_train = df['train'][:]\n",
    "df_val = df['test'][:]"
   ]
  },
  {
   "cell_type": "code",
   "execution_count": 12,
   "id": "cb5921c2-ccf0-438b-8245-cbd6d90604a2",
   "metadata": {},
   "outputs": [
    {
     "data": {
      "text/html": [
       "<div>\n",
       "<style scoped>\n",
       "    .dataframe tbody tr th:only-of-type {\n",
       "        vertical-align: middle;\n",
       "    }\n",
       "\n",
       "    .dataframe tbody tr th {\n",
       "        vertical-align: top;\n",
       "    }\n",
       "\n",
       "    .dataframe thead th {\n",
       "        text-align: right;\n",
       "    }\n",
       "</style>\n",
       "<table border=\"1\" class=\"dataframe\">\n",
       "  <thead>\n",
       "    <tr style=\"text-align: right;\">\n",
       "      <th></th>\n",
       "      <th>text</th>\n",
       "      <th>labels</th>\n",
       "      <th>articleid</th>\n",
       "      <th>relevance</th>\n",
       "      <th>positivity</th>\n",
       "      <th>split</th>\n",
       "      <th>positivity_rounded</th>\n",
       "      <th>idx</th>\n",
       "    </tr>\n",
       "  </thead>\n",
       "  <tbody>\n",
       "    <tr>\n",
       "      <th>0</th>\n",
       "      <td>Fed Finds Slow Pace Of Growth: Floods and Drou...</td>\n",
       "      <td>positive</td>\n",
       "      <td>109090677</td>\n",
       "      <td>yes</td>\n",
       "      <td>6.666666666666667</td>\n",
       "      <td>train</td>\n",
       "      <td>7.0</td>\n",
       "      <td>0</td>\n",
       "    </tr>\n",
       "    <tr>\n",
       "      <th>1</th>\n",
       "      <td>Boca Raton is a town that has everything -- in...</td>\n",
       "      <td>negative</td>\n",
       "      <td>108871079</td>\n",
       "      <td>yes</td>\n",
       "      <td>3.0</td>\n",
       "      <td>train</td>\n",
       "      <td>3.0</td>\n",
       "      <td>1</td>\n",
       "    </tr>\n",
       "    <tr>\n",
       "      <th>2</th>\n",
       "      <td>U.S. ADDS PROGRAMS WITH LITTLE REVIEW OF LOCAL...</td>\n",
       "      <td>negative</td>\n",
       "      <td>108967205</td>\n",
       "      <td>yes</td>\n",
       "      <td>2.5</td>\n",
       "      <td>train</td>\n",
       "      <td>2.0</td>\n",
       "      <td>2</td>\n",
       "    </tr>\n",
       "    <tr>\n",
       "      <th>3</th>\n",
       "      <td>UNEMPLOYMENT UP TO 9.8% FOR JULY, A POSTWAR RE...</td>\n",
       "      <td>negative</td>\n",
       "      <td>122035424</td>\n",
       "      <td>yes</td>\n",
       "      <td>2.6666666666666665</td>\n",
       "      <td>train</td>\n",
       "      <td>3.0</td>\n",
       "      <td>3</td>\n",
       "    </tr>\n",
       "    <tr>\n",
       "      <th>4</th>\n",
       "      <td>Battered Dollar's Future: Domestic Politics As...</td>\n",
       "      <td>negative</td>\n",
       "      <td>119448747</td>\n",
       "      <td>yes</td>\n",
       "      <td>4.0</td>\n",
       "      <td>train</td>\n",
       "      <td>4.0</td>\n",
       "      <td>4</td>\n",
       "    </tr>\n",
       "  </tbody>\n",
       "</table>\n",
       "</div>"
      ],
      "text/plain": [
       "                                                text    labels  articleid  \\\n",
       "0  Fed Finds Slow Pace Of Growth: Floods and Drou...  positive  109090677   \n",
       "1  Boca Raton is a town that has everything -- in...  negative  108871079   \n",
       "2  U.S. ADDS PROGRAMS WITH LITTLE REVIEW OF LOCAL...  negative  108967205   \n",
       "3  UNEMPLOYMENT UP TO 9.8% FOR JULY, A POSTWAR RE...  negative  122035424   \n",
       "4  Battered Dollar's Future: Domestic Politics As...  negative  119448747   \n",
       "\n",
       "  relevance          positivity  split positivity_rounded  idx  \n",
       "0       yes   6.666666666666667  train                7.0    0  \n",
       "1       yes                 3.0  train                3.0    1  \n",
       "2       yes                 2.5  train                2.0    2  \n",
       "3       yes  2.6666666666666665  train                3.0    3  \n",
       "4       yes                 4.0  train                4.0    4  "
      ]
     },
     "execution_count": 12,
     "metadata": {},
     "output_type": "execute_result"
    }
   ],
   "source": [
    "df_train.head()"
   ]
  },
  {
   "cell_type": "code",
   "execution_count": 13,
   "id": "a257d568-2c0d-4167-9686-f2f3bb41829d",
   "metadata": {},
   "outputs": [
    {
     "data": {
      "text/plain": [
       "array(['positive', 'negative'], dtype=object)"
      ]
     },
     "execution_count": 13,
     "metadata": {},
     "output_type": "execute_result"
    }
   ],
   "source": [
    "df_train['labels'].unique()"
   ]
  },
  {
   "cell_type": "code",
   "execution_count": 14,
   "id": "4e079290-86b7-4749-8847-4e43db43d688",
   "metadata": {},
   "outputs": [
    {
     "data": {
      "text/plain": [
       "array(['negative', 'positive'], dtype=object)"
      ]
     },
     "execution_count": 14,
     "metadata": {},
     "output_type": "execute_result"
    }
   ],
   "source": [
    "df_val['labels'].unique()"
   ]
  },
  {
   "cell_type": "code",
   "execution_count": 15,
   "id": "e4f86179-568c-420c-9f86-7ebccc38a67e",
   "metadata": {},
   "outputs": [],
   "source": [
    "df_test = pd.read_csv(\"../data/external/sentiment/Fin_Cleaned.csv\")"
   ]
  },
  {
   "cell_type": "code",
   "execution_count": 16,
   "id": "f2a4daf9-95f3-46da-be5f-d2555787a403",
   "metadata": {},
   "outputs": [
    {
     "data": {
      "text/html": [
       "<div>\n",
       "<style scoped>\n",
       "    .dataframe tbody tr th:only-of-type {\n",
       "        vertical-align: middle;\n",
       "    }\n",
       "\n",
       "    .dataframe tbody tr th {\n",
       "        vertical-align: top;\n",
       "    }\n",
       "\n",
       "    .dataframe thead th {\n",
       "        text-align: right;\n",
       "    }\n",
       "</style>\n",
       "<table border=\"1\" class=\"dataframe\">\n",
       "  <thead>\n",
       "    <tr style=\"text-align: right;\">\n",
       "      <th></th>\n",
       "      <th>Date_published</th>\n",
       "      <th>Headline</th>\n",
       "      <th>Synopsis</th>\n",
       "      <th>Full_text</th>\n",
       "      <th>Final Status</th>\n",
       "    </tr>\n",
       "  </thead>\n",
       "  <tbody>\n",
       "    <tr>\n",
       "      <th>0</th>\n",
       "      <td>2022-06-21</td>\n",
       "      <td>Banks holding on to subsidy share, say payment...</td>\n",
       "      <td>The companies have written to the National Pay...</td>\n",
       "      <td>ReutersPayments companies and banks are at log...</td>\n",
       "      <td>Negative</td>\n",
       "    </tr>\n",
       "    <tr>\n",
       "      <th>1</th>\n",
       "      <td>2022-04-19</td>\n",
       "      <td>Digitally ready Bank of Baroda aims to click o...</td>\n",
       "      <td>At present, 50% of the bank's retail loans are...</td>\n",
       "      <td>AgenciesThe bank presently has 20 million acti...</td>\n",
       "      <td>Positive</td>\n",
       "    </tr>\n",
       "    <tr>\n",
       "      <th>2</th>\n",
       "      <td>2022-05-27</td>\n",
       "      <td>Karnataka attracted investment commitment of R...</td>\n",
       "      <td>Karnataka is at the forefront in attracting in...</td>\n",
       "      <td>PTIKarnataka Chief Minister Basavaraj Bommai.K...</td>\n",
       "      <td>Positive</td>\n",
       "    </tr>\n",
       "    <tr>\n",
       "      <th>3</th>\n",
       "      <td>2022-04-06</td>\n",
       "      <td>Splitting of provident fund accounts may be de...</td>\n",
       "      <td>The EPFO is likely to split accounts only at t...</td>\n",
       "      <td>Getty ImagesThe budget for FY22 had imposed in...</td>\n",
       "      <td>Negative</td>\n",
       "    </tr>\n",
       "    <tr>\n",
       "      <th>4</th>\n",
       "      <td>2022-06-14</td>\n",
       "      <td>Irdai weighs proposal to privatise Insurance I...</td>\n",
       "      <td>Set up in 2009 as an advisory body, IIB collec...</td>\n",
       "      <td>AgenciesThere is a view in the insurance indus...</td>\n",
       "      <td>Positive</td>\n",
       "    </tr>\n",
       "    <tr>\n",
       "      <th>...</th>\n",
       "      <td>...</td>\n",
       "      <td>...</td>\n",
       "      <td>...</td>\n",
       "      <td>...</td>\n",
       "      <td>...</td>\n",
       "    </tr>\n",
       "    <tr>\n",
       "      <th>395</th>\n",
       "      <td>2022-06-10</td>\n",
       "      <td>Banks take a cue from RBI, hike lending rates</td>\n",
       "      <td>These banks raised their respective external b...</td>\n",
       "      <td>PTIICICI Bank, Bank of Baroda, Punjab National...</td>\n",
       "      <td>Negative</td>\n",
       "    </tr>\n",
       "    <tr>\n",
       "      <th>396</th>\n",
       "      <td>2022-06-29</td>\n",
       "      <td>Sebi issues Rs 27 lakh recovery notice to indi...</td>\n",
       "      <td>In the event of non-payment, it will recover t...</td>\n",
       "      <td>ReutersThe logo of the Securities and Exchange...</td>\n",
       "      <td>Negative</td>\n",
       "    </tr>\n",
       "    <tr>\n",
       "      <th>397</th>\n",
       "      <td>2022-06-06</td>\n",
       "      <td>Apollo Hospital shares  drop  0.68% as Sensex ...</td>\n",
       "      <td>A total of 10,105 shares changed hands on the ...</td>\n",
       "      <td>Getty ImagesShrikant Chouhan of Kotak Securiti...</td>\n",
       "      <td>Negative</td>\n",
       "    </tr>\n",
       "    <tr>\n",
       "      <th>398</th>\n",
       "      <td>2022-05-16</td>\n",
       "      <td>SBI at Rs 710? What makes analysts see up to 5...</td>\n",
       "      <td>Calling the stock 'attractively valued' analys...</td>\n",
       "      <td>AgenciesThe PSU bank reported a 41.27 per cent...</td>\n",
       "      <td>Positive</td>\n",
       "    </tr>\n",
       "    <tr>\n",
       "      <th>399</th>\n",
       "      <td>2022-05-27</td>\n",
       "      <td>Stock market update: Mining stocks  up  as mar...</td>\n",
       "      <td>The 30-share BSE Sensex was  up  323.71 points...</td>\n",
       "      <td>Shutterstock.comAgarwal said the global econom...</td>\n",
       "      <td>Positive</td>\n",
       "    </tr>\n",
       "  </tbody>\n",
       "</table>\n",
       "<p>400 rows × 5 columns</p>\n",
       "</div>"
      ],
      "text/plain": [
       "    Date_published                                           Headline  \\\n",
       "0       2022-06-21  Banks holding on to subsidy share, say payment...   \n",
       "1       2022-04-19  Digitally ready Bank of Baroda aims to click o...   \n",
       "2       2022-05-27  Karnataka attracted investment commitment of R...   \n",
       "3       2022-04-06  Splitting of provident fund accounts may be de...   \n",
       "4       2022-06-14  Irdai weighs proposal to privatise Insurance I...   \n",
       "..             ...                                                ...   \n",
       "395     2022-06-10      Banks take a cue from RBI, hike lending rates   \n",
       "396     2022-06-29  Sebi issues Rs 27 lakh recovery notice to indi...   \n",
       "397     2022-06-06  Apollo Hospital shares  drop  0.68% as Sensex ...   \n",
       "398     2022-05-16  SBI at Rs 710? What makes analysts see up to 5...   \n",
       "399     2022-05-27  Stock market update: Mining stocks  up  as mar...   \n",
       "\n",
       "                                              Synopsis  \\\n",
       "0    The companies have written to the National Pay...   \n",
       "1    At present, 50% of the bank's retail loans are...   \n",
       "2    Karnataka is at the forefront in attracting in...   \n",
       "3    The EPFO is likely to split accounts only at t...   \n",
       "4    Set up in 2009 as an advisory body, IIB collec...   \n",
       "..                                                 ...   \n",
       "395  These banks raised their respective external b...   \n",
       "396  In the event of non-payment, it will recover t...   \n",
       "397  A total of 10,105 shares changed hands on the ...   \n",
       "398  Calling the stock 'attractively valued' analys...   \n",
       "399  The 30-share BSE Sensex was  up  323.71 points...   \n",
       "\n",
       "                                             Full_text Final Status  \n",
       "0    ReutersPayments companies and banks are at log...     Negative  \n",
       "1    AgenciesThe bank presently has 20 million acti...     Positive  \n",
       "2    PTIKarnataka Chief Minister Basavaraj Bommai.K...     Positive  \n",
       "3    Getty ImagesThe budget for FY22 had imposed in...     Negative  \n",
       "4    AgenciesThere is a view in the insurance indus...     Positive  \n",
       "..                                                 ...          ...  \n",
       "395  PTIICICI Bank, Bank of Baroda, Punjab National...     Negative  \n",
       "396  ReutersThe logo of the Securities and Exchange...     Negative  \n",
       "397  Getty ImagesShrikant Chouhan of Kotak Securiti...     Negative  \n",
       "398  AgenciesThe PSU bank reported a 41.27 per cent...     Positive  \n",
       "399  Shutterstock.comAgarwal said the global econom...     Positive  \n",
       "\n",
       "[400 rows x 5 columns]"
      ]
     },
     "execution_count": 16,
     "metadata": {},
     "output_type": "execute_result"
    }
   ],
   "source": [
    "df_test"
   ]
  },
  {
   "cell_type": "code",
   "execution_count": 17,
   "id": "a6b4a11b-ebed-4eb6-a59a-178b92a52df3",
   "metadata": {},
   "outputs": [
    {
     "data": {
      "text/plain": [
       "array(['Negative', 'Positive', 'Positive '], dtype=object)"
      ]
     },
     "execution_count": 17,
     "metadata": {},
     "output_type": "execute_result"
    }
   ],
   "source": [
    "df_test['Final Status'].unique()"
   ]
  },
  {
   "cell_type": "code",
   "execution_count": 18,
   "id": "b84ff476-a4dd-4230-b00c-966242f1597d",
   "metadata": {},
   "outputs": [],
   "source": [
    "df_train['labels'] = df_train['labels'].apply(lambda x: 1 if x == 'positive' else 0)\n",
    "df_val['labels'] = df_val['labels'].apply(lambda x: 1 if x == 'positive' else 0)\n",
    "\n",
    "df_train.drop(\n",
    "    columns=['articleid', 'relevance', 'positivity', 'split', 'positivity_rounded', 'idx'], \n",
    "    inplace=True)\n",
    "df_val.drop(\n",
    "    columns=['articleid', 'relevance', 'positivity', 'split', 'positivity_rounded', 'idx'], \n",
    "    inplace=True)"
   ]
  },
  {
   "cell_type": "code",
   "execution_count": 19,
   "id": "7e3ce7b5-87c5-49e4-8170-41c7780d2fb4",
   "metadata": {},
   "outputs": [
    {
     "data": {
      "text/html": [
       "<div>\n",
       "<style scoped>\n",
       "    .dataframe tbody tr th:only-of-type {\n",
       "        vertical-align: middle;\n",
       "    }\n",
       "\n",
       "    .dataframe tbody tr th {\n",
       "        vertical-align: top;\n",
       "    }\n",
       "\n",
       "    .dataframe thead th {\n",
       "        text-align: right;\n",
       "    }\n",
       "</style>\n",
       "<table border=\"1\" class=\"dataframe\">\n",
       "  <thead>\n",
       "    <tr style=\"text-align: right;\">\n",
       "      <th></th>\n",
       "      <th>text</th>\n",
       "      <th>labels</th>\n",
       "    </tr>\n",
       "  </thead>\n",
       "  <tbody>\n",
       "    <tr>\n",
       "      <th>0</th>\n",
       "      <td>Fed Finds Slow Pace Of Growth: Floods and Drou...</td>\n",
       "      <td>1</td>\n",
       "    </tr>\n",
       "    <tr>\n",
       "      <th>1</th>\n",
       "      <td>Boca Raton is a town that has everything -- in...</td>\n",
       "      <td>0</td>\n",
       "    </tr>\n",
       "    <tr>\n",
       "      <th>2</th>\n",
       "      <td>U.S. ADDS PROGRAMS WITH LITTLE REVIEW OF LOCAL...</td>\n",
       "      <td>0</td>\n",
       "    </tr>\n",
       "    <tr>\n",
       "      <th>3</th>\n",
       "      <td>UNEMPLOYMENT UP TO 9.8% FOR JULY, A POSTWAR RE...</td>\n",
       "      <td>0</td>\n",
       "    </tr>\n",
       "    <tr>\n",
       "      <th>4</th>\n",
       "      <td>Battered Dollar's Future: Domestic Politics As...</td>\n",
       "      <td>0</td>\n",
       "    </tr>\n",
       "  </tbody>\n",
       "</table>\n",
       "</div>"
      ],
      "text/plain": [
       "                                                text  labels\n",
       "0  Fed Finds Slow Pace Of Growth: Floods and Drou...       1\n",
       "1  Boca Raton is a town that has everything -- in...       0\n",
       "2  U.S. ADDS PROGRAMS WITH LITTLE REVIEW OF LOCAL...       0\n",
       "3  UNEMPLOYMENT UP TO 9.8% FOR JULY, A POSTWAR RE...       0\n",
       "4  Battered Dollar's Future: Domestic Politics As...       0"
      ]
     },
     "execution_count": 19,
     "metadata": {},
     "output_type": "execute_result"
    }
   ],
   "source": [
    "df_train.head()"
   ]
  },
  {
   "cell_type": "code",
   "execution_count": 20,
   "id": "a376831a-0101-4e79-bbcf-3efa23eb2c6a",
   "metadata": {},
   "outputs": [],
   "source": [
    "df_test['text'] = df_test[['Headline', 'Full_text']].agg('. '.join, axis=1)\n",
    "df_test['labels'] = df_test['Final Status'].apply(lambda x: 0 if x == 'Negative' else 1)\n",
    "\n",
    "df_test.drop(\n",
    "    columns=['Date_published', 'Headline', 'Synopsis', 'Full_text', 'Final Status'], \n",
    "    inplace=True)"
   ]
  },
  {
   "cell_type": "code",
   "execution_count": 21,
   "id": "b24c65ee-42b4-4d4a-993f-499995fe183b",
   "metadata": {},
   "outputs": [
    {
     "data": {
      "text/html": [
       "<div>\n",
       "<style scoped>\n",
       "    .dataframe tbody tr th:only-of-type {\n",
       "        vertical-align: middle;\n",
       "    }\n",
       "\n",
       "    .dataframe tbody tr th {\n",
       "        vertical-align: top;\n",
       "    }\n",
       "\n",
       "    .dataframe thead th {\n",
       "        text-align: right;\n",
       "    }\n",
       "</style>\n",
       "<table border=\"1\" class=\"dataframe\">\n",
       "  <thead>\n",
       "    <tr style=\"text-align: right;\">\n",
       "      <th></th>\n",
       "      <th>text</th>\n",
       "      <th>labels</th>\n",
       "    </tr>\n",
       "  </thead>\n",
       "  <tbody>\n",
       "    <tr>\n",
       "      <th>0</th>\n",
       "      <td>Banks holding on to subsidy share, say payment...</td>\n",
       "      <td>0</td>\n",
       "    </tr>\n",
       "    <tr>\n",
       "      <th>1</th>\n",
       "      <td>Digitally ready Bank of Baroda aims to click o...</td>\n",
       "      <td>1</td>\n",
       "    </tr>\n",
       "    <tr>\n",
       "      <th>2</th>\n",
       "      <td>Karnataka attracted investment commitment of R...</td>\n",
       "      <td>1</td>\n",
       "    </tr>\n",
       "    <tr>\n",
       "      <th>3</th>\n",
       "      <td>Splitting of provident fund accounts may be de...</td>\n",
       "      <td>0</td>\n",
       "    </tr>\n",
       "    <tr>\n",
       "      <th>4</th>\n",
       "      <td>Irdai weighs proposal to privatise Insurance I...</td>\n",
       "      <td>1</td>\n",
       "    </tr>\n",
       "  </tbody>\n",
       "</table>\n",
       "</div>"
      ],
      "text/plain": [
       "                                                text  labels\n",
       "0  Banks holding on to subsidy share, say payment...       0\n",
       "1  Digitally ready Bank of Baroda aims to click o...       1\n",
       "2  Karnataka attracted investment commitment of R...       1\n",
       "3  Splitting of provident fund accounts may be de...       0\n",
       "4  Irdai weighs proposal to privatise Insurance I...       1"
      ]
     },
     "execution_count": 21,
     "metadata": {},
     "output_type": "execute_result"
    }
   ],
   "source": [
    "df_test.head()"
   ]
  },
  {
   "cell_type": "code",
   "execution_count": 22,
   "id": "c926260e-d8f7-4c10-9270-285f585de151",
   "metadata": {},
   "outputs": [
    {
     "data": {
      "image/png": "[encoded data removed]",
      "text/plain": [
       "<Figure size 1500x500 with 3 Axes>"
      ]
     },
     "metadata": {},
     "output_type": "display_data"
    }
   ],
   "source": [
    "fig, (ax1, ax2, ax3) = plt.subplots(1, 3, figsize=(15, 5))\n",
    "\n",
    "train_title_len=df_train['text'].str.split().map(len)\n",
    "ax1.hist(train_title_len, color='red')\n",
    "ax1.set_title('Train')\n",
    "\n",
    "val_title_len=df_val['text'].str.split().map(len)\n",
    "ax2.hist(val_title_len, color='blue')\n",
    "ax2.set_title('Validation')\n",
    "\n",
    "test_title_len=df_test['text'].str.split().map(len)\n",
    "ax3.hist(test_title_len, color='green')\n",
    "ax3.set_title('Test')\n",
    "\n",
    "fig.suptitle('Words in Articles')\n",
    "plt.show()"
   ]
  },
  {
   "cell_type": "code",
   "execution_count": 23,
   "id": "e300e86a-ecc1-4611-8e97-c692a3f1cfea",
   "metadata": {},
   "outputs": [],
   "source": [
    "df_train['text'] = df_train['text'].apply(clean_text)\n",
    "df_val['text'] = df_val['text'].apply(clean_text)\n",
    "df_test['text'] = df_test['text'].apply(clean_text)"
   ]
  },
  {
   "cell_type": "code",
   "execution_count": 24,
   "id": "3648d75e-ba0e-4a53-8537-d6191f4c7f4b",
   "metadata": {},
   "outputs": [
    {
     "data": {
      "text/html": [
       "<div>\n",
       "<style scoped>\n",
       "    .dataframe tbody tr th:only-of-type {\n",
       "        vertical-align: middle;\n",
       "    }\n",
       "\n",
       "    .dataframe tbody tr th {\n",
       "        vertical-align: top;\n",
       "    }\n",
       "\n",
       "    .dataframe thead th {\n",
       "        text-align: right;\n",
       "    }\n",
       "</style>\n",
       "<table border=\"1\" class=\"dataframe\">\n",
       "  <thead>\n",
       "    <tr style=\"text-align: right;\">\n",
       "      <th></th>\n",
       "      <th>text</th>\n",
       "      <th>labels</th>\n",
       "    </tr>\n",
       "  </thead>\n",
       "  <tbody>\n",
       "    <tr>\n",
       "      <th>0</th>\n",
       "      <td>fed finds slow pace of growth floods and droug...</td>\n",
       "      <td>1</td>\n",
       "    </tr>\n",
       "    <tr>\n",
       "      <th>1</th>\n",
       "      <td>boca raton is town that has everything includi...</td>\n",
       "      <td>0</td>\n",
       "    </tr>\n",
       "    <tr>\n",
       "      <th>2</th>\n",
       "      <td>us adds programs with little review of local b...</td>\n",
       "      <td>0</td>\n",
       "    </tr>\n",
       "    <tr>\n",
       "      <th>3</th>\n",
       "      <td>unemployment up to for july postwar record new...</td>\n",
       "      <td>0</td>\n",
       "    </tr>\n",
       "    <tr>\n",
       "      <th>4</th>\n",
       "      <td>battered dollars future domestic politics assu...</td>\n",
       "      <td>0</td>\n",
       "    </tr>\n",
       "  </tbody>\n",
       "</table>\n",
       "</div>"
      ],
      "text/plain": [
       "                                                text  labels\n",
       "0  fed finds slow pace of growth floods and droug...       1\n",
       "1  boca raton is town that has everything includi...       0\n",
       "2  us adds programs with little review of local b...       0\n",
       "3  unemployment up to for july postwar record new...       0\n",
       "4  battered dollars future domestic politics assu...       0"
      ]
     },
     "execution_count": 24,
     "metadata": {},
     "output_type": "execute_result"
    }
   ],
   "source": [
    "df_train.head()"
   ]
  },
  {
   "cell_type": "code",
   "execution_count": 25,
   "id": "f9157e95-365f-4b45-8e41-5a48f6f3442c",
   "metadata": {},
   "outputs": [],
   "source": [
    "def remove_stopwords(text, use_stopwords=True):\n",
    "    if not use_stopwords:\n",
    "        return text\n",
    "    stopwords_set = stopwords.words('english')\n",
    "    return ' '.join([word for word in text.split() if word not in stopwords_set])\n",
    "\n",
    "\n",
    "def apply_word_transform(text, transform_type=None):\n",
    "    if transform_type == \"stem_porter\":\n",
    "        stemmer = PorterStemmer()\n",
    "        return ' '.join([stemmer.stem(word) for word in nltk.word_tokenize(text)])\n",
    "    elif transform_type == \"stem_snowball\":\n",
    "        stemmer = SnowballStemmer(language='english')\n",
    "        return ' '.join([stemmer.stem(word) for word in nltk.word_tokenize(text)])\n",
    "    elif transform_type == \"lemm_nltk_wordnet\":\n",
    "        lemmatizer = WordNetLemmatizer()\n",
    "        words = nltk.word_tokenize(text)\n",
    "        return ' '.join([lemmatizer.lemmatize(word, pos = \"v\") for word in words])\n",
    "    elif transform_type == \"lemm_spacy_en_core_web_sm\":\n",
    "        spacy_model = spacy.load('en_core_web_sm', disable = ['parser','ner'])\n",
    "        doc = spacy_model(text)\n",
    "        return ' '.join([token.lemma_ for token in doc])\n",
    "    else:\n",
    "        return text"
   ]
  },
  {
   "cell_type": "code",
   "execution_count": 26,
   "id": "6f519098-1878-4879-8f61-f04610f76462",
   "metadata": {},
   "outputs": [],
   "source": [
    "mlflow.set_tracking_uri(\"http://mlflow:5000\")"
   ]
  },
  {
   "cell_type": "code",
   "execution_count": 27,
   "id": "0f9afb99-6354-426e-a24a-3c6a8b9e1e75",
   "metadata": {},
   "outputs": [
    {
     "name": "stdout",
     "output_type": "stream",
     "text": [
      "ID: 1, Name: sentiment_model_catboost, Lifecycle Stage: active\n",
      "ID: 0, Name: Default, Lifecycle Stage: active\n"
     ]
    }
   ],
   "source": [
    "# List all experiments including deleted ones\n",
    "experiments_info = mlflow.search_experiments(view_type=mlflow.entities.ViewType.ALL)\n",
    "for experiment in experiments_info:\n",
    "    print(f\"ID: {experiment.experiment_id}, Name: {experiment.name}, Lifecycle Stage: {experiment.lifecycle_stage}\")"
   ]
  },
  {
   "cell_type": "code",
   "execution_count": 28,
   "id": "01a40af8-541c-4bb1-9ffa-d4535ce9cd39",
   "metadata": {},
   "outputs": [
    {
     "data": {
      "text/plain": [
       "<Experiment: artifact_location='s3://styx-nlp-artifacts/1', creation_time=1714323194473, experiment_id='1', last_update_time=1714323194473, lifecycle_stage='active', name='sentiment_model_catboost', tags={}>"
      ]
     },
     "execution_count": 28,
     "metadata": {},
     "output_type": "execute_result"
    }
   ],
   "source": [
    "mlflow.set_experiment(\"sentiment_model_catboost\")"
   ]
  },
  {
   "cell_type": "code",
   "execution_count": 29,
   "id": "3468d5d3-e168-4532-a9c8-15df4be6c593",
   "metadata": {},
   "outputs": [],
   "source": [
    "model_path = \"sentiment-analysis/catboost/\""
   ]
  },
  {
   "cell_type": "code",
   "execution_count": 30,
   "id": "252a2e6d-de6c-4220-a047-a73902f0380b",
   "metadata": {},
   "outputs": [],
   "source": [
    "search_space = {\n",
    "    'learning_rate': hp.loguniform('learning_rate', -4.6, 0),\n",
    "    'iterations': hp.quniform('iterations', 100, 1000, 100),\n",
    "    'l2_leaf_reg': hp.quniform('l2_leaf_reg', 2, 30, 1),\n",
    "    'depth': hp.quniform('depth', 4, 12, 1),\n",
    "    # 'random_strength': hp.loguniform('random_strength', -20, 2.3),\n",
    "    # 'bagging_temperature': hp.uniform('bagging_temperature', 0.0, 1.0),\n",
    "    # 'border_count': hp.quniform('border_count', 1, 255, 1),\n",
    "    # 'scale_pos_weight': hp.uniform('scale_pos_weight', 0.01, 1.0), \n",
    "    }\n",
    "\n",
    "common_params = {\n",
    "    'loss_function': 'Logloss',\n",
    "    'eval_metric':'AUC',\n",
    "    'early_stopping_rounds': 20,\n",
    "    'random_seed': 42, \n",
    "    'verbose': 0,\n",
    "    'task_type': 'CPU',\n",
    "    'use_best_model': True\n",
    "}"
   ]
  },
  {
   "cell_type": "code",
   "execution_count": 31,
   "id": "c0f8db83-5280-4cd6-95a7-424ea71b1611",
   "metadata": {},
   "outputs": [],
   "source": [
    "def objective(\n",
    "    params, \n",
    "    common_params, \n",
    "    train_pool, \n",
    "    val_pool, \n",
    "    use_stopwords=False, \n",
    "    transform_type=None\n",
    "):\n",
    "    with mlflow.start_run(nested=True):  # Nested run for hyperparameter tuning\n",
    "\n",
    "        model = CatBoostClassifier(**{**common_params, **params})\n",
    "        model.fit(train_pool, eval_set=val_pool)\n",
    "        score = model.get_best_score()['validation']['AUC']\n",
    "        \n",
    "        mlflow.log_params({\n",
    "            \"hyperparams\": params,\n",
    "            \"use_stopwords\": use_stopwords, \n",
    "            \"transform_type\": transform_type or \"none\"\n",
    "        })\n",
    "        mlflow.log_metric(\"AUC\", score)\n",
    "        \n",
    "        return {'loss': -score, 'status': STATUS_OK}"
   ]
  },
  {
   "cell_type": "code",
   "execution_count": 32,
   "id": "229fcb18-50d0-4cfd-8f65-8153cd697134",
   "metadata": {},
   "outputs": [
    {
     "name": "stdout",
     "output_type": "stream",
     "text": [
      "100%|██████████| 30/30 [10:53<00:00, 21.79s/trial, best loss: -0.7317618669256349]\n",
      "\n",
      "use_stopwords=False, transform_type=None\n",
      "ROC AUC Train: 91.77 | ROC AUC Val: 73.18 | ROC AUC Test: 60.23\n",
      "\n",
      "100%|██████████| 30/30 [17:02<00:00, 34.08s/trial, best loss: -0.7514199111268062] \n",
      "\n",
      "use_stopwords=False, transform_type=stem_porter\n",
      "ROC AUC Train: 90.66 | ROC AUC Val: 75.14 | ROC AUC Test: 59.53\n",
      "\n",
      "100%|██████████| 30/30 [26:19<00:00, 52.66s/trial, best loss: -0.7358523880992319] \n",
      "\n",
      "use_stopwords=False, transform_type=stem_snowball\n",
      "ROC AUC Train: 85.06 | ROC AUC Val: 73.59 | ROC AUC Test: 60.2\n",
      "\n",
      "100%|██████████| 30/30 [21:04<00:00, 42.14s/trial, best loss: -0.7369412318648656]\n",
      "\n",
      "use_stopwords=False, transform_type=nltk_wordnet\n",
      "ROC AUC Train: 93.21 | ROC AUC Val: 73.69 | ROC AUC Test: 59.82\n",
      "\n",
      "100%|██████████| 30/30 [12:43<00:00, 25.45s/trial, best loss: -0.7340572672964303] \n",
      "\n",
      "use_stopwords=False, transform_type=spacy_en_core_web_sm\n",
      "ROC AUC Train: 90.41 | ROC AUC Val: 73.41 | ROC AUC Test: 61.32\n",
      "\n",
      "100%|██████████| 30/30 [10:01<00:00, 20.03s/trial, best loss: -0.7292604690856654]\n",
      "\n",
      "use_stopwords=True, transform_type=None\n",
      "ROC AUC Train: 89.19 | ROC AUC Val: 72.93 | ROC AUC Test: 53.78\n",
      "\n",
      "100%|██████████| 30/30 [23:38<00:00, 47.30s/trial, best loss: -0.7415320326064565] \n",
      "\n",
      "use_stopwords=True, transform_type=stem_porter\n",
      "ROC AUC Train: 90.36 | ROC AUC Val: 74.15 | ROC AUC Test: 59.32\n",
      "\n",
      "100%|██████████| 30/30 [07:42<00:00, 15.43s/trial, best loss: -0.7434742944586681]\n",
      "\n",
      "use_stopwords=True, transform_type=stem_snowball\n",
      "ROC AUC Train: 81.69 | ROC AUC Val: 74.35 | ROC AUC Test: 55.5\n",
      "\n",
      "100%|██████████| 30/30 [04:44<00:00,  9.49s/trial, best loss: -0.7252582325417145]\n",
      "\n",
      "use_stopwords=True, transform_type=nltk_wordnet\n",
      "ROC AUC Train: 85.52 | ROC AUC Val: 72.53 | ROC AUC Test: 58.55\n",
      "\n",
      "100%|██████████| 30/30 [10:51<00:00, 21.71s/trial, best loss: -0.7288779023571996]\n",
      "\n",
      "use_stopwords=True, transform_type=spacy_en_core_web_sm\n",
      "ROC AUC Train: 85.63 | ROC AUC Val: 72.89 | ROC AUC Test: 59.24\n",
      "\n"
     ]
    }
   ],
   "source": [
    "stop_word_vars = [False, True]\n",
    "word_transform_vars = [None, \"stem_porter\", \"stem_snowball\", \"nltk_wordnet\", \"spacy_en_core_web_sm\"]\n",
    "\n",
    "for use_stopwords, transform_type in product(stop_word_vars, word_transform_vars):\n",
    "\n",
    "    X_train, X_val, X_test = df_train[[\"text\"]], df_val[[\"text\"]], df_test[[\"text\"]]\n",
    "    y_train, y_val, y_test = df_train[\"labels\"], df_val[\"labels\"], df_test[\"labels\"]\n",
    "\n",
    "    X_train.loc[:, \"text\"] = X_train[\"text\"].apply(\n",
    "        lambda x: apply_word_transform(\n",
    "            remove_stopwords(x, use_stopwords), transform_type\n",
    "        )\n",
    "    )\n",
    "    X_val.loc[:, \"text\"] = X_val[\"text\"].apply(\n",
    "        lambda x: apply_word_transform(\n",
    "            remove_stopwords(x, use_stopwords), transform_type\n",
    "        )\n",
    "    )\n",
    "    X_test.loc[:, \"text\"] = X_test[\"text\"].apply(\n",
    "        lambda x: apply_word_transform(\n",
    "            remove_stopwords(x, use_stopwords), transform_type\n",
    "        )\n",
    "    )\n",
    "\n",
    "    train_pool = Pool(\n",
    "        X_train, y_train, text_features=[\"text\"], feature_names=list(X_train)\n",
    "    )\n",
    "    val_pool = Pool(X_val, y_val, text_features=[\"text\"], feature_names=list(X_val))\n",
    "    test_pool = Pool(X_test, y_test, text_features=[\"text\"], feature_names=list(X_test))\n",
    "\n",
    "    # Define and start a new run\n",
    "    with mlflow.start_run():\n",
    "        preprocess_comb = (\n",
    "            f\"use_stopwords={use_stopwords}, transform_type={transform_type}\"\n",
    "        )\n",
    "        mlflow.log_param(\"Preprocessing\", preprocess_comb)\n",
    "        best = fmin(\n",
    "            fn=partial(\n",
    "                objective,\n",
    "                common_params=common_params,\n",
    "                train_pool=train_pool,\n",
    "                val_pool=val_pool,\n",
    "                use_stopwords=use_stopwords,\n",
    "                transform_type=transform_type,\n",
    "            ),\n",
    "            space=search_space,\n",
    "            algo=tpe.suggest,\n",
    "            max_evals=30,\n",
    "            trials=Trials(),\n",
    "            show_progressbar=True,\n",
    "        )\n",
    "\n",
    "        best_params = space_eval(search_space, best)\n",
    "\n",
    "        model = CatBoostClassifier(**{**common_params, **best_params})\n",
    "        model.fit(train_pool, eval_set=val_pool)\n",
    "\n",
    "        auc_train = roc_auc_score(\n",
    "            df_train[\"labels\"], model.predict_proba(train_pool)[:, 1])\n",
    "        auc_val = roc_auc_score(\n",
    "            df_val[\"labels\"], model.predict_proba(val_pool)[:, 1])\n",
    "        auc_test = roc_auc_score(\n",
    "            df_test[\"labels\"], model.predict_proba(test_pool)[:, 1])\n",
    "        mlflow.log_metric(\"AUC Train\", auc_train)\n",
    "        mlflow.log_metric(\"AUC Validation\", auc_val)\n",
    "        mlflow.log_metric(\"AUC Test\", auc_test)\n",
    "\n",
    "        params_to_log = {\n",
    "            key: str(value) for key, value in {**common_params, **best_params}.items()\n",
    "        }\n",
    "        mlflow.log_params(params_to_log)\n",
    "        \n",
    "        model.save_model(\"model.cbm\")\n",
    "        mlflow.log_artifact(\"model.cbm\", \"sentiment-analysis/catboost\")\n",
    "\n",
    "        print()\n",
    "        print(preprocess_comb)\n",
    "        print(\n",
    "            f\"ROC AUC Train: {np.round(auc_train * 100, 2)} | \"\n",
    "            f\"ROC AUC Val: {np.round(auc_val * 100, 2)} | \"\n",
    "            f\"ROC AUC Test: {np.round(auc_test * 100, 2)}\"\n",
    "        )\n",
    "        print()\n"
   ]
  },
  {
   "cell_type": "code",
   "execution_count": null,
   "id": "d5344eb6-a762-4d70-814a-271244ccc189",
   "metadata": {},
   "outputs": [],
   "source": []
  },
  {
   "cell_type": "code",
   "execution_count": null,
   "id": "64313c6b-b083-429e-869b-9126ae54faea",
   "metadata": {},
   "outputs": [],
   "source": []
  },
  {
   "cell_type": "code",
   "execution_count": null,
   "id": "94d15aa1-41af-47e9-a270-f2fa0aca9903",
   "metadata": {},
   "outputs": [],
   "source": []
  },
  {
   "cell_type": "code",
   "execution_count": null,
   "id": "3f9203e8-6ef5-4101-9edc-ca0ca3d6ea0a",
   "metadata": {},
   "outputs": [],
   "source": []
  },
  {
   "cell_type": "code",
   "execution_count": null,
   "id": "bee0ee11-c0a3-408c-b8f6-58c5de48ac06",
   "metadata": {},
   "outputs": [],
   "source": []
  },
  {
   "cell_type": "code",
   "execution_count": null,
   "id": "df1f8441-d446-424f-b620-6753f8d7afa3",
   "metadata": {},
   "outputs": [],
   "source": []
  },
  {
   "cell_type": "code",
   "execution_count": 34,
   "id": "8797f35f-063b-4752-811f-1ec08ebd2aba",
   "metadata": {},
   "outputs": [],
   "source": [
    "search_space = {\n",
    "    'learning_rate': hp.loguniform('learning_rate', -4.6, 0),\n",
    "    'iterations': hp.quniform('iterations', 100, 2000, 100),\n",
    "    'l2_leaf_reg': hp.quniform('l2_leaf_reg', 2, 30, 1),\n",
    "    'depth': hp.quniform('depth', 4, 16, 1),\n",
    "    'random_strength': hp.loguniform('random_strength', -20, 2.3),\n",
    "    'bagging_temperature': hp.uniform('bagging_temperature', 0.0, 1.0),\n",
    "    'border_count': hp.quniform('border_count', 1, 255, 1),\n",
    "    'scale_pos_weight': hp.uniform('scale_pos_weight', 0.01, 1.0), \n",
    "    }\n",
    "\n",
    "common_params = {\n",
    "    'loss_function': 'Logloss',\n",
    "    'eval_metric':'AUC',\n",
    "    'early_stopping_rounds': 20,\n",
    "    'random_seed': 42, \n",
    "    'verbose': 0,\n",
    "    'task_type': 'CPU',\n",
    "    'use_best_model': True\n",
    "}"
   ]
  },
  {
   "cell_type": "code",
   "execution_count": null,
   "id": "d81307c4-1278-4c56-9dc5-dc98670f160d",
   "metadata": {},
   "outputs": [
    {
     "name": "stdout",
     "output_type": "stream",
     "text": [
      "  2%|▏         | 1/50 [02:44<2:14:29, 164.69s/trial, best loss: -0.6915923604367147]"
     ]
    }
   ],
   "source": [
    "stop_word_vars = [False]\n",
    "word_transform_vars = [\"spacy_en_core_web_sm\"]\n",
    "\n",
    "for use_stopwords, transform_type in product(stop_word_vars, word_transform_vars):\n",
    "\n",
    "    X_train, X_val, X_test = df_train[[\"text\"]], df_val[[\"text\"]], df_test[[\"text\"]]\n",
    "    y_train, y_val, y_test = df_train[\"labels\"], df_val[\"labels\"], df_test[\"labels\"]\n",
    "\n",
    "    X_train.loc[:, \"text\"] = X_train[\"text\"].apply(\n",
    "        lambda x: apply_word_transform(\n",
    "            remove_stopwords(x, use_stopwords), transform_type\n",
    "        )\n",
    "    )\n",
    "    X_val.loc[:, \"text\"] = X_val[\"text\"].apply(\n",
    "        lambda x: apply_word_transform(\n",
    "            remove_stopwords(x, use_stopwords), transform_type\n",
    "        )\n",
    "    )\n",
    "    X_test.loc[:, \"text\"] = X_test[\"text\"].apply(\n",
    "        lambda x: apply_word_transform(\n",
    "            remove_stopwords(x, use_stopwords), transform_type\n",
    "        )\n",
    "    )\n",
    "\n",
    "    train_pool = Pool(\n",
    "        X_train, y_train, text_features=[\"text\"], feature_names=list(X_train)\n",
    "    )\n",
    "    val_pool = Pool(X_val, y_val, text_features=[\"text\"], feature_names=list(X_val))\n",
    "    test_pool = Pool(X_test, y_test, text_features=[\"text\"], feature_names=list(X_test))\n",
    "\n",
    "    # Define and start a new run\n",
    "    with mlflow.start_run(run_name=\"Best of combinations\"):\n",
    "        preprocess_comb = (\n",
    "            f\"use_stopwords={use_stopwords}, transform_type={transform_type}\"\n",
    "        )\n",
    "        mlflow.log_param(\"Preprocessing\", preprocess_comb)\n",
    "        best = fmin(\n",
    "            fn=partial(\n",
    "                objective,\n",
    "                common_params=common_params,\n",
    "                train_pool=train_pool,\n",
    "                val_pool=val_pool,\n",
    "                use_stopwords=use_stopwords,\n",
    "                transform_type=transform_type,\n",
    "            ),\n",
    "            space=search_space,\n",
    "            algo=tpe.suggest,\n",
    "            max_evals=50,\n",
    "            trials=Trials(),\n",
    "            show_progressbar=True,\n",
    "        )\n",
    "\n",
    "        best_params = space_eval(search_space, best)\n",
    "\n",
    "        model = CatBoostClassifier(**{**common_params, **best_params})\n",
    "        model.fit(train_pool, eval_set=val_pool)\n",
    "\n",
    "        auc_train = roc_auc_score(\n",
    "            df_train[\"labels\"], model.predict_proba(train_pool)[:, 1])\n",
    "        auc_val = roc_auc_score(\n",
    "            df_val[\"labels\"], model.predict_proba(val_pool)[:, 1])\n",
    "        auc_test = roc_auc_score(\n",
    "            df_test[\"labels\"], model.predict_proba(test_pool)[:, 1])\n",
    "        mlflow.log_metric(\"AUC Train\", auc_train)\n",
    "        mlflow.log_metric(\"AUC Validation\", auc_val)\n",
    "        mlflow.log_metric(\"AUC Test\", auc_test)\n",
    "\n",
    "        params_to_log = {\n",
    "            key: str(value) for key, value in {**common_params, **best_params}.items()\n",
    "        }\n",
    "        mlflow.log_params(params_to_log)\n",
    "        \n",
    "        model.save_model(\"model.cbm\")\n",
    "        mlflow.log_artifact(\"model.cbm\", \"sentiment-analysis/catboost\")\n",
    "\n",
    "        print()\n",
    "        print(preprocess_comb)\n",
    "        print(\n",
    "            f\"ROC AUC Train: {np.round(auc_train * 100, 2)} | \"\n",
    "            f\"ROC AUC Val: {np.round(auc_val * 100, 2)} | \"\n",
    "            f\"ROC AUC Test: {np.round(auc_test * 100, 2)}\"\n",
    "        )\n",
    "        print()"
   ]
  },
  {
   "cell_type": "code",
   "execution_count": null,
   "id": "05b0966a-4309-4b9c-8384-7d8acc1d3e5d",
   "metadata": {},
   "outputs": [],
   "source": []
  },
  {
   "cell_type": "code",
   "execution_count": null,
   "id": "defe0735-b291-4530-b19a-9d47e118f789",
   "metadata": {},
   "outputs": [],
   "source": []
  }
 ],
 "metadata": {
  "kernelspec": {
   "display_name": "Python 3 (ipykernel)",
   "language": "python",
   "name": "python3"
  },
  "language_info": {
   "codemirror_mode": {
    "name": "ipython",
    "version": 3
   },
   "file_extension": ".py",
   "mimetype": "text/x-python",
   "name": "python",
   "nbconvert_exporter": "python",
   "pygments_lexer": "ipython3",
   "version": "3.11.9"
  }
 },
 "nbformat": 4,
 "nbformat_minor": 5
}
