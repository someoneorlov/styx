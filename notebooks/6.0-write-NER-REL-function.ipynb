{
 "cells": [
  {
   "cell_type": "code",
   "execution_count": 1,
   "id": "39149053-95c7-4fe3-8e04-add4d87377b7",
   "metadata": {},
   "outputs": [],
   "source": [
    "import os\n",
    "\n",
    "import pandas as pd\n",
    "from tqdm import tqdm\n",
    "import requests"
   ]
  },
  {
   "cell_type": "code",
   "execution_count": 15,
   "id": "6331f5fe-dea5-4b87-b0ed-eb6c6175e5b7",
   "metadata": {},
   "outputs": [],
   "source": [
    "def extract_salient_entities(\n",
    "    data: list,\n",
    "    title: str = \"title\",\n",
    "    article: str = \"article\",\n",
    "    id: str = \"id\",\n",
    "):\n",
    "\n",
    "    annotated_articles = []\n",
    "\n",
    "    for row in tqdm(data, total=len(data)):\n",
    "\n",
    "        if len(row[title].split()) > 3300 or len(row[article].split()) > 3300:\n",
    "            continue\n",
    "\n",
    "        # Perform mention detection on headline and body text\n",
    "        el_title = requests.post(API_URL, json={\n",
    "            \"text\": row[title],\n",
    "            \"spans\": []\n",
    "        }).json()\n",
    "        el_article = requests.post(API_URL, json={\n",
    "            \"text\": row[article],\n",
    "            \"spans\": []\n",
    "        }).json()\n",
    "\n",
    "        # Filter mentions with the ORG tag\n",
    "        headline_mentions_org = [\n",
    "            mention for mention in el_title if mention[-1] == \"ORG\"\n",
    "        ]\n",
    "        print(headline_mentions_org)\n",
    "        body_text_mentions_org = [\n",
    "            mention for mention in el_article if mention[-1] == \"ORG\"\n",
    "        ]\n",
    "\n",
    "        # Mark salient entities\n",
    "        salient_entities_org = []\n",
    "        for body_entity in body_text_mentions_org:\n",
    "            if body_entity[3] in [\n",
    "                headline_entity[3] for headline_entity in headline_mentions_org\n",
    "            ]:\n",
    "                salient_entities_org.append(body_entity)\n",
    "\n",
    "        if salient_entities_org:\n",
    "            salient_entities_org_set = set([entity[3] for entity in salient_entities_org])\n",
    "        else:\n",
    "            salient_entities_org_set = {'None'}\n",
    "            \n",
    "        # Save the annotated article\n",
    "        annotated_articles.append(\n",
    "            {\n",
    "                \"raw_news_id\": row[id],\n",
    "                \"headline_mentions\": el_title,\n",
    "                \"body_text_mentions\": el_article,\n",
    "                \"salient_entities_org\": salient_entities_org,\n",
    "                \"salient_entities_set\": salient_entities_org_set,\n",
    "            }\n",
    "        )\n",
    "\n",
    "    return annotated_articles"
   ]
  },
  {
   "cell_type": "code",
   "execution_count": 3,
   "id": "5413e222-ffdf-4e86-a899-41208ee3eead",
   "metadata": {},
   "outputs": [],
   "source": [
    "API_URL = \"http://rel:5555/api\""
   ]
  },
  {
   "cell_type": "code",
   "execution_count": 4,
   "id": "cfb30e5d-feb8-42ac-aeb8-3f227782ba77",
   "metadata": {},
   "outputs": [],
   "source": [
    "db_host = os.getenv('DB_HOST')\n",
    "db_port = os.getenv('DB_PORT')\n",
    "db_name = os.getenv('DB_NAME')\n",
    "db_user = os.getenv('DB_USER')\n",
    "db_pass = os.getenv('DB_PASS')"
   ]
  },
  {
   "cell_type": "code",
   "execution_count": 21,
   "id": "583a7c22-c4de-48bc-a746-ed9806de57e6",
   "metadata": {},
   "outputs": [],
   "source": [
    "import psycopg2\n",
    "import json\n",
    "\n",
    "# Database connection parameters\n",
    "conn_params = {\n",
    "    \"host\": os.getenv('DB_HOST'),\n",
    "    \"port\": os.getenv('DB_PORT'),\n",
    "    \"database\": os.getenv('DB_NAME'),\n",
    "    \"user\": os.getenv('DB_USER'),\n",
    "    \"password\": os.getenv('DB_PASS')\n",
    "}\n",
    "\n",
    "# Connect to the PostgreSQL database\n",
    "conn = psycopg2.connect(**conn_params)\n",
    "cursor = conn.cursor()\n",
    "\n",
    "# SQL query to fetch the data\n",
    "query = \"SELECT id, title, text FROM raw_news_articles WHERE is_parsed = True limit 30;\"\n",
    "\n",
    "# Execute the query\n",
    "cursor.execute(query)\n",
    "\n",
    "# Fetch all rows\n",
    "rows = cursor.fetchall()\n",
    "\n",
    "# Close the connection\n",
    "cursor.close()\n",
    "conn.close()"
   ]
  },
  {
   "cell_type": "code",
   "execution_count": 22,
   "id": "2e9d945f-8c6d-480a-b411-8d2cf3b24abe",
   "metadata": {},
   "outputs": [],
   "source": [
    "# Convert rows to JSON\n",
    "data = [{\"id\": row[0], \"title\": row[1], \"text\": row[2]} for row in rows]\n",
    "json_data = json.dumps(data)"
   ]
  },
  {
   "cell_type": "code",
   "execution_count": 23,
   "id": "160971a9-e976-45d9-8649-565da6108162",
   "metadata": {
    "scrolled": true
   },
   "outputs": [
    {
     "data": {
      "text/plain": [
       "'{\"id\": 11890, \"title\": \"Nio stock price forecast: analysis as it breaks key support\", \"text\": \"Nio (NYSE: NIO) stock price is in its third consecutive week in the red as concerns about the EV industry continued. The stock crashed to a low of $6.55 on Tuesday and is now sitting at its lowest level since June 2020. It has fallen sharply from its all-time high of $67, which it reached in January 2021.\\\\n\\\\nEV bubble and saturation\\\\n\\\\nCopy link to section\\\\n\\\\nNio and other EV companies are not doing well. Tesla, often seen as the gold standard of the sector, has crashed by over 28% from its highest point in 2023. It has also been overtaken by Byd and forced to slash prices in a bid to gain market share and hit its production target.\\\\n\\\\nAt the same time, smaller EV companies like Mullen Automotive, Canoo, and Fisker are incinerating cash. The sector is also going through a period of saturation as most companies boost their vehicle production.\\\\n\\\\nNio is caught up in this challenge as well, which explains why its stock has plunged while its short interest has jumped to over 15%. This is a sign that many investors still believe that the stock has more downside to go.\\\\n\\\\nNio\\\\u2019s challenge is that it specializes on China, a market that has become highly saturated from brands like Xpeng, Li Auto, Byd, and Tesla. It is also facing significant competition challenges in Europe, where Chinese companies are aiming to gain share.\\\\n\\\\nFeatured Broker Looking to invest? Invest and trade CFD stocks, ETFs, digital assets & commodities in minutes with our highest-rated broker. Open your account Ad\\\\n\\\\nIn 2023, the EU started a review of China\\\\u2019s EV subsidies and how they will affect their industry. The concern in Europe is that companies like Nio and Byd are highly subsidised in China, making them cheaper than those made in the region.\\\\n\\\\nAre you looking for fast-news, hot-tips and market analysis? Sign-up for the Invezz newsletter, today.\\\\n\\\\nNio has continued to boost its deliveries in the past few months. It delivered 18,012 vehicles in December, a 13.9% YoY increase. It was the third straight month that its deliveries jumped. In all, Nio delivered 160,038 vehicles in 2023, up by 30.7%.\\\\n\\\\nNio has also raised cash recently from CYVN, a company based in Abu Dhabi. This $2.2 billion deal gives the company good access to a region that is growing exponentially, helped by tourism, finance, and energy sectors. These funds mean that Nio will likely not need any more funds in the foreseeable future.\\\\n\\\\nThe other challenge the company is facing is that its margins have thinned. It had a gross margin of 8% in Q3, down from 13.3% in the same period in 2022. It blamed this to vehicle margins as the company joined other EVs to slash prices.\\\\n\\\\nNio stock price forecast\\\\n\\\\nCopy link to section\\\\n\\\\nNIO chart by TradingView\\\\n\\\\nTurning to the weekly chart, we see that the Nio share price has been in a strong downward trend in the past few months. Its performance this week was notable since the stock managed to move below the key support at $7, the lowest swing on May 30th. This is a sign that bears have prevailed, as I wrote in December.\\\\n\\\\nNio\\\\u2019s stock has remained below the descending trendline, which connects its highest points since February 2022. It has remained below the 50-week and 100-week Exponential Moving Averages (EMA).\\\\n\\\\nThe Relative Strength Index (RSI) has also moved below the neutral point of 50. Therefore, the outlook for the stock is bearish, with the next point to watch being at the psychological level of $5, which is about 23% below the current level.\"}'"
      ]
     },
     "execution_count": 23,
     "metadata": {},
     "output_type": "execute_result"
    }
   ],
   "source": [
    "json.dumps(data[1])"
   ]
  },
  {
   "cell_type": "code",
   "execution_count": 24,
   "id": "117f8edd-aa58-4cfe-9f76-413cc2be4c2a",
   "metadata": {
    "scrolled": true
   },
   "outputs": [
    {
     "data": {
      "text/plain": [
       "'[{\"id\": 11889, \"title\": \"The weight loss drug market may soon get more crowded. Here are the companies trying to enter the booming space\", \"text\": \"In this article VKTX Follow your favorite stocks CREATE FREE ACCOUNT\\\\n\\\\nStill life of Wegovy an injectable prescription weight loss medicine that has helped people with obesity. It should be used with a weight loss plan and physical activity. Michael Siluk | UCG | Getty Images\\\\n\\\\nBoehringer Ingelheim\\\\n\\\\nBoehringer Ingelheim is developing a weight loss drug with Danish biotech firm Zealand Pharma. That company has been working on obesity treatments for nearly a decade. Their experimental drug works by targeting two gut hormones: GLP-1 to suppress appetite, and glucagon to increase energy expenditure. Some popular weight loss drugs such as Novo Nordisk\\'s Wegovy only target GLP-1. Boehringer Ingelheim in August said it was moving the drug, called survodutide, into a late-stage study, bringing it one step closer to potential Food and Drug Administration approval. A mid-stage trial found patients who are overweight or have obesity lost up to 19% of their weight after 46 weeks of treatment with the drug. That weight loss could be closer to 20% to 25% in a phase three trial, Zealand Pharma said ahead of the JPMorgan Healthcare Conference last week. It\\'s unclear when that product could win approval.\\\\n\\\\nTerns Pharmaceuticals\\\\n\\\\nSmaller drugmakers are developing their own weight loss drugs. They could eventually enter the market through a buyout or partnerships with large pharmaceutical companies. Those companies include Terns Pharmaceuticals, which is much earlier in the development process than Boehringer Ingelheim is. The company is conducting an early-stage trial examining its oral weight loss drug, which works by targeting GLP-1, in patients who are overweight or obese. Oral drugs will likely be easier for patients to take and for companies to manufacture compared to the existing weight loss injections. Terns Pharmaceuticals expects to release initial 28-day data from that trial in the second half of 2024, the company\\'s head of research and development, Erin Quirk, said during the conference. Quirk acknowledged that it may be difficult for Terns to set its pill apart from other weight loss drugs. But she added that \\\\\"even if it\\'s not the best\\\\u2026analysts are out there predicting that this could be $100 billion market. If you get a 1% piece of that, that\\'s a $1 billion drug, right?\\\\\"\\\\n\\\\nSmall biotech companies make moves\\\\n\\\\nOther small drugmakers trying to enter the space include Viking Therapeutics, which is developing drugs that target GLP-1 and another hormone called GIP. Those are the same hormones that Eli Lilly\\'s weight loss and diabetes drugs, Zepbound and Mounjaro, target. Viking Therapeutics expects to release mid-stage trial data on its weight loss injection in the first half of the year. An early-stage study on that drug showed that it caused up to 7.8% weight loss after 28 days. The company is also slated to release phase one trial data on an oral version of its weight loss drug during the first quarter of the year. Structure Therapeutics is similarly developing an obesity pill, which missed Wall Street\\'s expectations for weight loss in a mid-stage trial last month. The oral drug helped obese patients lose roughly 5% of their weight compared to patients who received a placebo after eight weeks. Before that data was published, Jefferies analyst Roger Song had said he was expecting 6% to 7% weight loss relative to a placebo. Structure said it expects full 12-week results on patients with obesity in the second quarter of this year. The company plans to launch a larger mid-stage study in the second half of 2024 and a late-stage trial in 2026.\\\\n\\\\nPotential players down the line\"}, {\"id\": 11890, \"title\": \"Nio stock price forecast: analysis as it breaks key support\", \"text\": \"Nio (NYSE: NIO) stock price is in its third consecutive week in the red as concerns about the EV industry continued. The stock crashed to a low of $6.55 on Tuesday and is now sitting at its lowest level since June 2020. It has fallen sharply from its all-time high of $67, which it reached in January 2021.\\\\n\\\\nEV bubble and saturation\\\\n\\\\nCopy link to section\\\\n\\\\nNio and other EV companies are not doing well. Tesla, often seen as the gold standard of the sector, has crashed by over 28% from its highest point in 2023. It has also been overtaken by Byd and forced to slash prices in a bid to gain market share and hit its production target.\\\\n\\\\nAt the same time, smaller EV companies like Mullen Automotive, Canoo, and Fisker are incinerating cash. The sector is also going through a period of saturation as most companies boost their vehicle production.\\\\n\\\\nNio is caught up in this challenge as well, which explains why its stock has plunged while its short interest has jumped to over 15%. This is a sign that many investors still believe that the stock has more downside to go.\\\\n\\\\nNio\\\\u2019s challenge is that it specializes on China, a market that has become highly saturated from brands like Xpeng, Li Auto, Byd, and Tesla. It is also facing significant competition challenges in Europe, where Chinese companies are aiming to gain share.\\\\n\\\\nFeatured Broker Looking to invest? Invest and trade CFD stocks, ETFs, digital assets & commodities in minutes with our highest-rated broker. Open your account Ad\\\\n\\\\nIn 2023, the EU started a review of China\\\\u2019s EV subsidies and how they will affect their industry. The concern in Europe is that companies like Nio and Byd are highly subsidised in China, making them cheaper than those made in the region.\\\\n\\\\nAre you looking for fast-news, hot-tips and market analysis? Sign-up for the Invezz newsletter, today.\\\\n\\\\nNio has continued to boost its deliveries in the past few months. It delivered 18,012 vehicles in December, a 13.9% YoY increase. It was the third straight month that its deliveries jumped. In all, Nio delivered 160,038 vehicles in 2023, up by 30.7%.\\\\n\\\\nNio has also raised cash recently from CYVN, a company based in Abu Dhabi. This $2.2 billion deal gives the company good access to a region that is growing exponentially, helped by tourism, finance, and energy sectors. These funds mean that Nio will likely not need any more funds in the foreseeable future.\\\\n\\\\nThe other challenge the company is facing is that its margins have thinned. It had a gross margin of 8% in Q3, down from 13.3% in the same period in 2022. It blamed this to vehicle margins as the company joined other EVs to slash prices.\\\\n\\\\nNio stock price forecast\\\\n\\\\nCopy link to section\\\\n\\\\nNIO chart by TradingView\\\\n\\\\nTurning to the weekly chart, we see that the Nio share price has been in a strong downward trend in the past few months. Its performance this week was notable since the stock managed to move below the key support at $7, the lowest swing on May 30th. This is a sign that bears have prevailed, as I wrote in December.\\\\n\\\\nNio\\\\u2019s stock has remained below the descending trendline, which connects its highest points since February 2022. It has remained below the 50-week and 100-week Exponential Moving Averages (EMA).\\\\n\\\\nThe Relative Strength Index (RSI) has also moved below the neutral point of 50. Therefore, the outlook for the stock is bearish, with the next point to watch being at the psychological level of $5, which is about 23% below the current level.\"}, {\"id\": 11891, \"title\": \"Insect populations flourish in the restored habitats of solar energy facilities\", \"text\": \"This article has been reviewed according to Science X\\'s editorial process and policies . Editors have highlighted the following attributes while ensuring the content\\'s credibility:\\\\n\\\\nA solar-pollinator habitat, dominated by purple prairie clover and black-eyed susan flowering plants. Credit: Argonne National Laboratory/Lee Walston\\\\n\\\\nBumblebees buzz from flower to flower, stopping for a moment under a clear blue Minnesota sky. Birds chirp, and tall grasses blow in the breeze. This isn\\'t a scene from a pristine nature preserve or national park. It is nestled between photovoltaic (PV) solar arrays on rehabilitated farmland.\\\\n\\\\nResearchers at the U.S. Department of Energy\\'s (DOE) Argonne National Laboratory and National Renewable Energy Laboratory wanted to understand the ecological value of PV solar energy sites planted with native grasses and wildflowers. They examined how vegetation would establish and how insect communities would respond to the newly established habitat. The five-year field study published in Environmental Research Letters looked at two solar sites in southern Minnesota operated by Enel Green Power North America. Both sites were built on retired agricultural land.\\\\n\\\\nSmart land use choices provide multiple benefits\\\\n\\\\nGlobal insect biodiversity has been in decline due to habitat loss, pesticides and climate change. Restoration of insect habitat paired with smart land use changes toward renewable energy developments could help reverse the course.\\\\n\\\\nFor instance, as a carbon-neutral source of electricity, expanded PV solar energy development is critical to mitigating climate change. According to the DOE\\'s Solar Futures Study, approximately 10 million acres of land in the U.S. will be needed for large-scale solar development by 2050 in order to meet grid decarbonization and climate change goals. But some lands are better suited for PV solar development than others. Disturbed lands such as former agricultural fields are ideal locations to hold rows of solar panels compared to lands that have been previously undisturbed.\\\\n\\\\nEven more strategies can be added to this winning combination to support insect conservation. Agrivoltaics is the combination of solar energy production with agricultural and vegetation management practices. One type of agrivoltaics focuses on the establishment of habitat for insect pollinators and other wildlife that can provide important ecosystem services, such as pollination.\\\\n\\\\nPairing solar energy facilities on previously disturbed lands with habitat enhancement sounds like a logical win-win strategy to address energy and biodiversity challenges. To date, however, there has been little field data available to document the feasibility and the ecological benefits of this novel land use approach.\\\\n\\\\nAn Argonne scientist surveys for pollinators at a utility-scale solar facility. Credit: Argonne National Laboratory/Lee Walston\\\\n\\\\nIf you build it, will they come?\\\\n\\\\nThe two studied solar sites were planted with native grasses and flowering plants in early 2018. From August 2018 through August 2022, the researchers conducted 358 observational surveys for flowering vegetation and insect communities. They evaluated changes in plant and insect abundance and diversity with each visit.\\\\n\\\\n\\\\\"The effort to obtain these data was considerable, returning to each site four times per summer to record pollinator counts,\\\\\" said Heidi Hartmann, manager of the Land Resources and Energy Policy Program in Argonne\\'s Environmental Sciences division, and one of the study\\'s co-authors. \\\\\"Over time we saw the numbers and types of flowering plants increase as the habitat matured. Measuring the corresponding positive impact for pollinators was very gratifying.\\\\\"\\\\n\\\\nBy the end of the field campaign, the team had observed increases for all habitat and biodiversity metrics. There was an increase in native plant species diversity and flower abundance. In addition, the team observed increases in the abundance and diversity of native insect pollinators and agriculturally beneficial insects, which included honeybees, native bees, wasps, hornets, hoverflies, other flies, moths, butterflies and beetles.\\\\n\\\\nFlowers and flowering plant species increased as well. Total insect abundance tripled, while native bees showed a 20-fold increase in numbers. The most numerous insect groups observed were beetles, flies and moths.\\\\n\\\\nIn an added benefit, the researchers found that pollinators from the solar sites also visited soybean flowers in adjacent crop fields, providing additional pollination services.\\\\n\\\\nA monarch caterpillar on a common milkweed leaf. Credit: Argonne National Laboratory/Lee Walston\\\\n\\\\nThe benefits of solar-pollinator habitats\\\\n\\\\n\\\\\"This research highlights the relatively rapid insect community responses to habitat restoration at solar energy sites,\\\\\" said Lee Walston, an Argonne landscape ecologist and environmental scientist who was lead author of the study. \\\\\"It demonstrates, if properly sited, habitat-friendly solar energy can be a feasible way to safeguard insect populations and can improve the pollination services in adjacent agricultural fields.\\\\\" Walston also serves as head of the Ecology, Natural Resources, and Managed Systems department in Argonne\\'s Environmental Science division.\\\\n\\\\nThe research findings suggest two important implications of habitat-friendly solar energy. One is that habitat-friendly solar sites can play an important role in conserving biodiversity. Large amounts of ground-mounted solar is expected to be developed in the future, but if properly sited, habitat-friendly solar can offset the losses of natural areas to provide biodiversity benefits.\\\\n\\\\nSecond, habitat-friendly solar sites can help mitigate land-use conflicts associated with the conversion of farmland for solar energy production. As approximately 80% of future ground-mounted solar development could occur on agricultural lands, the proper siting of habitat-friendly solar energy on marginal farmland can not only preserve prime farmland, but it could make prime farmland more productive through the pollination services provided by habitat-friendly solar energy.\\\\n\\\\nOverall, additional research is needed to understand the feasibility of habitat-friendly solar across different regions and to meet different ecological goals such as conserving a target insect or wildlife species.\\\\n\\\\nMore information: Leroy J Walston et al, If you build it, will they come? Insect community responses to habitat establishment at solar energy facilities in Minnesota, USA, Environmental Research Letters (2023). DOI: 10.1088/1748-9326/ad0f72 Journal information: Environmental Research Letters\"}, {\"id\": 11892, \"title\": \"Epic plans to contest Apple\\\\u2019s \\\\u2018bad-faith\\\\u2019 compliance with court ruling over App Store\", \"text\": \"Fortnite maker Epic Games is not happy about how Apple intends to comply with a district court\\\\u2019s injunction that permitted app developers to direct users to their own websites and payment platforms \\\\u2014 a court order that came into effect following the Supreme Court\\\\u2019s decision to not hear the Apple antitrust case, leaving the current ruling to stand. Though Apple had largely won the case, as the court decided it was not a monopolist, a judge ruled that app makers should be able to steer their customers to the web from links or buttons inside their apps, something that forced Apple to change its App Store rules.\\\\n\\\\nBut Apple\\\\u2019s compliance doesn\\\\u2019t give app makers the victory they had hoped, as the tech giant aims to still charge commissions on purchases made outside of apps \\\\u2014 a decision Epic aims to challenge in court.\\\\n\\\\nAccording to statements made by Epic Games CEO Tim Sweeney, shared on X, Apple\\\\u2019s \\\\u201cbad-faith\\\\u201d compliance undermines the judge\\\\u2019s order that would have allowed buttons or external links \\\\u201cin addition to [in-app purchases].\\\\u201d\\\\n\\\\nThe Ninth Circuit District Court had ruled on one count of out 10 in favor of Epic in its decision, finding that Apple violated California\\\\u2019s Unfair Competition law. The decision meant Apple had to remove the \\\\u201canti-steering\\\\u201d clause from its agreement with App Store developers. This clause for years had prevented app developers from directing their customers to other ways to pay for in-app purchases or subscriptions from inside their apps, leading to confusing screens or broken features, where customers would have to figure out on their own how to make the necessary purchases from the developer\\\\u2019s website.\\\\n\\\\nApple updated its App Store Guidelines following the Supreme Court\\\\u2019s decision but with a lot of caveats. It said that developers would still have to pay a 27% cut on purchases, instead of 30%, and developers in Apple\\\\u2019s Small Business Program or auto-renewing subscriptions in their second year would be reduced to 12%, instead of 15%. This three percentage point discount is similar to what Google is offering through its User Choice billing pilot program, which counts Spotify and Bumble among its early adopters. In Google\\\\u2019s case, it reduced the required commissions by 4%. But these small discounts aren\\\\u2019t enough to make alternative payment processing worthwhile for most developers who have to pay at least that much in payment processing fees, many have argued.\\\\n\\\\nSweeney agrees, noting in his post today, shared on X, that developers aren\\\\u2019t able to offer their digital items \\\\u201cmore cheaply on the web after paying a third-party payment processor 3-6% and paying this new 27% Apple Tax.\\\\u201d\\\\n\\\\nApple filed a bad-faith \\\\u201ccompliance\\\\u201d plan for the District Court\\\\u2019s injunction. It totally undermines the order allowing \\\\u201cbuttons, external links, or other calls to action that direct customers to purchasing mechanisms, in addition to IAP\\\\u201d.https://t.co/ofbuMwe7SH \\\\u2014 Tim Sweeney (@TimSweeneyEpic) January 16, 2024\\\\n\\\\nIn addition, he points out that Apple is strictly controlling how the new links and buttons must appear. In addition to forcing developers to apply for permission, the links can\\\\u2019t be in the app\\\\u2019s ordinary payment flow but must be in a separate section of the app, Sweeney explains. The links also open to a generic web browser session, forcing users to log in again to the developer\\\\u2019s website \\\\u2014 an additional point of friction in making a non-App Store purchase. And then customers will have to initiate a search to find the item they wanted to buy, after logging in.\\\\n\\\\nApple will also \\\\u201cfront-run competing payment processors with their own \\\\u2018scare screen\\\\u2019 to disadvantage them,\\\\u201d Sweeney says, meaning that Apple will warn users about the issues that may arise when transacting with a developer outside its App Store. For instance, users won\\\\u2019t be able to cancel their subscriptions within Apple\\\\u2019s App Store or request refunds \\\\u2014 they\\\\u2019ll have to do this through the developer\\\\u2019s website.\\\\n\\\\nSweeney says Epic will contest Apple\\\\u2019s compliance in District Court.\\\\n\\\\nI love this screenshot, if you look closely you can see the content designers losing the fight with the lawyers https://t.co/uwUcqMrb0T \\\\u2014 Owen Williams \\\\u26a1 (@ow) January 17, 2024\\\\n\\\\nThe developer lobbying group, Coalition for App Fairness, which also includes Epic, issued its own statement on Apple\\\\u2019s new App Store rules.\\\\n\\\\n\\\\u201cApple\\\\u2019s approach to \\\\u2018compliance\\\\u2019 with the District Court\\\\u2019s decision will not benefit developers and consumers. The new 27 percent commission on payments it does not process defies the intention of the District Court\\\\u2019s injunction and undermines competition,\\\\u201d said Rick VanMeter, executive director of the Coalition for App Fairness. \\\\u201cThese changes do nothing to enhance consumer choice, lower prices for in-app purchases or inject competition into Apple\\\\u2019s walled garden. It is precisely this type of abusive, monopolistic behavior that makes it imperative for Congress to pass the Open App Markets Act,\\\\u201d he added.\\\\n\\\\nUpdate, 1/14/24, 2:05 p.m. ET:\\\\n\\\\nSpotify also issued the following statement about Apple\\\\u2019s new App Store policies:\"}, {\"id\": 11894, \"title\": \"Cable firms to FTC: We shouldn\\\\u2019t have to let users cancel service with a click\", \"text\": \"Lobbyists for cable companies and advertisers yesterday expressed their displeasure with a proposed \\\\\"click-to-cancel\\\\\" regulation that aims to make it easier for consumers to cancel services.\\\\n\\\\nFederal Trade Commission Chair Lina Khan has said that changes are needed because \\\\\"some businesses too often trick consumers into paying for subscriptions they no longer want or didn\\'t sign up for in the first place.\\\\\" The FTC proposed the new set of rules in March 2023, and comments from industry groups were taken yesterday in a hearing presided over by an administrative law judge.\\\\n\\\\nNCTA-The Internet & Television Association, the primary trade group for cable companies like Comcast and Charter, said the rule would make it harder to offer deals to customers who are trying to cancel.\\\\n\\\\n\\\\\"The proposed simple click-to-cancel mechanism may not be so simple when such practices are involved. A consumer may easily misunderstand the consequences of canceling and it may be imperative that they learn about better options,\\\\\" NCTA CEO Michael Powell said at the hearing. For example, a customer \\\\\"may face difficulty and unintended consequences if they want to cancel only one service in the package,\\\\\" as \\\\\"canceling part of a discounted bundle may increase the price for remaining services.\\\\\"\\\\n\\\\nPowell said that cable company reps can usually talk customers out of canceling. \\\\\"Out of millions of cancellations, complaints received by NCTA members amount to only a tiny fraction of 1 percent,\\\\\" he said. \\\\\"Three out of four of the cable and broadband customers who called to cancel end up retaining some or all service after speaking with an agent.\\\\\"\\\\n\\\\nPowell worries that retaining customers will become tougher because, he said, the FTC \\\\\"proposal prevents almost any communication without first obtaining a consumer\\'s unambiguous, affirmative consent. That could disrupt the continuity of important services, choke off helpful information and forgo potential savings. It certainly raises First Amendment issues.\\\\\"\\\\n\\\\nAdvertisement\\\\n\\\\nPowell also said the cost of complying\\\\u2014including retraining employees and maintaining records for longer than current practice\\\\u2014could force cable companies to raise prices. He claimed that the FTC\\'s estimate of compliance costs is too low.\\\\n\\\\nFTC: Sellers must take \\\\u201cno\\\\u201d for an answer\\\\n\\\\nThe FTC said one of its proposed rules \\\\\"would require businesses to make it at least as easy to cancel a subscription as it was to start it. For example, if you can sign up online, you must be able to cancel on the same website, in the same number of steps.\\\\\"\\\\n\\\\nSellers would also have to obtain customer consent before they \\\\\"pitch additional offers or modifications when a consumer tries to cancel their enrollment,\\\\\" the FTC said. Before making those pitches, sellers would have to \\\\\"ask consumers whether they want to hear them. In other words, a seller must take \\'no\\' for an answer and upon hearing \\'no\\' must immediately implement the cancellation process.\\\\\"\\\\n\\\\nThe FTC also proposes that sellers be required to \\\\\"provide an annual reminder to consumers enrolled in negative option programs involving anything other than physical goods, before they are automatically renewed.\\\\\"\\\\n\\\\nAt yesterday\\'s hearing, the FTC also heard from the Interactive Advertising Bureau (IAB), a lobby group for the online advertising industry. \\\\\"The proposed rule would disrupt the current regime by adding specific requirements dictating what auto-renewal disclosures must say and how they must be presented,\\\\\" said Lartease Tiffith, the IAB\\'s executive VP for public policy.\\\\n\\\\nTiffith argued that the rule will burden businesses \\\\\"and restrict innovation without any corresponding benefit. And as the technology develops, these prescriptive requirements will constrain companies from being able to adapt their offerings to the needs of their customers.\\\\\"\\\\n\\\\nTiffith defended auto-renewals generally, saying the practice of automatically renewing services brings \\\\\"significant benefits to both businesses and consumers in the form of cost savings, convenience, and heightened value.\\\\\"\"}, {\"id\": 11895, \"title\": \"Former Meta COO Sheryl Sandberg to leave board amid AI boom\", \"text\": \"Listen 2 min Share Comment on this story Comment Add to your saved stories Save\\\\n\\\\nFormer Meta chief operating officer Sheryl Sandberg is leaving the company\\\\u2019s board of directors after 12 years, marking the end of her leadership of the transformative \\\\u2014 and often controversial \\\\u2014 social media giant. Tech is not your friend. We are. Sign up for The Tech Friend newsletter. ArrowRight Sandberg, who helped turned the company from a viral social media site for college kids into one of the most profitable digital-advertising businesses in the world, announced she was stepping down from her role as COO in 2022. She left Meta during a difficult financial period marked by multiple rounds of layoffs and revenue losses.\\\\n\\\\nSince Sandberg\\\\u2019s departure from the C-suite, the company has evolved into a dramatically different entity. Meta chief executive Mark Zuckerberg, after laying off tens of thousands of workers, has sought to remake its culture to become more efficient and focused. Meanwhile, Meta has thrust its resources toward big bets of generative artificial intelligence and virtual-reality-powered services \\\\u2014 and away from its original big blue app.\\\\n\\\\nAdvertisement\\\\n\\\\n\\\\u201cWith a heart filled with gratitude and a mind filled with memories, I let the Meta board know that I will not stand for reelection this May,\\\\u201d Sandberg wrote in a Facebook post Wednesday. \\\\u201cAfter I left my role as COO, I remained on the board to help ensure a successful transition.\\\\u201d\\\\n\\\\nShare this article Share\\\\n\\\\nSandberg wrote that she plans to continue to serve as an adviser. Javier Olivan, a longtime Meta executive, replaced Sandberg as chief operating officer but took on a less outwardly visible role.\\\\n\\\\nZuckerberg commented on the post that Sandberg\\\\u2019s contributions had been \\\\u201cinstrumental in driving our success.\\\\u201d\\\\n\\\\n\\\\u201cThank you Sheryl for the extraordinary contributions you have made to our company and community over the years,\\\\u201d he wrote. \\\\u201cI am grateful for your unwavering commitment to me and Meta over the years. I look forward to this next chapter together!\\\\u201d\\\\n\\\\nAdvertisement\\\\n\\\\nSandberg, who spent 14 years at Meta as COO after a stint at Google, was also often the company\\\\u2019s face in Washington during its most controversial moments. She defended the company after the 2018 Cambridge Analytica scandal, when a Trump-affiliated consultancy siphoned data from millions of Facebook users, as well as the revelations that Russia attempted to use Facebook to influence the 2016 presidential election.\\\\n\\\\nSandberg, who championed women\\\\u2019s empowerment in the workplace, is leaving the board at a time when a generation of top female leaders in Silicon Valley is thinning out.\\\\n\\\\nSince stepping down, Sandberg has increased her political activity. Following the Supreme Court\\\\u2019s decision to overturn Roe v. Wade, she announced a $3 million donation to the American Civil Liberties Union to fight abortion restrictions in statehouses. Most recently, she has spoken against sexual violence against women during the Israel-Gaza war.\"}, {\"id\": 19224, \"title\": \"Japan kicks in another $4.8 billion for TSMC plant\", \"text\": \"The Japanese government will provide an additional \\\\u00a5732 billion ($4.86 billion) in subsidies for Taiwan Semiconductor Manufacturing Co. to expand its plant in the country, Economy Minister Ken Saito said on Saturday.\\\\n\\\\n\\\\u201cTSMC is the most important partner for Japan in realizing digital transformation, and its Kumamoto factory is an important contributor for us to stably procure cutting-edge logic chips that is extremely essential for the future of industries in Japan,\\\\u201d he said at the opening ceremony for TSMC\\\\u2019s Kumamoto factory.\\\\n\\\\nThe chipmaker, Taiwan\\\\u2019s largest company, plans to start shipping logic chips for CMOS camera sensors and automobiles from the facility in Kumamoto on the island of Kyushu by the end of this year through its venture with iconic local companies including Sony Group Corp. and Toyota Motor Corp. The government has already allocated \\\\u00a5476 billion for the factory.\\\\n\\\\nThe new aid will go toward construction of a new fabrication building next to the existing one, the company\\\\u2019s first in Japan. Known as TSMC Fab-23 Phase 2, the project announced by TSMC earlier this month will produce chips as narrow as 6 nanometer and plans mass production by 2027.\\\\n\\\\nJapan has paid trillions of yen for companies such as TSMC, Samsung Electronics Co. and Micron Technology Inc. to move some operations to the country to secure supply of chips used in everything from automobile production to mobile phones.\\\\n\\\\n\\\\u201cGovernments around the world are fiercely competing by throwing in a large amount of money so that they can secure domestic supply of chips, and Japan investing this amount of money is necessary for us to foster further development of industries and economic security,\\\\u201d the minister said. \\\\u201cWe learned from mistakes in the past, and I\\\\u2019m sure we have dazzled the rest of the world by the speed with which we have implemented.\\\\u201d\"}, {\"id\": 11896, \"title\": \"Google CEO tells employees to expect more job cuts this year\", \"text\": \"Google has laid off over a thousand employees across various departments since January 10th. CEO Sundar Pichai\\\\u2019s message is to brace for more cuts.\\\\n\\\\n\\\\u201cWe have ambitious goals and will be investing in our big priorities this year,\\\\u201d Pichai told all Google employees on Wednesday in an internal memo that was shared with me. \\\\u201cThe reality is that to create the capacity for this investment, we have to make tough choices.\\\\u201d\\\\n\\\\nSo far, those \\\\u201ctough choices\\\\u201d have included layoffs and reorganizations in Google\\\\u2019s hardware, ad sales, search, shopping, maps, policy, core engineering, and YouTube teams.\\\\n\\\\n\\\\u201cThese role eliminations are not at the scale of last year\\\\u2019s reductions, and will not touch every team,\\\\u201d Pichai wrote in his memo \\\\u2014 a reference to when Google cut 12,000 jobs this time last year. \\\\u201cBut I know it\\\\u2019s very difficult to see colleagues and teams impacted.\\\\u201d\\\\n\\\\nPichai said the layoffs this year were about \\\\u201cremoving layers to simplify execution and drive velocity in some areas.\\\\u201d He confirmed what many inside Google have been fearing: that more \\\\u201crole eliminations\\\\u201d are to come.\\\\n\\\\n\\\\u201cMany of these changes are already announced, though to be upfront, some teams will continue to make specific resource allocation decisions throughout the year where needed, and some roles may be impacted,\\\\u201d he wrote.\"}, {\"id\": 11897, \"title\": \"Surprise Build In Crude Oil Inventories Weigh On Prices\", \"text\": \"Crude oil inventories in the United States rose this week by 483,000 barrels for the week ending January 12, according to The American Petroleum Institute (API), after analysts predicted a draw of 2.4 million barrels. The API reported a 5.215-million-barrel draw in crude inventories in the week prior.\\\\n\\\\nOn Tuesday, the Department of Energy (DoE) reported that crude oil inventories in the Strategic Petroleum Reserve (SPR) rose by 0.6 million barrels again this week. Inventories are now at 355.6 million barrels.\\\\n\\\\nOil prices were mixed ahead of the API data release. At 4:20 pm ET, Brent crude was trading down 0.26% at $78.09\\\\u2014but up $0.67 per barrel compared to where it was this same time last week. The U.S. benchmark WTI was trading up on the day by 0.59% at $72.83, up $0.76 per barrel compared to this time last week.\\\\n\\\\nGasoline inventories saw another large build this week, rising by 4.86 million barrels after rising by 4.896 million barrels in the week prior. As of last week, gasoline inventories are now about 1% above the five-year average for this time of year, according to EIA data.\\\\n\\\\nDistillate inventories also rose this week, by 5.21 million barrels, after rising by 6.873 million barrels in the week prior. Distillates are roughly 4% below the five-year average.\\\\n\\\\nCushing inventories fell by 1.98 million barrels after falling by 625,000 barrels in the previous week.\\\\n\\\\nBy Julianne Geiger for Oilprice.com\\\\n\\\\nADVERTISEMENT\\\\n\\\\nMore Top Reads From Oilprice.com:\"}, {\"id\": 11898, \"title\": \"TSMC\\\\u2019s $59 Billion Rally May Extend on AI Demand\", \"text\": \"(Bloomberg) -- A rally in Taiwan Semiconductor Manufacturing Company Ltd. may get a fresh push as renewed optimism over artificial intelligence offsets concerns on China relations after Taiwan\\\\u2019s presidential election.\\\\n\\\\nMost Read from Bloomberg\\\\n\\\\nShares of the world\\\\u2019s largest foundry have rallied 12% from a September low, adding $59 billion to its market value, as investors bet on a recovery in the global chip industry after more than a year of inventory correction. Daily call options volume on TSMC\\\\u2019s American depositary receipts has been building recently on bullish bets ahead of the company\\\\u2019s earnings report due Thursday.\\\\n\\\\nStill, the shares remain 15% below their record level set two years ago, even as its global chip peers and A-list clients including Nvidia Corp. have regained all-time highs on AI hype and the gradual rebound in broader chip demand. Given the muted geopolitical reaction to the Taiwan leadership vote, some investors expect a catch-up in TSMC, with the average price target implying a gain of 20% over the next year.\\\\n\\\\n\\\\u201cWe hope this one issue is now out of the way and this name could finally break out given its unquestionable dominance in AI chip production,\\\\u201d said Amir Anvarzadeh, a strategist at Asymmetric Advisors Ltd. TSMC shares may rise further on low valuations combined with the company\\\\u2019s better-than-expected sales and likely price hikes, he added.\\\\n\\\\nWorld Chip Sales Return to Growth in Sign of Improving Demand\\\\n\\\\nThe consensus forward earnings estimate for TSMC has climbed back to a record high, as the company beat fourth-quarter revenue expectations. The stock has 35 buy ratings versus two holds and no sells.\\\\n\\\\nStory continues\\\\n\\\\nAs the contract manufacturer of the 5-nanometer semiconductors designed by Nvidia, TSMC is seen as a prime beneficiary of the AI boom. While a recovery in smartphone demand has been slow to get off the ground, Apple Inc. is adopting the company\\\\u2019s more advanced, and higher priced, 3-nanometer chips in its latest iPhones.\\\\n\\\\nTSMC rallied with global chip stocks since autumn before losing some steam since the start of the year on concerns over friction with China resulting from Taiwan\\\\u2019s election. The presidency was won by the ruling Democratic Progressive Party\\\\u2019s Lai Ching-te, who is seen as a \\\\u201cseparatist\\\\u201d by China, though his party lost the control of the parliament.\\\\n\\\\nLai has supported TSMC\\\\u2019s decision to expand manufacturing overseas, saying it strengthens the company\\\\u2019s as well as Taiwan\\\\u2019s influence internationally. Beijing has so far had a muted reaction to Lai\\\\u2019s victory, reiterating its opposition to the island\\\\u2019s independence.\\\\n\\\\nWhy Making Computer Chips Has Become a New Arms Race: QuickTake\\\\n\\\\n\\\\u201cI believe there will be minimal effect on TSMC\\\\u201d from the election, said Bloomberg Intelligence analyst Charles Shum. \\\\u201cLai\\\\u2019s victory suggests a continuation of Taiwan government\\\\u2019s semiconductor-focused economic growth strategy.\\\\u201d\\\\n\\\\nUpcoming results may highlight negative impacts from spending on factories in the US and elsewhere, as well as the strengthening of the Taiwan dollar and risings labor costs. But relative cheapness is seen supporting the stock, trading at 15 times forward earnings estimates compared with a five-year median of 18 times and Nvidia\\\\u2019s 28 times.\\\\n\\\\n\\\\u201cWe like TSMC as we think its solid technology leadership and execution better position it vs peers to capture the industry\\\\u2019s long-term structural growth, particularly in areas such as 5G or AI,\\\\u201d Goldman Sachs Inc. analysts including Bruce Lu wrote in a note, adding that its valuation remains attractive.\\\\n\\\\nTech Chart of the Day\\\\n\\\\nAn index that tracks volatility in the Nasdaq 100 Stock Index jumped to the highest in more than two months on Wednesday after a pair of strong US economic reports boosted speculation the Federal Reserve will be in no hurry to cut interest rates, weighing on tech stocks. The Cboe NDX Volatility Index rose as much as 8.6%, hitting the highest in about two months. The spike comes after a lull in volatility that saw the index drop to the lowest since 2019 a month ago.\\\\n\\\\nTop Tech News\\\\n\\\\nSamsung Electronics Co. is targeting double-digit growth for its latest flagship smartphone series, powered with an array of new artificial intelligence features.\\\\n\\\\nApple Inc.\\\\u2019s iPhone dethroned Samsung Electronics Co. devices to become the best-selling smartphone series over the course of 2023, the first time South Korea\\\\u2019s largest company has lost the top spot since 2010.\\\\n\\\\nVerizon Communications Inc. is writing down the value of its business services division by $5.8 billion, a sign of the company\\\\u2019s declining enterprise operations.\\\\n\\\\nAlphabet Inc.\\\\u2019s Google is rolling out a series of broad changes to some of its core search, browser and data products in Europe, in order to step in line with the European Union\\\\u2019s new rules to rein in Big Tech\\\\u2019s market dominance.\\\\n\\\\nArtificial intelligence startup Anthropic is working on a feature that would give its chatbot Claude the ability to analyze images, according to unpublished wording contained in the code of the company\\\\u2019s website. The tool could widen the product\\\\u2019s appeal to users and help the company catch up with larger competitors.\\\\n\\\\nRivian Automotive fell after Deutsche Bank downgraded the electric-vehicle maker to hold from buy, citing downside to 2024 volume and margin outlooks.\\\\n\\\\nGoogle DeepMind, Alphabet Inc.\\\\u2019s research division, said it has taken a \\\\u201ccrucial step\\\\u201d towards making artificial intelligence as capable as humans. It involves solving high-school math problems.\\\\n\\\\n--With assistance from Jeran Wittenstein.\\\\n\\\\n(Updates first chart)\\\\n\\\\nMost Read from Bloomberg Businessweek\\\\n\\\\n\\\\u00a92024 Bloomberg L.P.\"}, {\"id\": 11901, \"title\": \"Apple Watches without banned blood oxygen features will go on sale Thursday morning\", \"text\": \"Apple\\\\u2019s appeal is ongoing, and we believe the US Court of Appeals for the Federal Circuit should reverse the USITC\\\\u2019s decision. We strongly disagree with the USITC decision and resulting orders.\\\\n\\\\nPending the appeal, Apple is taking steps to comply with the ruling while ensuring customers have access to Apple Watch with limited disruption. These steps include introducing a version of Apple Watch Series 9 and Apple Watch Ultra 2 in the United States without the Blood Oxygen feature. There is no impact to Apple Watch units previously purchased that include the Blood Oxygen feature.\\\\n\\\\nApple Watch Series 9 and Apple Watch Ultra 2 without the Blood Oxygen feature will become available from apple.com starting 6am PT on January 18, and from Apple Stores starting January 18.\\\\u201d\"}, {\"id\": 11902, \"title\": \"TSMC\\\\u2019s Outlook Backs Hopes for Global Tech Recovery in 2024\", \"text\": \"(Bloomberg) -- Taiwan Semiconductor Manufacturing Co. expects a return to solid growth this quarter and gave itself room to raise capital spending in 2024, suggesting the world\\\\u2019s most valuable chipmaker anticipates a recovery in smartphone and computing demand.\\\\n\\\\nMost Read from Bloomberg\\\\n\\\\nThe main chipmaker to Apple Inc. and Nvidia Corp. projected revenue growth of at least 8% to $18 billion to $18.8 billion in the March quarter, versus expectations for around $18.2 billion. And it\\\\u2019s budgeting capital expenditure of $28 billion to $32 billion, potentially up from 2023\\\\u2019s $30 billion.\\\\n\\\\nThe Taiwanese company\\\\u2019s outlook, while not quite surpassing the most bullish estimates, comes after a years-long slump in tech demand. But signs of a recovery for the chipmaking sector have emerged in recent weeks. The Semiconductor Industry Association estimated chip sales increased in November after more than a year of declines. Chief Executive Officer C. C. Wei reiterated he expects a return to \\\\u201chealthy growth\\\\u201d this year.\\\\n\\\\nTSMC, which also counts Android chipmaker Qualcomm Inc. among its biggest customers, got a boost from frenzied demand for Nvidia\\\\u2019s artificial intelligence chips in 2023. It reported net income for the fourth quarter of NT$238.7 billion ($7.6 billion), beating the average analyst estimate. Revenue was $625.5 billion, TSMC reported earlier, matching the previous holiday quarter and arresting a series of falls.\\\\n\\\\n\\\\u201cOur business has bottomed out on a year-over-year basis, and we expect 2024 to be a healthy growth year for TSMC,\\\\u201d Wei said.\\\\n\\\\nClick here for a liveblog on the numbers.\\\\n\\\\nWhat Bloomberg Intelligence Says\\\\n\\\\nTSMC could lead global chip foundries through 2023-24 industry headwinds thanks to growing AI chip demand and migration to next-gen process nodes such as N3 in 2H23 and N2 by 2025. Although the smartphone and PC chip market remains stagnant, TSMC\\\\u2019s advanced packaging tech, both 2.5D and 3D, fortifies its position in the contract-chipmaking market, allowing a potential return to a 53% gross margin following a brief 2H downturn.\\\\n\\\\nStory continues\\\\n\\\\n\\\\u2014 Charles Shum, analyst\\\\n\\\\nClick here for the full research.\\\\n\\\\nTSMC\\\\u2019s revenue should grow in the low- to mid-20% range this year, Wei said. That\\\\u2019s a rebound from the modest decline of last year.\\\\n\\\\nOver the course of 2023, TSMC moderated its capital expenditure plans as the consumer electronics industry grappled with a glut of unsold inventory.\\\\n\\\\nBut uncertainty persists. This month, fellow chipmaker Samsung Electronics Co. posted its sixth successive quarter of declining operating profit, as it weathered the impact of muted consumer demand in its own smartphone and memory businesses.\\\\n\\\\nQuestions also overshadow China, the world\\\\u2019s largest computing, smartphone, internet and chip market.\\\\n\\\\nApple \\\\u2014 long one of TSMC\\\\u2019s most important customers \\\\u2014 faced headwinds with its latest iPhone generation. Several analysts downgraded Apple on expectations of soft demand, and Jefferies has said the iPhone sales slump in China is likely to deepen. The US company has also been hit by a widening ban on foreign-device use among Chinese agencies and state-owned companies.\\\\n\\\\n--With assistance from Debby Wu.\\\\n\\\\nMost Read from Bloomberg Businessweek\\\\n\\\\n\\\\u00a92024 Bloomberg L.P.\"}, {\"id\": 11903, \"title\": \"The EU is about to outlaw and restrict some of the most prized features in crypto\", \"text\": \"The EU is taking aim at privacy coins and self-custody wallets under new anti-money laundering regime.\\\\n\\\\nThe changes, including a ban on crypto mixers, are expected this week.\\\\n\\\\nDeFi, DAOs, NFT platforms, among others, will need to increase their due diligence on users.\\\\n\\\\nRestricting self-custody wallet payments. Increasing the tracking of crypto transfers. Banning privacy coins.\\\\n\\\\nThese are three critical changes Europe Union lawmakers are expected to make this week as they complete a three-year-process of updating the bloc\\\\u2019s rules on money laundering and terrorist organisation funding in the financial sector.\\\\n\\\\nWhat\\\\u2019s at stake\\\\n\\\\nThe European Commission, Council, and Parliament are hammering out the last details on the sweeping regulations in a process known as the trilogues.\\\\n\\\\nHere is what is at stake for the crypto industry, based on drafts of the legislation and internal memos from the negotiations seen by DL News:\\\\n\\\\nStay ahead of the game with our weekly newsletters Subscribe\\\\n\\\\nThe Anti-Money Laundering Regulation, or AMLR, will work in tandem with the Markets in Crypto-Assets regulation, or MiCA. Parts of the latter are expected to go live this year. When the AMLR law will come into force is still in negotiation, but it is expected between 2026 and 2027.\\\\n\\\\nFor crypto advocates, the main challenge is making sure the AMLR doesn\\\\u2019t confuse the regulatory clarity lawmakers established in MiCA. Ideally, both laws would work in harmony and establish clear rules for crypto ventures.\\\\n\\\\nIn contrast to the muddled picture in the US, the EU has drawn praise from crypto leaders for presenting a clear new regime. But with every additional law there is a risk of overburdening crypto enterprises, especially startups and other bootstrapped ventures.\\\\n\\\\n\\\\u201cOur main focus has been to make sure that the scope of the AMLR was not going beyond the scope of MiCA,\\\\u201d said Tommaso Astazi, head of regulatory affairs at the Brussels-based lobby group Blockchain For Europe.\\\\n\\\\nJoin the community to get our latest stories and updates\\\\n\\\\nIn both regulations, purely decentralised protocols are left out. But crypto firms licensed under MiCA \\\\u2014 including some DeFi projects, DAOs, NFT platforms, and wallet service providers \\\\u2014 are all within its purview.\\\\n\\\\nAnonymising tools\\\\n\\\\nThe AMLR directs firms to crank up the identification and tracking of their customers\\\\u2019 transactions. Plus, the regulation cracks down on anonymising tools.\\\\n\\\\nSince the regulation was proposed in 2021, crypto lobbyists have fought hard to make sure lawmakers don\\\\u2019t scrutinise the industry more than the other finance sectors.\\\\n\\\\nThat hasn\\\\u2019t been easy amid scandals such as Binance\\\\u2019s admission it violated US law by failing to install adequate anti-money laundering and anti-terror finance controls.\\\\n\\\\nAhead of Wednesday\\\\u2019s next session of trilogues on the AMLR, here are the top crypto issues on the table:\\\\n\\\\n\\\\u2018Not many were ready to defend these privacy enhancing tools.\\\\u2019 \\\\u2014 Tommaso Astazi, Blockchain for Europe\\\\n\\\\nThe Council of the EU is looking to place a ban on coins which enhance anonymity. These would include privacy coins like Monero and Zcash.\\\\n\\\\n\\\\u201cNot many were ready to defend these privacy enhancing tools,\\\\u201d Astazi said. Blockchain For Europe represents some of the biggest crypto firms, like Binance, Coinbase and Kraken.\\\\n\\\\nThis year, crypto exchanges have targeted privacy focused coins. OKX delisted several key privacy-focused trading pairs, Binance might delist them in the future as it began monitoring them.\\\\n\\\\n\\\\u2018High risk\\\\u2019 crypto mixers\\\\n\\\\nThe European Commission will need to present a report assessing whether to ban anonymous accounts offered by crypto service providers offering \\\\u201chigh risk\\\\u201d privacy wallets, as well as crypto mixers like Tornado Cash.\\\\n\\\\nThe commission and council suggested the report should come three years after the laws come into force, potentially by 2027, but the parliament hopes to push that to two years.\\\\n\\\\nSelf-custody wallet limits\\\\n\\\\nThe regulation would prohibit companies from offering anonymous accounts. Yet in response to crypto industry advocates, lawmakers changed the onerous language that would prohibit firms from offering self-hosted wallets, which are managed by individuals instead of commercial ventures.\\\\n\\\\nStill, the parliament is pushing to limit the amount merchants are allowed to accept from self-hosted wallets without involving a licensed crypto firm at \\\\u20ac1,000. A breach would result in penalties.\\\\n\\\\nNow read Europe\\\\u2019s rules for crypto wallets nears final showdown European legislators have a last chance to prevent a ban on self-hosted wallets in the bloc as the... European legislators have a last chance to prevent a ban on self-hosted wallets in the bloc as the anti-money laundering bill...\\\\n\\\\nThe parliament is also asking the commission to report back on whether these provisions would need to be changed in three years time to fit with Europe\\\\u2019s plans to roll out a digital identity framework.\\\\n\\\\nAccording to a person familiar with the policy process, this provision may be dropped due to resistance from the commission and council on feasibility.\\\\n\\\\n\\\\u201cThe idea is that in a peer-to-peer environment, merchants should be able to accept crypto payments without having to rely on an intermediary [like a crypto firm],\\\\u201d Astazi said.\\\\n\\\\n\\\\u201cIn the future, we are anticipating the development of technological solutions that will allow citizens and merchants to accept payments with crypto through personal wallets in a way that complies with know-your-customer rules.\\\\u201d\\\\n\\\\nCustomer due diligence for all crypto payments\\\\n\\\\nFollowing Hamas\\\\u2019 attack on Israel on October 7, lawmakers rushed to stop terrorist organisations from using crypto to finance their operations, especially in light of reports that the Palestinian group was using digital assets to help fund its militants.\\\\n\\\\nNow read Europe mulls law to force crypto firms to scrutinise customers in bid to stop Hamas funding In an effort to thwart Hamas from tapping digital assets, European lawmakers may direct crypto firms... In an effort to thwart Hamas from tapping digital assets, European lawmakers may direct crypto firms to do extra verification on...\\\\n\\\\nIn November, the European Parliament proposed adding extra due diligence measures for firms handling crypto transactions under \\\\u20ac1,000. Other forms of payments wouldn\\\\u2019t need those extra measures.\\\\n\\\\nThe reasoning was that terror groups often use low value transactions to conceal their funding practices.\\\\n\\\\nRegulation, not directive\\\\n\\\\nCrypto firms in Europe have to comply with the EU\\\\u2019s previous laws for anti-money laundering. To register with the national authorities, crypto service providers need to meet AML standards.\\\\n\\\\nBut the previous rulebook is a directive and not a regulation. A directive means that each member state can interpret and apply the rules in their own way.\\\\n\\\\nThat explains the vast differences in the number of crypto firm registrations in the EU. For example, Czechia has nearly 10,000 registered entities while Belgium has zero.\\\\n\\\\nBut a regulation is a lot stricter than a directive, and the laws will be implemented more evenly across the 27-nation bloc.\\\\n\\\\nOn top of that, the EU\\\\u2019s package on anti-money laundering establishes a new authority which will oversee the rules once they become law.\\\\n\\\\nThis story was updated on January 17 with more information about when the AMLR will be enforced.\\\\n\\\\nHave a tip about crypto in Europe? Contact the author at inbar@dlnews.com\"}, {\"id\": 11904, \"title\": \"Powerball winning numbers for for Jan. 17 drawing, as jackpot grows to $102 million\", \"text\": \"The Powerball jackpot for Wednesday\\'s drawing is now estimated at $102 million after no winner emerged from Monday\\'s drawing.\\\\n\\\\nThe winning numbers were chosen just after 11 p.m. ET on Wednesday, and we have the results below.\\\\n\\\\nIf there is a winner and they choose the cash option, they could go home with $50.5 million, according to the lottery.\\\\n\\\\nCheck the winning numbers for the Wednesday, Jan. 17 drawing of the Powerball:\\\\n\\\\nPowerball winning numbers: 1/17/2024\\\\n\\\\nThe winning numbers for Wednesday night\\'s drawing were 18, 22, 43, 61 and 65. The Powerball was 2 and the Power Play was 4X.\\\\n\\\\nWinning lottery numbers are sponsored by Jackpocket, the official digital lottery courier of the USA TODAY network.\\\\n\\\\nDid anyone win the Powerball last night?\\\\n\\\\nCheck back to see who won the top prize and other prizes on Thursday at 7 a.m. ET.\\\\n\\\\nWhat are the odds of winning the Powerball?\\\\n\\\\nIt\\'s understandable that some lottery players are enticed by the $102 million jackpot, but it\\'s essential to keep in mind that the chances of winning Powerball\\'s top prize are exceedingly slim.\\\\n\\\\nThe odds of winning a Powerball jackpot are about one in 292.2 million.\\\\n\\\\nThe overall odds of winning a Powerball prize (across all tiers) are about one in 24.9.\\\\n\\\\nHow do I win the Powerball jackpot?\\\\n\\\\nTo participate in the Powerball game, players can purchase a ticket for $2 per play. The game requires players to choose five numbers from one to 69 for the white balls, and one number from one to 26 for the red Powerball. Alternatively, players can opt to receive random numbers.\\\\n\\\\nIn order to win the jackpot, it is necessary to match the numbers for all of the five white balls and the red Powerball.\\\\n\\\\nIn addition to the grand prize, Powerball offers eight other ways to win based on the number of matched balls in the non-jackpot tiers.\\\\n\\\\nThe non-jackpot prizes offered range from $4 to $1 million. By paying an additional $1, you can choose to participate in \\\\\"Powerplay\\\\\" that increases non-jackpot winnings by two, three, four, five or 10 times.\\\\n\\\\nAccording to Powerball, the 10X Powerplay option is exclusively applicable to jackpots worth $150 million or less. Additionally, the game\\'s \\\\\"Match 5\\\\\" prize for the second-tier is limited to a maximum of $2 million if the Powerplay feature is utilized.\\\\n\\\\nAn additional add-on feature called \\\\\"Double Play,\\\\\" which gives players another chance to match their numbers after each Powerball drawing, is available in some jurisdictions for $1 per play.\\\\n\\\\nWhere can you buy lottery tickets?\\\\n\\\\nTickets can be purchased in person at gas stations, convenience stores and grocery stores. Some airport terminals may also sell lottery tickets.\\\\n\\\\nYou can also order tickets online through Jackpocket, the official digital lottery courier of the USA TODAY Network, in these U.S. states and territories: Arizona, Arkansas, Colorado, Idaho, Massachusetts, Minnesota, Montana, Nebraska, New Hampshire, New Jersey, New Mexico, New York, Ohio, Oregon, Puerto Rico, Texas, Washington D.C. and West Virginia. The Jackpocket app allows you to pick your lottery game and numbers, place your order, see your ticket and collect your winnings all using your phone or home computer.\\\\n\\\\nJackpocket is the official digital lottery courier of the USA TODAY Network. Gannett may earn revenue for audience referrals to Jackpocket services. Must be 18+, 21+ in AZ and 19+ in NE. Not affiliated with any State Lottery. Gambling Problem? Call 1-877-8-HOPE-NY or text HOPENY (467369) (NY); 1-800-327-5050 (MA); 1-877-MYLIMIT (OR); 1-800-981-0023 (PR); 1-800-GAMBLER (all others). Visit jackpocket.com/tos for full terms.\"}, {\"id\": 11905, \"title\": \"Coinbase argues stocks, Terraform Labs and Howey in 5-hour SEC face-off\", \"text\": \"United States District Judge Katherine Polk Failla has heard arguments from the Securities and Exchange Commission (SEC) and Coinbase on the crypto exchange\\\\u2019s motion for dismissal of a lawsuit filed by the regulator in June 2022.\\\\n\\\\nThe hearing was held for nearly five hours and provided an extensive overview of the key arguments in courts regarding the crypto space, assets and the SEC\\'s role in regulating the industry.\\\\n\\\\nDuring the hearing, Judge Failla critically examined the regulator\\\\u2019s case against the crypto exchange, asking the SEC attorneys to explain why a digital token issuance would meet the Howey test, arguing the case was \\\\u201ctoo broad.\\\\u201d\\\\n\\\\nIn the SEC\\\\u2019s view, buyers of tokens are also investing in the network or ecosystem behind it, indicating there is a value proposition behind a token purchase. Coinbase\\\\u2019s attorneys, however, challenged the argument, claiming that Bitcoin \\\\u2014 described as a commodity by an SEC attorney during the hearing \\\\u2014 is also backed by a community and has a network.\\\\n\\\\nJudge Failla delved into the definition of staking and secondary market transactions, as well as recent court rulings involving crypto firms, such as the Ripple and Terraform Labs case. Cointelegraph has summarized the hearing\\\\u2019s hottest topics below.\\\\n\\\\nCoinbase is trying to create a different Howey test, says SEC\\\\n\\\\nAttorneys representing the SEC argued that the exchange is trying to create a different version of the Howey test while allowing trade of crypto tokens that offer holders access to ecosystems that the regulator described as a \\\\\"common enterprise.\\\\\"\\\\n\\\\nThe SEC argued that the exchange independently conducted the Howey test, leading to differing interpretations regarding the status of certain tokens. This discrepancy in conclusions over the tokens regarding the test, according to the SEC, provides sufficient grounds to reject the motion and allow the case to proceed.\\\\n\\\\n\\\\u201cWe think they\\\\u2019re making up a new test, and we believe that our position is the one that\\\\u2019s most faithful and consistent, but in fact, compelled by the Howey test. It\\\\u2019s not just a plausible reading, as they claim it is.\\\\u201d\\\\n\\\\nSEC v @coinbase Update IV\\\\n\\\\n\\\\n\\\\nIn an unusual move, the Judge dispensed with any prepared arguments from either side and instead went straight to questioning the lawyers.\\\\n\\\\n\\\\n\\\\nThe first 2 hours was spent exclusively questioning of the SEC lawyers.\\\\n\\\\n\\\\n\\\\nThe SEC lawyers were better prepared\\\\u2026 \\\\u2014 MetaLawMan (@MetaLawMan) January 17, 2024\\\\n\\\\nTerraform Labs case enters the stage\\\\n\\\\nDuring the hearing, the SEC discussed a recent ruling on Terraform Labs that concluded it sold digital assets as securities without registration. The decision, according to the SEC, provided further grounds for its case against Coinbase.\\\\n\\\\nThe topic was heavily discussed over the hearing. As per SEC attorneys, the cases of Ripple and Terraform Labs may differ from Coinbase\\'s one, but the Howey test applies exactly in the same way.\\\\n\\\\n\\\\u201cOur perspective is they\\\\u2019re identical in terms of the Howey test that applies,\\\\\" said the SEC. \\\\\"We think Coinbase is trying to create a different Howey test for when the people at this table might sell the tokens to each other on its platform and when Terraform might sell its tokens on Coinbase\\\\u2019s platform.\\\\n\\\\nAnd we think that\\\\u2019s just wrong, your honor.\\\\u201d\\\\n\\\\nCoinbase\\\\u2019s legal team argued that Terraform Labs\\\\u2019 case did not involve secondary market transactions, such as the ones conducted on the Coinbase platform. Another key difference appointed in court is that, in Terraform Labs\\' dispute, investors and the company were in a private relationship.\\\\n\\\\n\\\\u201cBut the Terraform case, first of all, as I know the court knows, did not involve secondary market transactions,\\\\\" they argued.\\\\n\\\\nThere were no secondary market transactions in that case. [...] Those were all situations where there was a relationship between the investor and the promoter.\\\\u201d\\\\n\\\\nIn addition, Coinbase counsel explored the legal requirements for establishing an investment contract under U.S. law, which requires a type of financial arrangement where an individual invests money in a venture managed by another party with the expectation of earning a profit.\\\\n\\\\n\\\\\"An investment contract, at a minimum, requires the contracting parties to agree or scheme together that the contractee will invest in the contractor\\\\u2019s profit-seeking endeavor.\\\\u201d\\\\n\\\\nAccording to Coinbase, users trading tokens on its platform may or may not seek profit on the investment, as tokens can also be acquired for their utility. Judge Failla added that investors can purchase tokens because they are \\\\u201ccool\\\\u201d or because a friend owns them.\\\\n\\\\nRipple, stocks and more talks over secondary market transactions\\\\n\\\\nCoinbase argued that token holders don\\'t receive dividends or have legal rights over a project just because they own tokens, which is different from stocks.\\\\n\\\\n\\\\\"A stock reflects an interest in the permanent capital of a corporation. And when it trades, that interest in the permanent capital of the corporation, which is a participation in its capital structure, transferred in entirety from one holder to another holder.\\\\\"\\\\n\\\\nThe discussion over stocks and crypto tokens stemmed from Ripple\\\\u2019s ruling from July 2023, when Judge Analisa Torres granted a summary judgment in favor of Ripple Labs, determining that the XRP token is not a security when sold via programmatic sales on exchanges. However, Judge Torres also found that XRP was a security when sold to institutional investors, aligning with the criteria of the Howey Test.\\\\n\\\\nRelated: Coinbase refutes Senator Warren\\\\u2019s government insider allegations\\\\n\\\\n\\\\\"The critical takeaway there is that Judge Torres recognized that secondary market token purchases of XRP were not investing in Ripple. And in that sense, it rejected what I think is a core portion of the Commission\\'s argument before the court today, which is its investment in an ecosystem, at least with respect to transactions between strangers, where no relationship exists, where no obligations travel.\\\\\"\\\\n\\\\nIn Coinbase\\'s view, blind trades between individuals on its platform does not constitute an investment agreement.\\\\n\\\\nThe SEC sued Coinbase on June 6, 2023, alleging that the cryptocurrency exchange violated federal securities laws. The agency argued that 13 tokens listed on the exchange were securities, including coins like Solana (SOL), Cardano (ADA), Polygon (MATIC), Filecoin (FIL), The Sandbox (SAND), Axie Infinity (AXS), Chiliz (CHZ), Flow (FLOW), Internet Computer (ICP), NEAR (NEAR), Voyager (VGX), Dash (DASH) and Nexo (NEXO).\\\\n\\\\nMagazine: Crypto regulation \\\\u2014 Does SEC Chair Gary Gensler have the final say?\"}, {\"id\": 11906, \"title\": \"CMS Finalizes Rule to Expand Access to Health Information and Improve the Prior Authorization Process\", \"text\": \"Final rule modernizes the health care system and reduces patient and provider burden by streamlining the prior authorization process\\\\n\\\\nAs part of the Biden-Harris Administration\\\\u2019s ongoing commitment to increasing health data exchange and strengthening access to care, the Centers for Medicare & Medicaid Services (CMS) finalized the CMS Interoperability and Prior Authorization Final Rule (CMS-0057-F) today. The rule sets requirements for Medicare Advantage (MA) organizations, Medicaid and the Children\\\\u2019s Health Insurance Program (CHIP) fee-for-service (FFS) programs, Medicaid managed care plans, CHIP managed care entities, and issuers of Qualified Health Plans (QHPs) offered on the Federally-Facilitated Exchanges (FFEs), (collectively \\\\u201cimpacted payers\\\\u201d), to improve the electronic exchange of health information and prior authorization processes for medical items and services. Together, these policies will improve prior authorization processes and reduce burden on patients, providers, and payers, resulting in approximately $15 billion of estimated savings over ten years.\\\\n\\\\n\\\\u201cWhen a doctor says a patient needs a procedure, it is essential that it happens in a timely manner,\\\\u201d said HHS Secretary Xavier Becerra. \\\\u201cToo many Americans are left in limbo, waiting for approval from their insurance company. Today the Biden-Harris Administration is announcing strong action that will shorten these wait times by streamlining and better digitizing the approval process.\\\\u201d\\\\n\\\\n\\\\u201cCMS is committed to breaking down barriers in the health care system to make it easier for doctors and nurses to provide the care that people need to stay healthy,\\\\u201d said CMS Administrator Chiquita Brooks-LaSure. \\\\u201cIncreasing efficiency and enabling health care data to flow freely and securely between patients, providers, and payers and streamlining prior authorization processes supports better health outcomes and a better health care experience for all.\\\\u201d\\\\n\\\\nWhile prior authorization can help ensure medical care is necessary and appropriate, it can sometimes be an obstacle to necessary patient care when providers must navigate complex and widely varying payer requirements or face long waits for prior authorization decisions. This final rule establishes requirements for certain payers to streamline the prior authorization process and complements the Medicare Advantage requirements finalized in the Contract Year (CY) 2024 MA and Part D final rule, which add continuity of care requirements and reduce disruptions for beneficiaries. Beginning primarily in 2026, impacted payers (not including QHP issuers on the FFEs) will be required to send prior authorization decisions within 72 hours for expedited (i.e., urgent) requests and seven calendar days for standard (i.e., non-urgent) requests for medical items and services. For some payers, this new timeframe for standard requests cuts current decision timeframes in half. The rule also requires all impacted payers to include a specific reason for denying a prior authorization request, which will help facilitate resubmission of the request or an appeal when needed. Finally, impacted payers will be required to publicly report prior authorization metrics, similar to the metrics Medicare FFS already makes available.\\\\n\\\\nThe rule also requires impacted payers to implement a Health Level 7 (HL7\\\\u00ae) Fast Healthcare Interoperability Resources (FHIR\\\\u00ae) Prior Authorization application programming interface (API), which can be used to facilitate a more efficient electronic prior authorization process between providers and payers by automating the end-to-end prior authorization process. Medicare FFS has already implemented an electronic prior authorization API, demonstrating the efficiencies other payers could realize by implementing such an API. Together, these new requirements for the prior authorization process will reduce administrative burden on the healthcare workforce, empower clinicians to spend more time providing direct care to their patients, and prevent avoidable delays in care for patients.\\\\n\\\\nIn response to feedback received on multiple rules and extensive stakeholder outreach HHS will be announcing the use of enforcement discretion for the Health Insurance Portability and Accountability Act of 1996 (HIPAA) X12 278 prior authorization transaction standard to further promote efficiency in the prior authorization process. Covered entities that implement an all-FHIR-based Prior Authorization API pursuant to the CMS Interoperability and Prior Authorization Final Rule (CMS-0057-F) who do not use the X12 278 standard as part of their API implementation will not be enforced against under HIPAA Administrative Simplification, thus allowing limited flexibility for covered entities to use a FHIR-only or FHIR and X12 combination API to meet the requirements of the CMS Interoperability and Prior Authorization final rule. Covered entities may also choose to make available an X12-only prior authorization transaction. HHS will continue to evaluate the HIPAA prior authorization transaction standards for future rulemaking.\\\\n\\\\nCMS is also finalizing API requirements to increase health data exchange and foster a more efficient health care system for all. CMS values public input and considered the comments submitted by the public, including patients, providers, and payers, in finalizing the rule. Informed by these public comments, CMS is delaying the dates for compliance with the API policies from generally January 1, 2026, to January 1, 2027. In addition to the Prior Authorization API, beginning January 2027, impacted payers will be required to expand their current Patient Access API to include information about prior authorizations and to implement a Provider Access API that providers can use to retrieve their patients\\\\u2019 claims, encounter, clinical, and prior authorization data. Also informed by public comments on previous payer-to-payer data exchange policies, we are requiring impacted payers to exchange, with a patient\\\\u2019s permission, most of those same data using a Payer-to-Payer FHIR API when a patient moves between payers or has multiple concurrent payers.\\\\n\\\\nFinally, the rule also adds a new Electronic Prior Authorization measure for eligible clinicians under the Merit-based Incentive Payment System (MIPS) Promoting Interoperability performance category and eligible hospitals and critical access hospitals (CAHs) in the Medicare Promoting Interoperability Program to report their use of payers\\\\u2019 Prior Authorization APIs to submit an electronic prior authorization request. Together, these policies will help to create a more efficient prior authorization process and support better access to health information and timely, high-quality care.\\\\n\\\\nThe final rule is available to review here: https://www.cms.gov/files/document/cms-0057-f.pdf.\\\\n\\\\nThe fact sheet for this final rule is available here: https://www.cms.gov/newsroom/fact-sheets/cms-interoperability-and-prior-authorization-final-rule-cms-0057-f.\\\\n\\\\n###\"}, {\"id\": 11907, \"title\": \"Homebuilder sentiment surges amid sharp drop in mortgage rates\", \"text\": \"Confidence among builders in the U.S. housing market rose in January for the second straight month as high mortgage rates continued to fall.\\\\n\\\\nThe National Association of Home Builders/Wells Fargo Housing Market Index, which measures the pulse of the single-family housing market , rose five points to 44, more than expected. The increase followed a three-point gain in December.\\\\n\\\\nAny reading below 50 is considered negative.\\\\n\\\\n\\\\\"Lower interest rates improved housing affordability conditions this past month, bringing some buyers back into the market after being sidelined in the fall by higher borrowing costs,\\\\\" said Alicia Huey, NAHB chair and a custom home builder and developer from Birmingham, Alabama.\\\\n\\\\nHOME FORECLOSURES ARE ON THE UPSWING NATIONWIDE\\\\n\\\\nSentiment among builders began steadily falling at the end of the summer after mortgage rates shot above 7%, throttling demand among would-be homebuyers. But borrowing costs have retreated over the past two months as many investors believe the Federal Reserve is done with its aggressive interest-rate hike campaign \\\\u2013 and will soon pivot to cutting rates.\\\\n\\\\nRates on the popular 30-year fixed mortgage are currently hovering around 6.66%, according to Freddie Mac, down from a high of 7.79% at the end of October but well above the pre-pandemic average of 3.9%.\\\\n\\\\nMORTGAGE CALCULATOR: SEE HOW MUCH HIGHER RATES COULD COST YOU\\\\n\\\\nThe recent decline has prompted a burst of optimism among homebuilders that the worst may be over. However, the housing market is facing new headwinds heading into 2024, including higher prices and shortages of labor and lumber.\\\\n\\\\nGET FOX BUSINESS ON THE GO BY CLICKING HERE\\\\n\\\\n\\\\\"Mortgage rates have decreased by more than 110 basis points since late October, lifting the future sales expectation component into positive territory for the first time since August,\\\\\" said NAHB chief economist Robert Dietz. \\\\\"As home building expands in 2024, the market will see growing supply-side challenges.\\\\\"\"}, {\"id\": 11908, \"title\": \"China could face more chip restrictions in 2024, analysts say\", \"text\": \"A Chinese flag is displayed next to a \\\\\"Made in China\\\\\" sign seen on a printed circuit board with semiconductor chips, in this illustration picture taken February 17, 2023.\\\\n\\\\nChina could face more semiconductor export curbs from the likes of the U.S. and the Netherlands to contain the Asian powerhouse\\'s chip tech, analysts told CNBC.\\\\n\\\\nEarlier this year, the Netherlands blocked Dutch semiconductor equipment maker ASML from exporting some of its deep ultraviolet lithography systems to China. ASML sells lithography machines that are key to manufacturing advanced chips.\\\\n\\\\nIt came after the U.S. tightened export controls on advanced semiconductors and chipmaking tools to China in October last year, building on previous rules. Washington is concerned that Beijing could use these advanced chips in artificial intelligence and military applications.\\\\n\\\\n\\\\\"I wouldn\\'t be surprised if there\\'s more [U.S. restrictions] coming just because we\\'re still in the middle of this tit-for-tat. And there\\'s a lot of hawks in the U.S. that are really concerned about China\\'s military buildup,\\\\\" said Dan Hutcheson, vice chair and senior research fellow at TechInsights, on CNBC\\'s \\\\\"Squawk Box Asia\\\\\" Tuesday.\\\\n\\\\nBeijing slammed the Dutch government\\'s move, urging the Netherlands to \\\\\"uphold an objective and fair position and market principles.\\\\\"\\\\n\\\\nChina\\'s Ministry of Commerce said last week that the U.S. is weaponizing export controls as a tool, adding that it is \\\\\"highly concerned about the U.S.\\'s direct intervention\\\\\" in the issue of high-tech exports by Dutch companies to China.\"}, {\"id\": 11910, \"title\": \"Russia has burned through almost half of the liquid reserves in its national wealth fund as it bleeds money amid the war in Ukraine\", \"text\": \"By clicking \\\\u201cSign Up\\\\u201d, you accept our Terms of Service and Privacy Policy . You can opt-out at any time.\\\\n\\\\nAccess your favorite topics in a personalized feed while you\\'re on the go. download the app\\\\n\\\\nSign up to get the inside scoop on today\\\\u2019s biggest stories in markets, tech, and business \\\\u2014 delivered daily. Read preview\\\\n\\\\nThe stash of liquid assets in Russia\\'s national wealth fund has fallen over 44% since Moscow invaded Ukraine, according to a Bloomberg report of Russian finance ministry data on Wednesday.\\\\n\\\\nThis story is available exclusively to Business Insider subscribers. Become an Insider and start reading now.\\\\n\\\\nThe amount of assets that can be easily liquidated under Russia\\'s National Wellbeing Fund fell from 8.9 trillion rubles, or $100.4 billion, to 5 trillion rubles in the two years from January 2022 \\\\u2014 the month before the invasion \\\\u2014 to December 2023, according to Bloomberg.\\\\n\\\\nMeanwhile, the national wealth fund\\'s total holdings tumbled 12% over the same period.\\\\n\\\\nThe massive slump in the national wealth fund\\'s liquid assets came as its holdings in Russian companies and in infrastructure bonds surged by 2 trillion rubles, per Bloomberg calculations. This suggests the state is using its liquid reserves to support the economy.\\\\n\\\\nAdvertisement\\\\n\\\\nRussia\\'s finance ministry also used around 3 trillion rubles from the fund to cover its budget deficit in 2023 after it doubled defense spending in the same period.\\\\n\\\\nRussia could be running out of time and money soon as it keeps funding the war in Ukraine, which is soon heading into its third year.\\\\n\\\\nWhile Russia\\'s economy still appears resilient, it is dealing with a swathe of Western sanctions and weak international oil prices that have fallen about 10% over the past 12 months. Russia\\'s flagship Urals crude oil was exported at an average price of $62.99 a barrel last year \\\\u2014 down 17% from a year ago, according to the finance ministry.\\\\n\\\\nAlex Isakov, an economist at Bloomberg Economics, said Russia\\'s national wealth fund\\'s liquid assets will last for another year or two if the country\\'s oil export prices fall below $50 a barrel.\\\\n\\\\nAdvertisement\\\\n\\\\n\\\\\"If oil prices continue to ignore the risks of supply disruption from the Israel-Hamas war, the remaining stock of the NWF\\'s liquid assets will continue to dwindle, making Russia increasingly vulnerable to shocks,\\\\\" said Isakov.\"}, {\"id\": 11911, \"title\": \"Sundar Pichai warns Google staff more layoffs are coming\", \"text\": \"After laying off over 1,000 workers across multiple divisions last week and cutting 100 jobs at YouTube, Google CEO Sundar Pichai sent a memo to its staff warning more layoffs are expected this year.\\\\n\\\\nPichai\\\\u2019s memo said the company will have to make \\\\u201ctough choices\\\\u201d to meet its ambitious goals, as reported by The Verge.\\\\n\\\\nThe CEO said this year\\\\u2019s cuts won\\\\u2019t be at the scale of last year\\\\u2019s job cuts, where the company let go 12,000 people or 6% of its workforce.\\\\n\\\\n\\\\u201cThese role eliminations are not at the scale of last year\\\\u2019s reductions, and will not touch every team. But I know it\\\\u2019s very difficult to see colleagues and teams impacted,\\\\u201d he said in an email to staffers.\\\\n\\\\n\\\\u201cMany of these changes are already announced, though to be upfront, some teams will continue to make specific resource allocation decisions throughout the year where needed, and some roles may be impacted.\\\\u201d\\\\n\\\\nLast week\\\\u2019s Google layoffs impacted several teams including hardware, engineering, ads, and services, with over 1,000 staffers laid off. At the time, the company also confirmed to TechCrunch that Fitbit co-founders James Park and Eric Friedman were leaving the organization.\\\\n\\\\nOn Wednesday, Google laid off 100 YouTube staffers as part of reorganization.\\\\n\\\\n\\\\u201cTo best position us for these opportunities, throughout the second half of 2023, a number of our teams made changes to become more efficient and work better, and to align their resources to their biggest product priorities. Some teams are continuing to make these kinds of organizational changes, which include some role eliminations globally,\\\\u201d a Google spokesperson said in a statement in response to YouTube layoffs.\"}, {\"id\": 11912, \"title\": \"US officials say 40 Boeing jets have been inspected as investigations continue into midair blowout\", \"text\": \"Federal officials have briefed a congressional committee on their investigations into a jetliner that lost a panel of its fuselage in midflight this month and revealed that airlines have inspected 40 identical Boeing planes\\\\n\\\\nThis photo released by the National Transportation Safety Board shows the door plug from Alaska Airlines Flight 1282 on Monday, Jan. 8, 2024, in Portland, Ore. A panel used to plug an area reserved for an exit door on the Boeing 737 Max 9 jetliner blew out Jan. 5, shortly after the flight took off from Portland, forcing the plane to return to Portland International Airport. (National Transportation Safety Board via AP)\\\\n\\\\nThis photo released by the National Transportation Safety Board shows the door plug from Alaska Airlines Flight 1282 on Monday, Jan. 8, 2024, in Portland, Ore. A panel used to plug an area reserved for an exit door on the Boeing 737 Max 9 jetliner blew out Jan. 5, shortly after the flight took off from Portland, forcing the plane to return to Portland International Airport. (National Transportation Safety Board via AP)\\\\n\\\\nThis photo released by the National Transportation Safety Board shows the door plug from Alaska Airlines Flight 1282 on Monday, Jan. 8, 2024, in Portland, Ore. A panel used to plug an area reserved for an exit door on the Boeing 737 Max 9 jetliner blew out Jan. 5, shortly after the flight took off from Portland, forcing the plane to return to Portland International Airport. (National Transportation Safety Board via AP)\\\\n\\\\nThis photo released by the National Transportation Safety Board shows the door plug from Alaska Airlines Flight 1282 on Monday, Jan. 8, 2024, in Portland, Ore. A panel used to plug an area reserved for an exit door on the Boeing 737 Max 9 jetliner blew out Jan. 5, shortly after the flight took off from Portland, forcing the plane to return to Portland International Airport. (National Transportation Safety Board via AP)\\\\n\\\\nFederal officials have briefed a congressional committee on their investigations into a jetliner that lost a panel of its fuselage in midflight this month and revealed that airlines have inspected 40 identical Boeing planes.\\\\n\\\\nThe Federal Aviation Administration said it will review information from those inspections of Boeing 737 Max 9 jets while it develops a maintenance process before letting the planes carry passengers again.\\\\n\\\\nJennifer Homendy, chair of the National Transportation Safety Board, and FAA Administrator Mike Whitaker spent two hours briefing members of the Senate Commerce Committee in Washington on Wednesday as questions continue to swirl around how the panel of an Alaska Airlines jetliner blew off while traveling 16,000 feet above Oregon. The officials indicated that their separate investigations of Boeing and the accident are in the early stages.\\\\n\\\\n\\\\u201cNothing was said about penalties or enforcement, but when there is an end result, I have no doubt but that there will be consequences,\\\\u201d said Sen. Jerry Moran, a Kansas Republican, in an interview after the closed-door session.\\\\n\\\\nMoran said Whitaker indicated that the FAA is focusing \\\\u201con the challenges that Boeing has faced over a longer period of time, of which this incident, this potential disaster, was only one component.\\\\u201d\\\\n\\\\nDuring the briefing, \\\\u201cthere was also interest in trying to make sure that the FAA is doing its job in its oversight,\\\\u201d Moran said.\\\\n\\\\nThe FAA and NTSB declined to comment on the briefing.\\\\n\\\\nSeparately, Homendy said her agency will look into how exactly the panel was produced by Spirit AeroSystems and installed on the Alaska Airlines plane. She told reporters after the briefing that the panel was manufactured in Malaysia by Boeing\\\\u2019s leading supplier.\\\\n\\\\nThat development puts more attention on Boeing\\\\u2019s global supply chain. Over a period of many years, the company outsourced much if its manufacturing.\\\\n\\\\nA spokesman for Spirit AeroSystems confirmed that the plug was made in Malaysia and said the company is committed to cooperating with the NTSB.\\\\n\\\\nMeanwhile, Boeing\\\\u2019s CEO David Calhoun spent the day visiting the Wichita, Kansas, factory of Spirit AeroSystems. He vowed that the two companies will work together to \\\\u201cget better.\\\\u201d\\\\n\\\\nCalhoun and Spirit CEO Patrick Shanahan \\\\u2014 a former Boeing executive and acting U.S. defense secretary whose nomination by President Donald Trump to lead the Pentagon failed \\\\u2014 met with about 200 Spirit employees in what the companies termed a town hall.\\\\n\\\\n\\\\u201cWe\\\\u2019re going to get better\\\\u201d because engineers and mechanics at Boeing and Spirit \\\\u201care going to learn from it, and then we\\\\u2019re going to apply it to literally everything else we do together,\\\\u201d Calhoun said.\\\\n\\\\nShanahan told the workers that by working with the NTSB, FAA, the airlines and Boeing, \\\\\"we will restore confidence.\\\\u201d\\\\n\\\\nThe meeting of CEOs occurred as both companies face scrutiny over the quality of their work.\\\\n\\\\nAn Alaska Airlines Max 9 was forced to make an emergency landing on Jan. 5 after a panel called a door plug blew out of the side of the plane shortly after takeoff from Portland, Oregon.\\\\n\\\\nThe NTSB is investigating the accident, while the FAA investigates whether Boeing and its suppliers followed quality-control procedures.\\\\n\\\\nAlaska and United Airlines, the only other U.S. airline that flies the Max 9, reported finding loose hardware in door plugs of other planes they inspected after the accident. Both airlines have canceled hundreds of flights while their Max 9s are grounded.\\\\n\\\\nBoeing shares gained 1% on Wednesday but have dropped 18% since the accident, making the Arlington, Virginia, company the worst performer in the Dow Jones Industrial Average in that span.\"}, {\"id\": 11913, \"title\": \"Uniqlo sues Shein over alleged copy of its popular \\\\u2018Mary Poppins bag\\\\u2019\", \"text\": \"TOKYO (AP) \\\\u2014 Uniqlo Co. has sued rival retailer Shein over a small shoulder bag the Japanese retailer said was an inferior and unlawful copy of its hit product touted as the \\\\u201cMary Poppins bag.\\\\u201d\\\\n\\\\nThe lawsuit demanded Shein stop selling its product that Uniqlo said looks too much like its Round Mini Shoulder Bag.\\\\n\\\\nThe Uniqlo bag is praised on TikTok and other social media as roomy but also light and compact. The Mary Poppins nickname refers to the 1964 musical starring Julie Andrews in which a nanny pulls just about anything from her magical carpet bag, including a hat stand.\\\\n\\\\nShein, founded in China but now based in Singapore, did not immediately respond to a request for comment. The lawsuit was filed in Tokyo District Court on Dec. 28 by Tokyo-based Fast Retailing Co., which operates Uniqlo stores.\\\\n\\\\nUniqlo said Thursday it\\\\u2019s demanding damages of about 160 million yen ($1.1 million) in its lawsuit targeting the three companies that operate Shein, Roadget Business Pte, Fashion Choice Pte and Shein Japan Co.\\\\n\\\\nUniqlo said Shein\\\\u2019s product was a copyright violation of inferior quality that undermined customer confidence in the Uniqlo brand.\\\\n\\\\nUniqlo\\\\u2019s bag comes with inner pockets and is billed as durable and water-resistant. In Japan, it costs 1,500 yen, and in the U.S. $19.90, coming in various colors, including light blue and violet.\\\\n\\\\nUniqlo, which has nearly 2,500 stores in 26 global markets, is behind hit affordable casual clothing like HeatTech thermal underwear.\\\\n\\\\nShein reaches customers mainly through its app. The company says it uses digital technology to respond nimbly to customer tastes and avoid waste.\\\\n\\\\n___\\\\n\\\\nYuri Kageyama is on X https://twitter.com/yurikageyama\"}, {\"id\": 3199, \"title\": \"Bernie Madoff victims get $159 million from Ponzi recovery fund in latest payout\", \"text\": \"The fund for victims of Bernie Madoff\\'s historic Ponzi scheme has begun its ninth payout, distributing about $159 million in government-seized funds to nearly 25,000 people worldwide, the Department of Justice said Monday.\\\\n\\\\nThe announcement, made 15 years after Madoff\\'s arrest \\\\u2014 and more than two years after his death in prison \\\\u2014 underscored the continuing impact of Madoff\\'s nearly $65 billion securities fraud scam.\\\\n\\\\nThe collapse of the world\\'s largest fraud scheme \\\\\"devastated thousands of lives,\\\\\" said Nicole Argentieri, acting assistant attorney general of the DOJ\\'s criminal division, in a press release.\\\\n\\\\nWith its latest distribution, the fund has paid out over $4.2 billion to more than 40,800 victims who lost money from the scheme, the DOJ said.\\\\n\\\\nThe Madoff Victim Fund has now helped recover \\\\\"over 90% of victim losses,\\\\\" Argentieri said.\\\\n\\\\nThe victims of Madoff\\'s decadeslong fraud included major celebrities and financial institutions. But they also included charities and pension funds that invested money for people \\\\\"working paycheck-to-paycheck who were relying on their pension accounts for their retirements,\\\\\" noted U.S. Attorney Damian Williams.\\\\n\\\\nMadoff in March 2009 admitted stealing billions of dollars from his clients by running his investment advisory business, Bernard L. Madoff Investment Securities LLC, as a giant Ponzi scheme. He pleaded guilty to 11 federal felonies and was sentenced to 150 years in prison.\\\\n\\\\nThe victims fund has collected about $2.2 billion through a civil forfeiture recovery from the estate of Jeffrey Picower, the late Madoff investor and top beneficiary of the scheme.\\\\n\\\\nAn additional $1.7 billion came in 2014 from JPMorgan Chase, the bank Madoff used to run his Ponzi scheme, as part of a deferred prosecution agreement with the DOJ.\\\\n\\\\nThe rest came from \\\\\"a civil forfeiture action against investor Carl Shapiro and his family, and from civil and criminal forfeiture actions against Madoff, Peter B. Madoff, and their co-conspirators,\\\\\" the DOJ said in Monday\\'s release.\"}, {\"id\": 3590, \"title\": \"Here\\'s everything the Fed is expected to do Wednesday\", \"text\": \"Jerome Powell, Chairman of the U.S. Federal Reserve, speaks during the conference celebrating the Centennial of the Division of Research and Statistics, Board of Governors of the Federal Reserve System in Washington D.C., United States on November 08, 2023. (Photo by Celal Gunes/Anadolu via Getty Images) Celal Gunes | Anadolu | Getty Images\\\\n\\\\nThis week\\'s Federal Reserve meeting is likely to mark a substantial turning point for policymakers who have spent the past two years battling runaway inflation. That there\\'s virtually no chance central bank policymakers will vote to raise rates is beside the point: What is likely to occur when the Federal Open Market Committee session wraps up Wednesday is a policy turn away from aggressive rate hikes and toward plans for what happens next. \\\\\"This would be the third straight meeting where the Fed remained on hold and, in our view, means that the Fed likely sees itself as done with the hiking cycle,\\\\\" Michael Gapen, U.S. economist at Bank of America, said in a client note. While acknowledging that future accelerations in inflation could force the Fed to raise rates further, \\\\\"we think that a cooling economy is more likely and that the narrative should shift in the direction of cuts over hikes in 2024,\\\\\" Gapen added. That move to cuts, though likely expressed in a subtle way, would represent a major pivot for the Fed after 11 interest rate hikes. Along with an announcement on rates, the Fed also will update its projections on economic growth, inflation and unemployment. Chair Jerome Powell also will deliver his usual post-meeting news conference, where he either could discuss a strategy to ease policy now that inflation is decelerating, or continue to talk tough, an outcome that could rattle markets. Here\\'s a quick rundown in what to expect:\\\\n\\\\nThe statement\\\\n\\\\nIn its post-meeting communique, the rate-setting Federal Open Market Committee almost certainly will say that it is holding its benchmark overnight borrowing rate in a range between 5.25%-5.5%. There also could be some language tweaks on the committee\\'s assessment of employment, inflation, housing and overall economic growth. For instance, Bank of America thinks the committee might drop its reference to \\\\\"additional policy firming\\\\\" and simply say that it is committed to getting inflation back down to 2%. Likewise, Goldman Sachs sees a possibility that the statement excludes a characterization regarding tighter financial conditions and possibly make a few other small changes that had been used to convey a bias toward raising rates. Financial conditions, a matrix of economic variables and stock market prices, have loosened considerably since the last Fed meeting concluded on Nov. 1. \\\\\"A pause is all but guaranteed,\\\\\" said Liz Ann Sonders, chief investment strategist at Charles Schwab. \\\\\"But I wouldn\\'t be surprised if there was, if not in the statement then during the presser, a bit of pushback on what has been a loosening of financial conditions. \\\\u2026 Powell is going to have to address that.\\\\\"\\\\n\\\\nThe dot plot\\\\n\\\\nIf there is a nod toward looming rate cuts, it will happen in the Fed\\'s closely watched grid of individual members\\' expectations known as the \\\\\"dot plot.\\\\\" Markets watch the \\\\\"median dot,\\\\\" or the midpoint of all members\\' projections for the next three years as well as the longer term. One immediate change to the chart will be the removal of a previously indicated rate increase this year. Beyond that, market pricing is aggressive. Traders in the fed funds futures space are pricing rate decreases to start in May 2024 and continue until the Fed has lopped off at least a full percentage point from the key rate before the end of the year, according to CME Group calculations. \\\\\"That\\'s going to be very important, because a good portion of the surge in equities has been predicated on a dovish pivot, with rate cuts coming,\\\\\" said Quincy Krosby, chief global strategist at LPL Financial. \\\\\"If they acquiesce and agree even slightly with the market, the market is going to surge higher and higher.\\\\\" However, most strategists and economists on Wall Street see a more cautious approach. Goldman Sachs, for instance, pulled forward its expectation for the first cut, but only to the third quarter of next year, well out of line with market pricing. \\\\\"A lot would have to happen for them to go that soon,\\\\\" Goldman chief economist Jan Hatzius recently said on CNBC. \\\\\"The second half of the year is more realistic than the first half.\\\\\" \\\\\"I\\'m not saying it\\'s not going to happen, I just think it\\'s premature based on the current collection of data points,\\\\\" Schwab\\'s Sonders added. \\\\\"Ultimately, maybe the bond market is right [about rate cuts], but probably not without some economic pain between now and March.\\\\\"\\\\n\\\\nThe economic outlook\\\\n\\\\nEach quarter, FOMC members also release their projections for key economic variables: gross domestic product, inflation as gauged through the Commerce Department\\'s core personal consumption expenditures price index, and unemployment . In September, the committee indicated slowing GDP growth, a small uptick in unemployment and a gradual drift for inflation back to the Fed\\'s target by 2026. Those numbers shouldn\\'t change much. Goldman expects \\\\\"a small upward revision\\\\\" on GDP and slight downward projections for unemployment and core PCE inflation. Likely not much to see here.\\\\n\\\\nThe press conference\"}, {\"id\": 7368, \"title\": \"30 Products So Good Reviewers Give Them \\\\u201c11/10 Stars\\\\u201d\", \"text\": \"These come with a wireless charging case that provides up to 14 hours of charge (with the earbuds able to play for four-plus hours with each full charge).\\\\n\\\\nPromising review: \\\\\"These earbuds sound great with all types of music. They have great bass and have really good build quality. I have taken them everywhere from the gym to school. The charge lasts a few hours and whenever I need them again they will be fully charged again with the case that fits great in your pocket. 11/10, great price too!!\\\\\" \\\\u2014Shopper\\\\n\\\\nGet it from Amazon $18.99+ (get this price by clipping the $5 off coupon on the product page; available in five colors).\\\\n\\\\n\"}, {\"id\": 11914, \"title\": \"Financial Statement Series: Palantir Stock Analysis\", \"text\": \"Fool.com contributor Parkev Tatevosian uses his years of experience and training to conduct a financial statement analysis of Palantir (NYSE: PLTR) stock.\\\\n\\\\n*Stock prices used were the afternoon prices of Jan. 15, 2024. The video was published on Jan. 17, 2024.\\\\n\\\\nShould you invest $1,000 in Palantir Technologies right now?\\\\n\\\\nBefore you buy stock in Palantir Technologies, consider this:\\\\n\\\\nThe Motley Fool Stock Advisor analyst team just identified what they believe are the 10 best stocks for investors to buy now... and Palantir Technologies wasn\\'t one of them. The 10 stocks that made the cut could produce monster returns in the coming years.\\\\n\\\\nStock Advisor provides investors with an easy-to-follow blueprint for success, including guidance on building a portfolio, regular updates from analysts, and two new stock picks each month. The Stock Advisor service has more than tripled the return of S&P 500 since 2002*.\\\\n\\\\nSee the 10 stocks\\\\n\\\\n*Stock Advisor returns as of January 16, 2024\\\\n\\\\nParkev Tatevosian, CFA has no position in any of the stocks mentioned. The Motley Fool has positions in and recommends Palantir Technologies. The Motley Fool has a disclosure policy.\\\\n\\\\nParkev Tatevosian is an affiliate of The Motley Fool and may be compensated for promoting its services. If you choose to subscribe through his link, he will earn some extra money that supports his channel. His opinions remain his own and are unaffected by The Motley Fool.\\\\n\\\\nFinancial Statement Series: Palantir Stock Analysis was originally published by The Motley Fool\"}, {\"id\": 11915, \"title\": \"Japan Airlines names former cabin attendant as first female president\", \"text\": \"Tokyo \\\\u2014 Japan Airlines has named its first female president, a former cabin attendant who rose through the ranks to senior management, taking a deeply symbolic step in a country struggling to close a vast gender gap at work.\\\\n\\\\nMitsuko Tottori, a senior managing executive officer who joined JAL in 1985, the year it suffered one of the worst crashes in airline history, will become president from April 1, it said in a statement on Wednesday.\\\\n\\\\nThe appointment comes as Japanese companies face increasing pressure to boost gender diversity and tackle a gender pay gap that is the worst among the Group of Seven nations and almost double the average of the OECD grouping of advanced economies.\\\\n\\\\n\\\\u201cThere are female employees out there who are struggling with their career steps or going through big life events,\\\\u201d Tottori told a news conference. \\\\u201cI hope my appointment as a president can encourage them, or give them the courage to take the next step.\\\\u201d\\\\n\\\\nThe change comes as the airline seeks to recover from the pandemic-era downturn and tourists flock back to Japan.\\\\n\\\\nAirline safety is under a fresh spotlight after a collision between a JAL plane and a Japanese Coast Guard aircraft at Tokyo\\\\u2019s Haneda airport this month. All 379 people aboard the airliner escaped as it burst into flames.\\\\n\\\\nJAL has said Tottori acquired a \\\\u201chigh level of insight and field experience\\\\u201d in safety operations and service.\\\\n\\\\nThe current president, Yuji Akasaka, will become chairperson while continuing to hold a representative director title, the airline said in its statement.\\\\n\\\\nYoshiharu Ueki, the current chairman, will retire from his post in April and leave the director position upon shareholder approval in June.\\\\n\\\\nJAL has set itself a target for women to make up 30% of managers across the group by the end of the fiscal year to March 2026.\\\\n\\\\nBy the end of March 2023, the corresponding figure was 22.8%.\"}, {\"id\": 11919, \"title\": \"Check your tickets. A winning Mega Millions game was sold at a Food Lion in South Carolina\", \"text\": \"Someone who bought a Mega Millions ticket at a grocery store in Columbia was one number away from winning the game\\\\u2019s grand prize, South Carolina Education Lottery officials said Wednesday in a news release.\\\\n\\\\nWhile the ticket buyer didn\\\\u2019t capture the $200,000,000 Mega Millions jackpot in Tuesday\\\\u2019s drawing, the consolation prize for coming so close is a $1,000,000 payday, according to the release.\\\\n\\\\nNow the search is underway for the winner.\\\\n\\\\nThe seven-figure winning ticket was sold at the Food Lion at 2900 Leesburg Road, officials said. That\\\\u2019s by the intersection with Ulmer Road, not far from the Fort Jackson area in Columbia.\\\\n\\\\nThe winning numbers from Tuesday\\\\u2019s drawing were 2, 10, 42, 49, 54 and Megaball: 13.\\\\n\\\\nThe winning ticket matched all five of the numbers on the white balls that were drawn for a $1 million jackpot, lottery officials said.\\\\n\\\\nThe odds of matching five white balls for the $1,000,000 prize are 1-in-12,607,306, according to the release.\\\\n\\\\nThe winner has 180 days to claim the prize, according to lottery officials.\\\\n\\\\nThe winner will be allowed to retain some privacy, as South Carolina is one of 11 states \\\\u2014 along with Arizona, Delaware, Georgia, Kansas, Maryland, New Jersey, North Dakota, Ohio, Texas and Virginia \\\\u2014 that allow lottery winners to remain anonymous.\\\\n\\\\n\\\\u201cSign the back of your ticket and put it in a safe location until you\\\\u2019re ready to come forward to claim the prize,\\\\u201d lottery officials said.\\\\n\\\\nFor complete information on claiming prizes, go to sceducationlottery.com.\\\\n\\\\nThe Food Lion will receive a commission of $10,000 for selling the winning ticket when it is turned into lottery officials.\\\\n\\\\nIn addition to the $1 million winning game, more than 9,000 other players in South Carolina won prizes in Tuesday\\\\u2019s drawing, according to the release.\\\\n\\\\nBecause there was no grand prize winner Tuesday, the jackpot for the next Mega Millions drawing on Friday has risen to $236 million, officials said.\\\\n\\\\nTickets are $2, and could cost more with additional options.\\\\n\\\\nThe odds of winning Mega Million\\\\u2019s grand prize are 1-in-302,575,350.\"}, {\"id\": 11920, \"title\": \"Elon Musk gives Tesla\\'s board an ultimatum as he seeks to grab more power\", \"text\": \"By demanding more power at Tesla, Elon Musk has effectively issued an ultimatum.\\\\n\\\\nThe billionaire has been clear that he wants more control \\\\u2014 25% of the voting bloc, to be precise.\\\\n\\\\nHis blunt and unexpected comments have thrown investors into a frenzy.\\\\n\\\\nNEW LOOK Sign up to get the inside scoop on today\\\\u2019s biggest stories in markets, tech, and business \\\\u2014 delivered daily. Read preview Thanks for signing up! Access your favorite topics in a personalized feed while you\\'re on the go. download the app Email address Sign up By clicking \\\\u201cSign Up\\\\u201d, you accept our Terms of Service and Privacy Policy . You can opt-out at any time.\\\\n\\\\nAdvertisement\\\\n\\\\nElon Musk has issued an ultimatum to Tesla\\'s board: hand over control of 25% of the votes, or he\\'ll put the brakes on AI development.\\\\n\\\\nIn a post on X, the billionaire said he would feel \\\\\"uncomfortable\\\\\" expanding the EV company\\'s AI-and-robotics capabilities without controlling a quarter of the voting bloc. Musk added that the voting power would make him \\\\\"influential\\\\\" but ultimately overridable regarding major decisions.\\\\n\\\\nThe blunt and unexpected post threw investors into a frenzy, with Dan Ives, a managing director covering technology at Wedbush Securities, saying Musk\\'s comment sparked a \\\\\"firestorm.\\\\\"\\\\n\\\\nPart car company, part tech firm, Tesla is recognized as a disruptive leader within the automobile industry. Musk has consistently touted the company\\'s tech as the \\\\\"best real-world AI.\\\\\"\\\\n\\\\nAdvertisement\\\\n\\\\nThis makes the threat of moving AI development out of Tesla potentially disastrous for the company\\'s future growth.\\\\n\\\\n\\\\\"The Street views Tesla correctly (in our view) as a disruptive tech leader and if Musk ultimately went down the path to create his own company (separate from Tesla for his next generation AI projects this would clearly be a big negative for the Tesla story,\\\\\" Ives wrote in a note.\\\\n\\\\nBut Musk is already working on AI projects outside Tesla through his new company, xAI.\\\\n\\\\nHis AI startup slash bid to mitigate \\\\\"woke\\\\\" AI has already launched a product \\\\u2014 called \\\\\"Grok\\\\\" \\\\u2014 to compete with Google\\'s Bard and OpenAI\\'s ChatGPT.\\\\n\\\\nAdvertisement\\\\n\\\\nDespite cofounding OpenAI, Musk was largely left out of the early generative-AI boom, and many see the new company as an attempt to get a seat at the table.\\\\n\\\\nThe billionaire\\'s Tesla ultimatum may be rooted in his fears about the existential risks of advanced AI and his desire to control development. Musk has long said the risks AI poses are comparable to nuclear weapons.\\\\n\\\\nNonetheless, putting Tesla\\'s future at risk has major consequences for Musk because most of the billionaire\\'s $206 billion fortune is tied to the EV company.\\\\n\\\\nThe billionaire has a stake in Tesla of about 13%, company filings show. But this could be bumped up to 20.6% if a Delaware court approves his 2018 compensation plan.\\\\n\\\\n\\\\n\\\\nMusk claims the board has delayed updating his compensation package until the case is decided. If the plan is rejected, it could be complicated for the board to give Musk what he wants.\\\\n\\\\nAdvertisement\\\\n\\\\nStill, if he digs in his heels, the billionaire is likelier to get what he wants.\\\\n\\\\nAs Ives notes: \\\\\"Musk is Tesla and Tesla is Musk.\\\\\"\\\\n\\\\n\\\\\"At the end of the day, we believe the Board and Musk will be able to resolve this issue over the next 3-6 months,\\\\\" he added.\"}, {\"id\": 11922, \"title\": \"What to know about a proposed Wisconsin tax on electric vehicle chargers\", \"text\": \"The measure aims to expand the state\\'s network of EV charging stations.\\\\n\\\\nElectric vehicle charging stations could spring up at gas stations and grocery stores throughout Wisconsin, after the state Senate passed a proposed bill on Tuesday.\\\\n\\\\nThe bill, which passed by a 30-2 vote, would ease restrictions on businesses that install chargers and impose a tax on electricity sold to electric vehicle owners.\\\\n\\\\nThe measure would also make Wisconsin eligible for nearly $80 million in federal funds for the installation of charging stations and other electric vehicle infrastructure.\\\\n\\\\nHere\\'s what to know about the proposed expansion of charging stations and what happens next with the bill:\\\\n\\\\nWhat does the tax aim to accomplish?\\\\n\\\\nThe number of electric vehicles registered in Wisconsin has exploded in recent years.\\\\n\\\\nThe state counted roughly 17,000 electric vehicles last year; that was up from some 3,500 electric vehicles registered in Wisconsin four years prior, according to the Wisconsin Department of Transportation.\\\\n\\\\nIn turn, some lawmakers want to expand the state\\'s network of charging stations in order to accommodate the uptick in drivers.\\\\n\\\\nCurrently, businesses that offer EV charging stations fall under a set of regulations that typically apply to utilities.\\\\n\\\\nThe proposed bill would exempt the businesses from such rules as long as they sell electricity based on the amount that customer receives instead of the duration of time spent occupying a charger.\\\\n\\\\nThis approach would allow the state to impose a tax on the amount of electricity sold to customers.\\\\n\\\\nHow would the tax on electric charging stations work?\\\\n\\\\nThe tax would slap a 3-cent levy on each kilowatt hour of electricity sold to a vehicle owner.\\\\n\\\\nElectric vehicle chargers are categorized as level 1, level 2 or level 3, meaning a first-level machine charges the slowest while a third-level one charges the fastest. All existing level 1 and level 2 charges would be exempt from the tax, but it would apply to all new chargers, as well as pre-existing level 3 chargers.\\\\n\\\\nA Tesla Model 3, for instance, carries a battery capacity of 50 kilowatt hours. The tax for a full charge of the vehicle would amount to $1.50.\\\\n\\\\nWisconsin Gov. Tony Evers speaks with The Associated Press in his state Capitol office in Madison, Wis. office, Jan. 3, 2024. Todd Richmond/AP\\\\n\\\\nBy comparison, the average cost to fully charge a medium-sized electric vehicle in Wisconsin is currently $11.11, according to an analysis by electric infrastructure developer Enel X Way.\\\\n\\\\nIf the bill is passed, the tax is expected to generate $3.1 million in fiscal year 2025, the Wisconsin Department of Transportation said. That revenue would go to infrastructure projects like roads and bridges.\\\\n\\\\nState Assembly Rep. Deb Andraca, D-Whitefish Bay, a backer of the measure, said the tax aims to make up for an expected decline in funds generated by the state\\'s fuel tax, according to Eau Claire, Wisconsin, ABC affiliate WQOW.\\\\n\\\\nThe tax, Andraca added, risks burdening electric vehicle drivers with onerous costs.\\\\n\\\\n\\\\\"I do hope that at some point we will address the problem that we are over-taxing drivers of electric vehicles,\\\\\" Andraca told WQOW.\\\\n\\\\nWhat happens next?\\\\n\\\\nAfter passing in the Wisconsin Senate, the bill will now head to the state Assembly for a vote.\\\\n\\\\nIt is unclear whether Democratic Wisconsin Gov. Tony Evers will sign the bill if it passes both houses. Roughly a year ago, Evers touted ongoing efforts to expand the state\\'s electric vehicle charging infrastructure.\\\\n\\\\n\\\\\"These investments will be critical for bringing our infrastructure into this century,\\\\\" Evers said at the time.\"}]'"
      ]
     },
     "execution_count": 24,
     "metadata": {},
     "output_type": "execute_result"
    }
   ],
   "source": [
    "json_data"
   ]
  },
  {
   "cell_type": "code",
   "execution_count": 25,
   "id": "ccac1e11-0c31-420a-81a0-3632e838a989",
   "metadata": {},
   "outputs": [],
   "source": [
    "data = json.loads(json_data)"
   ]
  },
  {
   "cell_type": "code",
   "execution_count": 26,
   "id": "0ce6a420-dac9-45b3-a5db-e7168bbe4827",
   "metadata": {},
   "outputs": [
    {
     "name": "stdout",
     "output_type": "stream",
     "text": [
      "[[0, 5, \"China\", \"China\", 0.8694822901752369, 0.9968340992927551, \"LOC\"], [52, 4, \"U.S.\", \"United_States\", 0.521479391215041, 0.9096355438232422, \"LOC\"]]curl: (7) Failed to connect to localhost port 5555 after 0 ms: Connection refused\n"
     ]
    }
   ],
   "source": [
    "!curl -X POST http://rel:5555/api -H \"Content-Type: application/json\" -d '{\"text\": \"China Is Stealing AI Secrets to Turbocharge Spying, U.S. Says\", \"spans\": []}'\n",
    "!curl -X POST http://localhost:5555/api -H \"Content-Type: application/json\" -d '{\"text\": \"China Is Stealing AI Secrets to Turbocharge Spying, U.S. Says\", \"spans\": []}'"
   ]
  },
  {
   "cell_type": "code",
   "execution_count": 27,
   "id": "c72abd7e-2273-41ec-b5f2-06faed704fb0",
   "metadata": {},
   "outputs": [
    {
     "data": {
      "text/plain": [
       "[{'id': 11889,\n",
       "  'title': 'The weight loss drug market may soon get more crowded. Here are the companies trying to enter the booming space',\n",
       "  'text': 'In this article VKTX Follow your favorite stocks CREATE FREE ACCOUNT\\n\\nStill life of Wegovy an injectable prescription weight loss medicine that has helped people with obesity. It should be used with a weight loss plan and physical activity. Michael Siluk | UCG | Getty Images\\n\\nBoehringer Ingelheim\\n\\nBoehringer Ingelheim is developing a weight loss drug with Danish biotech firm Zealand Pharma. That company has been working on obesity treatments for nearly a decade. Their experimental drug works by targeting two gut hormones: GLP-1 to suppress appetite, and glucagon to increase energy expenditure. Some popular weight loss drugs such as Novo Nordisk\\'s Wegovy only target GLP-1. Boehringer Ingelheim in August said it was moving the drug, called survodutide, into a late-stage study, bringing it one step closer to potential Food and Drug Administration approval. A mid-stage trial found patients who are overweight or have obesity lost up to 19% of their weight after 46 weeks of treatment with the drug. That weight loss could be closer to 20% to 25% in a phase three trial, Zealand Pharma said ahead of the JPMorgan Healthcare Conference last week. It\\'s unclear when that product could win approval.\\n\\nTerns Pharmaceuticals\\n\\nSmaller drugmakers are developing their own weight loss drugs. They could eventually enter the market through a buyout or partnerships with large pharmaceutical companies. Those companies include Terns Pharmaceuticals, which is much earlier in the development process than Boehringer Ingelheim is. The company is conducting an early-stage trial examining its oral weight loss drug, which works by targeting GLP-1, in patients who are overweight or obese. Oral drugs will likely be easier for patients to take and for companies to manufacture compared to the existing weight loss injections. Terns Pharmaceuticals expects to release initial 28-day data from that trial in the second half of 2024, the company\\'s head of research and development, Erin Quirk, said during the conference. Quirk acknowledged that it may be difficult for Terns to set its pill apart from other weight loss drugs. But she added that \"even if it\\'s not the best…analysts are out there predicting that this could be $100 billion market. If you get a 1% piece of that, that\\'s a $1 billion drug, right?\"\\n\\nSmall biotech companies make moves\\n\\nOther small drugmakers trying to enter the space include Viking Therapeutics, which is developing drugs that target GLP-1 and another hormone called GIP. Those are the same hormones that Eli Lilly\\'s weight loss and diabetes drugs, Zepbound and Mounjaro, target. Viking Therapeutics expects to release mid-stage trial data on its weight loss injection in the first half of the year. An early-stage study on that drug showed that it caused up to 7.8% weight loss after 28 days. The company is also slated to release phase one trial data on an oral version of its weight loss drug during the first quarter of the year. Structure Therapeutics is similarly developing an obesity pill, which missed Wall Street\\'s expectations for weight loss in a mid-stage trial last month. The oral drug helped obese patients lose roughly 5% of their weight compared to patients who received a placebo after eight weeks. Before that data was published, Jefferies analyst Roger Song had said he was expecting 6% to 7% weight loss relative to a placebo. Structure said it expects full 12-week results on patients with obesity in the second quarter of this year. The company plans to launch a larger mid-stage study in the second half of 2024 and a late-stage trial in 2026.\\n\\nPotential players down the line'},\n",
       " {'id': 11890,\n",
       "  'title': 'Nio stock price forecast: analysis as it breaks key support',\n",
       "  'text': 'Nio (NYSE: NIO) stock price is in its third consecutive week in the red as concerns about the EV industry continued. The stock crashed to a low of $6.55 on Tuesday and is now sitting at its lowest level since June 2020. It has fallen sharply from its all-time high of $67, which it reached in January 2021.\\n\\nEV bubble and saturation\\n\\nCopy link to section\\n\\nNio and other EV companies are not doing well. Tesla, often seen as the gold standard of the sector, has crashed by over 28% from its highest point in 2023. It has also been overtaken by Byd and forced to slash prices in a bid to gain market share and hit its production target.\\n\\nAt the same time, smaller EV companies like Mullen Automotive, Canoo, and Fisker are incinerating cash. The sector is also going through a period of saturation as most companies boost their vehicle production.\\n\\nNio is caught up in this challenge as well, which explains why its stock has plunged while its short interest has jumped to over 15%. This is a sign that many investors still believe that the stock has more downside to go.\\n\\nNio’s challenge is that it specializes on China, a market that has become highly saturated from brands like Xpeng, Li Auto, Byd, and Tesla. It is also facing significant competition challenges in Europe, where Chinese companies are aiming to gain share.\\n\\nFeatured Broker Looking to invest? Invest and trade CFD stocks, ETFs, digital assets & commodities in minutes with our highest-rated broker. Open your account Ad\\n\\nIn 2023, the EU started a review of China’s EV subsidies and how they will affect their industry. The concern in Europe is that companies like Nio and Byd are highly subsidised in China, making them cheaper than those made in the region.\\n\\nAre you looking for fast-news, hot-tips and market analysis? Sign-up for the Invezz newsletter, today.\\n\\nNio has continued to boost its deliveries in the past few months. It delivered 18,012 vehicles in December, a 13.9% YoY increase. It was the third straight month that its deliveries jumped. In all, Nio delivered 160,038 vehicles in 2023, up by 30.7%.\\n\\nNio has also raised cash recently from CYVN, a company based in Abu Dhabi. This $2.2 billion deal gives the company good access to a region that is growing exponentially, helped by tourism, finance, and energy sectors. These funds mean that Nio will likely not need any more funds in the foreseeable future.\\n\\nThe other challenge the company is facing is that its margins have thinned. It had a gross margin of 8% in Q3, down from 13.3% in the same period in 2022. It blamed this to vehicle margins as the company joined other EVs to slash prices.\\n\\nNio stock price forecast\\n\\nCopy link to section\\n\\nNIO chart by TradingView\\n\\nTurning to the weekly chart, we see that the Nio share price has been in a strong downward trend in the past few months. Its performance this week was notable since the stock managed to move below the key support at $7, the lowest swing on May 30th. This is a sign that bears have prevailed, as I wrote in December.\\n\\nNio’s stock has remained below the descending trendline, which connects its highest points since February 2022. It has remained below the 50-week and 100-week Exponential Moving Averages (EMA).\\n\\nThe Relative Strength Index (RSI) has also moved below the neutral point of 50. Therefore, the outlook for the stock is bearish, with the next point to watch being at the psychological level of $5, which is about 23% below the current level.'}]"
      ]
     },
     "execution_count": 27,
     "metadata": {},
     "output_type": "execute_result"
    }
   ],
   "source": [
    "[data[0], data[1]]"
   ]
  },
  {
   "cell_type": "code",
   "execution_count": 28,
   "id": "0ab705ea-e202-4add-aca5-e38e961fc61e",
   "metadata": {},
   "outputs": [],
   "source": [
    "# df_test = pd.read_excel('target_raw_news_articles_202312141455.xlsx')\n",
    "# df_test = df_test[~df_test['target'].isna()]\n",
    "# df_test['target'] = df_test['target'].apply(lambda x: x.strip(\"[]\").replace(\"'\", \"\"))\n",
    "# df_test.shape"
   ]
  },
  {
   "cell_type": "code",
   "execution_count": 29,
   "id": "58cb406c-b269-47db-a40d-2c1cac2b0515",
   "metadata": {},
   "outputs": [],
   "source": [
    "# df_test.head()"
   ]
  },
  {
   "cell_type": "code",
   "execution_count": 30,
   "id": "92c66601-4d69-41cf-9a9a-40342c2e8b02",
   "metadata": {},
   "outputs": [],
   "source": [
    "API_URL = \"http://rel:5555/api\""
   ]
  },
  {
   "cell_type": "code",
   "execution_count": 33,
   "id": "df89b5de-15fd-4b79-ab60-cd83548de22f",
   "metadata": {},
   "outputs": [
    {
     "name": "stderr",
     "output_type": "stream",
     "text": [
      "  3%|▎         | 1/30 [00:02<01:12,  2.50s/it]"
     ]
    },
    {
     "name": "stdout",
     "output_type": "stream",
     "text": [
      "[]\n"
     ]
    },
    {
     "name": "stderr",
     "output_type": "stream",
     "text": [
      "  7%|▋         | 2/30 [00:04<00:55,  1.97s/it]"
     ]
    },
    {
     "name": "stdout",
     "output_type": "stream",
     "text": [
      "[[0, 3, 'Nio', 'Nio,_Kagawa', 0.5552607703400925, 0.6952757835388184, 'ORG']]\n"
     ]
    },
    {
     "name": "stderr",
     "output_type": "stream",
     "text": [
      " 10%|█         | 3/30 [00:10<01:43,  3.83s/it]"
     ]
    },
    {
     "name": "stdout",
     "output_type": "stream",
     "text": [
      "[]\n"
     ]
    },
    {
     "name": "stderr",
     "output_type": "stream",
     "text": [
      " 13%|█▎        | 4/30 [00:13<01:32,  3.57s/it]"
     ]
    },
    {
     "name": "stdout",
     "output_type": "stream",
     "text": [
      "[[76, 9, 'App Store', 'App_store', 0.7934676308181613, 0.42470258474349976, 'ORG']]\n"
     ]
    },
    {
     "name": "stderr",
     "output_type": "stream",
     "text": [
      " 17%|█▋        | 5/30 [00:14<01:11,  2.85s/it]"
     ]
    },
    {
     "name": "stdout",
     "output_type": "stream",
     "text": [
      "[[15, 3, 'FTC', 'Federal_Trade_Commission', 0.5664531389516141, 0.9950453042984009, 'ORG']]\n"
     ]
    },
    {
     "name": "stderr",
     "output_type": "stream",
     "text": [
      " 20%|██        | 6/30 [00:17<01:02,  2.61s/it]"
     ]
    },
    {
     "name": "stdout",
     "output_type": "stream",
     "text": [
      "[[7, 4, 'Meta', 'Wikimedia_Foundation', 0.27603076661128806, 0.7138872742652893, 'ORG'], [52, 2, 'AI', 'Artificial_intelligence', 0.8301767561414389, 0.39137348532676697, 'ORG']]\n"
     ]
    },
    {
     "name": "stderr",
     "output_type": "stream",
     "text": [
      " 23%|██▎       | 7/30 [00:18<00:50,  2.20s/it]"
     ]
    },
    {
     "name": "stdout",
     "output_type": "stream",
     "text": [
      "[[40, 4, 'TSMC', 'TSMC', 0.3872777678067984, 0.786455512046814, 'ORG']]\n"
     ]
    },
    {
     "name": "stderr",
     "output_type": "stream",
     "text": [
      " 27%|██▋       | 8/30 [00:19<00:41,  1.91s/it]"
     ]
    },
    {
     "name": "stdout",
     "output_type": "stream",
     "text": [
      "[[0, 6, 'Google', 'Google', 0.8863024973224573, 0.9923768043518066, 'ORG']]\n"
     ]
    },
    {
     "name": "stderr",
     "output_type": "stream",
     "text": [
      " 30%|███       | 9/30 [00:20<00:35,  1.67s/it]"
     ]
    },
    {
     "name": "stdout",
     "output_type": "stream",
     "text": [
      "[]\n"
     ]
    },
    {
     "name": "stderr",
     "output_type": "stream",
     "text": [
      " 33%|███▎      | 10/30 [00:23<00:41,  2.06s/it]"
     ]
    },
    {
     "name": "stdout",
     "output_type": "stream",
     "text": [
      "[[0, 4, 'TSMC', 'TSMC', 0.3872777678067984, 0.6393302083015442, 'ORG']]\n"
     ]
    },
    {
     "name": "stderr",
     "output_type": "stream",
     "text": [
      " 37%|███▋      | 11/30 [00:24<00:31,  1.66s/it]"
     ]
    },
    {
     "name": "stdout",
     "output_type": "stream",
     "text": [
      "[]\n"
     ]
    },
    {
     "name": "stderr",
     "output_type": "stream",
     "text": [
      " 40%|████      | 12/30 [00:26<00:33,  1.89s/it]"
     ]
    },
    {
     "name": "stdout",
     "output_type": "stream",
     "text": [
      "[]\n"
     ]
    },
    {
     "name": "stderr",
     "output_type": "stream",
     "text": [
      " 43%|████▎     | 13/30 [00:31<00:43,  2.57s/it]"
     ]
    },
    {
     "name": "stdout",
     "output_type": "stream",
     "text": [
      "[[4, 2, 'EU', 'Europe', 0.5544414210859597, 0.9997134804725647, 'ORG']]\n"
     ]
    },
    {
     "name": "stderr",
     "output_type": "stream",
     "text": [
      " 47%|████▋     | 14/30 [00:34<00:47,  2.95s/it]"
     ]
    },
    {
     "name": "stdout",
     "output_type": "stream",
     "text": [
      "[]\n"
     ]
    },
    {
     "name": "stderr",
     "output_type": "stream",
     "text": [
      " 50%|█████     | 15/30 [00:40<00:58,  3.88s/it]"
     ]
    },
    {
     "name": "stdout",
     "output_type": "stream",
     "text": [
      "[[43, 5, 'Howey', 'Steve_Howey_(footballer)', 0.8575828481528511, 0.46409735083580017, 'ORG'], [59, 3, 'SEC', 'U.S._Securities_and_Exchange_Commission', 0.9010235252266995, 0.8273033499717712, 'ORG']]\n"
     ]
    },
    {
     "name": "stderr",
     "output_type": "stream",
     "text": [
      " 53%|█████▎    | 16/30 [00:46<01:02,  4.49s/it]"
     ]
    },
    {
     "name": "stdout",
     "output_type": "stream",
     "text": [
      "[[0, 3, 'CMS', 'Content_management_system', 0.8383397061154062, 0.9432158470153809, 'ORG']]\n"
     ]
    },
    {
     "name": "stderr",
     "output_type": "stream",
     "text": [
      " 57%|█████▋    | 17/30 [00:48<00:47,  3.69s/it]"
     ]
    },
    {
     "name": "stdout",
     "output_type": "stream",
     "text": [
      "[]\n"
     ]
    },
    {
     "name": "stderr",
     "output_type": "stream",
     "text": [
      " 60%|██████    | 18/30 [00:50<00:37,  3.14s/it]"
     ]
    },
    {
     "name": "stdout",
     "output_type": "stream",
     "text": [
      "[]\n"
     ]
    },
    {
     "name": "stderr",
     "output_type": "stream",
     "text": [
      " 63%|██████▎   | 19/30 [00:52<00:32,  2.93s/it]"
     ]
    },
    {
     "name": "stdout",
     "output_type": "stream",
     "text": [
      "[]\n"
     ]
    },
    {
     "name": "stderr",
     "output_type": "stream",
     "text": [
      " 67%|██████▋   | 20/30 [00:54<00:24,  2.43s/it]"
     ]
    },
    {
     "name": "stdout",
     "output_type": "stream",
     "text": [
      "[[20, 6, 'Google', 'Google', 0.8352623390804887, 0.9504076838493347, 'ORG']]\n"
     ]
    },
    {
     "name": "stderr",
     "output_type": "stream",
     "text": [
      " 70%|███████   | 21/30 [00:58<00:25,  2.86s/it]"
     ]
    },
    {
     "name": "stdout",
     "output_type": "stream",
     "text": [
      "[]\n"
     ]
    },
    {
     "name": "stderr",
     "output_type": "stream",
     "text": [
      " 73%|███████▎  | 22/30 [01:00<00:22,  2.84s/it]"
     ]
    },
    {
     "name": "stdout",
     "output_type": "stream",
     "text": [
      "[[0, 6, 'Uniqlo', 'Uniqlo', 0.3872777678067984, 0.8342874646186829, 'ORG']]\n"
     ]
    },
    {
     "name": "stderr",
     "output_type": "stream",
     "text": [
      " 77%|███████▋  | 23/30 [01:03<00:19,  2.76s/it]"
     ]
    },
    {
     "name": "stdout",
     "output_type": "stream",
     "text": [
      "[[44, 5, 'Ponzi', 'Ponzi_scheme', 0.8001520045647987, 0.5998007655143738, 'ORG']]\n"
     ]
    },
    {
     "name": "stderr",
     "output_type": "stream",
     "text": [
      " 80%|████████  | 24/30 [01:07<00:18,  3.14s/it]"
     ]
    },
    {
     "name": "stdout",
     "output_type": "stream",
     "text": [
      "[[22, 3, 'Fed', 'Federal_Reserve', 0.42498464007686576, 0.9994378685951233, 'ORG']]\n"
     ]
    },
    {
     "name": "stderr",
     "output_type": "stream",
     "text": [
      " 83%|████████▎ | 25/30 [01:08<00:12,  2.45s/it]"
     ]
    },
    {
     "name": "stdout",
     "output_type": "stream",
     "text": [
      "[]\n"
     ]
    },
    {
     "name": "stderr",
     "output_type": "stream",
     "text": [
      " 87%|████████▋ | 26/30 [01:09<00:08,  2.15s/it]"
     ]
    },
    {
     "name": "stdout",
     "output_type": "stream",
     "text": [
      "[]\n"
     ]
    },
    {
     "name": "stderr",
     "output_type": "stream",
     "text": [
      " 90%|█████████ | 27/30 [01:12<00:06,  2.21s/it]"
     ]
    },
    {
     "name": "stdout",
     "output_type": "stream",
     "text": [
      "[[0, 14, 'Japan Airlines', 'Japan_Airlines', 0.3872777678067984, 0.8287513852119446, 'ORG']]\n"
     ]
    },
    {
     "name": "stderr",
     "output_type": "stream",
     "text": [
      " 93%|█████████▎| 28/30 [01:16<00:05,  2.97s/it]"
     ]
    },
    {
     "name": "stdout",
     "output_type": "stream",
     "text": [
      "[[63, 9, 'Food Lion', 'Food_Lion', 0.3872777678067984, 0.6047020852565765, 'ORG']]\n"
     ]
    },
    {
     "name": "stderr",
     "output_type": "stream",
     "text": [
      " 97%|█████████▋| 29/30 [01:20<00:03,  3.02s/it]"
     ]
    },
    {
     "name": "stdout",
     "output_type": "stream",
     "text": [
      "[[16, 5, 'Tesla', 'Tesla,_Inc.', 0.5185897485305176, 0.8832705020904541, 'ORG']]\n"
     ]
    },
    {
     "name": "stderr",
     "output_type": "stream",
     "text": [
      "100%|██████████| 30/30 [01:22<00:00,  2.74s/it]"
     ]
    },
    {
     "name": "stdout",
     "output_type": "stream",
     "text": [
      "[]\n",
      "CPU times: user 181 ms, sys: 51.6 ms, total: 232 ms\n",
      "Wall time: 1min 22s\n"
     ]
    },
    {
     "name": "stderr",
     "output_type": "stream",
     "text": [
      "\n"
     ]
    }
   ],
   "source": [
    "%%time\n",
    "df_test_rel = extract_salient_entities(data[:30], 'title', 'text')"
   ]
  },
  {
   "cell_type": "code",
   "execution_count": 46,
   "id": "f51daeaf-993e-4ac0-b4d6-8b1b1fb8b089",
   "metadata": {},
   "outputs": [
    {
     "data": {
      "text/plain": [
       "[{'raw_news_id': 11890,\n",
       "  'headline_mentions': [[0,\n",
       "    3,\n",
       "    'Nio',\n",
       "    'Nio,_Kagawa',\n",
       "    0.5552607703400925,\n",
       "    0.6952757835388184,\n",
       "    'ORG']],\n",
       "  'body_text_mentions': [[0,\n",
       "    3,\n",
       "    'Nio',\n",
       "    'Nio,_Kagawa',\n",
       "    0.40018616351910574,\n",
       "    0.4923764765262604,\n",
       "    'ORG'],\n",
       "   [5,\n",
       "    4,\n",
       "    'NYSE',\n",
       "    'New_York_Stock_Exchange',\n",
       "    0.9521911380366453,\n",
       "    0.592521071434021,\n",
       "    'ORG'],\n",
       "   [11,\n",
       "    3,\n",
       "    'NIO',\n",
       "    'Non-blocking_I/O_(Java)',\n",
       "    0.9549971463307042,\n",
       "    0.9750804305076599,\n",
       "    'ORG'],\n",
       "   [94,\n",
       "    2,\n",
       "    'EV',\n",
       "    'Electric_vehicle',\n",
       "    0.7760938844161743,\n",
       "    0.34829381108283997,\n",
       "    'ORG'],\n",
       "   [356,\n",
       "    3,\n",
       "    'Nio',\n",
       "    'Nio,_Kagawa',\n",
       "    0.6561806777425374,\n",
       "    0.9394270181655884,\n",
       "    'ORG'],\n",
       "   [403,\n",
       "    5,\n",
       "    'Tesla',\n",
       "    'Tesla,_Inc.',\n",
       "    0.6662987499848904,\n",
       "    0.9134042859077454,\n",
       "    'ORG'],\n",
       "   [543, 3, 'Byd', 'BYD_Auto', 0.3872783780234141, 0.9672845602035522, 'ORG'],\n",
       "   [710,\n",
       "    6,\n",
       "    'Fisker',\n",
       "    'Henrik_Fisker',\n",
       "    0.9201356676621417,\n",
       "    0.8670096397399902,\n",
       "    'ORG'],\n",
       "   [847,\n",
       "    3,\n",
       "    'Nio',\n",
       "    'Nio,_Kagawa',\n",
       "    0.4685259539052137,\n",
       "    0.8390219807624817,\n",
       "    'ORG'],\n",
       "   [1071,\n",
       "    3,\n",
       "    'Nio',\n",
       "    'Nio,_Kagawa',\n",
       "    0.620966170209992,\n",
       "    0.698558509349823,\n",
       "    'ORG'],\n",
       "   [1113, 5, 'China', 'China', 0.8738186639786505, 0.9996923208236694, 'LOC'],\n",
       "   [1179, 5, 'Xpeng', 'XPeng', 0.3872777678067984, 0.7974014282226562, 'ORG'],\n",
       "   [1195, 3, 'Byd', 'BYD_Auto', 0.3872777678067984, 0.9852666854858398, 'ORG'],\n",
       "   [1204,\n",
       "    5,\n",
       "    'Tesla',\n",
       "    'Tesla,_Inc.',\n",
       "    0.6953484261890323,\n",
       "    0.8649938106536865,\n",
       "    'ORG'],\n",
       "   [1267,\n",
       "    6,\n",
       "    'Europe',\n",
       "    'Europe',\n",
       "    0.9041948334685608,\n",
       "    0.9997484087944031,\n",
       "    'LOC'],\n",
       "   [1281,\n",
       "    7,\n",
       "    'Chinese',\n",
       "    'China',\n",
       "    0.4531318091836669,\n",
       "    0.9982395172119141,\n",
       "    'MISC'],\n",
       "   [1502, 2, 'EU', 'Europe', 0.9171451627699522, 0.9998612403869629, 'ORG'],\n",
       "   [1602,\n",
       "    6,\n",
       "    'Europe',\n",
       "    'Europe',\n",
       "    0.8992785323302477,\n",
       "    0.9995360374450684,\n",
       "    'LOC'],\n",
       "   [1632,\n",
       "    3,\n",
       "    'Nio',\n",
       "    'Nio,_Kagawa',\n",
       "    0.4131722867883139,\n",
       "    0.976147472858429,\n",
       "    'ORG'],\n",
       "   [1640, 3, 'Byd', 'BYD_Auto', 0.3872777678067984, 0.966956615447998, 'ORG'],\n",
       "   [1669, 5, 'China', 'China', 0.8646622063089985, 0.9998947381973267, 'LOC'],\n",
       "   [1832,\n",
       "    3,\n",
       "    'Nio',\n",
       "    'Nio,_Kagawa',\n",
       "    0.4697895518909187,\n",
       "    0.9261205196380615,\n",
       "    'ORG'],\n",
       "   [2030,\n",
       "    3,\n",
       "    'Nio',\n",
       "    'Nio,_Kagawa',\n",
       "    0.38541460643797626,\n",
       "    0.9673832654953003,\n",
       "    'ORG'],\n",
       "   [2084,\n",
       "    3,\n",
       "    'Nio',\n",
       "    'Nio,_Kagawa',\n",
       "    0.47575384578397706,\n",
       "    0.9227167367935181,\n",
       "    'ORG'],\n",
       "   [2148,\n",
       "    9,\n",
       "    'Abu Dhabi',\n",
       "    'Abu_Dhabi',\n",
       "    0.9322637954482518,\n",
       "    0.9970701336860657,\n",
       "    'LOC'],\n",
       "   [2325,\n",
       "    3,\n",
       "    'Nio',\n",
       "    'Nio,_Kagawa',\n",
       "    0.4047662445749047,\n",
       "    0.9588642120361328,\n",
       "    'ORG'],\n",
       "   [2610,\n",
       "    3,\n",
       "    'EVs',\n",
       "    'Electric_vehicle',\n",
       "    0.8271912187103934,\n",
       "    0.4616875946521759,\n",
       "    'ORG'],\n",
       "   [2632,\n",
       "    3,\n",
       "    'Nio',\n",
       "    'Non-blocking_I/O_(Java)',\n",
       "    0.3593757110283608,\n",
       "    0.6340338587760925,\n",
       "    'ORG'],\n",
       "   [2680,\n",
       "    3,\n",
       "    'NIO',\n",
       "    'Non-blocking_I/O_(Java)',\n",
       "    0.35635365941860664,\n",
       "    0.9287027716636658,\n",
       "    'ORG'],\n",
       "   [2751,\n",
       "    3,\n",
       "    'Nio',\n",
       "    'Nio,_Kagawa',\n",
       "    0.5061259189463106,\n",
       "    0.9478013515472412,\n",
       "    'ORG'],\n",
       "   [3182,\n",
       "    27,\n",
       "    'Exponential Moving Averages',\n",
       "    'Moving_average',\n",
       "    0.3872783780234141,\n",
       "    0.9249216715494791,\n",
       "    'MISC'],\n",
       "   [3211,\n",
       "    3,\n",
       "    'EMA',\n",
       "    'MTV_Europe_Music_Award',\n",
       "    0.3670457034305508,\n",
       "    0.8409354090690613,\n",
       "    'ORG'],\n",
       "   [3222,\n",
       "    23,\n",
       "    'Relative Strength Index',\n",
       "    'Relative_strength_index',\n",
       "    0.3872783780234141,\n",
       "    0.8220561146736145,\n",
       "    'MISC'],\n",
       "   [3247,\n",
       "    3,\n",
       "    'RSI',\n",
       "    'Repetitive_strain_injury',\n",
       "    0.9109896490006323,\n",
       "    0.7449654936790466,\n",
       "    'ORG']],\n",
       "  'salient_entities_org': [[0,\n",
       "    3,\n",
       "    'Nio',\n",
       "    'Nio,_Kagawa',\n",
       "    0.40018616351910574,\n",
       "    0.4923764765262604,\n",
       "    'ORG'],\n",
       "   [356,\n",
       "    3,\n",
       "    'Nio',\n",
       "    'Nio,_Kagawa',\n",
       "    0.6561806777425374,\n",
       "    0.9394270181655884,\n",
       "    'ORG'],\n",
       "   [847,\n",
       "    3,\n",
       "    'Nio',\n",
       "    'Nio,_Kagawa',\n",
       "    0.4685259539052137,\n",
       "    0.8390219807624817,\n",
       "    'ORG'],\n",
       "   [1071,\n",
       "    3,\n",
       "    'Nio',\n",
       "    'Nio,_Kagawa',\n",
       "    0.620966170209992,\n",
       "    0.698558509349823,\n",
       "    'ORG'],\n",
       "   [1632,\n",
       "    3,\n",
       "    'Nio',\n",
       "    'Nio,_Kagawa',\n",
       "    0.4131722867883139,\n",
       "    0.976147472858429,\n",
       "    'ORG'],\n",
       "   [1832,\n",
       "    3,\n",
       "    'Nio',\n",
       "    'Nio,_Kagawa',\n",
       "    0.4697895518909187,\n",
       "    0.9261205196380615,\n",
       "    'ORG'],\n",
       "   [2030,\n",
       "    3,\n",
       "    'Nio',\n",
       "    'Nio,_Kagawa',\n",
       "    0.38541460643797626,\n",
       "    0.9673832654953003,\n",
       "    'ORG'],\n",
       "   [2084,\n",
       "    3,\n",
       "    'Nio',\n",
       "    'Nio,_Kagawa',\n",
       "    0.47575384578397706,\n",
       "    0.9227167367935181,\n",
       "    'ORG'],\n",
       "   [2325,\n",
       "    3,\n",
       "    'Nio',\n",
       "    'Nio,_Kagawa',\n",
       "    0.4047662445749047,\n",
       "    0.9588642120361328,\n",
       "    'ORG'],\n",
       "   [2751,\n",
       "    3,\n",
       "    'Nio',\n",
       "    'Nio,_Kagawa',\n",
       "    0.5061259189463106,\n",
       "    0.9478013515472412,\n",
       "    'ORG']],\n",
       "  'salient_entities_set': {'Nio,_Kagawa'}}]"
      ]
     },
     "execution_count": 46,
     "metadata": {},
     "output_type": "execute_result"
    }
   ],
   "source": [
    "df_test_rel"
   ]
  },
  {
   "cell_type": "code",
   "execution_count": 47,
   "id": "4c39221b-2f74-410b-96dc-9b4b8c0a5b9f",
   "metadata": {},
   "outputs": [
    {
     "ename": "IndexError",
     "evalue": "list index out of range",
     "output_type": "error",
     "traceback": [
      "\u001b[0;31m---------------------------------------------------------------------------\u001b[0m",
      "\u001b[0;31mIndexError\u001b[0m                                Traceback (most recent call last)",
      "Cell \u001b[0;32mIn[47], line 1\u001b[0m\n\u001b[0;32m----> 1\u001b[0m \u001b[38;5;28mlen\u001b[39m(\u001b[43mdf_test_rel\u001b[49m\u001b[43m[\u001b[49m\u001b[38;5;241;43m1\u001b[39;49m\u001b[43m]\u001b[49m[\u001b[38;5;124m'\u001b[39m\u001b[38;5;124msalient_entities_set\u001b[39m\u001b[38;5;124m'\u001b[39m])\n",
      "\u001b[0;31mIndexError\u001b[0m: list index out of range"
     ]
    }
   ],
   "source": [
    "len(df_test_rel[1]['salient_entities_set'])"
   ]
  },
  {
   "cell_type": "code",
   "execution_count": 84,
   "id": "c1e50e0f-481b-4cf8-98d2-e5c66d73d979",
   "metadata": {},
   "outputs": [
    {
     "data": {
      "text/plain": [
       "{'United_States_Coast_Guard'}"
      ]
     },
     "execution_count": 84,
     "metadata": {},
     "output_type": "execute_result"
    }
   ],
   "source": [
    "df_test_rel[1]['salient_entities_set']"
   ]
  },
  {
   "cell_type": "code",
   "execution_count": 85,
   "id": "206215be-40b2-4cbd-9b53-0026b828cb4c",
   "metadata": {},
   "outputs": [
    {
     "data": {
      "text/plain": [
       "{'None'}"
      ]
     },
     "execution_count": 85,
     "metadata": {},
     "output_type": "execute_result"
    }
   ],
   "source": [
    "df_test_rel[0]['salient_entities_set']"
   ]
  },
  {
   "cell_type": "code",
   "execution_count": null,
   "id": "2e9e33df-ef08-4cea-905c-2617fc7c71f3",
   "metadata": {},
   "outputs": [],
   "source": []
  },
  {
   "cell_type": "code",
   "execution_count": 87,
   "id": "978b7e11-7bde-4356-a56f-a93aa86aeaf5",
   "metadata": {},
   "outputs": [
    {
     "data": {
      "text/plain": [
       "6"
      ]
     },
     "execution_count": 87,
     "metadata": {},
     "output_type": "execute_result"
    }
   ],
   "source": [
    "len(df_test_rel[1]['salient_entities_org'])"
   ]
  },
  {
   "cell_type": "code",
   "execution_count": 89,
   "id": "adbcb8a8-dcc1-4b22-a0e9-c166531b210a",
   "metadata": {},
   "outputs": [
    {
     "data": {
      "text/plain": [
       "5"
      ]
     },
     "execution_count": 89,
     "metadata": {},
     "output_type": "execute_result"
    }
   ],
   "source": [
    "len([\n",
    "    [17, 16, 'U.S. Coast Guard', 'United_States_Coast_Guard', 0.8891559804540544, 0.8521444400151571, 'ORG'], \n",
    "    [192, 4, 'USCG', 'United_States_Coast_Guard', 0.9111871297938334, 0.47667717933654785, 'ORG'], \n",
    "    [791, 17, 'U.S. Coast Guard.', 'United_States_Coast_Guard', 0.3872777678067984, 0.8202411532402039, 'ORG'], \n",
    "    [816, 16, 'U.S. Coast Guard', 'United_States_Coast_Guard', 0.43678396048090334, 0.7355291048685709, 'ORG'], \n",
    "    [918, 16, 'U.S. Coast Guard', 'United_States_Coast_Guard', 0.47601745960158903, 0.8914013306299845, 'ORG']\n",
    "])"
   ]
  },
  {
   "cell_type": "code",
   "execution_count": 90,
   "id": "9ae81f97-d5de-4a9d-a905-6c2057656e53",
   "metadata": {},
   "outputs": [
    {
     "data": {
      "text/plain": [
       "[[17,\n",
       "  16,\n",
       "  'U.S. Coast Guard',\n",
       "  'United_States_Coast_Guard',\n",
       "  0.30562666525715215,\n",
       "  0.8639779289563497,\n",
       "  'ORG'],\n",
       " [190,\n",
       "  4,\n",
       "  'USCG',\n",
       "  'United_States_Coast_Guard',\n",
       "  0.7504895236536515,\n",
       "  0.9649078845977783,\n",
       "  'ORG'],\n",
       " [297,\n",
       "  11,\n",
       "  'Coast Guard',\n",
       "  'United_States_Coast_Guard',\n",
       "  0.8574496275930025,\n",
       "  0.8526458442211151,\n",
       "  'ORG'],\n",
       " [777,\n",
       "  16,\n",
       "  'U.S. Coast Guard',\n",
       "  'United_States_Coast_Guard',\n",
       "  0.27727612688077324,\n",
       "  0.8181795080502828,\n",
       "  'ORG'],\n",
       " [800,\n",
       "  16,\n",
       "  'U.S. Coast Guard',\n",
       "  'United_States_Coast_Guard',\n",
       "  0.2773915748522871,\n",
       "  0.8772232333819071,\n",
       "  'ORG'],\n",
       " [902,\n",
       "  16,\n",
       "  'U.S. Coast Guard',\n",
       "  'United_States_Coast_Guard',\n",
       "  0.2773879666549176,\n",
       "  0.8078232804934183,\n",
       "  'ORG']]"
      ]
     },
     "execution_count": 90,
     "metadata": {},
     "output_type": "execute_result"
    }
   ],
   "source": [
    "df_test_rel[1]['salient_entities_org']"
   ]
  },
  {
   "cell_type": "code",
   "execution_count": 18,
   "id": "746f841b-a9da-4b69-b746-6a84261a1c09",
   "metadata": {},
   "outputs": [],
   "source": [
    "def extract_salient_entities(\n",
    "    data: list,\n",
    "    API_URL: str = \"http://rel:5555/api\",\n",
    "    title: str = \"title\",\n",
    "    article: str = \"text\",\n",
    "    id: str = \"id\",\n",
    "):\n",
    "    annotated_articles = []\n",
    "    processed_ids = []\n",
    "\n",
    "    for row in data:\n",
    "        # row = row.dict()\n",
    "\n",
    "        if len(row[title].split()) > 3300 or len(row[article].split()) > 3300:\n",
    "            continue\n",
    "\n",
    "        try:\n",
    "            # Perform mention detection on headline and body text\n",
    "            el_title = requests.post(\n",
    "                API_URL, json={\"text\": row[title], \"spans\": []}\n",
    "            ).json()\n",
    "            el_article = requests.post(\n",
    "                API_URL, json={\"text\": row[article], \"spans\": []}\n",
    "            ).json()\n",
    "        except Exception as e:\n",
    "            continue\n",
    "\n",
    "        # Filter mentions with the ORG tag\n",
    "        headline_mentions_org = [\n",
    "            mention for mention in el_title if mention[-1] == \"ORG\"\n",
    "        ]\n",
    "        body_text_mentions_org = [\n",
    "            mention for mention in el_article if mention[-1] == \"ORG\"\n",
    "        ]\n",
    "\n",
    "        # Mark salient entities\n",
    "        salient_entities_org = []\n",
    "        for body_entity in body_text_mentions_org:\n",
    "            if body_entity[3] in [\n",
    "                headline_entity[3] for headline_entity in headline_mentions_org\n",
    "            ]:\n",
    "                salient_entities_org.append(body_entity)\n",
    "\n",
    "        if salient_entities_org:\n",
    "            salient_entities_org_set = set(\n",
    "                [entity[3] for entity in salient_entities_org]\n",
    "            )\n",
    "        else:\n",
    "            salient_entities_org_set = {\"None\"}\n",
    "\n",
    "        # Save the annotated article\n",
    "        annotated_articles.append(\n",
    "            {\n",
    "                \"raw_news_id\": row[id],\n",
    "                \"headline_mentions\": el_title,\n",
    "                \"body_text_mentions\": el_article,\n",
    "                \"salient_entities_org\": salient_entities_org,\n",
    "                \"salient_entities_set\": salient_entities_org_set,\n",
    "            }\n",
    "        )\n",
    "        processed_ids.append(row[id])\n",
    "\n",
    "    return annotated_articles\n"
   ]
  },
  {
   "cell_type": "code",
   "execution_count": 19,
   "id": "b1e21b14-0c0d-4b66-ac76-5d4ae85d81fe",
   "metadata": {},
   "outputs": [],
   "source": [
    "df_test_rel = extract_salient_entities([data[0], data[1]], 'title', 'text')"
   ]
  },
  {
   "cell_type": "code",
   "execution_count": 21,
   "id": "e4251309-3e9d-4986-8c6c-adc6fc01e1ec",
   "metadata": {},
   "outputs": [
    {
     "data": {
      "text/plain": [
       "[]"
      ]
     },
     "execution_count": 21,
     "metadata": {},
     "output_type": "execute_result"
    }
   ],
   "source": [
    "df_test_rel"
   ]
  },
  {
   "cell_type": "code",
   "execution_count": null,
   "id": "47c2d2e7-cf8b-4927-9aa7-7ae94df7893d",
   "metadata": {},
   "outputs": [],
   "source": []
  },
  {
   "cell_type": "code",
   "execution_count": null,
   "id": "fae6fa31-7bca-4827-9b12-13ca25fedf24",
   "metadata": {},
   "outputs": [],
   "source": []
  },
  {
   "cell_type": "code",
   "execution_count": null,
   "id": "d696c07b-8f01-411b-924a-217b874ba0ec",
   "metadata": {},
   "outputs": [],
   "source": []
  },
  {
   "cell_type": "code",
   "execution_count": null,
   "id": "b3ce5c7d-dcf3-4fdd-941e-c466bc52a8e1",
   "metadata": {},
   "outputs": [],
   "source": []
  },
  {
   "cell_type": "code",
   "execution_count": null,
   "id": "ce1fb078-f3de-468b-bcad-087a511136e6",
   "metadata": {},
   "outputs": [],
   "source": []
  }
 ],
 "metadata": {
  "kernelspec": {
   "display_name": "Python 3 (ipykernel)",
   "language": "python",
   "name": "python3"
  },
  "language_info": {
   "codemirror_mode": {
    "name": "ipython",
    "version": 3
   },
   "file_extension": ".py",
   "mimetype": "text/x-python",
   "name": "python",
   "nbconvert_exporter": "python",
   "pygments_lexer": "ipython3",
   "version": "3.11.8"
  }
 },
 "nbformat": 4,
 "nbformat_minor": 5
}
