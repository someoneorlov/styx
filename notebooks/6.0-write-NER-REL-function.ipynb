{
 "cells": [
  {
   "cell_type": "code",
   "execution_count": 2,
   "id": "39149053-95c7-4fe3-8e04-add4d87377b7",
   "metadata": {},
   "outputs": [],
   "source": [
    "import os\n",
    "\n",
    "import pandas as pd\n",
    "from tqdm import tqdm\n",
    "import requests\n"
   ]
  },
  {
   "cell_type": "code",
   "execution_count": 3,
   "id": "6331f5fe-dea5-4b87-b0ed-eb6c6175e5b7",
   "metadata": {},
   "outputs": [],
   "source": [
    "def extract_salient_entities(\n",
    "    data: list,\n",
    "    title: str = \"title\",\n",
    "    article: str = \"article\",\n",
    "    id: str = \"id\",\n",
    "):\n",
    "\n",
    "    annotated_articles = []\n",
    "\n",
    "    for row in tqdm(data, total=len(data)):\n",
    "\n",
    "        if len(row[title].split()) > 3300 or len(row[article].split()) > 3300:\n",
    "            continue\n",
    "\n",
    "        # Perform mention detection on headline and body text\n",
    "        el_title = requests.post(API_URL, json={\n",
    "            \"text\": row[title],\n",
    "            \"spans\": []\n",
    "        }).json()\n",
    "        el_article = requests.post(API_URL, json={\n",
    "            \"text\": row[article],\n",
    "            \"spans\": []\n",
    "        }).json()\n",
    "\n",
    "        # Filter mentions with the ORG tag\n",
    "        headline_mentions_org = [\n",
    "            mention for mention in el_title if mention[-1] == \"ORG\"\n",
    "        ]\n",
    "        body_text_mentions_org = [\n",
    "            mention for mention in el_article if mention[-1] == \"ORG\"\n",
    "        ]\n",
    "\n",
    "        # Mark salient entities\n",
    "        salient_entities_org = []\n",
    "        for body_entity in body_text_mentions_org:\n",
    "            if body_entity[3] in [\n",
    "                headline_entity[3] for headline_entity in headline_mentions_org\n",
    "            ]:\n",
    "                salient_entities_org.append(body_entity)\n",
    "\n",
    "        if salient_entities_org:\n",
    "            salient_entities_org_set = set([entity[3] for entity in salient_entities_org])\n",
    "        else:\n",
    "            salient_entities_org_set = {'None'}\n",
    "            \n",
    "        # Save the annotated article\n",
    "        annotated_articles.append(\n",
    "            {\n",
    "                \"raw_news_id\": row[id],\n",
    "                # \"headline\": row[title],\n",
    "                # \"body_text\": row[article],\n",
    "                \"headline_mentions\": el_title,\n",
    "                \"body_text_mentions\": el_article,\n",
    "                \"salient_entities_org\": salient_entities_org,\n",
    "                \"salient_entities_set\": salient_entities_org_set,\n",
    "            }\n",
    "        )\n",
    "\n",
    "    return annotated_articles"
   ]
  },
  {
   "cell_type": "code",
   "execution_count": 18,
   "id": "5413e222-ffdf-4e86-a899-41208ee3eead",
   "metadata": {},
   "outputs": [],
   "source": [
    "API_URL = \"http://rel:5555/api\""
   ]
  },
  {
   "cell_type": "code",
   "execution_count": 19,
   "id": "cfb30e5d-feb8-42ac-aeb8-3f227782ba77",
   "metadata": {},
   "outputs": [],
   "source": [
    "db_host = os.getenv('DB_HOST')\n",
    "db_port = os.getenv('DB_PORT')\n",
    "db_name = os.getenv('DB_NAME')\n",
    "db_user = os.getenv('DB_USER')\n",
    "db_pass = os.getenv('DB_PASS')"
   ]
  },
  {
   "cell_type": "code",
   "execution_count": 20,
   "id": "583a7c22-c4de-48bc-a746-ed9806de57e6",
   "metadata": {},
   "outputs": [],
   "source": [
    "import psycopg2\n",
    "import json\n",
    "\n",
    "# Database connection parameters\n",
    "conn_params = {\n",
    "    \"host\": os.getenv('DB_HOST'),\n",
    "    \"port\": os.getenv('DB_PORT'),\n",
    "    \"database\": os.getenv('DB_NAME'),\n",
    "    \"user\": os.getenv('DB_USER'),\n",
    "    \"password\": os.getenv('DB_PASS')\n",
    "}\n",
    "\n",
    "# Connect to the PostgreSQL database\n",
    "conn = psycopg2.connect(**conn_params)\n",
    "cursor = conn.cursor()\n",
    "\n",
    "# SQL query to fetch the data\n",
    "query = \"SELECT id, title, text FROM raw_news_articles WHERE is_parsed = True;\"\n",
    "\n",
    "# Execute the query\n",
    "cursor.execute(query)\n",
    "\n",
    "# Fetch all rows\n",
    "rows = cursor.fetchall()\n",
    "\n",
    "# Close the connection\n",
    "cursor.close()\n",
    "conn.close()"
   ]
  },
  {
   "cell_type": "code",
   "execution_count": 21,
   "id": "2e9d945f-8c6d-480a-b411-8d2cf3b24abe",
   "metadata": {},
   "outputs": [],
   "source": [
    "# Convert rows to JSON\n",
    "data = [{\"id\": row[0], \"title\": row[1], \"text\": row[2]} for row in rows]\n",
    "json_data = json.dumps(data)"
   ]
  },
  {
   "cell_type": "code",
   "execution_count": 22,
   "id": "ccac1e11-0c31-420a-81a0-3632e838a989",
   "metadata": {},
   "outputs": [],
   "source": [
    "data = json.loads(json_data)"
   ]
  },
  {
   "cell_type": "code",
   "execution_count": 31,
   "id": "0ce6a420-dac9-45b3-a5db-e7168bbe4827",
   "metadata": {},
   "outputs": [
    {
     "name": "stdout",
     "output_type": "stream",
     "text": [
      "[[0, 5, \"China\", \"China\", 0.8694822901752369, 0.8440544605255127, \"LOC\"], [52, 4, \"U.S.\", \"United_States\", 0.521479391215041, 0.9513190984725952, \"LOC\"]]"
     ]
    }
   ],
   "source": [
    "curl -X POST http://rel:5555/api -H \"Content-Type: application/json\" -d '{\"text\": \"China Is Stealing AI Secrets to Turbocharge Spying, U.S. Says\", \"spans\": []}'\n",
    "curl -X POST http://localhost:5555/api -H \"Content-Type: application/json\" -d '{\"text\": \"China Is Stealing AI Secrets to Turbocharge Spying, U.S. Says\", \"spans\": []}'"
   ]
  },
  {
   "cell_type": "code",
   "execution_count": 61,
   "id": "c72abd7e-2273-41ec-b5f2-06faed704fb0",
   "metadata": {},
   "outputs": [
    {
     "data": {
      "text/plain": [
       "[{'id': 7343,\n",
       "  'title': 'China Is Stealing AI Secrets to Turbocharge Spying, U.S. Says',\n",
       "  'text': 'On a July day in 2018, Xiaolang Zhang headed to the San Jose, Calif., airport to board a flight to Beijing. He had passed the checkpoint at Terminal B when his journey was abruptly cut short by federal agents.\\n\\nAfter a tipoff by Apple ’s security team, the former Apple employee was arrested and charged with stealing trade secrets related to the company’s autonomous-driving program.'},\n",
       " {'id': 7350,\n",
       "  'title': 'U.S. Coast Guard suspends search for man who fell off cruise ship that departed from Baltimore',\n",
       "  'text': 'BALTIMORE -- The U.S. Coast Guard on Christmas Eve suspended its search for a 41-year-old man who fell off a ship belonging to a cruise line that departs from Baltimore.\\n\\n#FinalUpdate: The @USCG has suspended the search efforts for the missing cruise ship passenger 127 mi east of #Charleston.\\n\\n\\n\\nCoast Guard crews searched more than 1,625 square miles and 8 hours.\\n\\n\\n\\nAnyone with new information is asked to call @USCG Sector Charleston: 843-740-7050 — USCGSoutheast (@USCGSoutheast) December 25, 2023\\n\\nThe man had been traveling on a Vision of the Seas cruise ship when he fell overboard on Saturday, according to a spokesperson for Royal Caribbean International.\\n\\nThe ship was about 127 miles east of Charleston, South Carolina, when the incident happened, according to the U.S. Coast Guard.\\n\\nThe U.S. Coast Guard\\'s aircrews searched more than 1,625 square miles over the span of about eight hours, U.S. Coast Guard officials said.\\n\\n\"The ship and crew immediately reported the incident to local authorities and launched a search and rescue mission,\" the spokesperson said on Sunday. \"Out of privacy for the guest and their family, we have no additional details to share.\"\\n\\nThe spokesperson did not confirm or deny whether the passenger was presumed to be dead.'}]"
      ]
     },
     "execution_count": 61,
     "metadata": {},
     "output_type": "execute_result"
    }
   ],
   "source": [
    "[data[2], data[7]]"
   ]
  },
  {
   "cell_type": "code",
   "execution_count": 25,
   "id": "0ab705ea-e202-4add-aca5-e38e961fc61e",
   "metadata": {},
   "outputs": [],
   "source": [
    "# df_test = pd.read_excel('target_raw_news_articles_202312141455.xlsx')\n",
    "# df_test = df_test[~df_test['target'].isna()]\n",
    "# df_test['target'] = df_test['target'].apply(lambda x: x.strip(\"[]\").replace(\"'\", \"\"))\n",
    "# df_test.shape"
   ]
  },
  {
   "cell_type": "code",
   "execution_count": 26,
   "id": "58cb406c-b269-47db-a40d-2c1cac2b0515",
   "metadata": {},
   "outputs": [],
   "source": [
    "# df_test.head()"
   ]
  },
  {
   "cell_type": "code",
   "execution_count": 62,
   "id": "df89b5de-15fd-4b79-ab60-cd83548de22f",
   "metadata": {},
   "outputs": [
    {
     "name": "stderr",
     "output_type": "stream",
     "text": [
      "100%|██████████| 2/2 [00:01<00:00,  1.03it/s]\n"
     ]
    }
   ],
   "source": [
    "df_test_rel = extract_salient_entities([data[2], data[7]], 'title', 'text')"
   ]
  },
  {
   "cell_type": "code",
   "execution_count": 79,
   "id": "4c39221b-2f74-410b-96dc-9b4b8c0a5b9f",
   "metadata": {},
   "outputs": [
    {
     "data": {
      "text/plain": [
       "1"
      ]
     },
     "execution_count": 79,
     "metadata": {},
     "output_type": "execute_result"
    }
   ],
   "source": [
    "len(df_test_rel[1]['salient_entities_set'])"
   ]
  },
  {
   "cell_type": "code",
   "execution_count": 84,
   "id": "c1e50e0f-481b-4cf8-98d2-e5c66d73d979",
   "metadata": {},
   "outputs": [
    {
     "data": {
      "text/plain": [
       "{'United_States_Coast_Guard'}"
      ]
     },
     "execution_count": 84,
     "metadata": {},
     "output_type": "execute_result"
    }
   ],
   "source": [
    "df_test_rel[1]['salient_entities_set']"
   ]
  },
  {
   "cell_type": "code",
   "execution_count": 85,
   "id": "206215be-40b2-4cbd-9b53-0026b828cb4c",
   "metadata": {},
   "outputs": [
    {
     "data": {
      "text/plain": [
       "{'None'}"
      ]
     },
     "execution_count": 85,
     "metadata": {},
     "output_type": "execute_result"
    }
   ],
   "source": [
    "df_test_rel[0]['salient_entities_set']"
   ]
  },
  {
   "cell_type": "code",
   "execution_count": null,
   "id": "2e9e33df-ef08-4cea-905c-2617fc7c71f3",
   "metadata": {},
   "outputs": [],
   "source": []
  },
  {
   "cell_type": "code",
   "execution_count": 87,
   "id": "978b7e11-7bde-4356-a56f-a93aa86aeaf5",
   "metadata": {},
   "outputs": [
    {
     "data": {
      "text/plain": [
       "6"
      ]
     },
     "execution_count": 87,
     "metadata": {},
     "output_type": "execute_result"
    }
   ],
   "source": [
    "len(df_test_rel[1]['salient_entities_org'])"
   ]
  },
  {
   "cell_type": "code",
   "execution_count": 89,
   "id": "adbcb8a8-dcc1-4b22-a0e9-c166531b210a",
   "metadata": {},
   "outputs": [
    {
     "data": {
      "text/plain": [
       "5"
      ]
     },
     "execution_count": 89,
     "metadata": {},
     "output_type": "execute_result"
    }
   ],
   "source": [
    "len([\n",
    "    [17, 16, 'U.S. Coast Guard', 'United_States_Coast_Guard', 0.8891559804540544, 0.8521444400151571, 'ORG'], \n",
    "    [192, 4, 'USCG', 'United_States_Coast_Guard', 0.9111871297938334, 0.47667717933654785, 'ORG'], \n",
    "    [791, 17, 'U.S. Coast Guard.', 'United_States_Coast_Guard', 0.3872777678067984, 0.8202411532402039, 'ORG'], \n",
    "    [816, 16, 'U.S. Coast Guard', 'United_States_Coast_Guard', 0.43678396048090334, 0.7355291048685709, 'ORG'], \n",
    "    [918, 16, 'U.S. Coast Guard', 'United_States_Coast_Guard', 0.47601745960158903, 0.8914013306299845, 'ORG']\n",
    "])"
   ]
  },
  {
   "cell_type": "code",
   "execution_count": 90,
   "id": "9ae81f97-d5de-4a9d-a905-6c2057656e53",
   "metadata": {},
   "outputs": [
    {
     "data": {
      "text/plain": [
       "[[17,\n",
       "  16,\n",
       "  'U.S. Coast Guard',\n",
       "  'United_States_Coast_Guard',\n",
       "  0.30562666525715215,\n",
       "  0.8639779289563497,\n",
       "  'ORG'],\n",
       " [190,\n",
       "  4,\n",
       "  'USCG',\n",
       "  'United_States_Coast_Guard',\n",
       "  0.7504895236536515,\n",
       "  0.9649078845977783,\n",
       "  'ORG'],\n",
       " [297,\n",
       "  11,\n",
       "  'Coast Guard',\n",
       "  'United_States_Coast_Guard',\n",
       "  0.8574496275930025,\n",
       "  0.8526458442211151,\n",
       "  'ORG'],\n",
       " [777,\n",
       "  16,\n",
       "  'U.S. Coast Guard',\n",
       "  'United_States_Coast_Guard',\n",
       "  0.27727612688077324,\n",
       "  0.8181795080502828,\n",
       "  'ORG'],\n",
       " [800,\n",
       "  16,\n",
       "  'U.S. Coast Guard',\n",
       "  'United_States_Coast_Guard',\n",
       "  0.2773915748522871,\n",
       "  0.8772232333819071,\n",
       "  'ORG'],\n",
       " [902,\n",
       "  16,\n",
       "  'U.S. Coast Guard',\n",
       "  'United_States_Coast_Guard',\n",
       "  0.2773879666549176,\n",
       "  0.8078232804934183,\n",
       "  'ORG']]"
      ]
     },
     "execution_count": 90,
     "metadata": {},
     "output_type": "execute_result"
    }
   ],
   "source": [
    "df_test_rel[1]['salient_entities_org']"
   ]
  },
  {
   "cell_type": "code",
   "execution_count": null,
   "id": "746f841b-a9da-4b69-b746-6a84261a1c09",
   "metadata": {},
   "outputs": [],
   "source": []
  }
 ],
 "metadata": {
  "kernelspec": {
   "display_name": "Python 3 (ipykernel)",
   "language": "python",
   "name": "python3"
  },
  "language_info": {
   "codemirror_mode": {
    "name": "ipython",
    "version": 3
   },
   "file_extension": ".py",
   "mimetype": "text/x-python",
   "name": "python",
   "nbconvert_exporter": "python",
   "pygments_lexer": "ipython3",
   "version": "3.11.7"
  }
 },
 "nbformat": 4,
 "nbformat_minor": 5
}
