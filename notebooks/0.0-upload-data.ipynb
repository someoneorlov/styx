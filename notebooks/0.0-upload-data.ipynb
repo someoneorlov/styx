{
 "cells": [
  {
   "cell_type": "code",
   "execution_count": 21,
   "id": "e134f8d9-e132-4dd8-ae86-4866cc6734b8",
   "metadata": {},
   "outputs": [],
   "source": [
    "import boto3\n",
    "from botocore.exceptions import NoCredentialsError"
   ]
  },
  {
   "cell_type": "code",
   "execution_count": 22,
   "id": "812d7dd4-de4b-4143-8723-4bae449eca16",
   "metadata": {},
   "outputs": [],
   "source": [
    "def upload_file_to_s3(local_path, bucket, s3_path):\n",
    "    \"\"\"\n",
    "    Uploads a file to an S3 bucket\n",
    "    :param local_path: Path to the local file\n",
    "    :param bucket: S3 bucket name\n",
    "    :param s3_path: S3 path where the file will be stored\n",
    "    \"\"\"\n",
    "    s3 = boto3.client('s3')\n",
    "    try:\n",
    "        s3.upload_file(local_path, bucket, s3_path)\n",
    "        print(f\"File {local_path} uploaded to {bucket}/{s3_path}\")\n",
    "    except FileNotFoundError:\n",
    "        print(\"The file was not found.\")\n",
    "    except NoCredentialsError:\n",
    "        print(\"Credentials not available.\")"
   ]
  },
  {
   "cell_type": "code",
   "execution_count": 23,
   "id": "3d965e8b-fce8-48d8-9f21-460961c74163",
   "metadata": {},
   "outputs": [
    {
     "name": "stdout",
     "output_type": "stream",
     "text": [
      "File ../data/external/sentiment/Fin_Cleaned.csv uploaded to styx-nlp-datasets/external/sentiment/Fin_Cleaned.csv\n"
     ]
    }
   ],
   "source": [
    "data_dir = \"../data/\"\n",
    "file_path = \"external/sentiment/Fin_Cleaned.csv\"\n",
    "bucket_name = \"styx-nlp-datasets\"\n",
    "\n",
    "upload_file_to_s3(data_dir + file_path, bucket_name, file_path)"
   ]
  }
 ],
 "metadata": {
  "kernelspec": {
   "display_name": "Python 3 (ipykernel)",
   "language": "python",
   "name": "python3"
  },
  "language_info": {
   "codemirror_mode": {
    "name": "ipython",
    "version": 3
   },
   "file_extension": ".py",
   "mimetype": "text/x-python",
   "name": "python",
   "nbconvert_exporter": "python",
   "pygments_lexer": "ipython3",
   "version": "3.10.14"
  }
 },
 "nbformat": 4,
 "nbformat_minor": 5
}
