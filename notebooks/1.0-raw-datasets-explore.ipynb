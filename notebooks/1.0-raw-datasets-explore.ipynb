{
 "cells": [
  {
   "cell_type": "code",
   "execution_count": 1,
   "id": "7d17d13e-c560-4b80-b2b9-44473e0e7e71",
   "metadata": {
    "tags": []
   },
   "outputs": [],
   "source": [
    "import os\n",
    "import json\n",
    "import time\n",
    "import pyarrow\n",
    "\n",
    "import numpy as np\n",
    "import pandas as pd\n",
    "import matplotlib.pyplot as plt\n",
    "\n",
    "pd.set_option('display.max_columns', None)\n",
    "pd.set_option('display.max_rows', 50)"
   ]
  },
  {
   "cell_type": "markdown",
   "id": "e80e740f-1a53-4924-89d2-3e7436c6b4b7",
   "metadata": {},
   "source": [
    "# CNBC News"
   ]
  },
  {
   "cell_type": "code",
   "execution_count": 2,
   "id": "f5ac04c7-e86b-4a25-aa9c-25641f9d4253",
   "metadata": {
    "tags": []
   },
   "outputs": [],
   "source": [
    "cnbc_df = pd.read_csv('../data/external/cnbc_news_dataset.csv')"
   ]
  },
  {
   "cell_type": "code",
   "execution_count": 3,
   "id": "0c00f75a-57b2-4dca-b0e1-9d0e3d7ea8bc",
   "metadata": {
    "tags": []
   },
   "outputs": [
    {
     "data": {
      "text/html": [
       "<div>\n",
       "<style scoped>\n",
       "    .dataframe tbody tr th:only-of-type {\n",
       "        vertical-align: middle;\n",
       "    }\n",
       "\n",
       "    .dataframe tbody tr th {\n",
       "        vertical-align: top;\n",
       "    }\n",
       "\n",
       "    .dataframe thead th {\n",
       "        text-align: right;\n",
       "    }\n",
       "</style>\n",
       "<table border=\"1\" class=\"dataframe\">\n",
       "  <thead>\n",
       "    <tr style=\"text-align: right;\">\n",
       "      <th></th>\n",
       "      <th>index</th>\n",
       "      <th>title</th>\n",
       "      <th>url</th>\n",
       "      <th>published_at</th>\n",
       "      <th>author</th>\n",
       "      <th>publisher</th>\n",
       "      <th>short_description</th>\n",
       "      <th>keywords</th>\n",
       "      <th>header_image</th>\n",
       "      <th>raw_description</th>\n",
       "      <th>description</th>\n",
       "      <th>scraped_at</th>\n",
       "    </tr>\n",
       "  </thead>\n",
       "  <tbody>\n",
       "    <tr>\n",
       "      <th>0</th>\n",
       "      <td>0</td>\n",
       "      <td>Santoli’s Wednesday market notes: Could Septem...</td>\n",
       "      <td>https://www.cnbc.com/2021/09/29/santolis-wedne...</td>\n",
       "      <td>2021-09-29T17:09:39+0000</td>\n",
       "      <td>Michael Santoli</td>\n",
       "      <td>CNBC</td>\n",
       "      <td>This is the daily notebook of Mike Santoli, CN...</td>\n",
       "      <td>cnbc, Premium, Articles, Investment strategy, ...</td>\n",
       "      <td>https://image.cnbcfm.com/api/v1/image/10694960...</td>\n",
       "      <td>&lt;div class=\"group\"&gt;&lt;p&gt;&lt;em&gt;This is the daily no...</td>\n",
       "      <td>This is the daily notebook of Mike Santoli, CN...</td>\n",
       "      <td>2021-10-30 14:11:23.709372</td>\n",
       "    </tr>\n",
       "    <tr>\n",
       "      <th>1</th>\n",
       "      <td>1</td>\n",
       "      <td>My take on the early Brexit winners and losers</td>\n",
       "      <td>https://www.cnbc.com/2016/06/24/ian-bremmers-t...</td>\n",
       "      <td>2016-06-24T13:50:48-0400</td>\n",
       "      <td>NaN</td>\n",
       "      <td>CNBC</td>\n",
       "      <td>This commentary originally ran on Facebook. Bo...</td>\n",
       "      <td>Articles, Politics, Europe News, European Cent...</td>\n",
       "      <td>https://fm.cnbc.com/applications/cnbc.com/reso...</td>\n",
       "      <td>NaN</td>\n",
       "      <td>NaN</td>\n",
       "      <td>2021-10-30 14:11:23.820139</td>\n",
       "    </tr>\n",
       "    <tr>\n",
       "      <th>2</th>\n",
       "      <td>2</td>\n",
       "      <td>Europe&amp;#039;s recovery depends on Renzi&amp;#039;s...</td>\n",
       "      <td>https://www.cnbc.com/2014/03/25/europes-recove...</td>\n",
       "      <td>2014-03-25T13:29:45-0400</td>\n",
       "      <td>NaN</td>\n",
       "      <td>CNBC</td>\n",
       "      <td>In spring, ambitious reforms began in Italy. U...</td>\n",
       "      <td>Articles, Business News, Economy, Europe Econo...</td>\n",
       "      <td>https://fm.cnbc.com/applications/cnbc.com/reso...</td>\n",
       "      <td>NaN</td>\n",
       "      <td>NaN</td>\n",
       "      <td>2021-10-30 14:11:23.854710</td>\n",
       "    </tr>\n",
       "    <tr>\n",
       "      <th>3</th>\n",
       "      <td>3</td>\n",
       "      <td>US Moves Closer to Becoming A Major Shareholde...</td>\n",
       "      <td>https://www.cnbc.com/2009/04/22/us-moves-close...</td>\n",
       "      <td>2009-04-22T19:49:03+0000</td>\n",
       "      <td>Michelle Caruso-Cabrera</td>\n",
       "      <td>CNBC</td>\n",
       "      <td>The US government is increasingly likely to co...</td>\n",
       "      <td>cnbc, Articles, General Motors Co, Business Ne...</td>\n",
       "      <td>https://image.cnbcfm.com/api/v1/image/24947979...</td>\n",
       "      <td>&lt;div class=\"group\"&gt;&lt;p&gt;The US government is inc...</td>\n",
       "      <td>The US government is increasingly likely to co...</td>\n",
       "      <td>2021-10-30 14:11:24.261143</td>\n",
       "    </tr>\n",
       "    <tr>\n",
       "      <th>4</th>\n",
       "      <td>4</td>\n",
       "      <td>Trump: 'Mission accomplished' on 'perfectly ex...</td>\n",
       "      <td>https://www.cnbc.com/2018/04/14/trump-mission-...</td>\n",
       "      <td>2018-04-14T14:59:04+0000</td>\n",
       "      <td>Javier E. David</td>\n",
       "      <td>CNBC</td>\n",
       "      <td>NaN</td>\n",
       "      <td>cnbc, Articles, George W. Bush, Vladimir Putin...</td>\n",
       "      <td>https://image.cnbcfm.com/api/v1/image/10513177...</td>\n",
       "      <td>&lt;div class=\"group\"&gt;&lt;/div&gt;,&lt;div class=\"group\"&gt;&lt;...</td>\n",
       "      <td>President Donald Trump hailed the U.S.-led int...</td>\n",
       "      <td>2021-10-30 14:11:24.489490</td>\n",
       "    </tr>\n",
       "  </tbody>\n",
       "</table>\n",
       "</div>"
      ],
      "text/plain": [
       "   index                                              title   \n",
       "0      0  Santoli’s Wednesday market notes: Could Septem...  \\\n",
       "1      1     My take on the early Brexit winners and losers   \n",
       "2      2  Europe&#039;s recovery depends on Renzi&#039;s...   \n",
       "3      3  US Moves Closer to Becoming A Major Shareholde...   \n",
       "4      4  Trump: 'Mission accomplished' on 'perfectly ex...   \n",
       "\n",
       "                                                 url   \n",
       "0  https://www.cnbc.com/2021/09/29/santolis-wedne...  \\\n",
       "1  https://www.cnbc.com/2016/06/24/ian-bremmers-t...   \n",
       "2  https://www.cnbc.com/2014/03/25/europes-recove...   \n",
       "3  https://www.cnbc.com/2009/04/22/us-moves-close...   \n",
       "4  https://www.cnbc.com/2018/04/14/trump-mission-...   \n",
       "\n",
       "               published_at                   author publisher   \n",
       "0  2021-09-29T17:09:39+0000          Michael Santoli      CNBC  \\\n",
       "1  2016-06-24T13:50:48-0400                      NaN      CNBC   \n",
       "2  2014-03-25T13:29:45-0400                      NaN      CNBC   \n",
       "3  2009-04-22T19:49:03+0000  Michelle Caruso-Cabrera      CNBC   \n",
       "4  2018-04-14T14:59:04+0000          Javier E. David      CNBC   \n",
       "\n",
       "                                   short_description   \n",
       "0  This is the daily notebook of Mike Santoli, CN...  \\\n",
       "1  This commentary originally ran on Facebook. Bo...   \n",
       "2  In spring, ambitious reforms began in Italy. U...   \n",
       "3  The US government is increasingly likely to co...   \n",
       "4                                                NaN   \n",
       "\n",
       "                                            keywords   \n",
       "0  cnbc, Premium, Articles, Investment strategy, ...  \\\n",
       "1  Articles, Politics, Europe News, European Cent...   \n",
       "2  Articles, Business News, Economy, Europe Econo...   \n",
       "3  cnbc, Articles, General Motors Co, Business Ne...   \n",
       "4  cnbc, Articles, George W. Bush, Vladimir Putin...   \n",
       "\n",
       "                                        header_image   \n",
       "0  https://image.cnbcfm.com/api/v1/image/10694960...  \\\n",
       "1  https://fm.cnbc.com/applications/cnbc.com/reso...   \n",
       "2  https://fm.cnbc.com/applications/cnbc.com/reso...   \n",
       "3  https://image.cnbcfm.com/api/v1/image/24947979...   \n",
       "4  https://image.cnbcfm.com/api/v1/image/10513177...   \n",
       "\n",
       "                                     raw_description   \n",
       "0  <div class=\"group\"><p><em>This is the daily no...  \\\n",
       "1                                                NaN   \n",
       "2                                                NaN   \n",
       "3  <div class=\"group\"><p>The US government is inc...   \n",
       "4  <div class=\"group\"></div>,<div class=\"group\"><...   \n",
       "\n",
       "                                         description   \n",
       "0  This is the daily notebook of Mike Santoli, CN...  \\\n",
       "1                                                NaN   \n",
       "2                                                NaN   \n",
       "3  The US government is increasingly likely to co...   \n",
       "4  President Donald Trump hailed the U.S.-led int...   \n",
       "\n",
       "                   scraped_at  \n",
       "0  2021-10-30 14:11:23.709372  \n",
       "1  2021-10-30 14:11:23.820139  \n",
       "2  2021-10-30 14:11:23.854710  \n",
       "3  2021-10-30 14:11:24.261143  \n",
       "4  2021-10-30 14:11:24.489490  "
      ]
     },
     "execution_count": 3,
     "metadata": {},
     "output_type": "execute_result"
    }
   ],
   "source": [
    "cnbc_df.head()"
   ]
  },
  {
   "cell_type": "code",
   "execution_count": 4,
   "id": "26b76ef7-773b-4a3f-bcef-30b91af45644",
   "metadata": {
    "tags": []
   },
   "outputs": [
    {
     "data": {
      "text/plain": [
       "(625, 12)"
      ]
     },
     "execution_count": 4,
     "metadata": {},
     "output_type": "execute_result"
    }
   ],
   "source": [
    "cnbc_df.shape"
   ]
  },
  {
   "cell_type": "code",
   "execution_count": 5,
   "id": "78ba3f07-d4ac-429e-98c3-0ee105d636ba",
   "metadata": {
    "tags": []
   },
   "outputs": [
    {
     "data": {
      "text/plain": [
       "[2006,\n",
       " 2007,\n",
       " 2008,\n",
       " 2009,\n",
       " 2010,\n",
       " 2011,\n",
       " 2012,\n",
       " 2013,\n",
       " 2014,\n",
       " 2015,\n",
       " 2016,\n",
       " 2017,\n",
       " 2018,\n",
       " 2019,\n",
       " 2020,\n",
       " 2021]"
      ]
     },
     "execution_count": 5,
     "metadata": {},
     "output_type": "execute_result"
    }
   ],
   "source": [
    "sorted(cnbc_df['published_at'].apply(lambda x: int(x[:4])).unique())"
   ]
  },
  {
   "cell_type": "markdown",
   "id": "c2b0096a-cf91-41e6-aade-17110b7e2c87",
   "metadata": {},
   "source": [
    "# financial_news_headlines_data"
   ]
  },
  {
   "cell_type": "markdown",
   "id": "e1cfa31c-2052-4ecc-bbba-394185cafea7",
   "metadata": {},
   "source": [
    "## CNBC"
   ]
  },
  {
   "cell_type": "code",
   "execution_count": 6,
   "id": "61289a71-4e22-4e02-88ac-a49f65871b27",
   "metadata": {
    "tags": []
   },
   "outputs": [
    {
     "data": {
      "text/html": [
       "<div>\n",
       "<style scoped>\n",
       "    .dataframe tbody tr th:only-of-type {\n",
       "        vertical-align: middle;\n",
       "    }\n",
       "\n",
       "    .dataframe tbody tr th {\n",
       "        vertical-align: top;\n",
       "    }\n",
       "\n",
       "    .dataframe thead th {\n",
       "        text-align: right;\n",
       "    }\n",
       "</style>\n",
       "<table border=\"1\" class=\"dataframe\">\n",
       "  <thead>\n",
       "    <tr style=\"text-align: right;\">\n",
       "      <th></th>\n",
       "      <th>Headlines</th>\n",
       "      <th>Time</th>\n",
       "      <th>Description</th>\n",
       "    </tr>\n",
       "  </thead>\n",
       "  <tbody>\n",
       "    <tr>\n",
       "      <th>0</th>\n",
       "      <td>Jim Cramer: A better way to invest in the Covi...</td>\n",
       "      <td>7:51  PM ET Fri, 17 July 2020</td>\n",
       "      <td>\"Mad Money\" host Jim Cramer recommended buying...</td>\n",
       "    </tr>\n",
       "    <tr>\n",
       "      <th>1</th>\n",
       "      <td>Cramer's lightning round: I would own Teradyne</td>\n",
       "      <td>7:33  PM ET Fri, 17 July 2020</td>\n",
       "      <td>\"Mad Money\" host Jim Cramer rings the lightnin...</td>\n",
       "    </tr>\n",
       "    <tr>\n",
       "      <th>2</th>\n",
       "      <td>NaN</td>\n",
       "      <td>NaN</td>\n",
       "      <td>NaN</td>\n",
       "    </tr>\n",
       "    <tr>\n",
       "      <th>3</th>\n",
       "      <td>Cramer's week ahead: Big week for earnings, ev...</td>\n",
       "      <td>7:25  PM ET Fri, 17 July 2020</td>\n",
       "      <td>\"We'll pay more for the earnings of the non-Co...</td>\n",
       "    </tr>\n",
       "    <tr>\n",
       "      <th>4</th>\n",
       "      <td>IQ Capital CEO Keith Bliss says tech and healt...</td>\n",
       "      <td>4:24  PM ET Fri, 17 July 2020</td>\n",
       "      <td>Keith Bliss, IQ Capital CEO, joins \"Closing Be...</td>\n",
       "    </tr>\n",
       "  </tbody>\n",
       "</table>\n",
       "</div>"
      ],
      "text/plain": [
       "                                           Headlines   \n",
       "0  Jim Cramer: A better way to invest in the Covi...  \\\n",
       "1     Cramer's lightning round: I would own Teradyne   \n",
       "2                                                NaN   \n",
       "3  Cramer's week ahead: Big week for earnings, ev...   \n",
       "4  IQ Capital CEO Keith Bliss says tech and healt...   \n",
       "\n",
       "                             Time   \n",
       "0   7:51  PM ET Fri, 17 July 2020  \\\n",
       "1   7:33  PM ET Fri, 17 July 2020   \n",
       "2                             NaN   \n",
       "3   7:25  PM ET Fri, 17 July 2020   \n",
       "4   4:24  PM ET Fri, 17 July 2020   \n",
       "\n",
       "                                         Description  \n",
       "0  \"Mad Money\" host Jim Cramer recommended buying...  \n",
       "1  \"Mad Money\" host Jim Cramer rings the lightnin...  \n",
       "2                                                NaN  \n",
       "3  \"We'll pay more for the earnings of the non-Co...  \n",
       "4  Keith Bliss, IQ Capital CEO, joins \"Closing Be...  "
      ]
     },
     "execution_count": 6,
     "metadata": {},
     "output_type": "execute_result"
    }
   ],
   "source": [
    "cnbc_headlines_df = pd.read_csv('../data/external/financial_news_headlines_data/cnbc_headlines.csv')\n",
    "cnbc_headlines_df.head()"
   ]
  },
  {
   "cell_type": "code",
   "execution_count": 7,
   "id": "cee71e7e-333d-42d3-a35d-4d0eef9e2325",
   "metadata": {
    "tags": []
   },
   "outputs": [
    {
     "data": {
      "text/plain": [
       "(2800, 3)"
      ]
     },
     "execution_count": 7,
     "metadata": {},
     "output_type": "execute_result"
    }
   ],
   "source": [
    "cnbc_headlines_df.dropna().shape"
   ]
  },
  {
   "cell_type": "code",
   "execution_count": 8,
   "id": "2fa777f0-176f-4b14-a24c-37c1b359573a",
   "metadata": {
    "tags": []
   },
   "outputs": [
    {
     "data": {
      "text/plain": [
       "[2017, 2018, 2019, 2020]"
      ]
     },
     "execution_count": 8,
     "metadata": {},
     "output_type": "execute_result"
    }
   ],
   "source": [
    "sorted(cnbc_headlines_df['Time'].dropna().apply(lambda x: int(x[-4:])).unique())"
   ]
  },
  {
   "cell_type": "markdown",
   "id": "e3b18330-b8f3-4b84-827a-9eb9abcdcf91",
   "metadata": {},
   "source": [
    "## Guardian"
   ]
  },
  {
   "cell_type": "code",
   "execution_count": 9,
   "id": "622a0819-8dab-4ba1-9c00-50ecbada940f",
   "metadata": {
    "tags": []
   },
   "outputs": [
    {
     "data": {
      "text/html": [
       "<div>\n",
       "<style scoped>\n",
       "    .dataframe tbody tr th:only-of-type {\n",
       "        vertical-align: middle;\n",
       "    }\n",
       "\n",
       "    .dataframe tbody tr th {\n",
       "        vertical-align: top;\n",
       "    }\n",
       "\n",
       "    .dataframe thead th {\n",
       "        text-align: right;\n",
       "    }\n",
       "</style>\n",
       "<table border=\"1\" class=\"dataframe\">\n",
       "  <thead>\n",
       "    <tr style=\"text-align: right;\">\n",
       "      <th></th>\n",
       "      <th>Time</th>\n",
       "      <th>Headlines</th>\n",
       "    </tr>\n",
       "  </thead>\n",
       "  <tbody>\n",
       "    <tr>\n",
       "      <th>0</th>\n",
       "      <td>18-Jul-20</td>\n",
       "      <td>Johnson is asking Santa for a Christmas recovery</td>\n",
       "    </tr>\n",
       "    <tr>\n",
       "      <th>1</th>\n",
       "      <td>18-Jul-20</td>\n",
       "      <td>‘I now fear the worst’: four grim tales of wor...</td>\n",
       "    </tr>\n",
       "    <tr>\n",
       "      <th>2</th>\n",
       "      <td>18-Jul-20</td>\n",
       "      <td>Five key areas Sunak must tackle to serve up e...</td>\n",
       "    </tr>\n",
       "    <tr>\n",
       "      <th>3</th>\n",
       "      <td>18-Jul-20</td>\n",
       "      <td>Covid-19 leaves firms ‘fatally ill-prepared’ f...</td>\n",
       "    </tr>\n",
       "    <tr>\n",
       "      <th>4</th>\n",
       "      <td>18-Jul-20</td>\n",
       "      <td>The Week in Patriarchy  \\n\\n\\n  Bacardi's 'lad...</td>\n",
       "    </tr>\n",
       "  </tbody>\n",
       "</table>\n",
       "</div>"
      ],
      "text/plain": [
       "        Time                                          Headlines\n",
       "0  18-Jul-20   Johnson is asking Santa for a Christmas recovery\n",
       "1  18-Jul-20  ‘I now fear the worst’: four grim tales of wor...\n",
       "2  18-Jul-20  Five key areas Sunak must tackle to serve up e...\n",
       "3  18-Jul-20  Covid-19 leaves firms ‘fatally ill-prepared’ f...\n",
       "4  18-Jul-20  The Week in Patriarchy  \\n\\n\\n  Bacardi's 'lad..."
      ]
     },
     "execution_count": 9,
     "metadata": {},
     "output_type": "execute_result"
    }
   ],
   "source": [
    "guardian_headlines_df = pd.read_csv('../data/external/financial_news_headlines_data/guardian_headlines.csv')\n",
    "guardian_headlines_df.head()"
   ]
  },
  {
   "cell_type": "code",
   "execution_count": 10,
   "id": "35f959ba-1dbc-499c-9195-c37f7d31286e",
   "metadata": {
    "tags": []
   },
   "outputs": [
    {
     "data": {
      "text/plain": [
       "(17800, 2)"
      ]
     },
     "execution_count": 10,
     "metadata": {},
     "output_type": "execute_result"
    }
   ],
   "source": [
    "guardian_headlines_df.shape"
   ]
  },
  {
   "cell_type": "markdown",
   "id": "78ca4f69-f33e-4e91-a69c-64b9826f94ac",
   "metadata": {},
   "source": [
    "## Reuters financial_dataeuters"
   ]
  },
  {
   "cell_type": "code",
   "execution_count": 11,
   "id": "ec8a2b6a-d23a-4f74-8385-84e69f28fd91",
   "metadata": {
    "tags": []
   },
   "outputs": [
    {
     "data": {
      "text/html": [
       "<div>\n",
       "<style scoped>\n",
       "    .dataframe tbody tr th:only-of-type {\n",
       "        vertical-align: middle;\n",
       "    }\n",
       "\n",
       "    .dataframe tbody tr th {\n",
       "        vertical-align: top;\n",
       "    }\n",
       "\n",
       "    .dataframe thead th {\n",
       "        text-align: right;\n",
       "    }\n",
       "</style>\n",
       "<table border=\"1\" class=\"dataframe\">\n",
       "  <thead>\n",
       "    <tr style=\"text-align: right;\">\n",
       "      <th></th>\n",
       "      <th>Headlines</th>\n",
       "      <th>Time</th>\n",
       "      <th>Description</th>\n",
       "    </tr>\n",
       "  </thead>\n",
       "  <tbody>\n",
       "    <tr>\n",
       "      <th>0</th>\n",
       "      <td>TikTok considers London and other locations fo...</td>\n",
       "      <td>Jul 18 2020</td>\n",
       "      <td>TikTok has been in discussions with the UK gov...</td>\n",
       "    </tr>\n",
       "    <tr>\n",
       "      <th>1</th>\n",
       "      <td>Disney cuts ad spending on Facebook amid growi...</td>\n",
       "      <td>Jul 18 2020</td>\n",
       "      <td>Walt Disney  has become the latest company to ...</td>\n",
       "    </tr>\n",
       "    <tr>\n",
       "      <th>2</th>\n",
       "      <td>Trail of missing Wirecard executive leads to B...</td>\n",
       "      <td>Jul 18 2020</td>\n",
       "      <td>Former Wirecard  chief operating officer Jan M...</td>\n",
       "    </tr>\n",
       "    <tr>\n",
       "      <th>3</th>\n",
       "      <td>Twitter says attackers downloaded data from up...</td>\n",
       "      <td>Jul 18 2020</td>\n",
       "      <td>Twitter Inc said on Saturday that hackers were...</td>\n",
       "    </tr>\n",
       "    <tr>\n",
       "      <th>4</th>\n",
       "      <td>U.S. Republicans seek liability protections as...</td>\n",
       "      <td>Jul 17 2020</td>\n",
       "      <td>A battle in the U.S. Congress over a new coron...</td>\n",
       "    </tr>\n",
       "  </tbody>\n",
       "</table>\n",
       "</div>"
      ],
      "text/plain": [
       "                                           Headlines         Time   \n",
       "0  TikTok considers London and other locations fo...  Jul 18 2020  \\\n",
       "1  Disney cuts ad spending on Facebook amid growi...  Jul 18 2020   \n",
       "2  Trail of missing Wirecard executive leads to B...  Jul 18 2020   \n",
       "3  Twitter says attackers downloaded data from up...  Jul 18 2020   \n",
       "4  U.S. Republicans seek liability protections as...  Jul 17 2020   \n",
       "\n",
       "                                         Description  \n",
       "0  TikTok has been in discussions with the UK gov...  \n",
       "1  Walt Disney  has become the latest company to ...  \n",
       "2  Former Wirecard  chief operating officer Jan M...  \n",
       "3  Twitter Inc said on Saturday that hackers were...  \n",
       "4  A battle in the U.S. Congress over a new coron...  "
      ]
     },
     "execution_count": 11,
     "metadata": {},
     "output_type": "execute_result"
    }
   ],
   "source": [
    "reuters_headlines_df = pd.read_csv('../data/external/financial_news_headlines_data/reuters_headlines.csv')\n",
    "reuters_headlines_df.head()"
   ]
  },
  {
   "cell_type": "code",
   "execution_count": 12,
   "id": "dd246c27-a36c-4dfd-a337-2faf8c1233a3",
   "metadata": {
    "tags": []
   },
   "outputs": [
    {
     "data": {
      "text/plain": [
       "(32770, 3)"
      ]
     },
     "execution_count": 12,
     "metadata": {},
     "output_type": "execute_result"
    }
   ],
   "source": [
    "reuters_headlines_df.shape"
   ]
  },
  {
   "cell_type": "code",
   "execution_count": 13,
   "id": "99cba8a2-b0c3-4796-84df-8887b824d8e1",
   "metadata": {
    "tags": []
   },
   "outputs": [
    {
     "data": {
      "text/plain": [
       "[2018, 2019, 2020]"
      ]
     },
     "execution_count": 13,
     "metadata": {},
     "output_type": "execute_result"
    }
   ],
   "source": [
    "sorted(reuters_headlines_df['Time'].dropna().apply(lambda x: int(x[-4:])).unique())"
   ]
  },
  {
   "cell_type": "markdown",
   "id": "addb2ea2-1e4a-4042-bb8b-2ec565a87ae8",
   "metadata": {},
   "source": [
    "# financial_data"
   ]
  },
  {
   "cell_type": "code",
   "execution_count": 14,
   "id": "0a332ae7-13ef-47f3-a8ce-ae0bd4e52533",
   "metadata": {
    "tags": []
   },
   "outputs": [],
   "source": [
    "financial_data = pd.read_parquet('../data/external/financial_data.parquet.gzip')"
   ]
  },
  {
   "cell_type": "code",
   "execution_count": 15,
   "id": "673e56dc-2513-4725-926d-bcd01ccdca73",
   "metadata": {
    "tags": []
   },
   "outputs": [
    {
     "data": {
      "text/html": [
       "<div>\n",
       "<style scoped>\n",
       "    .dataframe tbody tr th:only-of-type {\n",
       "        vertical-align: middle;\n",
       "    }\n",
       "\n",
       "    .dataframe tbody tr th {\n",
       "        vertical-align: top;\n",
       "    }\n",
       "\n",
       "    .dataframe thead th {\n",
       "        text-align: right;\n",
       "    }\n",
       "</style>\n",
       "<table border=\"1\" class=\"dataframe\">\n",
       "  <thead>\n",
       "    <tr style=\"text-align: right;\">\n",
       "      <th></th>\n",
       "      <th>Headline</th>\n",
       "      <th>Journalists</th>\n",
       "      <th>Date</th>\n",
       "      <th>Link</th>\n",
       "      <th>Article</th>\n",
       "    </tr>\n",
       "  </thead>\n",
       "  <tbody>\n",
       "    <tr>\n",
       "      <th>0</th>\n",
       "      <td>Exxon Mobil offers plan to end Alaska dispute</td>\n",
       "      <td>b'[\"Yereth Rosen\"]'</td>\n",
       "      <td>Fri Oct 20, 2006 6:15pm EDT</td>\n",
       "      <td>http://www.reuters.com/article/2006/10/20/busi...</td>\n",
       "      <td>ANCHORAGE, Alaska  (Reuters) - Exxon Mobil ( X...</td>\n",
       "    </tr>\n",
       "    <tr>\n",
       "      <th>1</th>\n",
       "      <td>Hey buddy, can you spare $600 for a Google share?</td>\n",
       "      <td>b'[\"Paul Thomasch\",\"Eric Auchard\"]'</td>\n",
       "      <td>Fri Oct 20, 2006 4:25pm EDT</td>\n",
       "      <td>http://www.reuters.com/article/2006/10/20/busi...</td>\n",
       "      <td>SAN FRANCISCO/NEW YORK  (Reuters) - Wall Stree...</td>\n",
       "    </tr>\n",
       "    <tr>\n",
       "      <th>2</th>\n",
       "      <td>AOL CEO says sales may shrink for two years -p...</td>\n",
       "      <td>b'[\"\"]'</td>\n",
       "      <td>Sat Oct 21, 2006 2:21pm EDT</td>\n",
       "      <td>http://www.reuters.com/article/2006/10/21/busi...</td>\n",
       "      <td>FRANKFURT  (Reuters) - Internet service provid...</td>\n",
       "    </tr>\n",
       "    <tr>\n",
       "      <th>3</th>\n",
       "      <td>Fed to keep hawkish tone, hold rates steady</td>\n",
       "      <td>b'[\"Alister Bull\"]'</td>\n",
       "      <td>Sun Oct 22, 2006 12:14pm EDT</td>\n",
       "      <td>http://www.reuters.com/article/2006/10/22/busi...</td>\n",
       "      <td>WASHINGTON  (Reuters) - The central bank is ex...</td>\n",
       "    </tr>\n",
       "    <tr>\n",
       "      <th>4</th>\n",
       "      <td>Pluspetrol says losing $2.4 mln/day in Peru pr...</td>\n",
       "      <td>b'[\"\"]'</td>\n",
       "      <td>Sat Oct 21, 2006 8:11pm EDT</td>\n",
       "      <td>http://www.reuters.com/article/2006/10/22/busi...</td>\n",
       "      <td>LIMA, Peru  (Reuters) - Argentine oil company ...</td>\n",
       "    </tr>\n",
       "  </tbody>\n",
       "</table>\n",
       "</div>"
      ],
      "text/plain": [
       "                                            Headline   \n",
       "0      Exxon Mobil offers plan to end Alaska dispute  \\\n",
       "1  Hey buddy, can you spare $600 for a Google share?   \n",
       "2  AOL CEO says sales may shrink for two years -p...   \n",
       "3        Fed to keep hawkish tone, hold rates steady   \n",
       "4  Pluspetrol says losing $2.4 mln/day in Peru pr...   \n",
       "\n",
       "                           Journalists                          Date   \n",
       "0                  b'[\"Yereth Rosen\"]'   Fri Oct 20, 2006 6:15pm EDT  \\\n",
       "1  b'[\"Paul Thomasch\",\"Eric Auchard\"]'   Fri Oct 20, 2006 4:25pm EDT   \n",
       "2                              b'[\"\"]'   Sat Oct 21, 2006 2:21pm EDT   \n",
       "3                  b'[\"Alister Bull\"]'  Sun Oct 22, 2006 12:14pm EDT   \n",
       "4                              b'[\"\"]'   Sat Oct 21, 2006 8:11pm EDT   \n",
       "\n",
       "                                                Link   \n",
       "0  http://www.reuters.com/article/2006/10/20/busi...  \\\n",
       "1  http://www.reuters.com/article/2006/10/20/busi...   \n",
       "2  http://www.reuters.com/article/2006/10/21/busi...   \n",
       "3  http://www.reuters.com/article/2006/10/22/busi...   \n",
       "4  http://www.reuters.com/article/2006/10/22/busi...   \n",
       "\n",
       "                                             Article  \n",
       "0  ANCHORAGE, Alaska  (Reuters) - Exxon Mobil ( X...  \n",
       "1  SAN FRANCISCO/NEW YORK  (Reuters) - Wall Stree...  \n",
       "2  FRANKFURT  (Reuters) - Internet service provid...  \n",
       "3  WASHINGTON  (Reuters) - The central bank is ex...  \n",
       "4  LIMA, Peru  (Reuters) - Argentine oil company ...  "
      ]
     },
     "execution_count": 15,
     "metadata": {},
     "output_type": "execute_result"
    }
   ],
   "source": [
    "financial_data.head()"
   ]
  },
  {
   "cell_type": "code",
   "execution_count": 16,
   "id": "3d16600f-6688-4d62-bd5f-229779cc312c",
   "metadata": {
    "tags": []
   },
   "outputs": [
    {
     "data": {
      "text/plain": [
       "'ANCHORAGE, Alaska  (Reuters) - Exxon Mobil ( XOM.N ) offeredto pay a $20 million fine and relinquish some leases to thestate of Alaska to resolve a dispute over a North Slope oil andgas field that has remained undeveloped for decades, accordingto a letter made public on Friday.In a proposal sent earlier this week to the AlaskaDepartment of Natural Resources, Exxon Mobil offered to pay thefine and surrender about 20,000 acres of the 116,000-acre PointThomson unit for failure to develop the field as quickly aspromised.  The company\\'s offer was accompanied by an updated plan thatlinks future field development to a yet-to-be-built pipelinethat would ship North Slope natural gas to the lower 48 U.S.states. The natural gas pipeline, a massive project estimatedto cost over $20 billion, is expected to take years to build.  \"We believe this approach is in the best interest of theState and the PTU (Point Thomson Unit) Owners,\" wrote RichardOwen, Alaska production manager for Exxon Mobil.  Point Thomson holds 250 million to 300 million barrels ofliquids, both natural gas condensates and oil, according tostate officials. It also holds 8 trillion cubic feet ofconventional natural gas.  Some of the 46 leases in the Point Thomson unit wereacquired as early as 1965, and more than half were acquiredbefore 1970, according to state information.  Exxon Mobil and its partners -- BP Plc ( BP.L ), Chevron( CVX.N ) and ConocoPhillips ( COP.N ) -- risk losing nearly allthe Point Thomson leases if the state finds the new offerinsufficient.  The state can trigger revocation action if it deems thecompany\\'s new development plan unacceptable and if Exxon Mobilfails in appealing an earlier ruling that it has defaulted onterms of its leases, Bill Van Dyke, acting director of thestate Division of Oil and Gas, said earlier this week.  Normally, state oil and gas leases expire after five to 10years if there has been no commercial development, but the unithas been granted many extensions.  The Point Thomson leases, aggregated into an oil-fieldunit, have been the subject of nearly two dozen developmentplans. The reserves were discovered in 1977.  Last year, Mark Myers, former director of the AlaskaDivision of Oil and Gas, ruled that Exxon Mobil had defaultedon its Point Thomson leases. The company had reneged on anagreement signed with the state in 2001 to start drilling sevendevelopment wells by specific deadlines, Myers said.  \"Continuing this 30-year record of non-development anddelay of an oil and gas lessee\\'s obligation to develop andproduce its oil and gas lease makes a mockery of the statutory,regulatory and contractual protections for the State as ownerof the oil and gas estate,\" Myers wrote in his 2005 decisionthat launched the state\\'s current showdown with Exxon Mobil.  Exxon Mobil has until November 3 to appeal the state\\'sdefault declaration, and a hearing on the appeal is scheduled10 days after that, state officials said.'"
      ]
     },
     "execution_count": 16,
     "metadata": {},
     "output_type": "execute_result"
    }
   ],
   "source": [
    "financial_data.loc[0, 'Article']"
   ]
  },
  {
   "cell_type": "code",
   "execution_count": 17,
   "id": "6a4b5799-2228-44fd-998c-91c13ffde750",
   "metadata": {
    "tags": []
   },
   "outputs": [
    {
     "data": {
      "text/plain": [
       "(106494, 5)"
      ]
     },
     "execution_count": 17,
     "metadata": {},
     "output_type": "execute_result"
    }
   ],
   "source": [
    "financial_data.shape"
   ]
  },
  {
   "cell_type": "code",
   "execution_count": 18,
   "id": "a2d18788-995d-4a8c-94d0-a119f25b9933",
   "metadata": {
    "tags": []
   },
   "outputs": [
    {
     "name": "stderr",
     "output_type": "stream",
     "text": [
      "/home/ec2-user/environments/styx_env/lib/python3.10/site-packages/dateutil/parser/_parser.py:1207: UnknownTimezoneWarning: tzname EDT identified but not understood.  Pass `tzinfos` argument in order to correctly return a timezone-aware datetime.  In a future version, this will raise an exception.\n",
      "  warnings.warn(\"tzname {tzname} identified but not understood.  \"\n",
      "/tmp/ipykernel_4533/1673580740.py:1: UserWarning: Could not infer format, so each element will be parsed individually, falling back to `dateutil`. To ensure parsing is consistent and as-expected, please specify a format.\n",
      "  sorted(pd.to_datetime(financial_data['Date']).dt.strftime('%Y').unique())\n"
     ]
    },
    {
     "data": {
      "text/plain": [
       "['2006', '2007', '2008', '2009', '2010', '2011', '2012', '2013']"
      ]
     },
     "execution_count": 18,
     "metadata": {},
     "output_type": "execute_result"
    }
   ],
   "source": [
    "sorted(pd.to_datetime(financial_data['Date']).dt.strftime('%Y').unique())"
   ]
  },
  {
   "cell_type": "code",
   "execution_count": null,
   "id": "f383c09f-1753-4880-8a87-b723177085c9",
   "metadata": {},
   "outputs": [],
   "source": []
  },
  {
   "cell_type": "code",
   "execution_count": null,
   "id": "0c8f965b-860f-4962-8b57-ca0f5a1c8ba0",
   "metadata": {},
   "outputs": [],
   "source": []
  },
  {
   "cell_type": "markdown",
   "id": "6f0eabea-1bcf-4970-8983-fec0ec92a9ec",
   "metadata": {},
   "source": [
    "# us_financial_news_articles"
   ]
  },
  {
   "cell_type": "code",
   "execution_count": 17,
   "id": "5c7865e0-52ce-46d0-bed9-7cbd64a14b33",
   "metadata": {
    "tags": []
   },
   "outputs": [],
   "source": [
    "def parse_json(json_file):\n",
    "    new_data = {}\n",
    "    \n",
    "    for key, value in json_file.items():\n",
    "        if key == 'thread':\n",
    "            for key_2, value_2 in json_file['thread'].items():\n",
    "                if key_2 in thread:\n",
    "                    new_data[key_2] = value_2\n",
    "        else:\n",
    "            if key in first_lvl:\n",
    "                if key != 'entities':\n",
    "                    new_data[key] = value\n",
    "                else:\n",
    "                    for key_3, value_3 in json_file['entities'].items():\n",
    "                        new_data[key_3] = value_3\n",
    "    return new_data"
   ]
  },
  {
   "cell_type": "code",
   "execution_count": 18,
   "id": "b8250fdb-2032-4b2b-bf98-88effbe1d142",
   "metadata": {
    "tags": []
   },
   "outputs": [],
   "source": [
    "directory_path = \"../data/external/us_financial_news_articles\""
   ]
  },
  {
   "cell_type": "code",
   "execution_count": 19,
   "id": "971ebda5-c27a-4ef2-9c77-cbd802ba36d6",
   "metadata": {
    "tags": []
   },
   "outputs": [
    {
     "data": {
      "text/plain": [
       "['2018_01_112b52537b67659ad3609a234388c50a',\n",
       " '2018_02_112b52537b67659ad3609a234388c50a',\n",
       " '2018_03_112b52537b67659ad3609a234388c50a',\n",
       " '2018_04_112b52537b67659ad3609a234388c50a',\n",
       " '2018_05_112b52537b67659ad3609a234388c50a']"
      ]
     },
     "execution_count": 19,
     "metadata": {},
     "output_type": "execute_result"
    }
   ],
   "source": [
    "subdirs = sorted(os.listdir(directory_path))[1:-1]\n",
    "subdirs"
   ]
  },
  {
   "cell_type": "markdown",
   "id": "d0f7fec0-1f9d-430e-bc39-49983e2e9842",
   "metadata": {
    "tags": []
   },
   "source": [
    "## folder_1"
   ]
  },
  {
   "cell_type": "code",
   "execution_count": 20,
   "id": "dda3f037-262d-49f3-9527-ac3dc7cd0807",
   "metadata": {
    "tags": []
   },
   "outputs": [
    {
     "data": {
      "text/plain": [
       "'2018_01_112b52537b67659ad3609a234388c50a'"
      ]
     },
     "execution_count": 20,
     "metadata": {},
     "output_type": "execute_result"
    }
   ],
   "source": [
    "subdir = subdirs[0]\n",
    "subdir"
   ]
  },
  {
   "cell_type": "code",
   "execution_count": 21,
   "id": "e1cd7545-9716-475c-9d8e-f0bf1e0f550a",
   "metadata": {
    "tags": []
   },
   "outputs": [
    {
     "data": {
      "text/plain": [
       "'news_0000258.json'"
      ]
     },
     "execution_count": 21,
     "metadata": {},
     "output_type": "execute_result"
    }
   ],
   "source": [
    "sample = os.listdir(os.path.join(directory_path, subdir))[0]\n",
    "sample"
   ]
  },
  {
   "cell_type": "code",
   "execution_count": 22,
   "id": "379eb328-6017-475d-b4a3-28834a02b5e3",
   "metadata": {
    "tags": []
   },
   "outputs": [
    {
     "data": {
      "text/plain": [
       "{'organizations': [],\n",
       " 'uuid': 'd68e0728c68ad7ddc8eceeb49b413c800209e064',\n",
       " 'thread': {'social': {'gplus': {'shares': 0},\n",
       "   'pinterest': {'shares': 0},\n",
       "   'vk': {'shares': 0},\n",
       "   'linkedin': {'shares': 0},\n",
       "   'facebook': {'likes': 0, 'shares': 0, 'comments': 0},\n",
       "   'stumbledupon': {'shares': 0}},\n",
       "  'site_full': 'www.cnbc.com',\n",
       "  'main_image': '//sc.cnbcfm.com/applications/cnbc.com/staticcontent/img/cnbc_logo.gif',\n",
       "  'site_section': 'http://www.cnbc.com/id/10000027',\n",
       "  'section_title': 'Press Releases - CNBC',\n",
       "  'url': 'http://www.cnbc.com/2018/01/03/business-wire-avx-corporation-announces-a-definitive-agreement-to-acquire-ethertronics.html',\n",
       "  'country': 'US',\n",
       "  'domain_rank': 767,\n",
       "  'title': 'AVX Corporation Announces a Definitive Agreement to Acquire Ethertronics',\n",
       "  'performance_score': 0,\n",
       "  'site': 'cnbc.com',\n",
       "  'participants_count': 1,\n",
       "  'title_full': '',\n",
       "  'spam_score': 0.058,\n",
       "  'site_type': 'news',\n",
       "  'published': '2018-01-03T17:00:00.000+02:00',\n",
       "  'replies_count': 0,\n",
       "  'uuid': 'd68e0728c68ad7ddc8eceeb49b413c800209e064'},\n",
       " 'author': 'cnbc.com',\n",
       " 'url': 'http://www.cnbc.com/2018/01/03/business-wire-avx-corporation-announces-a-definitive-agreement-to-acquire-ethertronics.html',\n",
       " 'ord_in_thread': 0,\n",
       " 'title': 'AVX Corporation Announces a Definitive Agreement to Acquire Ethertronics',\n",
       " 'locations': [],\n",
       " 'entities': {'persons': [{'name': 'john sarvis', 'sentiment': 'none'}],\n",
       "  'locations': [{'name': 's.c.', 'sentiment': 'none'}],\n",
       "  'organizations': [{'name': 'avx', 'sentiment': 'negative'},\n",
       "   {'name': 'avx corporation', 'sentiment': 'negative'},\n",
       "   {'name': 'nyse', 'sentiment': 'negative'},\n",
       "   {'name': 'ethertronics inc.', 'sentiment': 'none'},\n",
       "   {'name': 'ethertronics', 'sentiment': 'none'}]},\n",
       " 'highlightText': '',\n",
       " 'language': 'english',\n",
       " 'persons': [],\n",
       " 'text': 'FOUNTAIN INN, S.C.--(BUSINESS WIRE)-- AVX Corporation (NYSE: AVX) today announced that it has signed a definitive agreement to acquire Ethertronics Inc., a privately held manufacturer of passive and active antenna systems. Ethertronics is a leader in advanced antenna system technology and manufactures antenna products for wireless applications such as mobile phones, Wi-Fi, defense, aerospace, medical, and Internet of Things.\\nJohn Sarvis, President and Chief Executive Officer of AVX Corporation, stated, \"The addition of Ethertronics is an exciting opportunity for AVX as we expand our extensive electronic product offering into a new arena. Ethertronics is a premier brand that we are proud to add to the AVX family. The combination of AVX and Ethertronics offers exciting growth potential for the years ahead.\"\\nIn accordance with the agreement, AVX will acquire Ethertronics for a consideration of $142.0 million in cash and assumption of $8.0 million of net debt, subject to normal working capital adjustments at closing. The transaction is subject to regulatory approvals and other conditions that are customary for transactions of this type.\\nEthertronics designs, manufactures and markets passive and active IMD antenna systems. IMD antennas are highly efficient antennas that are insensitive to changes in ground planes or local interference. The unique design allows flexibility to tune for multiple frequencies in confined spaces and for active tuning for radiation pattern coverage as well as frequency. Ethertronics supplies patented passive and active tunable antennas for virtually all wireless connectivity applications and, with technologies such as integrated LDS structures, Ethertronics is a major supplier of cellphone and laptop antenna systems. With over 200 patents, Ethertronics operates facilities in 6 locations located in China, South Korea, Vietnam, France, Taiwan, and the USA, comprising R&D, manufacturing and sales office locations. In the financial year ended December 31, 2017, Ethertronics generated approximately $90 million of revenue. Ethertronics employs approximately 700 people, 120 of whom are in product development, reflecting a strong R&D focus. DBO Partners acted as financial advisor to Ethertronics and Gunderson Dettmer Stough Villeneuve Franklin & Hachigian, LLP provided legal counsel to Ethertronics.\\nAVX Corporation is a leading worldwide manufacturer and supplier of a broad line of passive electronic components and interconnect products. AVX\\'s components can be found in products manufactured in a broad range of industries worldwide. AVX is headquartered in Fountain Inn, SC. AVX can be found on the Internet at http://www.avx.com .\\nForward-Looking Statements\\nCertain statements of other than historical fact that are contained in this document and in other written materials, press releases and oral statements issued by or on behalf of AVX Corporation or Ethertronics may be considered to be “forward-looking statements” within the meaning of and subject to the protections of the Private Securities Litigation Reform Act of 1995. These forward-looking statements are not guarantees of future performance, nor should they be relied upon as representing management’s views as of any subsequent date. These statements may include words such as “expect,” “estimate,” “project,” “anticipate,” “appear,” “believe,” “could,” “should,” “may,” “likely,” “intend,” “probability,” “risk,” “target,” “objective,” “plans,” “potential,” and similar expressions, although not all forward-looking statements contain such language. Forward-looking statements are statements with respect to AVX Corporation’s or Ethertronics’ beliefs, plans, expectations, objectives, goals, anticipations, assumptions, estimates, intentions and future performance and are subject to significant known and unknown risks and uncertainties, which could cause actual results to differ materially from the results discussed in the forward-looking statements. For example, statements about the proposed Merger involving AVX Corporation and Ethertronics, including future financial and operating results, plans, objectives, expectations and intentions, the expected timing of completion of the Merger and other statements are not historical facts. Among the key factors that could cause actual results to differ materially from those indicated by such forward-looking statements are the following: (i) the ability to obtain the requisite Ethertronics stockholder approvals; (ii) the risk that a regulatory approval that may be required for the proposed acquisition is not obtained or is obtained subject to conditions that are not anticipated; (iii) the risk that a condition to the completion of the Merger may not be satisfied; (iv) the timing to consummate the proposed Merger; (v) the risk that the businesses will not be integrated successfully; (vi) the risk that the cost savings and any other synergies from the transaction may not be fully realized or may take longer to realize than expected; (vii) disruption from the transaction making it more difficult to maintain relationships with customers, employees or vendors; and (viii) the diversion of management time on acquisition-related issues.\\nAdditional information concerning AVX Corporation and its business, including additional factors that could materially affect its financial results, is included in AVX Corporation’s Annual Report on Form 10-K for the year ended March 31, 2017, under “Business” and Item 1A. “Risk Factors,” and in its other filings with the Securities and Exchange Commission. Except as required by law, each of AVX Corporation and Ethertronics disclaims any obligation to update any factors or to announce publicly the result of revisions to any of the forward-looking statements included herein to reflect future events or developments.\\nView source version on businesswire.com : http://www.businesswire.com/news/home/20180103005612/en/\\nAVX Corporation\\nKurt Cummings, 864-967-9303\\ninvestor.relations@avx.com\\nSource: AVX Corporation',\n",
       " 'external_links': ['http://cts.businesswire.com/ct/CT?id=smartlink&url=http%3A%2F%2Fwww.avx.com%2F&esheet=51737128&newsitemid=20180103005612&lan=en-US&anchor=http%3A%2F%2Fwww.avx.com&index=1&md5=bc37ecf2676a852ed2cb745900bceeb9',\n",
       "  'http://www.businesswire.com/news/home/20180103005612/en/'],\n",
       " 'published': '2018-01-03T17:00:00.000+02:00',\n",
       " 'crawled': '2018-01-03T18:44:33.001+02:00',\n",
       " 'highlightTitle': ''}"
      ]
     },
     "execution_count": 22,
     "metadata": {},
     "output_type": "execute_result"
    }
   ],
   "source": [
    "one_sample = json.load(\n",
    "    open(os.path.join(directory_path, subdir, sample)))\n",
    "one_sample"
   ]
  },
  {
   "cell_type": "code",
   "execution_count": 23,
   "id": "beb7bfb9-06fa-4163-a1d6-d69cfb58b20d",
   "metadata": {
    "tags": []
   },
   "outputs": [
    {
     "data": {
      "text/plain": [
       "{'section_title': 'Press Releases - CNBC',\n",
       " 'country': 'US',\n",
       " 'site': 'cnbc.com',\n",
       " 'title_full': '',\n",
       " 'author': 'cnbc.com',\n",
       " 'url': 'http://www.cnbc.com/2018/01/03/business-wire-avx-corporation-announces-a-definitive-agreement-to-acquire-ethertronics.html',\n",
       " 'title': 'AVX Corporation Announces a Definitive Agreement to Acquire Ethertronics',\n",
       " 'persons': [{'name': 'john sarvis', 'sentiment': 'none'}],\n",
       " 'locations': [{'name': 's.c.', 'sentiment': 'none'}],\n",
       " 'organizations': [{'name': 'avx', 'sentiment': 'negative'},\n",
       "  {'name': 'avx corporation', 'sentiment': 'negative'},\n",
       "  {'name': 'nyse', 'sentiment': 'negative'},\n",
       "  {'name': 'ethertronics inc.', 'sentiment': 'none'},\n",
       "  {'name': 'ethertronics', 'sentiment': 'none'}],\n",
       " 'text': 'FOUNTAIN INN, S.C.--(BUSINESS WIRE)-- AVX Corporation (NYSE: AVX) today announced that it has signed a definitive agreement to acquire Ethertronics Inc., a privately held manufacturer of passive and active antenna systems. Ethertronics is a leader in advanced antenna system technology and manufactures antenna products for wireless applications such as mobile phones, Wi-Fi, defense, aerospace, medical, and Internet of Things.\\nJohn Sarvis, President and Chief Executive Officer of AVX Corporation, stated, \"The addition of Ethertronics is an exciting opportunity for AVX as we expand our extensive electronic product offering into a new arena. Ethertronics is a premier brand that we are proud to add to the AVX family. The combination of AVX and Ethertronics offers exciting growth potential for the years ahead.\"\\nIn accordance with the agreement, AVX will acquire Ethertronics for a consideration of $142.0 million in cash and assumption of $8.0 million of net debt, subject to normal working capital adjustments at closing. The transaction is subject to regulatory approvals and other conditions that are customary for transactions of this type.\\nEthertronics designs, manufactures and markets passive and active IMD antenna systems. IMD antennas are highly efficient antennas that are insensitive to changes in ground planes or local interference. The unique design allows flexibility to tune for multiple frequencies in confined spaces and for active tuning for radiation pattern coverage as well as frequency. Ethertronics supplies patented passive and active tunable antennas for virtually all wireless connectivity applications and, with technologies such as integrated LDS structures, Ethertronics is a major supplier of cellphone and laptop antenna systems. With over 200 patents, Ethertronics operates facilities in 6 locations located in China, South Korea, Vietnam, France, Taiwan, and the USA, comprising R&D, manufacturing and sales office locations. In the financial year ended December 31, 2017, Ethertronics generated approximately $90 million of revenue. Ethertronics employs approximately 700 people, 120 of whom are in product development, reflecting a strong R&D focus. DBO Partners acted as financial advisor to Ethertronics and Gunderson Dettmer Stough Villeneuve Franklin & Hachigian, LLP provided legal counsel to Ethertronics.\\nAVX Corporation is a leading worldwide manufacturer and supplier of a broad line of passive electronic components and interconnect products. AVX\\'s components can be found in products manufactured in a broad range of industries worldwide. AVX is headquartered in Fountain Inn, SC. AVX can be found on the Internet at http://www.avx.com .\\nForward-Looking Statements\\nCertain statements of other than historical fact that are contained in this document and in other written materials, press releases and oral statements issued by or on behalf of AVX Corporation or Ethertronics may be considered to be “forward-looking statements” within the meaning of and subject to the protections of the Private Securities Litigation Reform Act of 1995. These forward-looking statements are not guarantees of future performance, nor should they be relied upon as representing management’s views as of any subsequent date. These statements may include words such as “expect,” “estimate,” “project,” “anticipate,” “appear,” “believe,” “could,” “should,” “may,” “likely,” “intend,” “probability,” “risk,” “target,” “objective,” “plans,” “potential,” and similar expressions, although not all forward-looking statements contain such language. Forward-looking statements are statements with respect to AVX Corporation’s or Ethertronics’ beliefs, plans, expectations, objectives, goals, anticipations, assumptions, estimates, intentions and future performance and are subject to significant known and unknown risks and uncertainties, which could cause actual results to differ materially from the results discussed in the forward-looking statements. For example, statements about the proposed Merger involving AVX Corporation and Ethertronics, including future financial and operating results, plans, objectives, expectations and intentions, the expected timing of completion of the Merger and other statements are not historical facts. Among the key factors that could cause actual results to differ materially from those indicated by such forward-looking statements are the following: (i) the ability to obtain the requisite Ethertronics stockholder approvals; (ii) the risk that a regulatory approval that may be required for the proposed acquisition is not obtained or is obtained subject to conditions that are not anticipated; (iii) the risk that a condition to the completion of the Merger may not be satisfied; (iv) the timing to consummate the proposed Merger; (v) the risk that the businesses will not be integrated successfully; (vi) the risk that the cost savings and any other synergies from the transaction may not be fully realized or may take longer to realize than expected; (vii) disruption from the transaction making it more difficult to maintain relationships with customers, employees or vendors; and (viii) the diversion of management time on acquisition-related issues.\\nAdditional information concerning AVX Corporation and its business, including additional factors that could materially affect its financial results, is included in AVX Corporation’s Annual Report on Form 10-K for the year ended March 31, 2017, under “Business” and Item 1A. “Risk Factors,” and in its other filings with the Securities and Exchange Commission. Except as required by law, each of AVX Corporation and Ethertronics disclaims any obligation to update any factors or to announce publicly the result of revisions to any of the forward-looking statements included herein to reflect future events or developments.\\nView source version on businesswire.com : http://www.businesswire.com/news/home/20180103005612/en/\\nAVX Corporation\\nKurt Cummings, 864-967-9303\\ninvestor.relations@avx.com\\nSource: AVX Corporation',\n",
       " 'published': '2018-01-03T17:00:00.000+02:00'}"
      ]
     },
     "execution_count": 23,
     "metadata": {},
     "output_type": "execute_result"
    }
   ],
   "source": [
    "first_lvl = ['text', 'published', 'entities', 'title', 'url', 'author']\n",
    "thread = ['title_full', 'country', 'section_title', 'site']\n",
    "\n",
    "parse_json(one_sample)"
   ]
  },
  {
   "cell_type": "code",
   "execution_count": 24,
   "id": "4b2fe8c4-bbd0-4103-a0dc-6bb91fdb9c92",
   "metadata": {
    "tags": []
   },
   "outputs": [
    {
     "name": "stdout",
     "output_type": "stream",
     "text": [
      "CPU times: user 4.61 s, sys: 990 ms, total: 5.6 s\n",
      "Wall time: 10.4 s\n"
     ]
    }
   ],
   "source": [
    "%%time\n",
    "data = []\n",
    "for filename in os.listdir(os.path.join(directory_path, subdir)):\n",
    "    if filename.endswith(\".json\"):\n",
    "        with open(os.path.join(directory_path, subdir, filename), \"r\") as json_file:\n",
    "            json_data = parse_json(json.load(json_file))\n",
    "            data.append(json_data)\n",
    "\n",
    "us_financial_news = pd.DataFrame(data)"
   ]
  },
  {
   "cell_type": "code",
   "execution_count": 25,
   "id": "da8f63ce-0f22-4881-89d4-f495e0e9370e",
   "metadata": {
    "tags": []
   },
   "outputs": [
    {
     "data": {
      "text/plain": [
       "(57802, 12)"
      ]
     },
     "execution_count": 25,
     "metadata": {},
     "output_type": "execute_result"
    }
   ],
   "source": [
    "us_financial_news.shape"
   ]
  },
  {
   "cell_type": "code",
   "execution_count": 26,
   "id": "40e2d5f1-ea7f-4e6c-a5a9-886715985d54",
   "metadata": {
    "tags": []
   },
   "outputs": [
    {
     "data": {
      "text/html": [
       "<div>\n",
       "<style scoped>\n",
       "    .dataframe tbody tr th:only-of-type {\n",
       "        vertical-align: middle;\n",
       "    }\n",
       "\n",
       "    .dataframe tbody tr th {\n",
       "        vertical-align: top;\n",
       "    }\n",
       "\n",
       "    .dataframe thead th {\n",
       "        text-align: right;\n",
       "    }\n",
       "</style>\n",
       "<table border=\"1\" class=\"dataframe\">\n",
       "  <thead>\n",
       "    <tr style=\"text-align: right;\">\n",
       "      <th></th>\n",
       "      <th>section_title</th>\n",
       "      <th>country</th>\n",
       "      <th>site</th>\n",
       "      <th>title_full</th>\n",
       "      <th>author</th>\n",
       "      <th>url</th>\n",
       "      <th>title</th>\n",
       "      <th>persons</th>\n",
       "      <th>locations</th>\n",
       "      <th>organizations</th>\n",
       "      <th>text</th>\n",
       "      <th>published</th>\n",
       "    </tr>\n",
       "  </thead>\n",
       "  <tbody>\n",
       "    <tr>\n",
       "      <th>0</th>\n",
       "      <td>Press Releases - CNBC</td>\n",
       "      <td>US</td>\n",
       "      <td>cnbc.com</td>\n",
       "      <td></td>\n",
       "      <td>cnbc.com</td>\n",
       "      <td>http://www.cnbc.com/2018/01/03/business-wire-a...</td>\n",
       "      <td>AVX Corporation Announces a Definitive Agreeme...</td>\n",
       "      <td>[{'name': 'john sarvis', 'sentiment': 'none'}]</td>\n",
       "      <td>[{'name': 's.c.', 'sentiment': 'none'}]</td>\n",
       "      <td>[{'name': 'avx', 'sentiment': 'negative'}, {'n...</td>\n",
       "      <td>FOUNTAIN INN, S.C.--(BUSINESS WIRE)-- AVX Corp...</td>\n",
       "      <td>2018-01-03T17:00:00.000+02:00</td>\n",
       "    </tr>\n",
       "    <tr>\n",
       "      <th>1</th>\n",
       "      <td>Archive News &amp;amp; Video for Friday, 12 Jan 20...</td>\n",
       "      <td>US</td>\n",
       "      <td>reuters.com</td>\n",
       "      <td></td>\n",
       "      <td>Reuters Editorial</td>\n",
       "      <td>https://www.reuters.com/article/brief-wemade-e...</td>\n",
       "      <td>BRIEF-Wemade Entertainment to dispose treasury...</td>\n",
       "      <td>[]</td>\n",
       "      <td>[]</td>\n",
       "      <td>[{'name': 'reuters', 'sentiment': 'negative'},...</td>\n",
       "      <td>Jan 12 (Reuters) - Wemade Entertainment Co Ltd...</td>\n",
       "      <td>2018-01-12T17:09:00.000+02:00</td>\n",
       "    </tr>\n",
       "    <tr>\n",
       "      <th>2</th>\n",
       "      <td>California</td>\n",
       "      <td>US</td>\n",
       "      <td>cnbc.com</td>\n",
       "      <td></td>\n",
       "      <td>cnbc.com</td>\n",
       "      <td>https://www.cnbc.com/2018/01/09/reuters-americ...</td>\n",
       "      <td>Sprouts signs on with Instacart as U.S. grocer...</td>\n",
       "      <td>[{'name': 'instacart', 'sentiment': 'negative'}]</td>\n",
       "      <td>[{'name': 'u.s.', 'sentiment': 'none'}, {'name...</td>\n",
       "      <td>[{'name': 'reuters', 'sentiment': 'negative'},...</td>\n",
       "      <td>LOS ANGELES, Jan 9 (Reuters) - U.S. healthy fo...</td>\n",
       "      <td>2018-01-09T20:25:00.000+02:00</td>\n",
       "    </tr>\n",
       "    <tr>\n",
       "      <th>3</th>\n",
       "      <td>Reuters: Sports News</td>\n",
       "      <td>US</td>\n",
       "      <td>reuters.com</td>\n",
       "      <td></td>\n",
       "      <td></td>\n",
       "      <td>https://uk.reuters.com/article/uk-motor-f1-wil...</td>\n",
       "      <td>Sirotkin to partner Stroll at Williams F1 team</td>\n",
       "      <td>[{'name': 'stroll', 'sentiment': 'negative'}, ...</td>\n",
       "      <td>[{'name': 'barcelona-catalunya', 'sentiment': ...</td>\n",
       "      <td>[{'name': 'williams f1', 'sentiment': 'negativ...</td>\n",
       "      <td>January 16, 2018 / 11:46 AM / Updated 7 hours ...</td>\n",
       "      <td>2018-01-16T13:46:00.000+02:00</td>\n",
       "    </tr>\n",
       "    <tr>\n",
       "      <th>4</th>\n",
       "      <td>Barack Obama</td>\n",
       "      <td>US</td>\n",
       "      <td>cnbc.com</td>\n",
       "      <td></td>\n",
       "      <td>cnbc.com</td>\n",
       "      <td>https://www.cnbc.com/2018/01/21/the-associated...</td>\n",
       "      <td>The Latest: Ryan: Democrats should vote for sh...</td>\n",
       "      <td>[{'name': 'ryan', 'sentiment': 'negative'}, {'...</td>\n",
       "      <td>[{'name': 'washington', 'sentiment': 'none'}, ...</td>\n",
       "      <td>[{'name': 'ap', 'sentiment': 'negative'}, {'na...</td>\n",
       "      <td>WASHINGTON (AP) — The Latest on the government...</td>\n",
       "      <td>2018-01-21T16:22:00.000+02:00</td>\n",
       "    </tr>\n",
       "  </tbody>\n",
       "</table>\n",
       "</div>"
      ],
      "text/plain": [
       "                                       section_title country         site   \n",
       "0                              Press Releases - CNBC      US     cnbc.com  \\\n",
       "1  Archive News &amp; Video for Friday, 12 Jan 20...      US  reuters.com   \n",
       "2                                         California      US     cnbc.com   \n",
       "3                               Reuters: Sports News      US  reuters.com   \n",
       "4                                       Barack Obama      US     cnbc.com   \n",
       "\n",
       "  title_full             author   \n",
       "0                      cnbc.com  \\\n",
       "1             Reuters Editorial   \n",
       "2                      cnbc.com   \n",
       "3                                 \n",
       "4                      cnbc.com   \n",
       "\n",
       "                                                 url   \n",
       "0  http://www.cnbc.com/2018/01/03/business-wire-a...  \\\n",
       "1  https://www.reuters.com/article/brief-wemade-e...   \n",
       "2  https://www.cnbc.com/2018/01/09/reuters-americ...   \n",
       "3  https://uk.reuters.com/article/uk-motor-f1-wil...   \n",
       "4  https://www.cnbc.com/2018/01/21/the-associated...   \n",
       "\n",
       "                                               title   \n",
       "0  AVX Corporation Announces a Definitive Agreeme...  \\\n",
       "1  BRIEF-Wemade Entertainment to dispose treasury...   \n",
       "2  Sprouts signs on with Instacart as U.S. grocer...   \n",
       "3     Sirotkin to partner Stroll at Williams F1 team   \n",
       "4  The Latest: Ryan: Democrats should vote for sh...   \n",
       "\n",
       "                                             persons   \n",
       "0     [{'name': 'john sarvis', 'sentiment': 'none'}]  \\\n",
       "1                                                 []   \n",
       "2   [{'name': 'instacart', 'sentiment': 'negative'}]   \n",
       "3  [{'name': 'stroll', 'sentiment': 'negative'}, ...   \n",
       "4  [{'name': 'ryan', 'sentiment': 'negative'}, {'...   \n",
       "\n",
       "                                           locations   \n",
       "0            [{'name': 's.c.', 'sentiment': 'none'}]  \\\n",
       "1                                                 []   \n",
       "2  [{'name': 'u.s.', 'sentiment': 'none'}, {'name...   \n",
       "3  [{'name': 'barcelona-catalunya', 'sentiment': ...   \n",
       "4  [{'name': 'washington', 'sentiment': 'none'}, ...   \n",
       "\n",
       "                                       organizations   \n",
       "0  [{'name': 'avx', 'sentiment': 'negative'}, {'n...  \\\n",
       "1  [{'name': 'reuters', 'sentiment': 'negative'},...   \n",
       "2  [{'name': 'reuters', 'sentiment': 'negative'},...   \n",
       "3  [{'name': 'williams f1', 'sentiment': 'negativ...   \n",
       "4  [{'name': 'ap', 'sentiment': 'negative'}, {'na...   \n",
       "\n",
       "                                                text   \n",
       "0  FOUNTAIN INN, S.C.--(BUSINESS WIRE)-- AVX Corp...  \\\n",
       "1  Jan 12 (Reuters) - Wemade Entertainment Co Ltd...   \n",
       "2  LOS ANGELES, Jan 9 (Reuters) - U.S. healthy fo...   \n",
       "3  January 16, 2018 / 11:46 AM / Updated 7 hours ...   \n",
       "4  WASHINGTON (AP) — The Latest on the government...   \n",
       "\n",
       "                       published  \n",
       "0  2018-01-03T17:00:00.000+02:00  \n",
       "1  2018-01-12T17:09:00.000+02:00  \n",
       "2  2018-01-09T20:25:00.000+02:00  \n",
       "3  2018-01-16T13:46:00.000+02:00  \n",
       "4  2018-01-21T16:22:00.000+02:00  "
      ]
     },
     "execution_count": 26,
     "metadata": {},
     "output_type": "execute_result"
    }
   ],
   "source": [
    "us_financial_news.head()"
   ]
  },
  {
   "cell_type": "code",
   "execution_count": 27,
   "id": "284a131b-2216-4962-b728-24ddf05cdd05",
   "metadata": {
    "tags": []
   },
   "outputs": [
    {
     "name": "stdout",
     "output_type": "stream",
     "text": [
      "<class 'pandas.core.frame.DataFrame'>\n",
      "RangeIndex: 57802 entries, 0 to 57801\n",
      "Data columns (total 12 columns):\n",
      " #   Column         Non-Null Count  Dtype \n",
      "---  ------         --------------  ----- \n",
      " 0   section_title  57802 non-null  object\n",
      " 1   country        57802 non-null  object\n",
      " 2   site           57802 non-null  object\n",
      " 3   title_full     57802 non-null  object\n",
      " 4   author         57802 non-null  object\n",
      " 5   url            57802 non-null  object\n",
      " 6   title          57802 non-null  object\n",
      " 7   persons        57802 non-null  object\n",
      " 8   locations      57802 non-null  object\n",
      " 9   organizations  57802 non-null  object\n",
      " 10  text           57802 non-null  object\n",
      " 11  published      57802 non-null  object\n",
      "dtypes: object(12)\n",
      "memory usage: 5.3+ MB\n"
     ]
    }
   ],
   "source": [
    "us_financial_news.info()"
   ]
  },
  {
   "cell_type": "code",
   "execution_count": 28,
   "id": "58a5e317-29d4-49e1-b6cb-fbbeea9c4a02",
   "metadata": {
    "tags": []
   },
   "outputs": [
    {
     "data": {
      "text/plain": [
       "country\n",
       "US    57802\n",
       "Name: count, dtype: int64"
      ]
     },
     "execution_count": 28,
     "metadata": {},
     "output_type": "execute_result"
    }
   ],
   "source": [
    "us_financial_news['country'].value_counts()"
   ]
  },
  {
   "cell_type": "code",
   "execution_count": 29,
   "id": "ad969a66-659a-43cf-9b4d-3fcb14042c18",
   "metadata": {
    "tags": []
   },
   "outputs": [
    {
     "data": {
      "text/plain": [
       "site\n",
       "reuters.com    37262\n",
       "cnbc.com       16019\n",
       "wsj.com         3412\n",
       "fortune.com     1109\n",
       "Name: count, dtype: int64"
      ]
     },
     "execution_count": 29,
     "metadata": {},
     "output_type": "execute_result"
    }
   ],
   "source": [
    "us_financial_news['site'].value_counts()"
   ]
  },
  {
   "cell_type": "markdown",
   "id": "00c928f4-a904-4ffa-a50b-cf474ff85cd6",
   "metadata": {
    "tags": []
   },
   "source": [
    "## folder_2"
   ]
  },
  {
   "cell_type": "code",
   "execution_count": 30,
   "id": "82e19d7a-6cca-4683-a938-98811cd024f3",
   "metadata": {
    "tags": []
   },
   "outputs": [
    {
     "data": {
      "text/plain": [
       "'2018_02_112b52537b67659ad3609a234388c50a'"
      ]
     },
     "execution_count": 30,
     "metadata": {},
     "output_type": "execute_result"
    }
   ],
   "source": [
    "subdir = subdirs[1]\n",
    "subdir"
   ]
  },
  {
   "cell_type": "code",
   "execution_count": 31,
   "id": "ff41d472-bdf1-409e-b026-331947f6e7f7",
   "metadata": {
    "tags": []
   },
   "outputs": [
    {
     "data": {
      "text/plain": [
       "'news_0000258.json'"
      ]
     },
     "execution_count": 31,
     "metadata": {},
     "output_type": "execute_result"
    }
   ],
   "source": [
    "sample = os.listdir(os.path.join(directory_path, subdir))[0]\n",
    "sample"
   ]
  },
  {
   "cell_type": "code",
   "execution_count": 32,
   "id": "0e10d81d-cfdd-4a02-b07a-4b812fdee2a6",
   "metadata": {
    "tags": []
   },
   "outputs": [
    {
     "data": {
      "text/plain": [
       "{'organizations': [],\n",
       " 'uuid': '1edfbf8431b578433ff52b36f899ae153a0939e3',\n",
       " 'thread': {'social': {'gplus': {'shares': 0},\n",
       "   'pinterest': {'shares': 0},\n",
       "   'vk': {'shares': 0},\n",
       "   'linkedin': {'shares': 0},\n",
       "   'facebook': {'likes': 0, 'shares': 0, 'comments': 0},\n",
       "   'stumbledupon': {'shares': 0}},\n",
       "  'site_full': 'www.reuters.com',\n",
       "  'main_image': 'https://s4.reutersmedia.net/resources_v2/images/rcom-default.png',\n",
       "  'site_section': 'http://www.reuters.com/resources/archive/us/20180201.html',\n",
       "  'section_title': 'Archive News &amp; Video for Thursday, 01 Feb 2018 | Reuters.com',\n",
       "  'url': 'https://www.reuters.com/article/brief-alaska-air-group-names-david-oppen/brief-alaska-air-group-names-david-oppenheim-as-vice-president-of-sales-idUSFWN1PR108',\n",
       "  'country': 'US',\n",
       "  'domain_rank': 408,\n",
       "  'title': 'BRIEF-Alaska Air Group Names David Oppenheim As Vice President Of Sales',\n",
       "  'performance_score': 0,\n",
       "  'site': 'reuters.com',\n",
       "  'participants_count': 1,\n",
       "  'title_full': '',\n",
       "  'spam_score': 0.789,\n",
       "  'site_type': 'news',\n",
       "  'published': '2018-02-01T21:30:00.000+02:00',\n",
       "  'replies_count': 0,\n",
       "  'uuid': '1edfbf8431b578433ff52b36f899ae153a0939e3'},\n",
       " 'author': 'Reuters Editorial',\n",
       " 'url': 'https://www.reuters.com/article/brief-alaska-air-group-names-david-oppen/brief-alaska-air-group-names-david-oppenheim-as-vice-president-of-sales-idUSFWN1PR108',\n",
       " 'ord_in_thread': 0,\n",
       " 'title': 'BRIEF-Alaska Air Group Names David Oppenheim As Vice President Of Sales',\n",
       " 'locations': [],\n",
       " 'entities': {'persons': [{'name': 'david oppenheim',\n",
       "    'sentiment': 'negative'}],\n",
       "  'locations': [],\n",
       "  'organizations': [{'name': 'brief-alaska air group',\n",
       "    'sentiment': 'negative'},\n",
       "   {'name': 'reuters) - alaska air group inc', 'sentiment': 'neutral'},\n",
       "   {'name': 'eikon', 'sentiment': 'none'}]},\n",
       " 'highlightText': '',\n",
       " 'language': 'english',\n",
       " 'persons': [],\n",
       " 'text': 'Feb 1 (Reuters) - Alaska Air Group Inc:\\n* ALASKA AIR GROUP - HAS NAMED DAVID OPPENHEIM AS VICE PRESIDENT OF SALES Source text for Eikon: Further company coverage:\\n ',\n",
       " 'external_links': ['http://thomsonreuters.com/en/about-us/trust-principles.html'],\n",
       " 'published': '2018-02-01T21:30:00.000+02:00',\n",
       " 'crawled': '2018-02-02T13:11:05.028+02:00',\n",
       " 'highlightTitle': ''}"
      ]
     },
     "execution_count": 32,
     "metadata": {},
     "output_type": "execute_result"
    }
   ],
   "source": [
    "one_sample = json.load(\n",
    "    open(os.path.join(directory_path, subdir, sample)))\n",
    "one_sample"
   ]
  },
  {
   "cell_type": "code",
   "execution_count": 33,
   "id": "1552b6e6-e9a5-4e47-9404-7cd3aef400ad",
   "metadata": {
    "tags": []
   },
   "outputs": [
    {
     "data": {
      "text/plain": [
       "{'section_title': 'Archive News &amp; Video for Thursday, 01 Feb 2018 | Reuters.com',\n",
       " 'country': 'US',\n",
       " 'site': 'reuters.com',\n",
       " 'title_full': '',\n",
       " 'author': 'Reuters Editorial',\n",
       " 'url': 'https://www.reuters.com/article/brief-alaska-air-group-names-david-oppen/brief-alaska-air-group-names-david-oppenheim-as-vice-president-of-sales-idUSFWN1PR108',\n",
       " 'title': 'BRIEF-Alaska Air Group Names David Oppenheim As Vice President Of Sales',\n",
       " 'persons': [{'name': 'david oppenheim', 'sentiment': 'negative'}],\n",
       " 'locations': [],\n",
       " 'organizations': [{'name': 'brief-alaska air group', 'sentiment': 'negative'},\n",
       "  {'name': 'reuters) - alaska air group inc', 'sentiment': 'neutral'},\n",
       "  {'name': 'eikon', 'sentiment': 'none'}],\n",
       " 'text': 'Feb 1 (Reuters) - Alaska Air Group Inc:\\n* ALASKA AIR GROUP - HAS NAMED DAVID OPPENHEIM AS VICE PRESIDENT OF SALES Source text for Eikon: Further company coverage:\\n ',\n",
       " 'published': '2018-02-01T21:30:00.000+02:00'}"
      ]
     },
     "execution_count": 33,
     "metadata": {},
     "output_type": "execute_result"
    }
   ],
   "source": [
    "first_lvl = ['text', 'published', 'entities', 'title', 'url', 'author']\n",
    "thread = ['title_full', 'country', 'section_title', 'site']\n",
    "\n",
    "parse_json(one_sample)"
   ]
  },
  {
   "cell_type": "code",
   "execution_count": 34,
   "id": "a7ed63d1-2e42-48c3-a68c-4df2d97f6512",
   "metadata": {
    "tags": []
   },
   "outputs": [
    {
     "name": "stdout",
     "output_type": "stream",
     "text": [
      "CPU times: user 5.18 s, sys: 1.07 s, total: 6.25 s\n",
      "Wall time: 13.5 s\n"
     ]
    }
   ],
   "source": [
    "%%time\n",
    "data = []\n",
    "for filename in os.listdir(os.path.join(directory_path, subdir)):\n",
    "    if filename.endswith(\".json\"):\n",
    "        with open(os.path.join(directory_path, subdir, filename), \"r\") as json_file:\n",
    "            json_data = parse_json(json.load(json_file))\n",
    "            data.append(json_data)\n",
    "\n",
    "us_financial_news = pd.DataFrame(data)"
   ]
  },
  {
   "cell_type": "code",
   "execution_count": 22,
   "id": "cb226646-2f15-4f02-a718-7d0c4bcef40e",
   "metadata": {},
   "outputs": [
    {
     "data": {
      "text/plain": [
       "(64592, 12)"
      ]
     },
     "execution_count": 22,
     "metadata": {},
     "output_type": "execute_result"
    }
   ],
   "source": [
    "us_financial_news.shape"
   ]
  },
  {
   "cell_type": "code",
   "execution_count": 23,
   "id": "683aaadb-4e3d-499e-a70a-ae76830733ac",
   "metadata": {},
   "outputs": [
    {
     "data": {
      "text/html": [
       "<div>\n",
       "<style scoped>\n",
       "    .dataframe tbody tr th:only-of-type {\n",
       "        vertical-align: middle;\n",
       "    }\n",
       "\n",
       "    .dataframe tbody tr th {\n",
       "        vertical-align: top;\n",
       "    }\n",
       "\n",
       "    .dataframe thead th {\n",
       "        text-align: right;\n",
       "    }\n",
       "</style>\n",
       "<table border=\"1\" class=\"dataframe\">\n",
       "  <thead>\n",
       "    <tr style=\"text-align: right;\">\n",
       "      <th></th>\n",
       "      <th>section_title</th>\n",
       "      <th>country</th>\n",
       "      <th>site</th>\n",
       "      <th>title_full</th>\n",
       "      <th>author</th>\n",
       "      <th>url</th>\n",
       "      <th>title</th>\n",
       "      <th>persons</th>\n",
       "      <th>locations</th>\n",
       "      <th>organizations</th>\n",
       "      <th>text</th>\n",
       "      <th>published</th>\n",
       "    </tr>\n",
       "  </thead>\n",
       "  <tbody>\n",
       "    <tr>\n",
       "      <th>0</th>\n",
       "      <td></td>\n",
       "      <td>US</td>\n",
       "      <td>cnbc.com</td>\n",
       "      <td></td>\n",
       "      <td>Jeff Cox</td>\n",
       "      <td>https://www.cnbc.com/2018/02/21/fed-quarles-pu...</td>\n",
       "      <td>Fed Quarles pushes for rate hikes, review of c...</td>\n",
       "      <td>[{'name': 'fed quarles', 'sentiment': 'negativ...</td>\n",
       "      <td>[]</td>\n",
       "      <td>[{'name': 'jb reed | bloomberg | getty images ...</td>\n",
       "      <td>Fed Governor Randal Quarles said Thursday that...</td>\n",
       "      <td>2018-02-22T07:16:00.000+02:00</td>\n",
       "    </tr>\n",
       "    <tr>\n",
       "      <th>1</th>\n",
       "      <td>Reuters: Top News</td>\n",
       "      <td>US</td>\n",
       "      <td>reuters.com</td>\n",
       "      <td></td>\n",
       "      <td></td>\n",
       "      <td>https://uk.reuters.com/article/uk-italy-macera...</td>\n",
       "      <td>Italy's League under pressure over racist shoo...</td>\n",
       "      <td>[{'name': 'matteo salvini', 'sentiment': 'none...</td>\n",
       "      <td>[{'name': 'italy', 'sentiment': 'none'}, {'nam...</td>\n",
       "      <td>[{'name': 'league', 'sentiment': 'negative'}, ...</td>\n",
       "      <td>February 4, 2018 / 1:49 PM / Updated 18 minute...</td>\n",
       "      <td>2018-02-04T15:49:00.000+02:00</td>\n",
       "    </tr>\n",
       "    <tr>\n",
       "      <th>2</th>\n",
       "      <td>Archive News &amp;amp; Video for Tuesday, 20 Feb 2...</td>\n",
       "      <td>US</td>\n",
       "      <td>reuters.com</td>\n",
       "      <td></td>\n",
       "      <td>Reuters Editorial</td>\n",
       "      <td>https://www.reuters.com/article/brief-hiq-inte...</td>\n",
       "      <td>BRIEF-HiQ International ‍Board Proposes Share ...</td>\n",
       "      <td>[]</td>\n",
       "      <td>[]</td>\n",
       "      <td>[{'name': 'reuters', 'sentiment': 'negative'},...</td>\n",
       "      <td>Feb 20 (Reuters) - HIQ INTERNATIONAL AB:\\n* ‍B...</td>\n",
       "      <td>2018-02-20T15:34:00.000+02:00</td>\n",
       "    </tr>\n",
       "    <tr>\n",
       "      <th>3</th>\n",
       "      <td>Archive News &amp;amp; Video for Friday, 16 Feb 20...</td>\n",
       "      <td>US</td>\n",
       "      <td>reuters.com</td>\n",
       "      <td></td>\n",
       "      <td>Reuters Editorial</td>\n",
       "      <td>https://www.reuters.com/article/us-music-drake...</td>\n",
       "      <td>Drake gives away almost $1 million in 'God's P...</td>\n",
       "      <td>[{'name': 'drake', 'sentiment': 'negative'}, {...</td>\n",
       "      <td>[{'name': 'florida', 'sentiment': 'none'}, {'n...</td>\n",
       "      <td>[{'name': 'reuters', 'sentiment': 'negative'},...</td>\n",
       "      <td>LOS ANGELES (Reuters) - The song is called “Go...</td>\n",
       "      <td>2018-02-17T06:36:00.000+02:00</td>\n",
       "    </tr>\n",
       "    <tr>\n",
       "      <th>4</th>\n",
       "      <td></td>\n",
       "      <td>US</td>\n",
       "      <td>cnbc.com</td>\n",
       "      <td></td>\n",
       "      <td>Cheang Ming</td>\n",
       "      <td>https://www.cnbc.com/2018/02/11/stock-market-p...</td>\n",
       "      <td>Stock market pre-markets data: Dow futures aft...</td>\n",
       "      <td>[{'name': 'jonathan krinsky', 'sentiment': 'no...</td>\n",
       "      <td>[{'name': 'new york', 'sentiment': 'none'}, {'...</td>\n",
       "      <td>[{'name': 'new york stock exchange', 'sentimen...</td>\n",
       "      <td>U.S. stock index futures pointed to a solid op...</td>\n",
       "      <td>2018-02-12T03:49:00.000+02:00</td>\n",
       "    </tr>\n",
       "  </tbody>\n",
       "</table>\n",
       "</div>"
      ],
      "text/plain": [
       "                                       section_title country         site  \\\n",
       "0                                                         US     cnbc.com   \n",
       "1                                  Reuters: Top News      US  reuters.com   \n",
       "2  Archive News &amp; Video for Tuesday, 20 Feb 2...      US  reuters.com   \n",
       "3  Archive News &amp; Video for Friday, 16 Feb 20...      US  reuters.com   \n",
       "4                                                         US     cnbc.com   \n",
       "\n",
       "  title_full             author  \\\n",
       "0                      Jeff Cox   \n",
       "1                                 \n",
       "2             Reuters Editorial   \n",
       "3             Reuters Editorial   \n",
       "4                   Cheang Ming   \n",
       "\n",
       "                                                 url  \\\n",
       "0  https://www.cnbc.com/2018/02/21/fed-quarles-pu...   \n",
       "1  https://uk.reuters.com/article/uk-italy-macera...   \n",
       "2  https://www.reuters.com/article/brief-hiq-inte...   \n",
       "3  https://www.reuters.com/article/us-music-drake...   \n",
       "4  https://www.cnbc.com/2018/02/11/stock-market-p...   \n",
       "\n",
       "                                               title  \\\n",
       "0  Fed Quarles pushes for rate hikes, review of c...   \n",
       "1  Italy's League under pressure over racist shoo...   \n",
       "2  BRIEF-HiQ International ‍Board Proposes Share ...   \n",
       "3  Drake gives away almost $1 million in 'God's P...   \n",
       "4  Stock market pre-markets data: Dow futures aft...   \n",
       "\n",
       "                                             persons  \\\n",
       "0  [{'name': 'fed quarles', 'sentiment': 'negativ...   \n",
       "1  [{'name': 'matteo salvini', 'sentiment': 'none...   \n",
       "2                                                 []   \n",
       "3  [{'name': 'drake', 'sentiment': 'negative'}, {...   \n",
       "4  [{'name': 'jonathan krinsky', 'sentiment': 'no...   \n",
       "\n",
       "                                           locations  \\\n",
       "0                                                 []   \n",
       "1  [{'name': 'italy', 'sentiment': 'none'}, {'nam...   \n",
       "2                                                 []   \n",
       "3  [{'name': 'florida', 'sentiment': 'none'}, {'n...   \n",
       "4  [{'name': 'new york', 'sentiment': 'none'}, {'...   \n",
       "\n",
       "                                       organizations  \\\n",
       "0  [{'name': 'jb reed | bloomberg | getty images ...   \n",
       "1  [{'name': 'league', 'sentiment': 'negative'}, ...   \n",
       "2  [{'name': 'reuters', 'sentiment': 'negative'},...   \n",
       "3  [{'name': 'reuters', 'sentiment': 'negative'},...   \n",
       "4  [{'name': 'new york stock exchange', 'sentimen...   \n",
       "\n",
       "                                                text  \\\n",
       "0  Fed Governor Randal Quarles said Thursday that...   \n",
       "1  February 4, 2018 / 1:49 PM / Updated 18 minute...   \n",
       "2  Feb 20 (Reuters) - HIQ INTERNATIONAL AB:\\n* ‍B...   \n",
       "3  LOS ANGELES (Reuters) - The song is called “Go...   \n",
       "4  U.S. stock index futures pointed to a solid op...   \n",
       "\n",
       "                       published  \n",
       "0  2018-02-22T07:16:00.000+02:00  \n",
       "1  2018-02-04T15:49:00.000+02:00  \n",
       "2  2018-02-20T15:34:00.000+02:00  \n",
       "3  2018-02-17T06:36:00.000+02:00  \n",
       "4  2018-02-12T03:49:00.000+02:00  "
      ]
     },
     "execution_count": 23,
     "metadata": {},
     "output_type": "execute_result"
    }
   ],
   "source": [
    "us_financial_news.head()"
   ]
  },
  {
   "cell_type": "code",
   "execution_count": 24,
   "id": "568a688c-56cc-4611-984b-d8e90fc03c96",
   "metadata": {},
   "outputs": [
    {
     "name": "stdout",
     "output_type": "stream",
     "text": [
      "<class 'pandas.core.frame.DataFrame'>\n",
      "RangeIndex: 64592 entries, 0 to 64591\n",
      "Data columns (total 12 columns):\n",
      " #   Column         Non-Null Count  Dtype \n",
      "---  ------         --------------  ----- \n",
      " 0   section_title  64592 non-null  object\n",
      " 1   country        64592 non-null  object\n",
      " 2   site           64592 non-null  object\n",
      " 3   title_full     64592 non-null  object\n",
      " 4   author         64592 non-null  object\n",
      " 5   url            64592 non-null  object\n",
      " 6   title          64592 non-null  object\n",
      " 7   persons        64592 non-null  object\n",
      " 8   locations      64592 non-null  object\n",
      " 9   organizations  64592 non-null  object\n",
      " 10  text           64592 non-null  object\n",
      " 11  published      64592 non-null  object\n",
      "dtypes: object(12)\n",
      "memory usage: 5.9+ MB\n"
     ]
    }
   ],
   "source": [
    "us_financial_news.info()"
   ]
  },
  {
   "cell_type": "code",
   "execution_count": 25,
   "id": "dbe2beab-988a-4f4b-b2d8-2f81e906b4c3",
   "metadata": {},
   "outputs": [
    {
     "data": {
      "text/plain": [
       "US    64592\n",
       "Name: country, dtype: int64"
      ]
     },
     "execution_count": 25,
     "metadata": {},
     "output_type": "execute_result"
    }
   ],
   "source": [
    "us_financial_news['country'].value_counts()"
   ]
  },
  {
   "cell_type": "code",
   "execution_count": 26,
   "id": "88a904f9-7592-4479-9c1f-77b98ed8aa7f",
   "metadata": {},
   "outputs": [
    {
     "data": {
      "text/plain": [
       "reuters.com    44438\n",
       "cnbc.com       15976\n",
       "wsj.com         3185\n",
       "fortune.com      993\n",
       "Name: site, dtype: int64"
      ]
     },
     "execution_count": 26,
     "metadata": {},
     "output_type": "execute_result"
    }
   ],
   "source": [
    "us_financial_news['site'].value_counts()"
   ]
  },
  {
   "cell_type": "markdown",
   "id": "0aef2c1d-7860-4588-90b8-cd3647129afb",
   "metadata": {
    "tags": []
   },
   "source": [
    "## folder_3"
   ]
  },
  {
   "cell_type": "code",
   "execution_count": 27,
   "id": "d5796584-a8fe-4586-bc1a-3ed1e160b467",
   "metadata": {},
   "outputs": [
    {
     "data": {
      "text/plain": [
       "'2018_03_112b52537b67659ad3609a234388c50a'"
      ]
     },
     "execution_count": 27,
     "metadata": {},
     "output_type": "execute_result"
    }
   ],
   "source": [
    "subdir = subdirs[2]\n",
    "subdir"
   ]
  },
  {
   "cell_type": "code",
   "execution_count": 28,
   "id": "88ddfe3f-6397-4a40-91de-ee067debb9c5",
   "metadata": {},
   "outputs": [
    {
     "data": {
      "text/plain": [
       "'news_0047188.json'"
      ]
     },
     "execution_count": 28,
     "metadata": {},
     "output_type": "execute_result"
    }
   ],
   "source": [
    "sample = os.listdir(os.path.join(directory_path, subdir))[0]\n",
    "sample"
   ]
  },
  {
   "cell_type": "code",
   "execution_count": 29,
   "id": "38db59f2-84f6-47a1-a75f-d1f54f8f2cc0",
   "metadata": {},
   "outputs": [
    {
     "data": {
      "text/plain": [
       "{'organizations': [],\n",
       " 'uuid': '4e41266ca1707a052245161948413f057982c0b2',\n",
       " 'thread': {'social': {'gplus': {'shares': 0},\n",
       "   'pinterest': {'shares': 0},\n",
       "   'vk': {'shares': 0},\n",
       "   'linkedin': {'shares': 0},\n",
       "   'facebook': {'likes': 0, 'shares': 0, 'comments': 0},\n",
       "   'stumbledupon': {'shares': 0}},\n",
       "  'site_full': 'www.reuters.com',\n",
       "  'main_image': 'https://s4.reutersmedia.net/resources_v2/images/rcom-default.png',\n",
       "  'site_section': 'http://www.reuters.com/resources/archive/us/20180327.html',\n",
       "  'section_title': 'Archive News &amp; Video for Tuesday, 27 Mar 2018 | Reuters.com',\n",
       "  'url': 'https://www.reuters.com/article/brief-au-optronics-to-pay-cash-dividend/brief-au-optronics-to-pay-cash-dividend-of-t1-2-share-for-2017-idUSL3N1R953C',\n",
       "  'country': 'US',\n",
       "  'domain_rank': 408,\n",
       "  'title': 'BRIEF-AU Optronics to pay cash dividend of T$1.2/share for 2017',\n",
       "  'performance_score': 0,\n",
       "  'site': 'reuters.com',\n",
       "  'participants_count': 1,\n",
       "  'title_full': '',\n",
       "  'spam_score': 0.005,\n",
       "  'site_type': 'news',\n",
       "  'published': '2018-03-27T22:14:00.000+03:00',\n",
       "  'replies_count': 0,\n",
       "  'uuid': '4e41266ca1707a052245161948413f057982c0b2'},\n",
       " 'author': 'Reuters Editorial',\n",
       " 'url': 'https://www.reuters.com/article/brief-au-optronics-to-pay-cash-dividend/brief-au-optronics-to-pay-cash-dividend-of-t1-2-share-for-2017-idUSL3N1R953C',\n",
       " 'ord_in_thread': 0,\n",
       " 'title': 'BRIEF-AU Optronics to pay cash dividend of T$1.2/share for 2017',\n",
       " 'locations': [],\n",
       " 'entities': {'persons': [],\n",
       "  'locations': [],\n",
       "  'organizations': [{'name': 'au optronics corp', 'sentiment': 'negative'},\n",
       "   {'name': 'reuters', 'sentiment': 'negative'},\n",
       "   {'name': 'brief-au optronics', 'sentiment': 'negative'},\n",
       "   {'name': 'beijing headline news', 'sentiment': 'none'}]},\n",
       " 'highlightText': '',\n",
       " 'language': 'english',\n",
       " 'persons': [],\n",
       " 'text': 'March 27(Reuters) - AU Optronics Corp :\\n* Says it plans to pay cash dividend of T$1.2/share for 2017\\nSource text in Chinese: goo.gl/uxuxci\\nFurther company coverage: (Beijing Headline News)\\n ',\n",
       " 'external_links': ['https://twitter.com/reuters',\n",
       "  'https://www.youtube.com/user/ReutersVideo',\n",
       "  'https://www.linkedin.com/company/10256858/',\n",
       "  'https://www.facebook.com/Reuters',\n",
       "  'https://www.thomsonreuters.com/en/privacy-statement.html',\n",
       "  'https://goo.gl/uxuxci',\n",
       "  'http://thomsonreuters.com/en/about-us/trust-principles.html',\n",
       "  'https://instagram.com/reuters/'],\n",
       " 'published': '2018-03-27T22:14:00.000+03:00',\n",
       " 'crawled': '2018-03-28T19:06:23.016+03:00',\n",
       " 'highlightTitle': ''}"
      ]
     },
     "execution_count": 29,
     "metadata": {},
     "output_type": "execute_result"
    }
   ],
   "source": [
    "one_sample = json.load(\n",
    "    open(os.path.join(directory_path, subdir, sample)))\n",
    "one_sample"
   ]
  },
  {
   "cell_type": "code",
   "execution_count": 30,
   "id": "d16d16ca-6f8e-496a-9572-f5fb711ac4bd",
   "metadata": {},
   "outputs": [
    {
     "data": {
      "text/plain": [
       "{'section_title': 'Archive News &amp; Video for Tuesday, 27 Mar 2018 | Reuters.com',\n",
       " 'country': 'US',\n",
       " 'site': 'reuters.com',\n",
       " 'title_full': '',\n",
       " 'author': 'Reuters Editorial',\n",
       " 'url': 'https://www.reuters.com/article/brief-au-optronics-to-pay-cash-dividend/brief-au-optronics-to-pay-cash-dividend-of-t1-2-share-for-2017-idUSL3N1R953C',\n",
       " 'title': 'BRIEF-AU Optronics to pay cash dividend of T$1.2/share for 2017',\n",
       " 'persons': [],\n",
       " 'locations': [],\n",
       " 'organizations': [{'name': 'au optronics corp', 'sentiment': 'negative'},\n",
       "  {'name': 'reuters', 'sentiment': 'negative'},\n",
       "  {'name': 'brief-au optronics', 'sentiment': 'negative'},\n",
       "  {'name': 'beijing headline news', 'sentiment': 'none'}],\n",
       " 'text': 'March 27(Reuters) - AU Optronics Corp :\\n* Says it plans to pay cash dividend of T$1.2/share for 2017\\nSource text in Chinese: goo.gl/uxuxci\\nFurther company coverage: (Beijing Headline News)\\n ',\n",
       " 'published': '2018-03-27T22:14:00.000+03:00'}"
      ]
     },
     "execution_count": 30,
     "metadata": {},
     "output_type": "execute_result"
    }
   ],
   "source": [
    "first_lvl = ['text', 'published', 'entities', 'title', 'url', 'author']\n",
    "thread = ['title_full', 'country', 'section_title', 'site']\n",
    "\n",
    "parse_json(one_sample)"
   ]
  },
  {
   "cell_type": "code",
   "execution_count": 31,
   "id": "d4d86d83-3638-46a7-96f2-7ea75dbfb9c4",
   "metadata": {},
   "outputs": [],
   "source": [
    "data = []\n",
    "for filename in os.listdir(os.path.join(directory_path, subdir)):\n",
    "    if filename.endswith(\".json\"):\n",
    "        with open(os.path.join(directory_path, subdir, filename), \"r\") as json_file:\n",
    "            json_data = parse_json(json.load(json_file))\n",
    "            data.append(json_data)\n",
    "\n",
    "us_financial_news = pd.DataFrame(data)"
   ]
  },
  {
   "cell_type": "code",
   "execution_count": 32,
   "id": "db9531e4-120e-429f-b2c8-7be9a91b3737",
   "metadata": {},
   "outputs": [
    {
     "data": {
      "text/plain": [
       "(57456, 12)"
      ]
     },
     "execution_count": 32,
     "metadata": {},
     "output_type": "execute_result"
    }
   ],
   "source": [
    "us_financial_news.shape"
   ]
  },
  {
   "cell_type": "code",
   "execution_count": 33,
   "id": "8a275d2d-7d85-4eb3-8776-979dac5a22b2",
   "metadata": {},
   "outputs": [
    {
     "data": {
      "text/html": [
       "<div>\n",
       "<style scoped>\n",
       "    .dataframe tbody tr th:only-of-type {\n",
       "        vertical-align: middle;\n",
       "    }\n",
       "\n",
       "    .dataframe tbody tr th {\n",
       "        vertical-align: top;\n",
       "    }\n",
       "\n",
       "    .dataframe thead th {\n",
       "        text-align: right;\n",
       "    }\n",
       "</style>\n",
       "<table border=\"1\" class=\"dataframe\">\n",
       "  <thead>\n",
       "    <tr style=\"text-align: right;\">\n",
       "      <th></th>\n",
       "      <th>section_title</th>\n",
       "      <th>country</th>\n",
       "      <th>site</th>\n",
       "      <th>title_full</th>\n",
       "      <th>author</th>\n",
       "      <th>url</th>\n",
       "      <th>title</th>\n",
       "      <th>persons</th>\n",
       "      <th>locations</th>\n",
       "      <th>organizations</th>\n",
       "      <th>text</th>\n",
       "      <th>published</th>\n",
       "    </tr>\n",
       "  </thead>\n",
       "  <tbody>\n",
       "    <tr>\n",
       "      <th>0</th>\n",
       "      <td>Archive News &amp;amp; Video for Tuesday, 27 Mar 2...</td>\n",
       "      <td>US</td>\n",
       "      <td>reuters.com</td>\n",
       "      <td></td>\n",
       "      <td>Reuters Editorial</td>\n",
       "      <td>https://www.reuters.com/article/brief-au-optro...</td>\n",
       "      <td>BRIEF-AU Optronics to pay cash dividend of T$1...</td>\n",
       "      <td>[]</td>\n",
       "      <td>[]</td>\n",
       "      <td>[{'name': 'au optronics corp', 'sentiment': 'n...</td>\n",
       "      <td>March 27(Reuters) - AU Optronics Corp :\\n* Say...</td>\n",
       "      <td>2018-03-27T22:14:00.000+03:00</td>\n",
       "    </tr>\n",
       "    <tr>\n",
       "      <th>1</th>\n",
       "      <td>Reuters: Top News</td>\n",
       "      <td>US</td>\n",
       "      <td>reuters.com</td>\n",
       "      <td></td>\n",
       "      <td></td>\n",
       "      <td>https://uk.reuters.com/article/uk-britain-econ...</td>\n",
       "      <td>British stats watchdog - stop using RPI inflat...</td>\n",
       "      <td>[{'name': 'david n', 'sentiment': 'none'}]</td>\n",
       "      <td>[{'name': 'oxford street', 'sentiment': 'none'...</td>\n",
       "      <td>[{'name': 'reuters staff', 'sentiment': 'none'...</td>\n",
       "      <td>March 8, 2018 / 1:35 PM / Updated an hour ago ...</td>\n",
       "      <td>2018-03-08T15:42:00.000+02:00</td>\n",
       "    </tr>\n",
       "    <tr>\n",
       "      <th>2</th>\n",
       "      <td>Reuters Video: Latest Videos IN</td>\n",
       "      <td>US</td>\n",
       "      <td>reuters.com</td>\n",
       "      <td></td>\n",
       "      <td></td>\n",
       "      <td>https://in.reuters.com/video/2018/03/23/dropbo...</td>\n",
       "      <td>Dropbox shares surge in IPO</td>\n",
       "      <td>[{'name': 'fred katayama', 'sentiment': 'none'}]</td>\n",
       "      <td>[]</td>\n",
       "      <td>[{'name': 'ipo dropbox', 'sentiment': 'negativ...</td>\n",
       "      <td>Dropbox shares surge in IPO Saturday, March 24...</td>\n",
       "      <td>2018-03-23T22:23:00.000+03:00</td>\n",
       "    </tr>\n",
       "    <tr>\n",
       "      <th>3</th>\n",
       "      <td>Reuters: People News</td>\n",
       "      <td>US</td>\n",
       "      <td>reuters.com</td>\n",
       "      <td></td>\n",
       "      <td>Reuters Editorial</td>\n",
       "      <td>https://www.reuters.com/article/us-germany-naz...</td>\n",
       "      <td>Bookkeeper of Auschwitz dies before starting s...</td>\n",
       "      <td>[{'name': 'oskar groening', 'sentiment': 'none...</td>\n",
       "      <td>[{'name': 'auschwitz', 'sentiment': 'none'}, {...</td>\n",
       "      <td>[{'name': 'reuters', 'sentiment': 'negative'},...</td>\n",
       "      <td>BERLIN (Reuters) - The man known as the “bookk...</td>\n",
       "      <td>2018-03-13T01:05:00.000+02:00</td>\n",
       "    </tr>\n",
       "    <tr>\n",
       "      <th>4</th>\n",
       "      <td>CNBC International – World Business News Leader</td>\n",
       "      <td>US</td>\n",
       "      <td>cnbc.com</td>\n",
       "      <td></td>\n",
       "      <td>Alexandra Gibbs</td>\n",
       "      <td>https://www.cnbc.com/2018/03/05/us-stock-futur...</td>\n",
       "      <td>US stocks set for a negative open as trade war...</td>\n",
       "      <td>[{'name': 'donald trump', 'sentiment': 'none'}...</td>\n",
       "      <td>[{'name': 'u.s.', 'sentiment': 'none'}, {'name...</td>\n",
       "      <td>[{'name': 's&amp;p', 'sentiment': 'none'}]</td>\n",
       "      <td>Dow closes 336 points higher as trade-war worr...</td>\n",
       "      <td>2018-03-05T13:27:00.000+02:00</td>\n",
       "    </tr>\n",
       "  </tbody>\n",
       "</table>\n",
       "</div>"
      ],
      "text/plain": [
       "                                       section_title country         site  \\\n",
       "0  Archive News &amp; Video for Tuesday, 27 Mar 2...      US  reuters.com   \n",
       "1                                  Reuters: Top News      US  reuters.com   \n",
       "2                    Reuters Video: Latest Videos IN      US  reuters.com   \n",
       "3                               Reuters: People News      US  reuters.com   \n",
       "4    CNBC International – World Business News Leader      US     cnbc.com   \n",
       "\n",
       "  title_full             author  \\\n",
       "0             Reuters Editorial   \n",
       "1                                 \n",
       "2                                 \n",
       "3             Reuters Editorial   \n",
       "4               Alexandra Gibbs   \n",
       "\n",
       "                                                 url  \\\n",
       "0  https://www.reuters.com/article/brief-au-optro...   \n",
       "1  https://uk.reuters.com/article/uk-britain-econ...   \n",
       "2  https://in.reuters.com/video/2018/03/23/dropbo...   \n",
       "3  https://www.reuters.com/article/us-germany-naz...   \n",
       "4  https://www.cnbc.com/2018/03/05/us-stock-futur...   \n",
       "\n",
       "                                               title  \\\n",
       "0  BRIEF-AU Optronics to pay cash dividend of T$1...   \n",
       "1  British stats watchdog - stop using RPI inflat...   \n",
       "2                        Dropbox shares surge in IPO   \n",
       "3  Bookkeeper of Auschwitz dies before starting s...   \n",
       "4  US stocks set for a negative open as trade war...   \n",
       "\n",
       "                                             persons  \\\n",
       "0                                                 []   \n",
       "1         [{'name': 'david n', 'sentiment': 'none'}]   \n",
       "2   [{'name': 'fred katayama', 'sentiment': 'none'}]   \n",
       "3  [{'name': 'oskar groening', 'sentiment': 'none...   \n",
       "4  [{'name': 'donald trump', 'sentiment': 'none'}...   \n",
       "\n",
       "                                           locations  \\\n",
       "0                                                 []   \n",
       "1  [{'name': 'oxford street', 'sentiment': 'none'...   \n",
       "2                                                 []   \n",
       "3  [{'name': 'auschwitz', 'sentiment': 'none'}, {...   \n",
       "4  [{'name': 'u.s.', 'sentiment': 'none'}, {'name...   \n",
       "\n",
       "                                       organizations  \\\n",
       "0  [{'name': 'au optronics corp', 'sentiment': 'n...   \n",
       "1  [{'name': 'reuters staff', 'sentiment': 'none'...   \n",
       "2  [{'name': 'ipo dropbox', 'sentiment': 'negativ...   \n",
       "3  [{'name': 'reuters', 'sentiment': 'negative'},...   \n",
       "4             [{'name': 's&p', 'sentiment': 'none'}]   \n",
       "\n",
       "                                                text  \\\n",
       "0  March 27(Reuters) - AU Optronics Corp :\\n* Say...   \n",
       "1  March 8, 2018 / 1:35 PM / Updated an hour ago ...   \n",
       "2  Dropbox shares surge in IPO Saturday, March 24...   \n",
       "3  BERLIN (Reuters) - The man known as the “bookk...   \n",
       "4  Dow closes 336 points higher as trade-war worr...   \n",
       "\n",
       "                       published  \n",
       "0  2018-03-27T22:14:00.000+03:00  \n",
       "1  2018-03-08T15:42:00.000+02:00  \n",
       "2  2018-03-23T22:23:00.000+03:00  \n",
       "3  2018-03-13T01:05:00.000+02:00  \n",
       "4  2018-03-05T13:27:00.000+02:00  "
      ]
     },
     "execution_count": 33,
     "metadata": {},
     "output_type": "execute_result"
    }
   ],
   "source": [
    "us_financial_news.head()"
   ]
  },
  {
   "cell_type": "code",
   "execution_count": 34,
   "id": "655470b6-844e-4dca-bcd8-7b6d1c442616",
   "metadata": {},
   "outputs": [
    {
     "name": "stdout",
     "output_type": "stream",
     "text": [
      "<class 'pandas.core.frame.DataFrame'>\n",
      "RangeIndex: 57456 entries, 0 to 57455\n",
      "Data columns (total 12 columns):\n",
      " #   Column         Non-Null Count  Dtype \n",
      "---  ------         --------------  ----- \n",
      " 0   section_title  57456 non-null  object\n",
      " 1   country        57456 non-null  object\n",
      " 2   site           57456 non-null  object\n",
      " 3   title_full     57456 non-null  object\n",
      " 4   author         57456 non-null  object\n",
      " 5   url            57456 non-null  object\n",
      " 6   title          57456 non-null  object\n",
      " 7   persons        57456 non-null  object\n",
      " 8   locations      57456 non-null  object\n",
      " 9   organizations  57456 non-null  object\n",
      " 10  text           57456 non-null  object\n",
      " 11  published      57456 non-null  object\n",
      "dtypes: object(12)\n",
      "memory usage: 5.3+ MB\n"
     ]
    }
   ],
   "source": [
    "us_financial_news.info()"
   ]
  },
  {
   "cell_type": "code",
   "execution_count": 35,
   "id": "bceb3cdc-b719-40c7-86db-fe12483236d1",
   "metadata": {},
   "outputs": [
    {
     "data": {
      "text/plain": [
       "US    57456\n",
       "Name: country, dtype: int64"
      ]
     },
     "execution_count": 35,
     "metadata": {},
     "output_type": "execute_result"
    }
   ],
   "source": [
    "us_financial_news['country'].value_counts()"
   ]
  },
  {
   "cell_type": "code",
   "execution_count": 36,
   "id": "b190a73f-b1a2-4487-b78f-08fe31171ea2",
   "metadata": {},
   "outputs": [
    {
     "data": {
      "text/plain": [
       "reuters.com    36224\n",
       "cnbc.com       16420\n",
       "wsj.com         3638\n",
       "fortune.com     1174\n",
       "Name: site, dtype: int64"
      ]
     },
     "execution_count": 36,
     "metadata": {},
     "output_type": "execute_result"
    }
   ],
   "source": [
    "us_financial_news['site'].value_counts()"
   ]
  },
  {
   "cell_type": "markdown",
   "id": "903e1c01-7777-4ea6-acb2-56a6ca5b859e",
   "metadata": {
    "tags": []
   },
   "source": [
    "## folder_4"
   ]
  },
  {
   "cell_type": "code",
   "execution_count": 37,
   "id": "d6769bae-9db7-40c7-8717-22e5e46f75fc",
   "metadata": {},
   "outputs": [
    {
     "data": {
      "text/plain": [
       "'2018_04_112b52537b67659ad3609a234388c50a'"
      ]
     },
     "execution_count": 37,
     "metadata": {},
     "output_type": "execute_result"
    }
   ],
   "source": [
    "subdir = subdirs[3]\n",
    "subdir"
   ]
  },
  {
   "cell_type": "code",
   "execution_count": 38,
   "id": "e7699ccd-4ad5-4ca6-bf83-f67dfa640376",
   "metadata": {},
   "outputs": [
    {
     "data": {
      "text/plain": [
       "'news_0047188.json'"
      ]
     },
     "execution_count": 38,
     "metadata": {},
     "output_type": "execute_result"
    }
   ],
   "source": [
    "sample = os.listdir(os.path.join(directory_path, subdir))[0]\n",
    "sample"
   ]
  },
  {
   "cell_type": "code",
   "execution_count": 39,
   "id": "86a5aceb-e6cc-452a-b3f6-750c0f3fbcfd",
   "metadata": {},
   "outputs": [
    {
     "data": {
      "text/plain": [
       "{'organizations': [],\n",
       " 'uuid': '9da3ab75c6bcf5c83b8fbbdaf42b6047ddd19907',\n",
       " 'thread': {'social': {'gplus': {'shares': 0},\n",
       "   'pinterest': {'shares': 0},\n",
       "   'vk': {'shares': 0},\n",
       "   'linkedin': {'shares': 0},\n",
       "   'facebook': {'likes': 0, 'shares': 0, 'comments': 0},\n",
       "   'stumbledupon': {'shares': 0}},\n",
       "  'site_full': 'uk.reuters.com',\n",
       "  'main_image': 'https://s4.reutersmedia.net/resources/r/?d=20180423&i=OV8CNGMEZ&w=1200&r=OV8CNGMEZ&t=2',\n",
       "  'site_section': 'http://feeds.reuters.com/reuters/UKVideoSportsAndLeisure',\n",
       "  'section_title': 'Reuters Video: Sports and Leisure',\n",
       "  'url': 'https://uk.reuters.com/video/2018/04/23/mo-salah-wins-pfa-player-of-the-year-awa?videoId=420467373',\n",
       "  'country': 'US',\n",
       "  'domain_rank': 408,\n",
       "  'title': 'Mo Salah wins PFA player of the year award',\n",
       "  'performance_score': 0,\n",
       "  'site': 'reuters.com',\n",
       "  'participants_count': 0,\n",
       "  'title_full': '',\n",
       "  'spam_score': 0.0,\n",
       "  'site_type': 'news',\n",
       "  'published': '2018-04-23T12:35:00.000+03:00',\n",
       "  'replies_count': 0,\n",
       "  'uuid': '9da3ab75c6bcf5c83b8fbbdaf42b6047ddd19907'},\n",
       " 'author': '',\n",
       " 'url': 'https://uk.reuters.com/video/2018/04/23/mo-salah-wins-pfa-player-of-the-year-awa?videoId=420467373',\n",
       " 'ord_in_thread': 0,\n",
       " 'title': 'Mo Salah wins PFA player of the year award',\n",
       " 'locations': [],\n",
       " 'entities': {'persons': [{'name': 'mo salah', 'sentiment': 'negative'}],\n",
       "  'locations': [],\n",
       "  'organizations': [{'name': 'pfa', 'sentiment': 'negative'},\n",
       "   {'name': 'reuters news agency | brand attribution guidelines | careers  reuters',\n",
       "    'sentiment': 'none'},\n",
       "   {'name': 'reuters.com', 'sentiment': 'none'},\n",
       "   {'name': 'thomson reuters', 'sentiment': 'none'},\n",
       "   {'name': 'reuters tv', 'sentiment': 'none'},\n",
       "   {'name': 'reuters', 'sentiment': 'none'}]},\n",
       " 'highlightText': '',\n",
       " 'language': 'english',\n",
       " 'persons': [],\n",
       " 'text': \"Mo Salah wins PFA player of the year award 10:35am BST - 01:17 Sat, 21 Apr, 2018 - (1:34) Featured Videos Thu, 23 Nov, 2017 - (2:18) Follow Reuters: Reuters Plus | Reuters News Agency | Brand Attribution Guidelines | Careers \\nReuters, the news and media division of Thomson Reuters , is the world’s largest international multimedia news provider reaching more than one billion people every day. Reuters provides trusted business, financial, national, and international news to professionals via Thomson Reuters desktops, the world's media organizations, and directly to consumers at Reuters.com and via Reuters TV. Learn more about Thomson Reuters products:\",\n",
       " 'external_links': [],\n",
       " 'published': '2018-04-23T12:35:00.000+03:00',\n",
       " 'crawled': '2018-04-23T13:24:58.015+03:00',\n",
       " 'highlightTitle': ''}"
      ]
     },
     "execution_count": 39,
     "metadata": {},
     "output_type": "execute_result"
    }
   ],
   "source": [
    "one_sample = json.load(\n",
    "    open(os.path.join(directory_path, subdir, sample)))\n",
    "one_sample"
   ]
  },
  {
   "cell_type": "code",
   "execution_count": 40,
   "id": "e9b07d14-f775-4c4a-a5ca-9b8ff9b40e0b",
   "metadata": {},
   "outputs": [
    {
     "data": {
      "text/plain": [
       "{'section_title': 'Reuters Video: Sports and Leisure',\n",
       " 'country': 'US',\n",
       " 'site': 'reuters.com',\n",
       " 'title_full': '',\n",
       " 'author': '',\n",
       " 'url': 'https://uk.reuters.com/video/2018/04/23/mo-salah-wins-pfa-player-of-the-year-awa?videoId=420467373',\n",
       " 'title': 'Mo Salah wins PFA player of the year award',\n",
       " 'persons': [{'name': 'mo salah', 'sentiment': 'negative'}],\n",
       " 'locations': [],\n",
       " 'organizations': [{'name': 'pfa', 'sentiment': 'negative'},\n",
       "  {'name': 'reuters news agency | brand attribution guidelines | careers  reuters',\n",
       "   'sentiment': 'none'},\n",
       "  {'name': 'reuters.com', 'sentiment': 'none'},\n",
       "  {'name': 'thomson reuters', 'sentiment': 'none'},\n",
       "  {'name': 'reuters tv', 'sentiment': 'none'},\n",
       "  {'name': 'reuters', 'sentiment': 'none'}],\n",
       " 'text': \"Mo Salah wins PFA player of the year award 10:35am BST - 01:17 Sat, 21 Apr, 2018 - (1:34) Featured Videos Thu, 23 Nov, 2017 - (2:18) Follow Reuters: Reuters Plus | Reuters News Agency | Brand Attribution Guidelines | Careers \\nReuters, the news and media division of Thomson Reuters , is the world’s largest international multimedia news provider reaching more than one billion people every day. Reuters provides trusted business, financial, national, and international news to professionals via Thomson Reuters desktops, the world's media organizations, and directly to consumers at Reuters.com and via Reuters TV. Learn more about Thomson Reuters products:\",\n",
       " 'published': '2018-04-23T12:35:00.000+03:00'}"
      ]
     },
     "execution_count": 40,
     "metadata": {},
     "output_type": "execute_result"
    }
   ],
   "source": [
    "first_lvl = ['text', 'published', 'entities', 'title', 'url', 'author']\n",
    "thread = ['title_full', 'country', 'section_title', 'site']\n",
    "\n",
    "parse_json(one_sample)"
   ]
  },
  {
   "cell_type": "code",
   "execution_count": 41,
   "id": "09c1d865-3ae5-4e56-a28e-8f1043fe26a6",
   "metadata": {},
   "outputs": [],
   "source": [
    "data = []\n",
    "for filename in os.listdir(os.path.join(directory_path, subdir)):\n",
    "    if filename.endswith(\".json\"):\n",
    "        with open(os.path.join(directory_path, subdir, filename), \"r\") as json_file:\n",
    "            json_data = parse_json(json.load(json_file))\n",
    "            data.append(json_data)\n",
    "\n",
    "us_financial_news = pd.DataFrame(data)"
   ]
  },
  {
   "cell_type": "code",
   "execution_count": 42,
   "id": "af64c5c1-ce69-45cf-bf6e-25132382b847",
   "metadata": {},
   "outputs": [
    {
     "data": {
      "text/plain": [
       "(63245, 12)"
      ]
     },
     "execution_count": 42,
     "metadata": {},
     "output_type": "execute_result"
    }
   ],
   "source": [
    "us_financial_news.shape"
   ]
  },
  {
   "cell_type": "code",
   "execution_count": 43,
   "id": "377c8232-a671-42ff-b763-4ff7c7841ef1",
   "metadata": {},
   "outputs": [
    {
     "data": {
      "text/html": [
       "<div>\n",
       "<style scoped>\n",
       "    .dataframe tbody tr th:only-of-type {\n",
       "        vertical-align: middle;\n",
       "    }\n",
       "\n",
       "    .dataframe tbody tr th {\n",
       "        vertical-align: top;\n",
       "    }\n",
       "\n",
       "    .dataframe thead th {\n",
       "        text-align: right;\n",
       "    }\n",
       "</style>\n",
       "<table border=\"1\" class=\"dataframe\">\n",
       "  <thead>\n",
       "    <tr style=\"text-align: right;\">\n",
       "      <th></th>\n",
       "      <th>section_title</th>\n",
       "      <th>country</th>\n",
       "      <th>site</th>\n",
       "      <th>title_full</th>\n",
       "      <th>author</th>\n",
       "      <th>url</th>\n",
       "      <th>title</th>\n",
       "      <th>persons</th>\n",
       "      <th>locations</th>\n",
       "      <th>organizations</th>\n",
       "      <th>text</th>\n",
       "      <th>published</th>\n",
       "    </tr>\n",
       "  </thead>\n",
       "  <tbody>\n",
       "    <tr>\n",
       "      <th>0</th>\n",
       "      <td>Reuters Video: Sports and Leisure</td>\n",
       "      <td>US</td>\n",
       "      <td>reuters.com</td>\n",
       "      <td></td>\n",
       "      <td></td>\n",
       "      <td>https://uk.reuters.com/video/2018/04/23/mo-sal...</td>\n",
       "      <td>Mo Salah wins PFA player of the year award</td>\n",
       "      <td>[{'name': 'mo salah', 'sentiment': 'negative'}]</td>\n",
       "      <td>[]</td>\n",
       "      <td>[{'name': 'pfa', 'sentiment': 'negative'}, {'n...</td>\n",
       "      <td>Mo Salah wins PFA player of the year award 10:...</td>\n",
       "      <td>2018-04-23T12:35:00.000+03:00</td>\n",
       "    </tr>\n",
       "    <tr>\n",
       "      <th>1</th>\n",
       "      <td>Reuters: Motor Sports News</td>\n",
       "      <td>US</td>\n",
       "      <td>reuters.com</td>\n",
       "      <td></td>\n",
       "      <td></td>\n",
       "      <td>https://uk.reuters.com/article/uk-motor-f1-bah...</td>\n",
       "      <td>Motor racing-Mercedes look to China after losi...</td>\n",
       "      <td>[{'name': 'vettel', 'sentiment': 'none'}, {'na...</td>\n",
       "      <td>[{'name': 'china', 'sentiment': 'none'}, {'nam...</td>\n",
       "      <td>[{'name': 'mercedes', 'sentiment': 'negative'}...</td>\n",
       "      <td>April 9, 2018 / 3:17 PM / a few seconds ago Mo...</td>\n",
       "      <td>2018-04-09T17:52:00.000+03:00</td>\n",
       "    </tr>\n",
       "    <tr>\n",
       "      <th>2</th>\n",
       "      <td>Archive News &amp;amp; Video for Thursday, 19 Apr ...</td>\n",
       "      <td>US</td>\n",
       "      <td>reuters.com</td>\n",
       "      <td></td>\n",
       "      <td>Reuters Editorial</td>\n",
       "      <td>https://www.reuters.com/article/telecomitalia-...</td>\n",
       "      <td>URGENT-Hedge fund Elliott issues new attack on...</td>\n",
       "      <td>[{'name': 'elliott', 'sentiment': 'negative'},...</td>\n",
       "      <td>[{'name': 'paris', 'sentiment': 'none'}]</td>\n",
       "      <td>[{'name': 'reuters', 'sentiment': 'negative'},...</td>\n",
       "      <td>PARIS, April 19 (Reuters) - Activist Elliott A...</td>\n",
       "      <td>2018-04-19T14:17:00.000+03:00</td>\n",
       "    </tr>\n",
       "    <tr>\n",
       "      <th>3</th>\n",
       "      <td>Reuters: Money News</td>\n",
       "      <td>US</td>\n",
       "      <td>reuters.com</td>\n",
       "      <td></td>\n",
       "      <td></td>\n",
       "      <td>https://in.reuters.com/article/pennsylvania-ai...</td>\n",
       "      <td>U.S. FAA to order inspections of jet engines a...</td>\n",
       "      <td>[{'name': 'alwyn scott', 'sentiment': 'none'},...</td>\n",
       "      <td>[{'name': 'u.s.', 'sentiment': 'none'}, {'name...</td>\n",
       "      <td>[{'name': 'southwest', 'sentiment': 'negative'...</td>\n",
       "      <td>(Reuters) - The U.S. Federal Aviation Administ...</td>\n",
       "      <td>2018-04-19T17:56:00.000+03:00</td>\n",
       "    </tr>\n",
       "    <tr>\n",
       "      <th>4</th>\n",
       "      <td>Archive News &amp;amp; Video for Tuesday, 10 Apr 2...</td>\n",
       "      <td>US</td>\n",
       "      <td>reuters.com</td>\n",
       "      <td></td>\n",
       "      <td>Reuters Editorial</td>\n",
       "      <td>https://www.reuters.com/article/givaudan-resul...</td>\n",
       "      <td>Givaudan Q1 sales rise 5.4 pct, helped by new ...</td>\n",
       "      <td>[{'name': 'givaudan', 'sentiment': 'none'}, {'...</td>\n",
       "      <td>[{'name': 'zurich', 'sentiment': 'none'}]</td>\n",
       "      <td>[{'name': 'reuters', 'sentiment': 'negative'},...</td>\n",
       "      <td>ZURICH, April 10 (Reuters) - Fragrance and fla...</td>\n",
       "      <td>2018-04-10T13:06:00.000+03:00</td>\n",
       "    </tr>\n",
       "  </tbody>\n",
       "</table>\n",
       "</div>"
      ],
      "text/plain": [
       "                                       section_title country         site  \\\n",
       "0                  Reuters Video: Sports and Leisure      US  reuters.com   \n",
       "1                         Reuters: Motor Sports News      US  reuters.com   \n",
       "2  Archive News &amp; Video for Thursday, 19 Apr ...      US  reuters.com   \n",
       "3                                Reuters: Money News      US  reuters.com   \n",
       "4  Archive News &amp; Video for Tuesday, 10 Apr 2...      US  reuters.com   \n",
       "\n",
       "  title_full             author  \\\n",
       "0                                 \n",
       "1                                 \n",
       "2             Reuters Editorial   \n",
       "3                                 \n",
       "4             Reuters Editorial   \n",
       "\n",
       "                                                 url  \\\n",
       "0  https://uk.reuters.com/video/2018/04/23/mo-sal...   \n",
       "1  https://uk.reuters.com/article/uk-motor-f1-bah...   \n",
       "2  https://www.reuters.com/article/telecomitalia-...   \n",
       "3  https://in.reuters.com/article/pennsylvania-ai...   \n",
       "4  https://www.reuters.com/article/givaudan-resul...   \n",
       "\n",
       "                                               title  \\\n",
       "0         Mo Salah wins PFA player of the year award   \n",
       "1  Motor racing-Mercedes look to China after losi...   \n",
       "2  URGENT-Hedge fund Elliott issues new attack on...   \n",
       "3  U.S. FAA to order inspections of jet engines a...   \n",
       "4  Givaudan Q1 sales rise 5.4 pct, helped by new ...   \n",
       "\n",
       "                                             persons  \\\n",
       "0    [{'name': 'mo salah', 'sentiment': 'negative'}]   \n",
       "1  [{'name': 'vettel', 'sentiment': 'none'}, {'na...   \n",
       "2  [{'name': 'elliott', 'sentiment': 'negative'},...   \n",
       "3  [{'name': 'alwyn scott', 'sentiment': 'none'},...   \n",
       "4  [{'name': 'givaudan', 'sentiment': 'none'}, {'...   \n",
       "\n",
       "                                           locations  \\\n",
       "0                                                 []   \n",
       "1  [{'name': 'china', 'sentiment': 'none'}, {'nam...   \n",
       "2           [{'name': 'paris', 'sentiment': 'none'}]   \n",
       "3  [{'name': 'u.s.', 'sentiment': 'none'}, {'name...   \n",
       "4          [{'name': 'zurich', 'sentiment': 'none'}]   \n",
       "\n",
       "                                       organizations  \\\n",
       "0  [{'name': 'pfa', 'sentiment': 'negative'}, {'n...   \n",
       "1  [{'name': 'mercedes', 'sentiment': 'negative'}...   \n",
       "2  [{'name': 'reuters', 'sentiment': 'negative'},...   \n",
       "3  [{'name': 'southwest', 'sentiment': 'negative'...   \n",
       "4  [{'name': 'reuters', 'sentiment': 'negative'},...   \n",
       "\n",
       "                                                text  \\\n",
       "0  Mo Salah wins PFA player of the year award 10:...   \n",
       "1  April 9, 2018 / 3:17 PM / a few seconds ago Mo...   \n",
       "2  PARIS, April 19 (Reuters) - Activist Elliott A...   \n",
       "3  (Reuters) - The U.S. Federal Aviation Administ...   \n",
       "4  ZURICH, April 10 (Reuters) - Fragrance and fla...   \n",
       "\n",
       "                       published  \n",
       "0  2018-04-23T12:35:00.000+03:00  \n",
       "1  2018-04-09T17:52:00.000+03:00  \n",
       "2  2018-04-19T14:17:00.000+03:00  \n",
       "3  2018-04-19T17:56:00.000+03:00  \n",
       "4  2018-04-10T13:06:00.000+03:00  "
      ]
     },
     "execution_count": 43,
     "metadata": {},
     "output_type": "execute_result"
    }
   ],
   "source": [
    "us_financial_news.head()"
   ]
  },
  {
   "cell_type": "code",
   "execution_count": 44,
   "id": "209a2da7-94c9-4303-9591-d83d7f8cbdf5",
   "metadata": {},
   "outputs": [
    {
     "name": "stdout",
     "output_type": "stream",
     "text": [
      "<class 'pandas.core.frame.DataFrame'>\n",
      "RangeIndex: 63245 entries, 0 to 63244\n",
      "Data columns (total 12 columns):\n",
      " #   Column         Non-Null Count  Dtype \n",
      "---  ------         --------------  ----- \n",
      " 0   section_title  63245 non-null  object\n",
      " 1   country        63245 non-null  object\n",
      " 2   site           63245 non-null  object\n",
      " 3   title_full     63245 non-null  object\n",
      " 4   author         63245 non-null  object\n",
      " 5   url            63245 non-null  object\n",
      " 6   title          63245 non-null  object\n",
      " 7   persons        63245 non-null  object\n",
      " 8   locations      63245 non-null  object\n",
      " 9   organizations  63245 non-null  object\n",
      " 10  text           63245 non-null  object\n",
      " 11  published      63245 non-null  object\n",
      "dtypes: object(12)\n",
      "memory usage: 5.8+ MB\n"
     ]
    }
   ],
   "source": [
    "us_financial_news.info()"
   ]
  },
  {
   "cell_type": "code",
   "execution_count": 45,
   "id": "704c0255-6da0-4c7c-8999-57ea669c7035",
   "metadata": {},
   "outputs": [
    {
     "data": {
      "text/plain": [
       "US    63245\n",
       "Name: country, dtype: int64"
      ]
     },
     "execution_count": 45,
     "metadata": {},
     "output_type": "execute_result"
    }
   ],
   "source": [
    "us_financial_news['country'].value_counts()"
   ]
  },
  {
   "cell_type": "code",
   "execution_count": 46,
   "id": "2657d269-0934-4588-b8cf-8bc1e82d094a",
   "metadata": {},
   "outputs": [
    {
     "data": {
      "text/plain": [
       "reuters.com    41354\n",
       "cnbc.com       16974\n",
       "wsj.com         3739\n",
       "fortune.com     1178\n",
       "Name: site, dtype: int64"
      ]
     },
     "execution_count": 46,
     "metadata": {},
     "output_type": "execute_result"
    }
   ],
   "source": [
    "us_financial_news['site'].value_counts()"
   ]
  },
  {
   "cell_type": "markdown",
   "id": "2aad3780-4bcf-4453-bd05-f62fd26904cf",
   "metadata": {
    "tags": []
   },
   "source": [
    "## folder_5"
   ]
  },
  {
   "cell_type": "code",
   "execution_count": 47,
   "id": "25d3dc4b-88ec-4b4a-bfdf-7a590927aa11",
   "metadata": {},
   "outputs": [
    {
     "data": {
      "text/plain": [
       "'2018_05_112b52537b67659ad3609a234388c50a'"
      ]
     },
     "execution_count": 47,
     "metadata": {},
     "output_type": "execute_result"
    }
   ],
   "source": [
    "subdir = subdirs[4]\n",
    "subdir"
   ]
  },
  {
   "cell_type": "code",
   "execution_count": 48,
   "id": "b995d287-9c06-47fd-9267-54f41ed06a80",
   "metadata": {},
   "outputs": [
    {
     "data": {
      "text/plain": [
       "'news_0047188.json'"
      ]
     },
     "execution_count": 48,
     "metadata": {},
     "output_type": "execute_result"
    }
   ],
   "source": [
    "sample = os.listdir(os.path.join(directory_path, subdir))[0]\n",
    "sample"
   ]
  },
  {
   "cell_type": "code",
   "execution_count": 49,
   "id": "935967ba-8523-4d59-8fee-930d0c6b55b1",
   "metadata": {},
   "outputs": [
    {
     "data": {
      "text/plain": [
       "{'organizations': [],\n",
       " 'uuid': '14409fed692eebe106cb550605419e6352675265',\n",
       " 'thread': {'social': {'gplus': {'shares': 0},\n",
       "   'pinterest': {'shares': 0},\n",
       "   'vk': {'shares': 0},\n",
       "   'linkedin': {'shares': 0},\n",
       "   'facebook': {'likes': 0, 'shares': 0, 'comments': 0},\n",
       "   'stumbledupon': {'shares': 0}},\n",
       "  'site_full': 'www.cnbc.com',\n",
       "  'main_image': 'https://fm.cnbc.com/applications/cnbc.com/resources/img/editorial/2018/05/25/105232825-makeit_05252018_Gloversuperstar_mezz.600x400.jpg',\n",
       "  'site_section': 'http://www.cnbc.com/id/100004038/device/rss/rss.html',\n",
       "  'section_title': 'Latest Video',\n",
       "  'url': 'https://www.cnbc.com/video/2018/05/25/solo-star-donald-glover-from-youtube-comic-to-star-wars.html',\n",
       "  'country': 'US',\n",
       "  'domain_rank': 767,\n",
       "  'title': 'How ‘Solo’ star Donald Glover (aka Childish Gambino) went from YouTube comic to ‘Star Wars’',\n",
       "  'performance_score': 0,\n",
       "  'site': 'cnbc.com',\n",
       "  'participants_count': 0,\n",
       "  'title_full': '',\n",
       "  'spam_score': 0.0,\n",
       "  'site_type': 'news',\n",
       "  'published': '2018-05-25T22:15:00.000+03:00',\n",
       "  'replies_count': 0,\n",
       "  'uuid': '14409fed692eebe106cb550605419e6352675265'},\n",
       " 'author': '',\n",
       " 'url': 'https://www.cnbc.com/video/2018/05/25/solo-star-donald-glover-from-youtube-comic-to-star-wars.html',\n",
       " 'ord_in_thread': 0,\n",
       " 'title': 'How ‘Solo’ star Donald Glover (aka Childish Gambino) went from YouTube comic to ‘Star Wars’',\n",
       " 'locations': [],\n",
       " 'entities': {'persons': [{'name': 'donald glover', 'sentiment': 'negative'},\n",
       "   {'name': 'lando calrissian', 'sentiment': 'none'},\n",
       "   {'name': 'tina fey', 'sentiment': 'none'}],\n",
       "  'locations': [],\n",
       "  'organizations': []},\n",
       " 'highlightText': '',\n",
       " 'language': 'english',\n",
       " 'persons': [],\n",
       " 'text': 'How ‘Solo’ star Donald Glover (aka Childish Gambino) went from YouTube comic to ‘Star Wars’ 13 Mins Ago Before Donald Glover (also known as Childish Gambino) played Lando Calrissian in the new \"Star Wars\" movie, he was making viral YouTube comedy videos that caught Tina Fey\\'s attention.',\n",
       " 'external_links': [],\n",
       " 'published': '2018-05-25T22:15:00.000+03:00',\n",
       " 'crawled': '2018-05-25T22:33:56.000+03:00',\n",
       " 'highlightTitle': ''}"
      ]
     },
     "execution_count": 49,
     "metadata": {},
     "output_type": "execute_result"
    }
   ],
   "source": [
    "one_sample = json.load(\n",
    "    open(os.path.join(directory_path, subdir, sample)))\n",
    "one_sample"
   ]
  },
  {
   "cell_type": "code",
   "execution_count": 50,
   "id": "e636277d-159a-4672-a023-b63faef21c44",
   "metadata": {},
   "outputs": [
    {
     "data": {
      "text/plain": [
       "{'section_title': 'Latest Video',\n",
       " 'country': 'US',\n",
       " 'site': 'cnbc.com',\n",
       " 'title_full': '',\n",
       " 'author': '',\n",
       " 'url': 'https://www.cnbc.com/video/2018/05/25/solo-star-donald-glover-from-youtube-comic-to-star-wars.html',\n",
       " 'title': 'How ‘Solo’ star Donald Glover (aka Childish Gambino) went from YouTube comic to ‘Star Wars’',\n",
       " 'persons': [{'name': 'donald glover', 'sentiment': 'negative'},\n",
       "  {'name': 'lando calrissian', 'sentiment': 'none'},\n",
       "  {'name': 'tina fey', 'sentiment': 'none'}],\n",
       " 'locations': [],\n",
       " 'organizations': [],\n",
       " 'text': 'How ‘Solo’ star Donald Glover (aka Childish Gambino) went from YouTube comic to ‘Star Wars’ 13 Mins Ago Before Donald Glover (also known as Childish Gambino) played Lando Calrissian in the new \"Star Wars\" movie, he was making viral YouTube comedy videos that caught Tina Fey\\'s attention.',\n",
       " 'published': '2018-05-25T22:15:00.000+03:00'}"
      ]
     },
     "execution_count": 50,
     "metadata": {},
     "output_type": "execute_result"
    }
   ],
   "source": [
    "first_lvl = ['text', 'published', 'entities', 'title', 'url', 'author']\n",
    "thread = ['title_full', 'country', 'section_title', 'site']\n",
    "\n",
    "parse_json(one_sample)"
   ]
  },
  {
   "cell_type": "code",
   "execution_count": 51,
   "id": "3491069f-ae66-4a09-9210-23a8ff16dfe6",
   "metadata": {},
   "outputs": [],
   "source": [
    "data = []\n",
    "for filename in os.listdir(os.path.join(directory_path, subdir)):\n",
    "    if filename.endswith(\".json\"):\n",
    "        with open(os.path.join(directory_path, subdir, filename), \"r\") as json_file:\n",
    "            json_data = parse_json(json.load(json_file))\n",
    "            data.append(json_data)\n",
    "\n",
    "us_financial_news = pd.DataFrame(data)"
   ]
  },
  {
   "cell_type": "code",
   "execution_count": 52,
   "id": "5d1d0ea9-891a-4183-984f-c147ea076faa",
   "metadata": {},
   "outputs": [
    {
     "data": {
      "text/plain": [
       "(63147, 12)"
      ]
     },
     "execution_count": 52,
     "metadata": {},
     "output_type": "execute_result"
    }
   ],
   "source": [
    "us_financial_news.shape"
   ]
  },
  {
   "cell_type": "code",
   "execution_count": 53,
   "id": "dfa3dc24-ab0f-4788-906b-47f2d8910232",
   "metadata": {},
   "outputs": [
    {
     "data": {
      "text/html": [
       "<div>\n",
       "<style scoped>\n",
       "    .dataframe tbody tr th:only-of-type {\n",
       "        vertical-align: middle;\n",
       "    }\n",
       "\n",
       "    .dataframe tbody tr th {\n",
       "        vertical-align: top;\n",
       "    }\n",
       "\n",
       "    .dataframe thead th {\n",
       "        text-align: right;\n",
       "    }\n",
       "</style>\n",
       "<table border=\"1\" class=\"dataframe\">\n",
       "  <thead>\n",
       "    <tr style=\"text-align: right;\">\n",
       "      <th></th>\n",
       "      <th>section_title</th>\n",
       "      <th>country</th>\n",
       "      <th>site</th>\n",
       "      <th>title_full</th>\n",
       "      <th>author</th>\n",
       "      <th>url</th>\n",
       "      <th>title</th>\n",
       "      <th>persons</th>\n",
       "      <th>locations</th>\n",
       "      <th>organizations</th>\n",
       "      <th>text</th>\n",
       "      <th>published</th>\n",
       "    </tr>\n",
       "  </thead>\n",
       "  <tbody>\n",
       "    <tr>\n",
       "      <th>0</th>\n",
       "      <td>Latest Video</td>\n",
       "      <td>US</td>\n",
       "      <td>cnbc.com</td>\n",
       "      <td></td>\n",
       "      <td></td>\n",
       "      <td>https://www.cnbc.com/video/2018/05/25/solo-sta...</td>\n",
       "      <td>How ‘Solo’ star Donald Glover (aka Childish Ga...</td>\n",
       "      <td>[{'name': 'donald glover', 'sentiment': 'negat...</td>\n",
       "      <td>[]</td>\n",
       "      <td>[]</td>\n",
       "      <td>How ‘Solo’ star Donald Glover (aka Childish Ga...</td>\n",
       "      <td>2018-05-25T22:15:00.000+03:00</td>\n",
       "    </tr>\n",
       "    <tr>\n",
       "      <th>1</th>\n",
       "      <td>Archive News &amp;amp; Video for Friday, 04 May 20...</td>\n",
       "      <td>US</td>\n",
       "      <td>reuters.com</td>\n",
       "      <td></td>\n",
       "      <td>Reuters Editorial</td>\n",
       "      <td>https://www.reuters.com/article/russia-funds/r...</td>\n",
       "      <td>Russia's National Wealth Fund at $63.91 bln as...</td>\n",
       "      <td>[{'name': 'darya korsunskaya', 'sentiment': 'n...</td>\n",
       "      <td>[{'name': 'russia', 'sentiment': 'none'}, {'na...</td>\n",
       "      <td>[{'name': 'reuters', 'sentiment': 'negative'},...</td>\n",
       "      <td>MOSCOW, May 4 (Reuters) - Russia’s National We...</td>\n",
       "      <td>2018-05-04T23:03:00.000+03:00</td>\n",
       "    </tr>\n",
       "    <tr>\n",
       "      <th>2</th>\n",
       "      <td>Archive News &amp;amp; Video for Wednesday, 16 May...</td>\n",
       "      <td>US</td>\n",
       "      <td>reuters.com</td>\n",
       "      <td></td>\n",
       "      <td>Reuters Editorial</td>\n",
       "      <td>https://www.reuters.com/article/sweden-housepr...</td>\n",
       "      <td>Swedish apartment prices fell 7 pct Feb-April ...</td>\n",
       "      <td>[{'name': 'johan sennero', 'sentiment': 'none'...</td>\n",
       "      <td>[{'name': 'maklarstatistik stockholm', 'sentim...</td>\n",
       "      <td>[{'name': 'reuters', 'sentiment': 'negative'},...</td>\n",
       "      <td>STOCKHOLM, May 16(Reuters) - Swedish apartment...</td>\n",
       "      <td>2018-05-16T12:02:00.000+03:00</td>\n",
       "    </tr>\n",
       "    <tr>\n",
       "      <th>3</th>\n",
       "      <td>Press Releases - CNBC</td>\n",
       "      <td>US</td>\n",
       "      <td>cnbc.com</td>\n",
       "      <td></td>\n",
       "      <td>cnbc.com</td>\n",
       "      <td>http://www.cnbc.com/2018/05/16/business-wire-o...</td>\n",
       "      <td>Onxeo Provides Business Update and Reports Fir...</td>\n",
       "      <td>[{'name': 'judith greciet', 'sentiment': 'none'}]</td>\n",
       "      <td>[{'name': 'copenhagen', 'sentiment': 'none'}, ...</td>\n",
       "      <td>[{'name': 'company', 'sentiment': 'none'}, {'n...</td>\n",
       "      <td>Development of lead product candidate, AsiDNA™...</td>\n",
       "      <td>2018-05-16T20:00:00.000+03:00</td>\n",
       "    </tr>\n",
       "    <tr>\n",
       "      <th>4</th>\n",
       "      <td>Archive News &amp;amp; Video for Monday, 07 May 20...</td>\n",
       "      <td>US</td>\n",
       "      <td>reuters.com</td>\n",
       "      <td></td>\n",
       "      <td>Reuters Editorial</td>\n",
       "      <td>https://www.reuters.com/article/brief-cpt-tech...</td>\n",
       "      <td>CPT Technology Group's April Consolidated Reve...</td>\n",
       "      <td>[]</td>\n",
       "      <td>[{'name': 'hong kong', 'sentiment': 'none'}]</td>\n",
       "      <td>[{'name': 'reuters', 'sentiment': 'negative'},...</td>\n",
       "      <td>May 7 (Reuters) - CPT Technology Group Co Ltd:...</td>\n",
       "      <td>2018-05-07T18:04:00.000+03:00</td>\n",
       "    </tr>\n",
       "  </tbody>\n",
       "</table>\n",
       "</div>"
      ],
      "text/plain": [
       "                                       section_title country         site  \\\n",
       "0                                       Latest Video      US     cnbc.com   \n",
       "1  Archive News &amp; Video for Friday, 04 May 20...      US  reuters.com   \n",
       "2  Archive News &amp; Video for Wednesday, 16 May...      US  reuters.com   \n",
       "3                              Press Releases - CNBC      US     cnbc.com   \n",
       "4  Archive News &amp; Video for Monday, 07 May 20...      US  reuters.com   \n",
       "\n",
       "  title_full             author  \\\n",
       "0                                 \n",
       "1             Reuters Editorial   \n",
       "2             Reuters Editorial   \n",
       "3                      cnbc.com   \n",
       "4             Reuters Editorial   \n",
       "\n",
       "                                                 url  \\\n",
       "0  https://www.cnbc.com/video/2018/05/25/solo-sta...   \n",
       "1  https://www.reuters.com/article/russia-funds/r...   \n",
       "2  https://www.reuters.com/article/sweden-housepr...   \n",
       "3  http://www.cnbc.com/2018/05/16/business-wire-o...   \n",
       "4  https://www.reuters.com/article/brief-cpt-tech...   \n",
       "\n",
       "                                               title  \\\n",
       "0  How ‘Solo’ star Donald Glover (aka Childish Ga...   \n",
       "1  Russia's National Wealth Fund at $63.91 bln as...   \n",
       "2  Swedish apartment prices fell 7 pct Feb-April ...   \n",
       "3  Onxeo Provides Business Update and Reports Fir...   \n",
       "4  CPT Technology Group's April Consolidated Reve...   \n",
       "\n",
       "                                             persons  \\\n",
       "0  [{'name': 'donald glover', 'sentiment': 'negat...   \n",
       "1  [{'name': 'darya korsunskaya', 'sentiment': 'n...   \n",
       "2  [{'name': 'johan sennero', 'sentiment': 'none'...   \n",
       "3  [{'name': 'judith greciet', 'sentiment': 'none'}]   \n",
       "4                                                 []   \n",
       "\n",
       "                                           locations  \\\n",
       "0                                                 []   \n",
       "1  [{'name': 'russia', 'sentiment': 'none'}, {'na...   \n",
       "2  [{'name': 'maklarstatistik stockholm', 'sentim...   \n",
       "3  [{'name': 'copenhagen', 'sentiment': 'none'}, ...   \n",
       "4       [{'name': 'hong kong', 'sentiment': 'none'}]   \n",
       "\n",
       "                                       organizations  \\\n",
       "0                                                 []   \n",
       "1  [{'name': 'reuters', 'sentiment': 'negative'},...   \n",
       "2  [{'name': 'reuters', 'sentiment': 'negative'},...   \n",
       "3  [{'name': 'company', 'sentiment': 'none'}, {'n...   \n",
       "4  [{'name': 'reuters', 'sentiment': 'negative'},...   \n",
       "\n",
       "                                                text  \\\n",
       "0  How ‘Solo’ star Donald Glover (aka Childish Ga...   \n",
       "1  MOSCOW, May 4 (Reuters) - Russia’s National We...   \n",
       "2  STOCKHOLM, May 16(Reuters) - Swedish apartment...   \n",
       "3  Development of lead product candidate, AsiDNA™...   \n",
       "4  May 7 (Reuters) - CPT Technology Group Co Ltd:...   \n",
       "\n",
       "                       published  \n",
       "0  2018-05-25T22:15:00.000+03:00  \n",
       "1  2018-05-04T23:03:00.000+03:00  \n",
       "2  2018-05-16T12:02:00.000+03:00  \n",
       "3  2018-05-16T20:00:00.000+03:00  \n",
       "4  2018-05-07T18:04:00.000+03:00  "
      ]
     },
     "execution_count": 53,
     "metadata": {},
     "output_type": "execute_result"
    }
   ],
   "source": [
    "us_financial_news.head()"
   ]
  },
  {
   "cell_type": "code",
   "execution_count": 54,
   "id": "f60d7b3d-cf48-42b4-95b2-e627e4bb4e45",
   "metadata": {},
   "outputs": [
    {
     "name": "stdout",
     "output_type": "stream",
     "text": [
      "<class 'pandas.core.frame.DataFrame'>\n",
      "RangeIndex: 63147 entries, 0 to 63146\n",
      "Data columns (total 12 columns):\n",
      " #   Column         Non-Null Count  Dtype \n",
      "---  ------         --------------  ----- \n",
      " 0   section_title  63147 non-null  object\n",
      " 1   country        63147 non-null  object\n",
      " 2   site           63147 non-null  object\n",
      " 3   title_full     63147 non-null  object\n",
      " 4   author         63147 non-null  object\n",
      " 5   url            63147 non-null  object\n",
      " 6   title          63147 non-null  object\n",
      " 7   persons        63147 non-null  object\n",
      " 8   locations      63147 non-null  object\n",
      " 9   organizations  63147 non-null  object\n",
      " 10  text           63147 non-null  object\n",
      " 11  published      63147 non-null  object\n",
      "dtypes: object(12)\n",
      "memory usage: 5.8+ MB\n"
     ]
    }
   ],
   "source": [
    "us_financial_news.info()"
   ]
  },
  {
   "cell_type": "code",
   "execution_count": 55,
   "id": "78409311-3654-42b2-95e1-2c84ecdbe6b7",
   "metadata": {},
   "outputs": [
    {
     "data": {
      "text/plain": [
       "US    63147\n",
       "Name: country, dtype: int64"
      ]
     },
     "execution_count": 55,
     "metadata": {},
     "output_type": "execute_result"
    }
   ],
   "source": [
    "us_financial_news['country'].value_counts()"
   ]
  },
  {
   "cell_type": "code",
   "execution_count": 56,
   "id": "ba85fd0c-411c-4169-b9cd-6442def7e631",
   "metadata": {},
   "outputs": [
    {
     "data": {
      "text/plain": [
       "reuters.com    38236\n",
       "cnbc.com       19808\n",
       "wsj.com         3820\n",
       "fortune.com     1283\n",
       "Name: site, dtype: int64"
      ]
     },
     "execution_count": 56,
     "metadata": {},
     "output_type": "execute_result"
    }
   ],
   "source": [
    "us_financial_news['site'].value_counts()"
   ]
  },
  {
   "cell_type": "markdown",
   "id": "b625b2f1-231a-4b5c-ad17-3f6c517e0be4",
   "metadata": {
    "tags": []
   },
   "source": [
    "## all"
   ]
  },
  {
   "cell_type": "code",
   "execution_count": 9,
   "id": "3195987b-da3e-4530-9805-422b5dbeb94c",
   "metadata": {},
   "outputs": [
    {
     "data": {
      "text/plain": [
       "'2018_01_112b52537b67659ad3609a234388c50a'"
      ]
     },
     "execution_count": 9,
     "metadata": {},
     "output_type": "execute_result"
    }
   ],
   "source": [
    "subdir = subdirs[0]\n",
    "subdir"
   ]
  },
  {
   "cell_type": "code",
   "execution_count": 10,
   "id": "44afa4a6-60c0-4c77-ae4d-1e4c1b08d22c",
   "metadata": {},
   "outputs": [
    {
     "data": {
      "text/plain": [
       "'news_0047188.json'"
      ]
     },
     "execution_count": 10,
     "metadata": {},
     "output_type": "execute_result"
    }
   ],
   "source": [
    "sample = os.listdir(os.path.join(directory_path, subdir))[0]\n",
    "sample"
   ]
  },
  {
   "cell_type": "code",
   "execution_count": 11,
   "id": "c06e2f2e-2b44-4e58-bb03-a52cc1d75bcb",
   "metadata": {},
   "outputs": [
    {
     "data": {
      "text/plain": [
       "{'organizations': [],\n",
       " 'uuid': '4f2fec4a4d32d0f564e5da74188b51e5317e4826',\n",
       " 'thread': {'social': {'gplus': {'shares': 0},\n",
       "   'pinterest': {'shares': 0},\n",
       "   'vk': {'shares': 0},\n",
       "   'linkedin': {'shares': 0},\n",
       "   'facebook': {'likes': 0, 'shares': 0, 'comments': 0},\n",
       "   'stumbledupon': {'shares': 0}},\n",
       "  'site_full': 'www.reuters.com',\n",
       "  'main_image': 'https://s4.reutersmedia.net/resources_v2/images/rcom-default.png',\n",
       "  'site_section': 'http://feeds.reuters.com/reuters/companyNews',\n",
       "  'section_title': 'Reuters: Company News',\n",
       "  'url': 'https://www.reuters.com/article/emerging-markets-latam/emerging-markets-mexican-peso-seesaws-over-dollar-argentina-stocks-hit-record-idUSL2N1PK1XS',\n",
       "  'country': 'US',\n",
       "  'domain_rank': 408,\n",
       "  'title': 'EMERGING MARKETS-Mexican peso seesaws over dollar; Argentina stocks hit record',\n",
       "  'performance_score': 0,\n",
       "  'site': 'reuters.com',\n",
       "  'participants_count': 0,\n",
       "  'title_full': '',\n",
       "  'spam_score': 0.0,\n",
       "  'site_type': 'news',\n",
       "  'published': '2018-01-26T01:01:00.000+02:00',\n",
       "  'replies_count': 0,\n",
       "  'uuid': '4f2fec4a4d32d0f564e5da74188b51e5317e4826'},\n",
       " 'author': '',\n",
       " 'url': 'https://www.reuters.com/article/emerging-markets-latam/emerging-markets-mexican-peso-seesaws-over-dollar-argentina-stocks-hit-record-idUSL2N1PK1XS',\n",
       " 'ord_in_thread': 0,\n",
       " 'title': 'EMERGING MARKETS-Mexican peso seesaws over dollar; Argentina stocks hit record',\n",
       " 'locations': [],\n",
       " 'entities': {'persons': [{'name': 'argen', 'sentiment': 'negative'},\n",
       "   {'name': 'donald trump', 'sentiment': 'none'},\n",
       "   {'name': 'rodrigo campos', 'sentiment': 'none'},\n",
       "   {'name': 'steven mnuchin', 'sentiment': 'none'},\n",
       "   {'name': 'mnuchin', 'sentiment': 'none'},\n",
       "   {'name': 'trump', 'sentiment': 'none'}],\n",
       "  'locations': [{'name': 'argentina', 'sentiment': 'none'},\n",
       "   {'name': 'u.s.', 'sentiment': 'none'},\n",
       "   {'name': 'new york', 'sentiment': 'none'},\n",
       "   {'name': 'mexico', 'sentiment': 'none'}],\n",
       "  'organizations': [{'name': 'reuters', 'sentiment': 'none'},\n",
       "   {'name': 'u.s. treasury', 'sentiment': 'none'}]},\n",
       " 'highlightText': '',\n",
       " 'language': 'english',\n",
       " 'persons': [],\n",
       " 'text': '(Updates prices, adds Trump comments) By Rodrigo Campos NEW YORK, Jan 25 (Reuters) - Mexico\\'s peso seesawed against the dollar on Thursday as U.S. officials sent mixed signals on the greenback, while Argentina\\'s Merval stock index broke the 35,000-point mark for the first time. Several emerging currencies hit multi-year highs against the greenback, with the dollar index languishing at more than three-year lows after U.S. Treasury Secretary Steven Mnuchin departed from traditional U.S. currency policy, saying \"obviously a weaker dollar is good for us.\" The Mexican peso appreciated by more than 1 percent to 18.3025 earlier in the day before U.S. President Donald Trump said Mnuchin had been misinterpreted and that he ultimately wanted the dollar to be strong. Trump\\'s comments helped the dollar to pare losses against major currencies, and the Mexican peso reversed its gains, closing down almost 0.6 percent against the greenback. Elsewhere, Colombia\\'s peso added to Wednesday\\'s 1.48 percent gain against the dollar to reach its strongest level since July 2015, while the Chilean peso closed under 600 per dollar for the first time since May 2015. Brazilian markets were closed for the Sao Paulo anniversary holiday but are expected to soon extend a rally that boosted the benchmark Bovespa stock index to an all-time high above 83,000 points on Wednesday. That advance came after an appeals court upheld a corruption conviction of former President Luiz Inacio Lula da Silva. Although the conviction could derail his plans to run again for the presidency, Lula, who is leading opinion polls for the October election, said on Thursday he would appeal the decision. Brazilian and Argentine shares have led a Latin American equities rally to start the year that has MSCI\\'s gauge of the region\\'s stocks set for its largest January gains since 2006. The Merval closed up 0.55 percent at 35,141.72 points. Key Latin American stock indexes and currencies at 2145 GMT: Stock indexes Latest Daily YTD pct pct change change MSCI Emerging Markets 1,263.45 0.37 9.06 MSCI LatAm 3,201.95 1.01 13.22 Mexico IPC 50,777.90 0.27 3.09 Chile IPSA 5,811.54 0.23 4.44 Chile IGPA 29,216.54 0.23 4.42 Argentina Merval 35,141.72 0.55 16.88 Colombia IGBC 12,307.20 -0.06 8.24 Currencies Latest Daily YTD pct pct change change Brazil real 3.1470 0.35 5.28 Mexico peso 18.6100 -0.57 5.85 Chile peso 598.60 0.7 2.68 Colombia peso 2,790 0.84 6.88 Peru sol 3.210 0.09 0.84 Argentina peso (interbank) 19.56 0.38 -4.91 Argentina peso (parallel) 19.91 0.35 -3.42 (Reporting by Rodrigo Campos; Editing by Bernadette Baum and Chris Reese)\\n ',\n",
       " 'external_links': [],\n",
       " 'published': '2018-01-26T01:01:00.000+02:00',\n",
       " 'crawled': '2018-01-26T01:31:46.014+02:00',\n",
       " 'highlightTitle': ''}"
      ]
     },
     "execution_count": 11,
     "metadata": {},
     "output_type": "execute_result"
    }
   ],
   "source": [
    "one_sample = json.load(\n",
    "    open(os.path.join(directory_path, subdir, sample)))\n",
    "one_sample"
   ]
  },
  {
   "cell_type": "code",
   "execution_count": 12,
   "id": "cc2d243e-87fc-40cc-8370-cd969b3f95b5",
   "metadata": {},
   "outputs": [
    {
     "data": {
      "text/plain": [
       "{'section_title': 'Reuters: Company News',\n",
       " 'country': 'US',\n",
       " 'site': 'reuters.com',\n",
       " 'title_full': '',\n",
       " 'author': '',\n",
       " 'url': 'https://www.reuters.com/article/emerging-markets-latam/emerging-markets-mexican-peso-seesaws-over-dollar-argentina-stocks-hit-record-idUSL2N1PK1XS',\n",
       " 'title': 'EMERGING MARKETS-Mexican peso seesaws over dollar; Argentina stocks hit record',\n",
       " 'persons': [{'name': 'argen', 'sentiment': 'negative'},\n",
       "  {'name': 'donald trump', 'sentiment': 'none'},\n",
       "  {'name': 'rodrigo campos', 'sentiment': 'none'},\n",
       "  {'name': 'steven mnuchin', 'sentiment': 'none'},\n",
       "  {'name': 'mnuchin', 'sentiment': 'none'},\n",
       "  {'name': 'trump', 'sentiment': 'none'}],\n",
       " 'locations': [{'name': 'argentina', 'sentiment': 'none'},\n",
       "  {'name': 'u.s.', 'sentiment': 'none'},\n",
       "  {'name': 'new york', 'sentiment': 'none'},\n",
       "  {'name': 'mexico', 'sentiment': 'none'}],\n",
       " 'organizations': [{'name': 'reuters', 'sentiment': 'none'},\n",
       "  {'name': 'u.s. treasury', 'sentiment': 'none'}],\n",
       " 'text': '(Updates prices, adds Trump comments) By Rodrigo Campos NEW YORK, Jan 25 (Reuters) - Mexico\\'s peso seesawed against the dollar on Thursday as U.S. officials sent mixed signals on the greenback, while Argentina\\'s Merval stock index broke the 35,000-point mark for the first time. Several emerging currencies hit multi-year highs against the greenback, with the dollar index languishing at more than three-year lows after U.S. Treasury Secretary Steven Mnuchin departed from traditional U.S. currency policy, saying \"obviously a weaker dollar is good for us.\" The Mexican peso appreciated by more than 1 percent to 18.3025 earlier in the day before U.S. President Donald Trump said Mnuchin had been misinterpreted and that he ultimately wanted the dollar to be strong. Trump\\'s comments helped the dollar to pare losses against major currencies, and the Mexican peso reversed its gains, closing down almost 0.6 percent against the greenback. Elsewhere, Colombia\\'s peso added to Wednesday\\'s 1.48 percent gain against the dollar to reach its strongest level since July 2015, while the Chilean peso closed under 600 per dollar for the first time since May 2015. Brazilian markets were closed for the Sao Paulo anniversary holiday but are expected to soon extend a rally that boosted the benchmark Bovespa stock index to an all-time high above 83,000 points on Wednesday. That advance came after an appeals court upheld a corruption conviction of former President Luiz Inacio Lula da Silva. Although the conviction could derail his plans to run again for the presidency, Lula, who is leading opinion polls for the October election, said on Thursday he would appeal the decision. Brazilian and Argentine shares have led a Latin American equities rally to start the year that has MSCI\\'s gauge of the region\\'s stocks set for its largest January gains since 2006. The Merval closed up 0.55 percent at 35,141.72 points. Key Latin American stock indexes and currencies at 2145 GMT: Stock indexes Latest Daily YTD pct pct change change MSCI Emerging Markets 1,263.45 0.37 9.06 MSCI LatAm 3,201.95 1.01 13.22 Mexico IPC 50,777.90 0.27 3.09 Chile IPSA 5,811.54 0.23 4.44 Chile IGPA 29,216.54 0.23 4.42 Argentina Merval 35,141.72 0.55 16.88 Colombia IGBC 12,307.20 -0.06 8.24 Currencies Latest Daily YTD pct pct change change Brazil real 3.1470 0.35 5.28 Mexico peso 18.6100 -0.57 5.85 Chile peso 598.60 0.7 2.68 Colombia peso 2,790 0.84 6.88 Peru sol 3.210 0.09 0.84 Argentina peso (interbank) 19.56 0.38 -4.91 Argentina peso (parallel) 19.91 0.35 -3.42 (Reporting by Rodrigo Campos; Editing by Bernadette Baum and Chris Reese)\\n ',\n",
       " 'published': '2018-01-26T01:01:00.000+02:00'}"
      ]
     },
     "execution_count": 12,
     "metadata": {},
     "output_type": "execute_result"
    }
   ],
   "source": [
    "first_lvl = ['text', 'published', 'entities', 'title', 'url', 'author']\n",
    "thread = ['title_full', 'country', 'section_title', 'site']\n",
    "\n",
    "parse_json(one_sample)"
   ]
  },
  {
   "cell_type": "code",
   "execution_count": 13,
   "id": "22056c15-2557-447b-87e6-2c09978318bd",
   "metadata": {},
   "outputs": [
    {
     "name": "stdout",
     "output_type": "stream",
     "text": [
      "CPU times: user 1min 31s, sys: 1min 37s, total: 3min 9s\n",
      "Wall time: 4min 55s\n"
     ]
    }
   ],
   "source": [
    "%%time\n",
    "data = []\n",
    "\n",
    "for subdir in subdirs:\n",
    "    for filename in os.listdir(os.path.join(directory_path, subdir)):\n",
    "        if filename.endswith(\".json\"):\n",
    "            with open(os.path.join(directory_path, subdir, filename), \"r\") as json_file:\n",
    "                json_data = parse_json(json.load(json_file))\n",
    "                data.append(json_data)\n",
    "\n",
    "us_financial_news = pd.DataFrame(data)"
   ]
  },
  {
   "cell_type": "code",
   "execution_count": 14,
   "id": "4f41739e-b1e3-4c68-bcaa-81e7ea6220bb",
   "metadata": {},
   "outputs": [
    {
     "data": {
      "text/plain": [
       "(306242, 12)"
      ]
     },
     "execution_count": 14,
     "metadata": {},
     "output_type": "execute_result"
    }
   ],
   "source": [
    "us_financial_news.shape"
   ]
  },
  {
   "cell_type": "code",
   "execution_count": 15,
   "id": "62bca286-3be7-4f9f-a5a6-deb94a6b8990",
   "metadata": {},
   "outputs": [
    {
     "data": {
      "text/html": [
       "<div>\n",
       "<style scoped>\n",
       "    .dataframe tbody tr th:only-of-type {\n",
       "        vertical-align: middle;\n",
       "    }\n",
       "\n",
       "    .dataframe tbody tr th {\n",
       "        vertical-align: top;\n",
       "    }\n",
       "\n",
       "    .dataframe thead th {\n",
       "        text-align: right;\n",
       "    }\n",
       "</style>\n",
       "<table border=\"1\" class=\"dataframe\">\n",
       "  <thead>\n",
       "    <tr style=\"text-align: right;\">\n",
       "      <th></th>\n",
       "      <th>section_title</th>\n",
       "      <th>country</th>\n",
       "      <th>site</th>\n",
       "      <th>title_full</th>\n",
       "      <th>author</th>\n",
       "      <th>url</th>\n",
       "      <th>title</th>\n",
       "      <th>persons</th>\n",
       "      <th>locations</th>\n",
       "      <th>organizations</th>\n",
       "      <th>text</th>\n",
       "      <th>published</th>\n",
       "    </tr>\n",
       "  </thead>\n",
       "  <tbody>\n",
       "    <tr>\n",
       "      <th>0</th>\n",
       "      <td>Reuters: Company News</td>\n",
       "      <td>US</td>\n",
       "      <td>reuters.com</td>\n",
       "      <td></td>\n",
       "      <td></td>\n",
       "      <td>https://www.reuters.com/article/emerging-marke...</td>\n",
       "      <td>EMERGING MARKETS-Mexican peso seesaws over dol...</td>\n",
       "      <td>[{'name': 'argen', 'sentiment': 'negative'}, {...</td>\n",
       "      <td>[{'name': 'argentina', 'sentiment': 'none'}, {...</td>\n",
       "      <td>[{'name': 'reuters', 'sentiment': 'none'}, {'n...</td>\n",
       "      <td>(Updates prices, adds Trump comments) By Rodri...</td>\n",
       "      <td>2018-01-26T01:01:00.000+02:00</td>\n",
       "    </tr>\n",
       "    <tr>\n",
       "      <th>1</th>\n",
       "      <td>World News | Reuters.com</td>\n",
       "      <td>US</td>\n",
       "      <td>reuters.com</td>\n",
       "      <td></td>\n",
       "      <td>Reuters Editorial</td>\n",
       "      <td>https://www.reuters.com/article/us-germany-ant...</td>\n",
       "      <td>Migrants must visit Nazi concentration camps, ...</td>\n",
       "      <td>[{'name': 'josef schuster', 'sentiment': 'none...</td>\n",
       "      <td>[{'name': 'berlin', 'sentiment': 'none'}, {'na...</td>\n",
       "      <td>[{'name': 'nazi', 'sentiment': 'negative'}, {'...</td>\n",
       "      <td>BERLIN (Reuters) - New migrants to Germany mus...</td>\n",
       "      <td>2018-01-10T21:52:00.000+02:00</td>\n",
       "    </tr>\n",
       "    <tr>\n",
       "      <th>2</th>\n",
       "      <td>Reuters Video: Latest Videos US</td>\n",
       "      <td>US</td>\n",
       "      <td>reuters.com</td>\n",
       "      <td></td>\n",
       "      <td></td>\n",
       "      <td>https://www.reuters.com/video/2018/01/24/euro-...</td>\n",
       "      <td>Euro zone businesses start 2018 on decade high</td>\n",
       "      <td>[{'name': 'david pollard', 'sentiment': 'none'}]</td>\n",
       "      <td>[{'name': 'germany', 'sentiment': 'none'}]</td>\n",
       "      <td>[]</td>\n",
       "      <td>Euro zone businesses start 2018 on decade high...</td>\n",
       "      <td>2018-01-24T19:14:00.000+02:00</td>\n",
       "    </tr>\n",
       "    <tr>\n",
       "      <th>3</th>\n",
       "      <td>russia news - Google News</td>\n",
       "      <td>US</td>\n",
       "      <td>reuters.com</td>\n",
       "      <td></td>\n",
       "      <td></td>\n",
       "      <td>https://www.reuters.com/article/us-mideast-cri...</td>\n",
       "      <td>Russia's Lavrov says 'unilateral actions' by U...</td>\n",
       "      <td>[{'name': 'lavrov', 'sentiment': 'negative'}, ...</td>\n",
       "      <td>[{'name': 'turkey', 'sentiment': 'none'}, {'na...</td>\n",
       "      <td>[{'name': 'reuters', 'sentiment': 'negative'},...</td>\n",
       "      <td>MOSCOW (Reuters) - “Unilateral actions” by the...</td>\n",
       "      <td>2018-01-21T20:31:00.000+02:00</td>\n",
       "    </tr>\n",
       "    <tr>\n",
       "      <th>4</th>\n",
       "      <td>California</td>\n",
       "      <td>US</td>\n",
       "      <td>cnbc.com</td>\n",
       "      <td></td>\n",
       "      <td>cnbc.com</td>\n",
       "      <td>https://www.cnbc.com/2018/01/12/the-associated...</td>\n",
       "      <td>Lawmakers to Justice Department: Keep online g...</td>\n",
       "      <td>[{'name': 'cory booker', 'sentiment': 'none'},...</td>\n",
       "      <td>[{'name': 'n.j.', 'sentiment': 'none'}, {'name...</td>\n",
       "      <td>[{'name': 'justice department', 'sentiment': '...</td>\n",
       "      <td>ATLANTIC CITY, N.J. (AP) — Federal lawmakers w...</td>\n",
       "      <td>2018-01-12T16:55:00.000+02:00</td>\n",
       "    </tr>\n",
       "  </tbody>\n",
       "</table>\n",
       "</div>"
      ],
      "text/plain": [
       "                     section_title country         site title_full  \\\n",
       "0            Reuters: Company News      US  reuters.com              \n",
       "1         World News | Reuters.com      US  reuters.com              \n",
       "2  Reuters Video: Latest Videos US      US  reuters.com              \n",
       "3        russia news - Google News      US  reuters.com              \n",
       "4                       California      US     cnbc.com              \n",
       "\n",
       "              author                                                url  \\\n",
       "0                     https://www.reuters.com/article/emerging-marke...   \n",
       "1  Reuters Editorial  https://www.reuters.com/article/us-germany-ant...   \n",
       "2                     https://www.reuters.com/video/2018/01/24/euro-...   \n",
       "3                     https://www.reuters.com/article/us-mideast-cri...   \n",
       "4           cnbc.com  https://www.cnbc.com/2018/01/12/the-associated...   \n",
       "\n",
       "                                               title  \\\n",
       "0  EMERGING MARKETS-Mexican peso seesaws over dol...   \n",
       "1  Migrants must visit Nazi concentration camps, ...   \n",
       "2     Euro zone businesses start 2018 on decade high   \n",
       "3  Russia's Lavrov says 'unilateral actions' by U...   \n",
       "4  Lawmakers to Justice Department: Keep online g...   \n",
       "\n",
       "                                             persons  \\\n",
       "0  [{'name': 'argen', 'sentiment': 'negative'}, {...   \n",
       "1  [{'name': 'josef schuster', 'sentiment': 'none...   \n",
       "2   [{'name': 'david pollard', 'sentiment': 'none'}]   \n",
       "3  [{'name': 'lavrov', 'sentiment': 'negative'}, ...   \n",
       "4  [{'name': 'cory booker', 'sentiment': 'none'},...   \n",
       "\n",
       "                                           locations  \\\n",
       "0  [{'name': 'argentina', 'sentiment': 'none'}, {...   \n",
       "1  [{'name': 'berlin', 'sentiment': 'none'}, {'na...   \n",
       "2         [{'name': 'germany', 'sentiment': 'none'}]   \n",
       "3  [{'name': 'turkey', 'sentiment': 'none'}, {'na...   \n",
       "4  [{'name': 'n.j.', 'sentiment': 'none'}, {'name...   \n",
       "\n",
       "                                       organizations  \\\n",
       "0  [{'name': 'reuters', 'sentiment': 'none'}, {'n...   \n",
       "1  [{'name': 'nazi', 'sentiment': 'negative'}, {'...   \n",
       "2                                                 []   \n",
       "3  [{'name': 'reuters', 'sentiment': 'negative'},...   \n",
       "4  [{'name': 'justice department', 'sentiment': '...   \n",
       "\n",
       "                                                text  \\\n",
       "0  (Updates prices, adds Trump comments) By Rodri...   \n",
       "1  BERLIN (Reuters) - New migrants to Germany mus...   \n",
       "2  Euro zone businesses start 2018 on decade high...   \n",
       "3  MOSCOW (Reuters) - “Unilateral actions” by the...   \n",
       "4  ATLANTIC CITY, N.J. (AP) — Federal lawmakers w...   \n",
       "\n",
       "                       published  \n",
       "0  2018-01-26T01:01:00.000+02:00  \n",
       "1  2018-01-10T21:52:00.000+02:00  \n",
       "2  2018-01-24T19:14:00.000+02:00  \n",
       "3  2018-01-21T20:31:00.000+02:00  \n",
       "4  2018-01-12T16:55:00.000+02:00  "
      ]
     },
     "execution_count": 15,
     "metadata": {},
     "output_type": "execute_result"
    }
   ],
   "source": [
    "us_financial_news.head()"
   ]
  },
  {
   "cell_type": "code",
   "execution_count": 64,
   "id": "45e6bab0-022b-4dae-9e80-c77ef9805f36",
   "metadata": {},
   "outputs": [
    {
     "name": "stdout",
     "output_type": "stream",
     "text": [
      "<class 'pandas.core.frame.DataFrame'>\n",
      "RangeIndex: 306242 entries, 0 to 306241\n",
      "Data columns (total 12 columns):\n",
      " #   Column         Non-Null Count   Dtype \n",
      "---  ------         --------------   ----- \n",
      " 0   section_title  306242 non-null  object\n",
      " 1   country        306242 non-null  object\n",
      " 2   site           306242 non-null  object\n",
      " 3   title_full     306242 non-null  object\n",
      " 4   author         306242 non-null  object\n",
      " 5   url            306242 non-null  object\n",
      " 6   title          306242 non-null  object\n",
      " 7   persons        306242 non-null  object\n",
      " 8   locations      306242 non-null  object\n",
      " 9   organizations  306242 non-null  object\n",
      " 10  text           306242 non-null  object\n",
      " 11  published      306242 non-null  object\n",
      "dtypes: object(12)\n",
      "memory usage: 28.0+ MB\n"
     ]
    }
   ],
   "source": [
    "us_financial_news.info()"
   ]
  },
  {
   "cell_type": "code",
   "execution_count": 65,
   "id": "432e1d29-ca46-46b6-a753-6358822b39ac",
   "metadata": {},
   "outputs": [
    {
     "data": {
      "text/plain": [
       "Press Releases - CNBC                                                                                                        44810\n",
       "Reuters: Company News                                                                                                        25399\n",
       "Reuters: World News                                                                                                          17420\n",
       "                                                                                                                             12174\n",
       "Latest Video                                                                                                                 10336\n",
       "                                                                                                                             ...  \n",
       "Term Sheet — Friday, February 16 – Fortune                                                                                       1\n",
       "Cryptocurrency Traders Lose $115 Billion in 24 Hours as Bitcoin Bloodbath Continues – Fortune                                    1\n",
       "‘You Get Sexual Advances 24/7’: What It’s Really Like to Be a Female Engineer In Silicon Valley – Fortune                        1\n",
       "A Billionaire Silicon Valley VC Is So Eager to Keep Surfers Off His Beach He’s Taking Them to the Supreme Court – Fortune        1\n",
       "Here Are 5 Things to Watch For at the 2018 Berkshire Hathaway Shareholder Meeting – Fortune                                      1\n",
       "Name: section_title, Length: 1202, dtype: int64"
      ]
     },
     "execution_count": 65,
     "metadata": {},
     "output_type": "execute_result"
    }
   ],
   "source": [
    "us_financial_news['section_title'].value_counts()"
   ]
  },
  {
   "cell_type": "code",
   "execution_count": 66,
   "id": "75c61421-03ef-4310-8a4f-b30e4199ff57",
   "metadata": {},
   "outputs": [
    {
     "data": {
      "text/plain": [
       "US    306242\n",
       "Name: country, dtype: int64"
      ]
     },
     "execution_count": 66,
     "metadata": {},
     "output_type": "execute_result"
    }
   ],
   "source": [
    "us_financial_news['country'].value_counts()"
   ]
  },
  {
   "cell_type": "code",
   "execution_count": 67,
   "id": "37151673-bf09-44e0-b5b7-114471138c61",
   "metadata": {},
   "outputs": [
    {
     "data": {
      "text/plain": [
       "reuters.com    197514\n",
       "cnbc.com        85197\n",
       "wsj.com         17794\n",
       "fortune.com      5737\n",
       "Name: site, dtype: int64"
      ]
     },
     "execution_count": 67,
     "metadata": {},
     "output_type": "execute_result"
    }
   ],
   "source": [
    "us_financial_news['site'].value_counts()"
   ]
  },
  {
   "cell_type": "code",
   "execution_count": 68,
   "id": "87b9f6d6-0c10-4bd9-97d0-8a157253d7e7",
   "metadata": {},
   "outputs": [
    {
     "data": {
      "text/plain": [
       "                         126876\n",
       "Reuters Editorial         86963\n",
       "cnbc.com                  52528\n",
       "wsjcom                     1146\n",
       "Bloomberg                   794\n",
       "                          ...  \n",
       "Melissa Blake                 1\n",
       "Jeff Swensen                  1\n",
       "Bozorgmehr Sharafedin         1\n",
       "Alana Schetzer                1\n",
       "Galen Guengerich              1\n",
       "Name: author, Length: 4441, dtype: int64"
      ]
     },
     "execution_count": 68,
     "metadata": {},
     "output_type": "execute_result"
    }
   ],
   "source": [
    "us_financial_news['author'].value_counts()"
   ]
  },
  {
   "cell_type": "code",
   "execution_count": 69,
   "id": "ca4dfc7a-5160-4ba1-b5ee-2510df306ee8",
   "metadata": {},
   "outputs": [
    {
     "data": {
      "text/plain": [
       "[]                                                                                                                                                                                                                              81898\n",
       "[{'name': 'u.s.', 'sentiment': 'none'}]                                                                                                                                                                                          6863\n",
       "[{'name': 'hong kong', 'sentiment': 'none'}]                                                                                                                                                                                     2801\n",
       "[{'name': 'new york', 'sentiment': 'none'}]                                                                                                                                                                                      2505\n",
       "[{'name': 'london', 'sentiment': 'none'}]                                                                                                                                                                                        1362\n",
       "                                                                                                                                                                                                                                ...  \n",
       "[{'name': 'california', 'sentiment': 'none'}, {'name': 'staples center', 'sentiment': 'none'}, {'name': 'washington', 'sentiment': 'none'}]                                                                                         1\n",
       "[{'name': 'north korea', 'sentiment': 'none'}, {'name': 'south korea', 'sentiment': 'none'}, {'name': 'u.s.', 'sentiment': 'none'}, {'name': 'united states', 'sentiment': 'none'}, {'name': 'london', 'sentiment': 'none'}]        1\n",
       "[{'name': 'syria', 'sentiment': 'none'}, {'name': 'turkey', 'sentiment': 'none'}, {'name': 'afrin', 'sentiment': 'none'}, {'name': 'istanbul', 'sentiment': 'none'}]                                                                1\n",
       "[{'name': 'new york', 'sentiment': 'none'}, {'name': 'knotel', 'sentiment': 'none'}]                                                                                                                                                1\n",
       "[{'name': 'iran', 'sentiment': 'none'}, {'name': 'vienna', 'sentiment': 'none'}, {'name': 'u.s.', 'sentiment': 'none'}, {'name': 'arak', 'sentiment': 'none'}]                                                                      1\n",
       "Name: locations, Length: 106352, dtype: int64"
      ]
     },
     "execution_count": 69,
     "metadata": {},
     "output_type": "execute_result"
    }
   ],
   "source": [
    "us_financial_news['locations'].value_counts()"
   ]
  },
  {
   "cell_type": "markdown",
   "id": "9edcc51d-b533-49f6-a738-8f7f8eee036d",
   "metadata": {},
   "source": [
    "# Make train data"
   ]
  },
  {
   "cell_type": "code",
   "execution_count": 10,
   "id": "d52c6220-4358-4754-b0fc-19e0b968c9b6",
   "metadata": {},
   "outputs": [
    {
     "data": {
      "text/html": [
       "<div>\n",
       "<style scoped>\n",
       "    .dataframe tbody tr th:only-of-type {\n",
       "        vertical-align: middle;\n",
       "    }\n",
       "\n",
       "    .dataframe tbody tr th {\n",
       "        vertical-align: top;\n",
       "    }\n",
       "\n",
       "    .dataframe thead th {\n",
       "        text-align: right;\n",
       "    }\n",
       "</style>\n",
       "<table border=\"1\" class=\"dataframe\">\n",
       "  <thead>\n",
       "    <tr style=\"text-align: right;\">\n",
       "      <th></th>\n",
       "      <th>Headlines</th>\n",
       "      <th>Description</th>\n",
       "    </tr>\n",
       "  </thead>\n",
       "  <tbody>\n",
       "    <tr>\n",
       "      <th>0</th>\n",
       "      <td>Jim Cramer: A better way to invest in the Covi...</td>\n",
       "      <td>\"Mad Money\" host Jim Cramer recommended buying...</td>\n",
       "    </tr>\n",
       "    <tr>\n",
       "      <th>1</th>\n",
       "      <td>Cramer's lightning round: I would own Teradyne</td>\n",
       "      <td>\"Mad Money\" host Jim Cramer rings the lightnin...</td>\n",
       "    </tr>\n",
       "    <tr>\n",
       "      <th>3</th>\n",
       "      <td>Cramer's week ahead: Big week for earnings, ev...</td>\n",
       "      <td>\"We'll pay more for the earnings of the non-Co...</td>\n",
       "    </tr>\n",
       "    <tr>\n",
       "      <th>4</th>\n",
       "      <td>IQ Capital CEO Keith Bliss says tech and healt...</td>\n",
       "      <td>Keith Bliss, IQ Capital CEO, joins \"Closing Be...</td>\n",
       "    </tr>\n",
       "    <tr>\n",
       "      <th>5</th>\n",
       "      <td>Wall Street delivered the 'kind of pullback I'...</td>\n",
       "      <td>\"Look for the stocks of high-quality companies...</td>\n",
       "    </tr>\n",
       "    <tr>\n",
       "      <th>...</th>\n",
       "      <td>...</td>\n",
       "      <td>...</td>\n",
       "    </tr>\n",
       "    <tr>\n",
       "      <th>3075</th>\n",
       "      <td>Markets lack Christmas cheer</td>\n",
       "      <td>According to Kensho, here's how markets have f...</td>\n",
       "    </tr>\n",
       "    <tr>\n",
       "      <th>3076</th>\n",
       "      <td>Cramer Remix: The biggest mistake you can make...</td>\n",
       "      <td>Jim Cramer revealed his top rule when it comes...</td>\n",
       "    </tr>\n",
       "    <tr>\n",
       "      <th>3077</th>\n",
       "      <td>Cramer says owning too many stocks and too lit...</td>\n",
       "      <td>Jim Cramer broke down why owning fewer stocks ...</td>\n",
       "    </tr>\n",
       "    <tr>\n",
       "      <th>3078</th>\n",
       "      <td>Cramer: I helped investors through the 2010 fl...</td>\n",
       "      <td>Jim Cramer built on his \"nobody ever made a di...</td>\n",
       "    </tr>\n",
       "    <tr>\n",
       "      <th>3079</th>\n",
       "      <td>Cramer: Never buy a stock all at once — you'll...</td>\n",
       "      <td>Jim Cramer doubled down on his key investing r...</td>\n",
       "    </tr>\n",
       "  </tbody>\n",
       "</table>\n",
       "<p>2800 rows × 2 columns</p>\n",
       "</div>"
      ],
      "text/plain": [
       "                                              Headlines  \\\n",
       "0     Jim Cramer: A better way to invest in the Covi...   \n",
       "1        Cramer's lightning round: I would own Teradyne   \n",
       "3     Cramer's week ahead: Big week for earnings, ev...   \n",
       "4     IQ Capital CEO Keith Bliss says tech and healt...   \n",
       "5     Wall Street delivered the 'kind of pullback I'...   \n",
       "...                                                 ...   \n",
       "3075                       Markets lack Christmas cheer   \n",
       "3076  Cramer Remix: The biggest mistake you can make...   \n",
       "3077  Cramer says owning too many stocks and too lit...   \n",
       "3078  Cramer: I helped investors through the 2010 fl...   \n",
       "3079  Cramer: Never buy a stock all at once — you'll...   \n",
       "\n",
       "                                            Description  \n",
       "0     \"Mad Money\" host Jim Cramer recommended buying...  \n",
       "1     \"Mad Money\" host Jim Cramer rings the lightnin...  \n",
       "3     \"We'll pay more for the earnings of the non-Co...  \n",
       "4     Keith Bliss, IQ Capital CEO, joins \"Closing Be...  \n",
       "5     \"Look for the stocks of high-quality companies...  \n",
       "...                                                 ...  \n",
       "3075  According to Kensho, here's how markets have f...  \n",
       "3076  Jim Cramer revealed his top rule when it comes...  \n",
       "3077  Jim Cramer broke down why owning fewer stocks ...  \n",
       "3078  Jim Cramer built on his \"nobody ever made a di...  \n",
       "3079  Jim Cramer doubled down on his key investing r...  \n",
       "\n",
       "[2800 rows x 2 columns]"
      ]
     },
     "execution_count": 10,
     "metadata": {},
     "output_type": "execute_result"
    }
   ],
   "source": [
    "cnbc_headlines_df[['Headlines', 'Description']].dropna()"
   ]
  },
  {
   "cell_type": "code",
   "execution_count": 13,
   "id": "96c0d66b-9734-4235-8f5d-7bd69132339e",
   "metadata": {},
   "outputs": [
    {
     "data": {
      "text/html": [
       "<div>\n",
       "<style scoped>\n",
       "    .dataframe tbody tr th:only-of-type {\n",
       "        vertical-align: middle;\n",
       "    }\n",
       "\n",
       "    .dataframe tbody tr th {\n",
       "        vertical-align: top;\n",
       "    }\n",
       "\n",
       "    .dataframe thead th {\n",
       "        text-align: right;\n",
       "    }\n",
       "</style>\n",
       "<table border=\"1\" class=\"dataframe\">\n",
       "  <thead>\n",
       "    <tr style=\"text-align: right;\">\n",
       "      <th></th>\n",
       "      <th>Headlines</th>\n",
       "      <th>Description</th>\n",
       "    </tr>\n",
       "  </thead>\n",
       "  <tbody>\n",
       "    <tr>\n",
       "      <th>0</th>\n",
       "      <td>TikTok considers London and other locations fo...</td>\n",
       "      <td>TikTok has been in discussions with the UK gov...</td>\n",
       "    </tr>\n",
       "    <tr>\n",
       "      <th>1</th>\n",
       "      <td>Disney cuts ad spending on Facebook amid growi...</td>\n",
       "      <td>Walt Disney  has become the latest company to ...</td>\n",
       "    </tr>\n",
       "    <tr>\n",
       "      <th>2</th>\n",
       "      <td>Trail of missing Wirecard executive leads to B...</td>\n",
       "      <td>Former Wirecard  chief operating officer Jan M...</td>\n",
       "    </tr>\n",
       "    <tr>\n",
       "      <th>3</th>\n",
       "      <td>Twitter says attackers downloaded data from up...</td>\n",
       "      <td>Twitter Inc said on Saturday that hackers were...</td>\n",
       "    </tr>\n",
       "    <tr>\n",
       "      <th>4</th>\n",
       "      <td>U.S. Republicans seek liability protections as...</td>\n",
       "      <td>A battle in the U.S. Congress over a new coron...</td>\n",
       "    </tr>\n",
       "    <tr>\n",
       "      <th>...</th>\n",
       "      <td>...</td>\n",
       "      <td>...</td>\n",
       "    </tr>\n",
       "    <tr>\n",
       "      <th>32765</th>\n",
       "      <td>Malaysia says never hired British data firm at...</td>\n",
       "      <td>The Malaysian government and the ruling party ...</td>\n",
       "    </tr>\n",
       "    <tr>\n",
       "      <th>32766</th>\n",
       "      <td>Prosecutors search Volkswagen headquarters in ...</td>\n",
       "      <td>German prosecutors said on Tuesday they had se...</td>\n",
       "    </tr>\n",
       "    <tr>\n",
       "      <th>32767</th>\n",
       "      <td>McDonald's sets greenhouse gas reduction targets</td>\n",
       "      <td>McDonald's Corp on Tuesday announced an approv...</td>\n",
       "    </tr>\n",
       "    <tr>\n",
       "      <th>32768</th>\n",
       "      <td>Pratt &amp; Whitney to deliver spare A320neo engin...</td>\n",
       "      <td>Pratt &amp; Whitney will soon begin deliveries of ...</td>\n",
       "    </tr>\n",
       "    <tr>\n",
       "      <th>32769</th>\n",
       "      <td>UK will always consider ways to improve data l...</td>\n",
       "      <td>Britain will consider any suggestions to give ...</td>\n",
       "    </tr>\n",
       "  </tbody>\n",
       "</table>\n",
       "<p>32770 rows × 2 columns</p>\n",
       "</div>"
      ],
      "text/plain": [
       "                                               Headlines  \\\n",
       "0      TikTok considers London and other locations fo...   \n",
       "1      Disney cuts ad spending on Facebook amid growi...   \n",
       "2      Trail of missing Wirecard executive leads to B...   \n",
       "3      Twitter says attackers downloaded data from up...   \n",
       "4      U.S. Republicans seek liability protections as...   \n",
       "...                                                  ...   \n",
       "32765  Malaysia says never hired British data firm at...   \n",
       "32766  Prosecutors search Volkswagen headquarters in ...   \n",
       "32767   McDonald's sets greenhouse gas reduction targets   \n",
       "32768  Pratt & Whitney to deliver spare A320neo engin...   \n",
       "32769  UK will always consider ways to improve data l...   \n",
       "\n",
       "                                             Description  \n",
       "0      TikTok has been in discussions with the UK gov...  \n",
       "1      Walt Disney  has become the latest company to ...  \n",
       "2      Former Wirecard  chief operating officer Jan M...  \n",
       "3      Twitter Inc said on Saturday that hackers were...  \n",
       "4      A battle in the U.S. Congress over a new coron...  \n",
       "...                                                  ...  \n",
       "32765  The Malaysian government and the ruling party ...  \n",
       "32766  German prosecutors said on Tuesday they had se...  \n",
       "32767  McDonald's Corp on Tuesday announced an approv...  \n",
       "32768  Pratt & Whitney will soon begin deliveries of ...  \n",
       "32769  Britain will consider any suggestions to give ...  \n",
       "\n",
       "[32770 rows x 2 columns]"
      ]
     },
     "execution_count": 13,
     "metadata": {},
     "output_type": "execute_result"
    }
   ],
   "source": [
    "reuters_headlines_df[['Headlines', 'Description']].dropna()"
   ]
  },
  {
   "cell_type": "code",
   "execution_count": 18,
   "id": "02f33cb3-3456-432b-a6b4-a7aae5d7ec01",
   "metadata": {},
   "outputs": [
    {
     "data": {
      "text/html": [
       "<div>\n",
       "<style scoped>\n",
       "    .dataframe tbody tr th:only-of-type {\n",
       "        vertical-align: middle;\n",
       "    }\n",
       "\n",
       "    .dataframe tbody tr th {\n",
       "        vertical-align: top;\n",
       "    }\n",
       "\n",
       "    .dataframe thead th {\n",
       "        text-align: right;\n",
       "    }\n",
       "</style>\n",
       "<table border=\"1\" class=\"dataframe\">\n",
       "  <thead>\n",
       "    <tr style=\"text-align: right;\">\n",
       "      <th></th>\n",
       "      <th>Headline</th>\n",
       "      <th>Article</th>\n",
       "    </tr>\n",
       "  </thead>\n",
       "  <tbody>\n",
       "    <tr>\n",
       "      <th>0</th>\n",
       "      <td>Exxon Mobil offers plan to end Alaska dispute</td>\n",
       "      <td>ANCHORAGE, Alaska  (Reuters) - Exxon Mobil ( X...</td>\n",
       "    </tr>\n",
       "    <tr>\n",
       "      <th>1</th>\n",
       "      <td>Hey buddy, can you spare $600 for a Google share?</td>\n",
       "      <td>SAN FRANCISCO/NEW YORK  (Reuters) - Wall Stree...</td>\n",
       "    </tr>\n",
       "    <tr>\n",
       "      <th>2</th>\n",
       "      <td>AOL CEO says sales may shrink for two years -p...</td>\n",
       "      <td>FRANKFURT  (Reuters) - Internet service provid...</td>\n",
       "    </tr>\n",
       "    <tr>\n",
       "      <th>3</th>\n",
       "      <td>Fed to keep hawkish tone, hold rates steady</td>\n",
       "      <td>WASHINGTON  (Reuters) - The central bank is ex...</td>\n",
       "    </tr>\n",
       "    <tr>\n",
       "      <th>4</th>\n",
       "      <td>Pluspetrol says losing $2.4 mln/day in Peru pr...</td>\n",
       "      <td>LIMA, Peru  (Reuters) - Argentine oil company ...</td>\n",
       "    </tr>\n",
       "    <tr>\n",
       "      <th>...</th>\n",
       "      <td>...</td>\n",
       "      <td>...</td>\n",
       "    </tr>\n",
       "    <tr>\n",
       "      <th>106489</th>\n",
       "      <td>JPMorgan agrees $13 billion settlement with U....</td>\n",
       "      <td>NEW YORK/WASHINGTON  (Reuters) - In late Septe...</td>\n",
       "    </tr>\n",
       "    <tr>\n",
       "      <th>106490</th>\n",
       "      <td>Dow, S&amp;P retreat for second day; Best Buy weighs</td>\n",
       "      <td>NEW YORK  (Reuters) - U.S. stocks fell on Tues...</td>\n",
       "    </tr>\n",
       "    <tr>\n",
       "      <th>106491</th>\n",
       "      <td>Bernanke: looking forward to writing, speaking...</td>\n",
       "      <td>WASHINGTON  (Reuters) - Federal Reserve Chairm...</td>\n",
       "    </tr>\n",
       "    <tr>\n",
       "      <th>106492</th>\n",
       "      <td>Bernanke: Fed committed to easy policy for as ...</td>\n",
       "      <td>WASHINGTON  (Reuters) - Federal Reserve Chairm...</td>\n",
       "    </tr>\n",
       "    <tr>\n",
       "      <th>106493</th>\n",
       "      <td>Analysis: U.S. retailers brace for margin hit ...</td>\n",
       "      <td>(Reuters) - Shoppers like stay-at-home mom Sus...</td>\n",
       "    </tr>\n",
       "  </tbody>\n",
       "</table>\n",
       "<p>106494 rows × 2 columns</p>\n",
       "</div>"
      ],
      "text/plain": [
       "                                                 Headline  \\\n",
       "0           Exxon Mobil offers plan to end Alaska dispute   \n",
       "1       Hey buddy, can you spare $600 for a Google share?   \n",
       "2       AOL CEO says sales may shrink for two years -p...   \n",
       "3             Fed to keep hawkish tone, hold rates steady   \n",
       "4       Pluspetrol says losing $2.4 mln/day in Peru pr...   \n",
       "...                                                   ...   \n",
       "106489  JPMorgan agrees $13 billion settlement with U....   \n",
       "106490   Dow, S&P retreat for second day; Best Buy weighs   \n",
       "106491  Bernanke: looking forward to writing, speaking...   \n",
       "106492  Bernanke: Fed committed to easy policy for as ...   \n",
       "106493  Analysis: U.S. retailers brace for margin hit ...   \n",
       "\n",
       "                                                  Article  \n",
       "0       ANCHORAGE, Alaska  (Reuters) - Exxon Mobil ( X...  \n",
       "1       SAN FRANCISCO/NEW YORK  (Reuters) - Wall Stree...  \n",
       "2       FRANKFURT  (Reuters) - Internet service provid...  \n",
       "3       WASHINGTON  (Reuters) - The central bank is ex...  \n",
       "4       LIMA, Peru  (Reuters) - Argentine oil company ...  \n",
       "...                                                   ...  \n",
       "106489  NEW YORK/WASHINGTON  (Reuters) - In late Septe...  \n",
       "106490  NEW YORK  (Reuters) - U.S. stocks fell on Tues...  \n",
       "106491  WASHINGTON  (Reuters) - Federal Reserve Chairm...  \n",
       "106492  WASHINGTON  (Reuters) - Federal Reserve Chairm...  \n",
       "106493  (Reuters) - Shoppers like stay-at-home mom Sus...  \n",
       "\n",
       "[106494 rows x 2 columns]"
      ]
     },
     "execution_count": 18,
     "metadata": {},
     "output_type": "execute_result"
    }
   ],
   "source": [
    "financial_data[['Headline', 'Article']].dropna()"
   ]
  },
  {
   "cell_type": "code",
   "execution_count": 16,
   "id": "16c7d217-de4a-4b52-bf7c-99b4b9f4c81a",
   "metadata": {},
   "outputs": [
    {
     "data": {
      "text/html": [
       "<div>\n",
       "<style scoped>\n",
       "    .dataframe tbody tr th:only-of-type {\n",
       "        vertical-align: middle;\n",
       "    }\n",
       "\n",
       "    .dataframe tbody tr th {\n",
       "        vertical-align: top;\n",
       "    }\n",
       "\n",
       "    .dataframe thead th {\n",
       "        text-align: right;\n",
       "    }\n",
       "</style>\n",
       "<table border=\"1\" class=\"dataframe\">\n",
       "  <thead>\n",
       "    <tr style=\"text-align: right;\">\n",
       "      <th></th>\n",
       "      <th>title</th>\n",
       "      <th>text</th>\n",
       "    </tr>\n",
       "  </thead>\n",
       "  <tbody>\n",
       "    <tr>\n",
       "      <th>0</th>\n",
       "      <td>EMERGING MARKETS-Mexican peso seesaws over dol...</td>\n",
       "      <td>(Updates prices, adds Trump comments) By Rodri...</td>\n",
       "    </tr>\n",
       "    <tr>\n",
       "      <th>1</th>\n",
       "      <td>Migrants must visit Nazi concentration camps, ...</td>\n",
       "      <td>BERLIN (Reuters) - New migrants to Germany mus...</td>\n",
       "    </tr>\n",
       "    <tr>\n",
       "      <th>2</th>\n",
       "      <td>Euro zone businesses start 2018 on decade high</td>\n",
       "      <td>Euro zone businesses start 2018 on decade high...</td>\n",
       "    </tr>\n",
       "    <tr>\n",
       "      <th>3</th>\n",
       "      <td>Russia's Lavrov says 'unilateral actions' by U...</td>\n",
       "      <td>MOSCOW (Reuters) - “Unilateral actions” by the...</td>\n",
       "    </tr>\n",
       "    <tr>\n",
       "      <th>4</th>\n",
       "      <td>Lawmakers to Justice Department: Keep online g...</td>\n",
       "      <td>ATLANTIC CITY, N.J. (AP) — Federal lawmakers w...</td>\n",
       "    </tr>\n",
       "    <tr>\n",
       "      <th>...</th>\n",
       "      <td>...</td>\n",
       "      <td>...</td>\n",
       "    </tr>\n",
       "    <tr>\n",
       "      <th>306237</th>\n",
       "      <td>Sumtra Diversified Inc. Provides Update on Pro...</td>\n",
       "      <td>TORONTO, May 24, 2018 (GLOBE NEWSWIRE) -- Sumt...</td>\n",
       "    </tr>\n",
       "    <tr>\n",
       "      <th>306238</th>\n",
       "      <td>Here’s the reason so many young people need mo...</td>\n",
       "      <td>Home and rent prices in the United States have...</td>\n",
       "    </tr>\n",
       "    <tr>\n",
       "      <th>306239</th>\n",
       "      <td>Samsung Group's ownership structure unsustaina...</td>\n",
       "      <td>SEOUL (Reuters) - South Korean regulators turn...</td>\n",
       "    </tr>\n",
       "    <tr>\n",
       "      <th>306240</th>\n",
       "      <td>Factbox: A year from the bomb - Iran deal's nu...</td>\n",
       "      <td>VIENNA (Reuters) - The fate of the landmark nu...</td>\n",
       "    </tr>\n",
       "    <tr>\n",
       "      <th>306241</th>\n",
       "      <td>Gaming Innovation Group Q1 EBITDA Up At EUR 4....</td>\n",
       "      <td>May 3 (Reuters) - GAMING INNOVATION GROUP INC:...</td>\n",
       "    </tr>\n",
       "  </tbody>\n",
       "</table>\n",
       "<p>306242 rows × 2 columns</p>\n",
       "</div>"
      ],
      "text/plain": [
       "                                                    title  \\\n",
       "0       EMERGING MARKETS-Mexican peso seesaws over dol...   \n",
       "1       Migrants must visit Nazi concentration camps, ...   \n",
       "2          Euro zone businesses start 2018 on decade high   \n",
       "3       Russia's Lavrov says 'unilateral actions' by U...   \n",
       "4       Lawmakers to Justice Department: Keep online g...   \n",
       "...                                                   ...   \n",
       "306237  Sumtra Diversified Inc. Provides Update on Pro...   \n",
       "306238  Here’s the reason so many young people need mo...   \n",
       "306239  Samsung Group's ownership structure unsustaina...   \n",
       "306240  Factbox: A year from the bomb - Iran deal's nu...   \n",
       "306241  Gaming Innovation Group Q1 EBITDA Up At EUR 4....   \n",
       "\n",
       "                                                     text  \n",
       "0       (Updates prices, adds Trump comments) By Rodri...  \n",
       "1       BERLIN (Reuters) - New migrants to Germany mus...  \n",
       "2       Euro zone businesses start 2018 on decade high...  \n",
       "3       MOSCOW (Reuters) - “Unilateral actions” by the...  \n",
       "4       ATLANTIC CITY, N.J. (AP) — Federal lawmakers w...  \n",
       "...                                                   ...  \n",
       "306237  TORONTO, May 24, 2018 (GLOBE NEWSWIRE) -- Sumt...  \n",
       "306238  Home and rent prices in the United States have...  \n",
       "306239  SEOUL (Reuters) - South Korean regulators turn...  \n",
       "306240  VIENNA (Reuters) - The fate of the landmark nu...  \n",
       "306241  May 3 (Reuters) - GAMING INNOVATION GROUP INC:...  \n",
       "\n",
       "[306242 rows x 2 columns]"
      ]
     },
     "execution_count": 16,
     "metadata": {},
     "output_type": "execute_result"
    }
   ],
   "source": [
    "us_financial_news[['title', 'text']]"
   ]
  },
  {
   "cell_type": "code",
   "execution_count": 25,
   "id": "5f8ccab7-0b9b-48bb-9a07-056f9245ace1",
   "metadata": {},
   "outputs": [],
   "source": [
    "train_news_raw = pd.concat([\n",
    "    cnbc_headlines_df[['Headlines', 'Description']].rename(\n",
    "        columns={'Headlines': 'title', 'Description': 'article'}),\n",
    "    reuters_headlines_df[['Headlines', 'Description']].rename(\n",
    "        columns={'Headlines': 'title', 'Description': 'article'}), \n",
    "    financial_data[['Headline', 'Article']].rename(\n",
    "        columns={'Headline': 'title', 'Article': 'article'}), \n",
    "    us_financial_news[['title', 'text']].rename(\n",
    "        columns={'title': 'title', 'text': 'article'})\n",
    "    ])\\\n",
    "    .dropna()\\\n",
    "    .reset_index(drop=True)"
   ]
  },
  {
   "cell_type": "code",
   "execution_count": 26,
   "id": "ea48d652-af9c-4f04-97af-62bc74f46e26",
   "metadata": {},
   "outputs": [
    {
     "data": {
      "text/html": [
       "<div>\n",
       "<style scoped>\n",
       "    .dataframe tbody tr th:only-of-type {\n",
       "        vertical-align: middle;\n",
       "    }\n",
       "\n",
       "    .dataframe tbody tr th {\n",
       "        vertical-align: top;\n",
       "    }\n",
       "\n",
       "    .dataframe thead th {\n",
       "        text-align: right;\n",
       "    }\n",
       "</style>\n",
       "<table border=\"1\" class=\"dataframe\">\n",
       "  <thead>\n",
       "    <tr style=\"text-align: right;\">\n",
       "      <th></th>\n",
       "      <th>title</th>\n",
       "      <th>article</th>\n",
       "    </tr>\n",
       "  </thead>\n",
       "  <tbody>\n",
       "    <tr>\n",
       "      <th>0</th>\n",
       "      <td>Jim Cramer: A better way to invest in the Covi...</td>\n",
       "      <td>\"Mad Money\" host Jim Cramer recommended buying...</td>\n",
       "    </tr>\n",
       "    <tr>\n",
       "      <th>1</th>\n",
       "      <td>Cramer's lightning round: I would own Teradyne</td>\n",
       "      <td>\"Mad Money\" host Jim Cramer rings the lightnin...</td>\n",
       "    </tr>\n",
       "    <tr>\n",
       "      <th>2</th>\n",
       "      <td>Cramer's week ahead: Big week for earnings, ev...</td>\n",
       "      <td>\"We'll pay more for the earnings of the non-Co...</td>\n",
       "    </tr>\n",
       "    <tr>\n",
       "      <th>3</th>\n",
       "      <td>IQ Capital CEO Keith Bliss says tech and healt...</td>\n",
       "      <td>Keith Bliss, IQ Capital CEO, joins \"Closing Be...</td>\n",
       "    </tr>\n",
       "    <tr>\n",
       "      <th>4</th>\n",
       "      <td>Wall Street delivered the 'kind of pullback I'...</td>\n",
       "      <td>\"Look for the stocks of high-quality companies...</td>\n",
       "    </tr>\n",
       "  </tbody>\n",
       "</table>\n",
       "</div>"
      ],
      "text/plain": [
       "                                               title  \\\n",
       "0  Jim Cramer: A better way to invest in the Covi...   \n",
       "1     Cramer's lightning round: I would own Teradyne   \n",
       "2  Cramer's week ahead: Big week for earnings, ev...   \n",
       "3  IQ Capital CEO Keith Bliss says tech and healt...   \n",
       "4  Wall Street delivered the 'kind of pullback I'...   \n",
       "\n",
       "                                             article  \n",
       "0  \"Mad Money\" host Jim Cramer recommended buying...  \n",
       "1  \"Mad Money\" host Jim Cramer rings the lightnin...  \n",
       "2  \"We'll pay more for the earnings of the non-Co...  \n",
       "3  Keith Bliss, IQ Capital CEO, joins \"Closing Be...  \n",
       "4  \"Look for the stocks of high-quality companies...  "
      ]
     },
     "execution_count": 26,
     "metadata": {},
     "output_type": "execute_result"
    }
   ],
   "source": [
    "train_news_raw.head()"
   ]
  },
  {
   "cell_type": "code",
   "execution_count": 28,
   "id": "a49a935c-7772-421f-a96f-932f82c84ef0",
   "metadata": {},
   "outputs": [
    {
     "data": {
      "text/plain": [
       "(448306, 2)"
      ]
     },
     "execution_count": 28,
     "metadata": {},
     "output_type": "execute_result"
    }
   ],
   "source": [
    "train_news_raw.shape"
   ]
  },
  {
   "cell_type": "code",
   "execution_count": 3,
   "id": "bb9a0dbf-29c2-4d7a-9840-648628b87ee7",
   "metadata": {
    "tags": []
   },
   "outputs": [
    {
     "data": {
      "text/html": [
       "<div>\n",
       "<style scoped>\n",
       "    .dataframe tbody tr th:only-of-type {\n",
       "        vertical-align: middle;\n",
       "    }\n",
       "\n",
       "    .dataframe tbody tr th {\n",
       "        vertical-align: top;\n",
       "    }\n",
       "\n",
       "    .dataframe thead th {\n",
       "        text-align: right;\n",
       "    }\n",
       "</style>\n",
       "<table border=\"1\" class=\"dataframe\">\n",
       "  <thead>\n",
       "    <tr style=\"text-align: right;\">\n",
       "      <th></th>\n",
       "      <th>title</th>\n",
       "      <th>article</th>\n",
       "    </tr>\n",
       "  </thead>\n",
       "  <tbody>\n",
       "    <tr>\n",
       "      <th>385754</th>\n",
       "      <td>NaN</td>\n",
       "      <td>(Adds comments on China, Precision Castparts)\\...</td>\n",
       "    </tr>\n",
       "  </tbody>\n",
       "</table>\n",
       "</div>"
      ],
      "text/plain": [
       "       title                                            article\n",
       "385754   NaN  (Adds comments on China, Precision Castparts)\\..."
      ]
     },
     "execution_count": 3,
     "metadata": {},
     "output_type": "execute_result"
    }
   ],
   "source": [
    "train_news_raw[train_news_raw['title'].isna()]"
   ]
  },
  {
   "cell_type": "code",
   "execution_count": 4,
   "id": "6c2183df-272a-4bcc-a1cf-57e0e677f385",
   "metadata": {
    "tags": []
   },
   "outputs": [
    {
     "data": {
      "text/html": [
       "<div>\n",
       "<style scoped>\n",
       "    .dataframe tbody tr th:only-of-type {\n",
       "        vertical-align: middle;\n",
       "    }\n",
       "\n",
       "    .dataframe tbody tr th {\n",
       "        vertical-align: top;\n",
       "    }\n",
       "\n",
       "    .dataframe thead th {\n",
       "        text-align: right;\n",
       "    }\n",
       "</style>\n",
       "<table border=\"1\" class=\"dataframe\">\n",
       "  <thead>\n",
       "    <tr style=\"text-align: right;\">\n",
       "      <th></th>\n",
       "      <th>title</th>\n",
       "      <th>article</th>\n",
       "    </tr>\n",
       "  </thead>\n",
       "  <tbody>\n",
       "    <tr>\n",
       "      <th>35914</th>\n",
       "      <td>South Korea court cuts sentence for Daewoo fou...</td>\n",
       "      <td>NaN</td>\n",
       "    </tr>\n",
       "    <tr>\n",
       "      <th>36518</th>\n",
       "      <td>Asian shares gain as Dell earnings boost techs</td>\n",
       "      <td>NaN</td>\n",
       "    </tr>\n",
       "    <tr>\n",
       "      <th>37362</th>\n",
       "      <td>Asia central banks unlikely to follow Thailand</td>\n",
       "      <td>NaN</td>\n",
       "    </tr>\n",
       "    <tr>\n",
       "      <th>37396</th>\n",
       "      <td>CORRECTED: FedEx profit up but outlook disappo...</td>\n",
       "      <td>NaN</td>\n",
       "    </tr>\n",
       "    <tr>\n",
       "      <th>37747</th>\n",
       "      <td>Stocks seen weaker, eyes on economic data</td>\n",
       "      <td>NaN</td>\n",
       "    </tr>\n",
       "    <tr>\n",
       "      <th>...</th>\n",
       "      <td>...</td>\n",
       "      <td>...</td>\n",
       "    </tr>\n",
       "    <tr>\n",
       "      <th>141918</th>\n",
       "      <td>Boeing to decide soon where to build new 777</td>\n",
       "      <td>NaN</td>\n",
       "    </tr>\n",
       "    <tr>\n",
       "      <th>141948</th>\n",
       "      <td>Analysis: As market bubbles form, investors ma...</td>\n",
       "      <td>NaN</td>\n",
       "    </tr>\n",
       "    <tr>\n",
       "      <th>141990</th>\n",
       "      <td>Brazil's BNDES refuses to extend loan to OSX</td>\n",
       "      <td>NaN</td>\n",
       "    </tr>\n",
       "    <tr>\n",
       "      <th>142035</th>\n",
       "      <td>Petronas rescinds $850 million deal for stake ...</td>\n",
       "      <td>NaN</td>\n",
       "    </tr>\n",
       "    <tr>\n",
       "      <th>253514</th>\n",
       "      <td>Letter to the Editor: EPA Pebble Mine Move Is ...</td>\n",
       "      <td>NaN</td>\n",
       "    </tr>\n",
       "  </tbody>\n",
       "</table>\n",
       "<p>1136 rows × 2 columns</p>\n",
       "</div>"
      ],
      "text/plain": [
       "                                                    title article\n",
       "35914   South Korea court cuts sentence for Daewoo fou...     NaN\n",
       "36518      Asian shares gain as Dell earnings boost techs     NaN\n",
       "37362      Asia central banks unlikely to follow Thailand     NaN\n",
       "37396   CORRECTED: FedEx profit up but outlook disappo...     NaN\n",
       "37747           Stocks seen weaker, eyes on economic data     NaN\n",
       "...                                                   ...     ...\n",
       "141918       Boeing to decide soon where to build new 777     NaN\n",
       "141948  Analysis: As market bubbles form, investors ma...     NaN\n",
       "141990       Brazil's BNDES refuses to extend loan to OSX     NaN\n",
       "142035  Petronas rescinds $850 million deal for stake ...     NaN\n",
       "253514  Letter to the Editor: EPA Pebble Mine Move Is ...     NaN\n",
       "\n",
       "[1136 rows x 2 columns]"
      ]
     },
     "execution_count": 4,
     "metadata": {},
     "output_type": "execute_result"
    }
   ],
   "source": [
    "train_news_raw[train_news_raw['article'].isna()]"
   ]
  },
  {
   "cell_type": "code",
   "execution_count": 2,
   "id": "9495cdd1-f3e5-4da3-9719-d94e5c16d462",
   "metadata": {
    "tags": []
   },
   "outputs": [],
   "source": [
    "train_news_raw = pd.read_csv('../data/external/concatenated/train_news_raw.csv')"
   ]
  },
  {
   "cell_type": "code",
   "execution_count": 3,
   "id": "5ede108e-a9b1-43d1-bf5f-f3d67ad1059a",
   "metadata": {
    "tags": []
   },
   "outputs": [
    {
     "data": {
      "text/html": [
       "<div>\n",
       "<style scoped>\n",
       "    .dataframe tbody tr th:only-of-type {\n",
       "        vertical-align: middle;\n",
       "    }\n",
       "\n",
       "    .dataframe tbody tr th {\n",
       "        vertical-align: top;\n",
       "    }\n",
       "\n",
       "    .dataframe thead th {\n",
       "        text-align: right;\n",
       "    }\n",
       "</style>\n",
       "<table border=\"1\" class=\"dataframe\">\n",
       "  <thead>\n",
       "    <tr style=\"text-align: right;\">\n",
       "      <th></th>\n",
       "      <th>title</th>\n",
       "      <th>article</th>\n",
       "    </tr>\n",
       "  </thead>\n",
       "  <tbody>\n",
       "    <tr>\n",
       "      <th>0</th>\n",
       "      <td>Jim Cramer: A better way to invest in the Covi...</td>\n",
       "      <td>\"Mad Money\" host Jim Cramer recommended buying...</td>\n",
       "    </tr>\n",
       "    <tr>\n",
       "      <th>1</th>\n",
       "      <td>Cramer's lightning round: I would own Teradyne</td>\n",
       "      <td>\"Mad Money\" host Jim Cramer rings the lightnin...</td>\n",
       "    </tr>\n",
       "    <tr>\n",
       "      <th>2</th>\n",
       "      <td>Cramer's week ahead: Big week for earnings, ev...</td>\n",
       "      <td>\"We'll pay more for the earnings of the non-Co...</td>\n",
       "    </tr>\n",
       "    <tr>\n",
       "      <th>3</th>\n",
       "      <td>IQ Capital CEO Keith Bliss says tech and healt...</td>\n",
       "      <td>Keith Bliss, IQ Capital CEO, joins \"Closing Be...</td>\n",
       "    </tr>\n",
       "    <tr>\n",
       "      <th>4</th>\n",
       "      <td>Wall Street delivered the 'kind of pullback I'...</td>\n",
       "      <td>\"Look for the stocks of high-quality companies...</td>\n",
       "    </tr>\n",
       "  </tbody>\n",
       "</table>\n",
       "</div>"
      ],
      "text/plain": [
       "                                               title   \n",
       "0  Jim Cramer: A better way to invest in the Covi...  \\\n",
       "1     Cramer's lightning round: I would own Teradyne   \n",
       "2  Cramer's week ahead: Big week for earnings, ev...   \n",
       "3  IQ Capital CEO Keith Bliss says tech and healt...   \n",
       "4  Wall Street delivered the 'kind of pullback I'...   \n",
       "\n",
       "                                             article  \n",
       "0  \"Mad Money\" host Jim Cramer recommended buying...  \n",
       "1  \"Mad Money\" host Jim Cramer rings the lightnin...  \n",
       "2  \"We'll pay more for the earnings of the non-Co...  \n",
       "3  Keith Bliss, IQ Capital CEO, joins \"Closing Be...  \n",
       "4  \"Look for the stocks of high-quality companies...  "
      ]
     },
     "execution_count": 3,
     "metadata": {},
     "output_type": "execute_result"
    }
   ],
   "source": [
    "train_news_raw.head()"
   ]
  },
  {
   "cell_type": "code",
   "execution_count": 5,
   "id": "ac8ce76f-a80b-4164-9a24-58633ced1edd",
   "metadata": {
    "tags": []
   },
   "outputs": [],
   "source": [
    "train_news_raw.dropna(inplace=True)\n",
    "train_news_raw.drop_duplicates(inplace=True)"
   ]
  },
  {
   "cell_type": "code",
   "execution_count": 6,
   "id": "be9f0ad7-b3b8-4ec8-a47b-6cf1a5e713df",
   "metadata": {
    "tags": []
   },
   "outputs": [
    {
     "data": {
      "text/plain": [
       "(442457, 2)"
      ]
     },
     "execution_count": 6,
     "metadata": {},
     "output_type": "execute_result"
    }
   ],
   "source": [
    "train_news_raw.shape"
   ]
  },
  {
   "cell_type": "code",
   "execution_count": 7,
   "id": "f25a5c76-38bb-4ed2-8638-6b3b9bc5930d",
   "metadata": {
    "tags": []
   },
   "outputs": [
    {
     "data": {
      "image/png": "[encoded data removed]",
      "text/plain": [
       "<Figure size 1000x500 with 2 Axes>"
      ]
     },
     "metadata": {},
     "output_type": "display_data"
    }
   ],
   "source": [
    "fig, (ax1, ax2) = plt.subplots(1, 2, figsize=(10, 5))\n",
    "\n",
    "title_len=train_news_raw.sample(100000)['title'].str.split().map(len)\n",
    "ax1.hist(title_len, color='red')\n",
    "ax1.set_title('title')\n",
    "\n",
    "title_len=train_news_raw.sample(100000)['article'].str.split().map(len)\n",
    "ax2.hist(title_len, color='blue')\n",
    "ax2.set_title('article')\n",
    "\n",
    "fig.suptitle('Words in a Text')\n",
    "plt.show()"
   ]
  },
  {
   "cell_type": "code",
   "execution_count": 7,
   "id": "8757e4c3-bb6b-46d7-ae6f-0d4c287e0dea",
   "metadata": {
    "tags": []
   },
   "outputs": [],
   "source": [
    "train_news_raw.to_csv('../data/external/concatenated/train_news_raw.csv', index=False)"
   ]
  },
  {
   "cell_type": "code",
   "execution_count": null,
   "id": "ba3184ce-7db4-4908-ae64-bd3753a5ee7b",
   "metadata": {},
   "outputs": [],
   "source": []
  }
 ],
 "metadata": {
  "kernelspec": {
   "display_name": "Python 3 (ipykernel)",
   "language": "python",
   "name": "python3"
  },
  "language_info": {
   "codemirror_mode": {
    "name": "ipython",
    "version": 3
   },
   "file_extension": ".py",
   "mimetype": "text/x-python",
   "name": "python",
   "nbconvert_exporter": "python",
   "pygments_lexer": "ipython3",
   "version": "3.10.6"
  }
 },
 "nbformat": 4,
 "nbformat_minor": 5
}
